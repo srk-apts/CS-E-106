{
 "cells": [
  {
   "cell_type": "markdown",
   "metadata": {},
   "source": [
    "# CS-E-106: Data Modeling\n",
    "## Fall 2019: Lab 07"
   ]
  },
  {
   "cell_type": "code",
   "execution_count": 1,
   "metadata": {},
   "outputs": [],
   "source": [
    "import numpy as np\n",
    "import pandas as pd\n",
    "from scipy import stats\n",
    "import statsmodels.api as sm\n",
    "from statsmodels.formula.api import ols\n",
    "from statsmodels.stats.anova import anova_lm\n",
    "import seaborn as sns\n",
    "import matplotlib.pyplot as plt\n",
    "from statsmodels.graphics import gofplots\n",
    "import pylab"
   ]
  },
  {
   "cell_type": "markdown",
   "metadata": {},
   "source": [
    "## Section Problems\n",
    "\n",
    "### (7.04) Reference to Grocery retailer Problem 6.9.\n",
    "A large,national grocery retailer tracks productivity and costs of its facilities closely. Data were obtained from a single distribution center for a one-year period. Each data point for each variable represents one week of activity. The variables included are the number of cases shipped $(X_1)$, the indirect costs of the total labor hours as a percentage $(X_2)$, a qualitative predictor called holiday that is coded $1$ if the week has a holiday and $0$ otherwise $(X_3)$, and the total labor hours $(Y)$.\n",
    "\n",
    "*Please use dataset titled **CH06PR09.txt** when applicable*"
   ]
  },
  {
   "cell_type": "code",
   "execution_count": 2,
   "metadata": {},
   "outputs": [],
   "source": [
    "df_704 = pd.read_table(\"data/CH06PR09.txt\", header=None, \n",
    "                       names = [\"laborHours\", \"shippedCases\", \"indirectCosts\", \"holiday\"])"
   ]
  },
  {
   "cell_type": "markdown",
   "metadata": {},
   "source": [
    "a. Obtain the analysis of variance table that decomposes the regression sum of squares into extra sums of squares associated with $X_1$; with $X_3$, given $X_1$; and with $X_2$, given $X_1$ and $X_3$."
   ]
  },
  {
   "cell_type": "code",
   "execution_count": 3,
   "metadata": {},
   "outputs": [
    {
     "data": {
      "text/html": [
       "<table class=\"simpletable\">\n",
       "<tr>\n",
       "        <td>Model:</td>               <td>OLS</td>         <td>Adj. R-squared:</td>     <td>0.669</td> \n",
       "</tr>\n",
       "<tr>\n",
       "  <td>Dependent Variable:</td>    <td>laborHours</td>           <td>AIC:</td>         <td>667.7535</td>\n",
       "</tr>\n",
       "<tr>\n",
       "         <td>Date:</td>        <td>2019-11-11 23:17</td>        <td>BIC:</td>         <td>675.5585</td>\n",
       "</tr>\n",
       "<tr>\n",
       "   <td>No. Observations:</td>         <td>52</td>          <td>Log-Likelihood:</td>    <td>-329.88</td>\n",
       "</tr>\n",
       "<tr>\n",
       "       <td>Df Model:</td>              <td>3</td>           <td>F-statistic:</td>       <td>35.34</td> \n",
       "</tr>\n",
       "<tr>\n",
       "     <td>Df Residuals:</td>           <td>48</td>        <td>Prob (F-statistic):</td> <td>3.32e-12</td>\n",
       "</tr>\n",
       "<tr>\n",
       "      <td>R-squared:</td>            <td>0.688</td>            <td>Scale:</td>         <td>20532.</td> \n",
       "</tr>\n",
       "</table>\n",
       "<table class=\"simpletable\">\n",
       "<tr>\n",
       "        <td></td>          <th>Coef.</th>   <th>Std.Err.</th>    <th>t</th>     <th>P>|t|</th>  <th>[0.025</th>    <th>0.975]</th>  \n",
       "</tr>\n",
       "<tr>\n",
       "  <th>Intercept</th>     <td>4149.8872</td> <td>195.5654</td> <td>21.2199</td> <td>0.0000</td> <td>3756.6766</td> <td>4543.0978</td>\n",
       "</tr>\n",
       "<tr>\n",
       "  <th>shippedCases</th>   <td>0.0008</td>    <td>0.0004</td>  <td>2.1590</td>  <td>0.0359</td>  <td>0.0001</td>    <td>0.0015</td>  \n",
       "</tr>\n",
       "<tr>\n",
       "  <th>holiday</th>       <td>623.5545</td>   <td>62.6409</td> <td>9.9544</td>  <td>0.0000</td> <td>497.6064</td>  <td>749.5025</td> \n",
       "</tr>\n",
       "<tr>\n",
       "  <th>indirectCosts</th> <td>-13.1660</td>   <td>23.0917</td> <td>-0.5702</td> <td>0.5712</td> <td>-59.5951</td>   <td>33.2630</td> \n",
       "</tr>\n",
       "</table>\n",
       "<table class=\"simpletable\">\n",
       "<tr>\n",
       "     <td>Omnibus:</td>    <td>1.532</td>  <td>Durbin-Watson:</td>    <td>2.298</td> \n",
       "</tr>\n",
       "<tr>\n",
       "  <td>Prob(Omnibus):</td> <td>0.465</td> <td>Jarque-Bera (JB):</td>  <td>1.504</td> \n",
       "</tr>\n",
       "<tr>\n",
       "       <td>Skew:</td>     <td>0.332</td>     <td>Prob(JB):</td>      <td>0.471</td> \n",
       "</tr>\n",
       "<tr>\n",
       "     <td>Kurtosis:</td>   <td>2.496</td>  <td>Condition No.:</td>   <td>3042750</td>\n",
       "</tr>\n",
       "</table>"
      ],
      "text/plain": [
       "<class 'statsmodels.iolib.summary2.Summary'>\n",
       "\"\"\"\n",
       "                  Results: Ordinary least squares\n",
       "===================================================================\n",
       "Model:                OLS              Adj. R-squared:     0.669   \n",
       "Dependent Variable:   laborHours       AIC:                667.7535\n",
       "Date:                 2019-11-11 23:17 BIC:                675.5585\n",
       "No. Observations:     52               Log-Likelihood:     -329.88 \n",
       "Df Model:             3                F-statistic:        35.34   \n",
       "Df Residuals:         48               Prob (F-statistic): 3.32e-12\n",
       "R-squared:            0.688            Scale:              20532.  \n",
       "-------------------------------------------------------------------\n",
       "                Coef.   Std.Err.    t    P>|t|    [0.025    0.975] \n",
       "-------------------------------------------------------------------\n",
       "Intercept     4149.8872 195.5654 21.2199 0.0000 3756.6766 4543.0978\n",
       "shippedCases     0.0008   0.0004  2.1590 0.0359    0.0001    0.0015\n",
       "holiday        623.5545  62.6409  9.9544 0.0000  497.6064  749.5025\n",
       "indirectCosts  -13.1660  23.0917 -0.5702 0.5712  -59.5951   33.2630\n",
       "-------------------------------------------------------------------\n",
       "Omnibus:              1.532        Durbin-Watson:           2.298  \n",
       "Prob(Omnibus):        0.465        Jarque-Bera (JB):        1.504  \n",
       "Skew:                 0.332        Prob(JB):                0.471  \n",
       "Kurtosis:             2.496        Condition No.:           3042750\n",
       "===================================================================\n",
       "* The condition number is large (3e+06). This might indicate\n",
       "strong multicollinearity or other numerical problems.\n",
       "\"\"\""
      ]
     },
     "execution_count": 3,
     "metadata": {},
     "output_type": "execute_result"
    }
   ],
   "source": [
    "lmFit_704 = ols(\"laborHours ~ shippedCases+holiday+indirectCosts\", data=df_704).fit()\n",
    "lmFit_704.summary2()"
   ]
  },
  {
   "cell_type": "code",
   "execution_count": 4,
   "metadata": {},
   "outputs": [
    {
     "data": {
      "text/html": [
       "<div>\n",
       "<style scoped>\n",
       "    .dataframe tbody tr th:only-of-type {\n",
       "        vertical-align: middle;\n",
       "    }\n",
       "\n",
       "    .dataframe tbody tr th {\n",
       "        vertical-align: top;\n",
       "    }\n",
       "\n",
       "    .dataframe thead th {\n",
       "        text-align: right;\n",
       "    }\n",
       "</style>\n",
       "<table border=\"1\" class=\"dataframe\">\n",
       "  <thead>\n",
       "    <tr style=\"text-align: right;\">\n",
       "      <th></th>\n",
       "      <th>df</th>\n",
       "      <th>sum_sq</th>\n",
       "      <th>mean_sq</th>\n",
       "      <th>F</th>\n",
       "      <th>PR(&gt;F)</th>\n",
       "    </tr>\n",
       "  </thead>\n",
       "  <tbody>\n",
       "    <tr>\n",
       "      <th>shippedCases</th>\n",
       "      <td>1.0</td>\n",
       "      <td>1.363662e+05</td>\n",
       "      <td>1.363662e+05</td>\n",
       "      <td>6.641687</td>\n",
       "      <td>1.309038e-02</td>\n",
       "    </tr>\n",
       "    <tr>\n",
       "      <th>holiday</th>\n",
       "      <td>1.0</td>\n",
       "      <td>2.033565e+06</td>\n",
       "      <td>2.033565e+06</td>\n",
       "      <td>99.044333</td>\n",
       "      <td>2.963340e-13</td>\n",
       "    </tr>\n",
       "    <tr>\n",
       "      <th>indirectCosts</th>\n",
       "      <td>1.0</td>\n",
       "      <td>6.674588e+03</td>\n",
       "      <td>6.674588e+03</td>\n",
       "      <td>0.325084</td>\n",
       "      <td>5.712274e-01</td>\n",
       "    </tr>\n",
       "    <tr>\n",
       "      <th>Residual</th>\n",
       "      <td>48.0</td>\n",
       "      <td>9.855297e+05</td>\n",
       "      <td>2.053187e+04</td>\n",
       "      <td>NaN</td>\n",
       "      <td>NaN</td>\n",
       "    </tr>\n",
       "  </tbody>\n",
       "</table>\n",
       "</div>"
      ],
      "text/plain": [
       "                 df        sum_sq       mean_sq          F        PR(>F)\n",
       "shippedCases    1.0  1.363662e+05  1.363662e+05   6.641687  1.309038e-02\n",
       "holiday         1.0  2.033565e+06  2.033565e+06  99.044333  2.963340e-13\n",
       "indirectCosts   1.0  6.674588e+03  6.674588e+03   0.325084  5.712274e-01\n",
       "Residual       48.0  9.855297e+05  2.053187e+04        NaN           NaN"
      ]
     },
     "execution_count": 4,
     "metadata": {},
     "output_type": "execute_result"
    }
   ],
   "source": [
    "anovaTable = anova_lm(lmFit_704)\n",
    "anovaTable"
   ]
  },
  {
   "cell_type": "markdown",
   "metadata": {},
   "source": [
    "b. Test whether $X_2$ can be dropped from the regression model given that $X_1$, and $X_3$ are retained. Use the F* test statistic and $\\alpha = .05$. State the alternatives, decision rule, and conclusion. What is the P-value of the test?"
   ]
  },
  {
   "cell_type": "code",
   "execution_count": 5,
   "metadata": {},
   "outputs": [
    {
     "name": "stdout",
     "output_type": "stream",
     "text": [
      "6674.58808589122\n",
      "985529.7463938453\n",
      "0.32508428009918805\n",
      "4.042652128566653\n"
     ]
    }
   ],
   "source": [
    "ssr = anovaTable[\"sum_sq\"][\"indirectCosts\"]\n",
    "print(ssr)\n",
    "sse = anovaTable[\"sum_sq\"][\"Residual\"]\n",
    "print(sse)\n",
    "\n",
    "fStar = (ssr/1) / (sse/anovaTable[\"df\"][\"Residual\"])\n",
    "print(fStar)\n",
    "\n",
    "alpha = 0.05\n",
    "\n",
    "db = stats.f.ppf(1 -alpha, 1, lmFit_704.df_resid)\n",
    "print(db)"
   ]
  },
  {
   "cell_type": "markdown",
   "metadata": {},
   "source": [
    "\\underline{\\textbf{ANALYSIS}}\n",
    "\n",
    "\\textbf{Hypotheses:}\n",
    "\n",
    "$H_0: \\beta_2 = 0$ \n",
    "\n",
    "$H_a: \\beta_2 \\neq 0$ \n",
    "\n",
    "\n",
    "\\textbf{Decision Rules:}\n",
    "\n",
    "If $F^* \\leq$ `r db`, conclude $H_0$\n",
    "\n",
    "If $F^* >$ `r db`, conclude $H_a$\n",
    "\n",
    "\\textbf{Conclusion:}\n",
    "\n",
    "Since our test statistic, $F^* =$ `r fStar`, and `r fStar` $\\leq$ `r db`, we conclude $H_0$."
   ]
  },
  {
   "cell_type": "markdown",
   "metadata": {},
   "source": [
    "**(c)** \n",
    "\n",
    "Does $SSR(X_1)$ + $SSR(X_2 | X_1)$ equal $SSR(X_2)$ + $SSR(X_1|X_2)$ here? Must this always be the case?\n",
    "(Does our sum of squares associated with x1 plus sum of squares associated with x2 given x1 equal sum of squares associated with x2 plus sum of squares associated with x1 given x2?) "
   ]
  },
  {
   "cell_type": "code",
   "execution_count": 6,
   "metadata": {},
   "outputs": [
    {
     "name": "stdout",
     "output_type": "stream",
     "text": [
      "142092.0\n",
      "142092.0\n"
     ]
    }
   ],
   "source": [
    "ssr_x1 = anova_lm(ols(\"laborHours~shippedCases+indirectCosts\", data=df_704).fit())[\"sum_sq\"][\"shippedCases\"]\n",
    "ssr_x2x1 = anova_lm(ols(\"laborHours~shippedCases+indirectCosts\", data=df_704).fit())[\"sum_sq\"][\"indirectCosts\"]\n",
    "eq1_sum = np.round(ssr_x1+ssr_x2x1)\n",
    "print(eq1_sum)\n",
    "\n",
    "ssr_x2 = anova_lm(ols(\"laborHours~shippedCases+indirectCosts\", data=df_704).fit())[\"sum_sq\"][\"indirectCosts\"]\n",
    "ssr_x1x2 = anova_lm(ols(\"laborHours~shippedCases+indirectCosts\", data=df_704).fit())[\"sum_sq\"][\"shippedCases\"]\n",
    "eq2_sum = np.round(ssr_x2+ssr_x1x2)\n",
    "\n",
    "print(eq2_sum)"
   ]
  },
  {
   "cell_type": "markdown",
   "metadata": {},
   "source": [
    "\\underline{\\textbf{ANALYSIS}}\n",
    "\n",
    "We can calculate this mathematically to see if $SSR(X_1)$ + $SSR(X_2 | X_1)$ = $SSR(X_2)$ + $SSR(X_1|X_2)$.\n",
    "\n",
    "\\textbf{Equation 1: } $SSR(X_1) + SSR(X_2 | X_1)$\n",
    "\n",
    "$$SSR(X_1) + SSR(X_2 | X_1)$$\n",
    "\n",
    "\\textbf{Equation 2: } $SSR(X_2) + SSR(X_1|X_2)$\n",
    "\n",
    "$$SSR(X_2) + SSR(X_1|X_2)$$\n",
    "\n",
    "Combining equation 1 and equation 2:\n",
    "        \n",
    "$$SSR(X_1) + SSR(X_2 | X_1) = SSR(X_2) + SSR(X_1|X_2)$$\n",
    "\n",
    "\n",
    "As a result, we see that $SSR(X_1) + SSR(X_2 | X_1) = SSR(X_2) + SSR(X_1|X_2)$. It will always be the case where the expressions are equivalent because of the inherent symmetry of the models.\n"
   ]
  },
  {
   "cell_type": "markdown",
   "metadata": {},
   "source": [
    "### (7.38) Projects. Reference to SENIC data set in Appendix C.1.\n",
    "The primary objective of the Study on the Efficacy of Nosocomial Infection Control (SENIC Project) was to determine whether infection surveillance and control programs have reduced the rates of nosocomial (hospital-acquired) infection in United States hospitals. This data set consists of a random sample of 113 hospitals selected from the original 338 hospitals surveyed. Each line of the dataset has an identification number and provides information on 11 variables for a single hospital. The data presented here are for the 1975-76 study period.\n",
    "\n",
    "*Please use dataset titled **APPENC01.txt** when applicable*\n",
    "\n",
    "\n",
    "For predicting the average length of stay of patients in a hospital $(Y)$, it has been decided to include age $(X_1)$ and infection risk $(X_2)$ as predictor variables. The question now is whether an additional predictor variable would be helpful in the model and, if so, which variable would be most helpful. Assume that a first-order multiple regression model is appropriate.\n",
    "\n",
    "\n",
    "**(a)** \n",
    "\n",
    "For each of the following variables, calculate the coefficient of partial determination given that $X_1$ and $X_2$ are included in the model: routine culturing ratio $(X_3)$, average daily census $(X_4)$, number of nurses $(X_5)$, and available facilities and services $(X_6)$."
   ]
  },
  {
   "cell_type": "code",
   "execution_count": 7,
   "metadata": {},
   "outputs": [
    {
     "ename": "AttributeError",
     "evalue": "module 'pandas' has no attribute 'read'",
     "output_type": "error",
     "traceback": [
      "\u001b[0;31m---------------------------------------------------------------------------\u001b[0m",
      "\u001b[0;31mAttributeError\u001b[0m                            Traceback (most recent call last)",
      "\u001b[0;32m<ipython-input-7-f10a5c923ea6>\u001b[0m in \u001b[0;36m<module>\u001b[0;34m\u001b[0m\n\u001b[1;32m      1\u001b[0m \u001b[0mcols\u001b[0m \u001b[0;34m=\u001b[0m \u001b[0;34m[\u001b[0m\u001b[0;34m\"Y\"\u001b[0m\u001b[0;34m,\u001b[0m\u001b[0;34m\"X1\"\u001b[0m\u001b[0;34m,\u001b[0m\u001b[0;34m\"X2\"\u001b[0m\u001b[0;34m,\u001b[0m\u001b[0;34m\"X3\"\u001b[0m\u001b[0;34m,\u001b[0m\u001b[0;34m\"X4\"\u001b[0m\u001b[0;34m,\u001b[0m\u001b[0;34m\"X5\"\u001b[0m\u001b[0;34m,\u001b[0m\u001b[0;34m\"X6\"\u001b[0m\u001b[0;34m]\u001b[0m\u001b[0;34m\u001b[0m\u001b[0;34m\u001b[0m\u001b[0m\n\u001b[0;32m----> 2\u001b[0;31m df_738 = pd.read(\"data/APPENC01.txt\", header=None, delimiter=\" \"\n\u001b[0m\u001b[1;32m      3\u001b[0m \u001b[0;31m#                        usecols=[1,2,3,4,9,10,11],\u001b[0m\u001b[0;34m\u001b[0m\u001b[0;34m\u001b[0m\u001b[0;34m\u001b[0m\u001b[0m\n\u001b[1;32m      4\u001b[0m \u001b[0;31m#                        names = cols\u001b[0m\u001b[0;34m\u001b[0m\u001b[0;34m\u001b[0m\u001b[0;34m\u001b[0m\u001b[0m\n\u001b[1;32m      5\u001b[0m                       )\n",
      "\u001b[0;32m~/anaconda3/lib/python3.7/site-packages/pandas/__init__.py\u001b[0m in \u001b[0;36m__getattr__\u001b[0;34m(name)\u001b[0m\n\u001b[1;32m    212\u001b[0m \u001b[0;34m\u001b[0m\u001b[0m\n\u001b[1;32m    213\u001b[0m             \u001b[0;32mreturn\u001b[0m \u001b[0mPanel\u001b[0m\u001b[0;34m\u001b[0m\u001b[0;34m\u001b[0m\u001b[0m\n\u001b[0;32m--> 214\u001b[0;31m         \u001b[0;32mraise\u001b[0m \u001b[0mAttributeError\u001b[0m\u001b[0;34m(\u001b[0m\u001b[0;34m\"module 'pandas' has no attribute '{}'\"\u001b[0m\u001b[0;34m.\u001b[0m\u001b[0mformat\u001b[0m\u001b[0;34m(\u001b[0m\u001b[0mname\u001b[0m\u001b[0;34m)\u001b[0m\u001b[0;34m)\u001b[0m\u001b[0;34m\u001b[0m\u001b[0;34m\u001b[0m\u001b[0m\n\u001b[0m\u001b[1;32m    215\u001b[0m \u001b[0;34m\u001b[0m\u001b[0m\n\u001b[1;32m    216\u001b[0m \u001b[0;34m\u001b[0m\u001b[0m\n",
      "\u001b[0;31mAttributeError\u001b[0m: module 'pandas' has no attribute 'read'"
     ]
    }
   ],
   "source": [
    "cols = [\"Y\",\"X1\",\"X2\",\"X3\",\"X4\",\"X5\",\"X6\"]\n",
    "df_738 = pd.read_table(\"data/APPENC01.txt\", header=None, delimiter=\" \"\n",
    "#                        usecols=[1,2,3,4,9,10,11], \n",
    "#                        names = cols\n",
    "                      )\n",
    "df_738"
   ]
  },
  {
   "cell_type": "markdown",
   "metadata": {},
   "source": [
    "**Note:** Need to figure out how to read this text data. However, problem 7.38 parts (a), (b) and (c) are very similar to the questions covered in HW6. Please refer to the respective Jupyter notebook for HW6."
   ]
  },
  {
   "cell_type": "markdown",
   "metadata": {},
   "source": [
    "### (8.21) In a regression analysis of on-the-job head injuries of warehouse laborers caused by fulling objects, $Y$ is a measure of severity of the injury, $X_1$ is an index inflecting both the weight of the object and the distance it fell, and $X_2$ and $X_3$ are indicator variables for nature of head protection worn at the time of the accident, coded as follows:\n",
    "\n",
    "| Type of Prediction | $X_2$ | $X_3$ |\n",
    "|:------------------:|:-----:|:-----:|\n",
    "|      Hard Hat      |   1   |   0   |\n",
    "|      Bump Cap      |   0   |   1   |\n",
    "|        None        |   0   |   0   |\n",
    "\n",
    "\n",
    "The response function to be used in the study is $E\\{Y\\} = \\beta_0 + \\beta_1 X_1 + \\beta_2 X_2 + \\beta_3 X_3$.\n",
    "\n",
    "**(a)** \n",
    "\n",
    "Develop the response function for each type of protection category.\n"
   ]
  },
  {
   "cell_type": "markdown",
   "metadata": {},
   "source": [
    "<!-- Input solution below -->\n",
    "\n",
    "| Protection Category | Response Function |\n",
    "|:-------------------:|:----------------:|\n",
    "|      Hard Hat      |$E\\{Y\\} = (\\beta_0+\\beta_2) + \\beta_1 X_1$|\n",
    "|      Bump Cap      |$E\\{Y\\} = (\\beta_0+\\beta_3) + \\beta_1 X_1$|\n",
    "|        None        |$E\\{Y\\} = \\beta_0 + \\beta_1 X_1$|\n",
    "\n",
    "<!-- End of solution -->\n",
    "\n",
    "The response function used in the study implies that the regression of protection on head injuries is linear, with the same slope for all types of protections. The coefficients ($\\beta_2, \\beta_3$) indicate how much lower or higher the response functions for the protections models are than the no-protection category (e.g., 'None'). Thus, $\\beta_2$ and $\\beta_3$ measures the differential effects of the qualitative variable class. Differential effects of one qualitative variable on the intercept depend on the particular class of the other qualitative variable."
   ]
  },
  {
   "cell_type": "markdown",
   "metadata": {},
   "source": [
    "**(b)** \n",
    "\n",
    "For each of the following questions, specify the alternatives $H_0$ and $H_a$ for the appropriate test: (1) With $X_1$ fixed, does wearing a bump cap reduce the expected severity of injury as compared with wearing no protection? (2) With $X_1$ fixed, is the expected severity of injury the same when wearing a hard hat as when wearing a bump cap?"
   ]
  },
  {
   "cell_type": "markdown",
   "metadata": {},
   "source": [
    "1. With $X_1$ fixed, does wearing a bump cap reduce the expected severity of injury as compared with wearing no protection? Null and alternative hypotheses as follows:\n",
    "$$\n",
    "H_0: \\beta_3 \\geq 0\\\\\n",
    "H_a: \\beta_3 < 0\n",
    "$$\n",
    "\n",
    "2. With $X_1$ fixed, is the expected severity of injury the same when wearing a hard hat as when wearing a bump cap? Null and alternative hypotheses as follows:\n",
    "\n",
    "$$\n",
    "H_0: \\beta_2 = \\beta_3\\\\\n",
    "H_a: \\beta_2 \\neq \\beta_3\n",
    "$$"
   ]
  },
  {
   "cell_type": "markdown",
   "metadata": {},
   "source": [
    "### (8.38) Projects. Reference to SENIC data set in Appendix C.1.\n",
    "The primary objective of the Study on the Efficacy of Nosocomial Infection Control (SENIC Project) was to determine whether infection surveillance and control programs have reduced the rates of nosocomial (hospital-acquired) infection in United States hospitals. This data set consists of a random sample of 113 hospitals selected from the original 338 hospitals surveyed. Each line of the dataset has an identification number and provides information on 11 variables for a single hospital. The data presented here are for the 1975-76 studyperiod."
   ]
  },
  {
   "cell_type": "code",
   "execution_count": 13,
   "metadata": {},
   "outputs": [
    {
     "ename": "TypeError",
     "evalue": "Passing a bool to header is invalid. Use header=None for no header or header=int or list-like of ints to specify the row(s) making up the column names",
     "output_type": "error",
     "traceback": [
      "\u001b[0;31m---------------------------------------------------------------------------\u001b[0m",
      "\u001b[0;31mTypeError\u001b[0m                                 Traceback (most recent call last)",
      "\u001b[0;32m<ipython-input-13-ae22c9cf1b7d>\u001b[0m in \u001b[0;36m<module>\u001b[0;34m\u001b[0m\n\u001b[0;32m----> 1\u001b[0;31m \u001b[0mdf_838\u001b[0m  \u001b[0;34m=\u001b[0m \u001b[0mpd\u001b[0m\u001b[0;34m.\u001b[0m\u001b[0mread_table\u001b[0m\u001b[0;34m(\u001b[0m\u001b[0;34m\"data/APPENC01.txt\"\u001b[0m\u001b[0;34m,\u001b[0m \u001b[0mheader\u001b[0m\u001b[0;34m=\u001b[0m\u001b[0;32mFalse\u001b[0m\u001b[0;34m,\u001b[0m \u001b[0msep\u001b[0m\u001b[0;34m=\u001b[0m\u001b[0;34m\"\"\u001b[0m\u001b[0;34m)\u001b[0m\u001b[0;34m\u001b[0m\u001b[0;34m\u001b[0m\u001b[0m\n\u001b[0m\u001b[1;32m      2\u001b[0m \u001b[0mdf_838\u001b[0m\u001b[0;34m\u001b[0m\u001b[0;34m\u001b[0m\u001b[0m\n",
      "\u001b[0;32m~/anaconda3/lib/python3.7/site-packages/pandas/io/parsers.py\u001b[0m in \u001b[0;36mparser_f\u001b[0;34m(filepath_or_buffer, sep, delimiter, header, names, index_col, usecols, squeeze, prefix, mangle_dupe_cols, dtype, engine, converters, true_values, false_values, skipinitialspace, skiprows, skipfooter, nrows, na_values, keep_default_na, na_filter, verbose, skip_blank_lines, parse_dates, infer_datetime_format, keep_date_col, date_parser, dayfirst, cache_dates, iterator, chunksize, compression, thousands, decimal, lineterminator, quotechar, quoting, doublequote, escapechar, comment, encoding, dialect, error_bad_lines, warn_bad_lines, delim_whitespace, low_memory, memory_map, float_precision)\u001b[0m\n\u001b[1;32m    683\u001b[0m         )\n\u001b[1;32m    684\u001b[0m \u001b[0;34m\u001b[0m\u001b[0m\n\u001b[0;32m--> 685\u001b[0;31m         \u001b[0;32mreturn\u001b[0m \u001b[0m_read\u001b[0m\u001b[0;34m(\u001b[0m\u001b[0mfilepath_or_buffer\u001b[0m\u001b[0;34m,\u001b[0m \u001b[0mkwds\u001b[0m\u001b[0;34m)\u001b[0m\u001b[0;34m\u001b[0m\u001b[0;34m\u001b[0m\u001b[0m\n\u001b[0m\u001b[1;32m    686\u001b[0m \u001b[0;34m\u001b[0m\u001b[0m\n\u001b[1;32m    687\u001b[0m     \u001b[0mparser_f\u001b[0m\u001b[0;34m.\u001b[0m\u001b[0m__name__\u001b[0m \u001b[0;34m=\u001b[0m \u001b[0mname\u001b[0m\u001b[0;34m\u001b[0m\u001b[0;34m\u001b[0m\u001b[0m\n",
      "\u001b[0;32m~/anaconda3/lib/python3.7/site-packages/pandas/io/parsers.py\u001b[0m in \u001b[0;36m_read\u001b[0;34m(filepath_or_buffer, kwds)\u001b[0m\n\u001b[1;32m    455\u001b[0m \u001b[0;34m\u001b[0m\u001b[0m\n\u001b[1;32m    456\u001b[0m     \u001b[0;31m# Create the parser.\u001b[0m\u001b[0;34m\u001b[0m\u001b[0;34m\u001b[0m\u001b[0;34m\u001b[0m\u001b[0m\n\u001b[0;32m--> 457\u001b[0;31m     \u001b[0mparser\u001b[0m \u001b[0;34m=\u001b[0m \u001b[0mTextFileReader\u001b[0m\u001b[0;34m(\u001b[0m\u001b[0mfp_or_buf\u001b[0m\u001b[0;34m,\u001b[0m \u001b[0;34m**\u001b[0m\u001b[0mkwds\u001b[0m\u001b[0;34m)\u001b[0m\u001b[0;34m\u001b[0m\u001b[0;34m\u001b[0m\u001b[0m\n\u001b[0m\u001b[1;32m    458\u001b[0m \u001b[0;34m\u001b[0m\u001b[0m\n\u001b[1;32m    459\u001b[0m     \u001b[0;32mif\u001b[0m \u001b[0mchunksize\u001b[0m \u001b[0;32mor\u001b[0m \u001b[0miterator\u001b[0m\u001b[0;34m:\u001b[0m\u001b[0;34m\u001b[0m\u001b[0;34m\u001b[0m\u001b[0m\n",
      "\u001b[0;32m~/anaconda3/lib/python3.7/site-packages/pandas/io/parsers.py\u001b[0m in \u001b[0;36m__init__\u001b[0;34m(self, f, engine, **kwds)\u001b[0m\n\u001b[1;32m    888\u001b[0m         \u001b[0;31m# might mutate self.engine\u001b[0m\u001b[0;34m\u001b[0m\u001b[0;34m\u001b[0m\u001b[0;34m\u001b[0m\u001b[0m\n\u001b[1;32m    889\u001b[0m         \u001b[0mself\u001b[0m\u001b[0;34m.\u001b[0m\u001b[0mengine\u001b[0m \u001b[0;34m=\u001b[0m \u001b[0mself\u001b[0m\u001b[0;34m.\u001b[0m\u001b[0m_check_file_or_buffer\u001b[0m\u001b[0;34m(\u001b[0m\u001b[0mf\u001b[0m\u001b[0;34m,\u001b[0m \u001b[0mengine\u001b[0m\u001b[0;34m)\u001b[0m\u001b[0;34m\u001b[0m\u001b[0;34m\u001b[0m\u001b[0m\n\u001b[0;32m--> 890\u001b[0;31m         \u001b[0mself\u001b[0m\u001b[0;34m.\u001b[0m\u001b[0moptions\u001b[0m\u001b[0;34m,\u001b[0m \u001b[0mself\u001b[0m\u001b[0;34m.\u001b[0m\u001b[0mengine\u001b[0m \u001b[0;34m=\u001b[0m \u001b[0mself\u001b[0m\u001b[0;34m.\u001b[0m\u001b[0m_clean_options\u001b[0m\u001b[0;34m(\u001b[0m\u001b[0moptions\u001b[0m\u001b[0;34m,\u001b[0m \u001b[0mengine\u001b[0m\u001b[0;34m)\u001b[0m\u001b[0;34m\u001b[0m\u001b[0;34m\u001b[0m\u001b[0m\n\u001b[0m\u001b[1;32m    891\u001b[0m \u001b[0;34m\u001b[0m\u001b[0m\n\u001b[1;32m    892\u001b[0m         \u001b[0;32mif\u001b[0m \u001b[0;34m\"has_index_names\"\u001b[0m \u001b[0;32min\u001b[0m \u001b[0mkwds\u001b[0m\u001b[0;34m:\u001b[0m\u001b[0;34m\u001b[0m\u001b[0;34m\u001b[0m\u001b[0m\n",
      "\u001b[0;32m~/anaconda3/lib/python3.7/site-packages/pandas/io/parsers.py\u001b[0m in \u001b[0;36m_clean_options\u001b[0;34m(self, options, engine)\u001b[0m\n\u001b[1;32m   1059\u001b[0m         \u001b[0mskiprows\u001b[0m \u001b[0;34m=\u001b[0m \u001b[0moptions\u001b[0m\u001b[0;34m[\u001b[0m\u001b[0;34m\"skiprows\"\u001b[0m\u001b[0;34m]\u001b[0m\u001b[0;34m\u001b[0m\u001b[0;34m\u001b[0m\u001b[0m\n\u001b[1;32m   1060\u001b[0m \u001b[0;34m\u001b[0m\u001b[0m\n\u001b[0;32m-> 1061\u001b[0;31m         \u001b[0m_validate_header_arg\u001b[0m\u001b[0;34m(\u001b[0m\u001b[0moptions\u001b[0m\u001b[0;34m[\u001b[0m\u001b[0;34m\"header\"\u001b[0m\u001b[0;34m]\u001b[0m\u001b[0;34m)\u001b[0m\u001b[0;34m\u001b[0m\u001b[0;34m\u001b[0m\u001b[0m\n\u001b[0m\u001b[1;32m   1062\u001b[0m \u001b[0;34m\u001b[0m\u001b[0m\n\u001b[1;32m   1063\u001b[0m         \u001b[0mdepr_warning\u001b[0m \u001b[0;34m=\u001b[0m \u001b[0;34m\"\"\u001b[0m\u001b[0;34m\u001b[0m\u001b[0;34m\u001b[0m\u001b[0m\n",
      "\u001b[0;32m~/anaconda3/lib/python3.7/site-packages/pandas/io/common.py\u001b[0m in \u001b[0;36m_validate_header_arg\u001b[0;34m(header)\u001b[0m\n\u001b[1;32m    115\u001b[0m     \u001b[0;32mif\u001b[0m \u001b[0misinstance\u001b[0m\u001b[0;34m(\u001b[0m\u001b[0mheader\u001b[0m\u001b[0;34m,\u001b[0m \u001b[0mbool\u001b[0m\u001b[0;34m)\u001b[0m\u001b[0;34m:\u001b[0m\u001b[0;34m\u001b[0m\u001b[0;34m\u001b[0m\u001b[0m\n\u001b[1;32m    116\u001b[0m         raise TypeError(\n\u001b[0;32m--> 117\u001b[0;31m             \u001b[0;34m\"Passing a bool to header is invalid. \"\u001b[0m\u001b[0;34m\u001b[0m\u001b[0;34m\u001b[0m\u001b[0m\n\u001b[0m\u001b[1;32m    118\u001b[0m             \u001b[0;34m\"Use header=None for no header or \"\u001b[0m\u001b[0;34m\u001b[0m\u001b[0;34m\u001b[0m\u001b[0m\n\u001b[1;32m    119\u001b[0m             \u001b[0;34m\"header=int or list-like of ints to specify \"\u001b[0m\u001b[0;34m\u001b[0m\u001b[0;34m\u001b[0m\u001b[0m\n",
      "\u001b[0;31mTypeError\u001b[0m: Passing a bool to header is invalid. Use header=None for no header or header=int or list-like of ints to specify the row(s) making up the column names"
     ]
    }
   ],
   "source": [
    "df_838  = pd.read_table(\"data/APPENC01.txt\", header=False, sep=\"\")\n",
    "df_838"
   ]
  },
  {
   "cell_type": "code",
   "execution_count": null,
   "metadata": {},
   "outputs": [],
   "source": []
  },
  {
   "cell_type": "code",
   "execution_count": null,
   "metadata": {},
   "outputs": [],
   "source": []
  },
  {
   "cell_type": "code",
   "execution_count": null,
   "metadata": {},
   "outputs": [],
   "source": []
  },
  {
   "cell_type": "code",
   "execution_count": null,
   "metadata": {},
   "outputs": [],
   "source": []
  },
  {
   "cell_type": "code",
   "execution_count": null,
   "metadata": {},
   "outputs": [],
   "source": []
  },
  {
   "cell_type": "code",
   "execution_count": null,
   "metadata": {},
   "outputs": [],
   "source": []
  },
  {
   "cell_type": "code",
   "execution_count": null,
   "metadata": {},
   "outputs": [],
   "source": []
  }
 ],
 "metadata": {
  "kernelspec": {
   "display_name": "Python 3",
   "language": "python",
   "name": "python3"
  },
  "language_info": {
   "codemirror_mode": {
    "name": "ipython",
    "version": 3
   },
   "file_extension": ".py",
   "mimetype": "text/x-python",
   "name": "python",
   "nbconvert_exporter": "python",
   "pygments_lexer": "ipython3",
   "version": "3.7.4"
  }
 },
 "nbformat": 4,
 "nbformat_minor": 2
}
