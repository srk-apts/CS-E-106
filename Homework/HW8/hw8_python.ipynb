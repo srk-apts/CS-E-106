{
 "cells": [
  {
   "cell_type": "markdown",
   "metadata": {},
   "source": [
    "# CS-E-106: Data Modeling\n",
    "## Fall 2019: HW 08"
   ]
  },
  {
   "cell_type": "markdown",
   "metadata": {},
   "source": [
    "### Important References and Links\n",
    "\n",
    "*1. OLS Results stats (this has most of the stat tests required for regression diagnostics):*\n",
    "\n",
    "https://www.statsmodels.org/stable/stats.html#module-statsmodels.stats.outliers_influence\n",
    "\n",
    "*2. OLS Outlier Influence*\n",
    "\n",
    "https://www.statsmodels.org/stable/generated/statsmodels.stats.outliers_influence.OLSInfluence.html"
   ]
  },
  {
   "cell_type": "code",
   "execution_count": 90,
   "metadata": {},
   "outputs": [],
   "source": [
    "# ! pip install mlxtend"
   ]
  },
  {
   "cell_type": "code",
   "execution_count": 91,
   "metadata": {},
   "outputs": [],
   "source": [
    "import numpy as np\n",
    "import os\n",
    "import pandas as pd\n",
    "from scipy import stats\n",
    "import time\n",
    "import random\n",
    "import itertools\n",
    "import statsmodels.api as sm\n",
    "from statsmodels.formula.api import ols\n",
    "from statsmodels.stats.anova import anova_lm\n",
    "from statsmodels.stats.outliers_influence import OLSInfluence\n",
    "from statsmodels.stats.outliers_influence import variance_inflation_factor\n",
    "import seaborn as sns\n",
    "import matplotlib.pyplot as plt\n",
    "from statsmodels.graphics import gofplots\n",
    "import pylab\n",
    "from sklearn.linear_model import LinearRegression\n",
    "from sklearn.preprocessing import Imputer, StandardScaler, PolynomialFeatures\n",
    "from mlxtend.feature_selection import ExhaustiveFeatureSelector as EFS\n",
    "from mlxtend.feature_selection import SequentialFeatureSelector as SFS"
   ]
  },
  {
   "cell_type": "markdown",
   "metadata": {},
   "source": [
    "### Utility Functions"
   ]
  },
  {
   "cell_type": "code",
   "execution_count": 92,
   "metadata": {},
   "outputs": [],
   "source": [
    "def scale_numeric(fit_df, trans_df, cols):\n",
    "    df_scaled = trans_df[cols].copy()\n",
    "    scaler = StandardScaler().fit(fit_df[cols])\n",
    "    df_scaled = pd.DataFrame(scaler.transform(df_scaled), index=df_scaled.index, columns=cols)\n",
    "    return(df_scaled)\n",
    "\n",
    "def scale_encode(fit_df, trans_df, scale_num=True):\n",
    "    num_cols = list(fit_df.columns[(fit_df.dtypes == 'float64') | (fit_df.dtypes == 'int64')])\n",
    "    str_cols = list(set(fit_df.columns)^set(num_cols))\n",
    "\n",
    "    if (len(num_cols)>0) & (len(str_cols)>0):\n",
    "        if scale_num:\n",
    "            df_scaled = scale_numeric(fit_df=fit_df, trans_df=trans_df, cols=num_cols)\n",
    "        else:\n",
    "            df_scaled = trans_df[num_cols].copy()\n",
    "        df_dummy = pd.get_dummies(trans_df[str_cols])\n",
    "        df =  df_scaled.join(df_dummy)\n",
    "    elif len(str_cols)>0:\n",
    "        df = pd.get_dummies(trans_df[str_cols])\n",
    "    elif len(num_cols)>0:\n",
    "        if scale_num:\n",
    "            df = scale_numeric(fit_df=fit_df, trans_df=trans_df, cols=num_cols)\n",
    "        else:\n",
    "            df = trans_df[num_cols].copy()\n",
    "    else:\n",
    "        df = trans_df.copy()\n",
    "    \n",
    "    return(df)"
   ]
  },
  {
   "cell_type": "markdown",
   "metadata": {},
   "source": [
    "**Question 1** Refer to Brand preference data, build a model with all independent variables (45 pts)"
   ]
  },
  {
   "cell_type": "markdown",
   "metadata": {},
   "source": [
    "**(a)**\tObtain the studentized deleted residuals and identify any outlying Y observations. Use the Bonferroni outlier test procedure with α = .10. State the decision rule and conclusion. (5pts)\n",
    "\n",
    "**Solution:**"
   ]
  },
  {
   "cell_type": "code",
   "execution_count": 93,
   "metadata": {},
   "outputs": [
    {
     "name": "stderr",
     "output_type": "stream",
     "text": [
      "/home/srk-apts/anaconda3/lib/python3.7/site-packages/scipy/stats/stats.py:1450: UserWarning: kurtosistest only valid for n>=20 ... continuing anyway, n=16\n",
      "  \"anyway, n=%i\" % int(n))\n"
     ]
    },
    {
     "data": {
      "text/html": [
       "<table class=\"simpletable\">\n",
       "<caption>OLS Regression Results</caption>\n",
       "<tr>\n",
       "  <th>Dep. Variable:</th>            <td>Y</td>        <th>  R-squared:         </th> <td>   0.952</td>\n",
       "</tr>\n",
       "<tr>\n",
       "  <th>Model:</th>                   <td>OLS</td>       <th>  Adj. R-squared:    </th> <td>   0.945</td>\n",
       "</tr>\n",
       "<tr>\n",
       "  <th>Method:</th>             <td>Least Squares</td>  <th>  F-statistic:       </th> <td>   129.1</td>\n",
       "</tr>\n",
       "<tr>\n",
       "  <th>Date:</th>             <td>Thu, 19 Dec 2019</td> <th>  Prob (F-statistic):</th> <td>2.66e-09</td>\n",
       "</tr>\n",
       "<tr>\n",
       "  <th>Time:</th>                 <td>22:57:11</td>     <th>  Log-Likelihood:    </th> <td> -36.894</td>\n",
       "</tr>\n",
       "<tr>\n",
       "  <th>No. Observations:</th>      <td>    16</td>      <th>  AIC:               </th> <td>   79.79</td>\n",
       "</tr>\n",
       "<tr>\n",
       "  <th>Df Residuals:</th>          <td>    13</td>      <th>  BIC:               </th> <td>   82.11</td>\n",
       "</tr>\n",
       "<tr>\n",
       "  <th>Df Model:</th>              <td>     2</td>      <th>                     </th>     <td> </td>   \n",
       "</tr>\n",
       "<tr>\n",
       "  <th>Covariance Type:</th>      <td>nonrobust</td>    <th>                     </th>     <td> </td>   \n",
       "</tr>\n",
       "</table>\n",
       "<table class=\"simpletable\">\n",
       "<tr>\n",
       "      <td></td>         <th>coef</th>     <th>std err</th>      <th>t</th>      <th>P>|t|</th>  <th>[0.025</th>    <th>0.975]</th>  \n",
       "</tr>\n",
       "<tr>\n",
       "  <th>Intercept</th> <td>   37.6500</td> <td>    2.996</td> <td>   12.566</td> <td> 0.000</td> <td>   31.177</td> <td>   44.123</td>\n",
       "</tr>\n",
       "<tr>\n",
       "  <th>X1</th>        <td>    4.4250</td> <td>    0.301</td> <td>   14.695</td> <td> 0.000</td> <td>    3.774</td> <td>    5.076</td>\n",
       "</tr>\n",
       "<tr>\n",
       "  <th>X2</th>        <td>    4.3750</td> <td>    0.673</td> <td>    6.498</td> <td> 0.000</td> <td>    2.920</td> <td>    5.830</td>\n",
       "</tr>\n",
       "</table>\n",
       "<table class=\"simpletable\">\n",
       "<tr>\n",
       "  <th>Omnibus:</th>       <td> 0.766</td> <th>  Durbin-Watson:     </th> <td>   2.313</td>\n",
       "</tr>\n",
       "<tr>\n",
       "  <th>Prob(Omnibus):</th> <td> 0.682</td> <th>  Jarque-Bera (JB):  </th> <td>   0.647</td>\n",
       "</tr>\n",
       "<tr>\n",
       "  <th>Skew:</th>          <td> 0.049</td> <th>  Prob(JB):          </th> <td>   0.724</td>\n",
       "</tr>\n",
       "<tr>\n",
       "  <th>Kurtosis:</th>      <td> 2.020</td> <th>  Cond. No.          </th> <td>    35.9</td>\n",
       "</tr>\n",
       "</table><br/><br/>Warnings:<br/>[1] Standard Errors assume that the covariance matrix of the errors is correctly specified."
      ],
      "text/plain": [
       "<class 'statsmodels.iolib.summary.Summary'>\n",
       "\"\"\"\n",
       "                            OLS Regression Results                            \n",
       "==============================================================================\n",
       "Dep. Variable:                      Y   R-squared:                       0.952\n",
       "Model:                            OLS   Adj. R-squared:                  0.945\n",
       "Method:                 Least Squares   F-statistic:                     129.1\n",
       "Date:                Thu, 19 Dec 2019   Prob (F-statistic):           2.66e-09\n",
       "Time:                        22:57:11   Log-Likelihood:                -36.894\n",
       "No. Observations:                  16   AIC:                             79.79\n",
       "Df Residuals:                      13   BIC:                             82.11\n",
       "Df Model:                           2                                         \n",
       "Covariance Type:            nonrobust                                         \n",
       "==============================================================================\n",
       "                 coef    std err          t      P>|t|      [0.025      0.975]\n",
       "------------------------------------------------------------------------------\n",
       "Intercept     37.6500      2.996     12.566      0.000      31.177      44.123\n",
       "X1             4.4250      0.301     14.695      0.000       3.774       5.076\n",
       "X2             4.3750      0.673      6.498      0.000       2.920       5.830\n",
       "==============================================================================\n",
       "Omnibus:                        0.766   Durbin-Watson:                   2.313\n",
       "Prob(Omnibus):                  0.682   Jarque-Bera (JB):                0.647\n",
       "Skew:                           0.049   Prob(JB):                        0.724\n",
       "Kurtosis:                       2.020   Cond. No.                         35.9\n",
       "==============================================================================\n",
       "\n",
       "Warnings:\n",
       "[1] Standard Errors assume that the covariance matrix of the errors is correctly specified.\n",
       "\"\"\""
      ]
     },
     "execution_count": 93,
     "metadata": {},
     "output_type": "execute_result"
    }
   ],
   "source": [
    "brand_data = pd.read_csv(\"data/Brand Preference.csv\")\n",
    "lm_brand = ols(\"Y~X1+X2\", data=brand_data).fit()\n",
    "lm_brand.summary()"
   ]
  },
  {
   "cell_type": "markdown",
   "metadata": {},
   "source": [
    "*Studentized deleted residuals:*"
   ]
  },
  {
   "cell_type": "code",
   "execution_count": 94,
   "metadata": {},
   "outputs": [
    {
     "data": {
      "text/plain": [
       "<matplotlib.collections.PathCollection at 0x7f413f667790>"
      ]
     },
     "execution_count": 94,
     "metadata": {},
     "output_type": "execute_result"
    },
    {
     "data": {
      "image/png": "[encoded data removed]",
      "text/plain": [
       "<Figure size 432x288 with 1 Axes>"
      ]
     },
     "metadata": {
      "needs_background": "light"
     },
     "output_type": "display_data"
    }
   ],
   "source": [
    "student_del_resids = OLSInfluence(lm_brand).resid_studentized_external\n",
    "plt.scatter(student_del_resids.index, student_del_resids)"
   ]
  },
  {
   "cell_type": "code",
   "execution_count": 95,
   "metadata": {},
   "outputs": [
    {
     "data": {
      "text/plain": [
       "0    -0.040855\n",
       "1     0.061288\n",
       "2    -1.360599\n",
       "3     1.386025\n",
       "4    -0.366946\n",
       "5    -0.664906\n",
       "6    -0.767162\n",
       "7     0.504613\n",
       "8     0.465067\n",
       "9    -0.604363\n",
       "10    1.823020\n",
       "11    0.977843\n",
       "12   -1.139664\n",
       "13   -2.102726\n",
       "14    1.489732\n",
       "15    0.245729\n",
       "dtype: float64"
      ]
     },
     "execution_count": 95,
     "metadata": {},
     "output_type": "execute_result"
    }
   ],
   "source": [
    "student_del_resids"
   ]
  },
  {
   "cell_type": "markdown",
   "metadata": {},
   "source": [
    "*Interpretation*\n",
    "\n",
    "We can see that case 14 is an outlier with regard to the Y observations, based on the studentized deleted residuals."
   ]
  },
  {
   "cell_type": "markdown",
   "metadata": {},
   "source": [
    "*Bonferroni Outlier Test:*\n",
    "\n",
    "$H_0:$ No outlier\n",
    "$H_1:$ Atleast one outlier"
   ]
  },
  {
   "cell_type": "code",
   "execution_count": 96,
   "metadata": {},
   "outputs": [
    {
     "data": {
      "text/plain": [
       "3.307782648958124"
      ]
     },
     "execution_count": 96,
     "metadata": {},
     "output_type": "execute_result"
    }
   ],
   "source": [
    "n = brand_data.shape[0]\n",
    "p = len(lm_brand.params)\n",
    "alpha = 0.1\n",
    "tTest = stats.t.ppf(1-alpha/(2*n), n-p-1)\n",
    "tTest"
   ]
  },
  {
   "cell_type": "code",
   "execution_count": 97,
   "metadata": {},
   "outputs": [
    {
     "data": {
      "text/plain": [
       "Series([], dtype: bool)"
      ]
     },
     "execution_count": 97,
     "metadata": {},
     "output_type": "execute_result"
    }
   ],
   "source": [
    "which = np.abs(student_del_resids)>=np.abs(tTest)\n",
    "which[which==True]"
   ]
  },
  {
   "cell_type": "markdown",
   "metadata": {},
   "source": [
    "*Decision Rule:*\n",
    "\n",
    "- If $|t_i| \\leq t(1-\\alpha/2n; n-p-1)$, $n=i$ is not an outlier.\n",
    "- If $|t_i| > t(1-\\alpha/2n; n-p-1)$, $n=i$ is an outlier.\n",
    "\n",
    "*Result:*\n",
    "\n",
    "Since none $|t_i| > t(1-\\alpha/2n; n-p-1)$, we conclude $H_0$. There are no outliers with $\\alpha=0.1$.\n"
   ]
  },
  {
   "cell_type": "markdown",
   "metadata": {},
   "source": [
    "**(b)** Obtain the diagonal elements of the hat matrix, and provide an explanation for the pattern in these elements. (5pts)\n",
    "\n",
    "**Solution:**"
   ]
  },
  {
   "cell_type": "code",
   "execution_count": 98,
   "metadata": {},
   "outputs": [
    {
     "data": {
      "text/plain": [
       "0     False\n",
       "1     False\n",
       "2     False\n",
       "3     False\n",
       "4     False\n",
       "5     False\n",
       "6     False\n",
       "7     False\n",
       "8     False\n",
       "9     False\n",
       "10    False\n",
       "11    False\n",
       "12    False\n",
       "13    False\n",
       "14    False\n",
       "15    False\n",
       "Name: hat_diag, dtype: bool"
      ]
     },
     "execution_count": 98,
     "metadata": {},
     "output_type": "execute_result"
    }
   ],
   "source": [
    "hii = OLSInfluence(lm_brand).summary_frame()[\"hat_diag\"]\n",
    "index = hii>2*p/n\n",
    "index"
   ]
  },
  {
   "cell_type": "markdown",
   "metadata": {},
   "source": [
    "*Interpretation:*\n",
    "\n",
    "The hat matrix measures the distance between $X_i$ and $\\bar{X}$. The fact that none of the $h_{ii}>\\frac{2*p}{n}$ means that all the $X_i$s are more or less close to their means."
   ]
  },
  {
   "cell_type": "markdown",
   "metadata": {},
   "source": [
    "**(c)** Are any of the observations outlying with regard to their X values according? (5pts)\n",
    "\n",
    "**Solution:**\n",
    "\n",
    "We do not see any observations that are outliers with regard to their X values."
   ]
  },
  {
   "cell_type": "markdown",
   "metadata": {},
   "source": [
    "**(d)** Management wishes to estimate the mean degree of brand liking for moisture content X1 = 10 and sweetness X2 = 3. Construct a scatter plot of X2 against X1 and determine visually whether this prediction involves an extrapolation beyond the range of the data. Also, use (10.29) to determine whether an extrapolation is involved. Do your conclusions from the two methods agree? (5pts)\n",
    "\n",
    "**Solution:**"
   ]
  },
  {
   "cell_type": "code",
   "execution_count": 99,
   "metadata": {},
   "outputs": [
    {
     "data": {
      "text/plain": [
       "<matplotlib.collections.PathCollection at 0x7f413f785590>"
      ]
     },
     "execution_count": 99,
     "metadata": {},
     "output_type": "execute_result"
    },
    {
     "data": {
      "image/png": "[encoded data removed]",
      "text/plain": [
       "<Figure size 432x288 with 1 Axes>"
      ]
     },
     "metadata": {
      "needs_background": "light"
     },
     "output_type": "display_data"
    }
   ],
   "source": [
    "plt.scatter(brand_data[\"X1\"], brand_data[\"X2\"])"
   ]
  },
  {
   "cell_type": "markdown",
   "metadata": {},
   "source": [
    "*Interpretation:*\n",
    "\n",
    "We can see that $X_{1new}$ and $X_{2new}$ are both well within the range of the given dataset, so we don't need any extrapolation beyond the range of the data already given to us."
   ]
  },
  {
   "cell_type": "code",
   "execution_count": 100,
   "metadata": {},
   "outputs": [
    {
     "data": {
      "text/plain": [
       "matrix([[ 1.,  4.,  2.],\n",
       "        [ 1.,  4.,  4.],\n",
       "        [ 1.,  4.,  2.],\n",
       "        [ 1.,  4.,  4.],\n",
       "        [ 1.,  6.,  2.],\n",
       "        [ 1.,  6.,  4.],\n",
       "        [ 1.,  6.,  2.],\n",
       "        [ 1.,  6.,  4.],\n",
       "        [ 1.,  8.,  2.],\n",
       "        [ 1.,  8.,  4.],\n",
       "        [ 1.,  8.,  2.],\n",
       "        [ 1.,  8.,  4.],\n",
       "        [ 1., 10.,  2.],\n",
       "        [ 1., 10.,  4.],\n",
       "        [ 1., 10.,  2.],\n",
       "        [ 1., 10.,  4.]])"
      ]
     },
     "execution_count": 100,
     "metadata": {},
     "output_type": "execute_result"
    }
   ],
   "source": [
    "X_0 = np.ones(brand_data[[\"X1\", \"X2\"]].shape[0]).reshape(-1,1)\n",
    "X = np.matrix(np.hstack((X_0, brand_data[[\"X1\", \"X2\"]])))\n",
    "X"
   ]
  },
  {
   "cell_type": "code",
   "execution_count": 101,
   "metadata": {},
   "outputs": [
    {
     "data": {
      "text/plain": [
       "matrix([[ 1.23750000e+00, -8.75000000e-02, -1.87500000e-01],\n",
       "        [-8.75000000e-02,  1.25000000e-02,  1.13335267e-17],\n",
       "        [-1.87500000e-01, -3.96508223e-18,  6.25000000e-02]])"
      ]
     },
     "execution_count": 101,
     "metadata": {},
     "output_type": "execute_result"
    }
   ],
   "source": [
    "X_T = X.T\n",
    "XTX = X_T * X\n",
    "XTX_inv = XTX.I\n",
    "XTX_inv"
   ]
  },
  {
   "cell_type": "code",
   "execution_count": 102,
   "metadata": {},
   "outputs": [
    {
     "data": {
      "text/plain": [
       "matrix([[0.175]])"
      ]
     },
     "execution_count": 102,
     "metadata": {},
     "output_type": "execute_result"
    }
   ],
   "source": [
    "Xh = np.matrix([1,10,3])\n",
    "H_extrap = Xh * XTX_inv * Xh.T\n",
    "H_extrap"
   ]
  },
  {
   "cell_type": "code",
   "execution_count": 103,
   "metadata": {},
   "outputs": [
    {
     "data": {
      "text/plain": [
       "(0.13749999999999987, 0.23750000000000046)"
      ]
     },
     "execution_count": 103,
     "metadata": {},
     "output_type": "execute_result"
    }
   ],
   "source": [
    "np.min(hii), np.max(hii)"
   ]
  },
  {
   "cell_type": "markdown",
   "metadata": {},
   "source": [
    "Thus, we see that $h_{new.new}=0.175$\n",
    "\n",
    "*Interpretation:*\n",
    "\n",
    "From the above result, we see the value of $h_{new.new}$ is well within the range of the leverage values $h_{ii}$ for the cases in the data set, so no hidden extrapolation is involved for this estimate."
   ]
  },
  {
   "cell_type": "markdown",
   "metadata": {},
   "source": [
    "**(e)** The largest absolute studentized deleted residual is for case 14. Obtain the DFFlTS, DFBETAS, and Cook's distance values for this case to assess the influence of this case. What do you conclude? (5pts)\n",
    "\n",
    "**Solution:**"
   ]
  },
  {
   "cell_type": "code",
   "execution_count": 104,
   "metadata": {},
   "outputs": [
    {
     "data": {
      "text/plain": [
       "dfb_Intercept      0.838807\n",
       "dfb_X1            -0.807680\n",
       "dfb_X2            -0.602009\n",
       "cooks_d            0.363412\n",
       "standard_resid    -1.870891\n",
       "hat_diag           0.237500\n",
       "dffits_internal   -1.044144\n",
       "student_resid     -2.102726\n",
       "dffits            -1.173531\n",
       "Name: 13, dtype: float64"
      ]
     },
     "execution_count": 104,
     "metadata": {},
     "output_type": "execute_result"
    }
   ],
   "source": [
    "influence_results = OLSInfluence(lm_brand).summary_frame()\n",
    "influence_results.iloc[13,]"
   ]
  },
  {
   "cell_type": "markdown",
   "metadata": {},
   "source": [
    "*Interpretation:*\n",
    "\n",
    "|DFBETAS| are all < 1, so case 14 does not have a big influence on betas.\n",
    "|DFFITS| > 1, so case 14 has considerable influence on $Y_{14}$.\n",
    "According to Cook's Distance, case 14 has little influence on all the fitted values, since $0.1<P(F(p, n-p) \\leq Cook's Distance)<0.5$."
   ]
  },
  {
   "cell_type": "markdown",
   "metadata": {},
   "source": [
    "**(f)** Calculate the average absolute percent difference in the fitted values with and without case 14. What does this measure indicate about the influence of case 14? (10pts)\n",
    "\n",
    "**Solution:**"
   ]
  },
  {
   "cell_type": "code",
   "execution_count": 105,
   "metadata": {},
   "outputs": [
    {
     "name": "stdout",
     "output_type": "stream",
     "text": [
      "0.03943374540066705\n"
     ]
    }
   ],
   "source": [
    "new_df = brand_data.drop(brand_data.index[13])\n",
    "new_lm_brand = ols(\"Y~X1+X2\", data=new_df).fit()\n",
    "\n",
    "fitted_new = new_lm_brand.fittedvalues\n",
    "fitted_old = lm_brand.fittedvalues\n",
    "\n",
    "newer_result = np.mean(np.abs(fitted_new-fitted_old)/fitted_old)\n",
    "newer_new_result = (100*newer_result)/brand_data.shape[0]\n",
    "print(newer_new_result)"
   ]
  },
  {
   "cell_type": "markdown",
   "metadata": {},
   "source": [
    "*Interpretation:*\n",
    "\n",
    "We see that the measure indicated that case 14 has a big influence on the fitted regression function in the range of X observations directly."
   ]
  },
  {
   "cell_type": "markdown",
   "metadata": {},
   "source": [
    "**(g)** Calculate Cook's distance D; for each case and prepare an index plot. Are any cases influential according to this measure? (5pts)\n",
    "\n",
    "**Solution:**"
   ]
  },
  {
   "cell_type": "code",
   "execution_count": 106,
   "metadata": {},
   "outputs": [],
   "source": [
    "cooks_d = OLSInfluence(lm_brand).summary_frame()[\"cooks_d\"]"
   ]
  },
  {
   "cell_type": "code",
   "execution_count": 107,
   "metadata": {},
   "outputs": [
    {
     "data": {
      "text/plain": [
       "<BarContainer object of 16 artists>"
      ]
     },
     "execution_count": 107,
     "metadata": {},
     "output_type": "execute_result"
    },
    {
     "data": {
      "image/png": "[encoded data removed]",
      "text/plain": [
       "<Figure size 432x288 with 1 Axes>"
      ]
     },
     "metadata": {
      "needs_background": "light"
     },
     "output_type": "display_data"
    }
   ],
   "source": [
    "plt.bar(cooks_d.index, cooks_d)"
   ]
  },
  {
   "cell_type": "markdown",
   "metadata": {},
   "source": [
    "*Interpretation:*\n",
    "\n",
    "Cases 14 (Cook's Distance Value: 0.3634123447) and 15 (Cook's Distance Value: 0.2106609008) seem to be more influential compared to the others."
   ]
  },
  {
   "cell_type": "markdown",
   "metadata": {},
   "source": [
    "**(h)** Find the two variance inflation factors. Why are they both equal to 1? (5pts)\n",
    "\n",
    "**Solution:**"
   ]
  },
  {
   "cell_type": "code",
   "execution_count": 138,
   "metadata": {},
   "outputs": [
    {
     "name": "stdout",
     "output_type": "stream",
     "text": [
      "const    19.8\n",
      "X1        1.0\n",
      "X2        1.0\n",
      "dtype: float64\n"
     ]
    },
    {
     "name": "stderr",
     "output_type": "stream",
     "text": [
      "/home/srk-apts/anaconda3/lib/python3.7/site-packages/numpy/core/fromnumeric.py:2389: FutureWarning: Method .ptp is deprecated and will be removed in a future version. Use numpy.ptp instead.\n",
      "  return ptp(axis=axis, out=out, **kwargs)\n"
     ]
    }
   ],
   "source": [
    "X_cols = list(lm_brand.params.index)[1:]\n",
    "X = sm.add_constant(brand_data[X_cols])\n",
    "vif = pd.Series([variance_inflation_factor(X.values, i) for i in range(X.shape[1])], \n",
    "                index=X.columns)\n",
    "print(vif)"
   ]
  },
  {
   "cell_type": "markdown",
   "metadata": {},
   "source": [
    "*Interpretation:*\n",
    "\n",
    "$(VIF)_k=(1-R_k^2)^{-1}$\n",
    "\n",
    "Thus, all VIFs = 1 implies that there is no linear association between either Xs."
   ]
  },
  {
   "cell_type": "markdown",
   "metadata": {},
   "source": [
    "**Question 2** Refer to the Lung pressure Data and Homework 7. The subset regression model containing first-order terms for X1 and X2 and the cross-product term X1X2 is to be evaluated in detail. (35 pts)\n",
    "\n",
    "**(a)** Obtain the residuals and plot them separately against Y and each of the three predictor variables. On the basis of these plots. should any further modification of the regression model be attempted? (5pts)\n",
    "\n",
    "**Solution:**"
   ]
  },
  {
   "cell_type": "code",
   "execution_count": 109,
   "metadata": {},
   "outputs": [
    {
     "name": "stderr",
     "output_type": "stream",
     "text": [
      "/home/srk-apts/anaconda3/lib/python3.7/site-packages/scipy/stats/stats.py:1450: UserWarning: kurtosistest only valid for n>=20 ... continuing anyway, n=19\n",
      "  \"anyway, n=%i\" % int(n))\n"
     ]
    },
    {
     "data": {
      "text/html": [
       "<table class=\"simpletable\">\n",
       "<caption>OLS Regression Results</caption>\n",
       "<tr>\n",
       "  <th>Dep. Variable:</th>            <td>Y</td>        <th>  R-squared:         </th> <td>   0.792</td>\n",
       "</tr>\n",
       "<tr>\n",
       "  <th>Model:</th>                   <td>OLS</td>       <th>  Adj. R-squared:    </th> <td>   0.751</td>\n",
       "</tr>\n",
       "<tr>\n",
       "  <th>Method:</th>             <td>Least Squares</td>  <th>  F-statistic:       </th> <td>   19.06</td>\n",
       "</tr>\n",
       "<tr>\n",
       "  <th>Date:</th>             <td>Thu, 19 Dec 2019</td> <th>  Prob (F-statistic):</th> <td>2.23e-05</td>\n",
       "</tr>\n",
       "<tr>\n",
       "  <th>Time:</th>                 <td>22:57:21</td>     <th>  Log-Likelihood:    </th> <td> -69.543</td>\n",
       "</tr>\n",
       "<tr>\n",
       "  <th>No. Observations:</th>      <td>    19</td>      <th>  AIC:               </th> <td>   147.1</td>\n",
       "</tr>\n",
       "<tr>\n",
       "  <th>Df Residuals:</th>          <td>    15</td>      <th>  BIC:               </th> <td>   150.9</td>\n",
       "</tr>\n",
       "<tr>\n",
       "  <th>Df Model:</th>              <td>     3</td>      <th>                     </th>     <td> </td>   \n",
       "</tr>\n",
       "<tr>\n",
       "  <th>Covariance Type:</th>      <td>nonrobust</td>    <th>                     </th>     <td> </td>   \n",
       "</tr>\n",
       "</table>\n",
       "<table class=\"simpletable\">\n",
       "<tr>\n",
       "      <td></td>         <th>coef</th>     <th>std err</th>      <th>t</th>      <th>P>|t|</th>  <th>[0.025</th>    <th>0.975]</th>  \n",
       "</tr>\n",
       "<tr>\n",
       "  <th>Intercept</th> <td>  134.3999</td> <td>   15.982</td> <td>    8.410</td> <td> 0.000</td> <td>  100.336</td> <td>  168.464</td>\n",
       "</tr>\n",
       "<tr>\n",
       "  <th>X1</th>        <td>   -2.1330</td> <td>    0.522</td> <td>   -4.085</td> <td> 0.001</td> <td>   -3.246</td> <td>   -1.020</td>\n",
       "</tr>\n",
       "<tr>\n",
       "  <th>X2</th>        <td>   -1.6993</td> <td>    0.364</td> <td>   -4.673</td> <td> 0.000</td> <td>   -2.474</td> <td>   -0.924</td>\n",
       "</tr>\n",
       "<tr>\n",
       "  <th>X1X2</th>      <td>    0.0333</td> <td>    0.009</td> <td>    3.592</td> <td> 0.003</td> <td>    0.014</td> <td>    0.053</td>\n",
       "</tr>\n",
       "</table>\n",
       "<table class=\"simpletable\">\n",
       "<tr>\n",
       "  <th>Omnibus:</th>       <td> 4.466</td> <th>  Durbin-Watson:     </th> <td>   1.734</td>\n",
       "</tr>\n",
       "<tr>\n",
       "  <th>Prob(Omnibus):</th> <td> 0.107</td> <th>  Jarque-Bera (JB):  </th> <td>   2.559</td>\n",
       "</tr>\n",
       "<tr>\n",
       "  <th>Skew:</th>          <td> 0.868</td> <th>  Prob(JB):          </th> <td>   0.278</td>\n",
       "</tr>\n",
       "<tr>\n",
       "  <th>Kurtosis:</th>      <td> 3.466</td> <th>  Cond. No.          </th> <td>1.33e+04</td>\n",
       "</tr>\n",
       "</table><br/><br/>Warnings:<br/>[1] Standard Errors assume that the covariance matrix of the errors is correctly specified.<br/>[2] The condition number is large, 1.33e+04. This might indicate that there are<br/>strong multicollinearity or other numerical problems."
      ],
      "text/plain": [
       "<class 'statsmodels.iolib.summary.Summary'>\n",
       "\"\"\"\n",
       "                            OLS Regression Results                            \n",
       "==============================================================================\n",
       "Dep. Variable:                      Y   R-squared:                       0.792\n",
       "Model:                            OLS   Adj. R-squared:                  0.751\n",
       "Method:                 Least Squares   F-statistic:                     19.06\n",
       "Date:                Thu, 19 Dec 2019   Prob (F-statistic):           2.23e-05\n",
       "Time:                        22:57:21   Log-Likelihood:                -69.543\n",
       "No. Observations:                  19   AIC:                             147.1\n",
       "Df Residuals:                      15   BIC:                             150.9\n",
       "Df Model:                           3                                         \n",
       "Covariance Type:            nonrobust                                         \n",
       "==============================================================================\n",
       "                 coef    std err          t      P>|t|      [0.025      0.975]\n",
       "------------------------------------------------------------------------------\n",
       "Intercept    134.3999     15.982      8.410      0.000     100.336     168.464\n",
       "X1            -2.1330      0.522     -4.085      0.001      -3.246      -1.020\n",
       "X2            -1.6993      0.364     -4.673      0.000      -2.474      -0.924\n",
       "X1X2           0.0333      0.009      3.592      0.003       0.014       0.053\n",
       "==============================================================================\n",
       "Omnibus:                        4.466   Durbin-Watson:                   1.734\n",
       "Prob(Omnibus):                  0.107   Jarque-Bera (JB):                2.559\n",
       "Skew:                           0.868   Prob(JB):                        0.278\n",
       "Kurtosis:                       3.466   Cond. No.                     1.33e+04\n",
       "==============================================================================\n",
       "\n",
       "Warnings:\n",
       "[1] Standard Errors assume that the covariance matrix of the errors is correctly specified.\n",
       "[2] The condition number is large, 1.33e+04. This might indicate that there are\n",
       "strong multicollinearity or other numerical problems.\n",
       "\"\"\""
      ]
     },
     "execution_count": 109,
     "metadata": {},
     "output_type": "execute_result"
    }
   ],
   "source": [
    "lung_data = pd.read_csv(\"data/Lung Pressure.csv\")\n",
    "lung_data[\"X1X2\"] = lung_data[\"X1\"]*lung_data[\"X2\"]\n",
    "lm_lung = ols(\"Y~X1+X2+X1X2\", data=lung_data).fit()\n",
    "lm_lung.summary()"
   ]
  },
  {
   "cell_type": "code",
   "execution_count": 110,
   "metadata": {},
   "outputs": [
    {
     "data": {
      "image/png": "[encoded data removed]",
      "text/plain": [
       "<Figure size 504x1440 with 5 Axes>"
      ]
     },
     "metadata": {
      "needs_background": "light"
     },
     "output_type": "display_data"
    }
   ],
   "source": [
    "var = list(lung_data.columns)\n",
    "ei = lm_lung.resid\n",
    "\n",
    "fig, ax = plt.subplots(len(var), 1, figsize=(7,20))\n",
    "\n",
    "for i in range(len(var)):\n",
    "    ax[i].scatter(lung_data[var[i]], ei)\n",
    "    ax[i].set_xlabel(var[i])\n",
    "    ax[i].set_ylabel(\"$e_i$\")"
   ]
  },
  {
   "cell_type": "markdown",
   "metadata": {},
   "source": [
    "*Interpretation:*\n",
    "\n",
    "We see that the plots dont have much pattern. However, we do see some outliers for X1 and the plot for the interaction term X1X2 seems to have non-constant error. "
   ]
  },
  {
   "cell_type": "markdown",
   "metadata": {},
   "source": [
    "**(b)** Prepare a normal probability plot of the residuals. Also obtain the coefficient of correlation between the ordered residuals and their expected values under normality. Does the normality assumption appear to be reasonable here? (5pts)\n",
    "\n",
    "**Solution:**"
   ]
  },
  {
   "cell_type": "code",
   "execution_count": 111,
   "metadata": {},
   "outputs": [
    {
     "data": {
      "image/png": "[encoded data removed]",
      "text/plain": [
       "<Figure size 432x288 with 1 Axes>"
      ]
     },
     "metadata": {
      "needs_background": "light"
     },
     "output_type": "display_data"
    }
   ],
   "source": [
    "stats.probplot(lm_lung.resid, dist=\"norm\", plot=pylab)\n",
    "pylab.show()"
   ]
  },
  {
   "cell_type": "markdown",
   "metadata": {},
   "source": [
    "*Interpretation:*\n",
    "\n",
    "We can see that the plot is not linear and the residuals do not conform with the assumptions of normality."
   ]
  },
  {
   "cell_type": "markdown",
   "metadata": {},
   "source": [
    "**(c)** Obtain the variance inflation factors. Are there any indications that serious multicollinearity problems are present? Explain. (5pts)\n",
    "\n",
    "**Solution:**"
   ]
  },
  {
   "cell_type": "code",
   "execution_count": 137,
   "metadata": {},
   "outputs": [
    {
     "name": "stdout",
     "output_type": "stream",
     "text": [
      "const    43.316752\n",
      "X1        5.431477\n",
      "X2       11.639560\n",
      "X1X2     22.474469\n",
      "dtype: float64\n"
     ]
    },
    {
     "name": "stderr",
     "output_type": "stream",
     "text": [
      "/home/srk-apts/anaconda3/lib/python3.7/site-packages/numpy/core/fromnumeric.py:2389: FutureWarning: Method .ptp is deprecated and will be removed in a future version. Use numpy.ptp instead.\n",
      "  return ptp(axis=axis, out=out, **kwargs)\n"
     ]
    }
   ],
   "source": [
    "X_cols = list(lm_lung.params.index)[1:]\n",
    "X = sm.add_constant(lung_data[X_cols])\n",
    "vif = pd.Series([variance_inflation_factor(X.values, i) for i in range(X.shape[1])], \n",
    "                index=X.columns)\n",
    "print(vif)"
   ]
  },
  {
   "cell_type": "markdown",
   "metadata": {},
   "source": [
    "*Interpretation:*\n",
    "\n",
    "Since the variance inflation factors for all the coefficients in the model are $>1$, we can say that there is serious multi-collinearity present. "
   ]
  },
  {
   "cell_type": "markdown",
   "metadata": {},
   "source": [
    "**(d)** Obtain the studentized deleted residuals and identify outlying Y observations. Use the Bonferroni outlier test procedure with α= .05. State the decision rule and conclusion. (5pts)\n",
    "\n",
    "**Solution:**\n"
   ]
  },
  {
   "cell_type": "markdown",
   "metadata": {},
   "source": [
    "*Studentized deleted residuals:*"
   ]
  },
  {
   "cell_type": "code",
   "execution_count": 113,
   "metadata": {},
   "outputs": [
    {
     "data": {
      "text/plain": [
       "<matplotlib.collections.PathCollection at 0x7f413c6b0a50>"
      ]
     },
     "execution_count": 113,
     "metadata": {},
     "output_type": "execute_result"
    },
    {
     "data": {
      "image/png": "[encoded data removed]",
      "text/plain": [
       "<Figure size 432x288 with 1 Axes>"
      ]
     },
     "metadata": {
      "needs_background": "light"
     },
     "output_type": "display_data"
    }
   ],
   "source": [
    "student_del_resids = OLSInfluence(lm_lung).resid_studentized_external\n",
    "plt.scatter(student_del_resids.index, student_del_resids)"
   ]
  },
  {
   "cell_type": "markdown",
   "metadata": {},
   "source": [
    "*Bonferroni Outlier Test:*\n",
    "\n",
    "Test value = $t(1-\\alpha/2n; n-p-1)$\n",
    "\n",
    "$H_0:$ No outlier\n",
    "$H_1:$ Atleast one outlier"
   ]
  },
  {
   "cell_type": "code",
   "execution_count": 114,
   "metadata": {},
   "outputs": [
    {
     "data": {
      "text/plain": [
       "3.299916688217126"
      ]
     },
     "execution_count": 114,
     "metadata": {},
     "output_type": "execute_result"
    }
   ],
   "source": [
    "n = lung_data.shape[0]\n",
    "p = len(lm_lung.params)\n",
    "alpha = 0.1\n",
    "tTest = stats.t.ppf(1-alpha/(2*n), n-p-1)\n",
    "tTest"
   ]
  },
  {
   "cell_type": "code",
   "execution_count": 115,
   "metadata": {},
   "outputs": [
    {
     "data": {
      "text/plain": [
       "6    True\n",
       "dtype: bool"
      ]
     },
     "execution_count": 115,
     "metadata": {},
     "output_type": "execute_result"
    }
   ],
   "source": [
    "which = np.abs(student_del_resids)>=np.abs(tTest)\n",
    "which[which==True]"
   ]
  },
  {
   "cell_type": "markdown",
   "metadata": {},
   "source": [
    "*Decision Rule:*\n",
    "\n",
    "- If $|t_i| \\leq t(1-\\alpha/2n; n-p-1)$, $n=i$ is not an outlier.\n",
    "- If $|t_i| > t(1-\\alpha/2n; n-p-1)$, $n=i$ is an outlier.\n",
    "\n",
    "*Result:*\n",
    "\n",
    "We can see that $|t_i| > t(1-\\alpha/2n; n-p-1)$ for case #7, we conclude $H_1$ for that case. Case #7 is an outlier."
   ]
  },
  {
   "cell_type": "markdown",
   "metadata": {},
   "source": [
    "**(e)** Obtain the diagonal elell1ents of the hat matrix. Are there any outlying X observations? Discuss. (5pts)\n",
    "\n",
    "**Solution:**"
   ]
  },
  {
   "cell_type": "code",
   "execution_count": 118,
   "metadata": {},
   "outputs": [
    {
     "data": {
      "text/plain": [
       "2     True\n",
       "7     True\n",
       "14    True\n",
       "Name: hat_diag, dtype: bool"
      ]
     },
     "execution_count": 118,
     "metadata": {},
     "output_type": "execute_result"
    }
   ],
   "source": [
    "hii = OLSInfluence(lm_lung).summary_frame()[\"hat_diag\"]\n",
    "index = hii>2*p/n\n",
    "index[index==True]"
   ]
  },
  {
   "cell_type": "markdown",
   "metadata": {},
   "source": [
    "\n",
    "*Interpretation:*\n",
    "\n",
    "The hat matrix measures the distance between $X_i$ and $\\bar{X}$. We see that there are quite a few outlying X observations."
   ]
  },
  {
   "cell_type": "markdown",
   "metadata": {},
   "source": [
    "**(f)** Cases 3, 8, and 15 are moderately far outlying with respect to their X values, and case 7 is relatively far outlying with respect to its Y value. Obtain DFFITS, DFBETAS, and Cook's distance values for these cases to assess their inf1uence. What do you conclude? (10pts)\n",
    "\n",
    "**Solution:**"
   ]
  },
  {
   "cell_type": "code",
   "execution_count": 119,
   "metadata": {},
   "outputs": [
    {
     "data": {
      "text/html": [
       "<div>\n",
       "<style scoped>\n",
       "    .dataframe tbody tr th:only-of-type {\n",
       "        vertical-align: middle;\n",
       "    }\n",
       "\n",
       "    .dataframe tbody tr th {\n",
       "        vertical-align: top;\n",
       "    }\n",
       "\n",
       "    .dataframe thead th {\n",
       "        text-align: right;\n",
       "    }\n",
       "</style>\n",
       "<table border=\"1\" class=\"dataframe\">\n",
       "  <thead>\n",
       "    <tr style=\"text-align: right;\">\n",
       "      <th></th>\n",
       "      <th>dfb_Intercept</th>\n",
       "      <th>dfb_X1</th>\n",
       "      <th>dfb_X2</th>\n",
       "      <th>dfb_X1X2</th>\n",
       "      <th>cooks_d</th>\n",
       "      <th>standard_resid</th>\n",
       "      <th>hat_diag</th>\n",
       "      <th>dffits_internal</th>\n",
       "      <th>student_resid</th>\n",
       "      <th>dffits</th>\n",
       "    </tr>\n",
       "  </thead>\n",
       "  <tbody>\n",
       "    <tr>\n",
       "      <th>0</th>\n",
       "      <td>-0.747205</td>\n",
       "      <td>1.086986</td>\n",
       "      <td>0.223925</td>\n",
       "      <td>-0.595508</td>\n",
       "      <td>0.369041</td>\n",
       "      <td>1.969321</td>\n",
       "      <td>0.275692</td>\n",
       "      <td>1.214975</td>\n",
       "      <td>2.209498</td>\n",
       "      <td>1.363153</td>\n",
       "    </tr>\n",
       "    <tr>\n",
       "      <th>1</th>\n",
       "      <td>0.007215</td>\n",
       "      <td>0.030375</td>\n",
       "      <td>-0.005937</td>\n",
       "      <td>-0.020908</td>\n",
       "      <td>0.003833</td>\n",
       "      <td>0.410561</td>\n",
       "      <td>0.083370</td>\n",
       "      <td>0.123818</td>\n",
       "      <td>0.398887</td>\n",
       "      <td>0.120298</td>\n",
       "    </tr>\n",
       "    <tr>\n",
       "      <th>2</th>\n",
       "      <td>-0.651937</td>\n",
       "      <td>0.591913</td>\n",
       "      <td>0.433372</td>\n",
       "      <td>-0.481911</td>\n",
       "      <td>0.120516</td>\n",
       "      <td>-0.642279</td>\n",
       "      <td>0.538867</td>\n",
       "      <td>-0.694307</td>\n",
       "      <td>-0.629213</td>\n",
       "      <td>-0.680182</td>\n",
       "    </tr>\n",
       "    <tr>\n",
       "      <th>3</th>\n",
       "      <td>0.040625</td>\n",
       "      <td>-0.040524</td>\n",
       "      <td>-0.105923</td>\n",
       "      <td>0.092873</td>\n",
       "      <td>0.008854</td>\n",
       "      <td>-0.618137</td>\n",
       "      <td>0.084829</td>\n",
       "      <td>-0.188194</td>\n",
       "      <td>-0.604931</td>\n",
       "      <td>-0.184174</td>\n",
       "    </tr>\n",
       "    <tr>\n",
       "      <th>4</th>\n",
       "      <td>-0.048720</td>\n",
       "      <td>-0.000561</td>\n",
       "      <td>0.108881</td>\n",
       "      <td>-0.042167</td>\n",
       "      <td>0.014982</td>\n",
       "      <td>0.530316</td>\n",
       "      <td>0.175658</td>\n",
       "      <td>0.244802</td>\n",
       "      <td>0.517205</td>\n",
       "      <td>0.238750</td>\n",
       "    </tr>\n",
       "    <tr>\n",
       "      <th>5</th>\n",
       "      <td>-0.027644</td>\n",
       "      <td>-0.026282</td>\n",
       "      <td>0.071947</td>\n",
       "      <td>0.010397</td>\n",
       "      <td>0.023920</td>\n",
       "      <td>0.674533</td>\n",
       "      <td>0.173748</td>\n",
       "      <td>0.309319</td>\n",
       "      <td>0.661775</td>\n",
       "      <td>0.303468</td>\n",
       "    </tr>\n",
       "    <tr>\n",
       "      <th>6</th>\n",
       "      <td>1.454131</td>\n",
       "      <td>-1.277609</td>\n",
       "      <td>-0.741520</td>\n",
       "      <td>0.847523</td>\n",
       "      <td>0.458917</td>\n",
       "      <td>2.567968</td>\n",
       "      <td>0.217751</td>\n",
       "      <td>1.354868</td>\n",
       "      <td>3.314139</td>\n",
       "      <td>1.748551</td>\n",
       "    </tr>\n",
       "    <tr>\n",
       "      <th>7</th>\n",
       "      <td>-1.546908</td>\n",
       "      <td>1.186623</td>\n",
       "      <td>3.162265</td>\n",
       "      <td>-3.285790</td>\n",
       "      <td>4.990815</td>\n",
       "      <td>-1.663347</td>\n",
       "      <td>0.878279</td>\n",
       "      <td>-4.468026</td>\n",
       "      <td>-1.779408</td>\n",
       "      <td>-4.779785</td>\n",
       "    </tr>\n",
       "    <tr>\n",
       "      <th>8</th>\n",
       "      <td>0.102085</td>\n",
       "      <td>-0.046089</td>\n",
       "      <td>-0.105090</td>\n",
       "      <td>0.070106</td>\n",
       "      <td>0.007236</td>\n",
       "      <td>0.348387</td>\n",
       "      <td>0.192546</td>\n",
       "      <td>0.170126</td>\n",
       "      <td>0.337944</td>\n",
       "      <td>0.165026</td>\n",
       "    </tr>\n",
       "    <tr>\n",
       "      <th>9</th>\n",
       "      <td>0.035880</td>\n",
       "      <td>-0.171698</td>\n",
       "      <td>0.009243</td>\n",
       "      <td>0.101652</td>\n",
       "      <td>0.040999</td>\n",
       "      <td>-1.203490</td>\n",
       "      <td>0.101710</td>\n",
       "      <td>-0.404965</td>\n",
       "      <td>-1.223238</td>\n",
       "      <td>-0.411610</td>\n",
       "    </tr>\n",
       "    <tr>\n",
       "      <th>10</th>\n",
       "      <td>0.108950</td>\n",
       "      <td>-0.171977</td>\n",
       "      <td>-0.060837</td>\n",
       "      <td>0.118348</td>\n",
       "      <td>0.016600</td>\n",
       "      <td>-0.727198</td>\n",
       "      <td>0.111554</td>\n",
       "      <td>-0.257680</td>\n",
       "      <td>-0.715261</td>\n",
       "      <td>-0.253450</td>\n",
       "    </tr>\n",
       "    <tr>\n",
       "      <th>11</th>\n",
       "      <td>0.001273</td>\n",
       "      <td>0.006001</td>\n",
       "      <td>0.005762</td>\n",
       "      <td>-0.009502</td>\n",
       "      <td>0.000320</td>\n",
       "      <td>0.132581</td>\n",
       "      <td>0.067962</td>\n",
       "      <td>0.035801</td>\n",
       "      <td>0.128160</td>\n",
       "      <td>0.034607</td>\n",
       "    </tr>\n",
       "    <tr>\n",
       "      <th>12</th>\n",
       "      <td>-0.126038</td>\n",
       "      <td>0.051336</td>\n",
       "      <td>-0.012037</td>\n",
       "      <td>0.032298</td>\n",
       "      <td>0.040228</td>\n",
       "      <td>-1.405707</td>\n",
       "      <td>0.075301</td>\n",
       "      <td>-0.401140</td>\n",
       "      <td>-1.457427</td>\n",
       "      <td>-0.415899</td>\n",
       "    </tr>\n",
       "    <tr>\n",
       "      <th>13</th>\n",
       "      <td>-0.107494</td>\n",
       "      <td>0.144648</td>\n",
       "      <td>0.079720</td>\n",
       "      <td>-0.109737</td>\n",
       "      <td>0.012712</td>\n",
       "      <td>0.704453</td>\n",
       "      <td>0.092941</td>\n",
       "      <td>0.225496</td>\n",
       "      <td>0.692111</td>\n",
       "      <td>0.221546</td>\n",
       "    </tr>\n",
       "    <tr>\n",
       "      <th>14</th>\n",
       "      <td>-0.015506</td>\n",
       "      <td>-0.035251</td>\n",
       "      <td>0.077147</td>\n",
       "      <td>-0.015700</td>\n",
       "      <td>0.008170</td>\n",
       "      <td>0.188230</td>\n",
       "      <td>0.479821</td>\n",
       "      <td>0.180781</td>\n",
       "      <td>0.182063</td>\n",
       "      <td>0.174857</td>\n",
       "    </tr>\n",
       "    <tr>\n",
       "      <th>15</th>\n",
       "      <td>-0.022745</td>\n",
       "      <td>0.017421</td>\n",
       "      <td>-0.037191</td>\n",
       "      <td>0.028348</td>\n",
       "      <td>0.004218</td>\n",
       "      <td>-0.413863</td>\n",
       "      <td>0.089673</td>\n",
       "      <td>-0.129894</td>\n",
       "      <td>-0.402132</td>\n",
       "      <td>-0.126212</td>\n",
       "    </tr>\n",
       "    <tr>\n",
       "      <th>16</th>\n",
       "      <td>0.051851</td>\n",
       "      <td>-0.018569</td>\n",
       "      <td>-0.192026</td>\n",
       "      <td>0.142575</td>\n",
       "      <td>0.021956</td>\n",
       "      <td>-0.721264</td>\n",
       "      <td>0.144438</td>\n",
       "      <td>-0.296352</td>\n",
       "      <td>-0.709214</td>\n",
       "      <td>-0.291401</td>\n",
       "    </tr>\n",
       "    <tr>\n",
       "      <th>17</th>\n",
       "      <td>0.009124</td>\n",
       "      <td>-0.015709</td>\n",
       "      <td>-0.003581</td>\n",
       "      <td>0.009868</td>\n",
       "      <td>0.000142</td>\n",
       "      <td>-0.059305</td>\n",
       "      <td>0.139051</td>\n",
       "      <td>-0.023833</td>\n",
       "      <td>-0.057300</td>\n",
       "      <td>-0.023028</td>\n",
       "    </tr>\n",
       "    <tr>\n",
       "      <th>18</th>\n",
       "      <td>0.080552</td>\n",
       "      <td>-0.124148</td>\n",
       "      <td>-0.082846</td>\n",
       "      <td>0.114313</td>\n",
       "      <td>0.013708</td>\n",
       "      <td>-0.811805</td>\n",
       "      <td>0.076809</td>\n",
       "      <td>-0.234159</td>\n",
       "      <td>-0.802097</td>\n",
       "      <td>-0.231359</td>\n",
       "    </tr>\n",
       "  </tbody>\n",
       "</table>\n",
       "</div>"
      ],
      "text/plain": [
       "    dfb_Intercept    dfb_X1    dfb_X2  dfb_X1X2   cooks_d  standard_resid  \\\n",
       "0       -0.747205  1.086986  0.223925 -0.595508  0.369041        1.969321   \n",
       "1        0.007215  0.030375 -0.005937 -0.020908  0.003833        0.410561   \n",
       "2       -0.651937  0.591913  0.433372 -0.481911  0.120516       -0.642279   \n",
       "3        0.040625 -0.040524 -0.105923  0.092873  0.008854       -0.618137   \n",
       "4       -0.048720 -0.000561  0.108881 -0.042167  0.014982        0.530316   \n",
       "5       -0.027644 -0.026282  0.071947  0.010397  0.023920        0.674533   \n",
       "6        1.454131 -1.277609 -0.741520  0.847523  0.458917        2.567968   \n",
       "7       -1.546908  1.186623  3.162265 -3.285790  4.990815       -1.663347   \n",
       "8        0.102085 -0.046089 -0.105090  0.070106  0.007236        0.348387   \n",
       "9        0.035880 -0.171698  0.009243  0.101652  0.040999       -1.203490   \n",
       "10       0.108950 -0.171977 -0.060837  0.118348  0.016600       -0.727198   \n",
       "11       0.001273  0.006001  0.005762 -0.009502  0.000320        0.132581   \n",
       "12      -0.126038  0.051336 -0.012037  0.032298  0.040228       -1.405707   \n",
       "13      -0.107494  0.144648  0.079720 -0.109737  0.012712        0.704453   \n",
       "14      -0.015506 -0.035251  0.077147 -0.015700  0.008170        0.188230   \n",
       "15      -0.022745  0.017421 -0.037191  0.028348  0.004218       -0.413863   \n",
       "16       0.051851 -0.018569 -0.192026  0.142575  0.021956       -0.721264   \n",
       "17       0.009124 -0.015709 -0.003581  0.009868  0.000142       -0.059305   \n",
       "18       0.080552 -0.124148 -0.082846  0.114313  0.013708       -0.811805   \n",
       "\n",
       "    hat_diag  dffits_internal  student_resid    dffits  \n",
       "0   0.275692         1.214975       2.209498  1.363153  \n",
       "1   0.083370         0.123818       0.398887  0.120298  \n",
       "2   0.538867        -0.694307      -0.629213 -0.680182  \n",
       "3   0.084829        -0.188194      -0.604931 -0.184174  \n",
       "4   0.175658         0.244802       0.517205  0.238750  \n",
       "5   0.173748         0.309319       0.661775  0.303468  \n",
       "6   0.217751         1.354868       3.314139  1.748551  \n",
       "7   0.878279        -4.468026      -1.779408 -4.779785  \n",
       "8   0.192546         0.170126       0.337944  0.165026  \n",
       "9   0.101710        -0.404965      -1.223238 -0.411610  \n",
       "10  0.111554        -0.257680      -0.715261 -0.253450  \n",
       "11  0.067962         0.035801       0.128160  0.034607  \n",
       "12  0.075301        -0.401140      -1.457427 -0.415899  \n",
       "13  0.092941         0.225496       0.692111  0.221546  \n",
       "14  0.479821         0.180781       0.182063  0.174857  \n",
       "15  0.089673        -0.129894      -0.402132 -0.126212  \n",
       "16  0.144438        -0.296352      -0.709214 -0.291401  \n",
       "17  0.139051        -0.023833      -0.057300 -0.023028  \n",
       "18  0.076809        -0.234159      -0.802097 -0.231359  "
      ]
     },
     "execution_count": 119,
     "metadata": {},
     "output_type": "execute_result"
    }
   ],
   "source": [
    "influence_results = OLSInfluence(lm_lung).summary_frame()\n",
    "influence_results"
   ]
  },
  {
   "cell_type": "code",
   "execution_count": 120,
   "metadata": {},
   "outputs": [
    {
     "data": {
      "text/html": [
       "<div>\n",
       "<style scoped>\n",
       "    .dataframe tbody tr th:only-of-type {\n",
       "        vertical-align: middle;\n",
       "    }\n",
       "\n",
       "    .dataframe tbody tr th {\n",
       "        vertical-align: top;\n",
       "    }\n",
       "\n",
       "    .dataframe thead th {\n",
       "        text-align: right;\n",
       "    }\n",
       "</style>\n",
       "<table border=\"1\" class=\"dataframe\">\n",
       "  <thead>\n",
       "    <tr style=\"text-align: right;\">\n",
       "      <th></th>\n",
       "      <th>dfb_Intercept</th>\n",
       "      <th>dfb_X1</th>\n",
       "      <th>dfb_X2</th>\n",
       "      <th>dfb_X1X2</th>\n",
       "      <th>cooks_d</th>\n",
       "      <th>standard_resid</th>\n",
       "      <th>hat_diag</th>\n",
       "      <th>dffits_internal</th>\n",
       "      <th>student_resid</th>\n",
       "      <th>dffits</th>\n",
       "    </tr>\n",
       "  </thead>\n",
       "  <tbody>\n",
       "    <tr>\n",
       "      <th>2</th>\n",
       "      <td>-0.651937</td>\n",
       "      <td>0.591913</td>\n",
       "      <td>0.433372</td>\n",
       "      <td>-0.481911</td>\n",
       "      <td>0.120516</td>\n",
       "      <td>-0.642279</td>\n",
       "      <td>0.538867</td>\n",
       "      <td>-0.694307</td>\n",
       "      <td>-0.629213</td>\n",
       "      <td>-0.680182</td>\n",
       "    </tr>\n",
       "    <tr>\n",
       "      <th>6</th>\n",
       "      <td>1.454131</td>\n",
       "      <td>-1.277609</td>\n",
       "      <td>-0.741520</td>\n",
       "      <td>0.847523</td>\n",
       "      <td>0.458917</td>\n",
       "      <td>2.567968</td>\n",
       "      <td>0.217751</td>\n",
       "      <td>1.354868</td>\n",
       "      <td>3.314139</td>\n",
       "      <td>1.748551</td>\n",
       "    </tr>\n",
       "    <tr>\n",
       "      <th>7</th>\n",
       "      <td>-1.546908</td>\n",
       "      <td>1.186623</td>\n",
       "      <td>3.162265</td>\n",
       "      <td>-3.285790</td>\n",
       "      <td>4.990815</td>\n",
       "      <td>-1.663347</td>\n",
       "      <td>0.878279</td>\n",
       "      <td>-4.468026</td>\n",
       "      <td>-1.779408</td>\n",
       "      <td>-4.779785</td>\n",
       "    </tr>\n",
       "    <tr>\n",
       "      <th>14</th>\n",
       "      <td>-0.015506</td>\n",
       "      <td>-0.035251</td>\n",
       "      <td>0.077147</td>\n",
       "      <td>-0.015700</td>\n",
       "      <td>0.008170</td>\n",
       "      <td>0.188230</td>\n",
       "      <td>0.479821</td>\n",
       "      <td>0.180781</td>\n",
       "      <td>0.182063</td>\n",
       "      <td>0.174857</td>\n",
       "    </tr>\n",
       "  </tbody>\n",
       "</table>\n",
       "</div>"
      ],
      "text/plain": [
       "    dfb_Intercept    dfb_X1    dfb_X2  dfb_X1X2   cooks_d  standard_resid  \\\n",
       "2       -0.651937  0.591913  0.433372 -0.481911  0.120516       -0.642279   \n",
       "6        1.454131 -1.277609 -0.741520  0.847523  0.458917        2.567968   \n",
       "7       -1.546908  1.186623  3.162265 -3.285790  4.990815       -1.663347   \n",
       "14      -0.015506 -0.035251  0.077147 -0.015700  0.008170        0.188230   \n",
       "\n",
       "    hat_diag  dffits_internal  student_resid    dffits  \n",
       "2   0.538867        -0.694307      -0.629213 -0.680182  \n",
       "6   0.217751         1.354868       3.314139  1.748551  \n",
       "7   0.878279        -4.468026      -1.779408 -4.779785  \n",
       "14  0.479821         0.180781       0.182063  0.174857  "
      ]
     },
     "execution_count": 120,
     "metadata": {},
     "output_type": "execute_result"
    }
   ],
   "source": [
    "cases = [2,6,7,14]\n",
    "\n",
    "influence_results.iloc[cases]"
   ]
  },
  {
   "cell_type": "markdown",
   "metadata": {},
   "source": [
    "*Interpretation:*\n",
    "\n",
    "*Case #3:* \n",
    "\n",
    "|DFFITS|<1 implies that this case does not have significant influence on $Y_3$.\n",
    "\n",
    "|DFBETAS|<1 which implies this case does not have significant influence on the coefficients.\n",
    "\n",
    "Cook Distance: According to Cook's Distance, this case has little influence on all the fitted values, since $0.1<P(F(p, n-p) \\leq Cook's Distance)<0.5$.\n",
    "\n",
    "*Case #7:*\n",
    "\n",
    "|DFFITS|>1 implies that this case does have significant influence on $Y_7$.\n",
    "\n",
    "|DFBETAS|>1 for $\\beta_1$ only and remaining |DFBETAS|<1. Which implies this case only has significant influence on $\\beta_1$ the coefficients.\n",
    "\n",
    "Cook Distance: According to Cook's Distance, this case has little influence on all the fitted values, since $0.1<P(F(p, n-p) \\leq Cook's Distance)<0.5$.\n",
    "\n",
    "*Case #8:*\n",
    "\n",
    "|DFFITS|>1 implies that this case does have significant influence on $Y_8$.\n",
    "\n",
    "|DFBETAS|>1 for all variables. Which implies this case has significant influence on all the coefficients.\n",
    "\n",
    "Cook Distance: According to Cook's Distance, this case has major influence on all the fitted values, since $P(F(p, n-p) \\leq Cook's Distance)>0.5$.\n",
    "\n",
    "*Case #15:*\n",
    "\n",
    "|DFFITS|<1 implies that this case does not have significant influence on $Y_{15}$.\n",
    "\n",
    "|DFBETAS|<1 for all variables. Which implies this case does not have significant influence on any of the coefficients.\n",
    "\n",
    "Cook Distance: According to Cook's Distance, this case has no influence on all the fitted values, since $P(F(p, n-p) \\leq Cook's Distance)<0.1$.\n",
    "\n",
    "\n",
    "*Summary:*\n",
    "- Case #8 seems to be the biggest outlier compared to other cases seen above.\n",
    "- Case #7 has an impact only on $\\beta_1$, which means that only $X_7$ might the outlier here.\n",
    "- Case #3 and #15 don't seem to have much influence on the model and should not be consedered as outliers.\n"
   ]
  },
  {
   "cell_type": "markdown",
   "metadata": {},
   "source": [
    "**Question 3** Refer to the Prostate Cancer data set in Appendix C.6 and Homework 7. For the best subset model developed in Homework 7, perform appropriate diagnostic checks to evaluate outliers and assess their influence. Do any serious multicollinearity problems exist here? (20pts)\n",
    "\n",
    "**Solution:**"
   ]
  },
  {
   "cell_type": "code",
   "execution_count": 121,
   "metadata": {},
   "outputs": [],
   "source": [
    "prostate_data = pd.read_csv(\"data/Prostate Cancer.csv\")\n",
    "mapper = {\n",
    "    \"PSA level\": \"psa_level\",\n",
    "    \"Capsular penetration\": \"capsular_penetration\",\n",
    "    \"Cancer volume\": \"cancer_volume\"\n",
    "}\n",
    "\n",
    "prostate_data = prostate_data.rename(columns=mapper)"
   ]
  },
  {
   "cell_type": "code",
   "execution_count": 122,
   "metadata": {},
   "outputs": [
    {
     "data": {
      "text/html": [
       "<table class=\"simpletable\">\n",
       "<caption>OLS Regression Results</caption>\n",
       "<tr>\n",
       "  <th>Dep. Variable:</th>        <td>psa_level</td>    <th>  R-squared:         </th> <td>   0.416</td>\n",
       "</tr>\n",
       "<tr>\n",
       "  <th>Model:</th>                   <td>OLS</td>       <th>  Adj. R-squared:    </th> <td>   0.404</td>\n",
       "</tr>\n",
       "<tr>\n",
       "  <th>Method:</th>             <td>Least Squares</td>  <th>  F-statistic:       </th> <td>   33.55</td>\n",
       "</tr>\n",
       "<tr>\n",
       "  <th>Date:</th>             <td>Thu, 19 Dec 2019</td> <th>  Prob (F-statistic):</th> <td>1.01e-11</td>\n",
       "</tr>\n",
       "<tr>\n",
       "  <th>Time:</th>                 <td>22:57:49</td>     <th>  Log-Likelihood:    </th> <td> -470.71</td>\n",
       "</tr>\n",
       "<tr>\n",
       "  <th>No. Observations:</th>      <td>    97</td>      <th>  AIC:               </th> <td>   947.4</td>\n",
       "</tr>\n",
       "<tr>\n",
       "  <th>Df Residuals:</th>          <td>    94</td>      <th>  BIC:               </th> <td>   955.1</td>\n",
       "</tr>\n",
       "<tr>\n",
       "  <th>Df Model:</th>              <td>     2</td>      <th>                     </th>     <td> </td>   \n",
       "</tr>\n",
       "<tr>\n",
       "  <th>Covariance Type:</th>      <td>nonrobust</td>    <th>                     </th>     <td> </td>   \n",
       "</tr>\n",
       "</table>\n",
       "<table class=\"simpletable\">\n",
       "<tr>\n",
       "            <td></td>              <th>coef</th>     <th>std err</th>      <th>t</th>      <th>P>|t|</th>  <th>[0.025</th>    <th>0.975]</th>  \n",
       "</tr>\n",
       "<tr>\n",
       "  <th>Intercept</th>            <td>    1.3276</td> <td>    4.286</td> <td>    0.310</td> <td> 0.757</td> <td>   -7.182</td> <td>    9.838</td>\n",
       "</tr>\n",
       "<tr>\n",
       "  <th>cancer_volume</th>        <td>    2.4139</td> <td>    0.565</td> <td>    4.269</td> <td> 0.000</td> <td>    1.291</td> <td>    3.537</td>\n",
       "</tr>\n",
       "<tr>\n",
       "  <th>capsular_penetration</th> <td>    2.4533</td> <td>    1.178</td> <td>    2.083</td> <td> 0.040</td> <td>    0.115</td> <td>    4.792</td>\n",
       "</tr>\n",
       "</table>\n",
       "<table class=\"simpletable\">\n",
       "<tr>\n",
       "  <th>Omnibus:</th>       <td>95.581</td> <th>  Durbin-Watson:     </th> <td>   0.883</td> \n",
       "</tr>\n",
       "<tr>\n",
       "  <th>Prob(Omnibus):</th> <td> 0.000</td> <th>  Jarque-Bera (JB):  </th> <td>1168.613</td> \n",
       "</tr>\n",
       "<tr>\n",
       "  <th>Skew:</th>          <td> 3.147</td> <th>  Prob(JB):          </th> <td>1.73e-254</td>\n",
       "</tr>\n",
       "<tr>\n",
       "  <th>Kurtosis:</th>      <td>18.797</td> <th>  Cond. No.          </th> <td>    14.9</td> \n",
       "</tr>\n",
       "</table><br/><br/>Warnings:<br/>[1] Standard Errors assume that the covariance matrix of the errors is correctly specified."
      ],
      "text/plain": [
       "<class 'statsmodels.iolib.summary.Summary'>\n",
       "\"\"\"\n",
       "                            OLS Regression Results                            \n",
       "==============================================================================\n",
       "Dep. Variable:              psa_level   R-squared:                       0.416\n",
       "Model:                            OLS   Adj. R-squared:                  0.404\n",
       "Method:                 Least Squares   F-statistic:                     33.55\n",
       "Date:                Thu, 19 Dec 2019   Prob (F-statistic):           1.01e-11\n",
       "Time:                        22:57:49   Log-Likelihood:                -470.71\n",
       "No. Observations:                  97   AIC:                             947.4\n",
       "Df Residuals:                      94   BIC:                             955.1\n",
       "Df Model:                           2                                         \n",
       "Covariance Type:            nonrobust                                         \n",
       "========================================================================================\n",
       "                           coef    std err          t      P>|t|      [0.025      0.975]\n",
       "----------------------------------------------------------------------------------------\n",
       "Intercept                1.3276      4.286      0.310      0.757      -7.182       9.838\n",
       "cancer_volume            2.4139      0.565      4.269      0.000       1.291       3.537\n",
       "capsular_penetration     2.4533      1.178      2.083      0.040       0.115       4.792\n",
       "==============================================================================\n",
       "Omnibus:                       95.581   Durbin-Watson:                   0.883\n",
       "Prob(Omnibus):                  0.000   Jarque-Bera (JB):             1168.613\n",
       "Skew:                           3.147   Prob(JB):                    1.73e-254\n",
       "Kurtosis:                      18.797   Cond. No.                         14.9\n",
       "==============================================================================\n",
       "\n",
       "Warnings:\n",
       "[1] Standard Errors assume that the covariance matrix of the errors is correctly specified.\n",
       "\"\"\""
      ]
     },
     "execution_count": 122,
     "metadata": {},
     "output_type": "execute_result"
    }
   ],
   "source": [
    "lm_prostate_best = ols(\"psa_level~cancer_volume+capsular_penetration\", data=prostate_data).fit()\n",
    "lm_prostate_best.summary()"
   ]
  },
  {
   "cell_type": "code",
   "execution_count": 123,
   "metadata": {},
   "outputs": [
    {
     "data": {
      "text/plain": [
       "<matplotlib.collections.PathCollection at 0x7f413c636cd0>"
      ]
     },
     "execution_count": 123,
     "metadata": {},
     "output_type": "execute_result"
    },
    {
     "data": {
      "image/png": "[encoded data removed]",
      "text/plain": [
       "<Figure size 432x288 with 1 Axes>"
      ]
     },
     "metadata": {
      "needs_background": "light"
     },
     "output_type": "display_data"
    }
   ],
   "source": [
    "ei = lm_prostate_best.resid\n",
    "fitted_values = lm_prostate_best.fittedvalues\n",
    "plt.scatter(fitted_values, ei)"
   ]
  },
  {
   "cell_type": "code",
   "execution_count": 124,
   "metadata": {},
   "outputs": [
    {
     "data": {
      "image/png": "[encoded data removed]",
      "text/plain": [
       "<Figure size 432x288 with 1 Axes>"
      ]
     },
     "metadata": {
      "needs_background": "light"
     },
     "output_type": "display_data"
    }
   ],
   "source": [
    "stats.probplot(lm_prostate_best.resid, dist=\"norm\", plot=pylab)\n",
    "pylab.show()"
   ]
  },
  {
   "cell_type": "markdown",
   "metadata": {},
   "source": [
    "*Interpretation:*\n",
    "\n",
    "*Residual Plot:* We can see that the residuals are clustered near the lower values of the fitted Y's. We can also see a few outliers (like case #95, 96, 97).\n",
    "\n",
    "*Normal QQ plot:* The plot seems to be linear at the center, however, it deviates from linearity at the tails. Thus, it does not conform with the assumptions of normality."
   ]
  },
  {
   "cell_type": "code",
   "execution_count": 125,
   "metadata": {},
   "outputs": [
    {
     "data": {
      "text/plain": [
       "<matplotlib.collections.PathCollection at 0x7f413c509610>"
      ]
     },
     "execution_count": 125,
     "metadata": {},
     "output_type": "execute_result"
    },
    {
     "data": {
      "image/png": "[encoded data removed]",
      "text/plain": [
       "<Figure size 432x288 with 1 Axes>"
      ]
     },
     "metadata": {
      "needs_background": "light"
     },
     "output_type": "display_data"
    }
   ],
   "source": [
    "student_del_resids = OLSInfluence(lm_prostate_best).resid_studentized_external\n",
    "plt.scatter(student_del_resids.index, student_del_resids)"
   ]
  },
  {
   "cell_type": "markdown",
   "metadata": {},
   "source": [
    "*Interpretation:*\n",
    "\n",
    "Case #95, 96 and 97 again show up as outliers according to the Studentized Deleted Residuals, along with case #47."
   ]
  },
  {
   "cell_type": "code",
   "execution_count": 126,
   "metadata": {},
   "outputs": [
    {
     "data": {
      "text/plain": [
       "<BarContainer object of 97 artists>"
      ]
     },
     "execution_count": 126,
     "metadata": {},
     "output_type": "execute_result"
    },
    {
     "data": {
      "image/png": "[encoded data removed]",
      "text/plain": [
       "<Figure size 432x288 with 1 Axes>"
      ]
     },
     "metadata": {
      "needs_background": "light"
     },
     "output_type": "display_data"
    }
   ],
   "source": [
    "cooks_d = OLSInfluence(lm_prostate_best).summary_frame()[\"cooks_d\"]\n",
    "plt.bar(cooks_d.index, cooks_d)"
   ]
  },
  {
   "cell_type": "markdown",
   "metadata": {},
   "source": [
    "*Interpretation:*\n",
    "\n",
    "Cook's Distance also spots the same cases for the outliers as above (95,96,97 and possibly 47), with case #97 being the biggest influencer compared to the other cases.\n"
   ]
  },
  {
   "cell_type": "markdown",
   "metadata": {},
   "source": [
    "*Bonferroni Outlier Test:*\n",
    "\n",
    "Test value = $t(1-\\alpha/2n; n-p-1)$"
   ]
  },
  {
   "cell_type": "code",
   "execution_count": 127,
   "metadata": {},
   "outputs": [
    {
     "data": {
      "text/plain": [
       "3.5984469542422506"
      ]
     },
     "execution_count": 127,
     "metadata": {},
     "output_type": "execute_result"
    }
   ],
   "source": [
    "n = prostate_data.shape[0]\n",
    "p = len(lm_prostate_best.params)\n",
    "alpha = 0.05\n",
    "tTest = stats.t.ppf(1-alpha/(2*n), n-p-1)\n",
    "tTest"
   ]
  },
  {
   "cell_type": "code",
   "execution_count": 128,
   "metadata": {},
   "outputs": [
    {
     "data": {
      "text/plain": [
       "95    True\n",
       "96    True\n",
       "dtype: bool"
      ]
     },
     "execution_count": 128,
     "metadata": {},
     "output_type": "execute_result"
    }
   ],
   "source": [
    "which = np.abs(student_del_resids)>=np.abs(tTest)\n",
    "which[which==True]"
   ]
  },
  {
   "cell_type": "markdown",
   "metadata": {},
   "source": [
    "*Interpretation:*\n",
    "\n",
    "According to the Bonferroni test, we get case # 96 and 97 as the outliers at $\\alpha=0.05$.\n"
   ]
  },
  {
   "cell_type": "code",
   "execution_count": 129,
   "metadata": {},
   "outputs": [
    {
     "data": {
      "text/plain": [
       "46    True\n",
       "54    True\n",
       "75    True\n",
       "78    True\n",
       "81    True\n",
       "85    True\n",
       "88    True\n",
       "90    True\n",
       "93    True\n",
       "94    True\n",
       "96    True\n",
       "Name: hat_diag, dtype: bool"
      ]
     },
     "execution_count": 129,
     "metadata": {},
     "output_type": "execute_result"
    }
   ],
   "source": [
    "hii = OLSInfluence(lm_prostate_best).summary_frame()[\"hat_diag\"]\n",
    "index = hii>2*p/n\n",
    "index[index==True]"
   ]
  },
  {
   "cell_type": "markdown",
   "metadata": {},
   "source": [
    "*Interpretation:*\n",
    "\n",
    "According to just the X values we get the above indices as the outliers. Interestingly, it does not contain case #96."
   ]
  },
  {
   "cell_type": "code",
   "execution_count": 142,
   "metadata": {},
   "outputs": [
    {
     "data": {
      "text/plain": [
       "['cancer_volume', 'capsular_penetration']"
      ]
     },
     "execution_count": 142,
     "metadata": {},
     "output_type": "execute_result"
    }
   ],
   "source": [
    "list(lm_prostate_best.params.index)[1:]"
   ]
  },
  {
   "cell_type": "code",
   "execution_count": 143,
   "metadata": {},
   "outputs": [
    {
     "name": "stdout",
     "output_type": "stream",
     "text": [
      "const                   1.797793\n",
      "cancer_volume           1.923468\n",
      "capsular_penetration    1.923468\n",
      "dtype: float64\n"
     ]
    },
    {
     "name": "stderr",
     "output_type": "stream",
     "text": [
      "/home/srk-apts/anaconda3/lib/python3.7/site-packages/numpy/core/fromnumeric.py:2389: FutureWarning: Method .ptp is deprecated and will be removed in a future version. Use numpy.ptp instead.\n",
      "  return ptp(axis=axis, out=out, **kwargs)\n"
     ]
    }
   ],
   "source": [
    "X_cols = list(lm_prostate_best.params.index)[1:]\n",
    "X = sm.add_constant(prostate_data[X_cols])\n",
    "vif = pd.Series([variance_inflation_factor(X.values, i) for i in range(X.shape[1])], \n",
    "                index=X.columns)\n",
    "print(vif)"
   ]
  },
  {
   "cell_type": "code",
   "execution_count": 145,
   "metadata": {},
   "outputs": [
    {
     "data": {
      "text/html": [
       "<div>\n",
       "<style scoped>\n",
       "    .dataframe tbody tr th:only-of-type {\n",
       "        vertical-align: middle;\n",
       "    }\n",
       "\n",
       "    .dataframe tbody tr th {\n",
       "        vertical-align: top;\n",
       "    }\n",
       "\n",
       "    .dataframe thead th {\n",
       "        text-align: right;\n",
       "    }\n",
       "</style>\n",
       "<table border=\"1\" class=\"dataframe\">\n",
       "  <thead>\n",
       "    <tr style=\"text-align: right;\">\n",
       "      <th></th>\n",
       "      <th>cancer_volume</th>\n",
       "      <th>capsular_penetration</th>\n",
       "    </tr>\n",
       "  </thead>\n",
       "  <tbody>\n",
       "    <tr>\n",
       "      <th>cancer_volume</th>\n",
       "      <td>1.000000</td>\n",
       "      <td>0.692897</td>\n",
       "    </tr>\n",
       "    <tr>\n",
       "      <th>capsular_penetration</th>\n",
       "      <td>0.692897</td>\n",
       "      <td>1.000000</td>\n",
       "    </tr>\n",
       "  </tbody>\n",
       "</table>\n",
       "</div>"
      ],
      "text/plain": [
       "                      cancer_volume  capsular_penetration\n",
       "cancer_volume              1.000000              0.692897\n",
       "capsular_penetration       0.692897              1.000000"
      ]
     },
     "execution_count": 145,
     "metadata": {},
     "output_type": "execute_result"
    }
   ],
   "source": [
    "prostate_data[X_cols].corr()"
   ]
  },
  {
   "cell_type": "markdown",
   "metadata": {},
   "source": [
    "*Interpretation:*\n",
    "\n",
    "Based on the VIF of the model in cosideration and the correlation matrix above, we see that there exists multi-collinearity in the dataset."
   ]
  },
  {
   "cell_type": "code",
   "execution_count": 146,
   "metadata": {},
   "outputs": [
    {
     "data": {
      "text/html": [
       "<div>\n",
       "<style scoped>\n",
       "    .dataframe tbody tr th:only-of-type {\n",
       "        vertical-align: middle;\n",
       "    }\n",
       "\n",
       "    .dataframe tbody tr th {\n",
       "        vertical-align: top;\n",
       "    }\n",
       "\n",
       "    .dataframe thead th {\n",
       "        text-align: right;\n",
       "    }\n",
       "</style>\n",
       "<table border=\"1\" class=\"dataframe\">\n",
       "  <thead>\n",
       "    <tr style=\"text-align: right;\">\n",
       "      <th></th>\n",
       "      <th>dfb_Intercept</th>\n",
       "      <th>dfb_cancer_volume</th>\n",
       "      <th>dfb_capsular_penetration</th>\n",
       "      <th>cooks_d</th>\n",
       "      <th>standard_resid</th>\n",
       "      <th>hat_diag</th>\n",
       "      <th>dffits_internal</th>\n",
       "      <th>student_resid</th>\n",
       "      <th>dffits</th>\n",
       "    </tr>\n",
       "  </thead>\n",
       "  <tbody>\n",
       "    <tr>\n",
       "      <th>46</th>\n",
       "      <td>-0.026745</td>\n",
       "      <td>0.370313</td>\n",
       "      <td>-0.790055</td>\n",
       "      <td>0.237286</td>\n",
       "      <td>-2.069924</td>\n",
       "      <td>0.142473</td>\n",
       "      <td>-0.843717</td>\n",
       "      <td>-2.107474</td>\n",
       "      <td>-0.859022</td>\n",
       "    </tr>\n",
       "    <tr>\n",
       "      <th>93</th>\n",
       "      <td>0.306354</td>\n",
       "      <td>-0.612162</td>\n",
       "      <td>0.276323</td>\n",
       "      <td>0.143713</td>\n",
       "      <td>-0.965281</td>\n",
       "      <td>0.316338</td>\n",
       "      <td>-0.656613</td>\n",
       "      <td>-0.964927</td>\n",
       "      <td>-0.656372</td>\n",
       "    </tr>\n",
       "    <tr>\n",
       "      <th>94</th>\n",
       "      <td>-0.060697</td>\n",
       "      <td>-0.143983</td>\n",
       "      <td>0.742448</td>\n",
       "      <td>0.282795</td>\n",
       "      <td>3.186114</td>\n",
       "      <td>0.077128</td>\n",
       "      <td>0.921078</td>\n",
       "      <td>3.355480</td>\n",
       "      <td>0.970041</td>\n",
       "    </tr>\n",
       "    <tr>\n",
       "      <th>95</th>\n",
       "      <td>-0.139916</td>\n",
       "      <td>0.979119</td>\n",
       "      <td>-0.307648</td>\n",
       "      <td>0.382670</td>\n",
       "      <td>5.933905</td>\n",
       "      <td>0.031574</td>\n",
       "      <td>1.071452</td>\n",
       "      <td>7.463368</td>\n",
       "      <td>1.347619</td>\n",
       "    </tr>\n",
       "    <tr>\n",
       "      <th>96</th>\n",
       "      <td>-0.875538</td>\n",
       "      <td>0.250916</td>\n",
       "      <td>1.841731</td>\n",
       "      <td>2.051004</td>\n",
       "      <td>5.016861</td>\n",
       "      <td>0.196444</td>\n",
       "      <td>2.480526</td>\n",
       "      <td>5.831513</td>\n",
       "      <td>2.883321</td>\n",
       "    </tr>\n",
       "  </tbody>\n",
       "</table>\n",
       "</div>"
      ],
      "text/plain": [
       "    dfb_Intercept  dfb_cancer_volume  dfb_capsular_penetration   cooks_d  \\\n",
       "46      -0.026745           0.370313                 -0.790055  0.237286   \n",
       "93       0.306354          -0.612162                  0.276323  0.143713   \n",
       "94      -0.060697          -0.143983                  0.742448  0.282795   \n",
       "95      -0.139916           0.979119                 -0.307648  0.382670   \n",
       "96      -0.875538           0.250916                  1.841731  2.051004   \n",
       "\n",
       "    standard_resid  hat_diag  dffits_internal  student_resid    dffits  \n",
       "46       -2.069924  0.142473        -0.843717      -2.107474 -0.859022  \n",
       "93       -0.965281  0.316338        -0.656613      -0.964927 -0.656372  \n",
       "94        3.186114  0.077128         0.921078       3.355480  0.970041  \n",
       "95        5.933905  0.031574         1.071452       7.463368  1.347619  \n",
       "96        5.016861  0.196444         2.480526       5.831513  2.883321  "
      ]
     },
     "execution_count": 146,
     "metadata": {},
     "output_type": "execute_result"
    }
   ],
   "source": [
    "cases = [46,93,94,95,96]\n",
    "influence_results = OLSInfluence(lm_prostate_best).summary_frame()\n",
    "influence_results.iloc[cases]"
   ]
  },
  {
   "cell_type": "markdown",
   "metadata": {},
   "source": [
    "*Interpretation*\n",
    "\n",
    "- Looking at the influence measures (DFFITS, Cook's distances, DFBETAS) above, case #96 and 97 have higher influence that the other cases.\n",
    "- Looking at all the diagnostics so far, we can conclude the case #96 and 97 have greater influence on the overall model compared to the other cases that have shown up as outliers.\n"
   ]
  }
 ],
 "metadata": {
  "kernelspec": {
   "display_name": "Python 3",
   "language": "python",
   "name": "python3"
  },
  "language_info": {
   "codemirror_mode": {
    "name": "ipython",
    "version": 3
   },
   "file_extension": ".py",
   "mimetype": "text/x-python",
   "name": "python",
   "nbconvert_exporter": "python",
   "pygments_lexer": "ipython3",
   "version": "3.7.4"
  }
 },
 "nbformat": 4,
 "nbformat_minor": 2
}
