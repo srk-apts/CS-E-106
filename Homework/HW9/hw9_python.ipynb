{
 "cells": [
  {
   "cell_type": "markdown",
   "metadata": {},
   "source": [
    "# CS-E-106: Data Modeling\n",
    "## Fall 2019: HW 09"
   ]
  },
  {
   "cell_type": "markdown",
   "metadata": {},
   "source": [
    "### Important References and Links\n",
    "\n",
    "*1. WLS :*\n",
    "\n",
    "https://www.statsmodels.org/dev/examples/notebooks/generated/wls.html\n"
   ]
  },
  {
   "cell_type": "code",
   "execution_count": 2,
   "metadata": {},
   "outputs": [],
   "source": [
    "# ! pip install mlxtend"
   ]
  },
  {
   "cell_type": "code",
   "execution_count": 24,
   "metadata": {},
   "outputs": [],
   "source": [
    "import numpy as np\n",
    "import os\n",
    "import pandas as pd\n",
    "from scipy import stats\n",
    "import time\n",
    "import random\n",
    "import itertools\n",
    "import statsmodels.api as sm\n",
    "from statsmodels.formula.api import ols\n",
    "from statsmodels.stats.anova import anova_lm\n",
    "from statsmodels.stats.outliers_influence import OLSInfluence\n",
    "from statsmodels.stats.outliers_influence import variance_inflation_factor\n",
    "import seaborn as sns\n",
    "import matplotlib.pyplot as plt\n",
    "from statsmodels.graphics import gofplots\n",
    "import pylab\n",
    "from sklearn.linear_model import LinearRegression\n",
    "from sklearn.preprocessing import Imputer, StandardScaler, PolynomialFeatures\n",
    "from mlxtend.feature_selection import ExhaustiveFeatureSelector as EFS\n",
    "from mlxtend.feature_selection import SequentialFeatureSelector as SFS"
   ]
  },
  {
   "cell_type": "markdown",
   "metadata": {},
   "source": [
    "### Utility Functions"
   ]
  },
  {
   "cell_type": "code",
   "execution_count": 25,
   "metadata": {},
   "outputs": [],
   "source": [
    "def scale_numeric(fit_df, trans_df, cols):\n",
    "    df_scaled = trans_df[cols].copy()\n",
    "    scaler = StandardScaler().fit(fit_df[cols])\n",
    "    df_scaled = pd.DataFrame(scaler.transform(df_scaled), index=df_scaled.index, columns=cols)\n",
    "    return(df_scaled)\n",
    "\n",
    "def scale_encode(fit_df, trans_df, scale_num=True):\n",
    "    num_cols = list(fit_df.columns[(fit_df.dtypes == 'float64') | (fit_df.dtypes == 'int64')])\n",
    "    str_cols = list(set(fit_df.columns)^set(num_cols))\n",
    "\n",
    "    if (len(num_cols)>0) & (len(str_cols)>0):\n",
    "        if scale_num:\n",
    "            df_scaled = scale_numeric(fit_df=fit_df, trans_df=trans_df, cols=num_cols)\n",
    "        else:\n",
    "            df_scaled = trans_df[num_cols].copy()\n",
    "        df_dummy = pd.get_dummies(trans_df[str_cols])\n",
    "        df =  df_scaled.join(df_dummy)\n",
    "    elif len(str_cols)>0:\n",
    "        df = pd.get_dummies(trans_df[str_cols])\n",
    "    elif len(num_cols)>0:\n",
    "        if scale_num:\n",
    "            df = scale_numeric(fit_df=fit_df, trans_df=trans_df, cols=num_cols)\n",
    "        else:\n",
    "            df = trans_df[num_cols].copy()\n",
    "    else:\n",
    "        df = trans_df.copy()\n",
    "    \n",
    "    return(df)"
   ]
  },
  {
   "cell_type": "markdown",
   "metadata": {},
   "source": [
    "**Question 1** Refer to Employee salaries data. A group of high-technology companies agreed to share employee salary information in an effort to establish salary ranges for technical positions in research and development. Data obtained for each employee included current salary (Y), a coded variable indicating highest academic degree obtained (1 = bachelor's degree, 2 = master's degree; 3 = doctoral degree), years of experience since last degree (X3), and the number of persons currently supervised (X4).  (40 pts)\n",
    "\n",
    "**(a)** Create two indicator variables for highest degree attained: (5pts)\n",
    "\n",
    "**Solution**"
   ]
  },
  {
   "cell_type": "code",
   "execution_count": 26,
   "metadata": {},
   "outputs": [
    {
     "data": {
      "text/html": [
       "<div>\n",
       "<style scoped>\n",
       "    .dataframe tbody tr th:only-of-type {\n",
       "        vertical-align: middle;\n",
       "    }\n",
       "\n",
       "    .dataframe tbody tr th {\n",
       "        vertical-align: top;\n",
       "    }\n",
       "\n",
       "    .dataframe thead th {\n",
       "        text-align: right;\n",
       "    }\n",
       "</style>\n",
       "<table border=\"1\" class=\"dataframe\">\n",
       "  <thead>\n",
       "    <tr style=\"text-align: right;\">\n",
       "      <th></th>\n",
       "      <th>Y</th>\n",
       "      <th>Degree</th>\n",
       "      <th>X3</th>\n",
       "      <th>X4</th>\n",
       "      <th>X1</th>\n",
       "      <th>X2</th>\n",
       "    </tr>\n",
       "  </thead>\n",
       "  <tbody>\n",
       "    <tr>\n",
       "      <th>count</th>\n",
       "      <td>65.000000</td>\n",
       "      <td>65.000000</td>\n",
       "      <td>65.000000</td>\n",
       "      <td>65.000000</td>\n",
       "      <td>65.000000</td>\n",
       "      <td>65.000000</td>\n",
       "    </tr>\n",
       "    <tr>\n",
       "      <th>mean</th>\n",
       "      <td>60.018462</td>\n",
       "      <td>2.092308</td>\n",
       "      <td>7.958615</td>\n",
       "      <td>3.446154</td>\n",
       "      <td>0.415385</td>\n",
       "      <td>0.338462</td>\n",
       "    </tr>\n",
       "    <tr>\n",
       "      <th>std</th>\n",
       "      <td>26.570672</td>\n",
       "      <td>0.764916</td>\n",
       "      <td>7.244190</td>\n",
       "      <td>7.382477</td>\n",
       "      <td>0.496623</td>\n",
       "      <td>0.476869</td>\n",
       "    </tr>\n",
       "    <tr>\n",
       "      <th>min</th>\n",
       "      <td>29.000000</td>\n",
       "      <td>1.000000</td>\n",
       "      <td>0.140000</td>\n",
       "      <td>0.000000</td>\n",
       "      <td>0.000000</td>\n",
       "      <td>0.000000</td>\n",
       "    </tr>\n",
       "    <tr>\n",
       "      <th>25%</th>\n",
       "      <td>40.900000</td>\n",
       "      <td>2.000000</td>\n",
       "      <td>2.260000</td>\n",
       "      <td>0.000000</td>\n",
       "      <td>0.000000</td>\n",
       "      <td>0.000000</td>\n",
       "    </tr>\n",
       "    <tr>\n",
       "      <th>50%</th>\n",
       "      <td>55.900000</td>\n",
       "      <td>2.000000</td>\n",
       "      <td>5.180000</td>\n",
       "      <td>0.000000</td>\n",
       "      <td>0.000000</td>\n",
       "      <td>0.000000</td>\n",
       "    </tr>\n",
       "    <tr>\n",
       "      <th>75%</th>\n",
       "      <td>70.600000</td>\n",
       "      <td>3.000000</td>\n",
       "      <td>12.880000</td>\n",
       "      <td>5.000000</td>\n",
       "      <td>1.000000</td>\n",
       "      <td>1.000000</td>\n",
       "    </tr>\n",
       "    <tr>\n",
       "      <th>max</th>\n",
       "      <td>163.700000</td>\n",
       "      <td>3.000000</td>\n",
       "      <td>29.540000</td>\n",
       "      <td>42.000000</td>\n",
       "      <td>1.000000</td>\n",
       "      <td>1.000000</td>\n",
       "    </tr>\n",
       "  </tbody>\n",
       "</table>\n",
       "</div>"
      ],
      "text/plain": [
       "                Y     Degree         X3         X4         X1         X2\n",
       "count   65.000000  65.000000  65.000000  65.000000  65.000000  65.000000\n",
       "mean    60.018462   2.092308   7.958615   3.446154   0.415385   0.338462\n",
       "std     26.570672   0.764916   7.244190   7.382477   0.496623   0.476869\n",
       "min     29.000000   1.000000   0.140000   0.000000   0.000000   0.000000\n",
       "25%     40.900000   2.000000   2.260000   0.000000   0.000000   0.000000\n",
       "50%     55.900000   2.000000   5.180000   0.000000   0.000000   0.000000\n",
       "75%     70.600000   3.000000  12.880000   5.000000   1.000000   1.000000\n",
       "max    163.700000   3.000000  29.540000  42.000000   1.000000   1.000000"
      ]
     },
     "execution_count": 26,
     "metadata": {},
     "output_type": "execute_result"
    }
   ],
   "source": [
    "employee_data = pd.read_csv(\"data/Employee  Salaries.csv\")\n",
    "employee_data[\"X1\"] = pd.get_dummies(employee_data[\"Degree\"]).iloc[:,1]\n",
    "employee_data[\"X2\"] = pd.get_dummies(employee_data[\"Degree\"]).iloc[:,2]\n",
    "employee_data.describe()"
   ]
  },
  {
   "cell_type": "markdown",
   "metadata": {},
   "source": [
    "**(b)** Regress Y on X1, X2, X3 and X4, using a first-order model and ordinary least squares, obtain the residuals. and plot them against Y ̂. What does the residual plot suggest? (5pts)\n",
    "\n",
    "**Solution**"
   ]
  },
  {
   "cell_type": "code",
   "execution_count": 28,
   "metadata": {},
   "outputs": [
    {
     "data": {
      "text/html": [
       "<table class=\"simpletable\">\n",
       "<caption>OLS Regression Results</caption>\n",
       "<tr>\n",
       "  <th>Dep. Variable:</th>            <td>Y</td>        <th>  R-squared:         </th> <td>   0.863</td>\n",
       "</tr>\n",
       "<tr>\n",
       "  <th>Model:</th>                   <td>OLS</td>       <th>  Adj. R-squared:    </th> <td>   0.854</td>\n",
       "</tr>\n",
       "<tr>\n",
       "  <th>Method:</th>             <td>Least Squares</td>  <th>  F-statistic:       </th> <td>   94.76</td>\n",
       "</tr>\n",
       "<tr>\n",
       "  <th>Date:</th>             <td>Sun, 22 Dec 2019</td> <th>  Prob (F-statistic):</th> <td>3.16e-25</td>\n",
       "</tr>\n",
       "<tr>\n",
       "  <th>Time:</th>                 <td>14:12:44</td>     <th>  Log-Likelihood:    </th> <td> -240.23</td>\n",
       "</tr>\n",
       "<tr>\n",
       "  <th>No. Observations:</th>      <td>    65</td>      <th>  AIC:               </th> <td>   490.5</td>\n",
       "</tr>\n",
       "<tr>\n",
       "  <th>Df Residuals:</th>          <td>    60</td>      <th>  BIC:               </th> <td>   501.3</td>\n",
       "</tr>\n",
       "<tr>\n",
       "  <th>Df Model:</th>              <td>     4</td>      <th>                     </th>     <td> </td>   \n",
       "</tr>\n",
       "<tr>\n",
       "  <th>Covariance Type:</th>      <td>nonrobust</td>    <th>                     </th>     <td> </td>   \n",
       "</tr>\n",
       "</table>\n",
       "<table class=\"simpletable\">\n",
       "<tr>\n",
       "      <td></td>         <th>coef</th>     <th>std err</th>      <th>t</th>      <th>P>|t|</th>  <th>[0.025</th>    <th>0.975]</th>  \n",
       "</tr>\n",
       "<tr>\n",
       "  <th>Intercept</th> <td>   31.4714</td> <td>    2.869</td> <td>   10.969</td> <td> 0.000</td> <td>   25.732</td> <td>   37.210</td>\n",
       "</tr>\n",
       "<tr>\n",
       "  <th>X1</th>        <td>   10.8120</td> <td>    3.218</td> <td>    3.360</td> <td> 0.001</td> <td>    4.374</td> <td>   17.250</td>\n",
       "</tr>\n",
       "<tr>\n",
       "  <th>X2</th>        <td>   22.6307</td> <td>    3.485</td> <td>    6.494</td> <td> 0.000</td> <td>   15.660</td> <td>   29.601</td>\n",
       "</tr>\n",
       "<tr>\n",
       "  <th>X3</th>        <td>    1.2581</td> <td>    0.227</td> <td>    5.535</td> <td> 0.000</td> <td>    0.803</td> <td>    1.713</td>\n",
       "</tr>\n",
       "<tr>\n",
       "  <th>X4</th>        <td>    1.8523</td> <td>    0.228</td> <td>    8.137</td> <td> 0.000</td> <td>    1.397</td> <td>    2.308</td>\n",
       "</tr>\n",
       "</table>\n",
       "<table class=\"simpletable\">\n",
       "<tr>\n",
       "  <th>Omnibus:</th>       <td>13.921</td> <th>  Durbin-Watson:     </th> <td>   2.122</td>\n",
       "</tr>\n",
       "<tr>\n",
       "  <th>Prob(Omnibus):</th> <td> 0.001</td> <th>  Jarque-Bera (JB):  </th> <td>  29.803</td>\n",
       "</tr>\n",
       "<tr>\n",
       "  <th>Skew:</th>          <td> 0.587</td> <th>  Prob(JB):          </th> <td>3.38e-07</td>\n",
       "</tr>\n",
       "<tr>\n",
       "  <th>Kurtosis:</th>      <td> 6.103</td> <th>  Cond. No.          </th> <td>    48.0</td>\n",
       "</tr>\n",
       "</table><br/><br/>Warnings:<br/>[1] Standard Errors assume that the covariance matrix of the errors is correctly specified."
      ],
      "text/plain": [
       "<class 'statsmodels.iolib.summary.Summary'>\n",
       "\"\"\"\n",
       "                            OLS Regression Results                            \n",
       "==============================================================================\n",
       "Dep. Variable:                      Y   R-squared:                       0.863\n",
       "Model:                            OLS   Adj. R-squared:                  0.854\n",
       "Method:                 Least Squares   F-statistic:                     94.76\n",
       "Date:                Sun, 22 Dec 2019   Prob (F-statistic):           3.16e-25\n",
       "Time:                        14:12:44   Log-Likelihood:                -240.23\n",
       "No. Observations:                  65   AIC:                             490.5\n",
       "Df Residuals:                      60   BIC:                             501.3\n",
       "Df Model:                           4                                         \n",
       "Covariance Type:            nonrobust                                         \n",
       "==============================================================================\n",
       "                 coef    std err          t      P>|t|      [0.025      0.975]\n",
       "------------------------------------------------------------------------------\n",
       "Intercept     31.4714      2.869     10.969      0.000      25.732      37.210\n",
       "X1            10.8120      3.218      3.360      0.001       4.374      17.250\n",
       "X2            22.6307      3.485      6.494      0.000      15.660      29.601\n",
       "X3             1.2581      0.227      5.535      0.000       0.803       1.713\n",
       "X4             1.8523      0.228      8.137      0.000       1.397       2.308\n",
       "==============================================================================\n",
       "Omnibus:                       13.921   Durbin-Watson:                   2.122\n",
       "Prob(Omnibus):                  0.001   Jarque-Bera (JB):               29.803\n",
       "Skew:                           0.587   Prob(JB):                     3.38e-07\n",
       "Kurtosis:                       6.103   Cond. No.                         48.0\n",
       "==============================================================================\n",
       "\n",
       "Warnings:\n",
       "[1] Standard Errors assume that the covariance matrix of the errors is correctly specified.\n",
       "\"\"\""
      ]
     },
     "execution_count": 28,
     "metadata": {},
     "output_type": "execute_result"
    }
   ],
   "source": [
    "lm_employee = ols(\"Y~X1+X2+X3+X4\", data=employee_data).fit()\n",
    "lm_employee.summary()"
   ]
  },
  {
   "cell_type": "code",
   "execution_count": 29,
   "metadata": {},
   "outputs": [
    {
     "data": {
      "text/plain": [
       "<matplotlib.collections.PathCollection at 0x7f02dc4da950>"
      ]
     },
     "execution_count": 29,
     "metadata": {},
     "output_type": "execute_result"
    },
    {
     "data": {
      "image/png": "[encoded data removed]",
      "text/plain": [
       "<Figure size 432x288 with 1 Axes>"
      ]
     },
     "metadata": {
      "needs_background": "light"
     },
     "output_type": "display_data"
    }
   ],
   "source": [
    "ei = lm_employee.resid\n",
    "fitted_values = lm_employee.fittedvalues\n",
    "plt.scatter(fitted_values, ei)"
   ]
  },
  {
   "cell_type": "markdown",
   "metadata": {},
   "source": [
    "\n",
    "*Interpretation:*\n",
    "\n",
    "Residual plot shows a megaphone shape which impies non-constant variance. Also, it means that $e_i$ regresses on $\\hat{Y}$. "
   ]
  },
  {
   "cell_type": "markdown",
   "metadata": {},
   "source": [
    "**(c)** Divide the cases into two groups, placing the 33 cases with the smallest fitted values (Y_i ) ̂ into group 1 and the other 32 cases into group 2. Conduct the Brown-Forsythe test for constancy of the error variance, using α = .01. State the decision rule and conclusion? (5 pts)\n",
    "\n",
    "**Solution**"
   ]
  },
  {
   "cell_type": "markdown",
   "metadata": {},
   "source": [
    "\n",
    "*Brown-Forsythe Test*\n",
    "\n",
    "Null Hypothesis: $H_{0}$: Error variance is constant\n",
    "Alternate Hypothesis: $H_{1}$: Error variance is not constant"
   ]
  },
  {
   "cell_type": "code",
   "execution_count": 36,
   "metadata": {},
   "outputs": [],
   "source": [
    "df = employee_data\n",
    "df[\"yHat\"] = lm_employee.fittedvalues\n",
    "df[\"ei\"] = lm_employee.resid\n",
    "df = df.sort_values(by=\"yHat\")\n",
    "alpha = 0.01"
   ]
  },
  {
   "cell_type": "code",
   "execution_count": 37,
   "metadata": {},
   "outputs": [
    {
     "name": "stdout",
     "output_type": "stream",
     "text": [
      "39.2399843218067\n",
      "6.264182653930734\n",
      "-4.733856357242809\n",
      "2.358365099539345\n"
     ]
    }
   ],
   "source": [
    "df1 = df[0:33]\n",
    "df2 = df[33:df.shape[0]]\n",
    "\n",
    "med1 = np.median(df1[\"ei\"])\n",
    "med2 = np.median(df2[\"ei\"])\n",
    "\n",
    "n1 = df1.shape[0]\n",
    "n2 = df2.shape[0]\n",
    "\n",
    "d1 = np.abs(df1[\"ei\"]-med1)\n",
    "d2 = np.abs(df2[\"ei\"]-med2)\n",
    "\n",
    "mean_d1 = np.mean(d1)\n",
    "mean_d2 = np.mean(d2)\n",
    "\n",
    "s2 = (np.var(d1)*(n1-1)+np.var(d2)*(n2-1))/(n1+n2-2)\n",
    "print(s2)\n",
    "\n",
    "#calculate s\n",
    "s = np.sqrt(s2)\n",
    "print(s)\n",
    "\n",
    "#testStastic = (mean.d1 - mean.d2) / (s * sqrt((1/n1)+1/n2)\n",
    "testStastic = (mean_d1-mean_d2)/(s*np.sqrt((1/n1)+(1/n2)))  \n",
    "print(testStastic)\n",
    "\n",
    "t = stats.t.ppf(1-alpha, 118)\n",
    "print(t)"
   ]
  },
  {
   "cell_type": "markdown",
   "metadata": {},
   "source": [
    "*Decision Rule:*\n",
    "\n",
    "- If $|testStatistic| \\leq t(1-\\alpha/2,n-2)$, conclude $H_{0}$: constant error variance\n",
    "\n",
    "- If $|testStatistic| > t(1-\\alpha/2,n-2)$, conclude $H_{1}$: non-constant error variance \n",
    "\n",
    "\n",
    "*Result:*\n",
    "\n",
    "Since $|-4.659428| > 2.390119$ i.e. $|testStatistic| > t(1-\\alpha/2,n-2)$, we conclude $H_{1}$. The error variance is not constant and thus varies with X.\n"
   ]
  },
  {
   "cell_type": "markdown",
   "metadata": {},
   "source": [
    "**(d)** "
   ]
  },
  {
   "cell_type": "code",
   "execution_count": 41,
   "metadata": {},
   "outputs": [
    {
     "data": {
      "text/plain": [
       "<matplotlib.collections.PathCollection at 0x7f02dc530090>"
      ]
     },
     "execution_count": 41,
     "metadata": {},
     "output_type": "execute_result"
    },
    {
     "data": {
      "image/png": "[encoded data removed]",
      "text/plain": [
       "<Figure size 1080x504 with 2 Axes>"
      ]
     },
     "metadata": {
      "needs_background": "light"
     },
     "output_type": "display_data"
    }
   ],
   "source": [
    "ei_abs = np.abs(ei)\n",
    "\n",
    "fig, ax = plt.subplots(1,2, figsize=(15,7))\n",
    "ax[0].scatter(employee_data[\"X3\"], ei_abs)\n",
    "ax[1].scatter(employee_data[\"X4\"], ei_abs)"
   ]
  },
  {
   "cell_type": "markdown",
   "metadata": {},
   "source": [
    "*Interpretation:*\n",
    "\n",
    "We can see a megaphone shape indicating non-constant variance in the error term.\n"
   ]
  },
  {
   "cell_type": "markdown",
   "metadata": {},
   "source": [
    "\n",
    "**(e)** Estimate the. standard deviation function by regressing the absolute residuals against X3 and X4 in first-order form, and then calculate the estimated weight for each case using equation 11.16a on the book. (5pts)\n"
   ]
  },
  {
   "cell_type": "code",
   "execution_count": 63,
   "metadata": {},
   "outputs": [
    {
     "data": {
      "text/html": [
       "<table class=\"simpletable\">\n",
       "<caption>OLS Regression Results</caption>\n",
       "<tr>\n",
       "  <th>Dep. Variable:</th>         <td>ei_abs</td>      <th>  R-squared:         </th> <td>   0.370</td>\n",
       "</tr>\n",
       "<tr>\n",
       "  <th>Model:</th>                   <td>OLS</td>       <th>  Adj. R-squared:    </th> <td>   0.349</td>\n",
       "</tr>\n",
       "<tr>\n",
       "  <th>Method:</th>             <td>Least Squares</td>  <th>  F-statistic:       </th> <td>   18.18</td>\n",
       "</tr>\n",
       "<tr>\n",
       "  <th>Date:</th>             <td>Sun, 22 Dec 2019</td> <th>  Prob (F-statistic):</th> <td>6.12e-07</td>\n",
       "</tr>\n",
       "<tr>\n",
       "  <th>Time:</th>                 <td>15:00:54</td>     <th>  Log-Likelihood:    </th> <td> -205.88</td>\n",
       "</tr>\n",
       "<tr>\n",
       "  <th>No. Observations:</th>      <td>    65</td>      <th>  AIC:               </th> <td>   417.8</td>\n",
       "</tr>\n",
       "<tr>\n",
       "  <th>Df Residuals:</th>          <td>    62</td>      <th>  BIC:               </th> <td>   424.3</td>\n",
       "</tr>\n",
       "<tr>\n",
       "  <th>Df Model:</th>              <td>     2</td>      <th>                     </th>     <td> </td>   \n",
       "</tr>\n",
       "<tr>\n",
       "  <th>Covariance Type:</th>      <td>nonrobust</td>    <th>                     </th>     <td> </td>   \n",
       "</tr>\n",
       "</table>\n",
       "<table class=\"simpletable\">\n",
       "<tr>\n",
       "      <td></td>         <th>coef</th>     <th>std err</th>      <th>t</th>      <th>P>|t|</th>  <th>[0.025</th>    <th>0.975]</th>  \n",
       "</tr>\n",
       "<tr>\n",
       "  <th>Intercept</th> <td>    2.4204</td> <td>    1.111</td> <td>    2.179</td> <td> 0.033</td> <td>    0.200</td> <td>    4.641</td>\n",
       "</tr>\n",
       "<tr>\n",
       "  <th>X3</th>        <td>    0.3996</td> <td>    0.131</td> <td>    3.040</td> <td> 0.003</td> <td>    0.137</td> <td>    0.662</td>\n",
       "</tr>\n",
       "<tr>\n",
       "  <th>X4</th>        <td>    0.2695</td> <td>    0.129</td> <td>    2.089</td> <td> 0.041</td> <td>    0.012</td> <td>    0.527</td>\n",
       "</tr>\n",
       "</table>\n",
       "<table class=\"simpletable\">\n",
       "<tr>\n",
       "  <th>Omnibus:</th>       <td>16.385</td> <th>  Durbin-Watson:     </th> <td>   1.954</td>\n",
       "</tr>\n",
       "<tr>\n",
       "  <th>Prob(Omnibus):</th> <td> 0.000</td> <th>  Jarque-Bera (JB):  </th> <td>  42.604</td>\n",
       "</tr>\n",
       "<tr>\n",
       "  <th>Skew:</th>          <td> 0.635</td> <th>  Prob(JB):          </th> <td>5.61e-10</td>\n",
       "</tr>\n",
       "<tr>\n",
       "  <th>Kurtosis:</th>      <td> 6.757</td> <th>  Cond. No.          </th> <td>    19.1</td>\n",
       "</tr>\n",
       "</table><br/><br/>Warnings:<br/>[1] Standard Errors assume that the covariance matrix of the errors is correctly specified."
      ],
      "text/plain": [
       "<class 'statsmodels.iolib.summary.Summary'>\n",
       "\"\"\"\n",
       "                            OLS Regression Results                            \n",
       "==============================================================================\n",
       "Dep. Variable:                 ei_abs   R-squared:                       0.370\n",
       "Model:                            OLS   Adj. R-squared:                  0.349\n",
       "Method:                 Least Squares   F-statistic:                     18.18\n",
       "Date:                Sun, 22 Dec 2019   Prob (F-statistic):           6.12e-07\n",
       "Time:                        15:00:54   Log-Likelihood:                -205.88\n",
       "No. Observations:                  65   AIC:                             417.8\n",
       "Df Residuals:                      62   BIC:                             424.3\n",
       "Df Model:                           2                                         \n",
       "Covariance Type:            nonrobust                                         \n",
       "==============================================================================\n",
       "                 coef    std err          t      P>|t|      [0.025      0.975]\n",
       "------------------------------------------------------------------------------\n",
       "Intercept      2.4204      1.111      2.179      0.033       0.200       4.641\n",
       "X3             0.3996      0.131      3.040      0.003       0.137       0.662\n",
       "X4             0.2695      0.129      2.089      0.041       0.012       0.527\n",
       "==============================================================================\n",
       "Omnibus:                       16.385   Durbin-Watson:                   1.954\n",
       "Prob(Omnibus):                  0.000   Jarque-Bera (JB):               42.604\n",
       "Skew:                           0.635   Prob(JB):                     5.61e-10\n",
       "Kurtosis:                       6.757   Cond. No.                         19.1\n",
       "==============================================================================\n",
       "\n",
       "Warnings:\n",
       "[1] Standard Errors assume that the covariance matrix of the errors is correctly specified.\n",
       "\"\"\""
      ]
     },
     "execution_count": 63,
     "metadata": {},
     "output_type": "execute_result"
    }
   ],
   "source": [
    "employee_data[\"ei_abs\"] = ei_abs\n",
    "lm_ei_1e = ols(\"ei_abs~X3+X4\", data=employee_data).fit()\n",
    "lm_ei_1e.summary()"
   ]
  },
  {
   "cell_type": "code",
   "execution_count": 64,
   "metadata": {},
   "outputs": [
    {
     "data": {
      "text/plain": [
       "0     0.056293\n",
       "1     0.077706\n",
       "2     0.001533\n",
       "3     0.024531\n",
       "4     0.163068\n",
       "        ...   \n",
       "60    0.040548\n",
       "61    0.031690\n",
       "62    0.148355\n",
       "63    0.094115\n",
       "64    0.003541\n",
       "Length: 65, dtype: float64"
      ]
     },
     "execution_count": 64,
     "metadata": {},
     "output_type": "execute_result"
    }
   ],
   "source": [
    "si = lm_ei_1e.fittedvalues\n",
    "wi = 1./(si**2)"
   ]
  },
  {
   "cell_type": "markdown",
   "metadata": {},
   "source": [
    "**(f)** Using the estimated weights, obtain the weighted least squares fit of the regression model. Are the weighted least squares estimates of the regression coefficients similar to the ones obtained with ordinary least squares in part (b)? (5 pts)"
   ]
  },
  {
   "cell_type": "code",
   "execution_count": 65,
   "metadata": {},
   "outputs": [
    {
     "name": "stderr",
     "output_type": "stream",
     "text": [
      "/home/srk-apts/anaconda3/lib/python3.7/site-packages/numpy/core/fromnumeric.py:2389: FutureWarning: Method .ptp is deprecated and will be removed in a future version. Use numpy.ptp instead.\n",
      "  return ptp(axis=axis, out=out, **kwargs)\n"
     ]
    },
    {
     "data": {
      "text/html": [
       "<table class=\"simpletable\">\n",
       "<caption>WLS Regression Results</caption>\n",
       "<tr>\n",
       "  <th>Dep. Variable:</th>            <td>Y</td>        <th>  R-squared:         </th> <td>   0.397</td>\n",
       "</tr>\n",
       "<tr>\n",
       "  <th>Model:</th>                   <td>WLS</td>       <th>  Adj. R-squared:    </th> <td>   0.377</td>\n",
       "</tr>\n",
       "<tr>\n",
       "  <th>Method:</th>             <td>Least Squares</td>  <th>  F-statistic:       </th> <td>   20.38</td>\n",
       "</tr>\n",
       "<tr>\n",
       "  <th>Date:</th>             <td>Sun, 22 Dec 2019</td> <th>  Prob (F-statistic):</th> <td>1.57e-07</td>\n",
       "</tr>\n",
       "<tr>\n",
       "  <th>Time:</th>                 <td>15:01:02</td>     <th>  Log-Likelihood:    </th> <td> -263.43</td>\n",
       "</tr>\n",
       "<tr>\n",
       "  <th>No. Observations:</th>      <td>    65</td>      <th>  AIC:               </th> <td>   532.9</td>\n",
       "</tr>\n",
       "<tr>\n",
       "  <th>Df Residuals:</th>          <td>    62</td>      <th>  BIC:               </th> <td>   539.4</td>\n",
       "</tr>\n",
       "<tr>\n",
       "  <th>Df Model:</th>              <td>     2</td>      <th>                     </th>     <td> </td>   \n",
       "</tr>\n",
       "<tr>\n",
       "  <th>Covariance Type:</th>      <td>nonrobust</td>    <th>                     </th>     <td> </td>   \n",
       "</tr>\n",
       "</table>\n",
       "<table class=\"simpletable\">\n",
       "<tr>\n",
       "    <td></td>       <th>coef</th>     <th>std err</th>      <th>t</th>      <th>P>|t|</th>  <th>[0.025</th>    <th>0.975]</th>  \n",
       "</tr>\n",
       "<tr>\n",
       "  <th>const</th> <td>   42.0084</td> <td>    1.841</td> <td>   22.812</td> <td> 0.000</td> <td>   38.327</td> <td>   45.689</td>\n",
       "</tr>\n",
       "<tr>\n",
       "  <th>X3</th>    <td>    1.2470</td> <td>    0.450</td> <td>    2.769</td> <td> 0.007</td> <td>    0.347</td> <td>    2.147</td>\n",
       "</tr>\n",
       "<tr>\n",
       "  <th>X4</th>    <td>    2.3880</td> <td>    0.722</td> <td>    3.307</td> <td> 0.002</td> <td>    0.945</td> <td>    3.831</td>\n",
       "</tr>\n",
       "</table>\n",
       "<table class=\"simpletable\">\n",
       "<tr>\n",
       "  <th>Omnibus:</th>       <td> 4.030</td> <th>  Durbin-Watson:     </th> <td>   1.671</td>\n",
       "</tr>\n",
       "<tr>\n",
       "  <th>Prob(Omnibus):</th> <td> 0.133</td> <th>  Jarque-Bera (JB):  </th> <td>   3.434</td>\n",
       "</tr>\n",
       "<tr>\n",
       "  <th>Skew:</th>          <td> 0.559</td> <th>  Prob(JB):          </th> <td>   0.180</td>\n",
       "</tr>\n",
       "<tr>\n",
       "  <th>Kurtosis:</th>      <td> 3.135</td> <th>  Cond. No.          </th> <td>    6.84</td>\n",
       "</tr>\n",
       "</table><br/><br/>Warnings:<br/>[1] Standard Errors assume that the covariance matrix of the errors is correctly specified."
      ],
      "text/plain": [
       "<class 'statsmodels.iolib.summary.Summary'>\n",
       "\"\"\"\n",
       "                            WLS Regression Results                            \n",
       "==============================================================================\n",
       "Dep. Variable:                      Y   R-squared:                       0.397\n",
       "Model:                            WLS   Adj. R-squared:                  0.377\n",
       "Method:                 Least Squares   F-statistic:                     20.38\n",
       "Date:                Sun, 22 Dec 2019   Prob (F-statistic):           1.57e-07\n",
       "Time:                        15:01:02   Log-Likelihood:                -263.43\n",
       "No. Observations:                  65   AIC:                             532.9\n",
       "Df Residuals:                      62   BIC:                             539.4\n",
       "Df Model:                           2                                         \n",
       "Covariance Type:            nonrobust                                         \n",
       "==============================================================================\n",
       "                 coef    std err          t      P>|t|      [0.025      0.975]\n",
       "------------------------------------------------------------------------------\n",
       "const         42.0084      1.841     22.812      0.000      38.327      45.689\n",
       "X3             1.2470      0.450      2.769      0.007       0.347       2.147\n",
       "X4             2.3880      0.722      3.307      0.002       0.945       3.831\n",
       "==============================================================================\n",
       "Omnibus:                        4.030   Durbin-Watson:                   1.671\n",
       "Prob(Omnibus):                  0.133   Jarque-Bera (JB):                3.434\n",
       "Skew:                           0.559   Prob(JB):                        0.180\n",
       "Kurtosis:                       3.135   Cond. No.                         6.84\n",
       "==============================================================================\n",
       "\n",
       "Warnings:\n",
       "[1] Standard Errors assume that the covariance matrix of the errors is correctly specified.\n",
       "\"\"\""
      ]
     },
     "execution_count": 65,
     "metadata": {},
     "output_type": "execute_result"
    }
   ],
   "source": [
    "X = employee_data[[\"X3\", \"X4\"]]\n",
    "y = employee_data[\"Y\"]\n",
    "X = sm.add_constant(X)\n",
    "\n",
    "lm_1f = sm.WLS(y, X, weights=wi).fit()\n",
    "lm_1f.summary()"
   ]
  },
  {
   "cell_type": "markdown",
   "metadata": {},
   "source": [
    "*Interpretation:*\n",
    "\n",
    "The weighted least squares estimates for the coefficients $\\beta_3$ and $\\beta_4$ appear very close."
   ]
  },
  {
   "cell_type": "markdown",
   "metadata": {},
   "source": [
    "**(g)** Compare the estimated standard deviations of the weighted least squares coefficient estimates in part (f) with those for the ordinary least squares estimates in pan (b). What do you find? (5 pts)"
   ]
  },
  {
   "cell_type": "code",
   "execution_count": 66,
   "metadata": {},
   "outputs": [
    {
     "data": {
      "text/html": [
       "<div>\n",
       "<style scoped>\n",
       "    .dataframe tbody tr th:only-of-type {\n",
       "        vertical-align: middle;\n",
       "    }\n",
       "\n",
       "    .dataframe tbody tr th {\n",
       "        vertical-align: top;\n",
       "    }\n",
       "\n",
       "    .dataframe thead th {\n",
       "        text-align: right;\n",
       "    }\n",
       "</style>\n",
       "<table border=\"1\" class=\"dataframe\">\n",
       "  <thead>\n",
       "    <tr style=\"text-align: right;\">\n",
       "      <th></th>\n",
       "      <th>0</th>\n",
       "      <th>1</th>\n",
       "    </tr>\n",
       "  </thead>\n",
       "  <tbody>\n",
       "    <tr>\n",
       "      <th>const</th>\n",
       "      <td>38.327355</td>\n",
       "      <td>45.689444</td>\n",
       "    </tr>\n",
       "    <tr>\n",
       "      <th>X3</th>\n",
       "      <td>0.346817</td>\n",
       "      <td>2.147252</td>\n",
       "    </tr>\n",
       "    <tr>\n",
       "      <th>X4</th>\n",
       "      <td>0.944527</td>\n",
       "      <td>3.831472</td>\n",
       "    </tr>\n",
       "  </tbody>\n",
       "</table>\n",
       "</div>"
      ],
      "text/plain": [
       "               0          1\n",
       "const  38.327355  45.689444\n",
       "X3      0.346817   2.147252\n",
       "X4      0.944527   3.831472"
      ]
     },
     "execution_count": 66,
     "metadata": {},
     "output_type": "execute_result"
    }
   ],
   "source": [
    "lm_1f.conf_int(alpha=0.05)"
   ]
  },
  {
   "cell_type": "code",
   "execution_count": 67,
   "metadata": {},
   "outputs": [
    {
     "data": {
      "text/html": [
       "<div>\n",
       "<style scoped>\n",
       "    .dataframe tbody tr th:only-of-type {\n",
       "        vertical-align: middle;\n",
       "    }\n",
       "\n",
       "    .dataframe tbody tr th {\n",
       "        vertical-align: top;\n",
       "    }\n",
       "\n",
       "    .dataframe thead th {\n",
       "        text-align: right;\n",
       "    }\n",
       "</style>\n",
       "<table border=\"1\" class=\"dataframe\">\n",
       "  <thead>\n",
       "    <tr style=\"text-align: right;\">\n",
       "      <th></th>\n",
       "      <th>0</th>\n",
       "      <th>1</th>\n",
       "    </tr>\n",
       "  </thead>\n",
       "  <tbody>\n",
       "    <tr>\n",
       "      <th>Intercept</th>\n",
       "      <td>25.732420</td>\n",
       "      <td>37.210441</td>\n",
       "    </tr>\n",
       "    <tr>\n",
       "      <th>X1</th>\n",
       "      <td>4.374379</td>\n",
       "      <td>17.249525</td>\n",
       "    </tr>\n",
       "    <tr>\n",
       "      <th>X2</th>\n",
       "      <td>15.660465</td>\n",
       "      <td>29.600990</td>\n",
       "    </tr>\n",
       "    <tr>\n",
       "      <th>X3</th>\n",
       "      <td>0.803464</td>\n",
       "      <td>1.712784</td>\n",
       "    </tr>\n",
       "    <tr>\n",
       "      <th>X4</th>\n",
       "      <td>1.396962</td>\n",
       "      <td>2.307664</td>\n",
       "    </tr>\n",
       "  </tbody>\n",
       "</table>\n",
       "</div>"
      ],
      "text/plain": [
       "                   0          1\n",
       "Intercept  25.732420  37.210441\n",
       "X1          4.374379  17.249525\n",
       "X2         15.660465  29.600990\n",
       "X3          0.803464   1.712784\n",
       "X4          1.396962   2.307664"
      ]
     },
     "execution_count": 67,
     "metadata": {},
     "output_type": "execute_result"
    }
   ],
   "source": [
    "lm_employee.conf_int(alpha=0.05)"
   ]
  },
  {
   "cell_type": "markdown",
   "metadata": {},
   "source": [
    "*Interpretation:*\n",
    "\n",
    "$\\beta_3$ and $\\beta_4$ seem to have overlapping intervals"
   ]
  },
  {
   "cell_type": "markdown",
   "metadata": {},
   "source": [
    "**(h)** Iterate the steps in parts (e) and (f) one more time. Is there a substantial change in the estimated regression coefficients? If so, what should you do? (10 pts)\n"
   ]
  },
  {
   "cell_type": "code",
   "execution_count": 68,
   "metadata": {},
   "outputs": [
    {
     "data": {
      "text/html": [
       "<table class=\"simpletable\">\n",
       "<caption>OLS Regression Results</caption>\n",
       "<tr>\n",
       "  <th>Dep. Variable:</th>         <td>ei_abs2</td>     <th>  R-squared:         </th> <td>   0.105</td>\n",
       "</tr>\n",
       "<tr>\n",
       "  <th>Model:</th>                   <td>OLS</td>       <th>  Adj. R-squared:    </th> <td>   0.077</td>\n",
       "</tr>\n",
       "<tr>\n",
       "  <th>Method:</th>             <td>Least Squares</td>  <th>  F-statistic:       </th> <td>   3.655</td>\n",
       "</tr>\n",
       "<tr>\n",
       "  <th>Date:</th>             <td>Sun, 22 Dec 2019</td> <th>  Prob (F-statistic):</th>  <td>0.0316</td> \n",
       "</tr>\n",
       "<tr>\n",
       "  <th>Time:</th>                 <td>15:03:56</td>     <th>  Log-Likelihood:    </th> <td> -218.77</td>\n",
       "</tr>\n",
       "<tr>\n",
       "  <th>No. Observations:</th>      <td>    65</td>      <th>  AIC:               </th> <td>   443.5</td>\n",
       "</tr>\n",
       "<tr>\n",
       "  <th>Df Residuals:</th>          <td>    62</td>      <th>  BIC:               </th> <td>   450.1</td>\n",
       "</tr>\n",
       "<tr>\n",
       "  <th>Df Model:</th>              <td>     2</td>      <th>                     </th>     <td> </td>   \n",
       "</tr>\n",
       "<tr>\n",
       "  <th>Covariance Type:</th>      <td>nonrobust</td>    <th>                     </th>     <td> </td>   \n",
       "</tr>\n",
       "</table>\n",
       "<table class=\"simpletable\">\n",
       "<tr>\n",
       "      <td></td>         <th>coef</th>     <th>std err</th>      <th>t</th>      <th>P>|t|</th>  <th>[0.025</th>    <th>0.975]</th>  \n",
       "</tr>\n",
       "<tr>\n",
       "  <th>Intercept</th> <td>    8.6861</td> <td>    1.354</td> <td>    6.414</td> <td> 0.000</td> <td>    5.979</td> <td>   11.393</td>\n",
       "</tr>\n",
       "<tr>\n",
       "  <th>X3</th>        <td>    0.1189</td> <td>    0.160</td> <td>    0.742</td> <td> 0.461</td> <td>   -0.201</td> <td>    0.439</td>\n",
       "</tr>\n",
       "<tr>\n",
       "  <th>X4</th>        <td>    0.2416</td> <td>    0.157</td> <td>    1.536</td> <td> 0.130</td> <td>   -0.073</td> <td>    0.556</td>\n",
       "</tr>\n",
       "</table>\n",
       "<table class=\"simpletable\">\n",
       "<tr>\n",
       "  <th>Omnibus:</th>       <td> 5.489</td> <th>  Durbin-Watson:     </th> <td>   2.244</td>\n",
       "</tr>\n",
       "<tr>\n",
       "  <th>Prob(Omnibus):</th> <td> 0.064</td> <th>  Jarque-Bera (JB):  </th> <td>   4.654</td>\n",
       "</tr>\n",
       "<tr>\n",
       "  <th>Skew:</th>          <td> 0.625</td> <th>  Prob(JB):          </th> <td>  0.0976</td>\n",
       "</tr>\n",
       "<tr>\n",
       "  <th>Kurtosis:</th>      <td> 3.396</td> <th>  Cond. No.          </th> <td>    19.1</td>\n",
       "</tr>\n",
       "</table><br/><br/>Warnings:<br/>[1] Standard Errors assume that the covariance matrix of the errors is correctly specified."
      ],
      "text/plain": [
       "<class 'statsmodels.iolib.summary.Summary'>\n",
       "\"\"\"\n",
       "                            OLS Regression Results                            \n",
       "==============================================================================\n",
       "Dep. Variable:                ei_abs2   R-squared:                       0.105\n",
       "Model:                            OLS   Adj. R-squared:                  0.077\n",
       "Method:                 Least Squares   F-statistic:                     3.655\n",
       "Date:                Sun, 22 Dec 2019   Prob (F-statistic):             0.0316\n",
       "Time:                        15:03:56   Log-Likelihood:                -218.77\n",
       "No. Observations:                  65   AIC:                             443.5\n",
       "Df Residuals:                      62   BIC:                             450.1\n",
       "Df Model:                           2                                         \n",
       "Covariance Type:            nonrobust                                         \n",
       "==============================================================================\n",
       "                 coef    std err          t      P>|t|      [0.025      0.975]\n",
       "------------------------------------------------------------------------------\n",
       "Intercept      8.6861      1.354      6.414      0.000       5.979      11.393\n",
       "X3             0.1189      0.160      0.742      0.461      -0.201       0.439\n",
       "X4             0.2416      0.157      1.536      0.130      -0.073       0.556\n",
       "==============================================================================\n",
       "Omnibus:                        5.489   Durbin-Watson:                   2.244\n",
       "Prob(Omnibus):                  0.064   Jarque-Bera (JB):                4.654\n",
       "Skew:                           0.625   Prob(JB):                       0.0976\n",
       "Kurtosis:                       3.396   Cond. No.                         19.1\n",
       "==============================================================================\n",
       "\n",
       "Warnings:\n",
       "[1] Standard Errors assume that the covariance matrix of the errors is correctly specified.\n",
       "\"\"\""
      ]
     },
     "execution_count": 68,
     "metadata": {},
     "output_type": "execute_result"
    }
   ],
   "source": [
    "employee_data[\"ei_abs2\"] = np.abs(lm_1f.resid)\n",
    "lm_ei_1h = ols(\"ei_abs2~X3+X4\", data=employee_data).fit()\n",
    "lm_ei_1h.summary()"
   ]
  },
  {
   "cell_type": "code",
   "execution_count": 69,
   "metadata": {},
   "outputs": [
    {
     "data": {
      "text/html": [
       "<table class=\"simpletable\">\n",
       "<caption>WLS Regression Results</caption>\n",
       "<tr>\n",
       "  <th>Dep. Variable:</th>            <td>Y</td>        <th>  R-squared:         </th> <td>   0.636</td>\n",
       "</tr>\n",
       "<tr>\n",
       "  <th>Model:</th>                   <td>WLS</td>       <th>  Adj. R-squared:    </th> <td>   0.624</td>\n",
       "</tr>\n",
       "<tr>\n",
       "  <th>Method:</th>             <td>Least Squares</td>  <th>  F-statistic:       </th> <td>   54.16</td>\n",
       "</tr>\n",
       "<tr>\n",
       "  <th>Date:</th>             <td>Sun, 22 Dec 2019</td> <th>  Prob (F-statistic):</th> <td>2.48e-14</td>\n",
       "</tr>\n",
       "<tr>\n",
       "  <th>Time:</th>                 <td>15:05:14</td>     <th>  Log-Likelihood:    </th> <td> -255.85</td>\n",
       "</tr>\n",
       "<tr>\n",
       "  <th>No. Observations:</th>      <td>    65</td>      <th>  AIC:               </th> <td>   517.7</td>\n",
       "</tr>\n",
       "<tr>\n",
       "  <th>Df Residuals:</th>          <td>    62</td>      <th>  BIC:               </th> <td>   524.2</td>\n",
       "</tr>\n",
       "<tr>\n",
       "  <th>Df Model:</th>              <td>     2</td>      <th>                     </th>     <td> </td>   \n",
       "</tr>\n",
       "<tr>\n",
       "  <th>Covariance Type:</th>      <td>nonrobust</td>    <th>                     </th>     <td> </td>   \n",
       "</tr>\n",
       "</table>\n",
       "<table class=\"simpletable\">\n",
       "<tr>\n",
       "    <td></td>       <th>coef</th>     <th>std err</th>      <th>t</th>      <th>P>|t|</th>  <th>[0.025</th>    <th>0.975]</th>  \n",
       "</tr>\n",
       "<tr>\n",
       "  <th>const</th> <td>   41.8457</td> <td>    2.203</td> <td>   18.993</td> <td> 0.000</td> <td>   37.441</td> <td>   46.250</td>\n",
       "</tr>\n",
       "<tr>\n",
       "  <th>X3</th>    <td>    1.3269</td> <td>    0.309</td> <td>    4.296</td> <td> 0.000</td> <td>    0.709</td> <td>    1.944</td>\n",
       "</tr>\n",
       "<tr>\n",
       "  <th>X4</th>    <td>    2.2168</td> <td>    0.416</td> <td>    5.333</td> <td> 0.000</td> <td>    1.386</td> <td>    3.048</td>\n",
       "</tr>\n",
       "</table>\n",
       "<table class=\"simpletable\">\n",
       "<tr>\n",
       "  <th>Omnibus:</th>       <td> 3.542</td> <th>  Durbin-Watson:     </th> <td>   1.771</td>\n",
       "</tr>\n",
       "<tr>\n",
       "  <th>Prob(Omnibus):</th> <td> 0.170</td> <th>  Jarque-Bera (JB):  </th> <td>   3.460</td>\n",
       "</tr>\n",
       "<tr>\n",
       "  <th>Skew:</th>          <td> 0.527</td> <th>  Prob(JB):          </th> <td>   0.177</td>\n",
       "</tr>\n",
       "<tr>\n",
       "  <th>Kurtosis:</th>      <td> 2.590</td> <th>  Cond. No.          </th> <td>    13.3</td>\n",
       "</tr>\n",
       "</table><br/><br/>Warnings:<br/>[1] Standard Errors assume that the covariance matrix of the errors is correctly specified."
      ],
      "text/plain": [
       "<class 'statsmodels.iolib.summary.Summary'>\n",
       "\"\"\"\n",
       "                            WLS Regression Results                            \n",
       "==============================================================================\n",
       "Dep. Variable:                      Y   R-squared:                       0.636\n",
       "Model:                            WLS   Adj. R-squared:                  0.624\n",
       "Method:                 Least Squares   F-statistic:                     54.16\n",
       "Date:                Sun, 22 Dec 2019   Prob (F-statistic):           2.48e-14\n",
       "Time:                        15:05:14   Log-Likelihood:                -255.85\n",
       "No. Observations:                  65   AIC:                             517.7\n",
       "Df Residuals:                      62   BIC:                             524.2\n",
       "Df Model:                           2                                         \n",
       "Covariance Type:            nonrobust                                         \n",
       "==============================================================================\n",
       "                 coef    std err          t      P>|t|      [0.025      0.975]\n",
       "------------------------------------------------------------------------------\n",
       "const         41.8457      2.203     18.993      0.000      37.441      46.250\n",
       "X3             1.3269      0.309      4.296      0.000       0.709       1.944\n",
       "X4             2.2168      0.416      5.333      0.000       1.386       3.048\n",
       "==============================================================================\n",
       "Omnibus:                        3.542   Durbin-Watson:                   1.771\n",
       "Prob(Omnibus):                  0.170   Jarque-Bera (JB):                3.460\n",
       "Skew:                           0.527   Prob(JB):                        0.177\n",
       "Kurtosis:                       2.590   Cond. No.                         13.3\n",
       "==============================================================================\n",
       "\n",
       "Warnings:\n",
       "[1] Standard Errors assume that the covariance matrix of the errors is correctly specified.\n",
       "\"\"\""
      ]
     },
     "execution_count": 69,
     "metadata": {},
     "output_type": "execute_result"
    }
   ],
   "source": [
    "si = lm_ei_1h.fittedvalues\n",
    "wi = 1/(si**2)\n",
    "\n",
    "lm_1h = sm.WLS(y, X, weights=wi).fit()\n",
    "lm_1h.summary()"
   ]
  },
  {
   "cell_type": "markdown",
   "metadata": {},
   "source": [
    "\n",
    "*Interpretation:*\n",
    "\n",
    "There doesn't seem to be much difference in the coefficients in the models `lm_1f` (part f model) and `lm_1h` (part h model). However, there seems to be a significant improvement in the $R^2$. \n",
    "\n",
    "So we should probably do one more iteration and see if it gives us an improvement, or else stop and use the weights identified part (h)."
   ]
  },
  {
   "cell_type": "code",
   "execution_count": null,
   "metadata": {},
   "outputs": [],
   "source": []
  },
  {
   "cell_type": "code",
   "execution_count": null,
   "metadata": {},
   "outputs": [],
   "source": []
  },
  {
   "cell_type": "code",
   "execution_count": null,
   "metadata": {},
   "outputs": [],
   "source": []
  }
 ],
 "metadata": {
  "kernelspec": {
   "display_name": "Python 3",
   "language": "python",
   "name": "python3"
  },
  "language_info": {
   "codemirror_mode": {
    "name": "ipython",
    "version": 3
   },
   "file_extension": ".py",
   "mimetype": "text/x-python",
   "name": "python",
   "nbconvert_exporter": "python",
   "pygments_lexer": "ipython3",
   "version": "3.7.4"
  }
 },
 "nbformat": 4,
 "nbformat_minor": 2
}
