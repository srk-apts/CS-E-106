{
 "cells": [
  {
   "cell_type": "markdown",
   "metadata": {},
   "source": [
    "# CS-E-106: Data Modeling\n",
    "## Fall 2019: HW 03"
   ]
  },
  {
   "cell_type": "code",
   "execution_count": 1,
   "metadata": {},
   "outputs": [],
   "source": [
    "import numpy as np\n",
    "import pandas as pd\n",
    "from matplotlib import pyplot as plt\n",
    "import statsmodels.api as sm\n",
    "from statsmodels.formula.api import ols\n",
    "import seaborn as sns\n",
    "from scipy import stats\n",
    "from sklearn.model_selection import train_test_split"
   ]
  },
  {
   "cell_type": "markdown",
   "metadata": {},
   "source": [
    "**Solution 1:**"
   ]
  },
  {
   "cell_type": "code",
   "execution_count": 116,
   "metadata": {},
   "outputs": [],
   "source": [
    "def reg_loop(df, x_cols, y_col):\n",
    "    r2_list = []\n",
    "    lm_fits = {}\n",
    "    for i in range(len(x_cols)):\n",
    "        x_str = x_cols[i]\n",
    "        y_str = y_col[0]\n",
    "        x_str_c = str(\"C(%s)\"%x_str) if df[x_cols[i]].dtype==\"O\" else x_str\n",
    "        formula = y_str+\" ~ \"+x_str_c\n",
    "        lm = ols(formula, data=df).fit()\n",
    "        r2_list.append(lm.rsquared)\n",
    "        lm_fits[x_cols[i]] = lm\n",
    "    \n",
    "    r2_df = pd.DataFrame((x_cols, r2_list), index=[\"Variable\", \"R-squared\"]).T\n",
    "    r2_df = r2_df.sort_values(by=\"R-squared\", ascending=False)\n",
    "    \n",
    "    return(r2_df)\n",
    "\n",
    "# def reg_loop(df, x_cols, y_col):\n",
    "#     r2_list = []\n",
    "#     for i in range(len(x_cols)):\n",
    "#         X = sm.add_constant(df[x_cols[i]])\n",
    "#         X = X.astype(float) if df[x_cols[i]].dtype != \"O\" else X\n",
    "#         lm = sm.OLS(df[y_col].astype(float), X).fit()\n",
    "#         r2_list.append(lm.rsquared)\n",
    "    \n",
    "#     r2_df = pd.DataFrame((x_cols, r2_list), index=[\"Variable\", \"R-squared\"]).T\n",
    "#     r2_df = r2_df.sort_values(by=\"R-squared\", ascending=False)\n",
    "    \n",
    "#     return(r2_df)"
   ]
  },
  {
   "cell_type": "code",
   "execution_count": 126,
   "metadata": {},
   "outputs": [],
   "source": [
    "cdi = pd.read_csv(\"data/CDI.csv\")\n",
    "mapper = {\"Identification number\": \"ID\", \n",
    "          \"County\": \"county\", \"State\": \"state\",\n",
    "          'Land area':\"area\",\n",
    "          'Total population':\"population\", \n",
    "          'Percent of population aged 18-34':\"age18_34\",\n",
    "          'Percent of population 65 or older': \"above65\", \n",
    "          'Number of active physicians': \"physicians\",\n",
    "          'Number of hospital beds':\"hospital_beds\", \n",
    "          'Total serious crimes':\"serious_crimes\",\n",
    "          'Percent high school graduates': \"highschool_grads\", \n",
    "          \"Percent bachelor's degrees\": \"bachelors_degree\",\n",
    "          'Percent below poverty level':\"poverty_level\", \n",
    "          'Percent unemployment':\"unemployment_rate\",\n",
    "          'Per capita income': \"per_capita_income\", \n",
    "          'Total personal income': \"personal_income\", \n",
    "          'Geographic region': \"region\"}\n",
    "cdi = cdi.rename(columns=mapper)"
   ]
  },
  {
   "cell_type": "code",
   "execution_count": 127,
   "metadata": {
    "scrolled": true
   },
   "outputs": [
    {
     "data": {
      "text/html": [
       "<div>\n",
       "<style scoped>\n",
       "    .dataframe tbody tr th:only-of-type {\n",
       "        vertical-align: middle;\n",
       "    }\n",
       "\n",
       "    .dataframe tbody tr th {\n",
       "        vertical-align: top;\n",
       "    }\n",
       "\n",
       "    .dataframe thead th {\n",
       "        text-align: right;\n",
       "    }\n",
       "</style>\n",
       "<table border=\"1\" class=\"dataframe\">\n",
       "  <thead>\n",
       "    <tr style=\"text-align: right;\">\n",
       "      <th></th>\n",
       "      <th>Variable</th>\n",
       "      <th>R-squared</th>\n",
       "    </tr>\n",
       "  </thead>\n",
       "  <tbody>\n",
       "    <tr>\n",
       "      <th>14</th>\n",
       "      <td>county</td>\n",
       "      <td>0.921237</td>\n",
       "    </tr>\n",
       "    <tr>\n",
       "      <th>9</th>\n",
       "      <td>hospital_beds</td>\n",
       "      <td>0.903383</td>\n",
       "    </tr>\n",
       "    <tr>\n",
       "      <th>10</th>\n",
       "      <td>personal_income</td>\n",
       "      <td>0.898914</td>\n",
       "    </tr>\n",
       "    <tr>\n",
       "      <th>0</th>\n",
       "      <td>population</td>\n",
       "      <td>0.884067</td>\n",
       "    </tr>\n",
       "    <tr>\n",
       "      <th>3</th>\n",
       "      <td>serious_crimes</td>\n",
       "      <td>0.673154</td>\n",
       "    </tr>\n",
       "    <tr>\n",
       "      <th>7</th>\n",
       "      <td>per_capita_income</td>\n",
       "      <td>0.0999411</td>\n",
       "    </tr>\n",
       "    <tr>\n",
       "      <th>1</th>\n",
       "      <td>state</td>\n",
       "      <td>0.0634583</td>\n",
       "    </tr>\n",
       "    <tr>\n",
       "      <th>8</th>\n",
       "      <td>bachelors_degree</td>\n",
       "      <td>0.0560579</td>\n",
       "    </tr>\n",
       "    <tr>\n",
       "      <th>2</th>\n",
       "      <td>age18_34</td>\n",
       "      <td>0.0143279</td>\n",
       "    </tr>\n",
       "    <tr>\n",
       "      <th>5</th>\n",
       "      <td>area</td>\n",
       "      <td>0.00609565</td>\n",
       "    </tr>\n",
       "    <tr>\n",
       "      <th>11</th>\n",
       "      <td>poverty_level</td>\n",
       "      <td>0.00411346</td>\n",
       "    </tr>\n",
       "    <tr>\n",
       "      <th>13</th>\n",
       "      <td>unemployment_rate</td>\n",
       "      <td>0.00255188</td>\n",
       "    </tr>\n",
       "    <tr>\n",
       "      <th>4</th>\n",
       "      <td>region</td>\n",
       "      <td>0.000607429</td>\n",
       "    </tr>\n",
       "    <tr>\n",
       "      <th>6</th>\n",
       "      <td>highschool_grads</td>\n",
       "      <td>1.80462e-05</td>\n",
       "    </tr>\n",
       "    <tr>\n",
       "      <th>12</th>\n",
       "      <td>above65</td>\n",
       "      <td>9.78832e-06</td>\n",
       "    </tr>\n",
       "  </tbody>\n",
       "</table>\n",
       "</div>"
      ],
      "text/plain": [
       "             Variable    R-squared\n",
       "14             county     0.921237\n",
       "9       hospital_beds     0.903383\n",
       "10    personal_income     0.898914\n",
       "0          population     0.884067\n",
       "3      serious_crimes     0.673154\n",
       "7   per_capita_income    0.0999411\n",
       "1               state    0.0634583\n",
       "8    bachelors_degree    0.0560579\n",
       "2            age18_34    0.0143279\n",
       "5                area   0.00609565\n",
       "11      poverty_level   0.00411346\n",
       "13  unemployment_rate   0.00255188\n",
       "4              region  0.000607429\n",
       "6    highschool_grads  1.80462e-05\n",
       "12            above65  9.78832e-06"
      ]
     },
     "execution_count": 127,
     "metadata": {},
     "output_type": "execute_result"
    }
   ],
   "source": [
    "exc_cols = [\"ID\",\"physicians\"]\n",
    "x_cols = list(set(mapper.values())^set(exc_cols))\n",
    "y_col = [\"physicians\"]\n",
    "r2_df = reg_loop(df=cdi, x_cols=x_cols, y_col=y_col)\n",
    "r2_df"
   ]
  },
  {
   "cell_type": "markdown",
   "metadata": {},
   "source": [
    "Thus, **county accounts for maximum variability in the number of active physicians**. The remainder variables and their respective $R^{2}$ is given below in descending order of importance."
   ]
  },
  {
   "cell_type": "markdown",
   "metadata": {},
   "source": [
    "**Solution 2:**"
   ]
  },
  {
   "cell_type": "code",
   "execution_count": 145,
   "metadata": {},
   "outputs": [],
   "source": [
    "def confint_regions(df):\n",
    "    regions = df['region'].unique()\n",
    "    lm_fits = {}\n",
    "    for i in regions:\n",
    "        formula = \"hospital_beds ~ bachelors_degree\" \n",
    "        lm = ols(formula, data=df[df.region==i]).fit()\n",
    "        lm_fits[i] = lm\n",
    "        print(\"\\n Region: %s\"%i)\n",
    "        print(\"\\n Confidence Interval:\")\n",
    "        print(lm.conf_int(alpha=0.1))\n",
    "        print(\"\\n Coefficients:\")\n",
    "        print(lm.params)"
   ]
  },
  {
   "cell_type": "code",
   "execution_count": 146,
   "metadata": {},
   "outputs": [
    {
     "name": "stdout",
     "output_type": "stream",
     "text": [
      "\n",
      " Region: 4\n",
      "\n",
      " Confidence Interval:\n",
      "                            0            1\n",
      "Intercept        -1531.492253  2543.831299\n",
      "bachelors_degree   -39.345730   136.372057\n",
      "\n",
      " Coefficients:\n",
      "Intercept           506.169523\n",
      "bachelors_degree     48.513164\n",
      "dtype: float64\n",
      "\n",
      " Region: 2\n",
      "\n",
      " Confidence Interval:\n",
      "                           0            1\n",
      "Intercept        -293.397089  2008.633955\n",
      "bachelors_degree  -23.139420    85.847861\n",
      "\n",
      " Coefficients:\n",
      "Intercept           857.618433\n",
      "bachelors_degree     31.354221\n",
      "dtype: float64\n",
      "\n",
      " Region: 3\n",
      "\n",
      " Confidence Interval:\n",
      "                           0            1\n",
      "Intercept         259.279863  1523.562478\n",
      "bachelors_degree   -6.102009    49.901786\n",
      "\n",
      " Coefficients:\n",
      "Intercept           891.421170\n",
      "bachelors_degree     21.899888\n",
      "dtype: float64\n",
      "\n",
      " Region: 1\n",
      "\n",
      " Confidence Interval:\n",
      "                          0            1\n",
      "Intercept        -80.189409  1788.001195\n",
      "bachelors_degree -10.690032    70.750370\n",
      "\n",
      " Coefficients:\n",
      "Intercept           853.905893\n",
      "bachelors_degree     30.030169\n",
      "dtype: float64\n"
     ]
    }
   ],
   "source": [
    "confint_regions(df=cdi)"
   ]
  },
  {
   "cell_type": "markdown",
   "metadata": {},
   "source": [
    "**Solution 3:**"
   ]
  },
  {
   "cell_type": "markdown",
   "metadata": {},
   "source": [
    "**(a)**"
   ]
  },
  {
   "cell_type": "code",
   "execution_count": 148,
   "metadata": {},
   "outputs": [
    {
     "data": {
      "text/html": [
       "<table class=\"simpletable\">\n",
       "<caption>OLS Regression Results</caption>\n",
       "<tr>\n",
       "  <th>Dep. Variable:</th>           <td>GPA</td>       <th>  R-squared:         </th> <td>   0.073</td>\n",
       "</tr>\n",
       "<tr>\n",
       "  <th>Model:</th>                   <td>OLS</td>       <th>  Adj. R-squared:    </th> <td>   0.065</td>\n",
       "</tr>\n",
       "<tr>\n",
       "  <th>Method:</th>             <td>Least Squares</td>  <th>  F-statistic:       </th> <td>   9.240</td>\n",
       "</tr>\n",
       "<tr>\n",
       "  <th>Date:</th>             <td>Tue, 08 Oct 2019</td> <th>  Prob (F-statistic):</th>  <td>0.00292</td>\n",
       "</tr>\n",
       "<tr>\n",
       "  <th>Time:</th>                 <td>15:36:01</td>     <th>  Log-Likelihood:    </th> <td> -112.50</td>\n",
       "</tr>\n",
       "<tr>\n",
       "  <th>No. Observations:</th>      <td>   120</td>      <th>  AIC:               </th> <td>   229.0</td>\n",
       "</tr>\n",
       "<tr>\n",
       "  <th>Df Residuals:</th>          <td>   118</td>      <th>  BIC:               </th> <td>   234.6</td>\n",
       "</tr>\n",
       "<tr>\n",
       "  <th>Df Model:</th>              <td>     1</td>      <th>                     </th>     <td> </td>   \n",
       "</tr>\n",
       "<tr>\n",
       "  <th>Covariance Type:</th>      <td>nonrobust</td>    <th>                     </th>     <td> </td>   \n",
       "</tr>\n",
       "</table>\n",
       "<table class=\"simpletable\">\n",
       "<tr>\n",
       "      <td></td>         <th>coef</th>     <th>std err</th>      <th>t</th>      <th>P>|t|</th>  <th>[0.025</th>    <th>0.975]</th>  \n",
       "</tr>\n",
       "<tr>\n",
       "  <th>Intercept</th> <td>    2.1140</td> <td>    0.321</td> <td>    6.588</td> <td> 0.000</td> <td>    1.479</td> <td>    2.750</td>\n",
       "</tr>\n",
       "<tr>\n",
       "  <th>ACT</th>       <td>    0.0388</td> <td>    0.013</td> <td>    3.040</td> <td> 0.003</td> <td>    0.014</td> <td>    0.064</td>\n",
       "</tr>\n",
       "</table>\n",
       "<table class=\"simpletable\">\n",
       "<tr>\n",
       "  <th>Omnibus:</th>       <td>26.969</td> <th>  Durbin-Watson:     </th> <td>   1.831</td>\n",
       "</tr>\n",
       "<tr>\n",
       "  <th>Prob(Omnibus):</th> <td> 0.000</td> <th>  Jarque-Bera (JB):  </th> <td>  47.360</td>\n",
       "</tr>\n",
       "<tr>\n",
       "  <th>Skew:</th>          <td>-0.994</td> <th>  Prob(JB):          </th> <td>5.20e-11</td>\n",
       "</tr>\n",
       "<tr>\n",
       "  <th>Kurtosis:</th>      <td> 5.349</td> <th>  Cond. No.          </th> <td>    142.</td>\n",
       "</tr>\n",
       "</table><br/><br/>Warnings:<br/>[1] Standard Errors assume that the covariance matrix of the errors is correctly specified."
      ],
      "text/plain": [
       "<class 'statsmodels.iolib.summary.Summary'>\n",
       "\"\"\"\n",
       "                            OLS Regression Results                            \n",
       "==============================================================================\n",
       "Dep. Variable:                    GPA   R-squared:                       0.073\n",
       "Model:                            OLS   Adj. R-squared:                  0.065\n",
       "Method:                 Least Squares   F-statistic:                     9.240\n",
       "Date:                Tue, 08 Oct 2019   Prob (F-statistic):            0.00292\n",
       "Time:                        15:36:01   Log-Likelihood:                -112.50\n",
       "No. Observations:                 120   AIC:                             229.0\n",
       "Df Residuals:                     118   BIC:                             234.6\n",
       "Df Model:                           1                                         \n",
       "Covariance Type:            nonrobust                                         \n",
       "==============================================================================\n",
       "                 coef    std err          t      P>|t|      [0.025      0.975]\n",
       "------------------------------------------------------------------------------\n",
       "Intercept      2.1140      0.321      6.588      0.000       1.479       2.750\n",
       "ACT            0.0388      0.013      3.040      0.003       0.014       0.064\n",
       "==============================================================================\n",
       "Omnibus:                       26.969   Durbin-Watson:                   1.831\n",
       "Prob(Omnibus):                  0.000   Jarque-Bera (JB):               47.360\n",
       "Skew:                          -0.994   Prob(JB):                     5.20e-11\n",
       "Kurtosis:                       5.349   Cond. No.                         142.\n",
       "==============================================================================\n",
       "\n",
       "Warnings:\n",
       "[1] Standard Errors assume that the covariance matrix of the errors is correctly specified.\n",
       "\"\"\""
      ]
     },
     "execution_count": 148,
     "metadata": {},
     "output_type": "execute_result"
    }
   ],
   "source": [
    "gpa = pd.read_csv(\"data/GPA.csv\")\n",
    "lm_gpa = ols(formula=\"GPA~ACT\", data=gpa).fit()\n",
    "lm_gpa.summary()"
   ]
  },
  {
   "cell_type": "code",
   "execution_count": 149,
   "metadata": {},
   "outputs": [
    {
     "data": {
      "text/html": [
       "<div>\n",
       "<style scoped>\n",
       "    .dataframe tbody tr th:only-of-type {\n",
       "        vertical-align: middle;\n",
       "    }\n",
       "\n",
       "    .dataframe tbody tr th {\n",
       "        vertical-align: top;\n",
       "    }\n",
       "\n",
       "    .dataframe thead th {\n",
       "        text-align: right;\n",
       "    }\n",
       "</style>\n",
       "<table border=\"1\" class=\"dataframe\">\n",
       "  <thead>\n",
       "    <tr style=\"text-align: right;\">\n",
       "      <th></th>\n",
       "      <th>df</th>\n",
       "      <th>sum_sq</th>\n",
       "      <th>mean_sq</th>\n",
       "      <th>F</th>\n",
       "      <th>PR(&gt;F)</th>\n",
       "    </tr>\n",
       "  </thead>\n",
       "  <tbody>\n",
       "    <tr>\n",
       "      <th>ACT</th>\n",
       "      <td>1.0</td>\n",
       "      <td>3.587846</td>\n",
       "      <td>3.587846</td>\n",
       "      <td>9.240243</td>\n",
       "      <td>0.002917</td>\n",
       "    </tr>\n",
       "    <tr>\n",
       "      <th>Residual</th>\n",
       "      <td>118.0</td>\n",
       "      <td>45.817608</td>\n",
       "      <td>0.388285</td>\n",
       "      <td>NaN</td>\n",
       "      <td>NaN</td>\n",
       "    </tr>\n",
       "  </tbody>\n",
       "</table>\n",
       "</div>"
      ],
      "text/plain": [
       "             df     sum_sq   mean_sq         F    PR(>F)\n",
       "ACT         1.0   3.587846  3.587846  9.240243  0.002917\n",
       "Residual  118.0  45.817608  0.388285       NaN       NaN"
      ]
     },
     "execution_count": 149,
     "metadata": {},
     "output_type": "execute_result"
    }
   ],
   "source": [
    "sm.stats.anova_lm(lm_gpa)"
   ]
  },
  {
   "cell_type": "markdown",
   "metadata": {},
   "source": [
    "**(b)**\n",
    "\n",
    "$MSR = \\sum_{i=1}^n({\\hat{Y_{i}}-\\bar{Y})}^{2}$\n",
    "\n",
    "MSR measures the effect of the regression line in explaining the total variation in $Y_{i}$.\n",
    "\n",
    "$MSE = \\frac{\\sum_{i=1}^n(Y_{i}-\\hat{Y_{i}})^{2}}{n-2}$\n",
    "\n",
    "MSE measures the mean variation of $Y_{i}$ around the regresion line. Its the average of all the squared distances by which the regression line missed the actual $Y_{i}$.\n",
    "\n",
    "$E[MSE] = \\sigma^{2}$\n",
    "\n",
    "$E[MSR] = \\sigma^{2}+\\beta_{1}\\sum_{i=1}^n{(X_{i}-\\bar{X})^{2}}$\n",
    "\n",
    "Thus, MSE and MSR will estimate same quantity when $\\beta_{1}=0$ i.e. $Y_{i} = \\bar{Y}$"
   ]
  },
  {
   "cell_type": "markdown",
   "metadata": {},
   "source": [
    "**(c)**\n",
    "\n",
    "*Null Hypothesis:* $H_{0}: \\beta_{1}=0$;\n",
    "*Alternate Hypothesis:* $H_{1}: \\beta_{1}\\neq0$\n",
    "\n",
    "*Decision Rule:* \n",
    "\n",
    "$F^{*} = \\frac{MSR}{MSE}$\n",
    "\n",
    "- If $F* \\leq F(1-\\alpha; 1, n-2)$, conclude $H_{0}$;\n",
    "\n",
    "- If $F* \\geq F(1-\\alpha; 1, n-2)$, conclude $H_{1}$"
   ]
  },
  {
   "cell_type": "code",
   "execution_count": 150,
   "metadata": {},
   "outputs": [
    {
     "name": "stdout",
     "output_type": "stream",
     "text": [
      "9.2397630697914\n"
     ]
    }
   ],
   "source": [
    "MSR = 3.5878\n",
    "MSE = 0.3883 \n",
    "F = MSR/MSE\n",
    "print(F)"
   ]
  },
  {
   "cell_type": "code",
   "execution_count": 162,
   "metadata": {},
   "outputs": [
    {
     "data": {
      "text/plain": [
       "0.07948597539577211"
      ]
     },
     "execution_count": 162,
     "metadata": {},
     "output_type": "execute_result"
    }
   ],
   "source": [
    "stats.f.cdf(0.01,1,118)"
   ]
  },
  {
   "cell_type": "markdown",
   "metadata": {},
   "source": [
    "*Result:*\n",
    "\n",
    "Thus, since $F^{*} > F(1-\\alpha; 1, n-2)$, we conclude that $H_{1}: \\beta_{1}\\neq0$ holds."
   ]
  },
  {
   "cell_type": "markdown",
   "metadata": {},
   "source": [
    "**(d)**\n",
    "\n",
    "The absolute magnitude of the reduction in the variation of Y when X is introduced into the regression model is SST - SSE = SSR = 3.588 (from the ANOVA table above).\n",
    "\n",
    "The relative measure is given by $\\frac{SSR}{SST} = \\frac{3.588}{3.588+45.818} = 0.0726$. This measure is also known as the $R^{2}$ or the coefficient of determination."
   ]
  },
  {
   "cell_type": "code",
   "execution_count": 163,
   "metadata": {},
   "outputs": [
    {
     "data": {
      "text/plain": [
       "0.07262275836942882"
      ]
     },
     "execution_count": 163,
     "metadata": {},
     "output_type": "execute_result"
    }
   ],
   "source": [
    "R_sq = 3.588/(3.588+45.818)\n",
    "R_sq"
   ]
  },
  {
   "cell_type": "markdown",
   "metadata": {},
   "source": [
    "**(e)**"
   ]
  },
  {
   "cell_type": "code",
   "execution_count": 165,
   "metadata": {},
   "outputs": [
    {
     "data": {
      "text/plain": [
       "0.2694861005124918"
      ]
     },
     "execution_count": 165,
     "metadata": {},
     "output_type": "execute_result"
    }
   ],
   "source": [
    "r = np.sqrt(R_sq)\n",
    "r"
   ]
  },
  {
   "cell_type": "markdown",
   "metadata": {},
   "source": [
    "Looking at the summary of the regression model for GPA dataset, $\\beta_{1}$ is positive. Hence, $r = +0.27$."
   ]
  },
  {
   "cell_type": "markdown",
   "metadata": {},
   "source": [
    "**(f)**\n",
    " \n",
    "Operationally, $R^{2}$ has more clear interpretation.\n",
    "\n",
    "- $R^{2}$ is the proportion of total variation in Y explained by X. Thus, it is a relative measure of improvement that was made by the introduction of X in the regression model. This can be used in a more direct way compared to r which measures linear association between X and Y.\n",
    "\n",
    "- $R^{2}$ is on a scale of 0 to 1 (1 indicating the highest correlation), whereas, r ranges from -1 to 1 (the extremes indicating highest correlation). Meaning both r=-1 and r=+1 can mean the same level of association between X and Y. Also, the objective of the coefficients of correlation/determination is to measure the overall effectiveness of the model rather than looking at which direction the regression line is going. This is better accomplished by $R^{2}$."
   ]
  },
  {
   "cell_type": "markdown",
   "metadata": {},
   "source": [
    "**Solution 4:**"
   ]
  },
  {
   "cell_type": "markdown",
   "metadata": {},
   "source": [
    "**(a)**"
   ]
  },
  {
   "cell_type": "code",
   "execution_count": 175,
   "metadata": {},
   "outputs": [],
   "source": [
    "crime = pd.read_csv(\"data/Crime Rate.csv\")"
   ]
  },
  {
   "cell_type": "code",
   "execution_count": 176,
   "metadata": {},
   "outputs": [
    {
     "data": {
      "text/plain": [
       "(-0.41270331301195956, 9.571395791542376e-05)"
      ]
     },
     "execution_count": 176,
     "metadata": {},
     "output_type": "execute_result"
    }
   ],
   "source": [
    "stats.pearsonr(crime[\"Y\"], crime[\"X\"])"
   ]
  },
  {
   "cell_type": "markdown",
   "metadata": {},
   "source": [
    "**(b)**"
   ]
  },
  {
   "cell_type": "code",
   "execution_count": 170,
   "metadata": {},
   "outputs": [
    {
     "data": {
      "text/html": [
       "<table class=\"simpletable\">\n",
       "<caption>OLS Regression Results</caption>\n",
       "<tr>\n",
       "  <th>Dep. Variable:</th>            <td>Y</td>        <th>  R-squared:         </th> <td>   0.170</td>\n",
       "</tr>\n",
       "<tr>\n",
       "  <th>Model:</th>                   <td>OLS</td>       <th>  Adj. R-squared:    </th> <td>   0.160</td>\n",
       "</tr>\n",
       "<tr>\n",
       "  <th>Method:</th>             <td>Least Squares</td>  <th>  F-statistic:       </th> <td>   16.83</td>\n",
       "</tr>\n",
       "<tr>\n",
       "  <th>Date:</th>             <td>Tue, 08 Oct 2019</td> <th>  Prob (F-statistic):</th> <td>9.57e-05</td>\n",
       "</tr>\n",
       "<tr>\n",
       "  <th>Time:</th>                 <td>16:31:52</td>     <th>  Log-Likelihood:    </th> <td> -770.43</td>\n",
       "</tr>\n",
       "<tr>\n",
       "  <th>No. Observations:</th>      <td>    84</td>      <th>  AIC:               </th> <td>   1545.</td>\n",
       "</tr>\n",
       "<tr>\n",
       "  <th>Df Residuals:</th>          <td>    82</td>      <th>  BIC:               </th> <td>   1550.</td>\n",
       "</tr>\n",
       "<tr>\n",
       "  <th>Df Model:</th>              <td>     1</td>      <th>                     </th>     <td> </td>   \n",
       "</tr>\n",
       "<tr>\n",
       "  <th>Covariance Type:</th>      <td>nonrobust</td>    <th>                     </th>     <td> </td>   \n",
       "</tr>\n",
       "</table>\n",
       "<table class=\"simpletable\">\n",
       "<tr>\n",
       "      <td></td>         <th>coef</th>     <th>std err</th>      <th>t</th>      <th>P>|t|</th>  <th>[0.025</th>    <th>0.975]</th>  \n",
       "</tr>\n",
       "<tr>\n",
       "  <th>Intercept</th> <td> 2.052e+04</td> <td> 3277.643</td> <td>    6.260</td> <td> 0.000</td> <td>  1.4e+04</td> <td>  2.7e+04</td>\n",
       "</tr>\n",
       "<tr>\n",
       "  <th>X</th>         <td> -170.5752</td> <td>   41.574</td> <td>   -4.103</td> <td> 0.000</td> <td> -253.280</td> <td>  -87.871</td>\n",
       "</tr>\n",
       "</table>\n",
       "<table class=\"simpletable\">\n",
       "<tr>\n",
       "  <th>Omnibus:</th>       <td> 2.224</td> <th>  Durbin-Watson:     </th> <td>   1.495</td>\n",
       "</tr>\n",
       "<tr>\n",
       "  <th>Prob(Omnibus):</th> <td> 0.329</td> <th>  Jarque-Bera (JB):  </th> <td>   2.229</td>\n",
       "</tr>\n",
       "<tr>\n",
       "  <th>Skew:</th>          <td> 0.360</td> <th>  Prob(JB):          </th> <td>   0.328</td>\n",
       "</tr>\n",
       "<tr>\n",
       "  <th>Kurtosis:</th>      <td> 2.655</td> <th>  Cond. No.          </th> <td>1.01e+03</td>\n",
       "</tr>\n",
       "</table><br/><br/>Warnings:<br/>[1] Standard Errors assume that the covariance matrix of the errors is correctly specified.<br/>[2] The condition number is large, 1.01e+03. This might indicate that there are<br/>strong multicollinearity or other numerical problems."
      ],
      "text/plain": [
       "<class 'statsmodels.iolib.summary.Summary'>\n",
       "\"\"\"\n",
       "                            OLS Regression Results                            \n",
       "==============================================================================\n",
       "Dep. Variable:                      Y   R-squared:                       0.170\n",
       "Model:                            OLS   Adj. R-squared:                  0.160\n",
       "Method:                 Least Squares   F-statistic:                     16.83\n",
       "Date:                Tue, 08 Oct 2019   Prob (F-statistic):           9.57e-05\n",
       "Time:                        16:31:52   Log-Likelihood:                -770.43\n",
       "No. Observations:                  84   AIC:                             1545.\n",
       "Df Residuals:                      82   BIC:                             1550.\n",
       "Df Model:                           1                                         \n",
       "Covariance Type:            nonrobust                                         \n",
       "==============================================================================\n",
       "                 coef    std err          t      P>|t|      [0.025      0.975]\n",
       "------------------------------------------------------------------------------\n",
       "Intercept   2.052e+04   3277.643      6.260      0.000     1.4e+04     2.7e+04\n",
       "X           -170.5752     41.574     -4.103      0.000    -253.280     -87.871\n",
       "==============================================================================\n",
       "Omnibus:                        2.224   Durbin-Watson:                   1.495\n",
       "Prob(Omnibus):                  0.329   Jarque-Bera (JB):                2.229\n",
       "Skew:                           0.360   Prob(JB):                        0.328\n",
       "Kurtosis:                       2.655   Cond. No.                     1.01e+03\n",
       "==============================================================================\n",
       "\n",
       "Warnings:\n",
       "[1] Standard Errors assume that the covariance matrix of the errors is correctly specified.\n",
       "[2] The condition number is large, 1.01e+03. This might indicate that there are\n",
       "strong multicollinearity or other numerical problems.\n",
       "\"\"\""
      ]
     },
     "execution_count": 170,
     "metadata": {},
     "output_type": "execute_result"
    }
   ],
   "source": [
    "lm_crime = ols(formula=\"Y~X\", data=crime).fit()\n",
    "lm_crime.summary()"
   ]
  },
  {
   "cell_type": "code",
   "execution_count": 171,
   "metadata": {},
   "outputs": [
    {
     "data": {
      "text/html": [
       "<div>\n",
       "<style scoped>\n",
       "    .dataframe tbody tr th:only-of-type {\n",
       "        vertical-align: middle;\n",
       "    }\n",
       "\n",
       "    .dataframe tbody tr th {\n",
       "        vertical-align: top;\n",
       "    }\n",
       "\n",
       "    .dataframe thead th {\n",
       "        text-align: right;\n",
       "    }\n",
       "</style>\n",
       "<table border=\"1\" class=\"dataframe\">\n",
       "  <thead>\n",
       "    <tr style=\"text-align: right;\">\n",
       "      <th></th>\n",
       "      <th>df</th>\n",
       "      <th>sum_sq</th>\n",
       "      <th>mean_sq</th>\n",
       "      <th>F</th>\n",
       "      <th>PR(&gt;F)</th>\n",
       "    </tr>\n",
       "  </thead>\n",
       "  <tbody>\n",
       "    <tr>\n",
       "      <th>X</th>\n",
       "      <td>1.0</td>\n",
       "      <td>9.346294e+07</td>\n",
       "      <td>9.346294e+07</td>\n",
       "      <td>16.833765</td>\n",
       "      <td>0.000096</td>\n",
       "    </tr>\n",
       "    <tr>\n",
       "      <th>Residual</th>\n",
       "      <td>82.0</td>\n",
       "      <td>4.552732e+08</td>\n",
       "      <td>5.552112e+06</td>\n",
       "      <td>NaN</td>\n",
       "      <td>NaN</td>\n",
       "    </tr>\n",
       "  </tbody>\n",
       "</table>\n",
       "</div>"
      ],
      "text/plain": [
       "            df        sum_sq       mean_sq          F    PR(>F)\n",
       "X          1.0  9.346294e+07  9.346294e+07  16.833765  0.000096\n",
       "Residual  82.0  4.552732e+08  5.552112e+06        NaN       NaN"
      ]
     },
     "execution_count": 171,
     "metadata": {},
     "output_type": "execute_result"
    }
   ],
   "source": [
    "sm.stats.anova_lm(lm_crime)"
   ]
  },
  {
   "cell_type": "markdown",
   "metadata": {},
   "source": [
    "*Null Hypothesis:* $H_{0}: \\beta_{1}=0$;\n",
    "*Alternate Hypothesis:* $H_{1}: \\beta_{1}\\neq0$\n",
    "\n",
    "*Decision Rule:* \n",
    "\n",
    "$F^{*} = \\frac{MSR}{MSE}$\n",
    "\n",
    "- If $F* \\leq F(1-\\alpha; 1, n-2)$, conclude $H_{0}$;\n",
    "\n",
    "- If $F* \\geq F(1-\\alpha; 1, n-2)$, conclude $H_{1}$"
   ]
  },
  {
   "cell_type": "code",
   "execution_count": 172,
   "metadata": {},
   "outputs": [
    {
     "name": "stdout",
     "output_type": "stream",
     "text": [
      "16.833763800153886\n"
     ]
    }
   ],
   "source": [
    "MSR = 93462942\n",
    "MSE = 5552112 \n",
    "F = MSR/MSE\n",
    "print(F)"
   ]
  },
  {
   "cell_type": "code",
   "execution_count": 173,
   "metadata": {},
   "outputs": [
    {
     "data": {
      "text/plain": [
       "0.07941159069686124"
      ]
     },
     "execution_count": 173,
     "metadata": {},
     "output_type": "execute_result"
    }
   ],
   "source": [
    "stats.f.cdf(0.01,1,82)"
   ]
  },
  {
   "cell_type": "markdown",
   "metadata": {},
   "source": [
    "*Result:*\n",
    "\n",
    "Thus, since $F^{*} > F(1-\\alpha; 1, n-2)$, we conclude that $H_{1}: \\beta_{1}\\neq0$ holds."
   ]
  },
  {
   "cell_type": "markdown",
   "metadata": {},
   "source": [
    "**(c)**"
   ]
  },
  {
   "cell_type": "code",
   "execution_count": 174,
   "metadata": {},
   "outputs": [
    {
     "data": {
      "text/plain": [
       "SpearmanrResult(correlation=-0.4259324213180894, pvalue=5.3585991604908214e-05)"
      ]
     },
     "execution_count": 174,
     "metadata": {},
     "output_type": "execute_result"
    }
   ],
   "source": [
    "stats.spearmanr(crime[\"Y\"], crime[\"X\"])"
   ]
  },
  {
   "cell_type": "markdown",
   "metadata": {},
   "source": [
    "**(d)**\n",
    " \n",
    "*Null Hypothesis:* There is no association between X and Y;\n",
    "*Alternate Hypothesis:* There is an association between X and Y\n",
    "\n",
    "*Decision Rule:* \n",
    "\n",
    "$t^{*} = \\frac{r_{s}\\sqrt{n-2}}{1-r_{s}^{2}}$\n",
    "\n",
    "- If $|{t^{*}}| \\leq t(1-\\alpha/2; n-2)$, conclude $H_{0}$;\n",
    "\n",
    "- If $|{t^{*}}| \\geq t(1-\\alpha/2; n-2)$, conclude $H_{1}$"
   ]
  },
  {
   "cell_type": "code",
   "execution_count": 179,
   "metadata": {},
   "outputs": [
    {
     "data": {
      "text/plain": [
       "-4.711786789441044"
      ]
     },
     "execution_count": 179,
     "metadata": {},
     "output_type": "execute_result"
    }
   ],
   "source": [
    "r_s = -0.4259324\n",
    "n = crime.shape[0]\n",
    "t = (r_s*np.sqrt(n-2)/(1-r_s**2))\n",
    "t"
   ]
  },
  {
   "cell_type": "code",
   "execution_count": 181,
   "metadata": {},
   "outputs": [
    {
     "data": {
      "text/plain": [
       "0.5019886309891158"
      ]
     },
     "execution_count": 181,
     "metadata": {},
     "output_type": "execute_result"
    }
   ],
   "source": [
    "stats.t.cdf(0.005,82)"
   ]
  },
  {
   "cell_type": "markdown",
   "metadata": {},
   "source": [
    "*Result:*\n",
    "\n",
    "Thus, since $|{t^{*}}| \\geq t(1-\\alpha/2; n-2)$, we conclude that $H_{1}$ that there is an association between X and Y.\n"
   ]
  },
  {
   "cell_type": "code",
   "execution_count": null,
   "metadata": {},
   "outputs": [],
   "source": []
  }
 ],
 "metadata": {
  "kernelspec": {
   "display_name": "Python 3",
   "language": "python",
   "name": "python3"
  },
  "language_info": {
   "codemirror_mode": {
    "name": "ipython",
    "version": 3
   },
   "file_extension": ".py",
   "mimetype": "text/x-python",
   "name": "python",
   "nbconvert_exporter": "python",
   "pygments_lexer": "ipython3",
   "version": "3.7.4"
  }
 },
 "nbformat": 4,
 "nbformat_minor": 2
}
