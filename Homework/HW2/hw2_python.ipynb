{
 "cells": [
  {
   "cell_type": "markdown",
   "metadata": {},
   "source": [
    "# CS-E-106: Data Modeling\n",
    "## Fall 2019: HW 02"
   ]
  },
  {
   "cell_type": "code",
   "execution_count": 2,
   "metadata": {},
   "outputs": [],
   "source": [
    "import numpy as np\n",
    "import pandas as pd\n",
    "from matplotlib import pyplot as plt\n",
    "import statsmodels.api as sm\n",
    "from statsmodels.formula.api import ols\n",
    "import seaborn as sns\n",
    "from scipy import stats\n",
    "from sklearn.model_selection import train_test_split"
   ]
  },
  {
   "cell_type": "markdown",
   "metadata": {},
   "source": [
    "**Solution 2:**\n",
    "\n",
    "**(a)**"
   ]
  },
  {
   "cell_type": "code",
   "execution_count": 3,
   "metadata": {
    "scrolled": false
   },
   "outputs": [
    {
     "data": {
      "text/html": [
       "<table class=\"simpletable\">\n",
       "<caption>OLS Regression Results</caption>\n",
       "<tr>\n",
       "  <th>Dep. Variable:</th>           <td>GPA</td>       <th>  R-squared:         </th> <td>   0.073</td>\n",
       "</tr>\n",
       "<tr>\n",
       "  <th>Model:</th>                   <td>OLS</td>       <th>  Adj. R-squared:    </th> <td>   0.065</td>\n",
       "</tr>\n",
       "<tr>\n",
       "  <th>Method:</th>             <td>Least Squares</td>  <th>  F-statistic:       </th> <td>   9.240</td>\n",
       "</tr>\n",
       "<tr>\n",
       "  <th>Date:</th>             <td>Wed, 02 Oct 2019</td> <th>  Prob (F-statistic):</th>  <td>0.00292</td>\n",
       "</tr>\n",
       "<tr>\n",
       "  <th>Time:</th>                 <td>18:31:26</td>     <th>  Log-Likelihood:    </th> <td> -112.50</td>\n",
       "</tr>\n",
       "<tr>\n",
       "  <th>No. Observations:</th>      <td>   120</td>      <th>  AIC:               </th> <td>   229.0</td>\n",
       "</tr>\n",
       "<tr>\n",
       "  <th>Df Residuals:</th>          <td>   118</td>      <th>  BIC:               </th> <td>   234.6</td>\n",
       "</tr>\n",
       "<tr>\n",
       "  <th>Df Model:</th>              <td>     1</td>      <th>                     </th>     <td> </td>   \n",
       "</tr>\n",
       "<tr>\n",
       "  <th>Covariance Type:</th>      <td>nonrobust</td>    <th>                     </th>     <td> </td>   \n",
       "</tr>\n",
       "</table>\n",
       "<table class=\"simpletable\">\n",
       "<tr>\n",
       "      <td></td>         <th>coef</th>     <th>std err</th>      <th>t</th>      <th>P>|t|</th>  <th>[0.025</th>    <th>0.975]</th>  \n",
       "</tr>\n",
       "<tr>\n",
       "  <th>Intercept</th> <td>    2.1140</td> <td>    0.321</td> <td>    6.588</td> <td> 0.000</td> <td>    1.479</td> <td>    2.750</td>\n",
       "</tr>\n",
       "<tr>\n",
       "  <th>ACT</th>       <td>    0.0388</td> <td>    0.013</td> <td>    3.040</td> <td> 0.003</td> <td>    0.014</td> <td>    0.064</td>\n",
       "</tr>\n",
       "</table>\n",
       "<table class=\"simpletable\">\n",
       "<tr>\n",
       "  <th>Omnibus:</th>       <td>26.969</td> <th>  Durbin-Watson:     </th> <td>   1.831</td>\n",
       "</tr>\n",
       "<tr>\n",
       "  <th>Prob(Omnibus):</th> <td> 0.000</td> <th>  Jarque-Bera (JB):  </th> <td>  47.360</td>\n",
       "</tr>\n",
       "<tr>\n",
       "  <th>Skew:</th>          <td>-0.994</td> <th>  Prob(JB):          </th> <td>5.20e-11</td>\n",
       "</tr>\n",
       "<tr>\n",
       "  <th>Kurtosis:</th>      <td> 5.349</td> <th>  Cond. No.          </th> <td>    142.</td>\n",
       "</tr>\n",
       "</table><br/><br/>Warnings:<br/>[1] Standard Errors assume that the covariance matrix of the errors is correctly specified."
      ],
      "text/plain": [
       "<class 'statsmodels.iolib.summary.Summary'>\n",
       "\"\"\"\n",
       "                            OLS Regression Results                            \n",
       "==============================================================================\n",
       "Dep. Variable:                    GPA   R-squared:                       0.073\n",
       "Model:                            OLS   Adj. R-squared:                  0.065\n",
       "Method:                 Least Squares   F-statistic:                     9.240\n",
       "Date:                Wed, 02 Oct 2019   Prob (F-statistic):            0.00292\n",
       "Time:                        18:31:26   Log-Likelihood:                -112.50\n",
       "No. Observations:                 120   AIC:                             229.0\n",
       "Df Residuals:                     118   BIC:                             234.6\n",
       "Df Model:                           1                                         \n",
       "Covariance Type:            nonrobust                                         \n",
       "==============================================================================\n",
       "                 coef    std err          t      P>|t|      [0.025      0.975]\n",
       "------------------------------------------------------------------------------\n",
       "Intercept      2.1140      0.321      6.588      0.000       1.479       2.750\n",
       "ACT            0.0388      0.013      3.040      0.003       0.014       0.064\n",
       "==============================================================================\n",
       "Omnibus:                       26.969   Durbin-Watson:                   1.831\n",
       "Prob(Omnibus):                  0.000   Jarque-Bera (JB):               47.360\n",
       "Skew:                          -0.994   Prob(JB):                     5.20e-11\n",
       "Kurtosis:                       5.349   Cond. No.                         142.\n",
       "==============================================================================\n",
       "\n",
       "Warnings:\n",
       "[1] Standard Errors assume that the covariance matrix of the errors is correctly specified.\n",
       "\"\"\""
      ]
     },
     "execution_count": 3,
     "metadata": {},
     "output_type": "execute_result"
    }
   ],
   "source": [
    "gpa = pd.read_csv(\"data/GPA.csv\")\n",
    "lm_gpa = ols(\"GPA ~ ACT \", data=gpa).fit()\n",
    "lm_gpa.summary()"
   ]
  },
  {
   "cell_type": "markdown",
   "metadata": {},
   "source": [
    "**(b)**"
   ]
  },
  {
   "cell_type": "code",
   "execution_count": 4,
   "metadata": {},
   "outputs": [
    {
     "data": {
      "text/html": [
       "<div>\n",
       "<style scoped>\n",
       "    .dataframe tbody tr th:only-of-type {\n",
       "        vertical-align: middle;\n",
       "    }\n",
       "\n",
       "    .dataframe tbody tr th {\n",
       "        vertical-align: top;\n",
       "    }\n",
       "\n",
       "    .dataframe thead th {\n",
       "        text-align: right;\n",
       "    }\n",
       "</style>\n",
       "<table border=\"1\" class=\"dataframe\">\n",
       "  <thead>\n",
       "    <tr style=\"text-align: right;\">\n",
       "      <th></th>\n",
       "      <th>0</th>\n",
       "      <th>1</th>\n",
       "    </tr>\n",
       "  </thead>\n",
       "  <tbody>\n",
       "    <tr>\n",
       "      <th>Intercept</th>\n",
       "      <td>1.273903</td>\n",
       "      <td>2.954196</td>\n",
       "    </tr>\n",
       "    <tr>\n",
       "      <th>ACT</th>\n",
       "      <td>0.005386</td>\n",
       "      <td>0.072269</td>\n",
       "    </tr>\n",
       "  </tbody>\n",
       "</table>\n",
       "</div>"
      ],
      "text/plain": [
       "                  0         1\n",
       "Intercept  1.273903  2.954196\n",
       "ACT        0.005386  0.072269"
      ]
     },
     "execution_count": 4,
     "metadata": {},
     "output_type": "execute_result"
    }
   ],
   "source": [
    "lm_gpa.conf_int(alpha=0.01)"
   ]
  },
  {
   "cell_type": "markdown",
   "metadata": {},
   "source": [
    "We can see that the confidence interval of $\\beta_{1}$ does not contain 0. Therefore, there is 99% chance that the $\\beta_{1}$ is not actually 0."
   ]
  },
  {
   "cell_type": "markdown",
   "metadata": {},
   "source": [
    "**(c)**\n",
    "\n",
    "$t = \\frac{b_1}{s(b_1)}$"
   ]
  },
  {
   "cell_type": "code",
   "execution_count": 5,
   "metadata": {},
   "outputs": [
    {
     "name": "stdout",
     "output_type": "stream",
     "text": [
      "2.9869230769230772\n",
      "0.0017140169212107\n"
     ]
    }
   ],
   "source": [
    "t = 0.03883/0.013\n",
    "print(t)\n",
    "pr_t = stats.t.sf(t, 118)\n",
    "print(pr_t)"
   ]
  },
  {
   "cell_type": "markdown",
   "metadata": {},
   "source": [
    "Based on the t-test, the probability that $beta_{1}$ is greater than 0 is 0.001454. This means that there exists a linear relationship between GPA and ACT.\n"
   ]
  },
  {
   "cell_type": "markdown",
   "metadata": {},
   "source": [
    "**Solution 3:**"
   ]
  },
  {
   "cell_type": "markdown",
   "metadata": {},
   "source": [
    "**(a)**"
   ]
  },
  {
   "cell_type": "code",
   "execution_count": 6,
   "metadata": {},
   "outputs": [
    {
     "data": {
      "text/html": [
       "<div>\n",
       "<style scoped>\n",
       "    .dataframe tbody tr th:only-of-type {\n",
       "        vertical-align: middle;\n",
       "    }\n",
       "\n",
       "    .dataframe tbody tr th {\n",
       "        vertical-align: top;\n",
       "    }\n",
       "\n",
       "    .dataframe thead th {\n",
       "        text-align: right;\n",
       "    }\n",
       "</style>\n",
       "<table border=\"1\" class=\"dataframe\">\n",
       "  <thead>\n",
       "    <tr style=\"text-align: right;\">\n",
       "      <th></th>\n",
       "      <th>ACT</th>\n",
       "    </tr>\n",
       "  </thead>\n",
       "  <tbody>\n",
       "    <tr>\n",
       "      <th>0</th>\n",
       "      <td>28</td>\n",
       "    </tr>\n",
       "  </tbody>\n",
       "</table>\n",
       "</div>"
      ],
      "text/plain": [
       "   ACT\n",
       "0   28"
      ]
     },
     "execution_count": 6,
     "metadata": {},
     "output_type": "execute_result"
    }
   ],
   "source": [
    "Xh = pd.DataFrame([28], columns=[\"ACT\"])\n",
    "Xh"
   ]
  },
  {
   "cell_type": "code",
   "execution_count": 7,
   "metadata": {},
   "outputs": [
    {
     "data": {
      "text/html": [
       "<div>\n",
       "<style scoped>\n",
       "    .dataframe tbody tr th:only-of-type {\n",
       "        vertical-align: middle;\n",
       "    }\n",
       "\n",
       "    .dataframe tbody tr th {\n",
       "        vertical-align: top;\n",
       "    }\n",
       "\n",
       "    .dataframe thead th {\n",
       "        text-align: right;\n",
       "    }\n",
       "</style>\n",
       "<table border=\"1\" class=\"dataframe\">\n",
       "  <thead>\n",
       "    <tr style=\"text-align: right;\">\n",
       "      <th></th>\n",
       "      <th>mean</th>\n",
       "      <th>mean_se</th>\n",
       "      <th>mean_ci_lower</th>\n",
       "      <th>mean_ci_upper</th>\n",
       "      <th>obs_ci_lower</th>\n",
       "      <th>obs_ci_upper</th>\n",
       "    </tr>\n",
       "  </thead>\n",
       "  <tbody>\n",
       "    <tr>\n",
       "      <th>0</th>\n",
       "      <td>3.201209</td>\n",
       "      <td>0.070609</td>\n",
       "      <td>3.061384</td>\n",
       "      <td>3.341033</td>\n",
       "      <td>1.959355</td>\n",
       "      <td>4.443063</td>\n",
       "    </tr>\n",
       "  </tbody>\n",
       "</table>\n",
       "</div>"
      ],
      "text/plain": [
       "       mean   mean_se  mean_ci_lower  mean_ci_upper  obs_ci_lower  \\\n",
       "0  3.201209  0.070609       3.061384       3.341033      1.959355   \n",
       "\n",
       "   obs_ci_upper  \n",
       "0      4.443063  "
      ]
     },
     "execution_count": 7,
     "metadata": {},
     "output_type": "execute_result"
    }
   ],
   "source": [
    "predictions = lm_gpa.get_prediction(Xh)\n",
    "predictions.summary_frame(alpha=0.05)"
   ]
  },
  {
   "cell_type": "markdown",
   "metadata": {},
   "source": [
    "*Interpretation:*\n",
    "\n",
    "- This means that we can predict with 95% confidence that $\\beta_{1}$ is within the range: (3.061384, 3.341033)\n",
    "- Narrower C.I. means that we are more confident about our fit for $X_{h} = 28$\n",
    "- Also, since we are using the entire data set for development of our model, it might give us a better fit on the observation that is within the sample."
   ]
  },
  {
   "cell_type": "markdown",
   "metadata": {},
   "source": [
    "**(b)**\n",
    "\n",
    "Same two cells of code as for (a), just look at obs values."
   ]
  },
  {
   "cell_type": "markdown",
   "metadata": {},
   "source": [
    "*Interpretation:*\n",
    "\n",
    "- This means that we can predict with 95% confidence that $\\beta_{1}$ is within the range: (1.959355, 4.443063)\n",
    "- This range is considerably larger than that in part a, as we are now calculating the C.I. for an out of sample observation."
   ]
  },
  {
   "cell_type": "markdown",
   "metadata": {},
   "source": [
    "**(c)**\n",
    "\n",
    "Yes, the prediction interval in part (b) is wider than the confidence interval in part (a). This makes sense and is expected, since an observation outside the development model will have wider distribution and more variation."
   ]
  },
  {
   "cell_type": "markdown",
   "metadata": {},
   "source": [
    "**(d)**\n",
    "\n",
    "We will use the formula for Working-Hotelling $1-\\alpha$ confidence band for a regression line: \n",
    "\n",
    "$\\hat{Y_{h}} +_{-} W*s(\\hat{Y_{h}})$\n",
    "\n",
    "where,\n",
    "$W = 2F(1-\\alpha; 2, n-2)$"
   ]
  },
  {
   "cell_type": "code",
   "execution_count": 8,
   "metadata": {},
   "outputs": [
    {
     "name": "stdout",
     "output_type": "stream",
     "text": [
      "       mean   mean_se  mean_ci_lower  mean_ci_upper  obs_ci_lower  \\\n",
      "0  3.201209  0.070609       3.061384       3.341033      1.959355   \n",
      "\n",
      "   obs_ci_upper  \n",
      "0      4.443063  \n"
     ]
    },
    {
     "data": {
      "text/plain": [
       "(0    3.026159\n",
       " dtype: float64, 0    3.376258\n",
       " dtype: float64)"
      ]
     },
     "execution_count": 8,
     "metadata": {},
     "output_type": "execute_result"
    }
   ],
   "source": [
    "Xh = pd.DataFrame([28], columns=[\"ACT\"])\n",
    "W = np.sqrt( 2 * stats.f.ppf(0.95,2,118))\n",
    "predictions = lm_gpa.get_prediction(Xh)\n",
    "CI = predictions.summary_frame(alpha=0.05)\n",
    "print(CI)\n",
    "CI[\"mean\"]-W*CI[\"mean_se\"], CI[\"mean\"]+W*CI[\"mean_se\"]"
   ]
  },
  {
   "cell_type": "markdown",
   "metadata": {},
   "source": [
    "We see that the band on the regression line at $X_{h}=28$ is wider than that in part (a). This is expected, because in part (a) we use t multiple to calculate the confidence interval, whereas, in part (d) we use W multiple. And W multiple is larger than t since it encompasses the entire regression line whereas C.I. for $E[\\hat{Y_{h}}]$ at $X_{h}=28$ applies only to that particular observation.\n"
   ]
  },
  {
   "cell_type": "markdown",
   "metadata": {},
   "source": [
    "**Solution 4:**"
   ]
  },
  {
   "cell_type": "code",
   "execution_count": 9,
   "metadata": {},
   "outputs": [],
   "source": [
    "train_gpa, test_gpa = train_test_split(gpa, test_size=0.3, random_state=1234)"
   ]
  },
  {
   "cell_type": "code",
   "execution_count": 10,
   "metadata": {},
   "outputs": [
    {
     "data": {
      "text/plain": [
       "((36, 2), (84, 2))"
      ]
     },
     "execution_count": 10,
     "metadata": {},
     "output_type": "execute_result"
    }
   ],
   "source": [
    "test_gpa.shape, train_gpa.shape"
   ]
  },
  {
   "cell_type": "code",
   "execution_count": 11,
   "metadata": {},
   "outputs": [
    {
     "data": {
      "text/html": [
       "<table class=\"simpletable\">\n",
       "<caption>OLS Regression Results</caption>\n",
       "<tr>\n",
       "  <th>Dep. Variable:</th>           <td>GPA</td>       <th>  R-squared:         </th> <td>   0.119</td>\n",
       "</tr>\n",
       "<tr>\n",
       "  <th>Model:</th>                   <td>OLS</td>       <th>  Adj. R-squared:    </th> <td>   0.109</td>\n",
       "</tr>\n",
       "<tr>\n",
       "  <th>Method:</th>             <td>Least Squares</td>  <th>  F-statistic:       </th> <td>   11.11</td>\n",
       "</tr>\n",
       "<tr>\n",
       "  <th>Date:</th>             <td>Wed, 02 Oct 2019</td> <th>  Prob (F-statistic):</th>  <td>0.00129</td>\n",
       "</tr>\n",
       "<tr>\n",
       "  <th>Time:</th>                 <td>18:31:28</td>     <th>  Log-Likelihood:    </th> <td> -68.541</td>\n",
       "</tr>\n",
       "<tr>\n",
       "  <th>No. Observations:</th>      <td>    84</td>      <th>  AIC:               </th> <td>   141.1</td>\n",
       "</tr>\n",
       "<tr>\n",
       "  <th>Df Residuals:</th>          <td>    82</td>      <th>  BIC:               </th> <td>   145.9</td>\n",
       "</tr>\n",
       "<tr>\n",
       "  <th>Df Model:</th>              <td>     1</td>      <th>                     </th>     <td> </td>   \n",
       "</tr>\n",
       "<tr>\n",
       "  <th>Covariance Type:</th>      <td>nonrobust</td>    <th>                     </th>     <td> </td>   \n",
       "</tr>\n",
       "</table>\n",
       "<table class=\"simpletable\">\n",
       "<tr>\n",
       "      <td></td>         <th>coef</th>     <th>std err</th>      <th>t</th>      <th>P>|t|</th>  <th>[0.025</th>    <th>0.975]</th>  \n",
       "</tr>\n",
       "<tr>\n",
       "  <th>Intercept</th> <td>    1.9196</td> <td>    0.366</td> <td>    5.238</td> <td> 0.000</td> <td>    1.191</td> <td>    2.649</td>\n",
       "</tr>\n",
       "<tr>\n",
       "  <th>ACT</th>       <td>    0.0486</td> <td>    0.015</td> <td>    3.333</td> <td> 0.001</td> <td>    0.020</td> <td>    0.078</td>\n",
       "</tr>\n",
       "</table>\n",
       "<table class=\"simpletable\">\n",
       "<tr>\n",
       "  <th>Omnibus:</th>       <td> 1.870</td> <th>  Durbin-Watson:     </th> <td>   2.040</td>\n",
       "</tr>\n",
       "<tr>\n",
       "  <th>Prob(Omnibus):</th> <td> 0.393</td> <th>  Jarque-Bera (JB):  </th> <td>   1.854</td>\n",
       "</tr>\n",
       "<tr>\n",
       "  <th>Skew:</th>          <td>-0.296</td> <th>  Prob(JB):          </th> <td>   0.396</td>\n",
       "</tr>\n",
       "<tr>\n",
       "  <th>Kurtosis:</th>      <td> 2.577</td> <th>  Cond. No.          </th> <td>    153.</td>\n",
       "</tr>\n",
       "</table><br/><br/>Warnings:<br/>[1] Standard Errors assume that the covariance matrix of the errors is correctly specified."
      ],
      "text/plain": [
       "<class 'statsmodels.iolib.summary.Summary'>\n",
       "\"\"\"\n",
       "                            OLS Regression Results                            \n",
       "==============================================================================\n",
       "Dep. Variable:                    GPA   R-squared:                       0.119\n",
       "Model:                            OLS   Adj. R-squared:                  0.109\n",
       "Method:                 Least Squares   F-statistic:                     11.11\n",
       "Date:                Wed, 02 Oct 2019   Prob (F-statistic):            0.00129\n",
       "Time:                        18:31:28   Log-Likelihood:                -68.541\n",
       "No. Observations:                  84   AIC:                             141.1\n",
       "Df Residuals:                      82   BIC:                             145.9\n",
       "Df Model:                           1                                         \n",
       "Covariance Type:            nonrobust                                         \n",
       "==============================================================================\n",
       "                 coef    std err          t      P>|t|      [0.025      0.975]\n",
       "------------------------------------------------------------------------------\n",
       "Intercept      1.9196      0.366      5.238      0.000       1.191       2.649\n",
       "ACT            0.0486      0.015      3.333      0.001       0.020       0.078\n",
       "==============================================================================\n",
       "Omnibus:                        1.870   Durbin-Watson:                   2.040\n",
       "Prob(Omnibus):                  0.393   Jarque-Bera (JB):                1.854\n",
       "Skew:                          -0.296   Prob(JB):                        0.396\n",
       "Kurtosis:                       2.577   Cond. No.                         153.\n",
       "==============================================================================\n",
       "\n",
       "Warnings:\n",
       "[1] Standard Errors assume that the covariance matrix of the errors is correctly specified.\n",
       "\"\"\""
      ]
     },
     "execution_count": 11,
     "metadata": {},
     "output_type": "execute_result"
    }
   ],
   "source": [
    "lm_gpa_tr = ols(\"GPA ~ ACT \", data=train_gpa).fit()\n",
    "lm_gpa_tr.summary()"
   ]
  },
  {
   "cell_type": "markdown",
   "metadata": {},
   "source": [
    "**(a)**"
   ]
  },
  {
   "cell_type": "code",
   "execution_count": 12,
   "metadata": {},
   "outputs": [
    {
     "data": {
      "text/html": [
       "<div>\n",
       "<style scoped>\n",
       "    .dataframe tbody tr th:only-of-type {\n",
       "        vertical-align: middle;\n",
       "    }\n",
       "\n",
       "    .dataframe tbody tr th {\n",
       "        vertical-align: top;\n",
       "    }\n",
       "\n",
       "    .dataframe thead th {\n",
       "        text-align: right;\n",
       "    }\n",
       "</style>\n",
       "<table border=\"1\" class=\"dataframe\">\n",
       "  <thead>\n",
       "    <tr style=\"text-align: right;\">\n",
       "      <th></th>\n",
       "      <th>mean</th>\n",
       "      <th>mean_se</th>\n",
       "      <th>mean_ci_lower</th>\n",
       "      <th>mean_ci_upper</th>\n",
       "      <th>obs_ci_lower</th>\n",
       "      <th>obs_ci_upper</th>\n",
       "    </tr>\n",
       "  </thead>\n",
       "  <tbody>\n",
       "    <tr>\n",
       "      <th>0</th>\n",
       "      <td>3.279462</td>\n",
       "      <td>0.076236</td>\n",
       "      <td>3.127804</td>\n",
       "      <td>3.43112</td>\n",
       "      <td>2.16736</td>\n",
       "      <td>4.391564</td>\n",
       "    </tr>\n",
       "  </tbody>\n",
       "</table>\n",
       "</div>"
      ],
      "text/plain": [
       "       mean   mean_se  mean_ci_lower  mean_ci_upper  obs_ci_lower  \\\n",
       "0  3.279462  0.076236       3.127804        3.43112       2.16736   \n",
       "\n",
       "   obs_ci_upper  \n",
       "0      4.391564  "
      ]
     },
     "execution_count": 12,
     "metadata": {},
     "output_type": "execute_result"
    }
   ],
   "source": [
    "Xh = pd.DataFrame([28], columns=[\"ACT\"])\n",
    "predictions = lm_gpa_tr.get_prediction(Xh)\n",
    "predictions.summary_frame(alpha=0.05)"
   ]
  },
  {
   "cell_type": "markdown",
   "metadata": {},
   "source": [
    "*Interpretation:*\n",
    "\n",
    "- This means that we can predict with 95% confidence that $\\beta_{1}$ is within the range: (3.127804, 3.43112)\n",
    "- Now that we are using the only the training data set for development of our model, we get slightly higher variation in our prediction than in Q.3(a)."
   ]
  },
  {
   "cell_type": "markdown",
   "metadata": {},
   "source": [
    "**(b)**\n",
    "\n",
    "Same two cells of code as for (a), just look at obs values."
   ]
  },
  {
   "cell_type": "markdown",
   "metadata": {},
   "source": [
    "*Interpretation:*\n",
    "\n",
    "- This means that we can predict with 95% confidence that $\\beta_{1}$ is within the range: (2.16736, 4.391564)\n",
    "- Now that we are using the only the training data set for development of our model, we get slightly higher variation in our prediction than in Q.3(b)."
   ]
  },
  {
   "cell_type": "markdown",
   "metadata": {},
   "source": [
    "**(c)**\n",
    "\n",
    "Yes, the prediction interval in part (b) is wider than the confidence interval in part (a). This makes sense and is expected, since an observation outside the development model will have wider distribution and more variation."
   ]
  },
  {
   "cell_type": "markdown",
   "metadata": {},
   "source": [
    "**(d)**"
   ]
  },
  {
   "cell_type": "code",
   "execution_count": 13,
   "metadata": {},
   "outputs": [
    {
     "name": "stdout",
     "output_type": "stream",
     "text": [
      "       mean   mean_se  mean_ci_lower  mean_ci_upper  obs_ci_lower  \\\n",
      "0  3.279462  0.076236       3.127804        3.43112       2.16736   \n",
      "\n",
      "   obs_ci_upper  \n",
      "0      4.391564  \n"
     ]
    },
    {
     "data": {
      "text/plain": [
       "(0    3.089394\n",
       " dtype: float64, 0    3.46953\n",
       " dtype: float64)"
      ]
     },
     "execution_count": 13,
     "metadata": {},
     "output_type": "execute_result"
    }
   ],
   "source": [
    "Xh = pd.DataFrame([28], columns=[\"ACT\"])\n",
    "W = np.sqrt( 2 * stats.f.ppf(0.95,2,82))\n",
    "predictions = lm_gpa_tr.get_prediction(Xh)\n",
    "CI = predictions.summary_frame(alpha=0.05)\n",
    "print(CI)\n",
    "CI[\"mean\"]-W*CI[\"mean_se\"], CI[\"mean\"]+W*CI[\"mean_se\"]"
   ]
  },
  {
   "cell_type": "markdown",
   "metadata": {},
   "source": [
    "We see that the band on the regression line at $X_{h}=28$ is wider than that in part (a). This is expected, because in part (a) we use t multiple to calculate the confidence interval, whereas, in part (d) we use W multiple. And W multiple is larger than t since it encompasses the entire regression line whereas C.I. for $E[\\hat{Y_{h}}]$ at $X_{h}=28$ applies only to that particular observation.\n",
    "\n",
    "Again, the band is wider than Q.3(d) since we are only using training set for development of our model."
   ]
  },
  {
   "cell_type": "markdown",
   "metadata": {},
   "source": [
    "*Calculating MSE for the hold-out set:*"
   ]
  },
  {
   "cell_type": "code",
   "execution_count": 14,
   "metadata": {},
   "outputs": [
    {
     "name": "stdout",
     "output_type": "stream",
     "text": [
      "0.6220889282448168\n"
     ]
    }
   ],
   "source": [
    "Yhat = lm_gpa_tr.predict(test_gpa)\n",
    "resids = test_gpa.GPA-Yhat\n",
    "SSE = np.sum(resids**2)\n",
    "df_resids = test_gpa.shape[0]-2\n",
    "MSE_te = SSE/df_resids\n",
    "print(MSE_te)"
   ]
  },
  {
   "cell_type": "markdown",
   "metadata": {},
   "source": [
    "**Solution 5:**"
   ]
  },
  {
   "cell_type": "markdown",
   "metadata": {},
   "source": [
    "**(a)**\n",
    "\n",
    "$\\epsilon_{i} ~ N(0,25)$\n",
    "\n",
    "$\\implies \\sigma = \\sqrt{25} = 5$"
   ]
  },
  {
   "cell_type": "code",
   "execution_count": 15,
   "metadata": {},
   "outputs": [
    {
     "data": {
      "text/html": [
       "<div>\n",
       "<style scoped>\n",
       "    .dataframe tbody tr th:only-of-type {\n",
       "        vertical-align: middle;\n",
       "    }\n",
       "\n",
       "    .dataframe tbody tr th {\n",
       "        vertical-align: top;\n",
       "    }\n",
       "\n",
       "    .dataframe thead th {\n",
       "        text-align: right;\n",
       "    }\n",
       "</style>\n",
       "<table border=\"1\" class=\"dataframe\">\n",
       "  <thead>\n",
       "    <tr style=\"text-align: right;\">\n",
       "      <th></th>\n",
       "      <th>X</th>\n",
       "      <th>Y</th>\n",
       "    </tr>\n",
       "  </thead>\n",
       "  <tbody>\n",
       "    <tr>\n",
       "      <th>0</th>\n",
       "      <td>4.0</td>\n",
       "      <td>38.357176</td>\n",
       "    </tr>\n",
       "    <tr>\n",
       "      <th>1</th>\n",
       "      <td>8.0</td>\n",
       "      <td>46.045122</td>\n",
       "    </tr>\n",
       "    <tr>\n",
       "      <th>2</th>\n",
       "      <td>12.0</td>\n",
       "      <td>75.163535</td>\n",
       "    </tr>\n",
       "    <tr>\n",
       "      <th>3</th>\n",
       "      <td>16.0</td>\n",
       "      <td>82.436741</td>\n",
       "    </tr>\n",
       "    <tr>\n",
       "      <th>4</th>\n",
       "      <td>20.0</td>\n",
       "      <td>96.397056</td>\n",
       "    </tr>\n",
       "  </tbody>\n",
       "</table>\n",
       "</div>"
      ],
      "text/plain": [
       "      X          Y\n",
       "0   4.0  38.357176\n",
       "1   8.0  46.045122\n",
       "2  12.0  75.163535\n",
       "3  16.0  82.436741\n",
       "4  20.0  96.397056"
      ]
     },
     "execution_count": 15,
     "metadata": {},
     "output_type": "execute_result"
    }
   ],
   "source": [
    "def get_xy_data():\n",
    "    X = np.array([4,8,12,16,20])\n",
    "    ei = np.random.normal(loc=0, scale=5, size=5)\n",
    "    Y = (20+4*X+ei)\n",
    "    xy_data = pd.DataFrame(np.vstack([X,Y]).T, columns=[\"X\",\"Y\"])\n",
    "    return(xy_data)\n",
    "\n",
    "np.random.seed(1234)\n",
    "xy_data = get_xy_data()\n",
    "xy_data"
   ]
  },
  {
   "cell_type": "code",
   "execution_count": 16,
   "metadata": {},
   "outputs": [
    {
     "name": "stderr",
     "output_type": "stream",
     "text": [
      "/home/srk-apts/anaconda3/lib/python3.7/site-packages/statsmodels/stats/stattools.py:71: ValueWarning: omni_normtest is not valid with less than 8 observations; 5 samples were given.\n",
      "  \"samples were given.\" % int(n), ValueWarning)\n"
     ]
    },
    {
     "data": {
      "text/html": [
       "<table class=\"simpletable\">\n",
       "<caption>OLS Regression Results</caption>\n",
       "<tr>\n",
       "  <th>Dep. Variable:</th>            <td>Y</td>        <th>  R-squared:         </th> <td>   0.958</td>\n",
       "</tr>\n",
       "<tr>\n",
       "  <th>Model:</th>                   <td>OLS</td>       <th>  Adj. R-squared:    </th> <td>   0.944</td>\n",
       "</tr>\n",
       "<tr>\n",
       "  <th>Method:</th>             <td>Least Squares</td>  <th>  F-statistic:       </th> <td>   68.66</td>\n",
       "</tr>\n",
       "<tr>\n",
       "  <th>Date:</th>             <td>Wed, 02 Oct 2019</td> <th>  Prob (F-statistic):</th>  <td>0.00368</td>\n",
       "</tr>\n",
       "<tr>\n",
       "  <th>Time:</th>                 <td>18:31:31</td>     <th>  Log-Likelihood:    </th> <td> -14.623</td>\n",
       "</tr>\n",
       "<tr>\n",
       "  <th>No. Observations:</th>      <td>     5</td>      <th>  AIC:               </th> <td>   33.25</td>\n",
       "</tr>\n",
       "<tr>\n",
       "  <th>Df Residuals:</th>          <td>     3</td>      <th>  BIC:               </th> <td>   32.47</td>\n",
       "</tr>\n",
       "<tr>\n",
       "  <th>Df Model:</th>              <td>     1</td>      <th>                     </th>     <td> </td>   \n",
       "</tr>\n",
       "<tr>\n",
       "  <th>Covariance Type:</th>      <td>nonrobust</td>    <th>                     </th>     <td> </td>   \n",
       "</tr>\n",
       "</table>\n",
       "<table class=\"simpletable\">\n",
       "<tr>\n",
       "      <td></td>         <th>coef</th>     <th>std err</th>      <th>t</th>      <th>P>|t|</th>  <th>[0.025</th>    <th>0.975]</th>  \n",
       "</tr>\n",
       "<tr>\n",
       "  <th>Intercept</th> <td>   21.9385</td> <td>    6.103</td> <td>    3.595</td> <td> 0.037</td> <td>    2.516</td> <td>   41.361</td>\n",
       "</tr>\n",
       "<tr>\n",
       "  <th>X</th>         <td>    3.8118</td> <td>    0.460</td> <td>    8.286</td> <td> 0.004</td> <td>    2.348</td> <td>    5.276</td>\n",
       "</tr>\n",
       "</table>\n",
       "<table class=\"simpletable\">\n",
       "<tr>\n",
       "  <th>Omnibus:</th>       <td>   nan</td> <th>  Durbin-Watson:     </th> <td>   3.099</td>\n",
       "</tr>\n",
       "<tr>\n",
       "  <th>Prob(Omnibus):</th> <td>   nan</td> <th>  Jarque-Bera (JB):  </th> <td>   0.188</td>\n",
       "</tr>\n",
       "<tr>\n",
       "  <th>Skew:</th>          <td> 0.337</td> <th>  Prob(JB):          </th> <td>   0.910</td>\n",
       "</tr>\n",
       "<tr>\n",
       "  <th>Kurtosis:</th>      <td> 2.332</td> <th>  Cond. No.          </th> <td>    31.3</td>\n",
       "</tr>\n",
       "</table><br/><br/>Warnings:<br/>[1] Standard Errors assume that the covariance matrix of the errors is correctly specified."
      ],
      "text/plain": [
       "<class 'statsmodels.iolib.summary.Summary'>\n",
       "\"\"\"\n",
       "                            OLS Regression Results                            \n",
       "==============================================================================\n",
       "Dep. Variable:                      Y   R-squared:                       0.958\n",
       "Model:                            OLS   Adj. R-squared:                  0.944\n",
       "Method:                 Least Squares   F-statistic:                     68.66\n",
       "Date:                Wed, 02 Oct 2019   Prob (F-statistic):            0.00368\n",
       "Time:                        18:31:31   Log-Likelihood:                -14.623\n",
       "No. Observations:                   5   AIC:                             33.25\n",
       "Df Residuals:                       3   BIC:                             32.47\n",
       "Df Model:                           1                                         \n",
       "Covariance Type:            nonrobust                                         \n",
       "==============================================================================\n",
       "                 coef    std err          t      P>|t|      [0.025      0.975]\n",
       "------------------------------------------------------------------------------\n",
       "Intercept     21.9385      6.103      3.595      0.037       2.516      41.361\n",
       "X              3.8118      0.460      8.286      0.004       2.348       5.276\n",
       "==============================================================================\n",
       "Omnibus:                          nan   Durbin-Watson:                   3.099\n",
       "Prob(Omnibus):                    nan   Jarque-Bera (JB):                0.188\n",
       "Skew:                           0.337   Prob(JB):                        0.910\n",
       "Kurtosis:                       2.332   Cond. No.                         31.3\n",
       "==============================================================================\n",
       "\n",
       "Warnings:\n",
       "[1] Standard Errors assume that the covariance matrix of the errors is correctly specified.\n",
       "\"\"\""
      ]
     },
     "execution_count": 16,
     "metadata": {},
     "output_type": "execute_result"
    }
   ],
   "source": [
    "lm_xy = ols(\"Y ~ X \", data=xy_data).fit()\n",
    "lm_xy.summary()"
   ]
  },
  {
   "cell_type": "code",
   "execution_count": 17,
   "metadata": {},
   "outputs": [
    {
     "data": {
      "text/html": [
       "<div>\n",
       "<style scoped>\n",
       "    .dataframe tbody tr th:only-of-type {\n",
       "        vertical-align: middle;\n",
       "    }\n",
       "\n",
       "    .dataframe tbody tr th {\n",
       "        vertical-align: top;\n",
       "    }\n",
       "\n",
       "    .dataframe thead th {\n",
       "        text-align: right;\n",
       "    }\n",
       "</style>\n",
       "<table border=\"1\" class=\"dataframe\">\n",
       "  <thead>\n",
       "    <tr style=\"text-align: right;\">\n",
       "      <th></th>\n",
       "      <th>mean</th>\n",
       "      <th>mean_se</th>\n",
       "      <th>mean_ci_lower</th>\n",
       "      <th>mean_ci_upper</th>\n",
       "      <th>obs_ci_lower</th>\n",
       "      <th>obs_ci_upper</th>\n",
       "    </tr>\n",
       "  </thead>\n",
       "  <tbody>\n",
       "    <tr>\n",
       "      <th>0</th>\n",
       "      <td>60.056357</td>\n",
       "      <td>2.760133</td>\n",
       "      <td>51.27238</td>\n",
       "      <td>68.840333</td>\n",
       "      <td>39.560412</td>\n",
       "      <td>80.552302</td>\n",
       "    </tr>\n",
       "  </tbody>\n",
       "</table>\n",
       "</div>"
      ],
      "text/plain": [
       "        mean   mean_se  mean_ci_lower  mean_ci_upper  obs_ci_lower  \\\n",
       "0  60.056357  2.760133       51.27238      68.840333     39.560412   \n",
       "\n",
       "   obs_ci_upper  \n",
       "0     80.552302  "
      ]
     },
     "execution_count": 17,
     "metadata": {},
     "output_type": "execute_result"
    }
   ],
   "source": [
    "Xh = pd.DataFrame([10], columns=[\"X\"])\n",
    "predictions = lm_xy.get_prediction(Xh)\n",
    "predictions.summary_frame(alpha=0.05)"
   ]
  },
  {
   "cell_type": "markdown",
   "metadata": {},
   "source": [
    "**(b)**"
   ]
  },
  {
   "cell_type": "code",
   "execution_count": 18,
   "metadata": {},
   "outputs": [],
   "source": [
    "def get_results():\n",
    "    for i in range(200):\n",
    "        data = get_xy_data()\n",
    "        lm = ols(\"Y ~ X \", data=data).fit()\n",
    "        Xh = pd.DataFrame([10], columns=[\"X\"])\n",
    "        predictions = lm.get_prediction(Xh)\n",
    "        CI = predictions.summary_frame(alpha=0.05)\n",
    "        b1 = pd.DataFrame([lm.params[1]], columns=[\"b1\"])\n",
    "        EY = pd.DataFrame([np.mean(lm.predict(data))], columns=[\"EY\"])\n",
    "\n",
    "        if(i==0):\n",
    "            df_results = pd.concat([CI,b1,EY], axis=1)\n",
    "        else:\n",
    "            results_curr = pd.concat([CI,b1,EY], axis=1)\n",
    "            df_results = pd.concat([df_results, results_curr], axis=0)\n",
    "            \n",
    "    return(df_results)"
   ]
  },
  {
   "cell_type": "code",
   "execution_count": 19,
   "metadata": {},
   "outputs": [
    {
     "data": {
      "text/html": [
       "<div>\n",
       "<style scoped>\n",
       "    .dataframe tbody tr th:only-of-type {\n",
       "        vertical-align: middle;\n",
       "    }\n",
       "\n",
       "    .dataframe tbody tr th {\n",
       "        vertical-align: top;\n",
       "    }\n",
       "\n",
       "    .dataframe thead th {\n",
       "        text-align: right;\n",
       "    }\n",
       "</style>\n",
       "<table border=\"1\" class=\"dataframe\">\n",
       "  <thead>\n",
       "    <tr style=\"text-align: right;\">\n",
       "      <th></th>\n",
       "      <th>mean</th>\n",
       "      <th>mean_se</th>\n",
       "      <th>mean_ci_lower</th>\n",
       "      <th>mean_ci_upper</th>\n",
       "      <th>obs_ci_lower</th>\n",
       "      <th>obs_ci_upper</th>\n",
       "      <th>b1</th>\n",
       "      <th>EY</th>\n",
       "    </tr>\n",
       "  </thead>\n",
       "  <tbody>\n",
       "    <tr>\n",
       "      <th>0</th>\n",
       "      <td>60.659136</td>\n",
       "      <td>1.767131</td>\n",
       "      <td>55.035337</td>\n",
       "      <td>66.282936</td>\n",
       "      <td>47.536937</td>\n",
       "      <td>73.781335</td>\n",
       "      <td>3.112052</td>\n",
       "      <td>66.883239</td>\n",
       "    </tr>\n",
       "    <tr>\n",
       "      <th>0</th>\n",
       "      <td>62.235330</td>\n",
       "      <td>2.642863</td>\n",
       "      <td>53.824562</td>\n",
       "      <td>70.646099</td>\n",
       "      <td>42.610204</td>\n",
       "      <td>81.860457</td>\n",
       "      <td>3.252322</td>\n",
       "      <td>68.739974</td>\n",
       "    </tr>\n",
       "    <tr>\n",
       "      <th>0</th>\n",
       "      <td>61.016502</td>\n",
       "      <td>2.692257</td>\n",
       "      <td>52.448539</td>\n",
       "      <td>69.584466</td>\n",
       "      <td>41.024587</td>\n",
       "      <td>81.008417</td>\n",
       "      <td>3.727207</td>\n",
       "      <td>68.470916</td>\n",
       "    </tr>\n",
       "    <tr>\n",
       "      <th>0</th>\n",
       "      <td>60.143645</td>\n",
       "      <td>0.923048</td>\n",
       "      <td>57.206094</td>\n",
       "      <td>63.081196</td>\n",
       "      <td>53.289360</td>\n",
       "      <td>66.997930</td>\n",
       "      <td>4.531376</td>\n",
       "      <td>69.206396</td>\n",
       "    </tr>\n",
       "    <tr>\n",
       "      <th>0</th>\n",
       "      <td>58.715611</td>\n",
       "      <td>2.918281</td>\n",
       "      <td>49.428337</td>\n",
       "      <td>68.002884</td>\n",
       "      <td>37.045305</td>\n",
       "      <td>80.385916</td>\n",
       "      <td>4.274736</td>\n",
       "      <td>67.265082</td>\n",
       "    </tr>\n",
       "    <tr>\n",
       "      <th>0</th>\n",
       "      <td>62.088928</td>\n",
       "      <td>0.955473</td>\n",
       "      <td>59.048185</td>\n",
       "      <td>65.129670</td>\n",
       "      <td>54.993861</td>\n",
       "      <td>69.183994</td>\n",
       "      <td>4.403952</td>\n",
       "      <td>70.896832</td>\n",
       "    </tr>\n",
       "    <tr>\n",
       "      <th>0</th>\n",
       "      <td>61.476695</td>\n",
       "      <td>1.713000</td>\n",
       "      <td>56.025164</td>\n",
       "      <td>66.928227</td>\n",
       "      <td>48.756455</td>\n",
       "      <td>74.196935</td>\n",
       "      <td>4.717883</td>\n",
       "      <td>70.912462</td>\n",
       "    </tr>\n",
       "    <tr>\n",
       "      <th>0</th>\n",
       "      <td>58.010047</td>\n",
       "      <td>2.568407</td>\n",
       "      <td>49.836231</td>\n",
       "      <td>66.183863</td>\n",
       "      <td>38.937809</td>\n",
       "      <td>77.082285</td>\n",
       "      <td>3.854332</td>\n",
       "      <td>65.718710</td>\n",
       "    </tr>\n",
       "    <tr>\n",
       "      <th>0</th>\n",
       "      <td>59.175755</td>\n",
       "      <td>0.937668</td>\n",
       "      <td>56.191678</td>\n",
       "      <td>62.159833</td>\n",
       "      <td>52.212908</td>\n",
       "      <td>66.138602</td>\n",
       "      <td>4.389632</td>\n",
       "      <td>67.955020</td>\n",
       "    </tr>\n",
       "    <tr>\n",
       "      <th>0</th>\n",
       "      <td>57.702467</td>\n",
       "      <td>2.546182</td>\n",
       "      <td>49.599379</td>\n",
       "      <td>65.805556</td>\n",
       "      <td>38.795261</td>\n",
       "      <td>76.609674</td>\n",
       "      <td>3.820799</td>\n",
       "      <td>65.344065</td>\n",
       "    </tr>\n",
       "    <tr>\n",
       "      <th>0</th>\n",
       "      <td>61.387216</td>\n",
       "      <td>0.989013</td>\n",
       "      <td>58.239736</td>\n",
       "      <td>64.534697</td>\n",
       "      <td>54.043095</td>\n",
       "      <td>68.731338</td>\n",
       "      <td>4.449034</td>\n",
       "      <td>70.285285</td>\n",
       "    </tr>\n",
       "    <tr>\n",
       "      <th>0</th>\n",
       "      <td>59.119210</td>\n",
       "      <td>1.108839</td>\n",
       "      <td>55.590390</td>\n",
       "      <td>62.648029</td>\n",
       "      <td>50.885298</td>\n",
       "      <td>67.353121</td>\n",
       "      <td>4.484740</td>\n",
       "      <td>68.088690</td>\n",
       "    </tr>\n",
       "    <tr>\n",
       "      <th>0</th>\n",
       "      <td>58.306216</td>\n",
       "      <td>4.271930</td>\n",
       "      <td>44.711027</td>\n",
       "      <td>71.901404</td>\n",
       "      <td>26.584109</td>\n",
       "      <td>90.028322</td>\n",
       "      <td>4.548954</td>\n",
       "      <td>67.404123</td>\n",
       "    </tr>\n",
       "    <tr>\n",
       "      <th>0</th>\n",
       "      <td>60.033154</td>\n",
       "      <td>2.144794</td>\n",
       "      <td>53.207462</td>\n",
       "      <td>66.858845</td>\n",
       "      <td>44.106541</td>\n",
       "      <td>75.959767</td>\n",
       "      <td>3.972476</td>\n",
       "      <td>67.978106</td>\n",
       "    </tr>\n",
       "    <tr>\n",
       "      <th>0</th>\n",
       "      <td>62.636549</td>\n",
       "      <td>2.721521</td>\n",
       "      <td>53.975455</td>\n",
       "      <td>71.297644</td>\n",
       "      <td>42.427329</td>\n",
       "      <td>82.845769</td>\n",
       "      <td>3.558545</td>\n",
       "      <td>69.753639</td>\n",
       "    </tr>\n",
       "    <tr>\n",
       "      <th>0</th>\n",
       "      <td>57.760036</td>\n",
       "      <td>4.995992</td>\n",
       "      <td>41.860559</td>\n",
       "      <td>73.659513</td>\n",
       "      <td>20.661256</td>\n",
       "      <td>94.858816</td>\n",
       "      <td>4.389553</td>\n",
       "      <td>66.539141</td>\n",
       "    </tr>\n",
       "    <tr>\n",
       "      <th>0</th>\n",
       "      <td>62.198107</td>\n",
       "      <td>1.356969</td>\n",
       "      <td>57.879627</td>\n",
       "      <td>66.516588</td>\n",
       "      <td>52.121653</td>\n",
       "      <td>72.274561</td>\n",
       "      <td>4.393454</td>\n",
       "      <td>70.985015</td>\n",
       "    </tr>\n",
       "    <tr>\n",
       "      <th>0</th>\n",
       "      <td>58.561715</td>\n",
       "      <td>1.845428</td>\n",
       "      <td>52.688740</td>\n",
       "      <td>64.434691</td>\n",
       "      <td>44.858107</td>\n",
       "      <td>72.265324</td>\n",
       "      <td>4.161094</td>\n",
       "      <td>66.883903</td>\n",
       "    </tr>\n",
       "    <tr>\n",
       "      <th>0</th>\n",
       "      <td>58.916728</td>\n",
       "      <td>1.449674</td>\n",
       "      <td>54.303217</td>\n",
       "      <td>63.530238</td>\n",
       "      <td>48.151870</td>\n",
       "      <td>69.681585</td>\n",
       "      <td>3.801989</td>\n",
       "      <td>66.520705</td>\n",
       "    </tr>\n",
       "    <tr>\n",
       "      <th>0</th>\n",
       "      <td>62.104683</td>\n",
       "      <td>0.351871</td>\n",
       "      <td>60.984871</td>\n",
       "      <td>63.224495</td>\n",
       "      <td>59.491788</td>\n",
       "      <td>64.717577</td>\n",
       "      <td>4.013116</td>\n",
       "      <td>70.130915</td>\n",
       "    </tr>\n",
       "    <tr>\n",
       "      <th>0</th>\n",
       "      <td>60.878700</td>\n",
       "      <td>2.984417</td>\n",
       "      <td>51.380954</td>\n",
       "      <td>70.376445</td>\n",
       "      <td>38.717293</td>\n",
       "      <td>83.040106</td>\n",
       "      <td>3.589563</td>\n",
       "      <td>68.057825</td>\n",
       "    </tr>\n",
       "    <tr>\n",
       "      <th>0</th>\n",
       "      <td>59.183960</td>\n",
       "      <td>2.865816</td>\n",
       "      <td>50.063653</td>\n",
       "      <td>68.304267</td>\n",
       "      <td>37.903244</td>\n",
       "      <td>80.464677</td>\n",
       "      <td>4.037633</td>\n",
       "      <td>67.259226</td>\n",
       "    </tr>\n",
       "    <tr>\n",
       "      <th>0</th>\n",
       "      <td>58.991784</td>\n",
       "      <td>2.662319</td>\n",
       "      <td>50.519096</td>\n",
       "      <td>67.464472</td>\n",
       "      <td>39.222178</td>\n",
       "      <td>78.761389</td>\n",
       "      <td>4.065057</td>\n",
       "      <td>67.121897</td>\n",
       "    </tr>\n",
       "    <tr>\n",
       "      <th>0</th>\n",
       "      <td>57.648021</td>\n",
       "      <td>1.970225</td>\n",
       "      <td>51.377885</td>\n",
       "      <td>63.918158</td>\n",
       "      <td>43.017703</td>\n",
       "      <td>72.278340</td>\n",
       "      <td>3.768100</td>\n",
       "      <td>65.184222</td>\n",
       "    </tr>\n",
       "    <tr>\n",
       "      <th>0</th>\n",
       "      <td>60.552287</td>\n",
       "      <td>1.311479</td>\n",
       "      <td>56.378576</td>\n",
       "      <td>64.725998</td>\n",
       "      <td>50.813628</td>\n",
       "      <td>70.290945</td>\n",
       "      <td>4.217908</td>\n",
       "      <td>68.988103</td>\n",
       "    </tr>\n",
       "    <tr>\n",
       "      <th>0</th>\n",
       "      <td>63.104462</td>\n",
       "      <td>1.559373</td>\n",
       "      <td>58.141841</td>\n",
       "      <td>68.067082</td>\n",
       "      <td>51.525014</td>\n",
       "      <td>74.683910</td>\n",
       "      <td>4.317808</td>\n",
       "      <td>71.740077</td>\n",
       "    </tr>\n",
       "    <tr>\n",
       "      <th>0</th>\n",
       "      <td>57.184302</td>\n",
       "      <td>4.485988</td>\n",
       "      <td>42.907885</td>\n",
       "      <td>71.460718</td>\n",
       "      <td>23.872663</td>\n",
       "      <td>90.495940</td>\n",
       "      <td>4.586843</td>\n",
       "      <td>66.357987</td>\n",
       "    </tr>\n",
       "    <tr>\n",
       "      <th>0</th>\n",
       "      <td>61.374598</td>\n",
       "      <td>2.353798</td>\n",
       "      <td>53.883762</td>\n",
       "      <td>68.865434</td>\n",
       "      <td>43.895981</td>\n",
       "      <td>78.853216</td>\n",
       "      <td>4.036027</td>\n",
       "      <td>69.446653</td>\n",
       "    </tr>\n",
       "    <tr>\n",
       "      <th>0</th>\n",
       "      <td>62.165407</td>\n",
       "      <td>2.195259</td>\n",
       "      <td>55.179113</td>\n",
       "      <td>69.151700</td>\n",
       "      <td>45.864056</td>\n",
       "      <td>78.466758</td>\n",
       "      <td>4.619697</td>\n",
       "      <td>71.404800</td>\n",
       "    </tr>\n",
       "    <tr>\n",
       "      <th>0</th>\n",
       "      <td>61.902314</td>\n",
       "      <td>1.925727</td>\n",
       "      <td>55.773792</td>\n",
       "      <td>68.030835</td>\n",
       "      <td>47.602430</td>\n",
       "      <td>76.202198</td>\n",
       "      <td>4.108752</td>\n",
       "      <td>70.119818</td>\n",
       "    </tr>\n",
       "    <tr>\n",
       "      <th>...</th>\n",
       "      <td>...</td>\n",
       "      <td>...</td>\n",
       "      <td>...</td>\n",
       "      <td>...</td>\n",
       "      <td>...</td>\n",
       "      <td>...</td>\n",
       "      <td>...</td>\n",
       "      <td>...</td>\n",
       "    </tr>\n",
       "    <tr>\n",
       "      <th>0</th>\n",
       "      <td>61.312401</td>\n",
       "      <td>2.454706</td>\n",
       "      <td>53.500430</td>\n",
       "      <td>69.124371</td>\n",
       "      <td>43.084470</td>\n",
       "      <td>79.540332</td>\n",
       "      <td>3.923051</td>\n",
       "      <td>69.158503</td>\n",
       "    </tr>\n",
       "    <tr>\n",
       "      <th>0</th>\n",
       "      <td>61.352407</td>\n",
       "      <td>2.133919</td>\n",
       "      <td>54.561325</td>\n",
       "      <td>68.143489</td>\n",
       "      <td>45.506549</td>\n",
       "      <td>77.198265</td>\n",
       "      <td>4.408807</td>\n",
       "      <td>70.170021</td>\n",
       "    </tr>\n",
       "    <tr>\n",
       "      <th>0</th>\n",
       "      <td>59.451330</td>\n",
       "      <td>1.144944</td>\n",
       "      <td>55.807606</td>\n",
       "      <td>63.095053</td>\n",
       "      <td>50.949309</td>\n",
       "      <td>67.953351</td>\n",
       "      <td>3.788366</td>\n",
       "      <td>67.028061</td>\n",
       "    </tr>\n",
       "    <tr>\n",
       "      <th>0</th>\n",
       "      <td>59.949714</td>\n",
       "      <td>1.775214</td>\n",
       "      <td>54.300190</td>\n",
       "      <td>65.599238</td>\n",
       "      <td>46.767491</td>\n",
       "      <td>73.131937</td>\n",
       "      <td>3.645076</td>\n",
       "      <td>67.239866</td>\n",
       "    </tr>\n",
       "    <tr>\n",
       "      <th>0</th>\n",
       "      <td>61.251804</td>\n",
       "      <td>0.796168</td>\n",
       "      <td>58.718043</td>\n",
       "      <td>63.785565</td>\n",
       "      <td>55.339694</td>\n",
       "      <td>67.163914</td>\n",
       "      <td>3.741546</td>\n",
       "      <td>68.734895</td>\n",
       "    </tr>\n",
       "    <tr>\n",
       "      <th>0</th>\n",
       "      <td>53.549051</td>\n",
       "      <td>3.171063</td>\n",
       "      <td>43.457313</td>\n",
       "      <td>63.640789</td>\n",
       "      <td>30.001662</td>\n",
       "      <td>77.096439</td>\n",
       "      <td>3.914301</td>\n",
       "      <td>61.377653</td>\n",
       "    </tr>\n",
       "    <tr>\n",
       "      <th>0</th>\n",
       "      <td>58.659184</td>\n",
       "      <td>0.660062</td>\n",
       "      <td>56.558571</td>\n",
       "      <td>60.759797</td>\n",
       "      <td>53.757754</td>\n",
       "      <td>63.560614</td>\n",
       "      <td>4.321902</td>\n",
       "      <td>67.302988</td>\n",
       "    </tr>\n",
       "    <tr>\n",
       "      <th>0</th>\n",
       "      <td>58.638806</td>\n",
       "      <td>2.762765</td>\n",
       "      <td>49.846453</td>\n",
       "      <td>67.431158</td>\n",
       "      <td>38.123317</td>\n",
       "      <td>79.154295</td>\n",
       "      <td>3.681722</td>\n",
       "      <td>66.002250</td>\n",
       "    </tr>\n",
       "    <tr>\n",
       "      <th>0</th>\n",
       "      <td>58.049055</td>\n",
       "      <td>3.311997</td>\n",
       "      <td>47.508802</td>\n",
       "      <td>68.589307</td>\n",
       "      <td>33.455132</td>\n",
       "      <td>82.642978</td>\n",
       "      <td>4.360715</td>\n",
       "      <td>66.770486</td>\n",
       "    </tr>\n",
       "    <tr>\n",
       "      <th>0</th>\n",
       "      <td>58.680937</td>\n",
       "      <td>2.744031</td>\n",
       "      <td>49.948205</td>\n",
       "      <td>67.413669</td>\n",
       "      <td>38.304562</td>\n",
       "      <td>79.057312</td>\n",
       "      <td>4.036988</td>\n",
       "      <td>66.754912</td>\n",
       "    </tr>\n",
       "    <tr>\n",
       "      <th>0</th>\n",
       "      <td>59.867672</td>\n",
       "      <td>1.819465</td>\n",
       "      <td>54.077322</td>\n",
       "      <td>65.658022</td>\n",
       "      <td>46.356855</td>\n",
       "      <td>73.378489</td>\n",
       "      <td>3.797592</td>\n",
       "      <td>67.462857</td>\n",
       "    </tr>\n",
       "    <tr>\n",
       "      <th>0</th>\n",
       "      <td>59.302664</td>\n",
       "      <td>2.947499</td>\n",
       "      <td>49.922405</td>\n",
       "      <td>68.682922</td>\n",
       "      <td>37.415394</td>\n",
       "      <td>81.189933</td>\n",
       "      <td>3.744596</td>\n",
       "      <td>66.791855</td>\n",
       "    </tr>\n",
       "    <tr>\n",
       "      <th>0</th>\n",
       "      <td>60.342668</td>\n",
       "      <td>1.080026</td>\n",
       "      <td>56.905545</td>\n",
       "      <td>63.779792</td>\n",
       "      <td>52.322713</td>\n",
       "      <td>68.362623</td>\n",
       "      <td>4.211747</td>\n",
       "      <td>68.766163</td>\n",
       "    </tr>\n",
       "    <tr>\n",
       "      <th>0</th>\n",
       "      <td>59.710703</td>\n",
       "      <td>2.735206</td>\n",
       "      <td>51.006057</td>\n",
       "      <td>68.415348</td>\n",
       "      <td>39.399863</td>\n",
       "      <td>80.021543</td>\n",
       "      <td>3.940649</td>\n",
       "      <td>67.592001</td>\n",
       "    </tr>\n",
       "    <tr>\n",
       "      <th>0</th>\n",
       "      <td>58.752737</td>\n",
       "      <td>1.963726</td>\n",
       "      <td>52.503286</td>\n",
       "      <td>65.002189</td>\n",
       "      <td>44.170685</td>\n",
       "      <td>73.334790</td>\n",
       "      <td>3.012897</td>\n",
       "      <td>64.778531</td>\n",
       "    </tr>\n",
       "    <tr>\n",
       "      <th>0</th>\n",
       "      <td>63.876194</td>\n",
       "      <td>1.611473</td>\n",
       "      <td>58.747770</td>\n",
       "      <td>69.004619</td>\n",
       "      <td>51.909870</td>\n",
       "      <td>75.842519</td>\n",
       "      <td>3.278358</td>\n",
       "      <td>70.432910</td>\n",
       "    </tr>\n",
       "    <tr>\n",
       "      <th>0</th>\n",
       "      <td>62.167667</td>\n",
       "      <td>3.377391</td>\n",
       "      <td>51.419302</td>\n",
       "      <td>72.916032</td>\n",
       "      <td>37.088150</td>\n",
       "      <td>87.247185</td>\n",
       "      <td>4.318008</td>\n",
       "      <td>70.803684</td>\n",
       "    </tr>\n",
       "    <tr>\n",
       "      <th>0</th>\n",
       "      <td>58.832420</td>\n",
       "      <td>3.711776</td>\n",
       "      <td>47.019892</td>\n",
       "      <td>70.644949</td>\n",
       "      <td>31.269854</td>\n",
       "      <td>86.394986</td>\n",
       "      <td>4.308293</td>\n",
       "      <td>67.449007</td>\n",
       "    </tr>\n",
       "    <tr>\n",
       "      <th>0</th>\n",
       "      <td>60.706894</td>\n",
       "      <td>3.167982</td>\n",
       "      <td>50.624962</td>\n",
       "      <td>70.788826</td>\n",
       "      <td>37.182386</td>\n",
       "      <td>84.231402</td>\n",
       "      <td>4.051378</td>\n",
       "      <td>68.809649</td>\n",
       "    </tr>\n",
       "    <tr>\n",
       "      <th>0</th>\n",
       "      <td>60.156292</td>\n",
       "      <td>2.356716</td>\n",
       "      <td>52.656170</td>\n",
       "      <td>67.656413</td>\n",
       "      <td>42.656009</td>\n",
       "      <td>77.656574</td>\n",
       "      <td>4.054799</td>\n",
       "      <td>68.265889</td>\n",
       "    </tr>\n",
       "    <tr>\n",
       "      <th>0</th>\n",
       "      <td>62.917419</td>\n",
       "      <td>2.203147</td>\n",
       "      <td>55.906022</td>\n",
       "      <td>69.928816</td>\n",
       "      <td>46.557493</td>\n",
       "      <td>79.277345</td>\n",
       "      <td>4.290666</td>\n",
       "      <td>71.498751</td>\n",
       "    </tr>\n",
       "    <tr>\n",
       "      <th>0</th>\n",
       "      <td>59.175545</td>\n",
       "      <td>2.254578</td>\n",
       "      <td>52.000471</td>\n",
       "      <td>66.350620</td>\n",
       "      <td>42.433705</td>\n",
       "      <td>75.917386</td>\n",
       "      <td>4.112473</td>\n",
       "      <td>67.400491</td>\n",
       "    </tr>\n",
       "    <tr>\n",
       "      <th>0</th>\n",
       "      <td>57.895896</td>\n",
       "      <td>2.159661</td>\n",
       "      <td>51.022892</td>\n",
       "      <td>64.768901</td>\n",
       "      <td>41.858886</td>\n",
       "      <td>73.932907</td>\n",
       "      <td>4.174494</td>\n",
       "      <td>66.244885</td>\n",
       "    </tr>\n",
       "    <tr>\n",
       "      <th>0</th>\n",
       "      <td>63.311777</td>\n",
       "      <td>2.280056</td>\n",
       "      <td>56.055622</td>\n",
       "      <td>70.567932</td>\n",
       "      <td>46.380748</td>\n",
       "      <td>80.242805</td>\n",
       "      <td>3.226172</td>\n",
       "      <td>69.764120</td>\n",
       "    </tr>\n",
       "    <tr>\n",
       "      <th>0</th>\n",
       "      <td>59.649921</td>\n",
       "      <td>2.329177</td>\n",
       "      <td>52.237439</td>\n",
       "      <td>67.062402</td>\n",
       "      <td>42.354130</td>\n",
       "      <td>76.945712</td>\n",
       "      <td>3.660312</td>\n",
       "      <td>66.970546</td>\n",
       "    </tr>\n",
       "    <tr>\n",
       "      <th>0</th>\n",
       "      <td>59.586352</td>\n",
       "      <td>1.649428</td>\n",
       "      <td>54.337136</td>\n",
       "      <td>64.835568</td>\n",
       "      <td>47.338182</td>\n",
       "      <td>71.834522</td>\n",
       "      <td>4.298502</td>\n",
       "      <td>68.183356</td>\n",
       "    </tr>\n",
       "    <tr>\n",
       "      <th>0</th>\n",
       "      <td>60.394497</td>\n",
       "      <td>1.221848</td>\n",
       "      <td>56.506031</td>\n",
       "      <td>64.282964</td>\n",
       "      <td>51.321408</td>\n",
       "      <td>69.467587</td>\n",
       "      <td>3.391511</td>\n",
       "      <td>67.177519</td>\n",
       "    </tr>\n",
       "    <tr>\n",
       "      <th>0</th>\n",
       "      <td>60.578230</td>\n",
       "      <td>2.323376</td>\n",
       "      <td>53.184210</td>\n",
       "      <td>67.972250</td>\n",
       "      <td>43.325517</td>\n",
       "      <td>77.830943</td>\n",
       "      <td>3.430093</td>\n",
       "      <td>67.438416</td>\n",
       "    </tr>\n",
       "    <tr>\n",
       "      <th>0</th>\n",
       "      <td>62.054868</td>\n",
       "      <td>1.538070</td>\n",
       "      <td>57.160043</td>\n",
       "      <td>66.949693</td>\n",
       "      <td>50.633609</td>\n",
       "      <td>73.476127</td>\n",
       "      <td>3.707641</td>\n",
       "      <td>69.470151</td>\n",
       "    </tr>\n",
       "    <tr>\n",
       "      <th>0</th>\n",
       "      <td>55.086087</td>\n",
       "      <td>2.758245</td>\n",
       "      <td>46.308120</td>\n",
       "      <td>63.864053</td>\n",
       "      <td>34.604164</td>\n",
       "      <td>75.568009</td>\n",
       "      <td>4.737070</td>\n",
       "      <td>64.560227</td>\n",
       "    </tr>\n",
       "  </tbody>\n",
       "</table>\n",
       "<p>200 rows × 8 columns</p>\n",
       "</div>"
      ],
      "text/plain": [
       "         mean   mean_se  mean_ci_lower  mean_ci_upper  obs_ci_lower  \\\n",
       "0   60.659136  1.767131      55.035337      66.282936     47.536937   \n",
       "0   62.235330  2.642863      53.824562      70.646099     42.610204   \n",
       "0   61.016502  2.692257      52.448539      69.584466     41.024587   \n",
       "0   60.143645  0.923048      57.206094      63.081196     53.289360   \n",
       "0   58.715611  2.918281      49.428337      68.002884     37.045305   \n",
       "..        ...       ...            ...            ...           ...   \n",
       "0   59.586352  1.649428      54.337136      64.835568     47.338182   \n",
       "0   60.394497  1.221848      56.506031      64.282964     51.321408   \n",
       "0   60.578230  2.323376      53.184210      67.972250     43.325517   \n",
       "0   62.054868  1.538070      57.160043      66.949693     50.633609   \n",
       "0   55.086087  2.758245      46.308120      63.864053     34.604164   \n",
       "\n",
       "    obs_ci_upper        b1         EY  \n",
       "0      73.781335  3.112052  66.883239  \n",
       "0      81.860457  3.252322  68.739974  \n",
       "0      81.008417  3.727207  68.470916  \n",
       "0      66.997930  4.531376  69.206396  \n",
       "0      80.385916  4.274736  67.265082  \n",
       "..           ...       ...        ...  \n",
       "0      71.834522  4.298502  68.183356  \n",
       "0      69.467587  3.391511  67.177519  \n",
       "0      77.830943  3.430093  67.438416  \n",
       "0      73.476127  3.707641  69.470151  \n",
       "0      75.568009  4.737070  64.560227  \n",
       "\n",
       "[200 rows x 8 columns]"
      ]
     },
     "execution_count": 19,
     "metadata": {},
     "output_type": "execute_result"
    }
   ],
   "source": [
    "df_results = get_results()\n",
    "df_results"
   ]
  },
  {
   "cell_type": "markdown",
   "metadata": {},
   "source": [
    "**(c)**"
   ]
  },
  {
   "cell_type": "code",
   "execution_count": 20,
   "metadata": {},
   "outputs": [
    {
     "data": {
      "text/plain": [
       "(array([ 4.,  6., 28., 29., 37., 38., 31., 19.,  7.,  1.]),\n",
       " array([2.9707936 , 3.17588025, 3.3809669 , 3.58605355, 3.79114019,\n",
       "        3.99622684, 4.20131349, 4.40640014, 4.61148678, 4.81657343,\n",
       "        5.02166008]),\n",
       " <a list of 10 Patch objects>)"
      ]
     },
     "execution_count": 20,
     "metadata": {},
     "output_type": "execute_result"
    },
    {
     "data": {
      "image/png": "[encoded data removed]",
      "text/plain": [
       "<Figure size 432x288 with 1 Axes>"
      ]
     },
     "metadata": {
      "needs_background": "light"
     },
     "output_type": "display_data"
    }
   ],
   "source": [
    "plt.hist(df_results.b1)"
   ]
  },
  {
   "cell_type": "code",
   "execution_count": 21,
   "metadata": {},
   "outputs": [
    {
     "data": {
      "text/plain": [
       "3.9645134633159556"
      ]
     },
     "execution_count": 21,
     "metadata": {},
     "output_type": "execute_result"
    }
   ],
   "source": [
    "np.mean(df_results.b1)"
   ]
  },
  {
   "cell_type": "code",
   "execution_count": 22,
   "metadata": {},
   "outputs": [
    {
     "data": {
      "text/plain": [
       "0.3805074328950835"
      ]
     },
     "execution_count": 22,
     "metadata": {},
     "output_type": "execute_result"
    }
   ],
   "source": [
    "np.std(df_results.b1)"
   ]
  },
  {
   "cell_type": "markdown",
   "metadata": {},
   "source": [
    "**(d)**"
   ]
  },
  {
   "cell_type": "code",
   "execution_count": 38,
   "metadata": {},
   "outputs": [],
   "source": [
    "lwr = (df_results[\"mean_ci_lower\"]<=df_results[\"EY\"])\n",
    "upr = (df_results[\"mean_ci_upper\"]>=df_results[\"EY\"])\n",
    "\n",
    "df_results[\"inc_EY\"] = 0\n",
    "df_results.loc[lwr & upr, \"inc_EY\"] = 1"
   ]
  },
  {
   "cell_type": "code",
   "execution_count": 40,
   "metadata": {},
   "outputs": [
    {
     "data": {
      "text/plain": [
       "0.365"
      ]
     },
     "execution_count": 40,
     "metadata": {},
     "output_type": "execute_result"
    }
   ],
   "source": [
    "np.sum(df_results[\"inc_EY\"])/200"
   ]
  },
  {
   "cell_type": "code",
   "execution_count": 42,
   "metadata": {},
   "outputs": [
    {
     "name": "stdout",
     "output_type": "stream",
     "text": [
      "-0.4\n"
     ]
    },
    {
     "data": {
      "text/plain": [
       "0.3445782583896758"
      ]
     },
     "execution_count": 42,
     "metadata": {},
     "output_type": "execute_result"
    }
   ],
   "source": [
    "mu = np.mean(xy_data[\"X\"])\n",
    "sigma = 5\n",
    "Z = (10-mu)/5\n",
    "print(Z)\n",
    "\n",
    "stats.norm.sf(abs(Z))"
   ]
  },
  {
   "cell_type": "code",
   "execution_count": null,
   "metadata": {},
   "outputs": [],
   "source": []
  },
  {
   "cell_type": "code",
   "execution_count": null,
   "metadata": {},
   "outputs": [],
   "source": []
  },
  {
   "cell_type": "code",
   "execution_count": null,
   "metadata": {},
   "outputs": [],
   "source": []
  },
  {
   "cell_type": "code",
   "execution_count": null,
   "metadata": {},
   "outputs": [],
   "source": []
  }
 ],
 "metadata": {
  "kernelspec": {
   "display_name": "Python 3",
   "language": "python",
   "name": "python3"
  },
  "language_info": {
   "codemirror_mode": {
    "name": "ipython",
    "version": 3
   },
   "file_extension": ".py",
   "mimetype": "text/x-python",
   "name": "python",
   "nbconvert_exporter": "python",
   "pygments_lexer": "ipython3",
   "version": "3.7.4"
  }
 },
 "nbformat": 4,
 "nbformat_minor": 2
}
