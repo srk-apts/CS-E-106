{
 "cells": [
  {
   "cell_type": "code",
   "execution_count": 81,
   "metadata": {},
   "outputs": [],
   "source": [
    "import numpy as np\n",
    "import pandas as pd\n",
    "from scipy import stats\n",
    "import statsmodels.api as sm\n",
    "from statsmodels.formula.api import ols\n",
    "from statsmodels.stats.anova import anova_lm\n",
    "import seaborn as sns\n",
    "import matplotlib.pyplot as plt\n",
    "from statsmodels.graphics import gofplots\n",
    "import pylab\n"
   ]
  },
  {
   "cell_type": "code",
   "execution_count": null,
   "metadata": {},
   "outputs": [],
   "source": [
    "def build_residual_qq"
   ]
  },
  {
   "cell_type": "markdown",
   "metadata": {},
   "source": [
    "**Solution 2**"
   ]
  },
  {
   "cell_type": "markdown",
   "metadata": {},
   "source": [
    "**(a)**"
   ]
  },
  {
   "cell_type": "code",
   "execution_count": 6,
   "metadata": {},
   "outputs": [
    {
     "name": "stderr",
     "output_type": "stream",
     "text": [
      "C:\\Users\\A0687514\\AppData\\Local\\Continuum\\anaconda3\\lib\\site-packages\\scipy\\stats\\stats.py:1416: UserWarning: kurtosistest only valid for n>=20 ... continuing anyway, n=15\n",
      "  \"anyway, n=%i\" % int(n))\n"
     ]
    },
    {
     "data": {
      "text/html": [
       "<table class=\"simpletable\">\n",
       "<caption>OLS Regression Results</caption>\n",
       "<tr>\n",
       "  <th>Dep. Variable:</th>            <td>Y</td>        <th>  R-squared:         </th> <td>   0.812</td>\n",
       "</tr>\n",
       "<tr>\n",
       "  <th>Model:</th>                   <td>OLS</td>       <th>  Adj. R-squared:    </th> <td>   0.797</td>\n",
       "</tr>\n",
       "<tr>\n",
       "  <th>Method:</th>             <td>Least Squares</td>  <th>  F-statistic:       </th> <td>   55.99</td>\n",
       "</tr>\n",
       "<tr>\n",
       "  <th>Date:</th>             <td>Tue, 15 Oct 2019</td> <th>  Prob (F-statistic):</th> <td>4.61e-06</td>\n",
       "</tr>\n",
       "<tr>\n",
       "  <th>Time:</th>                 <td>12:01:24</td>     <th>  Log-Likelihood:    </th> <td> -9.0225</td>\n",
       "</tr>\n",
       "<tr>\n",
       "  <th>No. Observations:</th>      <td>    15</td>      <th>  AIC:               </th> <td>   22.05</td>\n",
       "</tr>\n",
       "<tr>\n",
       "  <th>Df Residuals:</th>          <td>    13</td>      <th>  BIC:               </th> <td>   23.46</td>\n",
       "</tr>\n",
       "<tr>\n",
       "  <th>Df Model:</th>              <td>     1</td>      <th>                     </th>     <td> </td>   \n",
       "</tr>\n",
       "<tr>\n",
       "  <th>Covariance Type:</th>      <td>nonrobust</td>    <th>                     </th>     <td> </td>   \n",
       "</tr>\n",
       "</table>\n",
       "<table class=\"simpletable\">\n",
       "<tr>\n",
       "      <td></td>         <th>coef</th>     <th>std err</th>      <th>t</th>      <th>P>|t|</th>  <th>[0.025</th>    <th>0.975]</th>  \n",
       "</tr>\n",
       "<tr>\n",
       "  <th>Intercept</th> <td>    2.5753</td> <td>    0.249</td> <td>   10.354</td> <td> 0.000</td> <td>    2.038</td> <td>    3.113</td>\n",
       "</tr>\n",
       "<tr>\n",
       "  <th>X</th>         <td>   -0.3240</td> <td>    0.043</td> <td>   -7.483</td> <td> 0.000</td> <td>   -0.418</td> <td>   -0.230</td>\n",
       "</tr>\n",
       "</table>\n",
       "<table class=\"simpletable\">\n",
       "<tr>\n",
       "  <th>Omnibus:</th>       <td> 2.990</td> <th>  Durbin-Watson:     </th> <td>   0.717</td>\n",
       "</tr>\n",
       "<tr>\n",
       "  <th>Prob(Omnibus):</th> <td> 0.224</td> <th>  Jarque-Bera (JB):  </th> <td>   1.428</td>\n",
       "</tr>\n",
       "<tr>\n",
       "  <th>Skew:</th>          <td> 0.412</td> <th>  Prob(JB):          </th> <td>   0.490</td>\n",
       "</tr>\n",
       "<tr>\n",
       "  <th>Kurtosis:</th>      <td> 1.733</td> <th>  Cond. No.          </th> <td>    11.9</td>\n",
       "</tr>\n",
       "</table><br/><br/>Warnings:<br/>[1] Standard Errors assume that the covariance matrix of the errors is correctly specified."
      ],
      "text/plain": [
       "<class 'statsmodels.iolib.summary.Summary'>\n",
       "\"\"\"\n",
       "                            OLS Regression Results                            \n",
       "==============================================================================\n",
       "Dep. Variable:                      Y   R-squared:                       0.812\n",
       "Model:                            OLS   Adj. R-squared:                  0.797\n",
       "Method:                 Least Squares   F-statistic:                     55.99\n",
       "Date:                Tue, 15 Oct 2019   Prob (F-statistic):           4.61e-06\n",
       "Time:                        12:01:24   Log-Likelihood:                -9.0225\n",
       "No. Observations:                  15   AIC:                             22.05\n",
       "Df Residuals:                      13   BIC:                             23.46\n",
       "Df Model:                           1                                         \n",
       "Covariance Type:            nonrobust                                         \n",
       "==============================================================================\n",
       "                 coef    std err          t      P>|t|      [0.025      0.975]\n",
       "------------------------------------------------------------------------------\n",
       "Intercept      2.5753      0.249     10.354      0.000       2.038       3.113\n",
       "X             -0.3240      0.043     -7.483      0.000      -0.418      -0.230\n",
       "==============================================================================\n",
       "Omnibus:                        2.990   Durbin-Watson:                   0.717\n",
       "Prob(Omnibus):                  0.224   Jarque-Bera (JB):                1.428\n",
       "Skew:                           0.412   Prob(JB):                        0.490\n",
       "Kurtosis:                       1.733   Cond. No.                         11.9\n",
       "==============================================================================\n",
       "\n",
       "Warnings:\n",
       "[1] Standard Errors assume that the covariance matrix of the errors is correctly specified.\n",
       "\"\"\""
      ]
     },
     "execution_count": 6,
     "metadata": {},
     "output_type": "execute_result"
    }
   ],
   "source": [
    "solution_data = pd.read_csv(\"data/Solution Concentration.csv\")\n",
    "lm_soln = ols(\"Y~X\", data=solution_data).fit()\n",
    "lm_soln.summary()"
   ]
  },
  {
   "cell_type": "code",
   "execution_count": 7,
   "metadata": {
    "scrolled": false
   },
   "outputs": [
    {
     "name": "stderr",
     "output_type": "stream",
     "text": [
      "C:\\Users\\A0687514\\AppData\\Local\\Continuum\\anaconda3\\lib\\site-packages\\scipy\\stats\\stats.py:1416: UserWarning: kurtosistest only valid for n>=20 ... continuing anyway, n=15\n",
      "  \"anyway, n=%i\" % int(n))\n"
     ]
    },
    {
     "data": {
      "text/html": [
       "<table class=\"simpletable\">\n",
       "<tr>\n",
       "        <td>Model:</td>               <td>OLS</td>         <td>Adj. R-squared:</td>     <td>0.797</td> \n",
       "</tr>\n",
       "<tr>\n",
       "  <td>Dependent Variable:</td>         <td>Y</td>               <td>AIC:</td>          <td>22.0450</td>\n",
       "</tr>\n",
       "<tr>\n",
       "         <td>Date:</td>        <td>2019-10-15 12:02</td>        <td>BIC:</td>          <td>23.4611</td>\n",
       "</tr>\n",
       "<tr>\n",
       "   <td>No. Observations:</td>         <td>15</td>          <td>Log-Likelihood:</td>    <td>-9.0225</td>\n",
       "</tr>\n",
       "<tr>\n",
       "       <td>Df Model:</td>              <td>1</td>           <td>F-statistic:</td>       <td>55.99</td> \n",
       "</tr>\n",
       "<tr>\n",
       "     <td>Df Residuals:</td>           <td>13</td>        <td>Prob (F-statistic):</td> <td>4.61e-06</td>\n",
       "</tr>\n",
       "<tr>\n",
       "      <td>R-squared:</td>            <td>0.812</td>            <td>Scale:</td>         <td>0.22497</td>\n",
       "</tr>\n",
       "</table>\n",
       "<table class=\"simpletable\">\n",
       "<tr>\n",
       "      <td></td>       <th>Coef.</th>  <th>Std.Err.</th>    <th>t</th>     <th>P>|t|</th> <th>[0.025</th>  <th>0.975]</th> \n",
       "</tr>\n",
       "<tr>\n",
       "  <th>Intercept</th> <td>2.5753</td>   <td>0.2487</td>  <td>10.3538</td> <td>0.0000</td> <td>2.0380</td>  <td>3.1127</td> \n",
       "</tr>\n",
       "<tr>\n",
       "  <th>X</th>         <td>-0.3240</td>  <td>0.0433</td>  <td>-7.4829</td> <td>0.0000</td> <td>-0.4175</td> <td>-0.2305</td>\n",
       "</tr>\n",
       "</table>\n",
       "<table class=\"simpletable\">\n",
       "<tr>\n",
       "     <td>Omnibus:</td>    <td>2.990</td>  <td>Durbin-Watson:</td>   <td>0.717</td>\n",
       "</tr>\n",
       "<tr>\n",
       "  <td>Prob(Omnibus):</td> <td>0.224</td> <td>Jarque-Bera (JB):</td> <td>1.428</td>\n",
       "</tr>\n",
       "<tr>\n",
       "       <td>Skew:</td>     <td>0.412</td>     <td>Prob(JB):</td>     <td>0.490</td>\n",
       "</tr>\n",
       "<tr>\n",
       "     <td>Kurtosis:</td>   <td>1.733</td>  <td>Condition No.:</td>    <td>12</td>  \n",
       "</tr>\n",
       "</table>"
      ],
      "text/plain": [
       "<class 'statsmodels.iolib.summary2.Summary'>\n",
       "\"\"\"\n",
       "                 Results: Ordinary least squares\n",
       "=================================================================\n",
       "Model:              OLS              Adj. R-squared:     0.797   \n",
       "Dependent Variable: Y                AIC:                22.0450 \n",
       "Date:               2019-10-15 12:02 BIC:                23.4611 \n",
       "No. Observations:   15               Log-Likelihood:     -9.0225 \n",
       "Df Model:           1                F-statistic:        55.99   \n",
       "Df Residuals:       13               Prob (F-statistic): 4.61e-06\n",
       "R-squared:          0.812            Scale:              0.22497 \n",
       "------------------------------------------------------------------\n",
       "               Coef.   Std.Err.     t     P>|t|    [0.025   0.975]\n",
       "------------------------------------------------------------------\n",
       "Intercept      2.5753    0.2487  10.3538  0.0000   2.0380   3.1127\n",
       "X             -0.3240    0.0433  -7.4829  0.0000  -0.4175  -0.2305\n",
       "-----------------------------------------------------------------\n",
       "Omnibus:              2.990        Durbin-Watson:           0.717\n",
       "Prob(Omnibus):        0.224        Jarque-Bera (JB):        1.428\n",
       "Skew:                 0.412        Prob(JB):                0.490\n",
       "Kurtosis:             1.733        Condition No.:           12   \n",
       "=================================================================\n",
       "\n",
       "\"\"\""
      ]
     },
     "execution_count": 7,
     "metadata": {},
     "output_type": "execute_result"
    }
   ],
   "source": [
    "lm_soln.summary2()"
   ]
  },
  {
   "cell_type": "markdown",
   "metadata": {},
   "source": [
    "**scipy.stats.probplot:**\n",
    "https://docs.scipy.org/doc/scipy/reference/generated/scipy.stats.probplot.html\n",
    "\n",
    "*See also:*\n",
    "**qqplot:** https://www.statsmodels.org/stable/generated/statsmodels.graphics.gofplots.qqplot.html"
   ]
  },
  {
   "cell_type": "code",
   "execution_count": 28,
   "metadata": {},
   "outputs": [
    {
     "data": {
      "text/plain": [
       "Text(0.5, 1.0, 'Fitted Values vs. Residuals')"
      ]
     },
     "execution_count": 28,
     "metadata": {},
     "output_type": "execute_result"
    },
    {
     "data": {
      "image/png": "[encoded data removed]",
      "text/plain": [
       "<Figure size 432x288 with 1 Axes>"
      ]
     },
     "metadata": {
      "needs_background": "light"
     },
     "output_type": "display_data"
    }
   ],
   "source": [
    "plt.scatter(lm_soln.resid, lm_soln.fittedvalues)\n",
    "plt.xlabel(\"Residuals\")\n",
    "plt.ylabel(\"Fitted Values\")\n",
    "plt.title(\"Fitted Values vs. Residuals\")"
   ]
  },
  {
   "cell_type": "code",
   "execution_count": 29,
   "metadata": {},
   "outputs": [
    {
     "data": {
      "image/png": "[encoded data removed]",
      "text/plain": [
       "<Figure size 432x288 with 1 Axes>"
      ]
     },
     "metadata": {
      "needs_background": "light"
     },
     "output_type": "display_data"
    }
   ],
   "source": [
    "stats.probplot(lm_soln.resid, dist=\"norm\", plot=pylab)\n",
    "pylab.show()"
   ]
  },
  {
   "cell_type": "markdown",
   "metadata": {},
   "source": [
    "*Interpretation:*\n",
    "\n",
    "*Fitted vs. Residual Plot:* The residuals are not equally spread and have a clear distinct pattern. Thus, we can say that, the error term does not have constant variance.\n",
    "\n",
    "*Normal Probability Plot:* The plot seems to be non-linear, which means that the error is not in agreement with the normality. "
   ]
  },
  {
   "cell_type": "markdown",
   "metadata": {},
   "source": [
    "**(b)**"
   ]
  },
  {
   "cell_type": "code",
   "execution_count": 33,
   "metadata": {},
   "outputs": [
    {
     "data": {
      "text/plain": [
       "Text(0.5, 1.0, 'Scatter Plot')"
      ]
     },
     "execution_count": 33,
     "metadata": {},
     "output_type": "execute_result"
    },
    {
     "data": {
      "image/png": "[encoded data removed]",
      "text/plain": [
       "<Figure size 432x288 with 1 Axes>"
      ]
     },
     "metadata": {
      "needs_background": "light"
     },
     "output_type": "display_data"
    }
   ],
   "source": [
    "plt.scatter(solution_data[\"X\"], solution_data[\"Y\"])\n",
    "plt.xlabel(\"X\")\n",
    "plt.ylabel(\"Y\")\n",
    "plt.title(\"Scatter Plot\")"
   ]
  },
  {
   "cell_type": "markdown",
   "metadata": {},
   "source": [
    "*Interpretation:*\n",
    "\n",
    "Since the value of Y seems to be decreasing with the value of X and then smoothing out eventually, it seems like a logarithmic or exponential function. Thus I would like to try to transform Y to log(Y)."
   ]
  },
  {
   "cell_type": "markdown",
   "metadata": {},
   "source": [
    "**(c)**\n",
    "\n",
    "Box-Cox Transformation:\n",
    "https://docs.scipy.org/doc/scipy/reference/generated/scipy.stats.boxcox_llf.html#scipy.stats.boxcox_llf"
   ]
  },
  {
   "cell_type": "code",
   "execution_count": 46,
   "metadata": {},
   "outputs": [],
   "source": [
    "y = solution_data[\"Y\"]\n",
    "lmbdas = np.array([-.2,-.1,0, .1, .2])\n",
    "llf = np.zeros(lmbdas.shape, dtype=float)\n",
    "for ii, lmbda in enumerate(lmbdas):\n",
    "    llf[ii] = stats.boxcox_llf(lmbda, y)"
   ]
  },
  {
   "cell_type": "code",
   "execution_count": 47,
   "metadata": {},
   "outputs": [],
   "source": [
    "y_most_normal, lmbda_optimal = stats.boxcox(y)"
   ]
  },
  {
   "cell_type": "code",
   "execution_count": 51,
   "metadata": {},
   "outputs": [
    {
     "data": {
      "text/plain": [
       "Text(0, 0.5, 'Box-Cox log-likelihood')"
      ]
     },
     "execution_count": 51,
     "metadata": {},
     "output_type": "execute_result"
    },
    {
     "data": {
      "image/png": "[encoded data removed]",
      "text/plain": [
       "<Figure size 504x504 with 1 Axes>"
      ]
     },
     "metadata": {
      "needs_background": "light"
     },
     "output_type": "display_data"
    }
   ],
   "source": [
    "fig, ax = plt.subplots(1,1, figsize=(7,7))\n",
    "ax.plot(lmbdas, llf, 'b.-')\n",
    "ax.axhline(stats.boxcox_llf(lmbda_optimal, y), color='r')\n",
    "ax.set_xlabel('lmbda parameter')\n",
    "ax.set_ylabel('Box-Cox log-likelihood')"
   ]
  },
  {
   "cell_type": "markdown",
   "metadata": {},
   "source": [
    "*Interpretation:*\n",
    "\n",
    "The suggested Y transformation with Box-Cox method is: $\\lambda \\approx 0$. Thus, we'll assume the suggested $\\lambda = 0$, which implies the suggested transformation is: $Y' = log(Y)$."
   ]
  },
  {
   "cell_type": "markdown",
   "metadata": {},
   "source": [
    "**(d)**"
   ]
  },
  {
   "cell_type": "code",
   "execution_count": 52,
   "metadata": {},
   "outputs": [],
   "source": [
    "Y1 = np.log(solution_data[\"Y\"])\n",
    "solution_data[\"Y1\"] = Y1"
   ]
  },
  {
   "cell_type": "code",
   "execution_count": 54,
   "metadata": {},
   "outputs": [
    {
     "name": "stderr",
     "output_type": "stream",
     "text": [
      "C:\\Users\\A0687514\\AppData\\Local\\Continuum\\anaconda3\\lib\\site-packages\\scipy\\stats\\stats.py:1416: UserWarning: kurtosistest only valid for n>=20 ... continuing anyway, n=15\n",
      "  \"anyway, n=%i\" % int(n))\n"
     ]
    },
    {
     "data": {
      "text/html": [
       "<table class=\"simpletable\">\n",
       "<tr>\n",
       "        <td>Model:</td>               <td>OLS</td>         <td>Adj. R-squared:</td>     <td>0.992</td> \n",
       "</tr>\n",
       "<tr>\n",
       "  <td>Dependent Variable:</td>        <td>Y1</td>               <td>AIC:</td>         <td>-20.4745</td>\n",
       "</tr>\n",
       "<tr>\n",
       "         <td>Date:</td>        <td>2019-10-15 13:14</td>        <td>BIC:</td>         <td>-19.0584</td>\n",
       "</tr>\n",
       "<tr>\n",
       "   <td>No. Observations:</td>         <td>15</td>          <td>Log-Likelihood:</td>    <td>12.237</td> \n",
       "</tr>\n",
       "<tr>\n",
       "       <td>Df Model:</td>              <td>1</td>           <td>F-statistic:</td>       <td>1838.</td> \n",
       "</tr>\n",
       "<tr>\n",
       "     <td>Df Residuals:</td>           <td>13</td>        <td>Prob (F-statistic):</td> <td>2.19e-15</td>\n",
       "</tr>\n",
       "<tr>\n",
       "      <td>R-squared:</td>            <td>0.993</td>            <td>Scale:</td>        <td>0.013215</td>\n",
       "</tr>\n",
       "</table>\n",
       "<table class=\"simpletable\">\n",
       "<tr>\n",
       "      <td></td>       <th>Coef.</th>  <th>Std.Err.</th>     <th>t</th>     <th>P>|t|</th> <th>[0.025</th>  <th>0.975]</th> \n",
       "</tr>\n",
       "<tr>\n",
       "  <th>Intercept</th> <td>1.5079</td>   <td>0.0603</td>   <td>25.0137</td> <td>0.0000</td> <td>1.3777</td>  <td>1.6382</td> \n",
       "</tr>\n",
       "<tr>\n",
       "  <th>X</th>         <td>-0.4499</td>  <td>0.0105</td>  <td>-42.8745</td> <td>0.0000</td> <td>-0.4726</td> <td>-0.4273</td>\n",
       "</tr>\n",
       "</table>\n",
       "<table class=\"simpletable\">\n",
       "<tr>\n",
       "     <td>Omnibus:</td>     <td>0.502</td>  <td>Durbin-Watson:</td>   <td>1.580</td>\n",
       "</tr>\n",
       "<tr>\n",
       "  <td>Prob(Omnibus):</td>  <td>0.778</td> <td>Jarque-Bera (JB):</td> <td>0.542</td>\n",
       "</tr>\n",
       "<tr>\n",
       "       <td>Skew:</td>     <td>-0.043</td>     <td>Prob(JB):</td>     <td>0.763</td>\n",
       "</tr>\n",
       "<tr>\n",
       "     <td>Kurtosis:</td>    <td>2.073</td>  <td>Condition No.:</td>    <td>12</td>  \n",
       "</tr>\n",
       "</table>"
      ],
      "text/plain": [
       "<class 'statsmodels.iolib.summary2.Summary'>\n",
       "\"\"\"\n",
       "                 Results: Ordinary least squares\n",
       "=================================================================\n",
       "Model:              OLS              Adj. R-squared:     0.992   \n",
       "Dependent Variable: Y1               AIC:                -20.4745\n",
       "Date:               2019-10-15 13:14 BIC:                -19.0584\n",
       "No. Observations:   15               Log-Likelihood:     12.237  \n",
       "Df Model:           1                F-statistic:        1838.   \n",
       "Df Residuals:       13               Prob (F-statistic): 2.19e-15\n",
       "R-squared:          0.993            Scale:              0.013215\n",
       "------------------------------------------------------------------\n",
       "              Coef.   Std.Err.     t      P>|t|    [0.025   0.975]\n",
       "------------------------------------------------------------------\n",
       "Intercept     1.5079    0.0603   25.0137  0.0000   1.3777   1.6382\n",
       "X            -0.4499    0.0105  -42.8745  0.0000  -0.4726  -0.4273\n",
       "-----------------------------------------------------------------\n",
       "Omnibus:               0.502        Durbin-Watson:          1.580\n",
       "Prob(Omnibus):         0.778        Jarque-Bera (JB):       0.542\n",
       "Skew:                  -0.043       Prob(JB):               0.763\n",
       "Kurtosis:              2.073        Condition No.:          12   \n",
       "=================================================================\n",
       "\n",
       "\"\"\""
      ]
     },
     "execution_count": 54,
     "metadata": {},
     "output_type": "execute_result"
    }
   ],
   "source": [
    "lm_soln_t = ols(\"Y1~X\", data=solution_data).fit()\n",
    "lm_soln_t.summary2()"
   ]
  },
  {
   "cell_type": "markdown",
   "metadata": {},
   "source": [
    "The regression function with *transformed data*: $Y' = 1.50792 - 0.44993*X $"
   ]
  },
  {
   "cell_type": "code",
   "execution_count": 57,
   "metadata": {},
   "outputs": [
    {
     "data": {
      "text/plain": [
       "Text(0.5, 1.0, 'Fitted Regression Line on Transformed Data')"
      ]
     },
     "execution_count": 57,
     "metadata": {},
     "output_type": "execute_result"
    },
    {
     "data": {
      "image/png": "[encoded data removed]",
      "text/plain": [
       "<Figure size 432x288 with 1 Axes>"
      ]
     },
     "metadata": {
      "needs_background": "light"
     },
     "output_type": "display_data"
    }
   ],
   "source": [
    "plt.scatter(solution_data[\"X\"], solution_data[\"Y1\"])\n",
    "plt.xlabel(\"X\")\n",
    "plt.ylabel(\"$log(Y)$\")\n",
    "sns.regplot(solution_data[\"X\"], solution_data[\"Y1\"])\n",
    "plt.title(\"Fitted Regression Line on Transformed Data\")"
   ]
  },
  {
   "cell_type": "markdown",
   "metadata": {},
   "source": [
    "*Interpretation:*\n",
    "\n",
    "Based on the scatter plot, the regression line appears to be a good fit on transformed data. Looking at the summary, we can also see that the $R^{2} = 0.993$."
   ]
  },
  {
   "cell_type": "markdown",
   "metadata": {},
   "source": [
    "**(f)**"
   ]
  },
  {
   "cell_type": "code",
   "execution_count": 59,
   "metadata": {},
   "outputs": [
    {
     "data": {
      "text/plain": [
       "Text(0.5, 1.0, 'Fitted Values vs. Residuals')"
      ]
     },
     "execution_count": 59,
     "metadata": {},
     "output_type": "execute_result"
    },
    {
     "data": {
      "image/png": "[encoded data removed]",
      "text/plain": [
       "<Figure size 432x288 with 1 Axes>"
      ]
     },
     "metadata": {
      "needs_background": "light"
     },
     "output_type": "display_data"
    }
   ],
   "source": [
    "plt.scatter(lm_soln_t.fittedvalues, lm_soln_t.resid)\n",
    "plt.xlabel(\"Fitted Values\")\n",
    "plt.ylabel(\"Residuals\")\n",
    "plt.title(\"Fitted Values vs. Residuals\")"
   ]
  },
  {
   "cell_type": "code",
   "execution_count": 60,
   "metadata": {},
   "outputs": [
    {
     "data": {
      "image/png": "[encoded data removed]",
      "text/plain": [
       "<Figure size 432x288 with 1 Axes>"
      ]
     },
     "metadata": {
      "needs_background": "light"
     },
     "output_type": "display_data"
    }
   ],
   "source": [
    "stats.probplot(lm_soln_t.resid, dist=\"norm\", plot=pylab)\n",
    "pylab.show()"
   ]
  },
  {
   "cell_type": "markdown",
   "metadata": {},
   "source": [
    "*Interpretation:*\n",
    "\n",
    "*Fitted vs. Residual Plot:* The residuals are equally spread and don't have a pattern. Thus, we can say that, the error term has a constant variance.\n",
    "\n",
    "*Normal Probability Plot:* The plot seems to be non-linear, which means that the error is not in agreement with the normality. \n"
   ]
  },
  {
   "cell_type": "markdown",
   "metadata": {},
   "source": [
    "**(g)**\n",
    "\n",
    "The regression function with transformed data (in original units): $\\log{Y} = 1.50792 - 0.44993*X$"
   ]
  },
  {
   "cell_type": "markdown",
   "metadata": {},
   "source": [
    "**Solution 3:**"
   ]
  },
  {
   "cell_type": "markdown",
   "metadata": {},
   "source": [
    "**(a)**"
   ]
  },
  {
   "cell_type": "code",
   "execution_count": 61,
   "metadata": {},
   "outputs": [
    {
     "data": {
      "text/html": [
       "<table class=\"simpletable\">\n",
       "<tr>\n",
       "        <td>Model:</td>               <td>OLS</td>         <td>Adj. R-squared:</td>      <td>0.160</td>  \n",
       "</tr>\n",
       "<tr>\n",
       "  <td>Dependent Variable:</td>         <td>Y</td>               <td>AIC:</td>          <td>1544.8513</td>\n",
       "</tr>\n",
       "<tr>\n",
       "         <td>Date:</td>        <td>2019-10-15 13:21</td>        <td>BIC:</td>          <td>1549.7130</td>\n",
       "</tr>\n",
       "<tr>\n",
       "   <td>No. Observations:</td>         <td>84</td>          <td>Log-Likelihood:</td>     <td>-770.43</td> \n",
       "</tr>\n",
       "<tr>\n",
       "       <td>Df Model:</td>              <td>1</td>           <td>F-statistic:</td>        <td>16.83</td>  \n",
       "</tr>\n",
       "<tr>\n",
       "     <td>Df Residuals:</td>           <td>82</td>        <td>Prob (F-statistic):</td>  <td>9.57e-05</td> \n",
       "</tr>\n",
       "<tr>\n",
       "      <td>R-squared:</td>            <td>0.170</td>            <td>Scale:</td>        <td>5.5521e+06</td>\n",
       "</tr>\n",
       "</table>\n",
       "<table class=\"simpletable\">\n",
       "<tr>\n",
       "      <td></td>         <th>Coef.</th>   <th>Std.Err.</th>     <th>t</th>     <th>P>|t|</th>   <th>[0.025</th>     <th>0.975]</th>  \n",
       "</tr>\n",
       "<tr>\n",
       "  <th>Intercept</th> <td>20517.5999</td> <td>3277.6427</td> <td>6.2599</td>  <td>0.0000</td> <td>13997.3245</td> <td>27037.8754</td>\n",
       "</tr>\n",
       "<tr>\n",
       "  <th>X</th>          <td>-170.5752</td>  <td>41.5743</td>  <td>-4.1029</td> <td>0.0001</td>  <td>-253.2798</td>  <td>-87.8706</td> \n",
       "</tr>\n",
       "</table>\n",
       "<table class=\"simpletable\">\n",
       "<tr>\n",
       "     <td>Omnibus:</td>    <td>2.224</td>  <td>Durbin-Watson:</td>   <td>1.495</td>\n",
       "</tr>\n",
       "<tr>\n",
       "  <td>Prob(Omnibus):</td> <td>0.329</td> <td>Jarque-Bera (JB):</td> <td>2.229</td>\n",
       "</tr>\n",
       "<tr>\n",
       "       <td>Skew:</td>     <td>0.360</td>     <td>Prob(JB):</td>     <td>0.328</td>\n",
       "</tr>\n",
       "<tr>\n",
       "     <td>Kurtosis:</td>   <td>2.655</td>  <td>Condition No.:</td>   <td>1005</td> \n",
       "</tr>\n",
       "</table>"
      ],
      "text/plain": [
       "<class 'statsmodels.iolib.summary2.Summary'>\n",
       "\"\"\"\n",
       "                  Results: Ordinary least squares\n",
       "===================================================================\n",
       "Model:              OLS              Adj. R-squared:     0.160     \n",
       "Dependent Variable: Y                AIC:                1544.8513 \n",
       "Date:               2019-10-15 13:21 BIC:                1549.7130 \n",
       "No. Observations:   84               Log-Likelihood:     -770.43   \n",
       "Df Model:           1                F-statistic:        16.83     \n",
       "Df Residuals:       82               Prob (F-statistic): 9.57e-05  \n",
       "R-squared:          0.170            Scale:              5.5521e+06\n",
       "-------------------------------------------------------------------\n",
       "            Coef.     Std.Err.    t    P>|t|    [0.025     0.975]  \n",
       "-------------------------------------------------------------------\n",
       "Intercept 20517.5999 3277.6427  6.2599 0.0000 13997.3245 27037.8754\n",
       "X          -170.5752   41.5743 -4.1029 0.0001  -253.2798   -87.8706\n",
       "-------------------------------------------------------------------\n",
       "Omnibus:                2.224        Durbin-Watson:           1.495\n",
       "Prob(Omnibus):          0.329        Jarque-Bera (JB):        2.229\n",
       "Skew:                   0.360        Prob(JB):                0.328\n",
       "Kurtosis:               2.655        Condition No.:           1005 \n",
       "===================================================================\n",
       "* The condition number is large (1e+03). This might indicate\n",
       "strong multicollinearity or other numerical problems.\n",
       "\"\"\""
      ]
     },
     "execution_count": 61,
     "metadata": {},
     "output_type": "execute_result"
    }
   ],
   "source": [
    "crime_data = pd.read_csv(\"data/Crime Rate.csv\")\n",
    "lm_crime = ols(\"Y~X\", data=crime_data).fit()\n",
    "lm_crime.summary2()"
   ]
  },
  {
   "cell_type": "code",
   "execution_count": 62,
   "metadata": {},
   "outputs": [
    {
     "data": {
      "text/plain": [
       "Text(0.5, 1.0, 'Fitted Values vs. Residuals')"
      ]
     },
     "execution_count": 62,
     "metadata": {},
     "output_type": "execute_result"
    },
    {
     "data": {
      "image/png": "[encoded data removed]",
      "text/plain": [
       "<Figure size 432x288 with 1 Axes>"
      ]
     },
     "metadata": {
      "needs_background": "light"
     },
     "output_type": "display_data"
    }
   ],
   "source": [
    "plt.scatter(lm_crime.fittedvalues, lm_crime.resid)\n",
    "plt.xlabel(\"Fitted Values\")\n",
    "plt.ylabel(\"Residuals\")\n",
    "plt.title(\"Fitted Values vs. Residuals\")"
   ]
  },
  {
   "cell_type": "code",
   "execution_count": 64,
   "metadata": {},
   "outputs": [
    {
     "data": {
      "image/png": "[encoded data removed]",
      "text/plain": [
       "<Figure size 432x288 with 1 Axes>"
      ]
     },
     "metadata": {
      "needs_background": "light"
     },
     "output_type": "display_data"
    }
   ],
   "source": [
    "stats.probplot(lm_crime.resid, dist=\"norm\", plot=pylab)\n",
    "pylab.show()"
   ]
  },
  {
   "cell_type": "markdown",
   "metadata": {},
   "source": [
    "*Interpretation:*\n",
    "\n",
    "*Fitted vs. Residual Plot:* The residuals are not equally spread and have some pattern. Thus, we can say that, the error term does not have constant variance.\n",
    "\n",
    "*Normal Probability Plot:* The plot seems to be s-shaped with heavy tails, which means that the error is not in agreement with normality. "
   ]
  },
  {
   "cell_type": "markdown",
   "metadata": {},
   "source": [
    "**(b)**\n",
    "\n",
    "*Brown-Forsythe Test*\n",
    "\n",
    "Null Hypothesis: $H_{0}$: Error variance is constant\n",
    "\n",
    "Alternate Hypothesis: $H_{1}$: Error variance is not constant"
   ]
  },
  {
   "cell_type": "code",
   "execution_count": 65,
   "metadata": {},
   "outputs": [
    {
     "data": {
      "text/plain": [
       "count    84.000000\n",
       "mean     78.595238\n",
       "std       6.221066\n",
       "min      61.000000\n",
       "25%      76.000000\n",
       "50%      79.000000\n",
       "75%      82.250000\n",
       "max      91.000000\n",
       "Name: X, dtype: float64"
      ]
     },
     "execution_count": 65,
     "metadata": {},
     "output_type": "execute_result"
    }
   ],
   "source": [
    "crime_data[\"X\"].describe()"
   ]
  },
  {
   "cell_type": "code",
   "execution_count": 77,
   "metadata": {},
   "outputs": [
    {
     "name": "stdout",
     "output_type": "stream",
     "text": [
      "8\n",
      "76\n",
      "1751.8717099411474\n",
      "1927.083052420138\n",
      "1725198.8101052875\n",
      "1313.4682371893457\n",
      "-0.3588845719214978\n",
      "1.6578695221021444\n"
     ]
    }
   ],
   "source": [
    "ei = lm_crime.resid\n",
    "df = pd.DataFrame((crime_data[\"Y\"],crime_data[\"X\"],ei), index=[\"Y\", \"X\", \"ei\"])\n",
    "df = df.T\n",
    "df1 = df[df[\"X\"]<=69]\n",
    "df2 = df[df[\"X\"]>69]\n",
    "\n",
    "med1 = np.median(df1[\"ei\"])\n",
    "med2 = np.median(df2[\"ei\"])\n",
    "\n",
    "#n1\n",
    "n1 = df1.shape[0]\n",
    "print(n1)\n",
    "\n",
    "#n2\n",
    "n2 = df2.shape[0]\n",
    "print(n2)\n",
    "\n",
    "d1 = np.abs(df1[\"ei\"]-med1)\n",
    "d2 = np.abs(df2[\"ei\"]-med2)\n",
    "\n",
    "#calculate means for our answer \n",
    "mean_d1 = np.mean(d1)\n",
    "print(mean_d1)\n",
    "mean_d2 = np.mean(d2)\n",
    "print(mean_d2)\n",
    "\n",
    "s2 = (np.var(d1)*(n1-1)+np.var(d2)*(n2-1))/(n1+n2-2)\n",
    "print(s2)\n",
    "\n",
    "#calculate s\n",
    "s = np.sqrt(s2)\n",
    "print(s)\n",
    "\n",
    "#testStastic = (mean.d1 - mean.d2) / (s * sqrt((1/n1)+1/n2)\n",
    "testStastic = (mean_d1-mean_d2)/(s*np.sqrt((1/n1)+(1/n2)))  \n",
    "print(testStastic)\n",
    "\n",
    "t = stats.t.ppf(1-0.05, 118) \n",
    "print(t)"
   ]
  },
  {
   "cell_type": "markdown",
   "metadata": {},
   "source": [
    "Decision Rule:\n",
    "\n",
    "- If $|testStatistic| \\leq t(1-\\alpha/2,n-2)$, conclude $H_{0}$: constant error variance\n",
    "\n",
    "- If $|testStatistic| > t(1-\\alpha/2,n-2)$, conclude $H_{1}$: non-constant error variance \n",
    "\n",
    "Result:\n",
    "\n",
    "Since $|-0.359| < 1.65787$ i.e. $|testStatistic| < t(1-\\alpha/2,n-2)$, we conclude $H_{0}$. The error variance is constant and thus does not vary with X.\n",
    "\n",
    "The conclusion supports the preliminary findings in part (a).\n",
    "\n",
    "**Note:** The problem statement asks us to divide the dataset between X≤69 and X > 69, however, the mean of X is 79. As confirmed on piazza, we can use either 69 or 79 as medians."
   ]
  },
  {
   "cell_type": "markdown",
   "metadata": {},
   "source": [
    "**(c)**\n",
    "\n",
    "*Breusch-Pagan Test*\n",
    "\n",
    "Null Hypothesis: $H_{0}$: Error variance is constant\n",
    "\n",
    "Alternate Hypothesis: $H_{1}$: Error variance is not constant"
   ]
  },
  {
   "cell_type": "code",
   "execution_count": 84,
   "metadata": {},
   "outputs": [
    {
     "data": {
      "text/html": [
       "<div>\n",
       "<style scoped>\n",
       "    .dataframe tbody tr th:only-of-type {\n",
       "        vertical-align: middle;\n",
       "    }\n",
       "\n",
       "    .dataframe tbody tr th {\n",
       "        vertical-align: top;\n",
       "    }\n",
       "\n",
       "    .dataframe thead th {\n",
       "        text-align: right;\n",
       "    }\n",
       "</style>\n",
       "<table border=\"1\" class=\"dataframe\">\n",
       "  <thead>\n",
       "    <tr style=\"text-align: right;\">\n",
       "      <th></th>\n",
       "      <th>df</th>\n",
       "      <th>sum_sq</th>\n",
       "      <th>mean_sq</th>\n",
       "      <th>F</th>\n",
       "      <th>PR(&gt;F)</th>\n",
       "    </tr>\n",
       "  </thead>\n",
       "  <tbody>\n",
       "    <tr>\n",
       "      <th>X</th>\n",
       "      <td>1.0</td>\n",
       "      <td>2.964003e+11</td>\n",
       "      <td>2.964003e+11</td>\n",
       "      <td>0.005951</td>\n",
       "      <td>0.938699</td>\n",
       "    </tr>\n",
       "    <tr>\n",
       "      <th>Residual</th>\n",
       "      <td>82.0</td>\n",
       "      <td>4.084315e+15</td>\n",
       "      <td>4.980872e+13</td>\n",
       "      <td>NaN</td>\n",
       "      <td>NaN</td>\n",
       "    </tr>\n",
       "  </tbody>\n",
       "</table>\n",
       "</div>"
      ],
      "text/plain": [
       "            df        sum_sq       mean_sq         F    PR(>F)\n",
       "X          1.0  2.964003e+11  2.964003e+11  0.005951  0.938699\n",
       "Residual  82.0  4.084315e+15  4.980872e+13       NaN       NaN"
      ]
     },
     "metadata": {},
     "output_type": "display_data"
    },
    {
     "data": {
      "text/html": [
       "<div>\n",
       "<style scoped>\n",
       "    .dataframe tbody tr th:only-of-type {\n",
       "        vertical-align: middle;\n",
       "    }\n",
       "\n",
       "    .dataframe tbody tr th {\n",
       "        vertical-align: top;\n",
       "    }\n",
       "\n",
       "    .dataframe thead th {\n",
       "        text-align: right;\n",
       "    }\n",
       "</style>\n",
       "<table border=\"1\" class=\"dataframe\">\n",
       "  <thead>\n",
       "    <tr style=\"text-align: right;\">\n",
       "      <th></th>\n",
       "      <th>df</th>\n",
       "      <th>sum_sq</th>\n",
       "      <th>mean_sq</th>\n",
       "      <th>F</th>\n",
       "      <th>PR(&gt;F)</th>\n",
       "    </tr>\n",
       "  </thead>\n",
       "  <tbody>\n",
       "    <tr>\n",
       "      <th>X</th>\n",
       "      <td>1.0</td>\n",
       "      <td>9.346294e+07</td>\n",
       "      <td>9.346294e+07</td>\n",
       "      <td>16.833765</td>\n",
       "      <td>0.000096</td>\n",
       "    </tr>\n",
       "    <tr>\n",
       "      <th>Residual</th>\n",
       "      <td>82.0</td>\n",
       "      <td>4.552732e+08</td>\n",
       "      <td>5.552112e+06</td>\n",
       "      <td>NaN</td>\n",
       "      <td>NaN</td>\n",
       "    </tr>\n",
       "  </tbody>\n",
       "</table>\n",
       "</div>"
      ],
      "text/plain": [
       "            df        sum_sq       mean_sq          F    PR(>F)\n",
       "X          1.0  9.346294e+07  9.346294e+07  16.833765  0.000096\n",
       "Residual  82.0  4.552732e+08  5.552112e+06        NaN       NaN"
      ]
     },
     "metadata": {},
     "output_type": "display_data"
    }
   ],
   "source": [
    "ei2 = ei**2\n",
    "f = ols(\"ei2~X\", data=df).fit()\n",
    "f.summary2()\n",
    "\n",
    "#to find SSE(R) and SSR(R)\n",
    "display(anova_lm(f))\n",
    "\n",
    "#to find SSE(F) and SSR(F)\n",
    "display(anova_lm(lm_crime))"
   ]
  },
  {
   "cell_type": "code",
   "execution_count": 86,
   "metadata": {},
   "outputs": [
    {
     "name": "stdout",
     "output_type": "stream",
     "text": [
      "0.0050450174247412575\n",
      "3.841458820694124\n"
     ]
    }
   ],
   "source": [
    "SSR_R = 2.9640e+11 \n",
    "SSE_R = 4.0843e+15 \n",
    "\n",
    "SSR_F = 93462942\n",
    "SSE_F= 455273165\n",
    "\n",
    "n = crime_data.shape[0]\n",
    "\n",
    "#chi-squared: [SSR(R)/2] / [SSE(F)/n]^2  \n",
    "chiTest = (SSR_R/2) / ((SSE_F/n))**2\n",
    "print(chiTest)\n",
    "\n",
    "\n",
    "#p \n",
    "chi = stats.chi2.ppf(1-0.05,1)\n",
    "print(chi)\n"
   ]
  },
  {
   "cell_type": "markdown",
   "metadata": {},
   "source": [
    "Decision Rule:\n",
    "\n",
    "- If $chiTest \\leq \\chi^{2}(1-\\alpha,1)$, conclude $H_{0}$: constant error variance\n",
    "\n",
    "- If $chiTest > \\chi^{2}(1-\\alpha,1)$, conclude $H_{1}$: non-constant error variance \n",
    "\n",
    "\n",
    "Result:\n",
    "Since $0.005045017 \\leq 3.841459$ i.e. $chiTest \\leq \\chi^{2}(1-\\alpha,1)$, we conclude $H_{0}$. The error variance is constant.\n",
    "\n",
    "**This conclusion is inconsistent with the conclusions in part(a) and part(b) (using 69 as median).**"
   ]
  },
  {
   "cell_type": "markdown",
   "metadata": {},
   "source": [
    "**Solution 4:**"
   ]
  },
  {
   "cell_type": "markdown",
   "metadata": {},
   "source": [
    "**(a)**"
   ]
  },
  {
   "cell_type": "code",
   "execution_count": 88,
   "metadata": {},
   "outputs": [
    {
     "name": "stderr",
     "output_type": "stream",
     "text": [
      "C:\\Users\\A0687514\\AppData\\Local\\Continuum\\anaconda3\\lib\\site-packages\\scipy\\stats\\stats.py:1416: UserWarning: kurtosistest only valid for n>=20 ... continuing anyway, n=16\n",
      "  \"anyway, n=%i\" % int(n))\n"
     ]
    },
    {
     "data": {
      "text/html": [
       "<table class=\"simpletable\">\n",
       "<caption>OLS Regression Results</caption>\n",
       "<tr>\n",
       "  <th>Dep. Variable:</th>            <td>Y</td>        <th>  R-squared:         </th> <td>   0.973</td>\n",
       "</tr>\n",
       "<tr>\n",
       "  <th>Model:</th>                   <td>OLS</td>       <th>  Adj. R-squared:    </th> <td>   0.971</td>\n",
       "</tr>\n",
       "<tr>\n",
       "  <th>Method:</th>             <td>Least Squares</td>  <th>  F-statistic:       </th> <td>   506.5</td>\n",
       "</tr>\n",
       "<tr>\n",
       "  <th>Date:</th>             <td>Tue, 15 Oct 2019</td> <th>  Prob (F-statistic):</th> <td>2.16e-12</td>\n",
       "</tr>\n",
       "<tr>\n",
       "  <th>Time:</th>                 <td>14:06:03</td>     <th>  Log-Likelihood:    </th> <td> -40.414</td>\n",
       "</tr>\n",
       "<tr>\n",
       "  <th>No. Observations:</th>      <td>    16</td>      <th>  AIC:               </th> <td>   84.83</td>\n",
       "</tr>\n",
       "<tr>\n",
       "  <th>Df Residuals:</th>          <td>    14</td>      <th>  BIC:               </th> <td>   86.37</td>\n",
       "</tr>\n",
       "<tr>\n",
       "  <th>Df Model:</th>              <td>     1</td>      <th>                     </th>     <td> </td>   \n",
       "</tr>\n",
       "<tr>\n",
       "  <th>Covariance Type:</th>      <td>nonrobust</td>    <th>                     </th>     <td> </td>   \n",
       "</tr>\n",
       "</table>\n",
       "<table class=\"simpletable\">\n",
       "<tr>\n",
       "      <td></td>         <th>coef</th>     <th>std err</th>      <th>t</th>      <th>P>|t|</th>  <th>[0.025</th>    <th>0.975]</th>  \n",
       "</tr>\n",
       "<tr>\n",
       "  <th>Intercept</th> <td>  168.6000</td> <td>    2.657</td> <td>   63.454</td> <td> 0.000</td> <td>  162.901</td> <td>  174.299</td>\n",
       "</tr>\n",
       "<tr>\n",
       "  <th>X</th>         <td>    2.0344</td> <td>    0.090</td> <td>   22.506</td> <td> 0.000</td> <td>    1.840</td> <td>    2.228</td>\n",
       "</tr>\n",
       "</table>\n",
       "<table class=\"simpletable\">\n",
       "<tr>\n",
       "  <th>Omnibus:</th>       <td> 0.955</td> <th>  Durbin-Watson:     </th> <td>   2.466</td>\n",
       "</tr>\n",
       "<tr>\n",
       "  <th>Prob(Omnibus):</th> <td> 0.620</td> <th>  Jarque-Bera (JB):  </th> <td>   0.711</td>\n",
       "</tr>\n",
       "<tr>\n",
       "  <th>Skew:</th>          <td> 0.068</td> <th>  Prob(JB):          </th> <td>   0.701</td>\n",
       "</tr>\n",
       "<tr>\n",
       "  <th>Kurtosis:</th>      <td> 1.976</td> <th>  Cond. No.          </th> <td>    96.7</td>\n",
       "</tr>\n",
       "</table><br/><br/>Warnings:<br/>[1] Standard Errors assume that the covariance matrix of the errors is correctly specified."
      ],
      "text/plain": [
       "<class 'statsmodels.iolib.summary.Summary'>\n",
       "\"\"\"\n",
       "                            OLS Regression Results                            \n",
       "==============================================================================\n",
       "Dep. Variable:                      Y   R-squared:                       0.973\n",
       "Model:                            OLS   Adj. R-squared:                  0.971\n",
       "Method:                 Least Squares   F-statistic:                     506.5\n",
       "Date:                Tue, 15 Oct 2019   Prob (F-statistic):           2.16e-12\n",
       "Time:                        14:06:03   Log-Likelihood:                -40.414\n",
       "No. Observations:                  16   AIC:                             84.83\n",
       "Df Residuals:                      14   BIC:                             86.37\n",
       "Df Model:                           1                                         \n",
       "Covariance Type:            nonrobust                                         \n",
       "==============================================================================\n",
       "                 coef    std err          t      P>|t|      [0.025      0.975]\n",
       "------------------------------------------------------------------------------\n",
       "Intercept    168.6000      2.657     63.454      0.000     162.901     174.299\n",
       "X              2.0344      0.090     22.506      0.000       1.840       2.228\n",
       "==============================================================================\n",
       "Omnibus:                        0.955   Durbin-Watson:                   2.466\n",
       "Prob(Omnibus):                  0.620   Jarque-Bera (JB):                0.711\n",
       "Skew:                           0.068   Prob(JB):                        0.701\n",
       "Kurtosis:                       1.976   Cond. No.                         96.7\n",
       "==============================================================================\n",
       "\n",
       "Warnings:\n",
       "[1] Standard Errors assume that the covariance matrix of the errors is correctly specified.\n",
       "\"\"\""
      ]
     },
     "execution_count": 88,
     "metadata": {},
     "output_type": "execute_result"
    }
   ],
   "source": [
    "plastic_data = pd.read_csv(\"data/Plastic Hardness.csv\")\n",
    "lm_plastic = ols(\"Y~X\", data=plastic_data).fit()\n",
    "lm_plastic.summary()"
   ]
  },
  {
   "cell_type": "markdown",
   "metadata": {},
   "source": [
    "Regression Function: $Y = 168.6+2.03438*X$"
   ]
  },
  {
   "cell_type": "code",
   "execution_count": 89,
   "metadata": {},
   "outputs": [
    {
     "data": {
      "text/plain": [
       "Text(0.5, 1.0, 'Fitted Values vs. Residuals')"
      ]
     },
     "execution_count": 89,
     "metadata": {},
     "output_type": "execute_result"
    },
    {
     "data": {
      "image/png": "[encoded data removed]",
      "text/plain": [
       "<Figure size 432x288 with 1 Axes>"
      ]
     },
     "metadata": {
      "needs_background": "light"
     },
     "output_type": "display_data"
    }
   ],
   "source": [
    "plt.scatter(lm_plastic.fittedvalues, lm_plastic.resid)\n",
    "plt.xlabel(\"Fitted Values\")\n",
    "plt.ylabel(\"Residuals\")\n",
    "plt.title(\"Fitted Values vs. Residuals\")"
   ]
  },
  {
   "cell_type": "code",
   "execution_count": 90,
   "metadata": {},
   "outputs": [
    {
     "data": {
      "image/png": "[encoded data removed]",
      "text/plain": [
       "<Figure size 432x288 with 1 Axes>"
      ]
     },
     "metadata": {
      "needs_background": "light"
     },
     "output_type": "display_data"
    }
   ],
   "source": [
    "stats.probplot(lm_plastic.resid, dist=\"norm\", plot=pylab)\n",
    "pylab.show()"
   ]
  },
  {
   "cell_type": "markdown",
   "metadata": {},
   "source": [
    "*Interpretation:*\n",
    "\n",
    "*Fitted vs. Residual Plot:* The residuals are equally spread and don't have a pattern. Thus, we can say that, the error term has a constant variance.\n",
    "\n",
    "*Normal Probability Plot:* The plot seems to be non-linear, which means that the error is not in agreement with the normality.\n"
   ]
  },
  {
   "cell_type": "markdown",
   "metadata": {},
   "source": [
    "**(b)**"
   ]
  },
  {
   "cell_type": "code",
   "execution_count": 92,
   "metadata": {},
   "outputs": [
    {
     "data": {
      "text/html": [
       "<div>\n",
       "<style scoped>\n",
       "    .dataframe tbody tr th:only-of-type {\n",
       "        vertical-align: middle;\n",
       "    }\n",
       "\n",
       "    .dataframe tbody tr th {\n",
       "        vertical-align: top;\n",
       "    }\n",
       "\n",
       "    .dataframe thead th {\n",
       "        text-align: right;\n",
       "    }\n",
       "</style>\n",
       "<table border=\"1\" class=\"dataframe\">\n",
       "  <thead>\n",
       "    <tr style=\"text-align: right;\">\n",
       "      <th></th>\n",
       "      <th>0</th>\n",
       "      <th>1</th>\n",
       "    </tr>\n",
       "  </thead>\n",
       "  <tbody>\n",
       "    <tr>\n",
       "      <th>Intercept</th>\n",
       "      <td>162.90125</td>\n",
       "      <td>174.29875</td>\n",
       "    </tr>\n",
       "    <tr>\n",
       "      <th>X</th>\n",
       "      <td>1.84050</td>\n",
       "      <td>2.22825</td>\n",
       "    </tr>\n",
       "  </tbody>\n",
       "</table>\n",
       "</div>"
      ],
      "text/plain": [
       "                   0          1\n",
       "Intercept  162.90125  174.29875\n",
       "X            1.84050    2.22825"
      ]
     },
     "execution_count": 92,
     "metadata": {},
     "output_type": "execute_result"
    }
   ],
   "source": [
    "lm_plastic.conf_int()"
   ]
  },
  {
   "cell_type": "markdown",
   "metadata": {},
   "source": [
    "*Interpretation:*\n",
    "\n",
    "We can say with 90% family confidence coefficient that both of the above intervals for $\\beta_{0}$ and $\\beta_{1}$ are correct based on the given sample."
   ]
  },
  {
   "cell_type": "markdown",
   "metadata": {},
   "source": [
    "**(c)**"
   ]
  },
  {
   "cell_type": "code",
   "execution_count": 93,
   "metadata": {},
   "outputs": [
    {
     "data": {
      "text/plain": [
       "28.0"
      ]
     },
     "execution_count": 93,
     "metadata": {},
     "output_type": "execute_result"
    }
   ],
   "source": [
    "np.mean(plastic_data[\"X\"])"
   ]
  },
  {
   "cell_type": "markdown",
   "metadata": {},
   "source": [
    "Thus, $\\bar{X} > 0$ which means that $\\beta_{0}$ and $\\beta_{1}$ are negatively correlated. This is to balance the effect of one coefficient, on the response, with the other coefficient. So, for example, if $\\beta_{1}$ is too high, $\\beta_{0}$ is likely to be too low to balance out the effect of $\\beta_{1}$ on Y.\n",
    "\n",
    "The joint confidence intervals in part (b) do support this view."
   ]
  },
  {
   "cell_type": "markdown",
   "metadata": {},
   "source": [
    "**(d)**"
   ]
  },
  {
   "cell_type": "code",
   "execution_count": 161,
   "metadata": {
    "scrolled": true
   },
   "outputs": [
    {
     "data": {
      "text/html": [
       "<div>\n",
       "<style scoped>\n",
       "    .dataframe tbody tr th:only-of-type {\n",
       "        vertical-align: middle;\n",
       "    }\n",
       "\n",
       "    .dataframe tbody tr th {\n",
       "        vertical-align: top;\n",
       "    }\n",
       "\n",
       "    .dataframe thead th {\n",
       "        text-align: right;\n",
       "    }\n",
       "</style>\n",
       "<table border=\"1\" class=\"dataframe\">\n",
       "  <thead>\n",
       "    <tr style=\"text-align: right;\">\n",
       "      <th></th>\n",
       "      <th>mean</th>\n",
       "      <th>mean_se</th>\n",
       "      <th>mean_ci_lower</th>\n",
       "      <th>mean_ci_upper</th>\n",
       "      <th>obs_ci_lower</th>\n",
       "      <th>obs_ci_upper</th>\n",
       "      <th>Xh</th>\n",
       "    </tr>\n",
       "  </thead>\n",
       "  <tbody>\n",
       "    <tr>\n",
       "      <th>0</th>\n",
       "      <td>209.28750</td>\n",
       "      <td>1.084726</td>\n",
       "      <td>206.727743</td>\n",
       "      <td>211.847257</td>\n",
       "      <td>201.237933</td>\n",
       "      <td>217.337067</td>\n",
       "      <td>20</td>\n",
       "    </tr>\n",
       "    <tr>\n",
       "      <th>1</th>\n",
       "      <td>229.63125</td>\n",
       "      <td>0.828473</td>\n",
       "      <td>227.676203</td>\n",
       "      <td>231.586297</td>\n",
       "      <td>221.753092</td>\n",
       "      <td>237.509408</td>\n",
       "      <td>30</td>\n",
       "    </tr>\n",
       "    <tr>\n",
       "      <th>2</th>\n",
       "      <td>249.97500</td>\n",
       "      <td>1.352890</td>\n",
       "      <td>246.782422</td>\n",
       "      <td>253.167578</td>\n",
       "      <td>241.702411</td>\n",
       "      <td>258.247589</td>\n",
       "      <td>40</td>\n",
       "    </tr>\n",
       "  </tbody>\n",
       "</table>\n",
       "</div>"
      ],
      "text/plain": [
       "        mean   mean_se  mean_ci_lower  mean_ci_upper  obs_ci_lower  \\\n",
       "0  209.28750  1.084726     206.727743     211.847257    201.237933   \n",
       "1  229.63125  0.828473     227.676203     231.586297    221.753092   \n",
       "2  249.97500  1.352890     246.782422     253.167578    241.702411   \n",
       "\n",
       "   obs_ci_upper  Xh  \n",
       "0    217.337067  20  \n",
       "1    237.509408  30  \n",
       "2    258.247589  40  "
      ]
     },
     "execution_count": 161,
     "metadata": {},
     "output_type": "execute_result"
    }
   ],
   "source": [
    "Xh = pd.DataFrame([20,30,40], columns=[\"X\"])\n",
    "alpha = 0.1\n",
    "g = Xh.shape[0]\n",
    "\n",
    "pred = lm_plastic.get_prediction(Xh)\n",
    "pred_df = pred.summary_frame(alpha=alpha/g) # shortcut for Bonferroni\n",
    "pred_df[\"Xh\"] = Xh\n",
    "pred_df"
   ]
  },
  {
   "cell_type": "code",
   "execution_count": 162,
   "metadata": {},
   "outputs": [
    {
     "data": {
      "text/html": [
       "<div>\n",
       "<style scoped>\n",
       "    .dataframe tbody tr th:only-of-type {\n",
       "        vertical-align: middle;\n",
       "    }\n",
       "\n",
       "    .dataframe tbody tr th {\n",
       "        vertical-align: top;\n",
       "    }\n",
       "\n",
       "    .dataframe thead th {\n",
       "        text-align: right;\n",
       "    }\n",
       "</style>\n",
       "<table border=\"1\" class=\"dataframe\">\n",
       "  <thead>\n",
       "    <tr style=\"text-align: right;\">\n",
       "      <th></th>\n",
       "      <th>Xh</th>\n",
       "      <th>fit</th>\n",
       "      <th>lower_B</th>\n",
       "      <th>upper_B</th>\n",
       "    </tr>\n",
       "  </thead>\n",
       "  <tbody>\n",
       "    <tr>\n",
       "      <th>0</th>\n",
       "      <td>20</td>\n",
       "      <td>209.28750</td>\n",
       "      <td>206.727743</td>\n",
       "      <td>211.847257</td>\n",
       "    </tr>\n",
       "    <tr>\n",
       "      <th>1</th>\n",
       "      <td>30</td>\n",
       "      <td>229.63125</td>\n",
       "      <td>227.676203</td>\n",
       "      <td>231.586297</td>\n",
       "    </tr>\n",
       "    <tr>\n",
       "      <th>2</th>\n",
       "      <td>40</td>\n",
       "      <td>249.97500</td>\n",
       "      <td>246.782422</td>\n",
       "      <td>253.167578</td>\n",
       "    </tr>\n",
       "  </tbody>\n",
       "</table>\n",
       "</div>"
      ],
      "text/plain": [
       "   Xh        fit     lower_B     upper_B\n",
       "0  20  209.28750  206.727743  211.847257\n",
       "1  30  229.63125  227.676203  231.586297\n",
       "2  40  249.97500  246.782422  253.167578"
      ]
     },
     "execution_count": 162,
     "metadata": {},
     "output_type": "execute_result"
    }
   ],
   "source": [
    "B = stats.t.ppf(1-alpha/(2*g), lm_plastic.df_resid)\n",
    "\n",
    "pred_dict = dict()\n",
    "\n",
    "pred_dict[\"Xh\"] = np.array(Xh).reshape(3,)\n",
    "pred_dict[\"fit\"] = np.array(pred_df[\"mean\"])\n",
    "pred_dict[\"lower_B\"] = np.array(pred_df[\"mean\"]-B*pred_df[\"mean_se\"])\n",
    "pred_dict[\"upper_B\"] = np.array(pred_df[\"mean\"]+B*pred_df[\"mean_se\"])\n",
    "\n",
    "pd.DataFrame(pred_dict)"
   ]
  },
  {
   "cell_type": "markdown",
   "metadata": {},
   "source": [
    "*Interpretation:*\n",
    "\n",
    "Family confidence coefficient means that the obtained confidence intervals, for several mean responses, are simultaneously accurate with a confidence coefficient of $1-\\alpha$."
   ]
  },
  {
   "cell_type": "markdown",
   "metadata": {},
   "source": [
    "**(e)**"
   ]
  },
  {
   "cell_type": "code",
   "execution_count": 163,
   "metadata": {},
   "outputs": [
    {
     "data": {
      "text/html": [
       "<div>\n",
       "<style scoped>\n",
       "    .dataframe tbody tr th:only-of-type {\n",
       "        vertical-align: middle;\n",
       "    }\n",
       "\n",
       "    .dataframe tbody tr th {\n",
       "        vertical-align: top;\n",
       "    }\n",
       "\n",
       "    .dataframe thead th {\n",
       "        text-align: right;\n",
       "    }\n",
       "</style>\n",
       "<table border=\"1\" class=\"dataframe\">\n",
       "  <thead>\n",
       "    <tr style=\"text-align: right;\">\n",
       "      <th></th>\n",
       "      <th>mean</th>\n",
       "      <th>mean_se</th>\n",
       "      <th>mean_ci_lower</th>\n",
       "      <th>mean_ci_upper</th>\n",
       "      <th>obs_ci_lower</th>\n",
       "      <th>obs_ci_upper</th>\n",
       "      <th>Xh</th>\n",
       "    </tr>\n",
       "  </thead>\n",
       "  <tbody>\n",
       "    <tr>\n",
       "      <th>0</th>\n",
       "      <td>229.63125</td>\n",
       "      <td>0.828473</td>\n",
       "      <td>227.854353</td>\n",
       "      <td>231.408147</td>\n",
       "      <td>222.470972</td>\n",
       "      <td>236.791528</td>\n",
       "      <td>30</td>\n",
       "    </tr>\n",
       "    <tr>\n",
       "      <th>1</th>\n",
       "      <td>249.97500</td>\n",
       "      <td>1.352890</td>\n",
       "      <td>247.073339</td>\n",
       "      <td>252.876661</td>\n",
       "      <td>242.456233</td>\n",
       "      <td>257.493767</td>\n",
       "      <td>40</td>\n",
       "    </tr>\n",
       "  </tbody>\n",
       "</table>\n",
       "</div>"
      ],
      "text/plain": [
       "        mean   mean_se  mean_ci_lower  mean_ci_upper  obs_ci_lower  \\\n",
       "0  229.63125  0.828473     227.854353     231.408147    222.470972   \n",
       "1  249.97500  1.352890     247.073339     252.876661    242.456233   \n",
       "\n",
       "   obs_ci_upper  Xh  \n",
       "0    236.791528  30  \n",
       "1    257.493767  40  "
      ]
     },
     "execution_count": 163,
     "metadata": {},
     "output_type": "execute_result"
    }
   ],
   "source": [
    "Xh = pd.DataFrame([30,40], columns=[\"X\"])\n",
    "alpha = 0.1\n",
    "g = Xh.shape[0]\n",
    "\n",
    "pred = lm_plastic.get_prediction(Xh)\n",
    "pred_df = pred.summary_frame(alpha=alpha/g)\n",
    "pred_df[\"Xh\"] = Xh\n",
    "pred_df"
   ]
  },
  {
   "cell_type": "code",
   "execution_count": 164,
   "metadata": {},
   "outputs": [
    {
     "name": "stdout",
     "output_type": "stream",
     "text": [
      "2.1447866879169273\n",
      "2.335152440682177\n"
     ]
    }
   ],
   "source": [
    "B = stats.t.ppf(1-alpha/(2*g), lm_plastic.df_resid)\n",
    "S = np.sqrt( g * stats.f.ppf( 1 -alpha, g, lm_plastic.df_resid))\n",
    "spred = np.sqrt(lm_plastic.mse_resid + pred_df[\"mean_se\"]**2 ) # (2.38)\n",
    "\n",
    "print(B)\n",
    "print(S)"
   ]
  },
  {
   "cell_type": "markdown",
   "metadata": {},
   "source": [
    "*Interpretation:*\n",
    "\n",
    "Thus, we can see that the most efficient procedure is the Bonferroni using t-distribution (compared to Scheffe using F-distribution) as it will yeild tighter linits (since $B<S$)."
   ]
  },
  {
   "cell_type": "code",
   "execution_count": 165,
   "metadata": {},
   "outputs": [
    {
     "data": {
      "text/html": [
       "<div>\n",
       "<style scoped>\n",
       "    .dataframe tbody tr th:only-of-type {\n",
       "        vertical-align: middle;\n",
       "    }\n",
       "\n",
       "    .dataframe tbody tr th {\n",
       "        vertical-align: top;\n",
       "    }\n",
       "\n",
       "    .dataframe thead th {\n",
       "        text-align: right;\n",
       "    }\n",
       "</style>\n",
       "<table border=\"1\" class=\"dataframe\">\n",
       "  <thead>\n",
       "    <tr style=\"text-align: right;\">\n",
       "      <th></th>\n",
       "      <th>Xh</th>\n",
       "      <th>spred</th>\n",
       "      <th>fit</th>\n",
       "      <th>lower_B</th>\n",
       "      <th>upper_B</th>\n",
       "    </tr>\n",
       "  </thead>\n",
       "  <tbody>\n",
       "    <tr>\n",
       "      <th>0</th>\n",
       "      <td>30</td>\n",
       "      <td>3.338457</td>\n",
       "      <td>229.63125</td>\n",
       "      <td>222.470972</td>\n",
       "      <td>236.791528</td>\n",
       "    </tr>\n",
       "    <tr>\n",
       "      <th>1</th>\n",
       "      <td>40</td>\n",
       "      <td>3.505601</td>\n",
       "      <td>249.97500</td>\n",
       "      <td>242.456233</td>\n",
       "      <td>257.493767</td>\n",
       "    </tr>\n",
       "  </tbody>\n",
       "</table>\n",
       "</div>"
      ],
      "text/plain": [
       "   Xh     spred        fit     lower_B     upper_B\n",
       "0  30  3.338457  229.63125  222.470972  236.791528\n",
       "1  40  3.505601  249.97500  242.456233  257.493767"
      ]
     },
     "execution_count": 165,
     "metadata": {},
     "output_type": "execute_result"
    }
   ],
   "source": [
    "pred_dict = dict()\n",
    "\n",
    "pred_dict[\"Xh\"] = np.array(Xh).reshape(2,)\n",
    "pred_dict[\"spred\"] = spred\n",
    "pred_dict[\"fit\"] = np.array(pred_df[\"mean\"])\n",
    "pred_dict[\"lower_B\"] = np.array(pred_df[\"mean\"]-B*spred)\n",
    "pred_dict[\"upper_B\"] = np.array(pred_df[\"mean\"]+B*spred)\n",
    "\n",
    "pd.DataFrame(pred_dict)"
   ]
  },
  {
   "cell_type": "markdown",
   "metadata": {},
   "source": [
    "**Solution 5:**"
   ]
  },
  {
   "cell_type": "code",
   "execution_count": 166,
   "metadata": {},
   "outputs": [],
   "source": [
    "mapper = {\"Number of active physicians\": \"physicians\", \n",
    "         \"Total population\": \"population\"}\n",
    "cdi_data = pd.read_csv(\"data/CDI.csv\").rename(columns=mapper)"
   ]
  },
  {
   "cell_type": "code",
   "execution_count": 167,
   "metadata": {},
   "outputs": [
    {
     "data": {
      "text/html": [
       "<table class=\"simpletable\">\n",
       "<tr>\n",
       "        <td>Model:</td>               <td>OLS</td>         <td>Adj. R-squared:</td>      <td>0.884</td>  \n",
       "</tr>\n",
       "<tr>\n",
       "  <td>Dependent Variable:</td>    <td>physicians</td>           <td>AIC:</td>          <td>6894.6276</td>\n",
       "</tr>\n",
       "<tr>\n",
       "         <td>Date:</td>        <td>2019-10-15 15:30</td>        <td>BIC:</td>          <td>6902.8012</td>\n",
       "</tr>\n",
       "<tr>\n",
       "   <td>No. Observations:</td>         <td>440</td>         <td>Log-Likelihood:</td>     <td>-3445.3</td> \n",
       "</tr>\n",
       "<tr>\n",
       "       <td>Df Model:</td>              <td>1</td>           <td>F-statistic:</td>        <td>3340.</td>  \n",
       "</tr>\n",
       "<tr>\n",
       "     <td>Df Residuals:</td>           <td>438</td>       <td>Prob (F-statistic):</td>  <td>4.66e-207</td>\n",
       "</tr>\n",
       "<tr>\n",
       "      <td>R-squared:</td>            <td>0.884</td>            <td>Scale:</td>        <td>3.7220e+05</td>\n",
       "</tr>\n",
       "</table>\n",
       "<table class=\"simpletable\">\n",
       "<tr>\n",
       "       <td></td>        <th>Coef.</th>   <th>Std.Err.</th>    <th>t</th>     <th>P>|t|</th>  <th>[0.025</th>    <th>0.975]</th> \n",
       "</tr>\n",
       "<tr>\n",
       "  <th>Intercept</th>  <td>-110.6348</td>  <td>34.7460</td> <td>-3.1841</td> <td>0.0016</td> <td>-178.9244</td> <td>-42.3451</td>\n",
       "</tr>\n",
       "<tr>\n",
       "  <th>population</th>  <td>0.0028</td>    <td>0.0000</td>  <td>57.7932</td> <td>0.0000</td>  <td>0.0027</td>    <td>0.0029</td> \n",
       "</tr>\n",
       "</table>\n",
       "<table class=\"simpletable\">\n",
       "<tr>\n",
       "     <td>Omnibus:</td>    <td>265.471</td>  <td>Durbin-Watson:</td>     <td>1.986</td> \n",
       "</tr>\n",
       "<tr>\n",
       "  <td>Prob(Omnibus):</td>  <td>0.000</td>  <td>Jarque-Bera (JB):</td> <td>2775.183</td>\n",
       "</tr>\n",
       "<tr>\n",
       "       <td>Skew:</td>      <td>2.437</td>      <td>Prob(JB):</td>       <td>0.000</td> \n",
       "</tr>\n",
       "<tr>\n",
       "     <td>Kurtosis:</td>   <td>14.297</td>   <td>Condition No.:</td>    <td>858174</td> \n",
       "</tr>\n",
       "</table>"
      ],
      "text/plain": [
       "<class 'statsmodels.iolib.summary2.Summary'>\n",
       "\"\"\"\n",
       "                  Results: Ordinary least squares\n",
       "===================================================================\n",
       "Model:              OLS              Adj. R-squared:     0.884     \n",
       "Dependent Variable: physicians       AIC:                6894.6276 \n",
       "Date:               2019-10-15 15:30 BIC:                6902.8012 \n",
       "No. Observations:   440              Log-Likelihood:     -3445.3   \n",
       "Df Model:           1                F-statistic:        3340.     \n",
       "Df Residuals:       438              Prob (F-statistic): 4.66e-207 \n",
       "R-squared:          0.884            Scale:              3.7220e+05\n",
       "-------------------------------------------------------------------\n",
       "                 Coef.   Std.Err.    t    P>|t|    [0.025   0.975] \n",
       "-------------------------------------------------------------------\n",
       "Intercept      -110.6348  34.7460 -3.1841 0.0016 -178.9244 -42.3451\n",
       "population        0.0028   0.0000 57.7932 0.0000    0.0027   0.0029\n",
       "-------------------------------------------------------------------\n",
       "Omnibus:             265.471       Durbin-Watson:          1.986   \n",
       "Prob(Omnibus):       0.000         Jarque-Bera (JB):       2775.183\n",
       "Skew:                2.437         Prob(JB):               0.000   \n",
       "Kurtosis:            14.297        Condition No.:          858174  \n",
       "===================================================================\n",
       "* The condition number is large (9e+05). This might indicate\n",
       "strong multicollinearity or other numerical problems.\n",
       "\"\"\""
      ]
     },
     "execution_count": 167,
     "metadata": {},
     "output_type": "execute_result"
    }
   ],
   "source": [
    "lm_cdi = ols(\"physicians~population\", data=cdi_data).fit()\n",
    "lm_cdi.summary2()"
   ]
  },
  {
   "cell_type": "markdown",
   "metadata": {},
   "source": [
    "**(a)**"
   ]
  },
  {
   "cell_type": "code",
   "execution_count": 168,
   "metadata": {},
   "outputs": [
    {
     "data": {
      "text/html": [
       "<div>\n",
       "<style scoped>\n",
       "    .dataframe tbody tr th:only-of-type {\n",
       "        vertical-align: middle;\n",
       "    }\n",
       "\n",
       "    .dataframe tbody tr th {\n",
       "        vertical-align: top;\n",
       "    }\n",
       "\n",
       "    .dataframe thead th {\n",
       "        text-align: right;\n",
       "    }\n",
       "</style>\n",
       "<table border=\"1\" class=\"dataframe\">\n",
       "  <thead>\n",
       "    <tr style=\"text-align: right;\">\n",
       "      <th></th>\n",
       "      <th>0</th>\n",
       "      <th>1</th>\n",
       "    </tr>\n",
       "  </thead>\n",
       "  <tbody>\n",
       "    <tr>\n",
       "      <th>Intercept</th>\n",
       "      <td>-188.783269</td>\n",
       "      <td>-32.486285</td>\n",
       "    </tr>\n",
       "    <tr>\n",
       "      <th>population</th>\n",
       "      <td>0.002687</td>\n",
       "      <td>0.002904</td>\n",
       "    </tr>\n",
       "  </tbody>\n",
       "</table>\n",
       "</div>"
      ],
      "text/plain": [
       "                     0          1\n",
       "Intercept  -188.783269 -32.486285\n",
       "population    0.002687   0.002904"
      ]
     },
     "execution_count": 168,
     "metadata": {},
     "output_type": "execute_result"
    }
   ],
   "source": [
    "lm_cdi.conf_int(alpha=0.05/2)"
   ]
  },
  {
   "cell_type": "markdown",
   "metadata": {},
   "source": [
    "**(b)**\n",
    "\n",
    "Both the values suggested by the investigator, $\\beta_{1}=-100$ and $\\beta_{0}=0.0028$, fall within the 95% joint confidence intervals obtained in part(a). Thus, the results in part(a) support the view of the investigator."
   ]
  },
  {
   "cell_type": "markdown",
   "metadata": {},
   "source": [
    "**(c)**"
   ]
  },
  {
   "cell_type": "code",
   "execution_count": 173,
   "metadata": {},
   "outputs": [
    {
     "data": {
      "text/html": [
       "<div>\n",
       "<style scoped>\n",
       "    .dataframe tbody tr th:only-of-type {\n",
       "        vertical-align: middle;\n",
       "    }\n",
       "\n",
       "    .dataframe tbody tr th {\n",
       "        vertical-align: top;\n",
       "    }\n",
       "\n",
       "    .dataframe thead th {\n",
       "        text-align: right;\n",
       "    }\n",
       "</style>\n",
       "<table border=\"1\" class=\"dataframe\">\n",
       "  <thead>\n",
       "    <tr style=\"text-align: right;\">\n",
       "      <th></th>\n",
       "      <th>mean</th>\n",
       "      <th>mean_se</th>\n",
       "      <th>mean_ci_lower</th>\n",
       "      <th>mean_ci_upper</th>\n",
       "      <th>obs_ci_lower</th>\n",
       "      <th>obs_ci_upper</th>\n",
       "      <th>Xh</th>\n",
       "    </tr>\n",
       "  </thead>\n",
       "  <tbody>\n",
       "    <tr>\n",
       "      <th>0</th>\n",
       "      <td>-109.237065</td>\n",
       "      <td>34.732797</td>\n",
       "      <td>-183.383982</td>\n",
       "      <td>-35.090148</td>\n",
       "      <td>-1413.743543</td>\n",
       "      <td>1195.269414</td>\n",
       "      <td>500</td>\n",
       "    </tr>\n",
       "    <tr>\n",
       "      <th>1</th>\n",
       "      <td>-107.839352</td>\n",
       "      <td>34.719583</td>\n",
       "      <td>-181.958061</td>\n",
       "      <td>-33.720644</td>\n",
       "      <td>-1412.344228</td>\n",
       "      <td>1196.665523</td>\n",
       "      <td>1000</td>\n",
       "    </tr>\n",
       "    <tr>\n",
       "      <th>2</th>\n",
       "      <td>-96.657653</td>\n",
       "      <td>34.614299</td>\n",
       "      <td>-170.551603</td>\n",
       "      <td>-22.763703</td>\n",
       "      <td>-1401.149777</td>\n",
       "      <td>1207.834472</td>\n",
       "      <td>5000</td>\n",
       "    </tr>\n",
       "  </tbody>\n",
       "</table>\n",
       "</div>"
      ],
      "text/plain": [
       "         mean    mean_se  mean_ci_lower  mean_ci_upper  obs_ci_lower  \\\n",
       "0 -109.237065  34.732797    -183.383982     -35.090148  -1413.743543   \n",
       "1 -107.839352  34.719583    -181.958061     -33.720644  -1412.344228   \n",
       "2  -96.657653  34.614299    -170.551603     -22.763703  -1401.149777   \n",
       "\n",
       "   obs_ci_upper    Xh  \n",
       "0   1195.269414   500  \n",
       "1   1196.665523  1000  \n",
       "2   1207.834472  5000  "
      ]
     },
     "execution_count": 173,
     "metadata": {},
     "output_type": "execute_result"
    }
   ],
   "source": [
    "Xh = pd.DataFrame([500,1000,5000], columns=[\"population\"])\n",
    "alpha = 0.1\n",
    "g = Xh.shape[0]\n",
    "\n",
    "pred = lm_cdi.get_prediction(Xh)\n",
    "pred_df = pred.summary_frame(alpha=alpha/g) # shortcut for Bonferroni\n",
    "pred_df[\"Xh\"] = Xh\n",
    "pred_df"
   ]
  },
  {
   "cell_type": "code",
   "execution_count": 177,
   "metadata": {},
   "outputs": [
    {
     "name": "stdout",
     "output_type": "stream",
     "text": [
      "2.1347810670190075\n",
      "2.151619119897204\n"
     ]
    }
   ],
   "source": [
    "B = stats.t.ppf(1-alpha/(2*g), lm_cdi.df_resid)\n",
    "W = np.sqrt(2*stats.f.ppf(1-alpha, 2, lm_cdi.df_resid))\n",
    "\n",
    "print(B)\n",
    "print(W)\n"
   ]
  },
  {
   "cell_type": "markdown",
   "metadata": {},
   "source": [
    "*Interpretation:*\n",
    "\n",
    "Thus, we can see that the most efficient procedure is the Bonferroni using t-distribution (compared to Working-Hotelling using F-distribution) as it will yeild tighter limits (since $B<W$)."
   ]
  },
  {
   "cell_type": "code",
   "execution_count": 178,
   "metadata": {},
   "outputs": [
    {
     "data": {
      "text/html": [
       "<div>\n",
       "<style scoped>\n",
       "    .dataframe tbody tr th:only-of-type {\n",
       "        vertical-align: middle;\n",
       "    }\n",
       "\n",
       "    .dataframe tbody tr th {\n",
       "        vertical-align: top;\n",
       "    }\n",
       "\n",
       "    .dataframe thead th {\n",
       "        text-align: right;\n",
       "    }\n",
       "</style>\n",
       "<table border=\"1\" class=\"dataframe\">\n",
       "  <thead>\n",
       "    <tr style=\"text-align: right;\">\n",
       "      <th></th>\n",
       "      <th>Xh</th>\n",
       "      <th>fit</th>\n",
       "      <th>lower_B</th>\n",
       "      <th>upper_B</th>\n",
       "    </tr>\n",
       "  </thead>\n",
       "  <tbody>\n",
       "    <tr>\n",
       "      <th>0</th>\n",
       "      <td>500</td>\n",
       "      <td>-109.237065</td>\n",
       "      <td>-183.383982</td>\n",
       "      <td>-35.090148</td>\n",
       "    </tr>\n",
       "    <tr>\n",
       "      <th>1</th>\n",
       "      <td>1000</td>\n",
       "      <td>-107.839352</td>\n",
       "      <td>-181.958061</td>\n",
       "      <td>-33.720644</td>\n",
       "    </tr>\n",
       "    <tr>\n",
       "      <th>2</th>\n",
       "      <td>5000</td>\n",
       "      <td>-96.657653</td>\n",
       "      <td>-170.551603</td>\n",
       "      <td>-22.763703</td>\n",
       "    </tr>\n",
       "  </tbody>\n",
       "</table>\n",
       "</div>"
      ],
      "text/plain": [
       "     Xh         fit     lower_B    upper_B\n",
       "0   500 -109.237065 -183.383982 -35.090148\n",
       "1  1000 -107.839352 -181.958061 -33.720644\n",
       "2  5000  -96.657653 -170.551603 -22.763703"
      ]
     },
     "execution_count": 178,
     "metadata": {},
     "output_type": "execute_result"
    }
   ],
   "source": [
    "pred_dict = dict()\n",
    "\n",
    "pred_dict[\"Xh\"] = np.array(Xh).reshape(3,)\n",
    "pred_dict[\"fit\"] = np.array(pred_df[\"mean\"])\n",
    "pred_dict[\"lower_B\"] = np.array(pred_df[\"mean\"]-B*pred_df[\"mean_se\"])\n",
    "pred_dict[\"upper_B\"] = np.array(pred_df[\"mean\"]+B*pred_df[\"mean_se\"])\n",
    "\n",
    "pd.DataFrame(pred_dict)"
   ]
  },
  {
   "cell_type": "markdown",
   "metadata": {},
   "source": [
    "*Interpretation:*\n",
    "\n",
    "We can say with 90% family confidence coefficient that all of the above intervals are correct based on the given sample. However, we see that the predicted response (and the intervals) suggest negative values for Number of active physicians which is not practically possible. Thus, our model is not a good fit for our data for counties extremely low values of Total Population."
   ]
  },
  {
   "cell_type": "markdown",
   "metadata": {},
   "source": [
    "**Solution 6:**"
   ]
  },
  {
   "cell_type": "markdown",
   "metadata": {},
   "source": [
    "**(a)**"
   ]
  },
  {
   "cell_type": "code",
   "execution_count": 189,
   "metadata": {},
   "outputs": [
    {
     "data": {
      "text/plain": [
       "Index(['LoS', 'Age', 'infection_risk', 'Routine culturing ratio',\n",
       "       'chest_xray_ratio', 'Number of beds', 'Medical school affiliation',\n",
       "       'Region', 'Average daily census', 'Number of nurses',\n",
       "       'facilities_services'],\n",
       "      dtype='object')"
      ]
     },
     "execution_count": 189,
     "metadata": {},
     "output_type": "execute_result"
    }
   ],
   "source": [
    "mapper = {\"Infection risk\": \"infection_risk\", \n",
    "          \"Available facilities and services\": \"facilities_services\", \n",
    "          \"Routine chest X-ray ratio\": \"chest_xray_ratio\",\n",
    "          \"Length of stay\": \"LoS\"}\n",
    "senic_data = pd.read_csv(\"data/SENIC.csv\").rename(columns=mapper)\n",
    "senic_data.columns"
   ]
  },
  {
   "cell_type": "code",
   "execution_count": 195,
   "metadata": {},
   "outputs": [],
   "source": [
    "def reg_loop(df, x_cols, y_str):\n",
    "    \n",
    "    lm_regs = {}\n",
    "    for i in range(len(x_cols)):\n",
    "        x_str = x_cols[i]\n",
    "        formula = y_str+\"~\"+x_str\n",
    "        lm_regs[x_cols[i]] = ols(formula, data=df).fit()\n",
    "        print(\"Linear Regression Summary: %s\"%x_cols[i])\n",
    "        print(lm_regs[x_cols[i]].summary2())\n",
    "    return(lm_regs)"
   ]
  },
  {
   "cell_type": "code",
   "execution_count": 196,
   "metadata": {
    "scrolled": false
   },
   "outputs": [
    {
     "name": "stdout",
     "output_type": "stream",
     "text": [
      "Linear Regression Summary: infection_risk\n",
      "                 Results: Ordinary least squares\n",
      "=================================================================\n",
      "Model:              OLS              Adj. R-squared:     0.278   \n",
      "Dependent Variable: LoS              AIC:                432.2539\n",
      "Date:               2019-10-15 15:57 BIC:                437.7087\n",
      "No. Observations:   113              Log-Likelihood:     -214.13 \n",
      "Df Model:           1                F-statistic:        44.15   \n",
      "Df Residuals:       111              Prob (F-statistic): 1.18e-09\n",
      "R-squared:          0.285            Scale:              2.6375  \n",
      "------------------------------------------------------------------\n",
      "                 Coef.   Std.Err.     t     P>|t|   [0.025  0.975]\n",
      "------------------------------------------------------------------\n",
      "Intercept        6.3368    0.5213  12.1563  0.0000  5.3038  7.3697\n",
      "infection_risk   0.7604    0.1144   6.6445  0.0000  0.5336  0.9872\n",
      "-----------------------------------------------------------------\n",
      "Omnibus:             62.988       Durbin-Watson:          2.096  \n",
      "Prob(Omnibus):       0.000        Jarque-Bera (JB):       331.570\n",
      "Skew:                1.814        Prob(JB):               0.000  \n",
      "Kurtosis:            10.567       Condition No.:          16     \n",
      "=================================================================\n",
      "\n",
      "Linear Regression Summary: facilities_services\n",
      "                 Results: Ordinary least squares\n",
      "=================================================================\n",
      "Model:              OLS              Adj. R-squared:     0.119   \n",
      "Dependent Variable: LoS              AIC:                454.8223\n",
      "Date:               2019-10-15 15:57 BIC:                460.2771\n",
      "No. Observations:   113              Log-Likelihood:     -225.41 \n",
      "Df Model:           1                F-statistic:        16.06   \n",
      "Df Residuals:       111              Prob (F-statistic): 0.000111\n",
      "R-squared:          0.126            Scale:              3.2206  \n",
      "-----------------------------------------------------------------\n",
      "                     Coef.  Std.Err.    t    P>|t|  [0.025 0.975]\n",
      "-----------------------------------------------------------------\n",
      "Intercept            7.7188   0.5102 15.1288 0.0000 6.7078 8.7298\n",
      "facilities_services  0.0447   0.0112  4.0077 0.0001 0.0226 0.0668\n",
      "-----------------------------------------------------------------\n",
      "Omnibus:             69.105       Durbin-Watson:          2.052  \n",
      "Prob(Omnibus):       0.000        Jarque-Bera (JB):       376.891\n",
      "Skew:                2.029        Prob(JB):               0.000  \n",
      "Kurtosis:            10.973       Condition No.:          138    \n",
      "=================================================================\n",
      "\n",
      "Linear Regression Summary: chest_xray_ratio\n",
      "                 Results: Ordinary least squares\n",
      "=================================================================\n",
      "Model:              OLS              Adj. R-squared:     0.139   \n",
      "Dependent Variable: LoS              AIC:                452.2204\n",
      "Date:               2019-10-15 15:57 BIC:                457.6752\n",
      "No. Observations:   113              Log-Likelihood:     -224.11 \n",
      "Df Model:           1                F-statistic:        19.02   \n",
      "Df Residuals:       111              Prob (F-statistic): 2.91e-05\n",
      "R-squared:          0.146            Scale:              3.1473  \n",
      "------------------------------------------------------------------\n",
      "                  Coef.   Std.Err.    t     P>|t|   [0.025  0.975]\n",
      "------------------------------------------------------------------\n",
      "Intercept         6.5664    0.7261  9.0434  0.0000  5.1276  8.0052\n",
      "chest_xray_ratio  0.0378    0.0087  4.3613  0.0000  0.0206  0.0549\n",
      "-----------------------------------------------------------------\n",
      "Omnibus:             60.366       Durbin-Watson:          1.920  \n",
      "Prob(Omnibus):       0.000        Jarque-Bera (JB):       277.572\n",
      "Skew:                1.783        Prob(JB):               0.000  \n",
      "Kurtosis:            9.799        Condition No.:          365    \n",
      "=================================================================\n",
      "\n"
     ]
    }
   ],
   "source": [
    "x_cols = [\"infection_risk\", \"facilities_services\", \"chest_xray_ratio\"]\n",
    "y_str = \"LoS\"\n",
    "lm_fits = reg_loop(df=senic_data, x_cols=x_cols, y_str=y_str)"
   ]
  },
  {
   "cell_type": "markdown",
   "metadata": {},
   "source": [
    "Three regression function are: \n",
    "\n",
    "- $Length.of.stay = 6.3368 + 0.7604*Infection.risk$\n",
    "- $Length.of.stay = 7.71877 + 0.04471*Available.facilities.and.services$\n",
    "- $Length.of.stay = 6.566373 + 0.037756*Routine.chest.X.ray.ratio$"
   ]
  },
  {
   "cell_type": "markdown",
   "metadata": {},
   "source": [
    "**(b)**"
   ]
  },
  {
   "cell_type": "code",
   "execution_count": 206,
   "metadata": {
    "scrolled": false
   },
   "outputs": [
    {
     "data": {
      "image/png": "[encoded data removed]",
      "text/plain": [
       "<Figure size 504x2880 with 6 Axes>"
      ]
     },
     "metadata": {
      "needs_background": "light"
     },
     "output_type": "display_data"
    }
   ],
   "source": [
    "rse = [1.624, 1.795, 1.774]\n",
    "fig, ax = plt.subplots(2*len(x_cols),1, figsize=(7,40))\n",
    "for i in range(len(x_cols)):\n",
    "    ax[i*2].scatter(lm_fits[x_cols[i]].fittedvalues, lm_fits[x_cols[i]].resid)\n",
    "    ax[i*2].set_xlabel(\"Fitted Values\")\n",
    "    ax[i*2].set_ylabel(\"Residuals\")\n",
    "    ax[i*2].set_title(\"Fitted Values vs. Residuals: %s\"%x_cols[i])\n",
    "\n",
    "    stats.probplot(lm_fits[x_cols[i]].resid, dist=\"norm\", plot=ax[i*2+1])\n",
    "    "
   ]
  },
  {
   "cell_type": "code",
   "execution_count": 209,
   "metadata": {},
   "outputs": [
    {
     "name": "stdout",
     "output_type": "stream",
     "text": [
      "infection_risk\n",
      "46     8.280478\n",
      "111    7.116730\n",
      "dtype: float64\n",
      "facilities_services\n",
      "46     9.543259\n",
      "111    7.409120\n",
      "dtype: float64\n",
      "chest_xray_ratio\n",
      "46     8.700788\n",
      "111    7.907641\n",
      "dtype: float64\n"
     ]
    }
   ],
   "source": [
    "for i in range(len(x_cols)):\n",
    "    ei = lm_fits[x_cols[i]].resid\n",
    "    print(x_cols[i])\n",
    "    print(ei[ei>6])"
   ]
  },
  {
   "cell_type": "markdown",
   "metadata": {},
   "source": [
    "*Interpretation:*\n",
    "\n",
    "- For all three variables, we see that the residuals plotted against X and the normal probability plots show constant variance and conformity to normality, except for two outliers that have residuals $>6$. \n",
    "- As seen above, the outliers are the obervations: 47 and 112.\n"
   ]
  },
  {
   "cell_type": "markdown",
   "metadata": {},
   "source": [
    "**(c)**"
   ]
  },
  {
   "cell_type": "code",
   "execution_count": 228,
   "metadata": {},
   "outputs": [
    {
     "data": {
      "text/plain": [
       "(111, 11)"
      ]
     },
     "execution_count": 228,
     "metadata": {},
     "output_type": "execute_result"
    }
   ],
   "source": [
    "senic_data2 = senic_data.drop(labels=[46,111])\n",
    "senic_data2.shape"
   ]
  },
  {
   "cell_type": "code",
   "execution_count": 229,
   "metadata": {},
   "outputs": [],
   "source": [
    "lm_senic = ols(\"LoS~infection_risk\", data=senic_data2).fit()"
   ]
  },
  {
   "cell_type": "code",
   "execution_count": 230,
   "metadata": {},
   "outputs": [
    {
     "data": {
      "text/html": [
       "<div>\n",
       "<style scoped>\n",
       "    .dataframe tbody tr th:only-of-type {\n",
       "        vertical-align: middle;\n",
       "    }\n",
       "\n",
       "    .dataframe tbody tr th {\n",
       "        vertical-align: top;\n",
       "    }\n",
       "\n",
       "    .dataframe thead th {\n",
       "        text-align: right;\n",
       "    }\n",
       "</style>\n",
       "<table border=\"1\" class=\"dataframe\">\n",
       "  <thead>\n",
       "    <tr style=\"text-align: right;\">\n",
       "      <th></th>\n",
       "      <th>mean</th>\n",
       "      <th>mean_se</th>\n",
       "      <th>mean_ci_lower</th>\n",
       "      <th>mean_ci_upper</th>\n",
       "      <th>obs_ci_lower</th>\n",
       "      <th>obs_ci_upper</th>\n",
       "      <th>Xh</th>\n",
       "    </tr>\n",
       "  </thead>\n",
       "  <tbody>\n",
       "    <tr>\n",
       "      <th>0</th>\n",
       "      <td>10.812587</td>\n",
       "      <td>0.226337</td>\n",
       "      <td>10.363994</td>\n",
       "      <td>11.261179</td>\n",
       "      <td>8.318631</td>\n",
       "      <td>13.306542</td>\n",
       "      <td>6.5</td>\n",
       "    </tr>\n",
       "    <tr>\n",
       "      <th>1</th>\n",
       "      <td>10.446738</td>\n",
       "      <td>0.182897</td>\n",
       "      <td>10.084242</td>\n",
       "      <td>10.809233</td>\n",
       "      <td>7.966822</td>\n",
       "      <td>12.926654</td>\n",
       "      <td>5.9</td>\n",
       "    </tr>\n",
       "  </tbody>\n",
       "</table>\n",
       "</div>"
      ],
      "text/plain": [
       "        mean   mean_se  mean_ci_lower  mean_ci_upper  obs_ci_lower  \\\n",
       "0  10.812587  0.226337      10.363994      11.261179      8.318631   \n",
       "1  10.446738  0.182897      10.084242      10.809233      7.966822   \n",
       "\n",
       "   obs_ci_upper   Xh  \n",
       "0     13.306542  6.5  \n",
       "1     12.926654  5.9  "
      ]
     },
     "execution_count": 230,
     "metadata": {},
     "output_type": "execute_result"
    }
   ],
   "source": [
    "Xh = pd.DataFrame([6.5,5.9], columns=[\"infection_risk\"])\n",
    "alpha = 0.05\n",
    "g = Xh.shape[0]\n",
    "\n",
    "pred = lm_senic.get_prediction(Xh)\n",
    "pred_df = pred.summary_frame(alpha=alpha) # shortcut for Bonferroni\n",
    "pred_df[\"Xh\"] = Xh\n",
    "pred_df"
   ]
  },
  {
   "cell_type": "code",
   "execution_count": 231,
   "metadata": {},
   "outputs": [
    {
     "data": {
      "text/html": [
       "<div>\n",
       "<style scoped>\n",
       "    .dataframe tbody tr th:only-of-type {\n",
       "        vertical-align: middle;\n",
       "    }\n",
       "\n",
       "    .dataframe tbody tr th {\n",
       "        vertical-align: top;\n",
       "    }\n",
       "\n",
       "    .dataframe thead th {\n",
       "        text-align: right;\n",
       "    }\n",
       "</style>\n",
       "<table border=\"1\" class=\"dataframe\">\n",
       "  <thead>\n",
       "    <tr style=\"text-align: right;\">\n",
       "      <th></th>\n",
       "      <th>LoS</th>\n",
       "      <th>Age</th>\n",
       "      <th>infection_risk</th>\n",
       "      <th>Routine culturing ratio</th>\n",
       "      <th>chest_xray_ratio</th>\n",
       "      <th>Number of beds</th>\n",
       "      <th>Medical school affiliation</th>\n",
       "      <th>Region</th>\n",
       "      <th>Average daily census</th>\n",
       "      <th>Number of nurses</th>\n",
       "      <th>facilities_services</th>\n",
       "    </tr>\n",
       "  </thead>\n",
       "  <tbody>\n",
       "    <tr>\n",
       "      <th>47</th>\n",
       "      <td>10.90</td>\n",
       "      <td>57.2</td>\n",
       "      <td>5.5</td>\n",
       "      <td>10.6</td>\n",
       "      <td>71.9</td>\n",
       "      <td>593</td>\n",
       "      <td>2</td>\n",
       "      <td>2</td>\n",
       "      <td>446</td>\n",
       "      <td>211</td>\n",
       "      <td>51.4</td>\n",
       "    </tr>\n",
       "    <tr>\n",
       "      <th>112</th>\n",
       "      <td>9.41</td>\n",
       "      <td>59.5</td>\n",
       "      <td>3.1</td>\n",
       "      <td>20.6</td>\n",
       "      <td>91.7</td>\n",
       "      <td>29</td>\n",
       "      <td>2</td>\n",
       "      <td>3</td>\n",
       "      <td>20</td>\n",
       "      <td>22</td>\n",
       "      <td>22.9</td>\n",
       "    </tr>\n",
       "  </tbody>\n",
       "</table>\n",
       "</div>"
      ],
      "text/plain": [
       "       LoS   Age  infection_risk  Routine culturing ratio  chest_xray_ratio  \\\n",
       "47   10.90  57.2             5.5                     10.6              71.9   \n",
       "112   9.41  59.5             3.1                     20.6              91.7   \n",
       "\n",
       "     Number of beds  Medical school affiliation  Region  Average daily census  \\\n",
       "47              593                           2       2                   446   \n",
       "112              29                           2       3                    20   \n",
       "\n",
       "     Number of nurses  facilities_services  \n",
       "47                211                 51.4  \n",
       "112                22                 22.9  "
      ]
     },
     "execution_count": 231,
     "metadata": {},
     "output_type": "execute_result"
    }
   ],
   "source": [
    "senic_data.iloc[[47,112],:]"
   ]
  },
  {
   "cell_type": "markdown",
   "metadata": {},
   "source": [
    "*Interpretation:*\n",
    "\n",
    "The observation Y47 and Y112 fall outside the individual confidence intervals obtained above. This means that if our sample were to be without Y47 and Y112, the actual values of these observations would not fall within out-of-sample C.I. given by the estimated regresion function. Thus, these observations are deemed to be outliers."
   ]
  },
  {
   "cell_type": "code",
   "execution_count": null,
   "metadata": {},
   "outputs": [],
   "source": []
  }
 ],
 "metadata": {
  "kernelspec": {
   "display_name": "Python 3",
   "language": "python",
   "name": "python3"
  },
  "language_info": {
   "codemirror_mode": {
    "name": "ipython",
    "version": 3
   },
   "file_extension": ".py",
   "mimetype": "text/x-python",
   "name": "python",
   "nbconvert_exporter": "python",
   "pygments_lexer": "ipython3",
   "version": "3.7.3"
  }
 },
 "nbformat": 4,
 "nbformat_minor": 2
}
