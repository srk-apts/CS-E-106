{
 "cells": [
  {
   "cell_type": "markdown",
   "metadata": {},
   "source": [
    "# CS-E-106: Data Modeling\n",
    "## Fall 2019: HW 05"
   ]
  },
  {
   "cell_type": "code",
   "execution_count": 1,
   "metadata": {},
   "outputs": [],
   "source": [
    "import numpy as np\n",
    "import pandas as pd\n",
    "from scipy import stats\n",
    "import statsmodels.api as sm\n",
    "from statsmodels.formula.api import ols\n",
    "from statsmodels.stats.anova import anova_lm\n",
    "import seaborn as sns\n",
    "import matplotlib.pyplot as plt\n",
    "from statsmodels.graphics import gofplots\n",
    "import pylab\n"
   ]
  },
  {
   "cell_type": "markdown",
   "metadata": {},
   "source": [
    "**Solution 1:**"
   ]
  },
  {
   "cell_type": "markdown",
   "metadata": {},
   "source": [
    "**(a)**"
   ]
  },
  {
   "cell_type": "code",
   "execution_count": 3,
   "metadata": {},
   "outputs": [],
   "source": [
    "plastic_data = pd.read_csv(\"data/Plastic Hardness.csv\")"
   ]
  },
  {
   "cell_type": "markdown",
   "metadata": {},
   "source": [
    "https://docs.scipy.org/doc/numpy-1.13.0/reference/generated/numpy.matrix.html\n",
    "\n",
    "https://www.python-course.eu/matrix_arithmetic.php"
   ]
  },
  {
   "cell_type": "markdown",
   "metadata": {},
   "source": [
    "**(1)**"
   ]
  },
  {
   "cell_type": "code",
   "execution_count": 20,
   "metadata": {},
   "outputs": [],
   "source": [
    "X_0 = np.ones(plastic_data.shape[0]).reshape(16,1)\n",
    "X_1 = np.array(plastic_data[\"X\"]).reshape(16,1)\n",
    "X = np.matrix(np.hstack((X_0, X_1)))"
   ]
  },
  {
   "cell_type": "code",
   "execution_count": 21,
   "metadata": {},
   "outputs": [
    {
     "data": {
      "text/plain": [
       "matrix([[ 0.675     , -0.021875  ],\n",
       "        [-0.021875  ,  0.00078125]])"
      ]
     },
     "execution_count": 21,
     "metadata": {},
     "output_type": "execute_result"
    }
   ],
   "source": [
    "X_T = X.T\n",
    "XTX = X_T * X\n",
    "XTX_inv = XTX.I\n",
    "XTX_inv"
   ]
  },
  {
   "cell_type": "markdown",
   "metadata": {},
   "source": [
    "$$\n",
    "(X'X)^{-1} = \n",
    "\\begin{pmatrix} \n",
    "\\frac{1}{n}+\\frac{\\bar{X}^2}{\\sum{(X_{i}-\\bar{X})^2}} & \\frac{-\\bar{X}}{\\sum{(X_{i}-\\bar{X})^2}}\\\\\n",
    "\\frac{-\\bar{X}}{\\sum{(X_{i}-\\bar{X})^2}} & \\frac{1}{\\sum{(X_{i}-\\bar{X})^2}}\n",
    "\\end{pmatrix}\n",
    "$$"
   ]
  },
  {
   "cell_type": "markdown",
   "metadata": {},
   "source": [
    "**(2)**\n",
    "\n",
    "$b = (X'X)^{-1}X'Y$"
   ]
  },
  {
   "cell_type": "code",
   "execution_count": 23,
   "metadata": {},
   "outputs": [
    {
     "data": {
      "text/plain": [
       "matrix([[168.6     ],\n",
       "        [  2.034375]])"
      ]
     },
     "execution_count": 23,
     "metadata": {},
     "output_type": "execute_result"
    }
   ],
   "source": [
    "Y = np.matrix(plastic_data[\"Y\"]).reshape(16,1)\n",
    "b = XTX_inv*X_T*Y\n",
    "b"
   ]
  },
  {
   "cell_type": "markdown",
   "metadata": {},
   "source": [
    "**(3)**\n",
    "\n",
    "Normal error regression model:\n",
    "$Y_{i} = \\beta_{0}+\\beta_{1}X_{i}+\\epsilon_{i}$\n",
    "\n",
    "\n",
    "$$\n",
    "\\therefore \\hat{Y} = X \\beta\n",
    "$$"
   ]
  },
  {
   "cell_type": "code",
   "execution_count": 24,
   "metadata": {},
   "outputs": [
    {
     "data": {
      "text/plain": [
       "matrix([[201.15 ],\n",
       "        [201.15 ],\n",
       "        [201.15 ],\n",
       "        [201.15 ],\n",
       "        [217.425],\n",
       "        [217.425],\n",
       "        [217.425],\n",
       "        [217.425],\n",
       "        [233.7  ],\n",
       "        [233.7  ],\n",
       "        [233.7  ],\n",
       "        [233.7  ],\n",
       "        [249.975],\n",
       "        [249.975],\n",
       "        [249.975],\n",
       "        [249.975]])"
      ]
     },
     "execution_count": 24,
     "metadata": {},
     "output_type": "execute_result"
    }
   ],
   "source": [
    "YHat = X*b\n",
    "YHat"
   ]
  },
  {
   "cell_type": "markdown",
   "metadata": {},
   "source": [
    "**(4)**\n",
    "\n",
    "$\\implies H = X(X'X)^{-1}X'$"
   ]
  },
  {
   "cell_type": "code",
   "execution_count": 25,
   "metadata": {},
   "outputs": [
    {
     "data": {
      "text/plain": [
       "matrix([[ 0.175,  0.175,  0.175,  0.175,  0.1  ,  0.1  ,  0.1  ,  0.1  ,\n",
       "          0.025,  0.025,  0.025,  0.025, -0.05 , -0.05 , -0.05 , -0.05 ],\n",
       "        [ 0.175,  0.175,  0.175,  0.175,  0.1  ,  0.1  ,  0.1  ,  0.1  ,\n",
       "          0.025,  0.025,  0.025,  0.025, -0.05 , -0.05 , -0.05 , -0.05 ],\n",
       "        [ 0.175,  0.175,  0.175,  0.175,  0.1  ,  0.1  ,  0.1  ,  0.1  ,\n",
       "          0.025,  0.025,  0.025,  0.025, -0.05 , -0.05 , -0.05 , -0.05 ],\n",
       "        [ 0.175,  0.175,  0.175,  0.175,  0.1  ,  0.1  ,  0.1  ,  0.1  ,\n",
       "          0.025,  0.025,  0.025,  0.025, -0.05 , -0.05 , -0.05 , -0.05 ],\n",
       "        [ 0.1  ,  0.1  ,  0.1  ,  0.1  ,  0.075,  0.075,  0.075,  0.075,\n",
       "          0.05 ,  0.05 ,  0.05 ,  0.05 ,  0.025,  0.025,  0.025,  0.025],\n",
       "        [ 0.1  ,  0.1  ,  0.1  ,  0.1  ,  0.075,  0.075,  0.075,  0.075,\n",
       "          0.05 ,  0.05 ,  0.05 ,  0.05 ,  0.025,  0.025,  0.025,  0.025],\n",
       "        [ 0.1  ,  0.1  ,  0.1  ,  0.1  ,  0.075,  0.075,  0.075,  0.075,\n",
       "          0.05 ,  0.05 ,  0.05 ,  0.05 ,  0.025,  0.025,  0.025,  0.025],\n",
       "        [ 0.1  ,  0.1  ,  0.1  ,  0.1  ,  0.075,  0.075,  0.075,  0.075,\n",
       "          0.05 ,  0.05 ,  0.05 ,  0.05 ,  0.025,  0.025,  0.025,  0.025],\n",
       "        [ 0.025,  0.025,  0.025,  0.025,  0.05 ,  0.05 ,  0.05 ,  0.05 ,\n",
       "          0.075,  0.075,  0.075,  0.075,  0.1  ,  0.1  ,  0.1  ,  0.1  ],\n",
       "        [ 0.025,  0.025,  0.025,  0.025,  0.05 ,  0.05 ,  0.05 ,  0.05 ,\n",
       "          0.075,  0.075,  0.075,  0.075,  0.1  ,  0.1  ,  0.1  ,  0.1  ],\n",
       "        [ 0.025,  0.025,  0.025,  0.025,  0.05 ,  0.05 ,  0.05 ,  0.05 ,\n",
       "          0.075,  0.075,  0.075,  0.075,  0.1  ,  0.1  ,  0.1  ,  0.1  ],\n",
       "        [ 0.025,  0.025,  0.025,  0.025,  0.05 ,  0.05 ,  0.05 ,  0.05 ,\n",
       "          0.075,  0.075,  0.075,  0.075,  0.1  ,  0.1  ,  0.1  ,  0.1  ],\n",
       "        [-0.05 , -0.05 , -0.05 , -0.05 ,  0.025,  0.025,  0.025,  0.025,\n",
       "          0.1  ,  0.1  ,  0.1  ,  0.1  ,  0.175,  0.175,  0.175,  0.175],\n",
       "        [-0.05 , -0.05 , -0.05 , -0.05 ,  0.025,  0.025,  0.025,  0.025,\n",
       "          0.1  ,  0.1  ,  0.1  ,  0.1  ,  0.175,  0.175,  0.175,  0.175],\n",
       "        [-0.05 , -0.05 , -0.05 , -0.05 ,  0.025,  0.025,  0.025,  0.025,\n",
       "          0.1  ,  0.1  ,  0.1  ,  0.1  ,  0.175,  0.175,  0.175,  0.175],\n",
       "        [-0.05 , -0.05 , -0.05 , -0.05 ,  0.025,  0.025,  0.025,  0.025,\n",
       "          0.1  ,  0.1  ,  0.1  ,  0.1  ,  0.175,  0.175,  0.175,  0.175]])"
      ]
     },
     "execution_count": 25,
     "metadata": {},
     "output_type": "execute_result"
    }
   ],
   "source": [
    "H = X*XTX_inv*X_T\n",
    "H"
   ]
  },
  {
   "cell_type": "markdown",
   "metadata": {},
   "source": [
    "**(5)**\n",
    "\n",
    "$$\n",
    "e = \\begin{pmatrix} \n",
    "\\epsilon_{1}\\\\\n",
    "\\epsilon_{2}\\\\\n",
    ".\\\\\n",
    ".\\\\\n",
    ".\\\\\n",
    "\\epsilon_{n}\n",
    "\\end{pmatrix} \n",
    "= \n",
    "Y - \\hat{Y} = Y-X'b\n",
    "$$\n",
    "\n",
    "$$\n",
    "SSE = e'e = (Y-Xb)'(Y-Xb) = Y'Y-b'X'Y\n",
    "$$"
   ]
  },
  {
   "cell_type": "code",
   "execution_count": 26,
   "metadata": {},
   "outputs": [
    {
     "data": {
      "text/plain": [
       "matrix([[146.425]])"
      ]
     },
     "execution_count": 26,
     "metadata": {},
     "output_type": "execute_result"
    }
   ],
   "source": [
    "SSE = Y.T*Y-b.T*X_T*Y\n",
    "SSE"
   ]
  },
  {
   "cell_type": "markdown",
   "metadata": {},
   "source": [
    "**(6)**\n",
    "\n",
    "$$\n",
    "s^{2}{b} = MSE(X'X)^{-1} = \\begin{pmatrix} \n",
    "\\frac{MSE}{n}+\\frac{MSE\\bar{X}^2}{\\sum{(X_{i}-\\bar{X})^2}} & \\frac{-\\bar{X}MSE}{\\sum{(X_{i}-\\bar{X})^2}}\\\\\n",
    "\\frac{-\\bar{X}MSE}{\\sum{(X_{i}-\\bar{X})^2}} & \\frac{MSE}{\\sum{(X_{i}-\\bar{X})^2}}\n",
    "\\end{pmatrix}\n",
    "$$"
   ]
  },
  {
   "cell_type": "code",
   "execution_count": 27,
   "metadata": {},
   "outputs": [
    {
     "data": {
      "text/plain": [
       "matrix([[ 7.05977679, -0.22878906],\n",
       "        [-0.22878906,  0.00817104]])"
      ]
     },
     "execution_count": 27,
     "metadata": {},
     "output_type": "execute_result"
    }
   ],
   "source": [
    "n = plastic_data.shape[0]\n",
    "p = X.shape[1]\n",
    "MSE = SSE/(n-p)\n",
    "s2_b = MSE[0,0]*XTX_inv\n",
    "s2_b"
   ]
  },
  {
   "cell_type": "markdown",
   "metadata": {},
   "source": [
    "**(7)**\n",
    "\n",
    "$$\n",
    "s^2{pred} = MSE(1+X'_{h}(X'X)^{-1}X_{h})\n",
    "$$\n",
    "\n",
    "At $X_{h}=30$,"
   ]
  },
  {
   "cell_type": "code",
   "execution_count": 30,
   "metadata": {},
   "outputs": [
    {
     "data": {
      "text/plain": [
       "matrix([[11.14529576]])"
      ]
     },
     "execution_count": 30,
     "metadata": {},
     "output_type": "execute_result"
    }
   ],
   "source": [
    "Xh = np.matrix([1,30]).reshape(2,1)\n",
    "s2_pred = MSE*(1+Xh.T*XTX_inv*Xh)\n",
    "s2_pred"
   ]
  },
  {
   "cell_type": "markdown",
   "metadata": {},
   "source": [
    "**(b)**\n",
    "\n",
    "$$\n",
    "\\sigma^{2}{b} = \\begin{pmatrix} \n",
    "\\sigma^{2}(b_{0}) & \\sigma(b_{0},b_{1})\\\\\n",
    "\\sigma(b_{0},b_{1}) & \\sigma^{2}(b_{1})\n",
    "\\end{pmatrix}\n",
    "$$\n",
    "Thus, from part(a)(6):\n",
    "\n",
    "$s^2(b_{0}) = 7.0597768$\n",
    "\n",
    "$s(b_{0}, b_{1}) = -0.228789063$\n",
    "\n",
    "$s^2(b_{1}) = 0.008171038$"
   ]
  },
  {
   "cell_type": "markdown",
   "metadata": {},
   "source": [
    "**(c)**\n",
    "\n",
    "$\\implies SSE = Y'(I-H)Y$"
   ]
  },
  {
   "cell_type": "markdown",
   "metadata": {},
   "source": [
    "https://docs.scipy.org/doc/numpy/reference/generated/numpy.identity.html"
   ]
  },
  {
   "cell_type": "code",
   "execution_count": 31,
   "metadata": {},
   "outputs": [
    {
     "data": {
      "text/plain": [
       "matrix([[146.425]])"
      ]
     },
     "execution_count": 31,
     "metadata": {},
     "output_type": "execute_result"
    }
   ],
   "source": [
    "I = np.identity(16)\n",
    "SSE = Y.T*(I-H)*Y\n",
    "SSE"
   ]
  },
  {
   "cell_type": "markdown",
   "metadata": {},
   "source": [
    "**Latex Matrix Algebra for Q.1**"
   ]
  },
  {
   "cell_type": "markdown",
   "metadata": {},
   "source": [
    "**(a)**\n",
    "\n",
    "**(1)**\n",
    "\n",
    "$$ \n",
    "X'X = \n",
    "\\begin{pmatrix} \n",
    "n & \\sum{X_{i}}\\\\\n",
    "\\sum{X_{i}} & \\sum{X_{i}^{2}}\n",
    "\\end{pmatrix}\n",
    "$$\n",
    "\n",
    "Using rule 5.22:\n",
    "$a = n$\n",
    "$b = c = \\sum{X_{i}}$\n",
    "$d = \\sum{X_{i}^{2}}$\n",
    "\n",
    "$D = n\\sum{X_{i}^{2}} - (\\sum{X_{i}})(\\sum{X_{i}} = n[\\sum{X_{i}^{2}} - \\frac{(\\sum{X_{i}})^{2}}{n}]) = n\\sum{(X_{i}-\\bar{X)}^{2}}$\n",
    "\n",
    "\n",
    "$$ \n",
    "(X'X)^{-1} = \n",
    "\\begin{pmatrix} \n",
    "\\frac{\\sum{X_{i}^{2}}}{n\\sum{(X_{i}-\\bar{X})^2}} & \\frac{-\\sum{X_{i}}}{n\\sum{(X_{i}-\\bar{X})^2}}\\\\\n",
    "\\frac{-\\sum{X_{i}}}{n\\sum{(X_{i}-\\bar{X})^2}} & \\frac{n}{n\\sum{(X_{i}-\\bar{X})^2}}\n",
    "\\end{pmatrix}\n",
    "$$\n",
    "\n",
    "However, $\\sum{X_{i}} = n\\bar{X}$ and $\\sum{(X_{i}-\\bar{X})}^2=\\sum{X_{i}^2}-n\\bar{X}^2$\n",
    "\n",
    "\n",
    "$$\n",
    "(X'X)^{-1} = \n",
    "\\begin{pmatrix} \n",
    "\\frac{1}{n}+\\frac{\\bar{X}^2}{\\sum{(X_{i}-\\bar{X})^2}} & \\frac{-\\bar{X}}{\\sum{(X_{i}-\\bar{X})^2}}\\\\\n",
    "\\frac{-\\bar{X}}{\\sum{(X_{i}-\\bar{X})^2}} & \\frac{1}{\\sum{(X_{i}-\\bar{X})^2}}\n",
    "\\end{pmatrix}\n",
    "$$\n",
    "\n",
    "**(2)**\n",
    "\n",
    "$nb_{0}+b_{1}\\sum{X_{i}} = \\sum{Y_{i}}$\n",
    "\n",
    "$b_{0}\\sum{X_{i}}+b_{1}\\sum{X_{i}^2} = \\sum{X_{i}Y_{i}}$\n",
    "\n",
    "$\\implies X'Xb = X'Y$\n",
    "\n",
    "$\\implies b = (X'X)^{-1}X'Y$\n",
    "\n",
    "**(3)**\n",
    "\n",
    "Normal error regression model:\n",
    "$Y_{i} = \\beta_{0}+\\beta_{1}X_{i}+\\epsilon_{i}$\n",
    "\n",
    "$$\n",
    "Y \n",
    "= \n",
    "\\begin{pmatrix} \n",
    "Y_{1}\\\\\n",
    "Y_{2}\\\\\n",
    ".\\\\\n",
    ".\\\\\n",
    ".\\\\\n",
    "Y_{n}\n",
    "\\end{pmatrix}\n",
    "$$\n",
    "\n",
    "$$\n",
    "X = \\begin{pmatrix} \n",
    "1 & X_{1}\\\\\n",
    "1 & X_{1}\\\\\n",
    ". & .\\\\\n",
    ". & .\\\\\n",
    ". & .\\\\\n",
    "1 & X_{n}\n",
    "\\end{pmatrix}\n",
    "$$\n",
    "\n",
    "$$\n",
    "\\beta = \n",
    "\\begin{pmatrix} \n",
    "\\beta_{0}\\\\\n",
    "\\beta_{1}\n",
    "\\end{pmatrix}\n",
    "$$\n",
    "\n",
    "$$\n",
    "\\epsilon = \\begin{pmatrix} \n",
    "\\epsilon_{1}\\\\\n",
    "\\epsilon_{2}\\\\\n",
    ".\\\\\n",
    ".\\\\\n",
    ".\\\\\n",
    "\\epsilon_{n}\n",
    "\\end{pmatrix}\n",
    "$$\n",
    "\n",
    "$$\n",
    "\\begin{pmatrix} \n",
    "Y_{1}\\\\\n",
    "Y_{2}\\\\\n",
    ".\\\\\n",
    ".\\\\\n",
    ".\\\\\n",
    "Y_{n}\n",
    "\\end{pmatrix} = \n",
    "\\begin{pmatrix} \n",
    "1 & X_{1}\\\\\n",
    "1 & X_{1}\\\\\n",
    ". & .\\\\\n",
    ". & .\\\\\n",
    ". & .\\\\\n",
    "1 & X_{n}\n",
    "\\end{pmatrix} \n",
    "$$\n",
    "\n",
    "$$\n",
    "\\begin{pmatrix} \n",
    "\\beta_{0}\\\\\n",
    "\\beta_{1}\n",
    "\\end{pmatrix} \n",
    "+ \n",
    "\\begin{pmatrix} \n",
    "\\epsilon_{1}\\\\\n",
    "\\epsilon_{2}\\\\\n",
    ".\\\\\n",
    ".\\\\\n",
    ".\\\\\n",
    "\\epsilon_{n}\n",
    "\\end{pmatrix}\n",
    "$$\n",
    "\n",
    "$$\n",
    "\\therefore \\hat{Y} = X \\beta\n",
    "$$\n",
    "\n",
    "\n",
    "**(4)**\n",
    "\n",
    "\n",
    "$$\n",
    "\\hat{Y} = \\begin{pmatrix} \n",
    "Y_{1}\\\\\n",
    "Y_{2}\\\\\n",
    ".\\\\\n",
    ".\\\\\n",
    ".\\\\\n",
    "Y_{n}\n",
    "\\end{pmatrix}\n",
    "$$\n",
    "\n",
    "$= Xb = X(X'X)^{-1}X'Y = HY$\n",
    "\n",
    "$\\implies H = X(X'X)^{-1}X'$\n",
    "\n",
    "**(5)**\n",
    "\n",
    "$$\n",
    "e = \\begin{pmatrix} \n",
    "\\epsilon_{1}\\\\\n",
    "\\epsilon_{2}\\\\\n",
    ".\\\\\n",
    ".\\\\\n",
    ".\\\\\n",
    "\\epsilon_{n}\n",
    "\\end{pmatrix} \n",
    "= \n",
    "Y - \\hat{Y} = Y-X'b\n",
    "$$\n",
    "\n",
    "$$\n",
    "SSE = e'e = (Y-Xb)'(Y-Xb) = Y'Y-b'X'Y\n",
    "$$\n",
    "\n",
    "**(6)**\n",
    "\n",
    "$$\n",
    "\\sigma^{2}{b} = \\sigma^{2}(X'X)^{-1}\n",
    "$$\n",
    "$$\n",
    "\\sigma^{2}{b} = \\begin{pmatrix} \n",
    "\\frac{\\sigma^{2}}{n}+\\frac{\\sigma^{2}\\bar{X}^2}{\\sum{(X_{i}-\\bar{X})^2}} & \\frac{-\\bar{X}\\sigma^{2}}{\\sum{(X_{i}-\\bar{X})^2}}\\\\\n",
    "\\frac{-\\bar{X}\\sigma^{2}}{\\sum{(X_{i}-\\bar{X})^2}} & \\frac{\\sigma^{2}}{\\sum{(X_{i}-\\bar{X})^2}}\n",
    "\\end{pmatrix}\n",
    "$$\n",
    "\n",
    "$$\n",
    "s^{2}{b} = MSE(X'X)^{-1} = \\begin{pmatrix} \n",
    "\\frac{MSE}{n}+\\frac{MSE\\bar{X}^2}{\\sum{(X_{i}-\\bar{X})^2}} & \\frac{-\\bar{X}MSE}{\\sum{(X_{i}-\\bar{X})^2}}\\\\\n",
    "\\frac{-\\bar{X}MSE}{\\sum{(X_{i}-\\bar{X})^2}} & \\frac{MSE}{\\sum{(X_{i}-\\bar{X})^2}}\n",
    "\\end{pmatrix}\n",
    "$$\n",
    "\n",
    "**(7)**\n",
    "\n",
    "$$\n",
    "s^2{pred} = MSE(1+X'_{h}(X'X)^{-1}X_{h})\n",
    "$$\n",
    "\n",
    "At $X_{h}=30$,\n",
    "\n",
    "$s^2{pred} = MSE(1+30^2(X'X)^{-1})$"
   ]
  },
  {
   "cell_type": "markdown",
   "metadata": {},
   "source": [
    "**Solution 2:**\n",
    "\n",
    "**(a)**"
   ]
  },
  {
   "cell_type": "code",
   "execution_count": 3,
   "metadata": {},
   "outputs": [
    {
     "data": {
      "text/plain": [
       "<seaborn.axisgrid.PairGrid at 0x7fcbaf92c7d0>"
      ]
     },
     "execution_count": 3,
     "metadata": {},
     "output_type": "execute_result"
    },
    {
     "data": {
      "image/png": "[encoded data removed]",
      "text/plain": [
       "<Figure size 540x540 with 12 Axes>"
      ]
     },
     "metadata": {
      "needs_background": "light"
     },
     "output_type": "display_data"
    }
   ],
   "source": [
    "brand_data = pd.read_csv(\"data/Brand Preference.csv\")\n",
    "sns.pairplot(data=brand_data)"
   ]
  },
  {
   "cell_type": "code",
   "execution_count": 5,
   "metadata": {},
   "outputs": [
    {
     "data": {
      "text/html": [
       "<div>\n",
       "<style scoped>\n",
       "    .dataframe tbody tr th:only-of-type {\n",
       "        vertical-align: middle;\n",
       "    }\n",
       "\n",
       "    .dataframe tbody tr th {\n",
       "        vertical-align: top;\n",
       "    }\n",
       "\n",
       "    .dataframe thead th {\n",
       "        text-align: right;\n",
       "    }\n",
       "</style>\n",
       "<table border=\"1\" class=\"dataframe\">\n",
       "  <thead>\n",
       "    <tr style=\"text-align: right;\">\n",
       "      <th></th>\n",
       "      <th>Y</th>\n",
       "      <th>X1</th>\n",
       "      <th>X2</th>\n",
       "    </tr>\n",
       "  </thead>\n",
       "  <tbody>\n",
       "    <tr>\n",
       "      <th>Y</th>\n",
       "      <td>1.000000</td>\n",
       "      <td>0.892393</td>\n",
       "      <td>0.394581</td>\n",
       "    </tr>\n",
       "    <tr>\n",
       "      <th>X1</th>\n",
       "      <td>0.892393</td>\n",
       "      <td>1.000000</td>\n",
       "      <td>0.000000</td>\n",
       "    </tr>\n",
       "    <tr>\n",
       "      <th>X2</th>\n",
       "      <td>0.394581</td>\n",
       "      <td>0.000000</td>\n",
       "      <td>1.000000</td>\n",
       "    </tr>\n",
       "  </tbody>\n",
       "</table>\n",
       "</div>"
      ],
      "text/plain": [
       "           Y        X1        X2\n",
       "Y   1.000000  0.892393  0.394581\n",
       "X1  0.892393  1.000000  0.000000\n",
       "X2  0.394581  0.000000  1.000000"
      ]
     },
     "execution_count": 5,
     "metadata": {},
     "output_type": "execute_result"
    }
   ],
   "source": [
    "corr_mat = brand_data.corr()\n",
    "corr_mat"
   ]
  },
  {
   "cell_type": "code",
   "execution_count": 7,
   "metadata": {},
   "outputs": [
    {
     "data": {
      "text/plain": [
       "<matplotlib.axes._subplots.AxesSubplot at 0x7fcbae490790>"
      ]
     },
     "execution_count": 7,
     "metadata": {},
     "output_type": "execute_result"
    },
    {
     "data": {
      "image/png": "[encoded data removed]",
      "text/plain": [
       "<Figure size 432x288 with 2 Axes>"
      ]
     },
     "metadata": {
      "needs_background": "light"
     },
     "output_type": "display_data"
    }
   ],
   "source": [
    "sns.heatmap(corr_mat)"
   ]
  },
  {
   "cell_type": "markdown",
   "metadata": {},
   "source": [
    "*Interpretation:*\n",
    "\n",
    "We can see a linear relationship between X1 and Y ($r \\approx 0.9$). However, there seems to be little correlation between X2 and Y, or X2 and X1 either."
   ]
  },
  {
   "cell_type": "markdown",
   "metadata": {},
   "source": [
    "**(b)**"
   ]
  },
  {
   "cell_type": "code",
   "execution_count": 11,
   "metadata": {},
   "outputs": [
    {
     "data": {
      "text/html": [
       "<table class=\"simpletable\">\n",
       "<tr>\n",
       "        <td>Model:</td>               <td>OLS</td>         <td>Adj. R-squared:</td>     <td>0.945</td> \n",
       "</tr>\n",
       "<tr>\n",
       "  <td>Dependent Variable:</td>         <td>Y</td>               <td>AIC:</td>          <td>79.7883</td>\n",
       "</tr>\n",
       "<tr>\n",
       "         <td>Date:</td>        <td>2019-11-03 13:49</td>        <td>BIC:</td>          <td>82.1061</td>\n",
       "</tr>\n",
       "<tr>\n",
       "   <td>No. Observations:</td>         <td>16</td>          <td>Log-Likelihood:</td>    <td>-36.894</td>\n",
       "</tr>\n",
       "<tr>\n",
       "       <td>Df Model:</td>              <td>2</td>           <td>F-statistic:</td>       <td>129.1</td> \n",
       "</tr>\n",
       "<tr>\n",
       "     <td>Df Residuals:</td>           <td>13</td>        <td>Prob (F-statistic):</td> <td>2.66e-09</td>\n",
       "</tr>\n",
       "<tr>\n",
       "      <td>R-squared:</td>            <td>0.952</td>            <td>Scale:</td>         <td>7.2538</td> \n",
       "</tr>\n",
       "</table>\n",
       "<table class=\"simpletable\">\n",
       "<tr>\n",
       "      <td></td>       <th>Coef.</th>  <th>Std.Err.</th>    <th>t</th>     <th>P>|t|</th> <th>[0.025</th>  <th>0.975]</th> \n",
       "</tr>\n",
       "<tr>\n",
       "  <th>Intercept</th> <td>37.6500</td>  <td>2.9961</td>  <td>12.5663</td> <td>0.0000</td> <td>31.1773</td> <td>44.1227</td>\n",
       "</tr>\n",
       "<tr>\n",
       "  <th>X1</th>        <td>4.4250</td>   <td>0.3011</td>  <td>14.6952</td> <td>0.0000</td> <td>3.7745</td>  <td>5.0755</td> \n",
       "</tr>\n",
       "<tr>\n",
       "  <th>X2</th>        <td>4.3750</td>   <td>0.6733</td>  <td>6.4976</td>  <td>0.0000</td> <td>2.9204</td>  <td>5.8296</td> \n",
       "</tr>\n",
       "</table>\n",
       "<table class=\"simpletable\">\n",
       "<tr>\n",
       "     <td>Omnibus:</td>    <td>0.766</td>  <td>Durbin-Watson:</td>   <td>2.313</td>\n",
       "</tr>\n",
       "<tr>\n",
       "  <td>Prob(Omnibus):</td> <td>0.682</td> <td>Jarque-Bera (JB):</td> <td>0.647</td>\n",
       "</tr>\n",
       "<tr>\n",
       "       <td>Skew:</td>     <td>0.049</td>     <td>Prob(JB):</td>     <td>0.724</td>\n",
       "</tr>\n",
       "<tr>\n",
       "     <td>Kurtosis:</td>   <td>2.020</td>  <td>Condition No.:</td>    <td>36</td>  \n",
       "</tr>\n",
       "</table>"
      ],
      "text/plain": [
       "<class 'statsmodels.iolib.summary2.Summary'>\n",
       "\"\"\"\n",
       "                 Results: Ordinary least squares\n",
       "=================================================================\n",
       "Model:              OLS              Adj. R-squared:     0.945   \n",
       "Dependent Variable: Y                AIC:                79.7883 \n",
       "Date:               2019-11-03 13:49 BIC:                82.1061 \n",
       "No. Observations:   16               Log-Likelihood:     -36.894 \n",
       "Df Model:           2                F-statistic:        129.1   \n",
       "Df Residuals:       13               Prob (F-statistic): 2.66e-09\n",
       "R-squared:          0.952            Scale:              7.2538  \n",
       "------------------------------------------------------------------\n",
       "               Coef.   Std.Err.     t     P>|t|    [0.025   0.975]\n",
       "------------------------------------------------------------------\n",
       "Intercept     37.6500    2.9961  12.5663  0.0000  31.1773  44.1227\n",
       "X1             4.4250    0.3011  14.6952  0.0000   3.7745   5.0755\n",
       "X2             4.3750    0.6733   6.4976  0.0000   2.9204   5.8296\n",
       "-----------------------------------------------------------------\n",
       "Omnibus:              0.766        Durbin-Watson:           2.313\n",
       "Prob(Omnibus):        0.682        Jarque-Bera (JB):        0.647\n",
       "Skew:                 0.049        Prob(JB):                0.724\n",
       "Kurtosis:             2.020        Condition No.:           36   \n",
       "=================================================================\n",
       "\n",
       "\"\"\""
      ]
     },
     "execution_count": 11,
     "metadata": {},
     "output_type": "execute_result"
    }
   ],
   "source": [
    "lm_brand = ols(\"Y~X1+X2\", data=brand_data).fit()\n",
    "lm_brand.summary2()"
   ]
  },
  {
   "cell_type": "markdown",
   "metadata": {},
   "source": [
    "Estimated Regression Function: $Y = 37.65+4.425*X1+4.375*X1$\n",
    "\n",
    "*Interpretation:*\n",
    "\n",
    "Based on the regression function, none of the $\\beta$'s seem to be zero. $\\beta_{2}$ does has a higher standard error and a greater p-value, which means X1 is more correlated to Y compared to X2. Also, the model is a very good fit ($R^2=0.95$)."
   ]
  },
  {
   "cell_type": "markdown",
   "metadata": {},
   "source": [
    "**(c)**"
   ]
  },
  {
   "cell_type": "code",
   "execution_count": 40,
   "metadata": {},
   "outputs": [
    {
     "data": {
      "text/plain": [
       "Text(0.5, 1.0, 'Boxplot of Residuals')"
      ]
     },
     "execution_count": 40,
     "metadata": {},
     "output_type": "execute_result"
    },
    {
     "data": {
      "image/png": "[encoded data removed]",
      "text/plain": [
       "<Figure size 432x288 with 1 Axes>"
      ]
     },
     "metadata": {
      "needs_background": "light"
     },
     "output_type": "display_data"
    }
   ],
   "source": [
    "ei = lm_brand.resid\n",
    "plt.boxplot(ei)\n",
    "plt.title(\"Boxplot of Residuals\")"
   ]
  },
  {
   "cell_type": "markdown",
   "metadata": {},
   "source": [
    "*Interpretation:*\n",
    "\n",
    "We see that we don't have any outliers in the error term based on the box plot. Also, it seems to be evenly spread around 0. "
   ]
  },
  {
   "cell_type": "markdown",
   "metadata": {},
   "source": [
    "**(d)**"
   ]
  },
  {
   "cell_type": "code",
   "execution_count": 20,
   "metadata": {},
   "outputs": [
    {
     "data": {
      "text/plain": [
       "Text(0, 0.5, 'Residuals')"
      ]
     },
     "execution_count": 20,
     "metadata": {},
     "output_type": "execute_result"
    },
    {
     "data": {
      "image/png": "[encoded data removed]",
      "text/plain": [
       "<Figure size 432x288 with 1 Axes>"
      ]
     },
     "metadata": {
      "needs_background": "light"
     },
     "output_type": "display_data"
    }
   ],
   "source": [
    "plt.scatter(lm_brand.fittedvalues, ei)\n",
    "plt.xlabel(\"Fitted Values\")\n",
    "plt.ylabel(\"Residuals\")"
   ]
  },
  {
   "cell_type": "code",
   "execution_count": 21,
   "metadata": {},
   "outputs": [
    {
     "data": {
      "text/plain": [
       "Text(0, 0.5, 'Residuals')"
      ]
     },
     "execution_count": 21,
     "metadata": {},
     "output_type": "execute_result"
    },
    {
     "data": {
      "image/png": "[encoded data removed]",
      "text/plain": [
       "<Figure size 432x288 with 1 Axes>"
      ]
     },
     "metadata": {
      "needs_background": "light"
     },
     "output_type": "display_data"
    }
   ],
   "source": [
    "plt.scatter(brand_data[\"X1\"], ei)\n",
    "plt.xlabel(\"X1\")\n",
    "plt.ylabel(\"Residuals\")"
   ]
  },
  {
   "cell_type": "code",
   "execution_count": 22,
   "metadata": {},
   "outputs": [
    {
     "data": {
      "text/plain": [
       "Text(0, 0.5, 'Residuals')"
      ]
     },
     "execution_count": 22,
     "metadata": {},
     "output_type": "execute_result"
    },
    {
     "data": {
      "image/png": "[encoded data removed]",
      "text/plain": [
       "<Figure size 432x288 with 1 Axes>"
      ]
     },
     "metadata": {
      "needs_background": "light"
     },
     "output_type": "display_data"
    }
   ],
   "source": [
    "plt.scatter(brand_data[\"X2\"], ei)\n",
    "plt.xlabel(\"X2\")\n",
    "plt.ylabel(\"Residuals\")"
   ]
  },
  {
   "cell_type": "code",
   "execution_count": 23,
   "metadata": {},
   "outputs": [
    {
     "data": {
      "text/plain": [
       "Text(0, 0.5, 'Residuals')"
      ]
     },
     "execution_count": 23,
     "metadata": {},
     "output_type": "execute_result"
    },
    {
     "data": {
      "image/png": "[encoded data removed]",
      "text/plain": [
       "<Figure size 432x288 with 1 Axes>"
      ]
     },
     "metadata": {
      "needs_background": "light"
     },
     "output_type": "display_data"
    }
   ],
   "source": [
    "plt.scatter(brand_data[\"X1\"]*brand_data[\"X2\"], ei)\n",
    "plt.xlabel(\"X1*X2\")\n",
    "plt.ylabel(\"Residuals\")"
   ]
  },
  {
   "cell_type": "code",
   "execution_count": 31,
   "metadata": {},
   "outputs": [
    {
     "data": {
      "text/plain": [
       "2.6932965217083233"
      ]
     },
     "execution_count": 31,
     "metadata": {},
     "output_type": "execute_result"
    }
   ],
   "source": [
    "df = brand_data\n",
    "rse = np.sqrt(np.sum(ei**2)/lm_brand.df_resid) #sqrt(MSE), see below\n",
    "rse"
   ]
  },
  {
   "cell_type": "code",
   "execution_count": 33,
   "metadata": {},
   "outputs": [
    {
     "data": {
      "text/plain": [
       "2.6932965217083233"
      ]
     },
     "execution_count": 33,
     "metadata": {},
     "output_type": "execute_result"
    }
   ],
   "source": [
    "np.sqrt(lm_brand.mse_resid)"
   ]
  },
  {
   "cell_type": "code",
   "execution_count": 49,
   "metadata": {},
   "outputs": [
    {
     "data": {
      "text/plain": [
       "<matplotlib.axes._subplots.AxesSubplot at 0x7fcba479bf50>"
      ]
     },
     "execution_count": 49,
     "metadata": {},
     "output_type": "execute_result"
    },
    {
     "data": {
      "image/png": "[encoded data removed]",
      "text/plain": [
       "<Figure size 432x288 with 1 Axes>"
      ]
     },
     "metadata": {
      "needs_background": "light"
     },
     "output_type": "display_data"
    }
   ],
   "source": [
    "# normal probability plot, manually\n",
    "ri = ei.rank()\n",
    "n = df.shape[0]\n",
    "zr = (ri-0.375)/(n+0.25)\n",
    "\n",
    "#residual standard error from summary(lm) above\n",
    "zr1 = rse*stats.norm.ppf(zr)\n",
    "\n",
    "plt.scatter(zr1, ei)\n",
    "sns.regplot(zr1, ei)"
   ]
  },
  {
   "cell_type": "code",
   "execution_count": 34,
   "metadata": {},
   "outputs": [
    {
     "data": {
      "image/png": "[encoded data removed]",
      "text/plain": [
       "<Figure size 432x288 with 1 Axes>"
      ]
     },
     "metadata": {
      "needs_background": "light"
     },
     "output_type": "display_data"
    }
   ],
   "source": [
    "stats.probplot(ei, dist=\"norm\", plot=pylab)\n",
    "pylab.show()"
   ]
  },
  {
   "cell_type": "markdown",
   "metadata": {},
   "source": [
    "*Interpretation:*\n",
    "\n",
    "*Residual Plots:* The residuals appear to be equally spread and have no distinct patterns. We can say that there is contant variance in the error term.\n",
    "\n",
    "*Normal Probability Plot:* The plot seems to be almost linear, which means that the error is in agreement with the normality. "
   ]
  },
  {
   "cell_type": "markdown",
   "metadata": {},
   "source": [
    "**(e)**\n",
    "\n",
    "Null Hypothesis: $H_{0}$: Error variance is constant\n",
    "Alternate Hypothesis: $H_{1}$: Error variance is not constant"
   ]
  },
  {
   "cell_type": "code",
   "execution_count": 51,
   "metadata": {},
   "outputs": [
    {
     "name": "stderr",
     "output_type": "stream",
     "text": [
      "/home/srk-apts/anaconda3/lib/python3.7/site-packages/scipy/stats/stats.py:1450: UserWarning: kurtosistest only valid for n>=20 ... continuing anyway, n=16\n",
      "  \"anyway, n=%i\" % int(n))\n"
     ]
    },
    {
     "data": {
      "text/html": [
       "<table class=\"simpletable\">\n",
       "<tr>\n",
       "        <td>Model:</td>               <td>OLS</td>         <td>Adj. R-squared:</td>    <td>-0.006</td> \n",
       "</tr>\n",
       "<tr>\n",
       "  <td>Dependent Variable:</td>        <td>ei2</td>              <td>AIC:</td>         <td>106.2964</td>\n",
       "</tr>\n",
       "<tr>\n",
       "         <td>Date:</td>        <td>2019-11-03 14:26</td>        <td>BIC:</td>         <td>108.6142</td>\n",
       "</tr>\n",
       "<tr>\n",
       "   <td>No. Observations:</td>         <td>16</td>          <td>Log-Likelihood:</td>    <td>-50.148</td>\n",
       "</tr>\n",
       "<tr>\n",
       "       <td>Df Model:</td>              <td>2</td>           <td>F-statistic:</td>      <td>0.9521</td> \n",
       "</tr>\n",
       "<tr>\n",
       "     <td>Df Residuals:</td>           <td>13</td>        <td>Prob (F-statistic):</td>   <td>0.411</td> \n",
       "</tr>\n",
       "<tr>\n",
       "      <td>R-squared:</td>            <td>0.128</td>            <td>Scale:</td>         <td>38.027</td> \n",
       "</tr>\n",
       "</table>\n",
       "<table class=\"simpletable\">\n",
       "<tr>\n",
       "      <td></td>       <th>Coef.</th>  <th>Std.Err.</th>    <th>t</th>     <th>P>|t|</th>  <th>[0.025</th>  <th>0.975]</th> \n",
       "</tr>\n",
       "<tr>\n",
       "  <th>Intercept</th> <td>1.1588</td>   <td>6.8599</td>  <td>0.1689</td>  <td>0.8685</td> <td>-13.6611</td> <td>15.9786</td>\n",
       "</tr>\n",
       "<tr>\n",
       "  <th>X1</th>        <td>0.9175</td>   <td>0.6894</td>  <td>1.3308</td>  <td>0.2061</td>  <td>-0.5720</td> <td>2.4070</td> \n",
       "</tr>\n",
       "<tr>\n",
       "  <th>X2</th>        <td>-0.5625</td>  <td>1.5416</td>  <td>-0.3649</td> <td>0.7211</td>  <td>-3.8930</td> <td>2.7680</td> \n",
       "</tr>\n",
       "</table>\n",
       "<table class=\"simpletable\">\n",
       "<tr>\n",
       "     <td>Omnibus:</td>    <td>2.511</td>  <td>Durbin-Watson:</td>   <td>1.859</td>\n",
       "</tr>\n",
       "<tr>\n",
       "  <td>Prob(Omnibus):</td> <td>0.285</td> <td>Jarque-Bera (JB):</td> <td>1.910</td>\n",
       "</tr>\n",
       "<tr>\n",
       "       <td>Skew:</td>     <td>0.798</td>     <td>Prob(JB):</td>     <td>0.385</td>\n",
       "</tr>\n",
       "<tr>\n",
       "     <td>Kurtosis:</td>   <td>2.437</td>  <td>Condition No.:</td>    <td>36</td>  \n",
       "</tr>\n",
       "</table>"
      ],
      "text/plain": [
       "<class 'statsmodels.iolib.summary2.Summary'>\n",
       "\"\"\"\n",
       "                 Results: Ordinary least squares\n",
       "=================================================================\n",
       "Model:              OLS              Adj. R-squared:     -0.006  \n",
       "Dependent Variable: ei2              AIC:                106.2964\n",
       "Date:               2019-11-03 14:26 BIC:                108.6142\n",
       "No. Observations:   16               Log-Likelihood:     -50.148 \n",
       "Df Model:           2                F-statistic:        0.9521  \n",
       "Df Residuals:       13               Prob (F-statistic): 0.411   \n",
       "R-squared:          0.128            Scale:              38.027  \n",
       "------------------------------------------------------------------\n",
       "              Coef.   Std.Err.     t     P>|t|    [0.025    0.975]\n",
       "------------------------------------------------------------------\n",
       "Intercept     1.1588    6.8599   0.1689  0.8685  -13.6611  15.9786\n",
       "X1            0.9175    0.6894   1.3308  0.2061   -0.5720   2.4070\n",
       "X2           -0.5625    1.5416  -0.3649  0.7211   -3.8930   2.7680\n",
       "-----------------------------------------------------------------\n",
       "Omnibus:              2.511        Durbin-Watson:           1.859\n",
       "Prob(Omnibus):        0.285        Jarque-Bera (JB):        1.910\n",
       "Skew:                 0.798        Prob(JB):                0.385\n",
       "Kurtosis:             2.437        Condition No.:           36   \n",
       "=================================================================\n",
       "\n",
       "\"\"\""
      ]
     },
     "execution_count": 51,
     "metadata": {},
     "output_type": "execute_result"
    }
   ],
   "source": [
    "ei2 = ei**2\n",
    "f = ols(\"ei2~X1+X2\", data=brand_data).fit()\n",
    "f.summary2()"
   ]
  },
  {
   "cell_type": "code",
   "execution_count": 52,
   "metadata": {},
   "outputs": [
    {
     "data": {
      "text/html": [
       "<div>\n",
       "<style scoped>\n",
       "    .dataframe tbody tr th:only-of-type {\n",
       "        vertical-align: middle;\n",
       "    }\n",
       "\n",
       "    .dataframe tbody tr th {\n",
       "        vertical-align: top;\n",
       "    }\n",
       "\n",
       "    .dataframe thead th {\n",
       "        text-align: right;\n",
       "    }\n",
       "</style>\n",
       "<table border=\"1\" class=\"dataframe\">\n",
       "  <thead>\n",
       "    <tr style=\"text-align: right;\">\n",
       "      <th></th>\n",
       "      <th>df</th>\n",
       "      <th>sum_sq</th>\n",
       "      <th>mean_sq</th>\n",
       "      <th>F</th>\n",
       "      <th>PR(&gt;F)</th>\n",
       "    </tr>\n",
       "  </thead>\n",
       "  <tbody>\n",
       "    <tr>\n",
       "      <th>X1</th>\n",
       "      <td>1.0</td>\n",
       "      <td>67.344500</td>\n",
       "      <td>67.34450</td>\n",
       "      <td>1.770979</td>\n",
       "      <td>0.206132</td>\n",
       "    </tr>\n",
       "    <tr>\n",
       "      <th>X2</th>\n",
       "      <td>1.0</td>\n",
       "      <td>5.062500</td>\n",
       "      <td>5.06250</td>\n",
       "      <td>0.133130</td>\n",
       "      <td>0.721076</td>\n",
       "    </tr>\n",
       "    <tr>\n",
       "      <th>Residual</th>\n",
       "      <td>13.0</td>\n",
       "      <td>494.347225</td>\n",
       "      <td>38.02671</td>\n",
       "      <td>NaN</td>\n",
       "      <td>NaN</td>\n",
       "    </tr>\n",
       "  </tbody>\n",
       "</table>\n",
       "</div>"
      ],
      "text/plain": [
       "            df      sum_sq   mean_sq         F    PR(>F)\n",
       "X1         1.0   67.344500  67.34450  1.770979  0.206132\n",
       "X2         1.0    5.062500   5.06250  0.133130  0.721076\n",
       "Residual  13.0  494.347225  38.02671       NaN       NaN"
      ]
     },
     "metadata": {},
     "output_type": "display_data"
    },
    {
     "data": {
      "text/html": [
       "<div>\n",
       "<style scoped>\n",
       "    .dataframe tbody tr th:only-of-type {\n",
       "        vertical-align: middle;\n",
       "    }\n",
       "\n",
       "    .dataframe tbody tr th {\n",
       "        vertical-align: top;\n",
       "    }\n",
       "\n",
       "    .dataframe thead th {\n",
       "        text-align: right;\n",
       "    }\n",
       "</style>\n",
       "<table border=\"1\" class=\"dataframe\">\n",
       "  <thead>\n",
       "    <tr style=\"text-align: right;\">\n",
       "      <th></th>\n",
       "      <th>df</th>\n",
       "      <th>sum_sq</th>\n",
       "      <th>mean_sq</th>\n",
       "      <th>F</th>\n",
       "      <th>PR(&gt;F)</th>\n",
       "    </tr>\n",
       "  </thead>\n",
       "  <tbody>\n",
       "    <tr>\n",
       "      <th>X1</th>\n",
       "      <td>1.0</td>\n",
       "      <td>1566.45</td>\n",
       "      <td>1566.450000</td>\n",
       "      <td>215.947508</td>\n",
       "      <td>1.778029e-09</td>\n",
       "    </tr>\n",
       "    <tr>\n",
       "      <th>X2</th>\n",
       "      <td>1.0</td>\n",
       "      <td>306.25</td>\n",
       "      <td>306.250000</td>\n",
       "      <td>42.218982</td>\n",
       "      <td>2.011047e-05</td>\n",
       "    </tr>\n",
       "    <tr>\n",
       "      <th>Residual</th>\n",
       "      <td>13.0</td>\n",
       "      <td>94.30</td>\n",
       "      <td>7.253846</td>\n",
       "      <td>NaN</td>\n",
       "      <td>NaN</td>\n",
       "    </tr>\n",
       "  </tbody>\n",
       "</table>\n",
       "</div>"
      ],
      "text/plain": [
       "            df   sum_sq      mean_sq           F        PR(>F)\n",
       "X1         1.0  1566.45  1566.450000  215.947508  1.778029e-09\n",
       "X2         1.0   306.25   306.250000   42.218982  2.011047e-05\n",
       "Residual  13.0    94.30     7.253846         NaN           NaN"
      ]
     },
     "metadata": {},
     "output_type": "display_data"
    }
   ],
   "source": [
    "#to find SSE(R) and SSR(R)\n",
    "display(anova_lm(f))\n",
    "\n",
    "#to find SSE(F) and SSR(F)\n",
    "display(anova_lm(lm_brand))"
   ]
  },
  {
   "cell_type": "code",
   "execution_count": 53,
   "metadata": {},
   "outputs": [
    {
     "name": "stdout",
     "output_type": "stream",
     "text": [
      "1.042137803922186\n",
      "3.841458820694124\n"
     ]
    }
   ],
   "source": [
    "SSR_R = 67.34+5.06\n",
    "SSE_R = 494.35 \n",
    "\n",
    "SSR_F = 1566.45+306.25\n",
    "SSE_F= 94.30\n",
    "\n",
    "n = brand_data.shape[0]\n",
    "\n",
    "#chi-squared: [SSR(R)/2] / [SSE(F)/n]^2  \n",
    "chiTest = (SSR_R/2) / ((SSE_F/n))**2\n",
    "print(chiTest)\n",
    "\n",
    "\n",
    "#p \n",
    "chi = stats.chi2.ppf(1-0.05,1)\n",
    "print(chi)\n"
   ]
  },
  {
   "cell_type": "markdown",
   "metadata": {},
   "source": [
    "*Decision Rule:*\n",
    "\n",
    "- If $chiTest \\leq \\chi^{2}(1-\\alpha,1)$, conclude $H_{0}$: constant error variance\n",
    "\n",
    "- If $chiTest > \\chi^{2}(1-\\alpha,1)$, conclude $H_{1}$: non-constant error variance \n",
    "\n",
    "\n",
    "*Result:*\n",
    "\n",
    "Since $1.042138 \\leq 3.841459$ i.e. $chiTest \\leq \\chi^{2}(1-\\alpha,1)$, we conclude $H_{0}$. The error variance is constant."
   ]
  },
  {
   "cell_type": "markdown",
   "metadata": {},
   "source": [
    "**Solution 3:**\n",
    "\n",
    "**(a)**\n",
    "\n",
    "*Hypothesis:*\n",
    "\n",
    "$H_0: \\beta_k = 0$ \n",
    "\n",
    "$H_a: \\beta_k \\neq 0$ \n"
   ]
  },
  {
   "cell_type": "code",
   "execution_count": 54,
   "metadata": {},
   "outputs": [
    {
     "data": {
      "text/html": [
       "<div>\n",
       "<style scoped>\n",
       "    .dataframe tbody tr th:only-of-type {\n",
       "        vertical-align: middle;\n",
       "    }\n",
       "\n",
       "    .dataframe tbody tr th {\n",
       "        vertical-align: top;\n",
       "    }\n",
       "\n",
       "    .dataframe thead th {\n",
       "        text-align: right;\n",
       "    }\n",
       "</style>\n",
       "<table border=\"1\" class=\"dataframe\">\n",
       "  <thead>\n",
       "    <tr style=\"text-align: right;\">\n",
       "      <th></th>\n",
       "      <th>df</th>\n",
       "      <th>sum_sq</th>\n",
       "      <th>mean_sq</th>\n",
       "      <th>F</th>\n",
       "      <th>PR(&gt;F)</th>\n",
       "    </tr>\n",
       "  </thead>\n",
       "  <tbody>\n",
       "    <tr>\n",
       "      <th>X1</th>\n",
       "      <td>1.0</td>\n",
       "      <td>1566.45</td>\n",
       "      <td>1566.450000</td>\n",
       "      <td>215.947508</td>\n",
       "      <td>1.778029e-09</td>\n",
       "    </tr>\n",
       "    <tr>\n",
       "      <th>X2</th>\n",
       "      <td>1.0</td>\n",
       "      <td>306.25</td>\n",
       "      <td>306.250000</td>\n",
       "      <td>42.218982</td>\n",
       "      <td>2.011047e-05</td>\n",
       "    </tr>\n",
       "    <tr>\n",
       "      <th>Residual</th>\n",
       "      <td>13.0</td>\n",
       "      <td>94.30</td>\n",
       "      <td>7.253846</td>\n",
       "      <td>NaN</td>\n",
       "      <td>NaN</td>\n",
       "    </tr>\n",
       "  </tbody>\n",
       "</table>\n",
       "</div>"
      ],
      "text/plain": [
       "            df   sum_sq      mean_sq           F        PR(>F)\n",
       "X1         1.0  1566.45  1566.450000  215.947508  1.778029e-09\n",
       "X2         1.0   306.25   306.250000   42.218982  2.011047e-05\n",
       "Residual  13.0    94.30     7.253846         NaN           NaN"
      ]
     },
     "execution_count": 54,
     "metadata": {},
     "output_type": "execute_result"
    }
   ],
   "source": [
    "df_brand = lm_brand.df_resid\n",
    "alpha = 0.01\n",
    "anova_lm(lm_brand)"
   ]
  },
  {
   "cell_type": "code",
   "execution_count": 55,
   "metadata": {},
   "outputs": [
    {
     "name": "stdout",
     "output_type": "stream",
     "text": [
      "215.94750795334022\n",
      "42.2189819724284\n"
     ]
    }
   ],
   "source": [
    "SSR_X1 = anova_lm(lm_brand)[\"sum_sq\"][\"X1\"]\n",
    "SSR_X2 = anova_lm(lm_brand)[\"sum_sq\"][\"X2\"]\n",
    "SSE = anova_lm(lm_brand)[\"sum_sq\"][\"Residual\"]\n",
    "MSR_X1 = SSR_X1/1\n",
    "MSR_X2 = SSR_X2/1\n",
    "MSE = SSE/df_brand\n",
    "\n",
    "F_star_X1 = MSR_X1/MSE\n",
    "print(F_star_X1)\n",
    "\n",
    "F_star_X2 = MSR_X2/MSE\n",
    "print(F_star_X2)"
   ]
  },
  {
   "cell_type": "code",
   "execution_count": 56,
   "metadata": {},
   "outputs": [
    {
     "data": {
      "text/plain": [
       "9.073805728515653"
      ]
     },
     "execution_count": 56,
     "metadata": {},
     "output_type": "execute_result"
    }
   ],
   "source": [
    "FTest = stats.f.ppf(1-alpha, 1, df_brand)\n",
    "FTest"
   ]
  },
  {
   "cell_type": "markdown",
   "metadata": {},
   "source": [
    "*Decision Rule:*\n",
    "\n",
    "If $F^* \\leq FTest$ , conclude $H_0$\n",
    "\n",
    "If $F^* > FTest$ , conclude $H_a$\n",
    "\n",
    "\n",
    "*Result:*\n",
    "\n",
    "Since $F^*_{X1} and F^*_{X2}$ are both $> FTest$, we conclude $H_a$ i.e. both the $\\beta_k$ are $neq$ 0. Thus, there exists a linear relation.\n"
   ]
  },
  {
   "cell_type": "markdown",
   "metadata": {},
   "source": [
    "**(b)**"
   ]
  },
  {
   "cell_type": "code",
   "execution_count": 57,
   "metadata": {},
   "outputs": [
    {
     "data": {
      "text/html": [
       "<div>\n",
       "<style scoped>\n",
       "    .dataframe tbody tr th:only-of-type {\n",
       "        vertical-align: middle;\n",
       "    }\n",
       "\n",
       "    .dataframe tbody tr th {\n",
       "        vertical-align: top;\n",
       "    }\n",
       "\n",
       "    .dataframe thead th {\n",
       "        text-align: right;\n",
       "    }\n",
       "</style>\n",
       "<table border=\"1\" class=\"dataframe\">\n",
       "  <thead>\n",
       "    <tr style=\"text-align: right;\">\n",
       "      <th></th>\n",
       "      <th>0</th>\n",
       "      <th>1</th>\n",
       "    </tr>\n",
       "  </thead>\n",
       "  <tbody>\n",
       "    <tr>\n",
       "      <th>Intercept</th>\n",
       "      <td>26.912447</td>\n",
       "      <td>48.387553</td>\n",
       "    </tr>\n",
       "    <tr>\n",
       "      <th>X1</th>\n",
       "      <td>3.345835</td>\n",
       "      <td>5.504165</td>\n",
       "    </tr>\n",
       "    <tr>\n",
       "      <th>X2</th>\n",
       "      <td>1.961914</td>\n",
       "      <td>6.788086</td>\n",
       "    </tr>\n",
       "  </tbody>\n",
       "</table>\n",
       "</div>"
      ],
      "text/plain": [
       "                   0          1\n",
       "Intercept  26.912447  48.387553\n",
       "X1          3.345835   5.504165\n",
       "X2          1.961914   6.788086"
      ]
     },
     "execution_count": 57,
     "metadata": {},
     "output_type": "execute_result"
    }
   ],
   "source": [
    "alpha = 0.01\n",
    "g = len(lm_brand.params)\n",
    "lm_brand.conf_int(alpha = alpha/g)"
   ]
  },
  {
   "cell_type": "markdown",
   "metadata": {},
   "source": [
    "*Interpretation:*\n",
    "\n",
    "Family confidence coefficient means that the obtained confidence intervals, for several $\\beta_k$, are simultaneously accurate with a confidence coefficient of $1-\\alpha = 99$%."
   ]
  },
  {
   "cell_type": "markdown",
   "metadata": {},
   "source": [
    "**(c)**"
   ]
  },
  {
   "cell_type": "code",
   "execution_count": 62,
   "metadata": {},
   "outputs": [
    {
     "data": {
      "text/html": [
       "<div>\n",
       "<style scoped>\n",
       "    .dataframe tbody tr th:only-of-type {\n",
       "        vertical-align: middle;\n",
       "    }\n",
       "\n",
       "    .dataframe tbody tr th {\n",
       "        vertical-align: top;\n",
       "    }\n",
       "\n",
       "    .dataframe thead th {\n",
       "        text-align: right;\n",
       "    }\n",
       "</style>\n",
       "<table border=\"1\" class=\"dataframe\">\n",
       "  <thead>\n",
       "    <tr style=\"text-align: right;\">\n",
       "      <th></th>\n",
       "      <th>X1</th>\n",
       "      <th>X2</th>\n",
       "    </tr>\n",
       "  </thead>\n",
       "  <tbody>\n",
       "    <tr>\n",
       "      <th>0</th>\n",
       "      <td>5</td>\n",
       "      <td>4</td>\n",
       "    </tr>\n",
       "  </tbody>\n",
       "</table>\n",
       "</div>"
      ],
      "text/plain": [
       "   X1  X2\n",
       "0   5   4"
      ]
     },
     "execution_count": 62,
     "metadata": {},
     "output_type": "execute_result"
    }
   ],
   "source": [
    "Xh = pd.DataFrame(np.array([5,4]).reshape(1,2), columns=[\"X1\", \"X2\"])\n",
    "Xh"
   ]
  },
  {
   "cell_type": "code",
   "execution_count": 66,
   "metadata": {},
   "outputs": [
    {
     "data": {
      "text/html": [
       "<div>\n",
       "<style scoped>\n",
       "    .dataframe tbody tr th:only-of-type {\n",
       "        vertical-align: middle;\n",
       "    }\n",
       "\n",
       "    .dataframe tbody tr th {\n",
       "        vertical-align: top;\n",
       "    }\n",
       "\n",
       "    .dataframe thead th {\n",
       "        text-align: right;\n",
       "    }\n",
       "</style>\n",
       "<table border=\"1\" class=\"dataframe\">\n",
       "  <thead>\n",
       "    <tr style=\"text-align: right;\">\n",
       "      <th></th>\n",
       "      <th>mean</th>\n",
       "      <th>mean_se</th>\n",
       "      <th>mean_ci_lower</th>\n",
       "      <th>mean_ci_upper</th>\n",
       "      <th>obs_ci_lower</th>\n",
       "      <th>obs_ci_upper</th>\n",
       "    </tr>\n",
       "  </thead>\n",
       "  <tbody>\n",
       "    <tr>\n",
       "      <th>0</th>\n",
       "      <td>77.275</td>\n",
       "      <td>1.126687</td>\n",
       "      <td>73.881109</td>\n",
       "      <td>80.668891</td>\n",
       "      <td>68.48077</td>\n",
       "      <td>86.06923</td>\n",
       "    </tr>\n",
       "  </tbody>\n",
       "</table>\n",
       "</div>"
      ],
      "text/plain": [
       "     mean   mean_se  mean_ci_lower  mean_ci_upper  obs_ci_lower  obs_ci_upper\n",
       "0  77.275  1.126687      73.881109      80.668891      68.48077      86.06923"
      ]
     },
     "execution_count": 66,
     "metadata": {},
     "output_type": "execute_result"
    }
   ],
   "source": [
    "pred = lm_brand.get_prediction(Xh)\n",
    "pred_df = pred.summary_frame(alpha=alpha) # shortcut for Bonferroni\n",
    "pred_df"
   ]
  },
  {
   "cell_type": "markdown",
   "metadata": {},
   "source": [
    "*Interpretation:*\n",
    "\n",
    "This means that the $E[Y_h]$ for the observations in $X_h$ are within the obtained interval with a confidence coeficient of $1-\\alpha = 99$%, where all observations in $X_h$ are seen by our model."
   ]
  },
  {
   "cell_type": "markdown",
   "metadata": {},
   "source": [
    "**(d)**\n",
    "\n",
    "`obs_ci_lower` and `obs_ci_upper` from above\n",
    "\n",
    "*Interpretation:*\n",
    "\n",
    "This means that the $E[Y_h]$ for the observations in $X_h$ are within the obtained interval with a confidence coeficient of $1-\\alpha = 99$ %, where all observations in $X_h$ are new."
   ]
  },
  {
   "cell_type": "markdown",
   "metadata": {},
   "source": [
    "**Solution 4:**\n",
    "\n",
    "**(a)**\n"
   ]
  },
  {
   "cell_type": "code",
   "execution_count": 67,
   "metadata": {},
   "outputs": [
    {
     "data": {
      "text/plain": [
       "<seaborn.axisgrid.PairGrid at 0x7fcb95d23650>"
      ]
     },
     "execution_count": 67,
     "metadata": {},
     "output_type": "execute_result"
    },
    {
     "data": {
      "image/png": "[encoded data removed]",
      "text/plain": [
       "<Figure size 900x900 with 30 Axes>"
      ]
     },
     "metadata": {
      "needs_background": "light"
     },
     "output_type": "display_data"
    }
   ],
   "source": [
    "properties_data = pd.read_csv(\"data/Commercial Properties.csv\")\n",
    "sns.pairplot(properties_data)"
   ]
  },
  {
   "cell_type": "code",
   "execution_count": 70,
   "metadata": {},
   "outputs": [
    {
     "data": {
      "text/html": [
       "<div>\n",
       "<style scoped>\n",
       "    .dataframe tbody tr th:only-of-type {\n",
       "        vertical-align: middle;\n",
       "    }\n",
       "\n",
       "    .dataframe tbody tr th {\n",
       "        vertical-align: top;\n",
       "    }\n",
       "\n",
       "    .dataframe thead th {\n",
       "        text-align: right;\n",
       "    }\n",
       "</style>\n",
       "<table border=\"1\" class=\"dataframe\">\n",
       "  <thead>\n",
       "    <tr style=\"text-align: right;\">\n",
       "      <th></th>\n",
       "      <th>Y</th>\n",
       "      <th>X1</th>\n",
       "      <th>X2</th>\n",
       "      <th>X3</th>\n",
       "      <th>X4</th>\n",
       "    </tr>\n",
       "  </thead>\n",
       "  <tbody>\n",
       "    <tr>\n",
       "      <th>Y</th>\n",
       "      <td>1.000000</td>\n",
       "      <td>-0.250285</td>\n",
       "      <td>0.413787</td>\n",
       "      <td>0.066526</td>\n",
       "      <td>0.535262</td>\n",
       "    </tr>\n",
       "    <tr>\n",
       "      <th>X1</th>\n",
       "      <td>-0.250285</td>\n",
       "      <td>1.000000</td>\n",
       "      <td>0.388826</td>\n",
       "      <td>-0.252663</td>\n",
       "      <td>0.288583</td>\n",
       "    </tr>\n",
       "    <tr>\n",
       "      <th>X2</th>\n",
       "      <td>0.413787</td>\n",
       "      <td>0.388826</td>\n",
       "      <td>1.000000</td>\n",
       "      <td>-0.379762</td>\n",
       "      <td>0.440697</td>\n",
       "    </tr>\n",
       "    <tr>\n",
       "      <th>X3</th>\n",
       "      <td>0.066526</td>\n",
       "      <td>-0.252663</td>\n",
       "      <td>-0.379762</td>\n",
       "      <td>1.000000</td>\n",
       "      <td>0.080611</td>\n",
       "    </tr>\n",
       "    <tr>\n",
       "      <th>X4</th>\n",
       "      <td>0.535262</td>\n",
       "      <td>0.288583</td>\n",
       "      <td>0.440697</td>\n",
       "      <td>0.080611</td>\n",
       "      <td>1.000000</td>\n",
       "    </tr>\n",
       "  </tbody>\n",
       "</table>\n",
       "</div>"
      ],
      "text/plain": [
       "           Y        X1        X2        X3        X4\n",
       "Y   1.000000 -0.250285  0.413787  0.066526  0.535262\n",
       "X1 -0.250285  1.000000  0.388826 -0.252663  0.288583\n",
       "X2  0.413787  0.388826  1.000000 -0.379762  0.440697\n",
       "X3  0.066526 -0.252663 -0.379762  1.000000  0.080611\n",
       "X4  0.535262  0.288583  0.440697  0.080611  1.000000"
      ]
     },
     "execution_count": 70,
     "metadata": {},
     "output_type": "execute_result"
    }
   ],
   "source": [
    "corr_mat = properties_data.corr()\n",
    "corr_mat"
   ]
  },
  {
   "cell_type": "code",
   "execution_count": 71,
   "metadata": {},
   "outputs": [
    {
     "data": {
      "text/plain": [
       "<matplotlib.axes._subplots.AxesSubplot at 0x7fcb946df990>"
      ]
     },
     "execution_count": 71,
     "metadata": {},
     "output_type": "execute_result"
    },
    {
     "data": {
      "image/png": "[encoded data removed]",
      "text/plain": [
       "<Figure size 432x288 with 2 Axes>"
      ]
     },
     "metadata": {
      "needs_background": "light"
     },
     "output_type": "display_data"
    }
   ],
   "source": [
    "sns.heatmap(corr_mat)"
   ]
  },
  {
   "cell_type": "markdown",
   "metadata": {},
   "source": [
    "*Interpretation:*\n",
    "\n",
    "- There seems to be no 1:1 correlation in the data between any of the variables. \n",
    "- The highest 1:1 correlation being between X4 and Y. \n",
    "- We can see some clusters of data points in the plots for X1 and X3, showing that they are not equally spread."
   ]
  },
  {
   "cell_type": "markdown",
   "metadata": {},
   "source": [
    "**(b)**"
   ]
  },
  {
   "cell_type": "code",
   "execution_count": 88,
   "metadata": {},
   "outputs": [
    {
     "data": {
      "text/html": [
       "<table class=\"simpletable\">\n",
       "<tr>\n",
       "        <td>Model:</td>               <td>OLS</td>         <td>Adj. R-squared:</td>     <td>0.563</td> \n",
       "</tr>\n",
       "<tr>\n",
       "  <td>Dependent Variable:</td>         <td>Y</td>               <td>AIC:</td>         <td>255.4904</td>\n",
       "</tr>\n",
       "<tr>\n",
       "         <td>Date:</td>        <td>2019-11-03 14:52</td>        <td>BIC:</td>         <td>267.4626</td>\n",
       "</tr>\n",
       "<tr>\n",
       "   <td>No. Observations:</td>         <td>81</td>          <td>Log-Likelihood:</td>    <td>-122.75</td>\n",
       "</tr>\n",
       "<tr>\n",
       "       <td>Df Model:</td>              <td>4</td>           <td>F-statistic:</td>       <td>26.76</td> \n",
       "</tr>\n",
       "<tr>\n",
       "     <td>Df Residuals:</td>           <td>76</td>        <td>Prob (F-statistic):</td> <td>7.27e-14</td>\n",
       "</tr>\n",
       "<tr>\n",
       "      <td>R-squared:</td>            <td>0.585</td>            <td>Scale:</td>         <td>1.2925</td> \n",
       "</tr>\n",
       "</table>\n",
       "<table class=\"simpletable\">\n",
       "<tr>\n",
       "      <td></td>       <th>Coef.</th>  <th>Std.Err.</th>    <th>t</th>     <th>P>|t|</th> <th>[0.025</th>  <th>0.975]</th> \n",
       "</tr>\n",
       "<tr>\n",
       "  <th>Intercept</th> <td>12.2006</td>  <td>0.5780</td>  <td>21.1099</td> <td>0.0000</td> <td>11.0495</td> <td>13.3517</td>\n",
       "</tr>\n",
       "<tr>\n",
       "  <th>X1</th>        <td>-0.1420</td>  <td>0.0213</td>  <td>-6.6549</td> <td>0.0000</td> <td>-0.1845</td> <td>-0.0995</td>\n",
       "</tr>\n",
       "<tr>\n",
       "  <th>X2</th>        <td>0.2820</td>   <td>0.0632</td>  <td>4.4642</td>  <td>0.0000</td> <td>0.1562</td>  <td>0.4078</td> \n",
       "</tr>\n",
       "<tr>\n",
       "  <th>X3</th>        <td>0.6193</td>   <td>1.0868</td>  <td>0.5699</td>  <td>0.5704</td> <td>-1.5452</td> <td>2.7839</td> \n",
       "</tr>\n",
       "<tr>\n",
       "  <th>X4</th>        <td>0.0000</td>   <td>0.0000</td>  <td>5.7224</td>  <td>0.0000</td> <td>0.0000</td>  <td>0.0000</td> \n",
       "</tr>\n",
       "</table>\n",
       "<table class=\"simpletable\">\n",
       "<tr>\n",
       "     <td>Omnibus:</td>    <td>1.922</td>  <td>Durbin-Watson:</td>    <td>1.580</td> \n",
       "</tr>\n",
       "<tr>\n",
       "  <td>Prob(Omnibus):</td> <td>0.383</td> <td>Jarque-Bera (JB):</td>  <td>1.301</td> \n",
       "</tr>\n",
       "<tr>\n",
       "       <td>Skew:</td>     <td>0.148</td>     <td>Prob(JB):</td>      <td>0.522</td> \n",
       "</tr>\n",
       "<tr>\n",
       "     <td>Kurtosis:</td>   <td>3.545</td>  <td>Condition No.:</td>   <td>1743921</td>\n",
       "</tr>\n",
       "</table>"
      ],
      "text/plain": [
       "<class 'statsmodels.iolib.summary2.Summary'>\n",
       "\"\"\"\n",
       "                 Results: Ordinary least squares\n",
       "=================================================================\n",
       "Model:              OLS              Adj. R-squared:     0.563   \n",
       "Dependent Variable: Y                AIC:                255.4904\n",
       "Date:               2019-11-03 14:52 BIC:                267.4626\n",
       "No. Observations:   81               Log-Likelihood:     -122.75 \n",
       "Df Model:           4                F-statistic:        26.76   \n",
       "Df Residuals:       76               Prob (F-statistic): 7.27e-14\n",
       "R-squared:          0.585            Scale:              1.2925  \n",
       "------------------------------------------------------------------\n",
       "               Coef.   Std.Err.     t     P>|t|    [0.025   0.975]\n",
       "------------------------------------------------------------------\n",
       "Intercept     12.2006    0.5780  21.1099  0.0000  11.0495  13.3517\n",
       "X1            -0.1420    0.0213  -6.6549  0.0000  -0.1845  -0.0995\n",
       "X2             0.2820    0.0632   4.4642  0.0000   0.1562   0.4078\n",
       "X3             0.6193    1.0868   0.5699  0.5704  -1.5452   2.7839\n",
       "X4             0.0000    0.0000   5.7224  0.0000   0.0000   0.0000\n",
       "-----------------------------------------------------------------\n",
       "Omnibus:              1.922       Durbin-Watson:          1.580  \n",
       "Prob(Omnibus):        0.383       Jarque-Bera (JB):       1.301  \n",
       "Skew:                 0.148       Prob(JB):               0.522  \n",
       "Kurtosis:             3.545       Condition No.:          1743921\n",
       "=================================================================\n",
       "* The condition number is large (2e+06). This might indicate\n",
       "strong multicollinearity or other numerical problems.\n",
       "\"\"\""
      ]
     },
     "execution_count": 88,
     "metadata": {},
     "output_type": "execute_result"
    }
   ],
   "source": [
    "# create formula to select all X variables (and exclude Y)\n",
    "all_columns = list(properties_data.columns)\n",
    "all_columns.remove(\"Y\")\n",
    "x_columns = \"+\".join(cols)\n",
    "my_formula = \"Y~\" + x_columns\n",
    "\n",
    "lm_prop = ols(my_formula, data=properties_data).fit()\n",
    "lm_prop.summary2()"
   ]
  },
  {
   "cell_type": "markdown",
   "metadata": {},
   "source": [
    "Regression Function: $Y = 12.2-0.142*X1+0.282*X2+0.6193*X3+7.924e-06*X4$\n"
   ]
  },
  {
   "cell_type": "markdown",
   "metadata": {},
   "source": [
    "**(c)**"
   ]
  },
  {
   "cell_type": "code",
   "execution_count": 95,
   "metadata": {},
   "outputs": [
    {
     "data": {
      "image/png": "[encoded data removed]",
      "text/plain": [
       "<Figure size 432x288 with 1 Axes>"
      ]
     },
     "execution_count": 95,
     "metadata": {},
     "output_type": "execute_result"
    },
    {
     "data": {
      "image/png": "[encoded data removed]",
      "text/plain": [
       "<Figure size 432x288 with 1 Axes>"
      ]
     },
     "metadata": {
      "needs_background": "light"
     },
     "output_type": "display_data"
    }
   ],
   "source": [
    "ei = lm_prop.resid\n",
    "gofplots.qqplot(ei)"
   ]
  },
  {
   "cell_type": "markdown",
   "metadata": {},
   "source": [
    "*Interpretation:* \n",
    "\n",
    "The QQ plot seems to be almost linear, which means that the error is in agreement with the normality. Distribution is fairly linear."
   ]
  },
  {
   "cell_type": "code",
   "execution_count": 96,
   "metadata": {},
   "outputs": [],
   "source": [
    "df = properties_data\n",
    "rse = np.sqrt(lm_prop.mse_resid)"
   ]
  },
  {
   "cell_type": "code",
   "execution_count": 97,
   "metadata": {},
   "outputs": [
    {
     "data": {
      "text/plain": [
       "<matplotlib.axes._subplots.AxesSubplot at 0x7fcb9ff06d50>"
      ]
     },
     "execution_count": 97,
     "metadata": {},
     "output_type": "execute_result"
    },
    {
     "data": {
      "image/png": "[encoded data removed]",
      "text/plain": [
       "<Figure size 432x288 with 1 Axes>"
      ]
     },
     "metadata": {
      "needs_background": "light"
     },
     "output_type": "display_data"
    }
   ],
   "source": [
    "# normal probability plot, manually\n",
    "ri = ei.rank()\n",
    "n = df.shape[0]\n",
    "zr = (ri-0.375)/(n+0.25)\n",
    "\n",
    "#residual standard error from summary(lm) above\n",
    "zr1 = rse*stats.norm.ppf(zr)\n",
    "\n",
    "plt.scatter(zr1, ei)\n",
    "sns.regplot(zr1, ei)"
   ]
  },
  {
   "cell_type": "markdown",
   "metadata": {},
   "source": [
    "*Interpretation:* \n",
    "\n",
    "The normal probability plot also seems to be almost linear, which means that the error is in agreement with the normality. "
   ]
  },
  {
   "cell_type": "code",
   "execution_count": 106,
   "metadata": {},
   "outputs": [
    {
     "data": {
      "text/plain": [
       "<matplotlib.collections.PathCollection at 0x7fcb7d3bc7d0>"
      ]
     },
     "execution_count": 106,
     "metadata": {},
     "output_type": "execute_result"
    },
    {
     "data": {
      "image/png": "[encoded data removed]",
      "text/plain": [
       "<Figure size 432x3240 with 11 Axes>"
      ]
     },
     "metadata": {
      "needs_background": "light"
     },
     "output_type": "display_data"
    }
   ],
   "source": [
    "fig, ax = plt.subplots(11,1, figsize=(6,45))\n",
    "\n",
    "ax[0].scatter(properties_data[\"Y\"], ei)\n",
    "ax[1].scatter(properties_data[\"X1\"], ei)\n",
    "ax[2].scatter(properties_data[\"X2\"], ei)\n",
    "ax[3].scatter(properties_data[\"X3\"], ei)\n",
    "ax[4].scatter(properties_data[\"X4\"], ei)\n",
    "ax[5].scatter(properties_data[\"X1\"]*properties_data[\"X2\"], ei)\n",
    "ax[6].scatter(properties_data[\"X1\"]*properties_data[\"X3\"], ei)\n",
    "ax[7].scatter(properties_data[\"X1\"]*properties_data[\"X4\"], ei)\n",
    "ax[8].scatter(properties_data[\"X2\"]*properties_data[\"X3\"], ei)\n",
    "ax[9].scatter(properties_data[\"X2\"]*properties_data[\"X3\"], ei)\n",
    "ax[10].scatter(properties_data[\"X3\"]*properties_data[\"X4\"], ei)"
   ]
  },
  {
   "cell_type": "markdown",
   "metadata": {},
   "source": [
    "*Interpretation:* \n",
    "- There is a linear pattern between residuals and Y, which could suggest that our linear model is not a good fit through out the data.\n",
    "- We can see some clusters of data points in the plots for X1 and X3 and their respective interactions.\n",
    "- For X2 and X4 and their interactions, the error variance is constant.\n"
   ]
  },
  {
   "cell_type": "markdown",
   "metadata": {},
   "source": [
    "**(e)**"
   ]
  },
  {
   "cell_type": "code",
   "execution_count": 115,
   "metadata": {},
   "outputs": [],
   "source": [
    "ei = pd.DataFrame(lm_prop.resid, columns=[\"ei\"])\n",
    "fitted_df = pd.DataFrame(lm_prop.fittedvalues, columns=[\"fitted_values\"])\n",
    "df = pd.concat((ei, fitted_df), axis=1)\n",
    "df = df.sort_values(by=\"fitted_values\")"
   ]
  },
  {
   "cell_type": "markdown",
   "metadata": {},
   "source": [
    "Null Hypothesis: $H_{0}$: Error variance is constant\n",
    "Alternate Hypothesis: $H_{1}$: Error variance is not constant"
   ]
  },
  {
   "cell_type": "code",
   "execution_count": 123,
   "metadata": {},
   "outputs": [
    {
     "name": "stdout",
     "output_type": "stream",
     "text": [
      "0.5393555160960213\n",
      "0.7344082761625316\n",
      "0.6009016468966987\n",
      "1.6578695221021444\n"
     ]
    }
   ],
   "source": [
    "df1 = df[0:40]\n",
    "df2 = df[41:df.shape[0]]\n",
    "\n",
    "med1 = np.median(df1[\"ei\"])\n",
    "med2 = np.median(df2[\"ei\"])\n",
    "\n",
    "n1 = df1.shape[0]\n",
    "n2 = df2.shape[0]\n",
    "\n",
    "d1 = np.abs(df1[\"ei\"]-med1)\n",
    "d2 = np.abs(df2[\"ei\"]-med2)\n",
    "\n",
    "mean_d1 = np.mean(d1)\n",
    "mean_d2 = np.mean(d2)\n",
    "\n",
    "s2 = (np.var(d1)*(n1-1)+np.var(d2)*(n2-1))/(n1+n2-2)\n",
    "print(s2)\n",
    "\n",
    "#calculate s\n",
    "s = np.sqrt(s2)\n",
    "print(s)\n",
    "\n",
    "#testStastic = (mean.d1 - mean.d2) / (s * sqrt((1/n1)+1/n2)\n",
    "testStastic = (mean_d1-mean_d2)/(s*np.sqrt((1/n1)+(1/n2)))  \n",
    "print(testStastic)\n",
    "\n",
    "t = stats.t.ppf(1-0.05, 118)\n",
    "print(t)"
   ]
  },
  {
   "cell_type": "markdown",
   "metadata": {},
   "source": [
    "*Decision Rule:*\n",
    "\n",
    "- If $|testStatistic| \\leq t(1-\\alpha/2,n-2)$, conclude $H_{0}$: constant error variance\n",
    "\n",
    "- If $|testStatistic| > t(1-\\alpha/2,n-2)$, conclude $H_{1}$: non-constant error variance \n",
    "\n",
    "\n",
    "*Result:*\n",
    "\n",
    "Since $|0.6| \\leq 1.65787$ i.e. $|testStatistic| \\leq t(1-\\alpha/2,n-2)$, we conclude $H_{0}$. The error variance is constant and thus does not vary with X."
   ]
  },
  {
   "cell_type": "markdown",
   "metadata": {},
   "source": [
    "**Solution 5:**\n",
    "\n",
    "**(a)**\n"
   ]
  },
  {
   "cell_type": "code",
   "execution_count": 134,
   "metadata": {},
   "outputs": [],
   "source": [
    "Xh_dict = {}\n",
    "Xh_dict['X1'] = [4.0,6.0,12.0]\n",
    "Xh_dict['X2'] = [10.0,11.5,12.5]\n",
    "Xh_dict['X3'] = [0.1,0,0.32]\n",
    "Xh_dict['X4'] = [80000,120000,340000]\n",
    "Xh = pd.DataFrame(Xh_dict)\n",
    "\n",
    "alpha = 0.05\n",
    "g = Xh.shape[0]"
   ]
  },
  {
   "cell_type": "code",
   "execution_count": 135,
   "metadata": {},
   "outputs": [
    {
     "data": {
      "text/html": [
       "<div>\n",
       "<style scoped>\n",
       "    .dataframe tbody tr th:only-of-type {\n",
       "        vertical-align: middle;\n",
       "    }\n",
       "\n",
       "    .dataframe tbody tr th {\n",
       "        vertical-align: top;\n",
       "    }\n",
       "\n",
       "    .dataframe thead th {\n",
       "        text-align: right;\n",
       "    }\n",
       "</style>\n",
       "<table border=\"1\" class=\"dataframe\">\n",
       "  <thead>\n",
       "    <tr style=\"text-align: right;\">\n",
       "      <th></th>\n",
       "      <th>X1</th>\n",
       "      <th>X2</th>\n",
       "      <th>X3</th>\n",
       "      <th>X4</th>\n",
       "    </tr>\n",
       "  </thead>\n",
       "  <tbody>\n",
       "    <tr>\n",
       "      <th>0</th>\n",
       "      <td>4.0</td>\n",
       "      <td>10.0</td>\n",
       "      <td>0.10</td>\n",
       "      <td>80000</td>\n",
       "    </tr>\n",
       "    <tr>\n",
       "      <th>1</th>\n",
       "      <td>6.0</td>\n",
       "      <td>11.5</td>\n",
       "      <td>0.00</td>\n",
       "      <td>120000</td>\n",
       "    </tr>\n",
       "    <tr>\n",
       "      <th>2</th>\n",
       "      <td>12.0</td>\n",
       "      <td>12.5</td>\n",
       "      <td>0.32</td>\n",
       "      <td>340000</td>\n",
       "    </tr>\n",
       "  </tbody>\n",
       "</table>\n",
       "</div>"
      ],
      "text/plain": [
       "     X1    X2    X3      X4\n",
       "0   4.0  10.0  0.10   80000\n",
       "1   6.0  11.5  0.00  120000\n",
       "2  12.0  12.5  0.32  340000"
      ]
     },
     "execution_count": 135,
     "metadata": {},
     "output_type": "execute_result"
    }
   ],
   "source": [
    "Xh"
   ]
  },
  {
   "cell_type": "code",
   "execution_count": 136,
   "metadata": {},
   "outputs": [
    {
     "data": {
      "text/html": [
       "<div>\n",
       "<style scoped>\n",
       "    .dataframe tbody tr th:only-of-type {\n",
       "        vertical-align: middle;\n",
       "    }\n",
       "\n",
       "    .dataframe tbody tr th {\n",
       "        vertical-align: top;\n",
       "    }\n",
       "\n",
       "    .dataframe thead th {\n",
       "        text-align: right;\n",
       "    }\n",
       "</style>\n",
       "<table border=\"1\" class=\"dataframe\">\n",
       "  <thead>\n",
       "    <tr style=\"text-align: right;\">\n",
       "      <th></th>\n",
       "      <th>mean</th>\n",
       "      <th>mean_se</th>\n",
       "      <th>mean_ci_lower</th>\n",
       "      <th>mean_ci_upper</th>\n",
       "      <th>obs_ci_lower</th>\n",
       "      <th>obs_ci_upper</th>\n",
       "    </tr>\n",
       "  </thead>\n",
       "  <tbody>\n",
       "    <tr>\n",
       "      <th>0</th>\n",
       "      <td>15.148495</td>\n",
       "      <td>0.190898</td>\n",
       "      <td>14.768288</td>\n",
       "      <td>15.528702</td>\n",
       "      <td>12.852493</td>\n",
       "      <td>17.444497</td>\n",
       "    </tr>\n",
       "    <tr>\n",
       "      <th>1</th>\n",
       "      <td>15.542490</td>\n",
       "      <td>0.195229</td>\n",
       "      <td>15.153659</td>\n",
       "      <td>15.931322</td>\n",
       "      <td>13.245044</td>\n",
       "      <td>17.839936</td>\n",
       "    </tr>\n",
       "    <tr>\n",
       "      <th>2</th>\n",
       "      <td>16.913841</td>\n",
       "      <td>0.366657</td>\n",
       "      <td>16.183581</td>\n",
       "      <td>17.644102</td>\n",
       "      <td>14.534693</td>\n",
       "      <td>19.292990</td>\n",
       "    </tr>\n",
       "  </tbody>\n",
       "</table>\n",
       "</div>"
      ],
      "text/plain": [
       "        mean   mean_se  mean_ci_lower  mean_ci_upper  obs_ci_lower  \\\n",
       "0  15.148495  0.190898      14.768288      15.528702     12.852493   \n",
       "1  15.542490  0.195229      15.153659      15.931322     13.245044   \n",
       "2  16.913841  0.366657      16.183581      17.644102     14.534693   \n",
       "\n",
       "   obs_ci_upper  \n",
       "0     17.444497  \n",
       "1     17.839936  \n",
       "2     19.292990  "
      ]
     },
     "execution_count": 136,
     "metadata": {},
     "output_type": "execute_result"
    }
   ],
   "source": [
    "pred = lm_prop.get_prediction(Xh)\n",
    "pred_df = pred.summary_frame(alpha=alpha) # shortcut for Bonferroni\n",
    "pred_df"
   ]
  },
  {
   "cell_type": "markdown",
   "metadata": {},
   "source": [
    "*Interpretation:*\n",
    "\n",
    "We see that the intervals are not too wide for the individual prediction intervals. We get an $R^2$ of 0.5847 which gives a somewhat of a good prediction.\n"
   ]
  },
  {
   "cell_type": "code",
   "execution_count": 137,
   "metadata": {},
   "outputs": [
    {
     "data": {
      "text/html": [
       "<div>\n",
       "<style scoped>\n",
       "    .dataframe tbody tr th:only-of-type {\n",
       "        vertical-align: middle;\n",
       "    }\n",
       "\n",
       "    .dataframe tbody tr th {\n",
       "        vertical-align: top;\n",
       "    }\n",
       "\n",
       "    .dataframe thead th {\n",
       "        text-align: right;\n",
       "    }\n",
       "</style>\n",
       "<table border=\"1\" class=\"dataframe\">\n",
       "  <thead>\n",
       "    <tr style=\"text-align: right;\">\n",
       "      <th></th>\n",
       "      <th>mean</th>\n",
       "      <th>mean_se</th>\n",
       "      <th>mean_ci_lower</th>\n",
       "      <th>mean_ci_upper</th>\n",
       "      <th>obs_ci_lower</th>\n",
       "      <th>obs_ci_upper</th>\n",
       "    </tr>\n",
       "  </thead>\n",
       "  <tbody>\n",
       "    <tr>\n",
       "      <th>0</th>\n",
       "      <td>15.148495</td>\n",
       "      <td>0.190898</td>\n",
       "      <td>14.681153</td>\n",
       "      <td>15.615838</td>\n",
       "      <td>12.326296</td>\n",
       "      <td>17.970694</td>\n",
       "    </tr>\n",
       "    <tr>\n",
       "      <th>1</th>\n",
       "      <td>15.542490</td>\n",
       "      <td>0.195229</td>\n",
       "      <td>15.064546</td>\n",
       "      <td>16.020434</td>\n",
       "      <td>12.718517</td>\n",
       "      <td>18.366464</td>\n",
       "    </tr>\n",
       "    <tr>\n",
       "      <th>2</th>\n",
       "      <td>16.913841</td>\n",
       "      <td>0.366657</td>\n",
       "      <td>16.016220</td>\n",
       "      <td>17.811463</td>\n",
       "      <td>13.989440</td>\n",
       "      <td>19.838242</td>\n",
       "    </tr>\n",
       "  </tbody>\n",
       "</table>\n",
       "</div>"
      ],
      "text/plain": [
       "        mean   mean_se  mean_ci_lower  mean_ci_upper  obs_ci_lower  \\\n",
       "0  15.148495  0.190898      14.681153      15.615838     12.326296   \n",
       "1  15.542490  0.195229      15.064546      16.020434     12.718517   \n",
       "2  16.913841  0.366657      16.016220      17.811463     13.989440   \n",
       "\n",
       "   obs_ci_upper  \n",
       "0     17.970694  \n",
       "1     18.366464  \n",
       "2     19.838242  "
      ]
     },
     "execution_count": 137,
     "metadata": {},
     "output_type": "execute_result"
    }
   ],
   "source": [
    "pred = lm_prop.get_prediction(Xh)\n",
    "pred_df = pred.summary_frame(alpha=alpha/g) # shortcut for Bonferroni\n",
    "pred_df"
   ]
  },
  {
   "cell_type": "markdown",
   "metadata": {},
   "source": [
    "*Bonferroni and Working-Hotelling Method:*"
   ]
  },
  {
   "cell_type": "code",
   "execution_count": 139,
   "metadata": {},
   "outputs": [
    {
     "name": "stdout",
     "output_type": "stream",
     "text": [
      "2.448123232394735\n",
      "2.3344994839476474\n"
     ]
    }
   ],
   "source": [
    "p = len(lm_prop.params)\n",
    "n = properties_data.shape[0]\n",
    "B = stats.t.ppf(1-alpha/(2*g), n-p)\n",
    "print(B)\n",
    "W = np.sqrt(2*stats.f.ppf(1-alpha,g,n-p))\n",
    "print(W)\n",
    "s = pred_df[\"mean_se\"]\n",
    "Yh = pred_df[\"mean\"]"
   ]
  },
  {
   "cell_type": "code",
   "execution_count": 142,
   "metadata": {},
   "outputs": [
    {
     "data": {
      "text/html": [
       "<div>\n",
       "<style scoped>\n",
       "    .dataframe tbody tr th:only-of-type {\n",
       "        vertical-align: middle;\n",
       "    }\n",
       "\n",
       "    .dataframe tbody tr th {\n",
       "        vertical-align: top;\n",
       "    }\n",
       "\n",
       "    .dataframe thead th {\n",
       "        text-align: right;\n",
       "    }\n",
       "</style>\n",
       "<table border=\"1\" class=\"dataframe\">\n",
       "  <thead>\n",
       "    <tr style=\"text-align: right;\">\n",
       "      <th></th>\n",
       "      <th>X1</th>\n",
       "      <th>X2</th>\n",
       "      <th>X3</th>\n",
       "      <th>X4</th>\n",
       "      <th>fit</th>\n",
       "      <th>lower_B</th>\n",
       "      <th>upper_B</th>\n",
       "      <th>lower_W</th>\n",
       "      <th>upper_W</th>\n",
       "    </tr>\n",
       "  </thead>\n",
       "  <tbody>\n",
       "    <tr>\n",
       "      <th>0</th>\n",
       "      <td>4.0</td>\n",
       "      <td>10.0</td>\n",
       "      <td>0.10</td>\n",
       "      <td>80000</td>\n",
       "      <td>15.148495</td>\n",
       "      <td>14.681153</td>\n",
       "      <td>15.615838</td>\n",
       "      <td>14.702843</td>\n",
       "      <td>15.594147</td>\n",
       "    </tr>\n",
       "    <tr>\n",
       "      <th>1</th>\n",
       "      <td>6.0</td>\n",
       "      <td>11.5</td>\n",
       "      <td>0.00</td>\n",
       "      <td>120000</td>\n",
       "      <td>15.542490</td>\n",
       "      <td>15.064546</td>\n",
       "      <td>16.020434</td>\n",
       "      <td>15.086729</td>\n",
       "      <td>15.998252</td>\n",
       "    </tr>\n",
       "    <tr>\n",
       "      <th>2</th>\n",
       "      <td>12.0</td>\n",
       "      <td>12.5</td>\n",
       "      <td>0.32</td>\n",
       "      <td>340000</td>\n",
       "      <td>16.913841</td>\n",
       "      <td>16.016220</td>\n",
       "      <td>17.811463</td>\n",
       "      <td>16.057881</td>\n",
       "      <td>17.769802</td>\n",
       "    </tr>\n",
       "  </tbody>\n",
       "</table>\n",
       "</div>"
      ],
      "text/plain": [
       "     X1    X2    X3      X4        fit    lower_B    upper_B    lower_W  \\\n",
       "0   4.0  10.0  0.10   80000  15.148495  14.681153  15.615838  14.702843   \n",
       "1   6.0  11.5  0.00  120000  15.542490  15.064546  16.020434  15.086729   \n",
       "2  12.0  12.5  0.32  340000  16.913841  16.016220  17.811463  16.057881   \n",
       "\n",
       "     upper_W  \n",
       "0  15.594147  \n",
       "1  15.998252  \n",
       "2  17.769802  "
      ]
     },
     "execution_count": 142,
     "metadata": {},
     "output_type": "execute_result"
    }
   ],
   "source": [
    "pred_dict = dict()\n",
    "\n",
    "pred_dict[\"X1\"] = np.array(Xh[\"X1\"])\n",
    "pred_dict[\"X2\"] = np.array(Xh[\"X2\"])\n",
    "pred_dict[\"X3\"] = np.array(Xh[\"X3\"])\n",
    "pred_dict[\"X4\"] = np.array(Xh[\"X4\"])\n",
    "pred_dict[\"fit\"] = np.array(pred_df[\"mean\"])\n",
    "pred_dict[\"lower_B\"] = np.array(Yh-B*s)\n",
    "pred_dict[\"upper_B\"] = np.array(Yh+B*s)\n",
    "pred_dict[\"lower_W\"] = np.array(Yh-W*s)\n",
    "pred_dict[\"upper_W\"] = np.array(Yh+W*s)\n",
    "\n",
    "pd.DataFrame(pred_dict)"
   ]
  },
  {
   "cell_type": "code",
   "execution_count": null,
   "metadata": {},
   "outputs": [],
   "source": []
  },
  {
   "cell_type": "code",
   "execution_count": null,
   "metadata": {},
   "outputs": [],
   "source": []
  },
  {
   "cell_type": "code",
   "execution_count": null,
   "metadata": {},
   "outputs": [],
   "source": []
  },
  {
   "cell_type": "code",
   "execution_count": null,
   "metadata": {},
   "outputs": [],
   "source": []
  }
 ],
 "metadata": {
  "kernelspec": {
   "display_name": "Python 3",
   "language": "python",
   "name": "python3"
  },
  "language_info": {
   "codemirror_mode": {
    "name": "ipython",
    "version": 3
   },
   "file_extension": ".py",
   "mimetype": "text/x-python",
   "name": "python",
   "nbconvert_exporter": "python",
   "pygments_lexer": "ipython3",
   "version": "3.7.3"
  }
 },
 "nbformat": 4,
 "nbformat_minor": 2
}
