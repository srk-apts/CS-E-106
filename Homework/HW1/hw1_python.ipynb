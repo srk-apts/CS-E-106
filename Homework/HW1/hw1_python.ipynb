{
 "cells": [
  {
   "cell_type": "markdown",
   "metadata": {},
   "source": [
    "# CS-E-106: Data Modeling\n",
    "## Fall 2019: HW 01"
   ]
  },
  {
   "cell_type": "code",
   "execution_count": 39,
   "metadata": {},
   "outputs": [],
   "source": [
    "import numpy as np\n",
    "import pandas as pd\n",
    "from matplotlib import pyplot as plt\n",
    "import statsmodels.api as sm\n",
    "import seaborn as sns"
   ]
  },
  {
   "cell_type": "markdown",
   "metadata": {},
   "source": [
    "**Solution 1 & 2:** 1 is just a hand derivation. 2's dataset is within R's library and it only requires basic summary statistics and scatterplots (`sns.pairplot()`)."
   ]
  },
  {
   "cell_type": "markdown",
   "metadata": {},
   "source": [
    "**Solution 3:**"
   ]
  },
  {
   "cell_type": "code",
   "execution_count": 40,
   "metadata": {},
   "outputs": [],
   "source": [
    "def reg_loop(df, x_cols, y_col):\n",
    "    lm_regs = dict()\n",
    "    for i in range(len(x_cols)):\n",
    "        x_str = x_cols[i]\n",
    "        X = sm.add_constant(df[x_cols[i]])\n",
    "        lm_regs[i] = sm.OLS(df[y_col], X).fit()\n",
    "        print(\"\\n Linear Regression Summary:%s\" %x_cols[i])\n",
    "        print(lm_regs[i].summary())\n",
    "    return(lm_regs)"
   ]
  },
  {
   "cell_type": "code",
   "execution_count": 41,
   "metadata": {},
   "outputs": [
    {
     "name": "stdout",
     "output_type": "stream",
     "text": [
      "\n",
      " Linear Regression Summary:Total population\n",
      "                                 OLS Regression Results                                \n",
      "=======================================================================================\n",
      "Dep. Variable:     Number of active physicians   R-squared:                       0.884\n",
      "Model:                                     OLS   Adj. R-squared:                  0.884\n",
      "Method:                          Least Squares   F-statistic:                     3340.\n",
      "Date:                         Mon, 23 Sep 2019   Prob (F-statistic):          4.66e-207\n",
      "Time:                                 00:35:02   Log-Likelihood:                -3445.3\n",
      "No. Observations:                          440   AIC:                             6895.\n",
      "Df Residuals:                              438   BIC:                             6903.\n",
      "Df Model:                                    1                                         \n",
      "Covariance Type:                     nonrobust                                         \n",
      "====================================================================================\n",
      "                       coef    std err          t      P>|t|      [0.025      0.975]\n",
      "------------------------------------------------------------------------------------\n",
      "const             -110.6348     34.746     -3.184      0.002    -178.924     -42.345\n",
      "Total population     0.0028   4.84e-05     57.793      0.000       0.003       0.003\n",
      "==============================================================================\n",
      "Omnibus:                      265.471   Durbin-Watson:                   1.986\n",
      "Prob(Omnibus):                  0.000   Jarque-Bera (JB):             2775.183\n",
      "Skew:                           2.437   Prob(JB):                         0.00\n",
      "Kurtosis:                      14.297   Cond. No.                     8.58e+05\n",
      "==============================================================================\n",
      "\n",
      "Warnings:\n",
      "[1] Standard Errors assume that the covariance matrix of the errors is correctly specified.\n",
      "[2] The condition number is large, 8.58e+05. This might indicate that there are\n",
      "strong multicollinearity or other numerical problems.\n",
      "\n",
      " Linear Regression Summary:Number of hospital beds\n",
      "                                 OLS Regression Results                                \n",
      "=======================================================================================\n",
      "Dep. Variable:     Number of active physicians   R-squared:                       0.903\n",
      "Model:                                     OLS   Adj. R-squared:                  0.903\n",
      "Method:                          Least Squares   F-statistic:                     4095.\n",
      "Date:                         Mon, 23 Sep 2019   Prob (F-statistic):          2.14e-224\n",
      "Time:                                 00:35:02   Log-Likelihood:                -3405.2\n",
      "No. Observations:                          440   AIC:                             6814.\n",
      "Df Residuals:                              438   BIC:                             6823.\n",
      "Df Model:                                    1                                         \n",
      "Covariance Type:                     nonrobust                                         \n",
      "===========================================================================================\n",
      "                              coef    std err          t      P>|t|      [0.025      0.975]\n",
      "-------------------------------------------------------------------------------------------\n",
      "const                     -95.9322     31.494     -3.046      0.002    -157.830     -34.034\n",
      "Number of hospital beds     0.7431      0.012     63.995      0.000       0.720       0.766\n",
      "==============================================================================\n",
      "Omnibus:                      193.985   Durbin-Watson:                   2.028\n",
      "Prob(Omnibus):                  0.000   Jarque-Bera (JB):             2549.058\n",
      "Skew:                           1.524   Prob(JB):                         0.00\n",
      "Kurtosis:                      14.391   Cond. No.                     3.22e+03\n",
      "==============================================================================\n",
      "\n",
      "Warnings:\n",
      "[1] Standard Errors assume that the covariance matrix of the errors is correctly specified.\n",
      "[2] The condition number is large, 3.22e+03. This might indicate that there are\n",
      "strong multicollinearity or other numerical problems.\n",
      "\n",
      " Linear Regression Summary:Total personal income\n",
      "                                 OLS Regression Results                                \n",
      "=======================================================================================\n",
      "Dep. Variable:     Number of active physicians   R-squared:                       0.899\n",
      "Model:                                     OLS   Adj. R-squared:                  0.899\n",
      "Method:                          Least Squares   F-statistic:                     3895.\n",
      "Date:                         Mon, 23 Sep 2019   Prob (F-statistic):          4.28e-220\n",
      "Time:                                 00:35:02   Log-Likelihood:                -3415.2\n",
      "No. Observations:                          440   AIC:                             6834.\n",
      "Df Residuals:                              438   BIC:                             6843.\n",
      "Df Model:                                    1                                         \n",
      "Covariance Type:                     nonrobust                                         \n",
      "=========================================================================================\n",
      "                            coef    std err          t      P>|t|      [0.025      0.975]\n",
      "-----------------------------------------------------------------------------------------\n",
      "const                   -48.3948     31.833     -1.520      0.129    -110.960      14.170\n",
      "Total personal income     0.1317      0.002     62.409      0.000       0.128       0.136\n",
      "==============================================================================\n",
      "Omnibus:                      285.860   Durbin-Watson:                   2.139\n",
      "Prob(Omnibus):                  0.000   Jarque-Bera (JB):             4009.832\n",
      "Skew:                           2.571   Prob(JB):                         0.00\n",
      "Kurtosis:                      16.866   Cond. No.                     1.77e+04\n",
      "==============================================================================\n",
      "\n",
      "Warnings:\n",
      "[1] Standard Errors assume that the covariance matrix of the errors is correctly specified.\n",
      "[2] The condition number is large, 1.77e+04. This might indicate that there are\n",
      "strong multicollinearity or other numerical problems.\n"
     ]
    }
   ],
   "source": [
    "cdi = pd.read_csv(\"data/cdi.csv\")\n",
    "x_cols = [\"Total population\", \"Number of hospital beds\", \"Total personal income\"]\n",
    "y_col = [\"Number of active physicians\"]\n",
    "lm_fits = reg_loop(df=cdi, x_cols=x_cols, y_col=y_col)"
   ]
  },
  {
   "cell_type": "code",
   "execution_count": 42,
   "metadata": {},
   "outputs": [
    {
     "data": {
      "text/plain": [
       "<matplotlib.axes._subplots.AxesSubplot at 0x7f4152aa4490>"
      ]
     },
     "execution_count": 42,
     "metadata": {},
     "output_type": "execute_result"
    },
    {
     "data": {
      "image/png": "[encoded data removed]",
      "text/plain": [
       "<Figure size 432x288 with 1 Axes>"
      ]
     },
     "metadata": {
      "needs_background": "light"
     },
     "output_type": "display_data"
    }
   ],
   "source": [
    "plt.scatter(cdi[\"Total population\"], cdi[\"Number of active physicians\"])\n",
    "sns.regplot(cdi[\"Total population\"], cdi[\"Number of active physicians\"], data=cdi)"
   ]
  },
  {
   "cell_type": "code",
   "execution_count": 43,
   "metadata": {},
   "outputs": [],
   "source": [
    "def plot_reg_func(fits, df, x_cols):\n",
    "    for i in range(len(x_cols)):\n",
    "        plt.scatter(df[x_cols[i]], df[\"Number of active physicians\"])\n",
    "        sns.regplot(df[x_cols[i]], df[\"Number of active physicians\"], data=df)"
   ]
  },
  {
   "cell_type": "code",
   "execution_count": 44,
   "metadata": {},
   "outputs": [
    {
     "data": {
      "image/png": "[encoded data removed]",
      "text/plain": [
       "<Figure size 432x288 with 1 Axes>"
      ]
     },
     "metadata": {
      "needs_background": "light"
     },
     "output_type": "display_data"
    }
   ],
   "source": [
    "plot_reg_func(fits=lm_fits, df=cdi, x_cols=x_cols)"
   ]
  },
  {
   "cell_type": "code",
   "execution_count": 45,
   "metadata": {},
   "outputs": [],
   "source": [
    "def mse_loop(fits, df, x_cols):\n",
    "    for i in range(len(x_cols)):\n",
    "        X = sm.add_constant(df[x_cols[i]])\n",
    "        yHat = fits[i].predict(X)\n",
    "        resids = (df[\"Number of active physicians\"]-yHat)\n",
    "        SSE = (np.sum(np.square(resids)))\n",
    "        df_resids = (df.shape[0]-2)\n",
    "        MSE = (SSE/df_resids)\n",
    "        print(\"MSE for %s: \"%x_cols[i])\n",
    "        print(MSE)"
   ]
  },
  {
   "cell_type": "code",
   "execution_count": 46,
   "metadata": {},
   "outputs": [
    {
     "name": "stdout",
     "output_type": "stream",
     "text": [
      "MSE for Total population: \n",
      "372203.5049168834\n",
      "MSE for Number of hospital beds: \n",
      "310191.8835402966\n",
      "MSE for Total personal income: \n",
      "324539.39367646945\n"
     ]
    }
   ],
   "source": [
    "mse_loop(fits=lm_fits, df=cdi, x_cols=x_cols)"
   ]
  },
  {
   "cell_type": "markdown",
   "metadata": {},
   "source": [
    "**Solution 4** is very similar to 3 and **Solution 5** is also SLR example."
   ]
  },
  {
   "cell_type": "code",
   "execution_count": null,
   "metadata": {},
   "outputs": [],
   "source": [
    "lm_fits[1].rsquared"
   ]
  },
  {
   "cell_type": "code",
   "execution_count": null,
   "metadata": {},
   "outputs": [],
   "source": []
  }
 ],
 "metadata": {
  "kernelspec": {
   "display_name": "Python 3",
   "language": "python",
   "name": "python3"
  },
  "language_info": {
   "codemirror_mode": {
    "name": "ipython",
    "version": 3
   },
   "file_extension": ".py",
   "mimetype": "text/x-python",
   "name": "python",
   "nbconvert_exporter": "python",
   "pygments_lexer": "ipython3",
   "version": "3.7.4"
  }
 },
 "nbformat": 4,
 "nbformat_minor": 2
}
