{
 "cells": [
  {
   "cell_type": "markdown",
   "metadata": {},
   "source": [
    "# CS-E-106: Data Modeling\n",
    "## Fall 2019: HW 06"
   ]
  },
  {
   "cell_type": "code",
   "execution_count": 25,
   "metadata": {},
   "outputs": [],
   "source": [
    "import numpy as np\n",
    "import pandas as pd\n",
    "from scipy import stats\n",
    "import statsmodels.api as sm\n",
    "from statsmodels.formula.api import ols\n",
    "from statsmodels.stats.anova import anova_lm\n",
    "import seaborn as sns\n",
    "import matplotlib.pyplot as plt\n",
    "from statsmodels.graphics import gofplots\n",
    "import pylab\n"
   ]
  },
  {
   "cell_type": "markdown",
   "metadata": {},
   "source": [
    "**Question 1:**\n",
    "\n",
    "An analyst wanted to fit the regression model $Y_i = \\beta_0 +\\beta_1*X_{i1}+\\beta_2*X_{i2}+\\beta_1*X_{i3}+\\epsilon_i$,\n",
    "i = 1, ... , n, by the method of least squares when it is known that $\\beta_2=4$. How can the analyst obtain the desired fit by using a multiple regression computer program?\n",
    "\n",
    "**Solution 1:**\n",
    "\n",
    "*Step 1:* Create a new variable $Y^* = Y_i-\\beta_2*X_{i2} = Y_i-4*X_{i2}$\n",
    "\n",
    "*Step 2:* Using $Y^*$ as the new response variable, run the regression model: \n",
    "$Y^* = \\beta_0 +\\beta_1*X_{i1}+\\beta_1*X_{i3}+\\epsilon_i$ using least squares (Using R functions: lm(YStar~X1+X3, data)).\n",
    "\n",
    "*Step 3:* Use the obtained coefficients as $\\beta_1$ and $\\beta_3$, assuming $\\beta_2=4$\n"
   ]
  },
  {
   "cell_type": "markdown",
   "metadata": {},
   "source": [
    "**Solution 2:**\n",
    "\n",
    " Refer to the Commercial Properties data and problem in Assignment 5. (25 pts)"
   ]
  },
  {
   "cell_type": "markdown",
   "metadata": {},
   "source": [
    "**(a)** \n",
    "\n",
    "Obtain the analysis of variance table that decomposes the regression sum of squares into extra sums of squares associated with X4; with X1 given X4; with X2 , given X1 and X4; and with X3 , given X1, X2 and X4. (10pts)"
   ]
  },
  {
   "cell_type": "code",
   "execution_count": 2,
   "metadata": {
    "scrolled": true
   },
   "outputs": [
    {
     "data": {
      "text/html": [
       "<table class=\"simpletable\">\n",
       "<tr>\n",
       "        <td>Model:</td>               <td>OLS</td>         <td>Adj. R-squared:</td>     <td>0.563</td> \n",
       "</tr>\n",
       "<tr>\n",
       "  <td>Dependent Variable:</td>         <td>Y</td>               <td>AIC:</td>         <td>255.4904</td>\n",
       "</tr>\n",
       "<tr>\n",
       "         <td>Date:</td>        <td>2019-11-11 18:00</td>        <td>BIC:</td>         <td>267.4626</td>\n",
       "</tr>\n",
       "<tr>\n",
       "   <td>No. Observations:</td>         <td>81</td>          <td>Log-Likelihood:</td>    <td>-122.75</td>\n",
       "</tr>\n",
       "<tr>\n",
       "       <td>Df Model:</td>              <td>4</td>           <td>F-statistic:</td>       <td>26.76</td> \n",
       "</tr>\n",
       "<tr>\n",
       "     <td>Df Residuals:</td>           <td>76</td>        <td>Prob (F-statistic):</td> <td>7.27e-14</td>\n",
       "</tr>\n",
       "<tr>\n",
       "      <td>R-squared:</td>            <td>0.585</td>            <td>Scale:</td>         <td>1.2925</td> \n",
       "</tr>\n",
       "</table>\n",
       "<table class=\"simpletable\">\n",
       "<tr>\n",
       "      <td></td>       <th>Coef.</th>  <th>Std.Err.</th>    <th>t</th>     <th>P>|t|</th> <th>[0.025</th>  <th>0.975]</th> \n",
       "</tr>\n",
       "<tr>\n",
       "  <th>Intercept</th> <td>12.2006</td>  <td>0.5780</td>  <td>21.1099</td> <td>0.0000</td> <td>11.0495</td> <td>13.3517</td>\n",
       "</tr>\n",
       "<tr>\n",
       "  <th>X4</th>        <td>0.0000</td>   <td>0.0000</td>  <td>5.7224</td>  <td>0.0000</td> <td>0.0000</td>  <td>0.0000</td> \n",
       "</tr>\n",
       "<tr>\n",
       "  <th>X1</th>        <td>-0.1420</td>  <td>0.0213</td>  <td>-6.6549</td> <td>0.0000</td> <td>-0.1845</td> <td>-0.0995</td>\n",
       "</tr>\n",
       "<tr>\n",
       "  <th>X2</th>        <td>0.2820</td>   <td>0.0632</td>  <td>4.4642</td>  <td>0.0000</td> <td>0.1562</td>  <td>0.4078</td> \n",
       "</tr>\n",
       "<tr>\n",
       "  <th>X3</th>        <td>0.6193</td>   <td>1.0868</td>  <td>0.5699</td>  <td>0.5704</td> <td>-1.5452</td> <td>2.7839</td> \n",
       "</tr>\n",
       "</table>\n",
       "<table class=\"simpletable\">\n",
       "<tr>\n",
       "     <td>Omnibus:</td>    <td>1.922</td>  <td>Durbin-Watson:</td>    <td>1.580</td> \n",
       "</tr>\n",
       "<tr>\n",
       "  <td>Prob(Omnibus):</td> <td>0.383</td> <td>Jarque-Bera (JB):</td>  <td>1.301</td> \n",
       "</tr>\n",
       "<tr>\n",
       "       <td>Skew:</td>     <td>0.148</td>     <td>Prob(JB):</td>      <td>0.522</td> \n",
       "</tr>\n",
       "<tr>\n",
       "     <td>Kurtosis:</td>   <td>3.545</td>  <td>Condition No.:</td>   <td>1743921</td>\n",
       "</tr>\n",
       "</table>"
      ],
      "text/plain": [
       "<class 'statsmodels.iolib.summary2.Summary'>\n",
       "\"\"\"\n",
       "                 Results: Ordinary least squares\n",
       "=================================================================\n",
       "Model:              OLS              Adj. R-squared:     0.563   \n",
       "Dependent Variable: Y                AIC:                255.4904\n",
       "Date:               2019-11-11 18:00 BIC:                267.4626\n",
       "No. Observations:   81               Log-Likelihood:     -122.75 \n",
       "Df Model:           4                F-statistic:        26.76   \n",
       "Df Residuals:       76               Prob (F-statistic): 7.27e-14\n",
       "R-squared:          0.585            Scale:              1.2925  \n",
       "------------------------------------------------------------------\n",
       "               Coef.   Std.Err.     t     P>|t|    [0.025   0.975]\n",
       "------------------------------------------------------------------\n",
       "Intercept     12.2006    0.5780  21.1099  0.0000  11.0495  13.3517\n",
       "X4             0.0000    0.0000   5.7224  0.0000   0.0000   0.0000\n",
       "X1            -0.1420    0.0213  -6.6549  0.0000  -0.1845  -0.0995\n",
       "X2             0.2820    0.0632   4.4642  0.0000   0.1562   0.4078\n",
       "X3             0.6193    1.0868   0.5699  0.5704  -1.5452   2.7839\n",
       "-----------------------------------------------------------------\n",
       "Omnibus:              1.922       Durbin-Watson:          1.580  \n",
       "Prob(Omnibus):        0.383       Jarque-Bera (JB):       1.301  \n",
       "Skew:                 0.148       Prob(JB):               0.522  \n",
       "Kurtosis:             3.545       Condition No.:          1743921\n",
       "=================================================================\n",
       "* The condition number is large (2e+06). This might indicate\n",
       "strong multicollinearity or other numerical problems.\n",
       "\"\"\""
      ]
     },
     "execution_count": 2,
     "metadata": {},
     "output_type": "execute_result"
    }
   ],
   "source": [
    "properties_data = pd.read_csv(\"data/Commercial Properties.csv\")\n",
    "lm_prop = ols(\"Y~X4+X1+X2+X3\", data=properties_data).fit()\n",
    "lm_prop.summary2()"
   ]
  },
  {
   "cell_type": "code",
   "execution_count": 3,
   "metadata": {},
   "outputs": [
    {
     "data": {
      "text/html": [
       "<div>\n",
       "<style scoped>\n",
       "    .dataframe tbody tr th:only-of-type {\n",
       "        vertical-align: middle;\n",
       "    }\n",
       "\n",
       "    .dataframe tbody tr th {\n",
       "        vertical-align: top;\n",
       "    }\n",
       "\n",
       "    .dataframe thead th {\n",
       "        text-align: right;\n",
       "    }\n",
       "</style>\n",
       "<table border=\"1\" class=\"dataframe\">\n",
       "  <thead>\n",
       "    <tr style=\"text-align: right;\">\n",
       "      <th></th>\n",
       "      <th>df</th>\n",
       "      <th>sum_sq</th>\n",
       "      <th>mean_sq</th>\n",
       "      <th>F</th>\n",
       "      <th>PR(&gt;F)</th>\n",
       "    </tr>\n",
       "  </thead>\n",
       "  <tbody>\n",
       "    <tr>\n",
       "      <th>X4</th>\n",
       "      <td>1.0</td>\n",
       "      <td>67.775098</td>\n",
       "      <td>67.775098</td>\n",
       "      <td>52.436896</td>\n",
       "      <td>3.073270e-10</td>\n",
       "    </tr>\n",
       "    <tr>\n",
       "      <th>X1</th>\n",
       "      <td>1.0</td>\n",
       "      <td>42.274568</td>\n",
       "      <td>42.274568</td>\n",
       "      <td>32.707399</td>\n",
       "      <td>2.003870e-07</td>\n",
       "    </tr>\n",
       "    <tr>\n",
       "      <th>X2</th>\n",
       "      <td>1.0</td>\n",
       "      <td>27.857493</td>\n",
       "      <td>27.857493</td>\n",
       "      <td>21.553056</td>\n",
       "      <td>1.412208e-05</td>\n",
       "    </tr>\n",
       "    <tr>\n",
       "      <th>X3</th>\n",
       "      <td>1.0</td>\n",
       "      <td>0.419746</td>\n",
       "      <td>0.419746</td>\n",
       "      <td>0.324753</td>\n",
       "      <td>5.704457e-01</td>\n",
       "    </tr>\n",
       "    <tr>\n",
       "      <th>Residual</th>\n",
       "      <td>76.0</td>\n",
       "      <td>98.230594</td>\n",
       "      <td>1.292508</td>\n",
       "      <td>NaN</td>\n",
       "      <td>NaN</td>\n",
       "    </tr>\n",
       "  </tbody>\n",
       "</table>\n",
       "</div>"
      ],
      "text/plain": [
       "            df     sum_sq    mean_sq          F        PR(>F)\n",
       "X4         1.0  67.775098  67.775098  52.436896  3.073270e-10\n",
       "X1         1.0  42.274568  42.274568  32.707399  2.003870e-07\n",
       "X2         1.0  27.857493  27.857493  21.553056  1.412208e-05\n",
       "X3         1.0   0.419746   0.419746   0.324753  5.704457e-01\n",
       "Residual  76.0  98.230594   1.292508        NaN           NaN"
      ]
     },
     "execution_count": 3,
     "metadata": {},
     "output_type": "execute_result"
    }
   ],
   "source": [
    "anova_F = anova_lm(lm_prop)\n",
    "anova_F"
   ]
  },
  {
   "cell_type": "code",
   "execution_count": 4,
   "metadata": {},
   "outputs": [
    {
     "data": {
      "text/html": [
       "<div>\n",
       "<style scoped>\n",
       "    .dataframe tbody tr th:only-of-type {\n",
       "        vertical-align: middle;\n",
       "    }\n",
       "\n",
       "    .dataframe tbody tr th {\n",
       "        vertical-align: top;\n",
       "    }\n",
       "\n",
       "    .dataframe thead th {\n",
       "        text-align: right;\n",
       "    }\n",
       "</style>\n",
       "<table border=\"1\" class=\"dataframe\">\n",
       "  <thead>\n",
       "    <tr style=\"text-align: right;\">\n",
       "      <th></th>\n",
       "      <th>df</th>\n",
       "      <th>sum_sq</th>\n",
       "      <th>mean_sq</th>\n",
       "      <th>F</th>\n",
       "      <th>PR(&gt;F)</th>\n",
       "    </tr>\n",
       "  </thead>\n",
       "  <tbody>\n",
       "    <tr>\n",
       "      <th>Totals</th>\n",
       "      <td>80.0</td>\n",
       "      <td>236.5575</td>\n",
       "      <td>NaN</td>\n",
       "      <td>NaN</td>\n",
       "      <td>NaN</td>\n",
       "    </tr>\n",
       "  </tbody>\n",
       "</table>\n",
       "</div>"
      ],
      "text/plain": [
       "          df    sum_sq  mean_sq   F  PR(>F)\n",
       "Totals  80.0  236.5575      NaN NaN     NaN"
      ]
     },
     "execution_count": 4,
     "metadata": {},
     "output_type": "execute_result"
    }
   ],
   "source": [
    "anovaTable = pd.DataFrame(anova_F)\n",
    "totals = np.array([np.sum(anovaTable[\"df\"]), np.sum(anovaTable[\"sum_sq\"]),np.NaN,np.NaN,np.NaN]).reshape(1,5)\n",
    "totals_df = pd.DataFrame(totals, index=[\"Totals\"], columns=anovaTable.columns)\n",
    "totals_df"
   ]
  },
  {
   "cell_type": "code",
   "execution_count": 5,
   "metadata": {},
   "outputs": [
    {
     "data": {
      "text/html": [
       "<div>\n",
       "<style scoped>\n",
       "    .dataframe tbody tr th:only-of-type {\n",
       "        vertical-align: middle;\n",
       "    }\n",
       "\n",
       "    .dataframe tbody tr th {\n",
       "        vertical-align: top;\n",
       "    }\n",
       "\n",
       "    .dataframe thead th {\n",
       "        text-align: right;\n",
       "    }\n",
       "</style>\n",
       "<table border=\"1\" class=\"dataframe\">\n",
       "  <thead>\n",
       "    <tr style=\"text-align: right;\">\n",
       "      <th></th>\n",
       "      <th>df</th>\n",
       "      <th>sum_sq</th>\n",
       "      <th>mean_sq</th>\n",
       "      <th>F</th>\n",
       "      <th>PR(&gt;F)</th>\n",
       "    </tr>\n",
       "  </thead>\n",
       "  <tbody>\n",
       "    <tr>\n",
       "      <th>X4</th>\n",
       "      <td>1.0</td>\n",
       "      <td>67.775098</td>\n",
       "      <td>67.775098</td>\n",
       "      <td>52.436896</td>\n",
       "      <td>3.073270e-10</td>\n",
       "    </tr>\n",
       "    <tr>\n",
       "      <th>X1</th>\n",
       "      <td>1.0</td>\n",
       "      <td>42.274568</td>\n",
       "      <td>42.274568</td>\n",
       "      <td>32.707399</td>\n",
       "      <td>2.003870e-07</td>\n",
       "    </tr>\n",
       "    <tr>\n",
       "      <th>X2</th>\n",
       "      <td>1.0</td>\n",
       "      <td>27.857493</td>\n",
       "      <td>27.857493</td>\n",
       "      <td>21.553056</td>\n",
       "      <td>1.412208e-05</td>\n",
       "    </tr>\n",
       "    <tr>\n",
       "      <th>X3</th>\n",
       "      <td>1.0</td>\n",
       "      <td>0.419746</td>\n",
       "      <td>0.419746</td>\n",
       "      <td>0.324753</td>\n",
       "      <td>5.704457e-01</td>\n",
       "    </tr>\n",
       "    <tr>\n",
       "      <th>Residual</th>\n",
       "      <td>76.0</td>\n",
       "      <td>98.230594</td>\n",
       "      <td>1.292508</td>\n",
       "      <td>NaN</td>\n",
       "      <td>NaN</td>\n",
       "    </tr>\n",
       "    <tr>\n",
       "      <th>Totals</th>\n",
       "      <td>80.0</td>\n",
       "      <td>236.557500</td>\n",
       "      <td>NaN</td>\n",
       "      <td>NaN</td>\n",
       "      <td>NaN</td>\n",
       "    </tr>\n",
       "  </tbody>\n",
       "</table>\n",
       "</div>"
      ],
      "text/plain": [
       "            df      sum_sq    mean_sq          F        PR(>F)\n",
       "X4         1.0   67.775098  67.775098  52.436896  3.073270e-10\n",
       "X1         1.0   42.274568  42.274568  32.707399  2.003870e-07\n",
       "X2         1.0   27.857493  27.857493  21.553056  1.412208e-05\n",
       "X3         1.0    0.419746   0.419746   0.324753  5.704457e-01\n",
       "Residual  76.0   98.230594   1.292508        NaN           NaN\n",
       "Totals    80.0  236.557500        NaN        NaN           NaN"
      ]
     },
     "execution_count": 5,
     "metadata": {},
     "output_type": "execute_result"
    }
   ],
   "source": [
    "anovaTable = anovaTable.append(totals_df)\n",
    "anovaTable"
   ]
  },
  {
   "cell_type": "code",
   "execution_count": 6,
   "metadata": {},
   "outputs": [],
   "source": [
    "anovaTable.index = [\"SSR(X4)\", \"SSR(X1|X4)\", \"SSR(X2|(X4X1))\",\"SSR(X3|(X4X1X2))\", \"SSE\", \"Total\"]"
   ]
  },
  {
   "cell_type": "code",
   "execution_count": 7,
   "metadata": {},
   "outputs": [
    {
     "data": {
      "text/html": [
       "<div>\n",
       "<style scoped>\n",
       "    .dataframe tbody tr th:only-of-type {\n",
       "        vertical-align: middle;\n",
       "    }\n",
       "\n",
       "    .dataframe tbody tr th {\n",
       "        vertical-align: top;\n",
       "    }\n",
       "\n",
       "    .dataframe thead th {\n",
       "        text-align: right;\n",
       "    }\n",
       "</style>\n",
       "<table border=\"1\" class=\"dataframe\">\n",
       "  <thead>\n",
       "    <tr style=\"text-align: right;\">\n",
       "      <th></th>\n",
       "      <th>df</th>\n",
       "      <th>sum_sq</th>\n",
       "      <th>mean_sq</th>\n",
       "      <th>F</th>\n",
       "      <th>PR(&gt;F)</th>\n",
       "    </tr>\n",
       "  </thead>\n",
       "  <tbody>\n",
       "    <tr>\n",
       "      <th>SSR(X4)</th>\n",
       "      <td>1.0</td>\n",
       "      <td>67.775098</td>\n",
       "      <td>67.775098</td>\n",
       "      <td>52.436896</td>\n",
       "      <td>3.073270e-10</td>\n",
       "    </tr>\n",
       "    <tr>\n",
       "      <th>SSR(X1|X4)</th>\n",
       "      <td>1.0</td>\n",
       "      <td>42.274568</td>\n",
       "      <td>42.274568</td>\n",
       "      <td>32.707399</td>\n",
       "      <td>2.003870e-07</td>\n",
       "    </tr>\n",
       "    <tr>\n",
       "      <th>SSR(X2|(X4X1))</th>\n",
       "      <td>1.0</td>\n",
       "      <td>27.857493</td>\n",
       "      <td>27.857493</td>\n",
       "      <td>21.553056</td>\n",
       "      <td>1.412208e-05</td>\n",
       "    </tr>\n",
       "    <tr>\n",
       "      <th>SSR(X3|(X4X1X2))</th>\n",
       "      <td>1.0</td>\n",
       "      <td>0.419746</td>\n",
       "      <td>0.419746</td>\n",
       "      <td>0.324753</td>\n",
       "      <td>5.704457e-01</td>\n",
       "    </tr>\n",
       "    <tr>\n",
       "      <th>SSE</th>\n",
       "      <td>76.0</td>\n",
       "      <td>98.230594</td>\n",
       "      <td>1.292508</td>\n",
       "      <td>NaN</td>\n",
       "      <td>NaN</td>\n",
       "    </tr>\n",
       "    <tr>\n",
       "      <th>Total</th>\n",
       "      <td>80.0</td>\n",
       "      <td>236.557500</td>\n",
       "      <td>NaN</td>\n",
       "      <td>NaN</td>\n",
       "      <td>NaN</td>\n",
       "    </tr>\n",
       "  </tbody>\n",
       "</table>\n",
       "</div>"
      ],
      "text/plain": [
       "                    df      sum_sq    mean_sq          F        PR(>F)\n",
       "SSR(X4)            1.0   67.775098  67.775098  52.436896  3.073270e-10\n",
       "SSR(X1|X4)         1.0   42.274568  42.274568  32.707399  2.003870e-07\n",
       "SSR(X2|(X4X1))     1.0   27.857493  27.857493  21.553056  1.412208e-05\n",
       "SSR(X3|(X4X1X2))   1.0    0.419746   0.419746   0.324753  5.704457e-01\n",
       "SSE               76.0   98.230594   1.292508        NaN           NaN\n",
       "Total             80.0  236.557500        NaN        NaN           NaN"
      ]
     },
     "execution_count": 7,
     "metadata": {},
     "output_type": "execute_result"
    }
   ],
   "source": [
    "anovaTable"
   ]
  },
  {
   "cell_type": "markdown",
   "metadata": {},
   "source": [
    "**(b)**\n",
    "\n",
    "From the above ANOVA table, we can see that the P-value for SSR(X3|X4X1X2) is very high, which means that the extra regression sums of squares due to X3 is very low. Thus, X3 can be dropped. F-test below."
   ]
  },
  {
   "cell_type": "code",
   "execution_count": 8,
   "metadata": {},
   "outputs": [
    {
     "name": "stdout",
     "output_type": "stream",
     "text": [
      "0.3247533655553678\n",
      "6.9805778127963585\n"
     ]
    }
   ],
   "source": [
    "ssr = anovaTable[\"sum_sq\"][\"SSR(X3|(X4X1X2))\"]\n",
    "sse = anovaTable[\"sum_sq\"][\"SSE\"]\n",
    "df_diff = 1\n",
    "df_E = anovaTable[\"df\"][\"SSE\"]\n",
    "\n",
    "FStar = (ssr/df_diff) / (sse/df_E)\n",
    "print(FStar)\n",
    "\n",
    "#alpha is given\n",
    "alpha = 0.01\n",
    "\n",
    "# df from Summary above in a\n",
    "FTest = stats.f.ppf(1-alpha, df_diff, df_E)\n",
    "print(FTest)"
   ]
  },
  {
   "cell_type": "code",
   "execution_count": 9,
   "metadata": {},
   "outputs": [
    {
     "name": "stdout",
     "output_type": "stream",
     "text": [
      "P-value: 0.5704457051158283\n"
     ]
    }
   ],
   "source": [
    "p = 1-stats.f.cdf(FStar, df_diff, df_E)\n",
    "print(\"P-value: %s\" %p)"
   ]
  },
  {
   "cell_type": "markdown",
   "metadata": {},
   "source": [
    "*Hypotheses:*\n",
    "\n",
    "$H_0: \\beta_3 = 0$ \n",
    "\n",
    "$H_a: \\beta_3 \\neq 0$ \n",
    "\n",
    "\n",
    "*Decision Rules:*\n",
    "\n",
    "If $F^* \\leq$ `r FTest`, conclude $H_0$\n",
    "\n",
    "If $F^* >$ `r FTest`, conclude $H_a$\n",
    "\n",
    "*Conclusion:*\n",
    "\n",
    "Since our test statistic, $F^* =$ `r FStar`, and `r FStar` $\\leq$ `r FTest`, we conclude $H_0$. Thus, X3 can be dropped from the model.\n"
   ]
  },
  {
   "cell_type": "markdown",
   "metadata": {},
   "source": [
    "**(c)**\t\n",
    "\n",
    "Test whether both X2 and X3 can be dropped from the regression model given that X1 and X4 are retained; use α=.01. State the alternatives, decision rule, and conclusion. What is the P-value of the test? (5pts)"
   ]
  },
  {
   "cell_type": "code",
   "execution_count": 10,
   "metadata": {},
   "outputs": [
    {
     "name": "stdout",
     "output_type": "stream",
     "text": [
      "sum_sq    10.938905\n",
      "dtype: float64\n",
      "4.89583988401818\n"
     ]
    }
   ],
   "source": [
    "ssr = np.sum(anovaTable.loc[[\"SSR(X3|(X4X1X2))\",\"SSR(X2|(X4X1))\"], [\"sum_sq\"]])\n",
    "sse = anovaTable[\"sum_sq\"][\"SSE\"]\n",
    "df_diff = 2\n",
    "df_E = anovaTable[\"df\"][\"SSE\"]\n",
    "\n",
    "FStar = (ssr/df_diff) / (sse/df_E)\n",
    "print(FStar)\n",
    "\n",
    "#alpha is given\n",
    "alpha = 0.01\n",
    "\n",
    "# df from Summary above in a\n",
    "FTest = stats.f.ppf(1-alpha, df_diff, df_E)\n",
    "print(FTest)"
   ]
  },
  {
   "cell_type": "code",
   "execution_count": 11,
   "metadata": {},
   "outputs": [
    {
     "name": "stdout",
     "output_type": "stream",
     "text": [
      "P-value: [6.68213643e-05]\n"
     ]
    }
   ],
   "source": [
    "p = 1-stats.f.cdf(FStar, df_diff, df_E)\n",
    "print(\"P-value: %s\" %p)"
   ]
  },
  {
   "cell_type": "markdown",
   "metadata": {},
   "source": [
    "*Hypotheses:*\n",
    "\n",
    "$H_0: \\beta_2 = \\beta_3 = 0$ \n",
    "\n",
    "$H_a:$ Not both $\\beta$s equal to zero\n",
    "\n",
    "\n",
    "*Decision Rules:*\n",
    "\n",
    "If $F^* \\leq$ `r FTest`, conclude $H_0$\n",
    "\n",
    "If $F^* >$ `r FTest`, conclude $H_a$\n",
    "\n",
    "*Conclusion:*\n",
    "\n",
    "Since our test statistic, $F^* =$ `r FStar`, and `r FStar` $>$ `r FTest`, we conclude $H_1$. Not both $\\beta$s equal to zero."
   ]
  },
  {
   "cell_type": "markdown",
   "metadata": {},
   "source": [
    "**(d)** \n",
    "\n",
    "Test whether, β1 = -.1 and, β2 =.4; Use α=.01. State the alternatives, full and reduced models, decision rule, and conclusion. (5pts)"
   ]
  },
  {
   "cell_type": "code",
   "execution_count": 12,
   "metadata": {},
   "outputs": [
    {
     "data": {
      "text/html": [
       "<table class=\"simpletable\">\n",
       "<tr>\n",
       "        <td>Model:</td>               <td>OLS</td>         <td>Adj. R-squared:</td>     <td>0.253</td> \n",
       "</tr>\n",
       "<tr>\n",
       "  <td>Dependent Variable:</td>       <td>Y_new</td>             <td>AIC:</td>         <td>260.7606</td>\n",
       "</tr>\n",
       "<tr>\n",
       "         <td>Date:</td>        <td>2019-11-11 18:00</td>        <td>BIC:</td>         <td>267.9440</td>\n",
       "</tr>\n",
       "<tr>\n",
       "   <td>No. Observations:</td>         <td>81</td>          <td>Log-Likelihood:</td>    <td>-127.38</td>\n",
       "</tr>\n",
       "<tr>\n",
       "       <td>Df Model:</td>              <td>2</td>           <td>F-statistic:</td>       <td>14.55</td> \n",
       "</tr>\n",
       "<tr>\n",
       "     <td>Df Residuals:</td>           <td>78</td>        <td>Prob (F-statistic):</td> <td>4.28e-06</td>\n",
       "</tr>\n",
       "<tr>\n",
       "      <td>R-squared:</td>            <td>0.272</td>            <td>Scale:</td>         <td>1.4121</td> \n",
       "</tr>\n",
       "</table>\n",
       "<table class=\"simpletable\">\n",
       "<tr>\n",
       "      <td></td>       <th>Coef.</th>  <th>Std.Err.</th>    <th>t</th>     <th>P>|t|</th> <th>[0.025</th>  <th>0.975]</th> \n",
       "</tr>\n",
       "<tr>\n",
       "  <th>Intercept</th> <td>10.9442</td>  <td>0.2446</td>  <td>44.7371</td> <td>0.0000</td> <td>10.4572</td> <td>11.4313</td>\n",
       "</tr>\n",
       "<tr>\n",
       "  <th>X3</th>        <td>2.1416</td>   <td>0.9906</td>  <td>2.1619</td>  <td>0.0337</td> <td>0.1694</td>  <td>4.1138</td> \n",
       "</tr>\n",
       "<tr>\n",
       "  <th>X4</th>        <td>0.0000</td>   <td>0.0000</td>  <td>4.7509</td>  <td>0.0000</td> <td>0.0000</td>  <td>0.0000</td> \n",
       "</tr>\n",
       "</table>\n",
       "<table class=\"simpletable\">\n",
       "<tr>\n",
       "     <td>Omnibus:</td>    <td>5.012</td>  <td>Durbin-Watson:</td>    <td>1.479</td> \n",
       "</tr>\n",
       "<tr>\n",
       "  <td>Prob(Omnibus):</td> <td>0.082</td> <td>Jarque-Bera (JB):</td>  <td>5.926</td> \n",
       "</tr>\n",
       "<tr>\n",
       "       <td>Skew:</td>     <td>0.221</td>     <td>Prob(JB):</td>      <td>0.052</td> \n",
       "</tr>\n",
       "<tr>\n",
       "     <td>Kurtosis:</td>   <td>4.249</td>  <td>Condition No.:</td>   <td>1457309</td>\n",
       "</tr>\n",
       "</table>"
      ],
      "text/plain": [
       "<class 'statsmodels.iolib.summary2.Summary'>\n",
       "\"\"\"\n",
       "                 Results: Ordinary least squares\n",
       "=================================================================\n",
       "Model:              OLS              Adj. R-squared:     0.253   \n",
       "Dependent Variable: Y_new            AIC:                260.7606\n",
       "Date:               2019-11-11 18:00 BIC:                267.9440\n",
       "No. Observations:   81               Log-Likelihood:     -127.38 \n",
       "Df Model:           2                F-statistic:        14.55   \n",
       "Df Residuals:       78               Prob (F-statistic): 4.28e-06\n",
       "R-squared:          0.272            Scale:              1.4121  \n",
       "------------------------------------------------------------------\n",
       "               Coef.   Std.Err.     t     P>|t|    [0.025   0.975]\n",
       "------------------------------------------------------------------\n",
       "Intercept     10.9442    0.2446  44.7371  0.0000  10.4572  11.4313\n",
       "X3             2.1416    0.9906   2.1619  0.0337   0.1694   4.1138\n",
       "X4             0.0000    0.0000   4.7509  0.0000   0.0000   0.0000\n",
       "-----------------------------------------------------------------\n",
       "Omnibus:              5.012       Durbin-Watson:          1.479  \n",
       "Prob(Omnibus):        0.082       Jarque-Bera (JB):       5.926  \n",
       "Skew:                 0.221       Prob(JB):               0.052  \n",
       "Kurtosis:             4.249       Condition No.:          1457309\n",
       "=================================================================\n",
       "* The condition number is large (1e+06). This might indicate\n",
       "strong multicollinearity or other numerical problems.\n",
       "\"\"\""
      ]
     },
     "execution_count": 12,
     "metadata": {},
     "output_type": "execute_result"
    }
   ],
   "source": [
    "Y_new = properties_data[\"Y\"]+0.1*properties_data[\"X1\"]-0.4*properties_data[\"X2\"]\n",
    "properties_data[\"Y_new\"] = Y_new\n",
    "lm_prop_R = ols(\"Y_new~X3+X4\", data=properties_data).fit()\n",
    "lm_prop_R.summary2()"
   ]
  },
  {
   "cell_type": "code",
   "execution_count": 13,
   "metadata": {},
   "outputs": [
    {
     "data": {
      "text/html": [
       "<div>\n",
       "<style scoped>\n",
       "    .dataframe tbody tr th:only-of-type {\n",
       "        vertical-align: middle;\n",
       "    }\n",
       "\n",
       "    .dataframe tbody tr th {\n",
       "        vertical-align: top;\n",
       "    }\n",
       "\n",
       "    .dataframe thead th {\n",
       "        text-align: right;\n",
       "    }\n",
       "</style>\n",
       "<table border=\"1\" class=\"dataframe\">\n",
       "  <thead>\n",
       "    <tr style=\"text-align: right;\">\n",
       "      <th></th>\n",
       "      <th>df</th>\n",
       "      <th>sum_sq</th>\n",
       "      <th>mean_sq</th>\n",
       "      <th>F</th>\n",
       "      <th>PR(&gt;F)</th>\n",
       "    </tr>\n",
       "  </thead>\n",
       "  <tbody>\n",
       "    <tr>\n",
       "      <th>X3</th>\n",
       "      <td>1.0</td>\n",
       "      <td>9.204914</td>\n",
       "      <td>9.204914</td>\n",
       "      <td>6.518741</td>\n",
       "      <td>0.012625</td>\n",
       "    </tr>\n",
       "    <tr>\n",
       "      <th>X4</th>\n",
       "      <td>1.0</td>\n",
       "      <td>31.872281</td>\n",
       "      <td>31.872281</td>\n",
       "      <td>22.571327</td>\n",
       "      <td>0.000009</td>\n",
       "    </tr>\n",
       "    <tr>\n",
       "      <th>Residual</th>\n",
       "      <td>78.0</td>\n",
       "      <td>110.141416</td>\n",
       "      <td>1.412069</td>\n",
       "      <td>NaN</td>\n",
       "      <td>NaN</td>\n",
       "    </tr>\n",
       "  </tbody>\n",
       "</table>\n",
       "</div>"
      ],
      "text/plain": [
       "            df      sum_sq    mean_sq          F    PR(>F)\n",
       "X3         1.0    9.204914   9.204914   6.518741  0.012625\n",
       "X4         1.0   31.872281  31.872281  22.571327  0.000009\n",
       "Residual  78.0  110.141416   1.412069        NaN       NaN"
      ]
     },
     "execution_count": 13,
     "metadata": {},
     "output_type": "execute_result"
    }
   ],
   "source": [
    "anova_R = anova_lm(lm_prop_R)\n",
    "anova_R"
   ]
  },
  {
   "cell_type": "code",
   "execution_count": 14,
   "metadata": {},
   "outputs": [
    {
     "name": "stdout",
     "output_type": "stream",
     "text": [
      "4.607640217278573\n",
      "4.89583988401818\n"
     ]
    }
   ],
   "source": [
    "SSE_R = anova_R[\"sum_sq\"][\"Residual\"]\n",
    "SSE_F = anova_F[\"sum_sq\"][\"Residual\"]\n",
    "df_R = anova_R[\"df\"][\"Residual\"]\n",
    "df_F = anova_F[\"df\"][\"Residual\"]\n",
    "\n",
    "FStar = ((SSE_R-SSE_F)/(df_R-df_F))/(SSE_F/df_F)\n",
    "print(FStar)\n",
    "\n",
    "#alpha is given\n",
    "alpha = 0.01\n",
    "\n",
    "# df from Summary above in a\n",
    "FTest = stats.f.ppf(1-alpha, (df_R-df_F), df_F)\n",
    "print(FTest)"
   ]
  },
  {
   "cell_type": "markdown",
   "metadata": {},
   "source": [
    "**Solution 3:**\n",
    "\n",
    "Refer to Brand preference data and problem in Assignment 5 (30 pts)\n",
    "\n",
    "**(a)** \n",
    "\n",
    "Transform the variables by means of the correlation transformation and fit the standardized regression model (10pts)."
   ]
  },
  {
   "cell_type": "code",
   "execution_count": 15,
   "metadata": {},
   "outputs": [],
   "source": [
    "def standardize_corr(df):\n",
    "    cols = list(df.columns)\n",
    "    df_new = df.copy()\n",
    "    n = df.shape[0]\n",
    "    for c in cols:\n",
    "        mu = np.mean(df[c])\n",
    "        s = np.std(df[c])\n",
    "        df_new[c] = (df[c]-mu)/(s*np.sqrt(n-1))\n",
    "    \n",
    "    return(df_new)"
   ]
  },
  {
   "cell_type": "code",
   "execution_count": 16,
   "metadata": {},
   "outputs": [
    {
     "data": {
      "text/html": [
       "<div>\n",
       "<style scoped>\n",
       "    .dataframe tbody tr th:only-of-type {\n",
       "        vertical-align: middle;\n",
       "    }\n",
       "\n",
       "    .dataframe tbody tr th {\n",
       "        vertical-align: top;\n",
       "    }\n",
       "\n",
       "    .dataframe thead th {\n",
       "        text-align: right;\n",
       "    }\n",
       "</style>\n",
       "<table border=\"1\" class=\"dataframe\">\n",
       "  <thead>\n",
       "    <tr style=\"text-align: right;\">\n",
       "      <th></th>\n",
       "      <th>Y</th>\n",
       "      <th>X1</th>\n",
       "      <th>X2</th>\n",
       "    </tr>\n",
       "  </thead>\n",
       "  <tbody>\n",
       "    <tr>\n",
       "      <th>count</th>\n",
       "      <td>1.600000e+01</td>\n",
       "      <td>1.600000e+01</td>\n",
       "      <td>16.000000</td>\n",
       "    </tr>\n",
       "    <tr>\n",
       "      <th>mean</th>\n",
       "      <td>2.081668e-17</td>\n",
       "      <td>-6.938894e-18</td>\n",
       "      <td>0.000000</td>\n",
       "    </tr>\n",
       "    <tr>\n",
       "      <th>std</th>\n",
       "      <td>2.666667e-01</td>\n",
       "      <td>2.666667e-01</td>\n",
       "      <td>0.266667</td>\n",
       "    </tr>\n",
       "    <tr>\n",
       "      <th>min</th>\n",
       "      <td>-4.832037e-01</td>\n",
       "      <td>-3.464102e-01</td>\n",
       "      <td>-0.258199</td>\n",
       "    </tr>\n",
       "    <tr>\n",
       "      <th>25%</th>\n",
       "      <td>-2.095823e-01</td>\n",
       "      <td>-1.732051e-01</td>\n",
       "      <td>-0.258199</td>\n",
       "    </tr>\n",
       "    <tr>\n",
       "      <th>50%</th>\n",
       "      <td>2.910866e-02</td>\n",
       "      <td>0.000000e+00</td>\n",
       "      <td>0.000000</td>\n",
       "    </tr>\n",
       "    <tr>\n",
       "      <th>75%</th>\n",
       "      <td>1.921171e-01</td>\n",
       "      <td>1.732051e-01</td>\n",
       "      <td>0.258199</td>\n",
       "    </tr>\n",
       "    <tr>\n",
       "      <th>max</th>\n",
       "      <td>4.249864e-01</td>\n",
       "      <td>3.464102e-01</td>\n",
       "      <td>0.258199</td>\n",
       "    </tr>\n",
       "  </tbody>\n",
       "</table>\n",
       "</div>"
      ],
      "text/plain": [
       "                  Y            X1         X2\n",
       "count  1.600000e+01  1.600000e+01  16.000000\n",
       "mean   2.081668e-17 -6.938894e-18   0.000000\n",
       "std    2.666667e-01  2.666667e-01   0.266667\n",
       "min   -4.832037e-01 -3.464102e-01  -0.258199\n",
       "25%   -2.095823e-01 -1.732051e-01  -0.258199\n",
       "50%    2.910866e-02  0.000000e+00   0.000000\n",
       "75%    1.921171e-01  1.732051e-01   0.258199\n",
       "max    4.249864e-01  3.464102e-01   0.258199"
      ]
     },
     "execution_count": 16,
     "metadata": {},
     "output_type": "execute_result"
    }
   ],
   "source": [
    "brand_data = pd.read_csv(\"data/Brand Preference.csv\")\n",
    "brand_data_new = standardize_corr(brand_data)\n",
    "brand_data_new.describe()"
   ]
  },
  {
   "cell_type": "code",
   "execution_count": 17,
   "metadata": {},
   "outputs": [
    {
     "name": "stderr",
     "output_type": "stream",
     "text": [
      "/home/srk-apts/anaconda3/lib/python3.7/site-packages/scipy/stats/stats.py:1450: UserWarning: kurtosistest only valid for n>=20 ... continuing anyway, n=16\n",
      "  \"anyway, n=%i\" % int(n))\n"
     ]
    },
    {
     "data": {
      "text/html": [
       "<table class=\"simpletable\">\n",
       "<tr>\n",
       "        <td>Model:</td>               <td>OLS</td>         <td>Adj. R-squared:</td>     <td>0.945</td>  \n",
       "</tr>\n",
       "<tr>\n",
       "  <td>Dependent Variable:</td>         <td>Y</td>               <td>AIC:</td>         <td>-40.5273</td> \n",
       "</tr>\n",
       "<tr>\n",
       "         <td>Date:</td>        <td>2019-11-11 18:00</td>        <td>BIC:</td>         <td>-38.2095</td> \n",
       "</tr>\n",
       "<tr>\n",
       "   <td>No. Observations:</td>         <td>16</td>          <td>Log-Likelihood:</td>    <td>23.264</td>  \n",
       "</tr>\n",
       "<tr>\n",
       "       <td>Df Model:</td>              <td>2</td>           <td>F-statistic:</td>       <td>129.1</td>  \n",
       "</tr>\n",
       "<tr>\n",
       "     <td>Df Residuals:</td>           <td>13</td>        <td>Prob (F-statistic):</td> <td>2.66e-09</td> \n",
       "</tr>\n",
       "<tr>\n",
       "      <td>R-squared:</td>            <td>0.952</td>            <td>Scale:</td>        <td>0.0039336</td>\n",
       "</tr>\n",
       "</table>\n",
       "<table class=\"simpletable\">\n",
       "<tr>\n",
       "      <td></td>       <th>Coef.</th>  <th>Std.Err.</th>    <th>t</th>     <th>P>|t|</th> <th>[0.025</th>  <th>0.975]</th>\n",
       "</tr>\n",
       "<tr>\n",
       "  <th>Intercept</th> <td>-0.0000</td>  <td>0.0157</td>  <td>-0.0000</td> <td>1.0000</td> <td>-0.0339</td> <td>0.0339</td>\n",
       "</tr>\n",
       "<tr>\n",
       "  <th>X1</th>        <td>0.8924</td>   <td>0.0607</td>  <td>14.6952</td> <td>0.0000</td> <td>0.7612</td>  <td>1.0236</td>\n",
       "</tr>\n",
       "<tr>\n",
       "  <th>X2</th>        <td>0.3946</td>   <td>0.0607</td>  <td>6.4976</td>  <td>0.0000</td> <td>0.2634</td>  <td>0.5258</td>\n",
       "</tr>\n",
       "</table>\n",
       "<table class=\"simpletable\">\n",
       "<tr>\n",
       "     <td>Omnibus:</td>    <td>0.766</td>  <td>Durbin-Watson:</td>   <td>2.313</td>\n",
       "</tr>\n",
       "<tr>\n",
       "  <td>Prob(Omnibus):</td> <td>0.682</td> <td>Jarque-Bera (JB):</td> <td>0.647</td>\n",
       "</tr>\n",
       "<tr>\n",
       "       <td>Skew:</td>     <td>0.049</td>     <td>Prob(JB):</td>     <td>0.724</td>\n",
       "</tr>\n",
       "<tr>\n",
       "     <td>Kurtosis:</td>   <td>2.020</td>  <td>Condition No.:</td>     <td>4</td>  \n",
       "</tr>\n",
       "</table>"
      ],
      "text/plain": [
       "<class 'statsmodels.iolib.summary2.Summary'>\n",
       "\"\"\"\n",
       "                 Results: Ordinary least squares\n",
       "==================================================================\n",
       "Model:              OLS              Adj. R-squared:     0.945    \n",
       "Dependent Variable: Y                AIC:                -40.5273 \n",
       "Date:               2019-11-11 18:00 BIC:                -38.2095 \n",
       "No. Observations:   16               Log-Likelihood:     23.264   \n",
       "Df Model:           2                F-statistic:        129.1    \n",
       "Df Residuals:       13               Prob (F-statistic): 2.66e-09 \n",
       "R-squared:          0.952            Scale:              0.0039336\n",
       "--------------------------------------------------------------------\n",
       "             Coef.    Std.Err.      t      P>|t|     [0.025   0.975]\n",
       "--------------------------------------------------------------------\n",
       "Intercept   -0.0000     0.0157   -0.0000   1.0000   -0.0339   0.0339\n",
       "X1           0.8924     0.0607   14.6952   0.0000    0.7612   1.0236\n",
       "X2           0.3946     0.0607    6.4976   0.0000    0.2634   0.5258\n",
       "------------------------------------------------------------------\n",
       "Omnibus:               0.766        Durbin-Watson:           2.313\n",
       "Prob(Omnibus):         0.682        Jarque-Bera (JB):        0.647\n",
       "Skew:                  0.049        Prob(JB):                0.724\n",
       "Kurtosis:              2.020        Condition No.:           4    \n",
       "==================================================================\n",
       "\n",
       "\"\"\""
      ]
     },
     "execution_count": 17,
     "metadata": {},
     "output_type": "execute_result"
    }
   ],
   "source": [
    "lm_brand_new = ols(\"Y~X1+X2\", data=brand_data_new).fit()\n",
    "lm_brand_new.summary2()"
   ]
  },
  {
   "cell_type": "markdown",
   "metadata": {},
   "source": [
    "$\\beta_0$ is almost 0. Thus,\n",
    "\n",
    "Regression Function: $Y = 0.892*X_1 + 0.3946*X_2$"
   ]
  },
  {
   "cell_type": "markdown",
   "metadata": {},
   "source": [
    "**(b)**\n",
    "\n",
    "Interpret the standardized regression coefficient (5pts).\n",
    "\n",
    "*Interpretation:*\n",
    "\n",
    "- We can see that the $\\beta_0$ is almost equal to 0, which is expected since Y is now centered at 0 (based on definition and summary of the new data in part (a)).\n",
    "- We also see that $\\beta_1$ and $\\beta_2$ are less than one and their standard deviations are also a lot less than the model without standardization.\n",
    "- However, the $R^2$ is the same which means that the is equally powerful in terms of predictive capability."
   ]
  },
  {
   "cell_type": "markdown",
   "metadata": {},
   "source": [
    "**(c)**\n",
    "\n",
    "Transform the estimated standardized regression coefficients back to the ones for the fitted regression model in the original variables (5pts)."
   ]
  },
  {
   "cell_type": "code",
   "execution_count": 20,
   "metadata": {},
   "outputs": [
    {
     "data": {
      "text/plain": [
       "0.8923928635289944"
      ]
     },
     "execution_count": 20,
     "metadata": {},
     "output_type": "execute_result"
    }
   ],
   "source": [
    "lm_brand_new.params[\"X1\"]"
   ]
  },
  {
   "cell_type": "code",
   "execution_count": 22,
   "metadata": {},
   "outputs": [
    {
     "name": "stdout",
     "output_type": "stream",
     "text": [
      "4.425\n",
      "4.375000000000002\n",
      "37.65\n"
     ]
    }
   ],
   "source": [
    "df = brand_data\n",
    "\n",
    "b1_star = lm_brand_new.params[\"X1\"]\n",
    "b1 = (np.std(df[\"Y\"])/np.std(df[\"X1\"]))*b1_star\n",
    "print(b1)\n",
    "\n",
    "b2_star = lm_brand_new.params[\"X2\"]\n",
    "b2 = (np.std(df[\"Y\"])/np.std(df[\"X2\"]))*b2_star\n",
    "print(b2)\n",
    "\n",
    "b0 = np.mean(df[\"Y\"])-b1*np.mean(df[\"X1\"])-b2*np.mean(df[\"X2\"])\n",
    "print(b0)"
   ]
  },
  {
   "cell_type": "code",
   "execution_count": 30,
   "metadata": {},
   "outputs": [
    {
     "data": {
      "text/plain": [
       "Intercept    37.650\n",
       "X1            4.425\n",
       "X2            4.375\n",
       "dtype: float64"
      ]
     },
     "execution_count": 30,
     "metadata": {},
     "output_type": "execute_result"
    }
   ],
   "source": [
    "lm_brand = ols(\"Y~X1+X2\", data=brand_data).fit()\n",
    "lm_brand.params"
   ]
  },
  {
   "cell_type": "markdown",
   "metadata": {},
   "source": [
    "**(d)**\n",
    "\n",
    "Calculate R2Y1, R2Y2, R212, R2Y1|2, R2Y2|1 and R2. Explain what each coefficient measures and interpret your results. (10pts)"
   ]
  },
  {
   "cell_type": "code",
   "execution_count": 34,
   "metadata": {},
   "outputs": [
    {
     "name": "stdout",
     "output_type": "stream",
     "text": [
      "sum_sq    0.796365\n",
      "dtype: float64\n",
      "sum_sq    0.155694\n",
      "dtype: float64\n",
      "0.0\n",
      "sum_sq    0.943218\n",
      "dtype: float64\n",
      "sum_sq    0.764574\n",
      "dtype: float64\n",
      "sum_sq    0.952059\n",
      "dtype: float64\n"
     ]
    }
   ],
   "source": [
    "df = brand_data\n",
    "\n",
    "# R2_Y1\n",
    "ssr = anova_lm(ols(\"Y~X1\", data=df).fit())[\"sum_sq\"][\"X1\"]\n",
    "ssto = np.sum(anova_lm(ols(\"Y~X1\", data=df).fit()).loc[[\"X1\",\"Residual\"],[\"sum_sq\"]])\n",
    "R2_Y1 = ssr/ssto\n",
    "print(R2_Y1)\n",
    "\n",
    "\n",
    "# R2_Y2\n",
    "ssr = anova_lm(ols(\"Y~X2\", data=df).fit())[\"sum_sq\"][\"X2\"]\n",
    "ssto = np.sum(anova_lm(ols(\"Y~X2\", data=df).fit()).loc[[\"X2\",\"Residual\"],[\"sum_sq\"]])\n",
    "R2_Y2 = ssr/ssto\n",
    "print(R2_Y2)\n",
    "\n",
    "# R2_12\n",
    "R2_12 = df.corr()[\"X1\"][\"X2\"]\n",
    "print(R2_12)\n",
    "\n",
    "# R2_Y1_2\n",
    "ssr = anova_lm(ols(\"Y~X2+X1\", data=df).fit())[\"sum_sq\"][\"X1\"]\n",
    "ssto = np.sum(anova_lm(ols(\"Y~X2+X1\", data=df).fit()).loc[[\"X1\",\"Residual\"],[\"sum_sq\"]])\n",
    "R2_Y1_2 = ssr/ssto\n",
    "print(R2_Y1_2)\n",
    "\n",
    "# R2_Y2_1\n",
    "ssr = anova_lm(ols(\"Y~X2+X1\", data=df).fit())[\"sum_sq\"][\"X2\"]\n",
    "ssto = np.sum(anova_lm(ols(\"Y~X2+X1\", data=df).fit()).loc[[\"X2\",\"Residual\"],[\"sum_sq\"]])\n",
    "R2_Y2_1 = ssr/ssto\n",
    "print(R2_Y2_1)\n",
    "\n",
    "# R2\n",
    "ssr = np.sum(anova_lm(ols(\"Y~X1+X2\", data=df).fit()).loc[[\"X1\",\"X2\"],[\"sum_sq\"]])\n",
    "ssto = np.sum(anova_lm(ols(\"Y~X1+X2\", data=df).fit()).loc[[\"X1\",\"X2\",\"Residual\"],[\"sum_sq\"]])\n",
    "R2 = ssr/ssto\n",
    "print(R2)"
   ]
  },
  {
   "cell_type": "markdown",
   "metadata": {},
   "source": [
    "**Solution 4:**\n",
    "\n",
    "Refer to the CDI data set. For predicting the number of active physicians (Y) in a county, it has been decided to include total population (X1) and total personal income (X2) as predictor variables. The question now is whether an additional predictor variable would be helpful in the model and, if so, which variable would be most helpful. Assume that a first-order multiple regression model is appropriate. (25 pts)\n",
    "\n",
    "**(a)** \n",
    "\n",
    "For each of the following variables, calculate the coefficient of partial determination given that X1 and X2 are included in the model: land area (X3), percent of population 65 or older (X4), number of hospital beds (X5), and total serious crimes (X6). (15pts)\n"
   ]
  },
  {
   "cell_type": "code",
   "execution_count": 55,
   "metadata": {},
   "outputs": [
    {
     "data": {
      "text/plain": [
       "Index(['Number of active physicians', 'Total population',\n",
       "       'Total personal income', 'Land area',\n",
       "       'Percent of population 65 or older', 'Number of hospital beds',\n",
       "       'Total serious crimes'],\n",
       "      dtype='object')"
      ]
     },
     "execution_count": 55,
     "metadata": {},
     "output_type": "execute_result"
    }
   ],
   "source": [
    "inc_cols = [\"Number of active physicians\", \"Total population\", \"Total personal income\", \n",
    "             \"Land area\", \"Percent of population 65 or older\", \"Number of hospital beds\", \n",
    "             \"Total serious crimes\"]\n",
    "cdi_data = pd.read_csv(\"data/CDI.csv\")[inc_cols]\n",
    "cdi_data.columns"
   ]
  },
  {
   "cell_type": "code",
   "execution_count": 64,
   "metadata": {},
   "outputs": [],
   "source": [
    "mapper = {\n",
    "    \"Number of active physicians\": \"Y\", \n",
    "    \"Total population\": \"X1\", \n",
    "    \"Total personal income\":\"X2\", \n",
    "    \"Land area\": \"X3\", \n",
    "    \"Percent of population 65 or older\": \"X4\", \n",
    "    \"Number of hospital beds\": \"X5\",\n",
    "    \"Total serious crimes\": \"X6\"\n",
    "}"
   ]
  },
  {
   "cell_type": "code",
   "execution_count": 66,
   "metadata": {},
   "outputs": [
    {
     "data": {
      "text/plain": [
       "Index(['Y', 'X1', 'X2', 'X3', 'X4', 'X5', 'X6'], dtype='object')"
      ]
     },
     "execution_count": 66,
     "metadata": {},
     "output_type": "execute_result"
    }
   ],
   "source": [
    "cdi_data = cdi_data.rename(columns=mapper)\n",
    "cdi_data.columns"
   ]
  },
  {
   "cell_type": "code",
   "execution_count": 67,
   "metadata": {},
   "outputs": [
    {
     "data": {
      "text/html": [
       "<table class=\"simpletable\">\n",
       "<tr>\n",
       "        <td>Model:</td>               <td>OLS</td>         <td>Adj. R-squared:</td>      <td>0.899</td>  \n",
       "</tr>\n",
       "<tr>\n",
       "  <td>Dependent Variable:</td>         <td>Y</td>               <td>AIC:</td>          <td>6832.6613</td>\n",
       "</tr>\n",
       "<tr>\n",
       "         <td>Date:</td>        <td>2019-11-10 00:09</td>        <td>BIC:</td>          <td>6844.9216</td>\n",
       "</tr>\n",
       "<tr>\n",
       "   <td>No. Observations:</td>         <td>440</td>         <td>Log-Likelihood:</td>     <td>-3413.3</td> \n",
       "</tr>\n",
       "<tr>\n",
       "       <td>Df Model:</td>              <td>2</td>           <td>F-statistic:</td>        <td>1961.</td>  \n",
       "</tr>\n",
       "<tr>\n",
       "     <td>Df Residuals:</td>           <td>437</td>       <td>Prob (F-statistic):</td>  <td>5.41e-219</td>\n",
       "</tr>\n",
       "<tr>\n",
       "      <td>R-squared:</td>            <td>0.900</td>            <td>Scale:</td>        <td>3.2258e+05</td>\n",
       "</tr>\n",
       "</table>\n",
       "<table class=\"simpletable\">\n",
       "<tr>\n",
       "      <td></td>        <th>Coef.</th>  <th>Std.Err.</th>    <th>t</th>     <th>P>|t|</th>  <th>[0.025</th>   <th>0.975]</th>\n",
       "</tr>\n",
       "<tr>\n",
       "  <th>Intercept</th> <td>-64.4382</td>  <td>32.8258</td> <td>-1.9630</td> <td>0.0503</td> <td>-128.9543</td> <td>0.0779</td>\n",
       "</tr>\n",
       "<tr>\n",
       "  <th>X1</th>         <td>0.0005</td>   <td>0.0003</td>  <td>1.9135</td>  <td>0.0563</td>  <td>-0.0000</td>  <td>0.0011</td>\n",
       "</tr>\n",
       "<tr>\n",
       "  <th>X2</th>         <td>0.1072</td>   <td>0.0130</td>  <td>8.2692</td>  <td>0.0000</td>  <td>0.0817</td>   <td>0.1327</td>\n",
       "</tr>\n",
       "</table>\n",
       "<table class=\"simpletable\">\n",
       "<tr>\n",
       "     <td>Omnibus:</td>    <td>287.580</td>  <td>Durbin-Watson:</td>     <td>2.117</td> \n",
       "</tr>\n",
       "<tr>\n",
       "  <td>Prob(Omnibus):</td>  <td>0.000</td>  <td>Jarque-Bera (JB):</td> <td>3874.314</td>\n",
       "</tr>\n",
       "<tr>\n",
       "       <td>Skew:</td>      <td>2.611</td>      <td>Prob(JB):</td>       <td>0.000</td> \n",
       "</tr>\n",
       "<tr>\n",
       "     <td>Kurtosis:</td>   <td>16.567</td>   <td>Condition No.:</td>    <td>871067</td> \n",
       "</tr>\n",
       "</table>"
      ],
      "text/plain": [
       "<class 'statsmodels.iolib.summary2.Summary'>\n",
       "\"\"\"\n",
       "                  Results: Ordinary least squares\n",
       "===================================================================\n",
       "Model:              OLS              Adj. R-squared:     0.899     \n",
       "Dependent Variable: Y                AIC:                6832.6613 \n",
       "Date:               2019-11-10 00:09 BIC:                6844.9216 \n",
       "No. Observations:   440              Log-Likelihood:     -3413.3   \n",
       "Df Model:           2                F-statistic:        1961.     \n",
       "Df Residuals:       437              Prob (F-statistic): 5.41e-219 \n",
       "R-squared:          0.900            Scale:              3.2258e+05\n",
       "--------------------------------------------------------------------\n",
       "               Coef.    Std.Err.     t     P>|t|     [0.025   0.975]\n",
       "--------------------------------------------------------------------\n",
       "Intercept     -64.4382   32.8258  -1.9630  0.0503  -128.9543  0.0779\n",
       "X1              0.0005    0.0003   1.9135  0.0563    -0.0000  0.0011\n",
       "X2              0.1072    0.0130   8.2692  0.0000     0.0817  0.1327\n",
       "-------------------------------------------------------------------\n",
       "Omnibus:             287.580       Durbin-Watson:          2.117   \n",
       "Prob(Omnibus):       0.000         Jarque-Bera (JB):       3874.314\n",
       "Skew:                2.611         Prob(JB):               0.000   \n",
       "Kurtosis:            16.567        Condition No.:          871067  \n",
       "===================================================================\n",
       "* The condition number is large (9e+05). This might indicate\n",
       "strong multicollinearity or other numerical problems.\n",
       "\"\"\""
      ]
     },
     "execution_count": 67,
     "metadata": {},
     "output_type": "execute_result"
    }
   ],
   "source": [
    "lm_cdi = ols(\"Y~X1+X2\", data=cdi_data).fit()\n",
    "lm_cdi.summary2()"
   ]
  },
  {
   "cell_type": "code",
   "execution_count": 71,
   "metadata": {},
   "outputs": [
    {
     "name": "stdout",
     "output_type": "stream",
     "text": [
      "sum_sq    0.028825\n",
      "dtype: float64\n",
      "sum_sq    0.003842\n",
      "dtype: float64\n",
      "sum_sq    0.553818\n",
      "dtype: float64\n",
      "sum_sq    0.007323\n",
      "dtype: float64\n"
     ]
    }
   ],
   "source": [
    "df = cdi_data\n",
    "\n",
    "# r2_X3\n",
    "ssr = anova_lm(ols(\"Y~X1+X2+X3\", data=df).fit())[\"sum_sq\"][\"X3\"]\n",
    "ssto = np.sum(anova_lm(ols(\"Y~X1+X2+X3\", data=df).fit()).loc[[\"X3\",\"Residual\"],[\"sum_sq\"]])\n",
    "r2_X3 = ssr/ssto\n",
    "print(r2_X3)\n",
    "\n",
    "# r2_X4\n",
    "ssr = anova_lm(ols(\"Y~X1+X2+X4\", data=df).fit())[\"sum_sq\"][\"X4\"]\n",
    "ssto = np.sum(anova_lm(ols(\"Y~X1+X2+X4\", data=df).fit()).loc[[\"X4\",\"Residual\"],[\"sum_sq\"]])\n",
    "r2_X4 = ssr/ssto\n",
    "print(r2_X4)\n",
    "\n",
    "# r2_X5\n",
    "ssr = anova_lm(ols(\"Y~X1+X2+X5\", data=df).fit())[\"sum_sq\"][\"X5\"]\n",
    "ssto = np.sum(anova_lm(ols(\"Y~X1+X2+X5\", data=df).fit()).loc[[\"X5\",\"Residual\"],[\"sum_sq\"]])\n",
    "r2_X5 = ssr/ssto\n",
    "print(r2_X5)\n",
    "\n",
    "# r2_X6\n",
    "ssr = anova_lm(ols(\"Y~X1+X2+X6\", data=df).fit())[\"sum_sq\"][\"X6\"]\n",
    "ssto = np.sum(anova_lm(ols(\"Y~X1+X2+X6\", data=df).fit()).loc[[\"X6\",\"Residual\"],[\"sum_sq\"]])\n",
    "r2_X6 = ssr/ssto\n",
    "print(r2_X6)"
   ]
  },
  {
   "cell_type": "markdown",
   "metadata": {},
   "source": [
    "$R_{3|12}^2 =$ `r r2_X3`\n",
    "\n",
    "$R_{4|12}^2 =$ `r r2_X4`\n",
    "\n",
    "$R_{5|12}^2 =$ `r r2_X5`\n",
    "\n",
    "$R_{6|12}^2 =$ `r r2_X6`"
   ]
  },
  {
   "cell_type": "markdown",
   "metadata": {},
   "source": [
    "**(b)** \n",
    "\n",
    "On the basis of the results in part (a), which of the four additional predictor variables is best? Is the extra sum of squares associated with this variable larger than those for the other three variables? (5pts)\n",
    "\n",
    "\n",
    "$X_5$ is the best predictor we can add to the model as it has the maximum coefficient of partial determination. Yes, the extra sum of squares associated with this variable is larger compared to other variables also, which makes sense since SST will remain constant."
   ]
  },
  {
   "cell_type": "markdown",
   "metadata": {},
   "source": [
    "**(c)** \n",
    "\n",
    "Using the F* test statistic, test whether or not the variable determined to be best in part (b) is helpful in the regression model when X1 and X2 are included in the model; use α=.01. State the alternatives, decision rule, and conclusion. Would the F* test statistics for the other three potential predictor variables be as large as the one here?  (5pts)"
   ]
  },
  {
   "cell_type": "code",
   "execution_count": 72,
   "metadata": {},
   "outputs": [
    {
     "data": {
      "text/html": [
       "<div>\n",
       "<style scoped>\n",
       "    .dataframe tbody tr th:only-of-type {\n",
       "        vertical-align: middle;\n",
       "    }\n",
       "\n",
       "    .dataframe tbody tr th {\n",
       "        vertical-align: top;\n",
       "    }\n",
       "\n",
       "    .dataframe thead th {\n",
       "        text-align: right;\n",
       "    }\n",
       "</style>\n",
       "<table border=\"1\" class=\"dataframe\">\n",
       "  <thead>\n",
       "    <tr style=\"text-align: right;\">\n",
       "      <th></th>\n",
       "      <th>df</th>\n",
       "      <th>sum_sq</th>\n",
       "      <th>mean_sq</th>\n",
       "      <th>F</th>\n",
       "      <th>PR(&gt;F)</th>\n",
       "    </tr>\n",
       "  </thead>\n",
       "  <tbody>\n",
       "    <tr>\n",
       "      <th>X1</th>\n",
       "      <td>1.0</td>\n",
       "      <td>1.243181e+09</td>\n",
       "      <td>1.243181e+09</td>\n",
       "      <td>8617.699139</td>\n",
       "      <td>2.585764e-289</td>\n",
       "    </tr>\n",
       "    <tr>\n",
       "      <th>X2</th>\n",
       "      <td>1.0</td>\n",
       "      <td>2.205805e+07</td>\n",
       "      <td>2.205805e+07</td>\n",
       "      <td>152.905851</td>\n",
       "      <td>2.570579e-30</td>\n",
       "    </tr>\n",
       "    <tr>\n",
       "      <th>X5</th>\n",
       "      <td>1.0</td>\n",
       "      <td>7.807013e+07</td>\n",
       "      <td>7.807013e+07</td>\n",
       "      <td>541.180099</td>\n",
       "      <td>2.009360e-78</td>\n",
       "    </tr>\n",
       "    <tr>\n",
       "      <th>Residual</th>\n",
       "      <td>436.0</td>\n",
       "      <td>6.289695e+07</td>\n",
       "      <td>1.442591e+05</td>\n",
       "      <td>NaN</td>\n",
       "      <td>NaN</td>\n",
       "    </tr>\n",
       "  </tbody>\n",
       "</table>\n",
       "</div>"
      ],
      "text/plain": [
       "             df        sum_sq       mean_sq            F         PR(>F)\n",
       "X1          1.0  1.243181e+09  1.243181e+09  8617.699139  2.585764e-289\n",
       "X2          1.0  2.205805e+07  2.205805e+07   152.905851   2.570579e-30\n",
       "X5          1.0  7.807013e+07  7.807013e+07   541.180099   2.009360e-78\n",
       "Residual  436.0  6.289695e+07  1.442591e+05          NaN            NaN"
      ]
     },
     "execution_count": 72,
     "metadata": {},
     "output_type": "execute_result"
    }
   ],
   "source": [
    "anova_X5 = anova_lm(ols(\"Y~X1+X2+X5\", data=cdi_data).fit())\n",
    "anova_X5"
   ]
  },
  {
   "cell_type": "code",
   "execution_count": 74,
   "metadata": {},
   "outputs": [
    {
     "name": "stdout",
     "output_type": "stream",
     "text": [
      "541.1800993040342\n",
      "6.693357597700841\n"
     ]
    }
   ],
   "source": [
    "ssr = anova_X5[\"sum_sq\"][\"X5\"]\n",
    "sse = anova_X5[\"sum_sq\"][\"Residual\"]\n",
    "df_diff = 1\n",
    "df_E = anova_X5[\"df\"][\"Residual\"]\n",
    "\n",
    "FStar = (ssr/df_diff) / (sse/df_E)\n",
    "print(FStar)\n",
    "\n",
    "#alpha is given\n",
    "alpha = 0.01\n",
    "\n",
    "# df from Summary above in a\n",
    "FTest = stats.f.ppf(1-alpha, df_diff, df_E)\n",
    "print(FTest)"
   ]
  },
  {
   "cell_type": "code",
   "execution_count": 75,
   "metadata": {},
   "outputs": [
    {
     "name": "stdout",
     "output_type": "stream",
     "text": [
      "P-value: 1.1102230246251565e-16\n"
     ]
    }
   ],
   "source": [
    "p = 1-stats.f.cdf(FStar, df_diff, df_E)\n",
    "print(\"P-value: %s\" %p)"
   ]
  },
  {
   "cell_type": "markdown",
   "metadata": {},
   "source": [
    "*Hypotheses:*\n",
    "\n",
    "$H_0: \\beta_5 = 0$ \n",
    "\n",
    "$H_a: \\beta_5 \\neq 0$ \n",
    "\n",
    "\n",
    "*Decision Rules:*\n",
    "\n",
    "If $F^* \\leq$ `r FTest`, conclude $H_0$\n",
    "\n",
    "If $F^* >$ `r FTest`, conclude $H_a$\n",
    "\n",
    "*Conclusion:*\n",
    "\n",
    "Since our test statistic, $F^* =$ `r FStar`, and `r FStar` $\\leq$ `r FTest`, we conclude $H_0$. Thus, X3 can be dropped from the model.\n"
   ]
  },
  {
   "cell_type": "code",
   "execution_count": null,
   "metadata": {},
   "outputs": [],
   "source": []
  }
 ],
 "metadata": {
  "kernelspec": {
   "display_name": "Python 3",
   "language": "python",
   "name": "python3"
  },
  "language_info": {
   "codemirror_mode": {
    "name": "ipython",
    "version": 3
   },
   "file_extension": ".py",
   "mimetype": "text/x-python",
   "name": "python",
   "nbconvert_exporter": "python",
   "pygments_lexer": "ipython3",
   "version": "3.7.4"
  }
 },
 "nbformat": 4,
 "nbformat_minor": 2
}
