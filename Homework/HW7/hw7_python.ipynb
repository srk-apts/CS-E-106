{
 "cells": [
  {
   "cell_type": "markdown",
   "metadata": {},
   "source": [
    "# CS-E-106: Data Modeling\n",
    "## Fall 2019: HW 07"
   ]
  },
  {
   "cell_type": "code",
   "execution_count": 2,
   "metadata": {},
   "outputs": [],
   "source": [
    "import numpy as np\n",
    "import pandas as pd\n",
    "from scipy import stats\n",
    "import statsmodels.api as sm\n",
    "from statsmodels.formula.api import ols\n",
    "from statsmodels.stats.anova import anova_lm\n",
    "import seaborn as sns\n",
    "import matplotlib.pyplot as plt\n",
    "from statsmodels.graphics import gofplots\n",
    "import pylab\n"
   ]
  },
  {
   "cell_type": "markdown",
   "metadata": {},
   "source": [
    "**Question 1:** Refer to the CDI data set. A regression model relating serious crime rate (Y, total serious crimes divided by total population) to population density (X1, total population divided by land area) and unemployment rate (X3) is to be constructed. (15 pts)\n",
    "\n",
    "**(a)** Fit second-order regression model (equation 8.8 on the book). Plot the residuals against the fitted values. How well does the second-order model appear to fit the data? What is R2? (5pts)\n",
    "\n",
    "**Solution:**"
   ]
  },
  {
   "cell_type": "code",
   "execution_count": 8,
   "metadata": {},
   "outputs": [],
   "source": [
    "cdi_data = pd.read_csv(\"data/CDI.csv\")\n",
    "\n",
    "df_1 = cdi_data\n",
    "\n",
    "Y = df_1[\"Total serious crimes\"]/df_1[\"Total population\"]\n",
    "X1 = df_1[\"Total population\"]/df_1[\"Land area\"]\n",
    "X3 = df_1[\"Percent unemployment\"]\n",
    "\n",
    "df_1[\"x1\"] = (X1-np.mean(X1))/np.std(X1)\n",
    "df_1[\"x3\"] = (X3-np.mean(X3))/np.std(X3)\n",
    "df_1[\"x1sqr\"] = df_1[\"x1\"]**2\n",
    "df_1[\"x3sqr\"] = df_1[\"x3\"]**2\n",
    "df_1[\"x1x3\"] = df_1[\"x1\"]*df_1[\"x3\"]"
   ]
  },
  {
   "cell_type": "code",
   "execution_count": 10,
   "metadata": {},
   "outputs": [
    {
     "data": {
      "text/html": [
       "<table class=\"simpletable\">\n",
       "<tr>\n",
       "        <td>Model:</td>               <td>OLS</td>         <td>Adj. R-squared:</td>      <td>0.240</td>  \n",
       "</tr>\n",
       "<tr>\n",
       "  <td>Dependent Variable:</td>         <td>Y</td>               <td>AIC:</td>         <td>-2033.8930</td>\n",
       "</tr>\n",
       "<tr>\n",
       "         <td>Date:</td>        <td>2019-11-17 23:49</td>        <td>BIC:</td>         <td>-2009.3723</td>\n",
       "</tr>\n",
       "<tr>\n",
       "   <td>No. Observations:</td>         <td>440</td>         <td>Log-Likelihood:</td>     <td>1022.9</td>  \n",
       "</tr>\n",
       "<tr>\n",
       "       <td>Df Model:</td>              <td>5</td>           <td>F-statistic:</td>        <td>28.70</td>  \n",
       "</tr>\n",
       "<tr>\n",
       "     <td>Df Residuals:</td>           <td>434</td>       <td>Prob (F-statistic):</td>  <td>3.69e-25</td> \n",
       "</tr>\n",
       "<tr>\n",
       "      <td>R-squared:</td>            <td>0.248</td>            <td>Scale:</td>        <td>0.00056771</td>\n",
       "</tr>\n",
       "</table>\n",
       "<table class=\"simpletable\">\n",
       "<tr>\n",
       "      <td></td>       <th>Coef.</th>  <th>Std.Err.</th>    <th>t</th>     <th>P>|t|</th> <th>[0.025</th>  <th>0.975]</th>\n",
       "</tr>\n",
       "<tr>\n",
       "  <th>Intercept</th> <td>0.0563</td>   <td>0.0013</td>  <td>44.6625</td> <td>0.0000</td> <td>0.0538</td>  <td>0.0588</td>\n",
       "</tr>\n",
       "<tr>\n",
       "  <th>x1</th>        <td>0.0101</td>   <td>0.0022</td>  <td>4.6589</td>  <td>0.0000</td> <td>0.0058</td>  <td>0.0143</td>\n",
       "</tr>\n",
       "<tr>\n",
       "  <th>x3</th>        <td>-0.0002</td>  <td>0.0015</td>  <td>-0.1402</td> <td>0.8886</td> <td>-0.0031</td> <td>0.0027</td>\n",
       "</tr>\n",
       "<tr>\n",
       "  <th>x1sqr</th>     <td>0.0000</td>   <td>0.0003</td>  <td>0.0455</td>  <td>0.9637</td> <td>-0.0005</td> <td>0.0006</td>\n",
       "</tr>\n",
       "<tr>\n",
       "  <th>x3sqr</th>     <td>0.0009</td>   <td>0.0005</td>  <td>1.7076</td>  <td>0.0884</td> <td>-0.0001</td> <td>0.0019</td>\n",
       "</tr>\n",
       "<tr>\n",
       "  <th>x1x3</th>      <td>0.0043</td>   <td>0.0021</td>  <td>2.0368</td>  <td>0.0423</td> <td>0.0001</td>  <td>0.0084</td>\n",
       "</tr>\n",
       "</table>\n",
       "<table class=\"simpletable\">\n",
       "<tr>\n",
       "     <td>Omnibus:</td>    <td>22.989</td>  <td>Durbin-Watson:</td>    <td>1.787</td>\n",
       "</tr>\n",
       "<tr>\n",
       "  <td>Prob(Omnibus):</td>  <td>0.000</td> <td>Jarque-Bera (JB):</td> <td>25.127</td>\n",
       "</tr>\n",
       "<tr>\n",
       "       <td>Skew:</td>      <td>0.571</td>     <td>Prob(JB):</td>      <td>0.000</td>\n",
       "</tr>\n",
       "<tr>\n",
       "     <td>Kurtosis:</td>    <td>3.260</td>  <td>Condition No.:</td>     <td>21</td>  \n",
       "</tr>\n",
       "</table>"
      ],
      "text/plain": [
       "<class 'statsmodels.iolib.summary2.Summary'>\n",
       "\"\"\"\n",
       "                  Results: Ordinary least squares\n",
       "===================================================================\n",
       "Model:              OLS              Adj. R-squared:     0.240     \n",
       "Dependent Variable: Y                AIC:                -2033.8930\n",
       "Date:               2019-11-17 23:49 BIC:                -2009.3723\n",
       "No. Observations:   440              Log-Likelihood:     1022.9    \n",
       "Df Model:           5                F-statistic:        28.70     \n",
       "Df Residuals:       434              Prob (F-statistic): 3.69e-25  \n",
       "R-squared:          0.248            Scale:              0.00056771\n",
       "---------------------------------------------------------------------\n",
       "              Coef.    Std.Err.      t      P>|t|     [0.025   0.975]\n",
       "---------------------------------------------------------------------\n",
       "Intercept     0.0563     0.0013   44.6625   0.0000    0.0538   0.0588\n",
       "x1            0.0101     0.0022    4.6589   0.0000    0.0058   0.0143\n",
       "x3           -0.0002     0.0015   -0.1402   0.8886   -0.0031   0.0027\n",
       "x1sqr         0.0000     0.0003    0.0455   0.9637   -0.0005   0.0006\n",
       "x3sqr         0.0009     0.0005    1.7076   0.0884   -0.0001   0.0019\n",
       "x1x3          0.0043     0.0021    2.0368   0.0423    0.0001   0.0084\n",
       "-------------------------------------------------------------------\n",
       "Omnibus:              22.989        Durbin-Watson:           1.787 \n",
       "Prob(Omnibus):        0.000         Jarque-Bera (JB):        25.127\n",
       "Skew:                 0.571         Prob(JB):                0.000 \n",
       "Kurtosis:             3.260         Condition No.:           21    \n",
       "===================================================================\n",
       "\n",
       "\"\"\""
      ]
     },
     "execution_count": 10,
     "metadata": {},
     "output_type": "execute_result"
    }
   ],
   "source": [
    "lm_cdi_1a = ols(\"Y~x1+x3+x1sqr+x3sqr+x1x3\", data=df_1).fit()\n",
    "lm_cdi_1a.summary2()"
   ]
  },
  {
   "cell_type": "code",
   "execution_count": 12,
   "metadata": {},
   "outputs": [
    {
     "data": {
      "text/plain": [
       "<matplotlib.collections.PathCollection at 0x7f4741fc61d0>"
      ]
     },
     "execution_count": 12,
     "metadata": {},
     "output_type": "execute_result"
    },
    {
     "data": {
      "image/png": "[encoded data removed]",
      "text/plain": [
       "<Figure size 432x288 with 1 Axes>"
      ]
     },
     "metadata": {
      "needs_background": "light"
     },
     "output_type": "display_data"
    }
   ],
   "source": [
    "ei = lm_cdi_1a.resid\n",
    "fitted_values = lm_cdi_1a.fittedvalues\n",
    "plt.scatter(fitted_values,ei)"
   ]
  },
  {
   "cell_type": "code",
   "execution_count": 16,
   "metadata": {},
   "outputs": [
    {
     "data": {
      "text/plain": [
       "Intercept    0.056288\n",
       "x1           0.010052\n",
       "x3          -0.000205\n",
       "x1sqr        0.000013\n",
       "x3sqr        0.000889\n",
       "x1x3         0.004266\n",
       "dtype: float64"
      ]
     },
     "execution_count": 16,
     "metadata": {},
     "output_type": "execute_result"
    }
   ],
   "source": [
    "coeffs = lm_cdi_1a.params\n",
    "coeffs"
   ]
  },
  {
   "cell_type": "code",
   "execution_count": 21,
   "metadata": {},
   "outputs": [
    {
     "name": "stdout",
     "output_type": "stream",
     "text": [
      "The regression model is Yhat = 0.05628803374324597 + 0.01005156005150148*x1 + -0.0002054996301641967*x3 + 1.2966975612571088e-05*x1sqr + 0.0008885208310572405*x3sqr + 0.004266375165763692*x1x3\n"
     ]
    }
   ],
   "source": [
    "print(\"The regression model is Yhat = %s + %s*x1 + %s*x3 + %s*x1sqr + %s*x3sqr + %s*x1x3\" %(coeffs[\"Intercept\"], coeffs[\"x1\"], coeffs[\"x3\"], coeffs[\"x1sqr\"], coeffs[\"x3sqr\"], coeffs[\"x1x3\"]))"
   ]
  },
  {
   "cell_type": "code",
   "execution_count": 24,
   "metadata": {},
   "outputs": [
    {
     "name": "stdout",
     "output_type": "stream",
     "text": [
      "R-squared = 0.24847487775386223\n"
     ]
    }
   ],
   "source": [
    "print(\"R-squared = %s\"%lm_cdi_1a.rsquared)"
   ]
  },
  {
   "cell_type": "markdown",
   "metadata": {},
   "source": [
    "We can see that the regression model is not a very great fit based on the $R^2$ and the residual plot (we can see outliers and non-constant variance in the error terms)."
   ]
  },
  {
   "cell_type": "markdown",
   "metadata": {},
   "source": [
    "**(b)** \n",
    "\n",
    "Test whether or not all quadratic and interaction terms can be dropped from the regression model; use α = .01. State the alternatives, decision rule, and conclusion. (5pts)\n",
    "\n",
    "**Solution:**"
   ]
  },
  {
   "cell_type": "code",
   "execution_count": 26,
   "metadata": {},
   "outputs": [
    {
     "data": {
      "text/html": [
       "<table class=\"simpletable\">\n",
       "<tr>\n",
       "        <td>Model:</td>               <td>OLS</td>         <td>Adj. R-squared:</td>      <td>0.228</td>  \n",
       "</tr>\n",
       "<tr>\n",
       "  <td>Dependent Variable:</td>         <td>Y</td>               <td>AIC:</td>         <td>-2030.2191</td>\n",
       "</tr>\n",
       "<tr>\n",
       "         <td>Date:</td>        <td>2019-11-18 00:01</td>        <td>BIC:</td>         <td>-2017.9588</td>\n",
       "</tr>\n",
       "<tr>\n",
       "   <td>No. Observations:</td>         <td>440</td>         <td>Log-Likelihood:</td>     <td>1018.1</td>  \n",
       "</tr>\n",
       "<tr>\n",
       "       <td>Df Model:</td>              <td>2</td>           <td>F-statistic:</td>        <td>65.92</td>  \n",
       "</tr>\n",
       "<tr>\n",
       "     <td>Df Residuals:</td>           <td>437</td>       <td>Prob (F-statistic):</td>  <td>9.55e-26</td> \n",
       "</tr>\n",
       "<tr>\n",
       "      <td>R-squared:</td>            <td>0.232</td>            <td>Scale:</td>        <td>0.00057634</td>\n",
       "</tr>\n",
       "</table>\n",
       "<table class=\"simpletable\">\n",
       "<tr>\n",
       "      <td></td>       <th>Coef.</th> <th>Std.Err.</th>    <th>t</th>     <th>P>|t|</th> <th>[0.025</th>  <th>0.975]</th>\n",
       "</tr>\n",
       "<tr>\n",
       "  <th>Intercept</th> <td>0.0573</td>  <td>0.0011</td>  <td>50.0538</td> <td>0.0000</td> <td>0.0550</td>  <td>0.0595</td>\n",
       "</tr>\n",
       "<tr>\n",
       "  <th>x1</th>        <td>0.0131</td>  <td>0.0011</td>  <td>11.4387</td> <td>0.0000</td> <td>0.0108</td>  <td>0.0153</td>\n",
       "</tr>\n",
       "<tr>\n",
       "  <th>x3</th>        <td>0.0008</td>  <td>0.0011</td>  <td>0.7379</td>  <td>0.4609</td> <td>-0.0014</td> <td>0.0031</td>\n",
       "</tr>\n",
       "</table>\n",
       "<table class=\"simpletable\">\n",
       "<tr>\n",
       "     <td>Omnibus:</td>    <td>20.529</td>  <td>Durbin-Watson:</td>    <td>1.818</td>\n",
       "</tr>\n",
       "<tr>\n",
       "  <td>Prob(Omnibus):</td>  <td>0.000</td> <td>Jarque-Bera (JB):</td> <td>22.164</td>\n",
       "</tr>\n",
       "<tr>\n",
       "       <td>Skew:</td>      <td>0.542</td>     <td>Prob(JB):</td>      <td>0.000</td>\n",
       "</tr>\n",
       "<tr>\n",
       "     <td>Kurtosis:</td>    <td>3.188</td>  <td>Condition No.:</td>      <td>1</td>  \n",
       "</tr>\n",
       "</table>"
      ],
      "text/plain": [
       "<class 'statsmodels.iolib.summary2.Summary'>\n",
       "\"\"\"\n",
       "                  Results: Ordinary least squares\n",
       "===================================================================\n",
       "Model:              OLS              Adj. R-squared:     0.228     \n",
       "Dependent Variable: Y                AIC:                -2030.2191\n",
       "Date:               2019-11-18 00:01 BIC:                -2017.9588\n",
       "No. Observations:   440              Log-Likelihood:     1018.1    \n",
       "Df Model:           2                F-statistic:        65.92     \n",
       "Df Residuals:       437              Prob (F-statistic): 9.55e-26  \n",
       "R-squared:          0.232            Scale:              0.00057634\n",
       "---------------------------------------------------------------------\n",
       "              Coef.    Std.Err.      t      P>|t|     [0.025   0.975]\n",
       "---------------------------------------------------------------------\n",
       "Intercept     0.0573     0.0011   50.0538   0.0000    0.0550   0.0595\n",
       "x1            0.0131     0.0011   11.4387   0.0000    0.0108   0.0153\n",
       "x3            0.0008     0.0011    0.7379   0.4609   -0.0014   0.0031\n",
       "-------------------------------------------------------------------\n",
       "Omnibus:              20.529        Durbin-Watson:           1.818 \n",
       "Prob(Omnibus):        0.000         Jarque-Bera (JB):        22.164\n",
       "Skew:                 0.542         Prob(JB):                0.000 \n",
       "Kurtosis:             3.188         Condition No.:           1     \n",
       "===================================================================\n",
       "\n",
       "\"\"\""
      ]
     },
     "execution_count": 26,
     "metadata": {},
     "output_type": "execute_result"
    }
   ],
   "source": [
    "lm_cdi_1b = ols(\"Y~x1+x3\", data=df_1).fit()\n",
    "lm_cdi_1b.summary2()"
   ]
  },
  {
   "cell_type": "code",
   "execution_count": 27,
   "metadata": {},
   "outputs": [
    {
     "name": "stderr",
     "output_type": "stream",
     "text": [
      "/home/srk-apts/anaconda3/lib/python3.7/site-packages/scipy/stats/_distn_infrastructure.py:901: RuntimeWarning: invalid value encountered in greater\n",
      "  return (a < x) & (x < b)\n",
      "/home/srk-apts/anaconda3/lib/python3.7/site-packages/scipy/stats/_distn_infrastructure.py:901: RuntimeWarning: invalid value encountered in less\n",
      "  return (a < x) & (x < b)\n",
      "/home/srk-apts/anaconda3/lib/python3.7/site-packages/scipy/stats/_distn_infrastructure.py:1892: RuntimeWarning: invalid value encountered in less_equal\n",
      "  cond2 = cond0 & (x <= _a)\n"
     ]
    },
    {
     "data": {
      "text/html": [
       "<div>\n",
       "<style scoped>\n",
       "    .dataframe tbody tr th:only-of-type {\n",
       "        vertical-align: middle;\n",
       "    }\n",
       "\n",
       "    .dataframe tbody tr th {\n",
       "        vertical-align: top;\n",
       "    }\n",
       "\n",
       "    .dataframe thead th {\n",
       "        text-align: right;\n",
       "    }\n",
       "</style>\n",
       "<table border=\"1\" class=\"dataframe\">\n",
       "  <thead>\n",
       "    <tr style=\"text-align: right;\">\n",
       "      <th></th>\n",
       "      <th>df_resid</th>\n",
       "      <th>ssr</th>\n",
       "      <th>df_diff</th>\n",
       "      <th>ss_diff</th>\n",
       "      <th>F</th>\n",
       "      <th>Pr(&gt;F)</th>\n",
       "    </tr>\n",
       "  </thead>\n",
       "  <tbody>\n",
       "    <tr>\n",
       "      <th>0</th>\n",
       "      <td>437.0</td>\n",
       "      <td>0.251862</td>\n",
       "      <td>0.0</td>\n",
       "      <td>NaN</td>\n",
       "      <td>NaN</td>\n",
       "      <td>NaN</td>\n",
       "    </tr>\n",
       "    <tr>\n",
       "      <th>1</th>\n",
       "      <td>434.0</td>\n",
       "      <td>0.246385</td>\n",
       "      <td>3.0</td>\n",
       "      <td>0.005477</td>\n",
       "      <td>3.215874</td>\n",
       "      <td>0.022775</td>\n",
       "    </tr>\n",
       "  </tbody>\n",
       "</table>\n",
       "</div>"
      ],
      "text/plain": [
       "   df_resid       ssr  df_diff   ss_diff         F    Pr(>F)\n",
       "0     437.0  0.251862      0.0       NaN       NaN       NaN\n",
       "1     434.0  0.246385      3.0  0.005477  3.215874  0.022775"
      ]
     },
     "execution_count": 27,
     "metadata": {},
     "output_type": "execute_result"
    }
   ],
   "source": [
    "anova_lm(lm_cdi_1b, lm_cdi_1a)"
   ]
  },
  {
   "cell_type": "code",
   "execution_count": 29,
   "metadata": {},
   "outputs": [
    {
     "name": "stdout",
     "output_type": "stream",
     "text": [
      "3.826715087291002\n"
     ]
    }
   ],
   "source": [
    "FStar = 3.2159 # from the above anova \n",
    "\n",
    "df_diff = 3\n",
    "df_E = lm_cdi_1b.df_resid\n",
    "alpha = 0.01\n",
    "FTest = stats.f.ppf(1-alpha, df_diff, df_E)\n",
    "print(FTest)"
   ]
  },
  {
   "cell_type": "markdown",
   "metadata": {},
   "source": [
    "*Hypotheses:*\n",
    "\n",
    "$H_0: \\beta_{11} = \\beta_{33} = \\beta_{13} = 0$ \n",
    "\n",
    "$H_a:$ Not all $\\beta$'s are equal to zero\n",
    "\n",
    "\n",
    "*Decision Rules:*\n",
    "\n",
    "If $F^* \\leq$ `r FTest`, conclude $H_0$\n",
    "\n",
    "If $F^* >$ `r FTest`, conclude $H_a$\n",
    "\n",
    "*Conclusion:*\n",
    "\n",
    "Since our test statistic, $F^* =$ `r FStar`, and `r FStar` $\\leq$ `r FTest`, we conclude $H_0$. Also, we can see that the p-value is 0.02278 (from ANOVA) which is greater that the given $\\alpha=0.01$. Thus, we can remove all the quadratic and interaction terms."
   ]
  },
  {
   "cell_type": "markdown",
   "metadata": {},
   "source": [
    "**(c)** \n",
    "\n",
    "Instead of the predictor variable population density, total population (X1) and land area (X2) are to be employed as separate predictor variables, in addition to unemployment rate (X3). The regression model should contain linear and quadratic terms for total population, and linear terms only for land area and unemployment rate. (No interaction terms are to be included in this model.) Fit this regression model and obtain R2. Is this coefficient of multiple determination substantially different from the one for the regression model in part a? (5pts)\n",
    "\n",
    "**Solution:**\n"
   ]
  },
  {
   "cell_type": "code",
   "execution_count": 33,
   "metadata": {},
   "outputs": [],
   "source": [
    "df_1c = cdi_data\n",
    "X1 = cdi_data[\"Total population\"]\n",
    "X2 = cdi_data[\"Land area\"]\n",
    "X3 = cdi_data[\"Percent unemployment\"]\n",
    "\n",
    "df_1c[\"x1\"] = (X1-np.mean(X1))/np.std(X1)\n",
    "df_1c[\"x2\"] = (X2-np.mean(X2))/np.std(X2)\n",
    "df_1c[\"x3\"] = (X3-np.mean(X3))/np.std(X3)\n",
    "df_1c[\"x1sqr\"] = df_1c[\"x1\"]**2\n"
   ]
  },
  {
   "cell_type": "code",
   "execution_count": 35,
   "metadata": {},
   "outputs": [
    {
     "data": {
      "text/html": [
       "<table class=\"simpletable\">\n",
       "<tr>\n",
       "        <td>Model:</td>               <td>OLS</td>         <td>Adj. R-squared:</td>      <td>0.137</td>  \n",
       "</tr>\n",
       "<tr>\n",
       "  <td>Dependent Variable:</td>         <td>Y</td>               <td>AIC:</td>         <td>-1978.8248</td>\n",
       "</tr>\n",
       "<tr>\n",
       "         <td>Date:</td>        <td>2019-11-18 00:09</td>        <td>BIC:</td>         <td>-1958.3909</td>\n",
       "</tr>\n",
       "<tr>\n",
       "   <td>No. Observations:</td>         <td>440</td>         <td>Log-Likelihood:</td>     <td>994.41</td>  \n",
       "</tr>\n",
       "<tr>\n",
       "       <td>Df Model:</td>              <td>4</td>           <td>F-statistic:</td>        <td>18.35</td>  \n",
       "</tr>\n",
       "<tr>\n",
       "     <td>Df Residuals:</td>           <td>435</td>       <td>Prob (F-statistic):</td>  <td>6.02e-14</td> \n",
       "</tr>\n",
       "<tr>\n",
       "      <td>R-squared:</td>            <td>0.144</td>            <td>Scale:</td>        <td>0.00064484</td>\n",
       "</tr>\n",
       "</table>\n",
       "<table class=\"simpletable\">\n",
       "<tr>\n",
       "      <td></td>       <th>Coef.</th>  <th>Std.Err.</th>    <th>t</th>     <th>P>|t|</th> <th>[0.025</th>  <th>0.975]</th> \n",
       "</tr>\n",
       "<tr>\n",
       "  <th>Intercept</th> <td>0.0585</td>   <td>0.0012</td>  <td>47.5952</td> <td>0.0000</td> <td>0.0561</td>  <td>0.0609</td> \n",
       "</tr>\n",
       "<tr>\n",
       "  <th>x1</th>        <td>0.0177</td>   <td>0.0021</td>  <td>8.2762</td>  <td>0.0000</td> <td>0.0135</td>  <td>0.0219</td> \n",
       "</tr>\n",
       "<tr>\n",
       "  <th>x2</th>        <td>-0.0009</td>  <td>0.0013</td>  <td>-0.6865</td> <td>0.4927</td> <td>-0.0033</td> <td>0.0016</td> \n",
       "</tr>\n",
       "<tr>\n",
       "  <th>x3</th>        <td>0.0016</td>   <td>0.0012</td>  <td>1.2873</td>  <td>0.1987</td> <td>-0.0008</td> <td>0.0040</td> \n",
       "</tr>\n",
       "<tr>\n",
       "  <th>x1sqr</th>     <td>-0.0012</td>  <td>0.0002</td>  <td>-5.7095</td> <td>0.0000</td> <td>-0.0016</td> <td>-0.0008</td>\n",
       "</tr>\n",
       "</table>\n",
       "<table class=\"simpletable\">\n",
       "<tr>\n",
       "     <td>Omnibus:</td>    <td>160.964</td>  <td>Durbin-Watson:</td>     <td>1.967</td> \n",
       "</tr>\n",
       "<tr>\n",
       "  <td>Prob(Omnibus):</td>  <td>0.000</td>  <td>Jarque-Bera (JB):</td> <td>1090.601</td>\n",
       "</tr>\n",
       "<tr>\n",
       "       <td>Skew:</td>      <td>1.404</td>      <td>Prob(JB):</td>       <td>0.000</td> \n",
       "</tr>\n",
       "<tr>\n",
       "     <td>Kurtosis:</td>   <td>10.184</td>   <td>Condition No.:</td>      <td>18</td>   \n",
       "</tr>\n",
       "</table>"
      ],
      "text/plain": [
       "<class 'statsmodels.iolib.summary2.Summary'>\n",
       "\"\"\"\n",
       "                  Results: Ordinary least squares\n",
       "===================================================================\n",
       "Model:              OLS              Adj. R-squared:     0.137     \n",
       "Dependent Variable: Y                AIC:                -1978.8248\n",
       "Date:               2019-11-18 00:09 BIC:                -1958.3909\n",
       "No. Observations:   440              Log-Likelihood:     994.41    \n",
       "Df Model:           4                F-statistic:        18.35     \n",
       "Df Residuals:       435              Prob (F-statistic): 6.02e-14  \n",
       "R-squared:          0.144            Scale:              0.00064484\n",
       "---------------------------------------------------------------------\n",
       "             Coef.    Std.Err.      t      P>|t|     [0.025    0.975]\n",
       "---------------------------------------------------------------------\n",
       "Intercept    0.0585     0.0012   47.5952   0.0000    0.0561    0.0609\n",
       "x1           0.0177     0.0021    8.2762   0.0000    0.0135    0.0219\n",
       "x2          -0.0009     0.0013   -0.6865   0.4927   -0.0033    0.0016\n",
       "x3           0.0016     0.0012    1.2873   0.1987   -0.0008    0.0040\n",
       "x1sqr       -0.0012     0.0002   -5.7095   0.0000   -0.0016   -0.0008\n",
       "-------------------------------------------------------------------\n",
       "Omnibus:             160.964       Durbin-Watson:          1.967   \n",
       "Prob(Omnibus):       0.000         Jarque-Bera (JB):       1090.601\n",
       "Skew:                1.404         Prob(JB):               0.000   \n",
       "Kurtosis:            10.184        Condition No.:          18      \n",
       "===================================================================\n",
       "\n",
       "\"\"\""
      ]
     },
     "execution_count": 35,
     "metadata": {},
     "output_type": "execute_result"
    }
   ],
   "source": [
    "lm_cdi_1c = ols(\"Y~x1+x2+x3+x1sqr\", data=df_1c).fit()\n",
    "lm_cdi_1c.summary2()"
   ]
  },
  {
   "cell_type": "code",
   "execution_count": 36,
   "metadata": {},
   "outputs": [
    {
     "name": "stderr",
     "output_type": "stream",
     "text": [
      "/home/srk-apts/anaconda3/lib/python3.7/site-packages/scipy/stats/_distn_infrastructure.py:901: RuntimeWarning: invalid value encountered in greater\n",
      "  return (a < x) & (x < b)\n",
      "/home/srk-apts/anaconda3/lib/python3.7/site-packages/scipy/stats/_distn_infrastructure.py:901: RuntimeWarning: invalid value encountered in less\n",
      "  return (a < x) & (x < b)\n",
      "/home/srk-apts/anaconda3/lib/python3.7/site-packages/scipy/stats/_distn_infrastructure.py:1892: RuntimeWarning: invalid value encountered in less_equal\n",
      "  cond2 = cond0 & (x <= _a)\n"
     ]
    },
    {
     "data": {
      "text/html": [
       "<div>\n",
       "<style scoped>\n",
       "    .dataframe tbody tr th:only-of-type {\n",
       "        vertical-align: middle;\n",
       "    }\n",
       "\n",
       "    .dataframe tbody tr th {\n",
       "        vertical-align: top;\n",
       "    }\n",
       "\n",
       "    .dataframe thead th {\n",
       "        text-align: right;\n",
       "    }\n",
       "</style>\n",
       "<table border=\"1\" class=\"dataframe\">\n",
       "  <thead>\n",
       "    <tr style=\"text-align: right;\">\n",
       "      <th></th>\n",
       "      <th>df_resid</th>\n",
       "      <th>ssr</th>\n",
       "      <th>df_diff</th>\n",
       "      <th>ss_diff</th>\n",
       "      <th>F</th>\n",
       "      <th>Pr(&gt;F)</th>\n",
       "    </tr>\n",
       "  </thead>\n",
       "  <tbody>\n",
       "    <tr>\n",
       "      <th>0</th>\n",
       "      <td>435.0</td>\n",
       "      <td>0.280506</td>\n",
       "      <td>0.0</td>\n",
       "      <td>NaN</td>\n",
       "      <td>NaN</td>\n",
       "      <td>NaN</td>\n",
       "    </tr>\n",
       "    <tr>\n",
       "      <th>1</th>\n",
       "      <td>434.0</td>\n",
       "      <td>0.246385</td>\n",
       "      <td>1.0</td>\n",
       "      <td>0.034121</td>\n",
       "      <td>60.103526</td>\n",
       "      <td>6.460433e-14</td>\n",
       "    </tr>\n",
       "  </tbody>\n",
       "</table>\n",
       "</div>"
      ],
      "text/plain": [
       "   df_resid       ssr  df_diff   ss_diff          F        Pr(>F)\n",
       "0     435.0  0.280506      0.0       NaN        NaN           NaN\n",
       "1     434.0  0.246385      1.0  0.034121  60.103526  6.460433e-14"
      ]
     },
     "execution_count": 36,
     "metadata": {},
     "output_type": "execute_result"
    }
   ],
   "source": [
    "anova_lm(lm_cdi_1c, lm_cdi_1a)"
   ]
  },
  {
   "cell_type": "code",
   "execution_count": 37,
   "metadata": {},
   "outputs": [
    {
     "name": "stdout",
     "output_type": "stream",
     "text": [
      "R-squared = 0.14439812795141238\n"
     ]
    }
   ],
   "source": [
    "print(\"R-squared = %s\" %lm_cdi_1c.rsquared)"
   ]
  },
  {
   "cell_type": "markdown",
   "metadata": {},
   "source": [
    "*Interpretation:* \n",
    "\n",
    "We can see from the ANOVA that the model in Q1(c) is substantially different than the one in part (a), since the p-value is very low (<<0.001). Also, the $R^2$ is substantially different for the two models.\n"
   ]
  },
  {
   "cell_type": "markdown",
   "metadata": {},
   "source": [
    "**Question 2** Refer to the CDI data set. The number of active physicians (Y) is to be regressed against total population (X1), total personal income (X2), and geographic region (X3, X4, X5). (15pts)\n",
    "\n",
    "**(a)** Fit a first-order regression model. Let X3 =1 if NE and 0 otherwise, X4 = 1 if NC and 0 otherwise, and X5 = 1I if S and 0 otherwise. (5pts)\n",
    "\n",
    "\n",
    "**Solution:**"
   ]
  },
  {
   "cell_type": "code",
   "execution_count": 53,
   "metadata": {},
   "outputs": [],
   "source": [
    "df_2 = cdi_data\n",
    "\n",
    "df_2[\"Y\"] = df_2[\"Number of active physicians\"]\n",
    "df_2[\"X1\"] = df_2[\"Total population\"]\n",
    "df_2[\"X2\"] = df_2[\"Total personal income\"]\n",
    "df_2[\"X3\"] = pd.get_dummies(df_2[\"Geographic region\"])[1]\n",
    "df_2[\"X4\"] = pd.get_dummies(df_2[\"Geographic region\"])[2]\n",
    "df_2[\"X5\"] = pd.get_dummies(df_2[\"Geographic region\"])[3]"
   ]
  },
  {
   "cell_type": "code",
   "execution_count": 55,
   "metadata": {},
   "outputs": [
    {
     "data": {
      "text/html": [
       "<table class=\"simpletable\">\n",
       "<tr>\n",
       "        <td>Model:</td>               <td>OLS</td>         <td>Adj. R-squared:</td>      <td>0.900</td>  \n",
       "</tr>\n",
       "<tr>\n",
       "  <td>Dependent Variable:</td>         <td>Y</td>               <td>AIC:</td>          <td>6832.7739</td>\n",
       "</tr>\n",
       "<tr>\n",
       "         <td>Date:</td>        <td>2019-11-18 00:21</td>        <td>BIC:</td>          <td>6857.2946</td>\n",
       "</tr>\n",
       "<tr>\n",
       "   <td>No. Observations:</td>         <td>440</td>         <td>Log-Likelihood:</td>     <td>-3410.4</td> \n",
       "</tr>\n",
       "<tr>\n",
       "       <td>Df Model:</td>              <td>5</td>           <td>F-statistic:</td>        <td>790.7</td>  \n",
       "</tr>\n",
       "<tr>\n",
       "     <td>Df Residuals:</td>           <td>434</td>       <td>Prob (F-statistic):</td>  <td>1.94e-215</td>\n",
       "</tr>\n",
       "<tr>\n",
       "      <td>R-squared:</td>            <td>0.901</td>            <td>Scale:</td>        <td>3.2049e+05</td>\n",
       "</tr>\n",
       "</table>\n",
       "<table class=\"simpletable\">\n",
       "<tr>\n",
       "      <td></td>        <th>Coef.</th>   <th>Std.Err.</th>    <th>t</th>     <th>P>|t|</th>  <th>[0.025</th>    <th>0.975]</th> \n",
       "</tr>\n",
       "<tr>\n",
       "  <th>Intercept</th> <td>-207.4957</td>  <td>70.2816</td> <td>-2.9523</td> <td>0.0033</td> <td>-345.6304</td> <td>-69.3611</td>\n",
       "</tr>\n",
       "<tr>\n",
       "  <th>X1</th>         <td>0.0006</td>    <td>0.0003</td>  <td>1.9449</td>  <td>0.0524</td>  <td>-0.0000</td>   <td>0.0011</td> \n",
       "</tr>\n",
       "<tr>\n",
       "  <th>X2</th>         <td>0.1070</td>    <td>0.0133</td>  <td>8.0733</td>  <td>0.0000</td>  <td>0.0810</td>    <td>0.1331</td> \n",
       "</tr>\n",
       "<tr>\n",
       "  <th>X3</th>        <td>149.0196</td>   <td>86.8332</td> <td>1.7162</td>  <td>0.0868</td> <td>-21.6462</td>  <td>319.6854</td>\n",
       "</tr>\n",
       "<tr>\n",
       "  <th>X4</th>        <td>145.5264</td>   <td>85.1529</td> <td>1.7090</td>  <td>0.0882</td> <td>-21.8370</td>  <td>312.8898</td>\n",
       "</tr>\n",
       "<tr>\n",
       "  <th>X5</th>        <td>191.2163</td>   <td>80.0330</td> <td>2.3892</td>  <td>0.0173</td>  <td>33.9158</td>  <td>348.5168</td>\n",
       "</tr>\n",
       "</table>\n",
       "<table class=\"simpletable\">\n",
       "<tr>\n",
       "     <td>Omnibus:</td>    <td>287.005</td>  <td>Durbin-Watson:</td>     <td>2.106</td> \n",
       "</tr>\n",
       "<tr>\n",
       "  <td>Prob(Omnibus):</td>  <td>0.000</td>  <td>Jarque-Bera (JB):</td> <td>3872.740</td>\n",
       "</tr>\n",
       "<tr>\n",
       "       <td>Skew:</td>      <td>2.603</td>      <td>Prob(JB):</td>       <td>0.000</td> \n",
       "</tr>\n",
       "<tr>\n",
       "     <td>Kurtosis:</td>   <td>16.570</td>   <td>Condition No.:</td>    <td>3735632</td>\n",
       "</tr>\n",
       "</table>"
      ],
      "text/plain": [
       "<class 'statsmodels.iolib.summary2.Summary'>\n",
       "\"\"\"\n",
       "                  Results: Ordinary least squares\n",
       "===================================================================\n",
       "Model:              OLS              Adj. R-squared:     0.900     \n",
       "Dependent Variable: Y                AIC:                6832.7739 \n",
       "Date:               2019-11-18 00:21 BIC:                6857.2946 \n",
       "No. Observations:   440              Log-Likelihood:     -3410.4   \n",
       "Df Model:           5                F-statistic:        790.7     \n",
       "Df Residuals:       434              Prob (F-statistic): 1.94e-215 \n",
       "R-squared:          0.901            Scale:              3.2049e+05\n",
       "--------------------------------------------------------------------\n",
       "             Coef.    Std.Err.     t     P>|t|     [0.025    0.975] \n",
       "--------------------------------------------------------------------\n",
       "Intercept  -207.4957   70.2816  -2.9523  0.0033  -345.6304  -69.3611\n",
       "X1            0.0006    0.0003   1.9449  0.0524    -0.0000    0.0011\n",
       "X2            0.1070    0.0133   8.0733  0.0000     0.0810    0.1331\n",
       "X3          149.0196   86.8332   1.7162  0.0868   -21.6462  319.6854\n",
       "X4          145.5264   85.1529   1.7090  0.0882   -21.8370  312.8898\n",
       "X5          191.2163   80.0330   2.3892  0.0173    33.9158  348.5168\n",
       "-------------------------------------------------------------------\n",
       "Omnibus:             287.005       Durbin-Watson:          2.106   \n",
       "Prob(Omnibus):       0.000         Jarque-Bera (JB):       3872.740\n",
       "Skew:                2.603         Prob(JB):               0.000   \n",
       "Kurtosis:            16.570        Condition No.:          3735632 \n",
       "===================================================================\n",
       "* The condition number is large (4e+06). This might indicate\n",
       "strong multicollinearity or other numerical problems.\n",
       "\"\"\""
      ]
     },
     "execution_count": 55,
     "metadata": {},
     "output_type": "execute_result"
    }
   ],
   "source": [
    "lm_cdi_2a = ols(\"Y~X1+X2+X3+X4+X5\", data=df_2).fit()\n",
    "lm_cdi_2a.summary2()"
   ]
  },
  {
   "cell_type": "markdown",
   "metadata": {},
   "source": [
    "**(b)** \n",
    "\n",
    "Examine whether the effect for the northeastern region on number of active physicians differs from the effect for the north central region by constructing an appropriate 90 percent confidence interval. Interpret your interval estimate. (5pts)"
   ]
  },
  {
   "cell_type": "code",
   "execution_count": 57,
   "metadata": {},
   "outputs": [
    {
     "data": {
      "text/html": [
       "<div>\n",
       "<style scoped>\n",
       "    .dataframe tbody tr th:only-of-type {\n",
       "        vertical-align: middle;\n",
       "    }\n",
       "\n",
       "    .dataframe tbody tr th {\n",
       "        vertical-align: top;\n",
       "    }\n",
       "\n",
       "    .dataframe thead th {\n",
       "        text-align: right;\n",
       "    }\n",
       "</style>\n",
       "<table border=\"1\" class=\"dataframe\">\n",
       "  <thead>\n",
       "    <tr style=\"text-align: right;\">\n",
       "      <th></th>\n",
       "      <th>0</th>\n",
       "      <th>1</th>\n",
       "    </tr>\n",
       "  </thead>\n",
       "  <tbody>\n",
       "    <tr>\n",
       "      <th>Intercept</th>\n",
       "      <td>-323.345998</td>\n",
       "      <td>-91.645500</td>\n",
       "    </tr>\n",
       "    <tr>\n",
       "      <th>X1</th>\n",
       "      <td>0.000084</td>\n",
       "      <td>0.001019</td>\n",
       "    </tr>\n",
       "    <tr>\n",
       "      <th>X2</th>\n",
       "      <td>0.085162</td>\n",
       "      <td>0.128861</td>\n",
       "    </tr>\n",
       "    <tr>\n",
       "      <th>X3</th>\n",
       "      <td>5.886209</td>\n",
       "      <td>292.152935</td>\n",
       "    </tr>\n",
       "    <tr>\n",
       "      <th>X4</th>\n",
       "      <td>5.162733</td>\n",
       "      <td>285.890159</td>\n",
       "    </tr>\n",
       "    <tr>\n",
       "      <th>X5</th>\n",
       "      <td>59.292112</td>\n",
       "      <td>323.140497</td>\n",
       "    </tr>\n",
       "  </tbody>\n",
       "</table>\n",
       "</div>"
      ],
      "text/plain": [
       "                    0           1\n",
       "Intercept -323.345998  -91.645500\n",
       "X1           0.000084    0.001019\n",
       "X2           0.085162    0.128861\n",
       "X3           5.886209  292.152935\n",
       "X4           5.162733  285.890159\n",
       "X5          59.292112  323.140497"
      ]
     },
     "execution_count": 57,
     "metadata": {},
     "output_type": "execute_result"
    }
   ],
   "source": [
    "alpha = 0.1\n",
    "lm_cdi_2a.conf_int(alpha=alpha)"
   ]
  },
  {
   "cell_type": "markdown",
   "metadata": {},
   "source": [
    "*Interpretation:*\n",
    "\n",
    "The confidence interval estimates for Northeastern region (X3) are not significantly different that those for Northcentral region (X4)."
   ]
  },
  {
   "cell_type": "markdown",
   "metadata": {},
   "source": [
    "**(c)** \n",
    "\n",
    "Test whether any geographic effects are present; use α= .10. State the alternatives, decision rule, and conclusion. What is the P-value of the test? (5pts)"
   ]
  },
  {
   "cell_type": "code",
   "execution_count": 59,
   "metadata": {},
   "outputs": [
    {
     "data": {
      "text/html": [
       "<table class=\"simpletable\">\n",
       "<tr>\n",
       "        <td>Model:</td>               <td>OLS</td>         <td>Adj. R-squared:</td>      <td>0.899</td>  \n",
       "</tr>\n",
       "<tr>\n",
       "  <td>Dependent Variable:</td>         <td>Y</td>               <td>AIC:</td>          <td>6832.6613</td>\n",
       "</tr>\n",
       "<tr>\n",
       "         <td>Date:</td>        <td>2019-11-18 00:25</td>        <td>BIC:</td>          <td>6844.9216</td>\n",
       "</tr>\n",
       "<tr>\n",
       "   <td>No. Observations:</td>         <td>440</td>         <td>Log-Likelihood:</td>     <td>-3413.3</td> \n",
       "</tr>\n",
       "<tr>\n",
       "       <td>Df Model:</td>              <td>2</td>           <td>F-statistic:</td>        <td>1961.</td>  \n",
       "</tr>\n",
       "<tr>\n",
       "     <td>Df Residuals:</td>           <td>437</td>       <td>Prob (F-statistic):</td>  <td>5.41e-219</td>\n",
       "</tr>\n",
       "<tr>\n",
       "      <td>R-squared:</td>            <td>0.900</td>            <td>Scale:</td>        <td>3.2258e+05</td>\n",
       "</tr>\n",
       "</table>\n",
       "<table class=\"simpletable\">\n",
       "<tr>\n",
       "      <td></td>        <th>Coef.</th>  <th>Std.Err.</th>    <th>t</th>     <th>P>|t|</th>  <th>[0.025</th>   <th>0.975]</th>\n",
       "</tr>\n",
       "<tr>\n",
       "  <th>Intercept</th> <td>-64.4382</td>  <td>32.8258</td> <td>-1.9630</td> <td>0.0503</td> <td>-128.9543</td> <td>0.0779</td>\n",
       "</tr>\n",
       "<tr>\n",
       "  <th>X1</th>         <td>0.0005</td>   <td>0.0003</td>  <td>1.9135</td>  <td>0.0563</td>  <td>-0.0000</td>  <td>0.0011</td>\n",
       "</tr>\n",
       "<tr>\n",
       "  <th>X2</th>         <td>0.1072</td>   <td>0.0130</td>  <td>8.2692</td>  <td>0.0000</td>  <td>0.0817</td>   <td>0.1327</td>\n",
       "</tr>\n",
       "</table>\n",
       "<table class=\"simpletable\">\n",
       "<tr>\n",
       "     <td>Omnibus:</td>    <td>287.580</td>  <td>Durbin-Watson:</td>     <td>2.117</td> \n",
       "</tr>\n",
       "<tr>\n",
       "  <td>Prob(Omnibus):</td>  <td>0.000</td>  <td>Jarque-Bera (JB):</td> <td>3874.314</td>\n",
       "</tr>\n",
       "<tr>\n",
       "       <td>Skew:</td>      <td>2.611</td>      <td>Prob(JB):</td>       <td>0.000</td> \n",
       "</tr>\n",
       "<tr>\n",
       "     <td>Kurtosis:</td>   <td>16.567</td>   <td>Condition No.:</td>    <td>871067</td> \n",
       "</tr>\n",
       "</table>"
      ],
      "text/plain": [
       "<class 'statsmodels.iolib.summary2.Summary'>\n",
       "\"\"\"\n",
       "                  Results: Ordinary least squares\n",
       "===================================================================\n",
       "Model:              OLS              Adj. R-squared:     0.899     \n",
       "Dependent Variable: Y                AIC:                6832.6613 \n",
       "Date:               2019-11-18 00:25 BIC:                6844.9216 \n",
       "No. Observations:   440              Log-Likelihood:     -3413.3   \n",
       "Df Model:           2                F-statistic:        1961.     \n",
       "Df Residuals:       437              Prob (F-statistic): 5.41e-219 \n",
       "R-squared:          0.900            Scale:              3.2258e+05\n",
       "--------------------------------------------------------------------\n",
       "               Coef.    Std.Err.     t     P>|t|     [0.025   0.975]\n",
       "--------------------------------------------------------------------\n",
       "Intercept     -64.4382   32.8258  -1.9630  0.0503  -128.9543  0.0779\n",
       "X1              0.0005    0.0003   1.9135  0.0563    -0.0000  0.0011\n",
       "X2              0.1072    0.0130   8.2692  0.0000     0.0817  0.1327\n",
       "-------------------------------------------------------------------\n",
       "Omnibus:             287.580       Durbin-Watson:          2.117   \n",
       "Prob(Omnibus):       0.000         Jarque-Bera (JB):       3874.314\n",
       "Skew:                2.611         Prob(JB):               0.000   \n",
       "Kurtosis:            16.567        Condition No.:          871067  \n",
       "===================================================================\n",
       "* The condition number is large (9e+05). This might indicate\n",
       "strong multicollinearity or other numerical problems.\n",
       "\"\"\""
      ]
     },
     "metadata": {},
     "output_type": "display_data"
    },
    {
     "data": {
      "text/html": [
       "<div>\n",
       "<style scoped>\n",
       "    .dataframe tbody tr th:only-of-type {\n",
       "        vertical-align: middle;\n",
       "    }\n",
       "\n",
       "    .dataframe tbody tr th {\n",
       "        vertical-align: top;\n",
       "    }\n",
       "\n",
       "    .dataframe thead th {\n",
       "        text-align: right;\n",
       "    }\n",
       "</style>\n",
       "<table border=\"1\" class=\"dataframe\">\n",
       "  <thead>\n",
       "    <tr style=\"text-align: right;\">\n",
       "      <th></th>\n",
       "      <th>df_resid</th>\n",
       "      <th>ssr</th>\n",
       "      <th>df_diff</th>\n",
       "      <th>ss_diff</th>\n",
       "      <th>F</th>\n",
       "      <th>Pr(&gt;F)</th>\n",
       "    </tr>\n",
       "  </thead>\n",
       "  <tbody>\n",
       "    <tr>\n",
       "      <th>0</th>\n",
       "      <td>437.0</td>\n",
       "      <td>1.409671e+08</td>\n",
       "      <td>0.0</td>\n",
       "      <td>NaN</td>\n",
       "      <td>NaN</td>\n",
       "      <td>NaN</td>\n",
       "    </tr>\n",
       "    <tr>\n",
       "      <th>1</th>\n",
       "      <td>434.0</td>\n",
       "      <td>1.390935e+08</td>\n",
       "      <td>3.0</td>\n",
       "      <td>1.873626e+06</td>\n",
       "      <td>1.948699</td>\n",
       "      <td>0.121032</td>\n",
       "    </tr>\n",
       "  </tbody>\n",
       "</table>\n",
       "</div>"
      ],
      "text/plain": [
       "   df_resid           ssr  df_diff       ss_diff         F    Pr(>F)\n",
       "0     437.0  1.409671e+08      0.0           NaN       NaN       NaN\n",
       "1     434.0  1.390935e+08      3.0  1.873626e+06  1.948699  0.121032"
      ]
     },
     "execution_count": 59,
     "metadata": {},
     "output_type": "execute_result"
    }
   ],
   "source": [
    "lm_cdi_2c = ols(\"Y~X1+X2\", data=df_2).fit()\n",
    "display(lm_cdi_2c.summary2())\n",
    "anova_lm(lm_cdi_2c, lm_cdi_2a)"
   ]
  },
  {
   "cell_type": "code",
   "execution_count": 60,
   "metadata": {},
   "outputs": [
    {
     "name": "stdout",
     "output_type": "stream",
     "text": [
      "2.0963615332508763\n"
     ]
    }
   ],
   "source": [
    "FStar = 1.9487 # from the above anova \n",
    "\n",
    "df_diff = 3\n",
    "df_E = lm_cdi_1b.df_resid\n",
    "alpha = 0.1\n",
    "FTest = stats.f.ppf(1-alpha, df_diff, df_E)\n",
    "print(FTest)"
   ]
  },
  {
   "cell_type": "markdown",
   "metadata": {},
   "source": [
    "*Hypotheses:*\n",
    "\n",
    "$H_0: \\beta_{3} = \\beta_{4} = \\beta_{5} = 0$ \n",
    "\n",
    "$H_a:$ Not all $\\beta$'s are equal to zero\n",
    "\n",
    "\n",
    "*Decision Rules:*\n",
    "\n",
    "If $F^* \\leq$ `r FTest`, conclude $H_0$\n",
    "\n",
    "If $F^* >$ `r FTest`, conclude $H_a$\n",
    "\n",
    "*Conclusion:*\n",
    "\n",
    "Since our test statistic, $F^* =$ `r FStar`, and `r FStar` $\\leq$ `r FTest`, we conclude $H_0$. Thus, the geographic effects are not present."
   ]
  },
  {
   "cell_type": "markdown",
   "metadata": {},
   "source": [
    "**Quuestion 3** Refer to the Lung pressure Data. Increased arterial blood pressure in the lungs frequently leads to the development of heart failure in patients with chronic obstructive pulmonary disease (COPD). The standard method for determining arterial lung pressure is invasive, technically difficult, and involves some risk to the patient. Radionuclide imaging is a noninvasive, less risky method for estimating arterial pressure in the lungs. To investigate the predictive ability of this method, a cardiologist collected data on 19 mild-to-moderate COPD patients. The data includes the invasive measure of systolic pulmonary arterial pressure (Y) and three potential noninvasive predictor variables. Two were obtained by using radionuclide imaging emptying rate of blood into the pumping chamber or the heart (X1) and ejection rate of blood pumped out of the heart into the lungs (X2) and the third predictor variable measures blood gas (X3). (25pts)\n",
    "\n",
    "\n",
    "**(a)** Fit the multiple regression function containing the three predictor variables us first-order terms. Does it appear that all predictor variables should be retained? (5pts)\n",
    "\n",
    "**Solution:**"
   ]
  },
  {
   "cell_type": "code",
   "execution_count": 62,
   "metadata": {},
   "outputs": [
    {
     "name": "stderr",
     "output_type": "stream",
     "text": [
      "/home/srk-apts/anaconda3/lib/python3.7/site-packages/scipy/stats/stats.py:1450: UserWarning: kurtosistest only valid for n>=20 ... continuing anyway, n=19\n",
      "  \"anyway, n=%i\" % int(n))\n"
     ]
    },
    {
     "data": {
      "text/html": [
       "<table class=\"simpletable\">\n",
       "<tr>\n",
       "        <td>Model:</td>               <td>OLS</td>         <td>Adj. R-squared:</td>     <td>0.537</td> \n",
       "</tr>\n",
       "<tr>\n",
       "  <td>Dependent Variable:</td>         <td>Y</td>               <td>AIC:</td>         <td>158.8476</td>\n",
       "</tr>\n",
       "<tr>\n",
       "         <td>Date:</td>        <td>2019-11-18 00:28</td>        <td>BIC:</td>         <td>162.6254</td>\n",
       "</tr>\n",
       "<tr>\n",
       "   <td>No. Observations:</td>         <td>19</td>          <td>Log-Likelihood:</td>    <td>-75.424</td>\n",
       "</tr>\n",
       "<tr>\n",
       "       <td>Df Model:</td>              <td>3</td>           <td>F-statistic:</td>       <td>7.957</td> \n",
       "</tr>\n",
       "<tr>\n",
       "     <td>Df Residuals:</td>           <td>15</td>        <td>Prob (F-statistic):</td>  <td>0.00208</td>\n",
       "</tr>\n",
       "<tr>\n",
       "      <td>R-squared:</td>            <td>0.614</td>            <td>Scale:</td>         <td>208.07</td> \n",
       "</tr>\n",
       "</table>\n",
       "<table class=\"simpletable\">\n",
       "<tr>\n",
       "      <td></td>       <th>Coef.</th>  <th>Std.Err.</th>    <th>t</th>     <th>P>|t|</th> <th>[0.025</th>   <th>0.975]</th> \n",
       "</tr>\n",
       "<tr>\n",
       "  <th>Intercept</th> <td>87.1875</td>  <td>21.5525</td> <td>4.0454</td>  <td>0.0011</td> <td>41.2495</td> <td>133.1255</td>\n",
       "</tr>\n",
       "<tr>\n",
       "  <th>X1</th>        <td>-0.5645</td>  <td>0.4279</td>  <td>-1.3191</td> <td>0.2069</td> <td>-1.4766</td>  <td>0.3476</td> \n",
       "</tr>\n",
       "<tr>\n",
       "  <th>X2</th>        <td>-0.5132</td>  <td>0.2245</td>  <td>-2.2858</td> <td>0.0372</td> <td>-0.9916</td>  <td>-0.0347</td>\n",
       "</tr>\n",
       "<tr>\n",
       "  <th>X3</th>        <td>-0.0720</td>  <td>0.4546</td>  <td>-0.1583</td> <td>0.8763</td> <td>-1.0409</td>  <td>0.8969</td> \n",
       "</tr>\n",
       "</table>\n",
       "<table class=\"simpletable\">\n",
       "<tr>\n",
       "     <td>Omnibus:</td>    <td>2.637</td>  <td>Durbin-Watson:</td>   <td>1.171</td>\n",
       "</tr>\n",
       "<tr>\n",
       "  <td>Prob(Omnibus):</td> <td>0.268</td> <td>Jarque-Bera (JB):</td> <td>1.623</td>\n",
       "</tr>\n",
       "<tr>\n",
       "       <td>Skew:</td>     <td>0.716</td>     <td>Prob(JB):</td>     <td>0.444</td>\n",
       "</tr>\n",
       "<tr>\n",
       "     <td>Kurtosis:</td>   <td>2.979</td>  <td>Condition No.:</td>    <td>458</td> \n",
       "</tr>\n",
       "</table>"
      ],
      "text/plain": [
       "<class 'statsmodels.iolib.summary2.Summary'>\n",
       "\"\"\"\n",
       "                 Results: Ordinary least squares\n",
       "=================================================================\n",
       "Model:              OLS              Adj. R-squared:     0.537   \n",
       "Dependent Variable: Y                AIC:                158.8476\n",
       "Date:               2019-11-18 00:28 BIC:                162.6254\n",
       "No. Observations:   19               Log-Likelihood:     -75.424 \n",
       "Df Model:           3                F-statistic:        7.957   \n",
       "Df Residuals:       15               Prob (F-statistic): 0.00208 \n",
       "R-squared:          0.614            Scale:              208.07  \n",
       "------------------------------------------------------------------\n",
       "              Coef.   Std.Err.     t     P>|t|    [0.025   0.975] \n",
       "------------------------------------------------------------------\n",
       "Intercept    87.1875   21.5525   4.0454  0.0011  41.2495  133.1255\n",
       "X1           -0.5645    0.4279  -1.3191  0.2069  -1.4766    0.3476\n",
       "X2           -0.5132    0.2245  -2.2858  0.0372  -0.9916   -0.0347\n",
       "X3           -0.0720    0.4546  -0.1583  0.8763  -1.0409    0.8969\n",
       "-----------------------------------------------------------------\n",
       "Omnibus:              2.637        Durbin-Watson:           1.171\n",
       "Prob(Omnibus):        0.268        Jarque-Bera (JB):        1.623\n",
       "Skew:                 0.716        Prob(JB):                0.444\n",
       "Kurtosis:             2.979        Condition No.:           458  \n",
       "=================================================================\n",
       "\n",
       "\"\"\""
      ]
     },
     "execution_count": 62,
     "metadata": {},
     "output_type": "execute_result"
    }
   ],
   "source": [
    "lung_data = pd.read_csv(\"data/Lung Pressure.csv\")\n",
    "lm_lung_3a = ols(\"Y~X1+X2+X3\", data=lung_data).fit()\n",
    "lm_lung_3a.summary2()"
   ]
  },
  {
   "cell_type": "code",
   "execution_count": 63,
   "metadata": {},
   "outputs": [
    {
     "data": {
      "text/html": [
       "<div>\n",
       "<style scoped>\n",
       "    .dataframe tbody tr th:only-of-type {\n",
       "        vertical-align: middle;\n",
       "    }\n",
       "\n",
       "    .dataframe tbody tr th {\n",
       "        vertical-align: top;\n",
       "    }\n",
       "\n",
       "    .dataframe thead th {\n",
       "        text-align: right;\n",
       "    }\n",
       "</style>\n",
       "<table border=\"1\" class=\"dataframe\">\n",
       "  <thead>\n",
       "    <tr style=\"text-align: right;\">\n",
       "      <th></th>\n",
       "      <th>df</th>\n",
       "      <th>sum_sq</th>\n",
       "      <th>mean_sq</th>\n",
       "      <th>F</th>\n",
       "      <th>PR(&gt;F)</th>\n",
       "    </tr>\n",
       "  </thead>\n",
       "  <tbody>\n",
       "    <tr>\n",
       "      <th>X1</th>\n",
       "      <td>1.0</td>\n",
       "      <td>3577.085399</td>\n",
       "      <td>3577.085399</td>\n",
       "      <td>17.191982</td>\n",
       "      <td>0.000862</td>\n",
       "    </tr>\n",
       "    <tr>\n",
       "      <th>X2</th>\n",
       "      <td>1.0</td>\n",
       "      <td>1384.378861</td>\n",
       "      <td>1384.378861</td>\n",
       "      <td>6.653522</td>\n",
       "      <td>0.020938</td>\n",
       "    </tr>\n",
       "    <tr>\n",
       "      <th>X3</th>\n",
       "      <td>1.0</td>\n",
       "      <td>5.213752</td>\n",
       "      <td>5.213752</td>\n",
       "      <td>0.025058</td>\n",
       "      <td>0.876334</td>\n",
       "    </tr>\n",
       "    <tr>\n",
       "      <th>Residual</th>\n",
       "      <td>15.0</td>\n",
       "      <td>3121.006199</td>\n",
       "      <td>208.067080</td>\n",
       "      <td>NaN</td>\n",
       "      <td>NaN</td>\n",
       "    </tr>\n",
       "  </tbody>\n",
       "</table>\n",
       "</div>"
      ],
      "text/plain": [
       "            df       sum_sq      mean_sq          F    PR(>F)\n",
       "X1         1.0  3577.085399  3577.085399  17.191982  0.000862\n",
       "X2         1.0  1384.378861  1384.378861   6.653522  0.020938\n",
       "X3         1.0     5.213752     5.213752   0.025058  0.876334\n",
       "Residual  15.0  3121.006199   208.067080        NaN       NaN"
      ]
     },
     "execution_count": 63,
     "metadata": {},
     "output_type": "execute_result"
    }
   ],
   "source": [
    "anova_lm(lm_lung_3a)"
   ]
  },
  {
   "cell_type": "markdown",
   "metadata": {},
   "source": [
    "*Interpretation:* \n",
    "\n",
    "We see that the p-value for X2 and X3 show a good linear relation with Y, as they add a significant amount of SSR (based on ANOVA above and looking at the respective p-values). But X3 does not appear to add a significant value to the model when X1 and X2 are already present."
   ]
  },
  {
   "cell_type": "markdown",
   "metadata": {},
   "source": [
    "**(b)** Using first-order and second-order terms for each of the three predictor variables (centered around the mean) in the pool of potential X variables (including cross products of the first order terms), find the three best hierarchical subset regression models according to the R2a,p criterion. (5pts)"
   ]
  },
  {
   "cell_type": "markdown",
   "metadata": {},
   "source": [
    "*Link for model selection in R and Python:* \n",
    "\n",
    "https://www.r-bloggers.com/practical-machine-learning-with-r-and-python-part-3/\n",
    "\n",
    "*Exhaustive Feature Selector*\n",
    "\n",
    "https://rasbt.github.io/mlxtend/user_guide/feature_selection/ExhaustiveFeatureSelector/"
   ]
  },
  {
   "cell_type": "code",
   "execution_count": 65,
   "metadata": {},
   "outputs": [],
   "source": [
    "df_3 = lung_data\n",
    "\n",
    "Y = df_3[\"Y\"]\n",
    "X1 = df_3[\"X1\"]\n",
    "X2 = df_3[\"X2\"]\n",
    "X3 = df_3[\"X3\"]\n",
    "\n",
    "df_3[\"x1\"] = (X1-np.mean(X1))/np.std(X1)\n",
    "df_3[\"x2\"] = (X2-np.mean(X2))/np.std(X2)\n",
    "df_3[\"x3\"] = (X3-np.mean(X3))/np.std(X3)\n",
    "df_3[\"x1sqr\"] = df_3[\"x1\"]**2\n",
    "df_3[\"x2sqr\"] = df_3[\"x2\"]**2\n",
    "df_3[\"x3sqr\"] = df_3[\"x3\"]**2\n",
    "df_3[\"x1x2\"] = df_3[\"x1\"]*df_3[\"x2\"]\n",
    "df_3[\"x1x3\"] = df_3[\"x1\"]*df_3[\"x3\"]\n",
    "df_3[\"x2x3\"] = df_3[\"x1\"]*df_3[\"x3\"]"
   ]
  },
  {
   "cell_type": "code",
   "execution_count": null,
   "metadata": {},
   "outputs": [],
   "source": [
    "lm_lung_3b1 = ols(\"Y~x1+x2+x3+x1sqr+x2sqr+x3sqr+x1x2+x1x3+x2x3\", data=df_3).fit()\n",
    "summary(lm_lung_3b1)\n",
    "lm_lung_3b2 = update(lm_lung_3b1,.~.-x1sqr)\n",
    "summary(lm_lung_3b2)\n",
    "lm_lung_3b3 = update(lm_lung_3b2,.~.-x2sqr)\n",
    "summary(lm_lung_3b3)\n",
    "lm_lung_3b4 = update(lm_lung_3b3,.~.-x1x3)\n",
    "summary(lm_lung_3b4)\n",
    "lm_lung_3b5 = update(lm_lung_3b4,.~.-x3sqr)\n",
    "summary(lm_lung_3b5)\n",
    "lm_lung_3b6 = update(lm_lung_3b5,.~.-x3)\n",
    "summary(lm_lung_3b6)\n",
    "lm_lung_3b7 = update(lm_lung_3b6,.~.-x2x3)\n",
    "summary(lm_lung_3b7)"
   ]
  },
  {
   "cell_type": "code",
   "execution_count": 67,
   "metadata": {},
   "outputs": [
    {
     "ename": "SyntaxError",
     "evalue": "invalid syntax (<ipython-input-67-a91ca672ceaf>, line 2)",
     "output_type": "error",
     "traceback": [
      "\u001b[0;36m  File \u001b[0;32m\"<ipython-input-67-a91ca672ceaf>\"\u001b[0;36m, line \u001b[0;32m2\u001b[0m\n\u001b[0;31m    lm_lung_3b1.\u001b[0m\n\u001b[0m                ^\u001b[0m\n\u001b[0;31mSyntaxError\u001b[0m\u001b[0;31m:\u001b[0m invalid syntax\n"
     ]
    }
   ],
   "source": [
    "lm_lung_3b1 = ols(\"Y~x1+x2+x3+x1sqr+x2sqr+x3sqr+x1x2+x1x3+x2x3\", data=df_3).fit()\n",
    "lm_lung_3b1."
   ]
  },
  {
   "cell_type": "code",
   "execution_count": null,
   "metadata": {},
   "outputs": [],
   "source": []
  }
 ],
 "metadata": {
  "kernelspec": {
   "display_name": "Python 3",
   "language": "python",
   "name": "python3"
  },
  "language_info": {
   "codemirror_mode": {
    "name": "ipython",
    "version": 3
   },
   "file_extension": ".py",
   "mimetype": "text/x-python",
   "name": "python",
   "nbconvert_exporter": "python",
   "pygments_lexer": "ipython3",
   "version": "3.7.4"
  }
 },
 "nbformat": 4,
 "nbformat_minor": 2
}
