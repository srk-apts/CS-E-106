{
 "cells": [
  {
   "cell_type": "markdown",
   "metadata": {},
   "source": [
    "# CS-E-106: Data Modeling\n",
    "## Fall 2019: HW 07"
   ]
  },
  {
   "cell_type": "markdown",
   "metadata": {},
   "source": [
    "### Important References and Links\n",
    "\n",
    "*1. Link for model selection in R and Python:*\n",
    "\n",
    "https://www.r-bloggers.com/practical-machine-learning-with-r-and-python-part-3/\n",
    "\n",
    "*2. `mlxtend` package for Feature Selection*\n",
    "\n",
    "- `ExhaustiveFeatureSelector`: https://rasbt.github.io/mlxtend/user_guide/feature_selection/ExhaustiveFeatureSelector/\n",
    "- `SequentialFeatureSelector`: https://rasbt.github.io/mlxtend/user_guide/feature_selection/SequentialFeatureSelector/\n",
    "\n",
    "\n",
    "*Note:* This package does not give any additional model selection measures like Cp, AIC, BIC, etc. by default. See custom functions below (#5).\n",
    "\n",
    "    \n",
    "*4. PRESS statistic:*\n",
    "\n",
    "https://www.statsmodels.org/stable/generated/statsmodels.stats.outliers_influence.OLSInfluence.html\n",
    "\n",
    "*5. Feature selection blog (custom functions):*\n",
    "\n",
    "- https://xavierbourretsicotte.github.io/subset_selection.html\n",
    "- http://www.science.smith.edu/~jcrouser/SDS293/labs/lab8-py.html\n",
    "- https://github.com/JWarmenhoven/ISLR-python"
   ]
  },
  {
   "cell_type": "code",
   "execution_count": 1,
   "metadata": {},
   "outputs": [],
   "source": [
    "# ! pip install mlxtend"
   ]
  },
  {
   "cell_type": "code",
   "execution_count": 2,
   "metadata": {},
   "outputs": [],
   "source": [
    "import numpy as np\n",
    "import pandas as pd\n",
    "from scipy import stats\n",
    "import time\n",
    "import random\n",
    "import itertools\n",
    "import statsmodels.api as sm\n",
    "from statsmodels.formula.api import ols\n",
    "from statsmodels.stats.anova import anova_lm\n",
    "from statsmodels.stats.outliers_influence import OLSInfluence\n",
    "import seaborn as sns\n",
    "import matplotlib.pyplot as plt\n",
    "from statsmodels.graphics import gofplots\n",
    "import pylab\n",
    "from sklearn.linear_model import LinearRegression\n",
    "from sklearn.preprocessing import Imputer, StandardScaler, PolynomialFeatures\n",
    "from mlxtend.feature_selection import ExhaustiveFeatureSelector as EFS\n",
    "from mlxtend.feature_selection import SequentialFeatureSelector as SFS"
   ]
  },
  {
   "cell_type": "markdown",
   "metadata": {},
   "source": [
    "### Utility Functions"
   ]
  },
  {
   "cell_type": "code",
   "execution_count": 174,
   "metadata": {},
   "outputs": [],
   "source": [
    "def scale_numeric(fit_df, trans_df, cols):\n",
    "    df_scaled = trans_df[cols].copy()\n",
    "    scaler = StandardScaler().fit(fit_df[cols])\n",
    "    df_scaled = pd.DataFrame(scaler.transform(df_scaled), index=df_scaled.index, columns=cols)\n",
    "    return(df_scaled)\n",
    "\n",
    "def scale_encode(fit_df, trans_df, scale_num=True):\n",
    "    num_cols = list(fit_df.columns[(fit_df.dtypes == 'float64') | (fit_df.dtypes == 'int64')])\n",
    "    str_cols = list(set(fit_df.columns)^set(num_cols))\n",
    "\n",
    "    if (len(num_cols)>0) & (len(str_cols)>0):\n",
    "        if scale_num:\n",
    "            df_scaled = scale_numeric(fit_df=fit_df, trans_df=trans_df, cols=num_cols)\n",
    "        else:\n",
    "            df_scaled = trans_df[num_cols].copy()\n",
    "        df_dummy = pd.get_dummies(trans_df[str_cols])\n",
    "        df =  df_scaled.join(df_dummy)\n",
    "    elif len(str_cols)>0:\n",
    "        df = pd.get_dummies(trans_df[str_cols])\n",
    "    elif len(num_cols)>0:\n",
    "        if scale_num:\n",
    "            df = scale_numeric(fit_df=fit_df, trans_df=trans_df, cols=num_cols)\n",
    "        else:\n",
    "            df = trans_df[num_cols].copy()\n",
    "    else:\n",
    "        df = trans_df.copy()\n",
    "    \n",
    "    return(df)"
   ]
  },
  {
   "cell_type": "markdown",
   "metadata": {},
   "source": [
    "### Stepwise Regression Functions:\n",
    "**Reference:** http://www.science.smith.edu/~jcrouser/SDS293/labs/lab8-py.html from #5 above."
   ]
  },
  {
   "cell_type": "code",
   "execution_count": 167,
   "metadata": {},
   "outputs": [],
   "source": [
    "def processSubset(X_subset, y_subset):\n",
    "    # Fit model on feature_set and calculate RSS\n",
    "    X_dummy = scale_encode(fit_df=X_subset, trans_df=X_subset, scale_num=False)\n",
    "    X = sm.add_constant(X_dummy)\n",
    "    model = sm.OLS(y,X).fit()\n",
    "    RSS = ((model.predict(X) - y)**2).sum()\n",
    "    return {\"model\":model, \"RSS\":RSS}\n",
    "\n",
    "def best_subset_models(X,y):\n",
    "    \n",
    "    models_best = pd.DataFrame(columns=[\"RSS\", \"model\"])\n",
    "    \n",
    "    for i in range(1,len(X.columns)+1):\n",
    "        \n",
    "        tic = time.time()\n",
    "\n",
    "        results = []\n",
    "\n",
    "        for combo in itertools.combinations(X.columns, i):\n",
    "            results.append(processSubset(X_subset=X[list(combo)], y_subset=y))\n",
    "\n",
    "        # Wrap everything up in a nice dataframe\n",
    "        models = pd.DataFrame(results)\n",
    "\n",
    "        # Choose the model with the highest RSS\n",
    "        best_model = models.loc[models['RSS'].argmin()]\n",
    "\n",
    "        toc = time.time()\n",
    "        print(\"Processed\", models.shape[0], \"models on\", i, \"predictors in\", (toc-tic), \"seconds.\")\n",
    "        \n",
    "        models_best.loc[i] = best_model\n",
    "    \n",
    "    # Return the best model, along with some other useful information about the model\n",
    "    return models_best\n",
    "\n",
    "\n",
    "def forward_stepwise(X,y):\n",
    "    \n",
    "    predictors = []\n",
    "    models_fwd = pd.DataFrame(columns=[\"RSS\", \"model\"])\n",
    "    \n",
    "    for i in range(1,len(X.columns)+1):\n",
    "        \n",
    "        # Pull out predictors we still need to process\n",
    "        remaining_predictors = [p for p in X.columns if p not in predictors]\n",
    "        \n",
    "        tic = time.time()\n",
    "\n",
    "        results = []\n",
    "\n",
    "        for p in remaining_predictors:\n",
    "            results.append(processSubset(X_subset=X[predictors+[p]], y_subset=y))\n",
    "\n",
    "        # Wrap everything up in a nice dataframe\n",
    "        models = pd.DataFrame(results)\n",
    "\n",
    "        # Choose the model with the highest RSS\n",
    "        best_model = models.loc[models['RSS'].argmin()]\n",
    "\n",
    "        toc = time.time()\n",
    "        print(\"Processed \", models.shape[0], \"models on\", len(predictors)+1, \"predictors in\", (toc-tic), \"seconds.\")\n",
    "    \n",
    "        models_fwd.loc[i] = best_model\n",
    "        predictors = models_fwd.loc[i][\"model\"].model.exog_names\n",
    "        predictors = list(set(predictors)^set([\"const\"]))\n",
    "    \n",
    "    # Return the best model, along with some other useful information about the model\n",
    "    return models_fwd\n",
    "\n",
    "\n",
    "def backward_stepwise(X,y):\n",
    "    \n",
    "    predictors = X.columns    \n",
    "    models_bwd = pd.DataFrame(columns=[\"RSS\", \"model\"])\n",
    "    \n",
    "    for i in range(1,len(X.columns)+1):\n",
    "        \n",
    "        # Pull out predictors we still need to process\n",
    "        remaining_predictors = [p for p in X.columns if p not in predictors]\n",
    "        \n",
    "        tic = time.time()\n",
    "\n",
    "        results = []\n",
    "        \n",
    "        for combo in itertools.combinations(predictors, len(predictors)-1):\n",
    "            results.append(processSubset(X_subset=X[list(combo)], y_subset=y))\n",
    "\n",
    "        # Wrap everything up in a nice dataframe\n",
    "        models = pd.DataFrame(results)\n",
    "\n",
    "        # Choose the model with the highest RSS\n",
    "        best_model = models.loc[models['RSS'].argmin()]\n",
    "\n",
    "        toc = time.time()\n",
    "        print(\"Processed \", models.shape[0], \"models on\", len(predictors)+1, \"predictors in\", (toc-tic), \"seconds.\")\n",
    "    \n",
    "        models_bwd.loc[len(predictors)-1] = best_model\n",
    "        predictors = models_bwd.loc[len(predictors)-1][\"model\"].model.exog_names\n",
    "        predictors = list(set(predictors)^set([\"const\"]))\n",
    "    \n",
    "    # Return the best model, along with some other useful information about the model\n",
    "    return models_bwd"
   ]
  },
  {
   "cell_type": "code",
   "execution_count": 161,
   "metadata": {},
   "outputs": [],
   "source": [
    "def plot_model_stats(models_best):\n",
    "    plt.figure(figsize=(20,15))\n",
    "    plt.rcParams.update({'font.size': 18, 'lines.markersize': 10})\n",
    "\n",
    "    # Set up a 2x3 grid so we can look at 6 plots at once\n",
    "    plt.subplot(3, 2, 1)\n",
    "\n",
    "    # We will now plot a red dot to indicate the model with the largest adjusted R^2 statistic.\n",
    "    # The argmax() function can be used to identify the location of the maximum point of a vector\n",
    "    plt.plot(models_best[\"RSS\"])\n",
    "    plt.xlabel('# Predictors')\n",
    "    plt.ylabel('RSS')\n",
    "\n",
    "    # We will now plot a red dot to indicate the model with the largest adjusted R^2 statistic.\n",
    "    # The argmax() function can be used to identify the location of the maximum point of a vector\n",
    "    \n",
    "    # Adjusted R2\n",
    "    rsquared_adj = models_best.apply(lambda row: row[1].rsquared_adj, axis=1)\n",
    "\n",
    "    plt.subplot(3, 2, 2)\n",
    "    plt.plot(rsquared_adj)\n",
    "    plt.plot(rsquared_adj.argmax(), rsquared_adj.max(), \"or\")\n",
    "    plt.xlabel('# Predictors')\n",
    "    plt.ylabel('adjusted rsquared')\n",
    "\n",
    "    # We'll do the same for AIC and BIC, this time looking for the models with the SMALLEST statistic\n",
    "    \n",
    "    # AIC\n",
    "    aic = models_best.apply(lambda row: row[1].aic, axis=1)\n",
    "\n",
    "    plt.subplot(3, 2, 3)\n",
    "    plt.plot(aic)\n",
    "    plt.plot(aic.argmin(), aic.min(), \"or\")\n",
    "    plt.xlabel('# Predictors')\n",
    "    plt.ylabel('AIC')\n",
    "    \n",
    "    # BIC\n",
    "    bic = models_best.apply(lambda row: row[1].bic, axis=1)\n",
    "\n",
    "    plt.subplot(3, 2, 4)\n",
    "    plt.plot(bic)\n",
    "    plt.plot(bic.argmin(), bic.min(), \"or\")\n",
    "    plt.xlabel('# Predictors')\n",
    "    plt.ylabel('BIC')\n",
    "    \n",
    "#     # Cp    \n",
    "#     cp = models_best.apply(lambda row: row[1].cp, axis=1)\n",
    "\n",
    "#     plt.subplot(2, 2, 4)\n",
    "#     plt.plot(bic)\n",
    "#     plt.plot(bic.argmin(), bic.min(), \"or\")\n",
    "#     plt.xlabel('# Predictors')\n",
    "#     plt.ylabel('Cp')\n",
    "    \n",
    "    # PRESS    \n",
    "    press = models_best.apply(lambda row: OLSInfluence(row[1]).ess_press, axis=1)\n",
    "    \n",
    "    plt.subplot(3, 2, 5)\n",
    "    plt.plot(press)\n",
    "    plt.plot(press.argmax(), bic.max(), \"or\")\n",
    "    plt.xlabel('# Predictors')\n",
    "    plt.ylabel('PRESS')"
   ]
  },
  {
   "cell_type": "markdown",
   "metadata": {},
   "source": [
    "**Question 1:** Refer to the CDI data set. A regression model relating serious crime rate (Y, total serious crimes divided by total population) to population density (X1, total population divided by land area) and unemployment rate (X3) is to be constructed. (15 pts)\n",
    "\n",
    "**(a)** Fit second-order regression model (equation 8.8 on the book). Plot the residuals against the fitted values. How well does the second-order model appear to fit the data? What is R2? (5pts)\n",
    "\n",
    "**Solution:**"
   ]
  },
  {
   "cell_type": "code",
   "execution_count": 6,
   "metadata": {},
   "outputs": [],
   "source": [
    "cdi_data = pd.read_csv(\"data/CDI.csv\")\n",
    "\n",
    "df_1 = cdi_data\n",
    "\n",
    "Y = df_1[\"Total serious crimes\"]/df_1[\"Total population\"]\n",
    "X1 = df_1[\"Total population\"]/df_1[\"Land area\"]\n",
    "X3 = df_1[\"Percent unemployment\"]\n",
    "\n",
    "df_1[\"x1\"] = (X1-np.mean(X1))/np.std(X1)\n",
    "df_1[\"x3\"] = (X3-np.mean(X3))/np.std(X3)\n",
    "df_1[\"x1sqr\"] = df_1[\"x1\"]**2\n",
    "df_1[\"x3sqr\"] = df_1[\"x3\"]**2\n",
    "df_1[\"x1x3\"] = df_1[\"x1\"]*df_1[\"x3\"]"
   ]
  },
  {
   "cell_type": "code",
   "execution_count": 7,
   "metadata": {},
   "outputs": [
    {
     "data": {
      "text/html": [
       "<table class=\"simpletable\">\n",
       "<tr>\n",
       "        <td>Model:</td>               <td>OLS</td>         <td>Adj. R-squared:</td>      <td>0.240</td>  \n",
       "</tr>\n",
       "<tr>\n",
       "  <td>Dependent Variable:</td>         <td>Y</td>               <td>AIC:</td>         <td>-2033.8930</td>\n",
       "</tr>\n",
       "<tr>\n",
       "         <td>Date:</td>        <td>2019-11-20 20:19</td>        <td>BIC:</td>         <td>-2009.3723</td>\n",
       "</tr>\n",
       "<tr>\n",
       "   <td>No. Observations:</td>         <td>440</td>         <td>Log-Likelihood:</td>     <td>1022.9</td>  \n",
       "</tr>\n",
       "<tr>\n",
       "       <td>Df Model:</td>              <td>5</td>           <td>F-statistic:</td>        <td>28.70</td>  \n",
       "</tr>\n",
       "<tr>\n",
       "     <td>Df Residuals:</td>           <td>434</td>       <td>Prob (F-statistic):</td>  <td>3.69e-25</td> \n",
       "</tr>\n",
       "<tr>\n",
       "      <td>R-squared:</td>            <td>0.248</td>            <td>Scale:</td>        <td>0.00056771</td>\n",
       "</tr>\n",
       "</table>\n",
       "<table class=\"simpletable\">\n",
       "<tr>\n",
       "      <td></td>       <th>Coef.</th>  <th>Std.Err.</th>    <th>t</th>     <th>P>|t|</th> <th>[0.025</th>  <th>0.975]</th>\n",
       "</tr>\n",
       "<tr>\n",
       "  <th>Intercept</th> <td>0.0563</td>   <td>0.0013</td>  <td>44.6625</td> <td>0.0000</td> <td>0.0538</td>  <td>0.0588</td>\n",
       "</tr>\n",
       "<tr>\n",
       "  <th>x1</th>        <td>0.0101</td>   <td>0.0022</td>  <td>4.6589</td>  <td>0.0000</td> <td>0.0058</td>  <td>0.0143</td>\n",
       "</tr>\n",
       "<tr>\n",
       "  <th>x3</th>        <td>-0.0002</td>  <td>0.0015</td>  <td>-0.1402</td> <td>0.8886</td> <td>-0.0031</td> <td>0.0027</td>\n",
       "</tr>\n",
       "<tr>\n",
       "  <th>x1sqr</th>     <td>0.0000</td>   <td>0.0003</td>  <td>0.0455</td>  <td>0.9637</td> <td>-0.0005</td> <td>0.0006</td>\n",
       "</tr>\n",
       "<tr>\n",
       "  <th>x3sqr</th>     <td>0.0009</td>   <td>0.0005</td>  <td>1.7076</td>  <td>0.0884</td> <td>-0.0001</td> <td>0.0019</td>\n",
       "</tr>\n",
       "<tr>\n",
       "  <th>x1x3</th>      <td>0.0043</td>   <td>0.0021</td>  <td>2.0368</td>  <td>0.0423</td> <td>0.0001</td>  <td>0.0084</td>\n",
       "</tr>\n",
       "</table>\n",
       "<table class=\"simpletable\">\n",
       "<tr>\n",
       "     <td>Omnibus:</td>    <td>22.989</td>  <td>Durbin-Watson:</td>    <td>1.787</td>\n",
       "</tr>\n",
       "<tr>\n",
       "  <td>Prob(Omnibus):</td>  <td>0.000</td> <td>Jarque-Bera (JB):</td> <td>25.127</td>\n",
       "</tr>\n",
       "<tr>\n",
       "       <td>Skew:</td>      <td>0.571</td>     <td>Prob(JB):</td>      <td>0.000</td>\n",
       "</tr>\n",
       "<tr>\n",
       "     <td>Kurtosis:</td>    <td>3.260</td>  <td>Condition No.:</td>     <td>21</td>  \n",
       "</tr>\n",
       "</table>"
      ],
      "text/plain": [
       "<class 'statsmodels.iolib.summary2.Summary'>\n",
       "\"\"\"\n",
       "                  Results: Ordinary least squares\n",
       "===================================================================\n",
       "Model:              OLS              Adj. R-squared:     0.240     \n",
       "Dependent Variable: Y                AIC:                -2033.8930\n",
       "Date:               2019-11-20 20:19 BIC:                -2009.3723\n",
       "No. Observations:   440              Log-Likelihood:     1022.9    \n",
       "Df Model:           5                F-statistic:        28.70     \n",
       "Df Residuals:       434              Prob (F-statistic): 3.69e-25  \n",
       "R-squared:          0.248            Scale:              0.00056771\n",
       "---------------------------------------------------------------------\n",
       "              Coef.    Std.Err.      t      P>|t|     [0.025   0.975]\n",
       "---------------------------------------------------------------------\n",
       "Intercept     0.0563     0.0013   44.6625   0.0000    0.0538   0.0588\n",
       "x1            0.0101     0.0022    4.6589   0.0000    0.0058   0.0143\n",
       "x3           -0.0002     0.0015   -0.1402   0.8886   -0.0031   0.0027\n",
       "x1sqr         0.0000     0.0003    0.0455   0.9637   -0.0005   0.0006\n",
       "x3sqr         0.0009     0.0005    1.7076   0.0884   -0.0001   0.0019\n",
       "x1x3          0.0043     0.0021    2.0368   0.0423    0.0001   0.0084\n",
       "-------------------------------------------------------------------\n",
       "Omnibus:              22.989        Durbin-Watson:           1.787 \n",
       "Prob(Omnibus):        0.000         Jarque-Bera (JB):        25.127\n",
       "Skew:                 0.571         Prob(JB):                0.000 \n",
       "Kurtosis:             3.260         Condition No.:           21    \n",
       "===================================================================\n",
       "\n",
       "\"\"\""
      ]
     },
     "execution_count": 7,
     "metadata": {},
     "output_type": "execute_result"
    }
   ],
   "source": [
    "lm_cdi_1a = ols(\"Y~x1+x3+x1sqr+x3sqr+x1x3\", data=df_1).fit()\n",
    "lm_cdi_1a.summary2()"
   ]
  },
  {
   "cell_type": "code",
   "execution_count": 8,
   "metadata": {},
   "outputs": [
    {
     "data": {
      "text/plain": [
       "<matplotlib.collections.PathCollection at 0x7fc4e8174c50>"
      ]
     },
     "execution_count": 8,
     "metadata": {},
     "output_type": "execute_result"
    },
    {
     "data": {
      "image/png": "[encoded data removed]",
      "text/plain": [
       "<Figure size 432x288 with 1 Axes>"
      ]
     },
     "metadata": {
      "needs_background": "light"
     },
     "output_type": "display_data"
    }
   ],
   "source": [
    "ei = lm_cdi_1a.resid\n",
    "fitted_values = lm_cdi_1a.fittedvalues\n",
    "plt.scatter(fitted_values,ei)"
   ]
  },
  {
   "cell_type": "code",
   "execution_count": 9,
   "metadata": {},
   "outputs": [
    {
     "data": {
      "text/plain": [
       "Intercept    0.056288\n",
       "x1           0.010052\n",
       "x3          -0.000205\n",
       "x1sqr        0.000013\n",
       "x3sqr        0.000889\n",
       "x1x3         0.004266\n",
       "dtype: float64"
      ]
     },
     "execution_count": 9,
     "metadata": {},
     "output_type": "execute_result"
    }
   ],
   "source": [
    "coeffs = lm_cdi_1a.params\n",
    "coeffs"
   ]
  },
  {
   "cell_type": "code",
   "execution_count": 10,
   "metadata": {},
   "outputs": [
    {
     "name": "stdout",
     "output_type": "stream",
     "text": [
      "The regression model is Yhat = 0.05628803374324597 + 0.01005156005150148*x1 + -0.0002054996301641967*x3 + 1.2966975612571088e-05*x1sqr + 0.0008885208310572405*x3sqr + 0.004266375165763692*x1x3\n"
     ]
    }
   ],
   "source": [
    "print(\"The regression model is Yhat = %s + %s*x1 + %s*x3 + %s*x1sqr + %s*x3sqr + %s*x1x3\" %(coeffs[\"Intercept\"], coeffs[\"x1\"], coeffs[\"x3\"], coeffs[\"x1sqr\"], coeffs[\"x3sqr\"], coeffs[\"x1x3\"]))"
   ]
  },
  {
   "cell_type": "code",
   "execution_count": 11,
   "metadata": {},
   "outputs": [
    {
     "name": "stdout",
     "output_type": "stream",
     "text": [
      "R-squared = 0.24847487775386223\n"
     ]
    }
   ],
   "source": [
    "print(\"R-squared = %s\"%lm_cdi_1a.rsquared)"
   ]
  },
  {
   "cell_type": "markdown",
   "metadata": {},
   "source": [
    "We can see that the regression model is not a very great fit based on the $R^2$ and the residual plot (we can see outliers and non-constant variance in the error terms)."
   ]
  },
  {
   "cell_type": "markdown",
   "metadata": {},
   "source": [
    "**(b)** \n",
    "\n",
    "Test whether or not all quadratic and interaction terms can be dropped from the regression model; use α = .01. State the alternatives, decision rule, and conclusion. (5pts)\n",
    "\n",
    "**Solution:**"
   ]
  },
  {
   "cell_type": "code",
   "execution_count": 12,
   "metadata": {},
   "outputs": [
    {
     "data": {
      "text/html": [
       "<table class=\"simpletable\">\n",
       "<tr>\n",
       "        <td>Model:</td>               <td>OLS</td>         <td>Adj. R-squared:</td>      <td>0.228</td>  \n",
       "</tr>\n",
       "<tr>\n",
       "  <td>Dependent Variable:</td>         <td>Y</td>               <td>AIC:</td>         <td>-2030.2191</td>\n",
       "</tr>\n",
       "<tr>\n",
       "         <td>Date:</td>        <td>2019-11-20 20:19</td>        <td>BIC:</td>         <td>-2017.9588</td>\n",
       "</tr>\n",
       "<tr>\n",
       "   <td>No. Observations:</td>         <td>440</td>         <td>Log-Likelihood:</td>     <td>1018.1</td>  \n",
       "</tr>\n",
       "<tr>\n",
       "       <td>Df Model:</td>              <td>2</td>           <td>F-statistic:</td>        <td>65.92</td>  \n",
       "</tr>\n",
       "<tr>\n",
       "     <td>Df Residuals:</td>           <td>437</td>       <td>Prob (F-statistic):</td>  <td>9.55e-26</td> \n",
       "</tr>\n",
       "<tr>\n",
       "      <td>R-squared:</td>            <td>0.232</td>            <td>Scale:</td>        <td>0.00057634</td>\n",
       "</tr>\n",
       "</table>\n",
       "<table class=\"simpletable\">\n",
       "<tr>\n",
       "      <td></td>       <th>Coef.</th> <th>Std.Err.</th>    <th>t</th>     <th>P>|t|</th> <th>[0.025</th>  <th>0.975]</th>\n",
       "</tr>\n",
       "<tr>\n",
       "  <th>Intercept</th> <td>0.0573</td>  <td>0.0011</td>  <td>50.0538</td> <td>0.0000</td> <td>0.0550</td>  <td>0.0595</td>\n",
       "</tr>\n",
       "<tr>\n",
       "  <th>x1</th>        <td>0.0131</td>  <td>0.0011</td>  <td>11.4387</td> <td>0.0000</td> <td>0.0108</td>  <td>0.0153</td>\n",
       "</tr>\n",
       "<tr>\n",
       "  <th>x3</th>        <td>0.0008</td>  <td>0.0011</td>  <td>0.7379</td>  <td>0.4609</td> <td>-0.0014</td> <td>0.0031</td>\n",
       "</tr>\n",
       "</table>\n",
       "<table class=\"simpletable\">\n",
       "<tr>\n",
       "     <td>Omnibus:</td>    <td>20.529</td>  <td>Durbin-Watson:</td>    <td>1.818</td>\n",
       "</tr>\n",
       "<tr>\n",
       "  <td>Prob(Omnibus):</td>  <td>0.000</td> <td>Jarque-Bera (JB):</td> <td>22.164</td>\n",
       "</tr>\n",
       "<tr>\n",
       "       <td>Skew:</td>      <td>0.542</td>     <td>Prob(JB):</td>      <td>0.000</td>\n",
       "</tr>\n",
       "<tr>\n",
       "     <td>Kurtosis:</td>    <td>3.188</td>  <td>Condition No.:</td>      <td>1</td>  \n",
       "</tr>\n",
       "</table>"
      ],
      "text/plain": [
       "<class 'statsmodels.iolib.summary2.Summary'>\n",
       "\"\"\"\n",
       "                  Results: Ordinary least squares\n",
       "===================================================================\n",
       "Model:              OLS              Adj. R-squared:     0.228     \n",
       "Dependent Variable: Y                AIC:                -2030.2191\n",
       "Date:               2019-11-20 20:19 BIC:                -2017.9588\n",
       "No. Observations:   440              Log-Likelihood:     1018.1    \n",
       "Df Model:           2                F-statistic:        65.92     \n",
       "Df Residuals:       437              Prob (F-statistic): 9.55e-26  \n",
       "R-squared:          0.232            Scale:              0.00057634\n",
       "---------------------------------------------------------------------\n",
       "              Coef.    Std.Err.      t      P>|t|     [0.025   0.975]\n",
       "---------------------------------------------------------------------\n",
       "Intercept     0.0573     0.0011   50.0538   0.0000    0.0550   0.0595\n",
       "x1            0.0131     0.0011   11.4387   0.0000    0.0108   0.0153\n",
       "x3            0.0008     0.0011    0.7379   0.4609   -0.0014   0.0031\n",
       "-------------------------------------------------------------------\n",
       "Omnibus:              20.529        Durbin-Watson:           1.818 \n",
       "Prob(Omnibus):        0.000         Jarque-Bera (JB):        22.164\n",
       "Skew:                 0.542         Prob(JB):                0.000 \n",
       "Kurtosis:             3.188         Condition No.:           1     \n",
       "===================================================================\n",
       "\n",
       "\"\"\""
      ]
     },
     "execution_count": 12,
     "metadata": {},
     "output_type": "execute_result"
    }
   ],
   "source": [
    "lm_cdi_1b = ols(\"Y~x1+x3\", data=df_1).fit()\n",
    "lm_cdi_1b.summary2()"
   ]
  },
  {
   "cell_type": "code",
   "execution_count": 13,
   "metadata": {},
   "outputs": [
    {
     "name": "stderr",
     "output_type": "stream",
     "text": [
      "/home/srk-apts/anaconda3/lib/python3.7/site-packages/scipy/stats/_distn_infrastructure.py:901: RuntimeWarning: invalid value encountered in greater\n",
      "  return (a < x) & (x < b)\n",
      "/home/srk-apts/anaconda3/lib/python3.7/site-packages/scipy/stats/_distn_infrastructure.py:901: RuntimeWarning: invalid value encountered in less\n",
      "  return (a < x) & (x < b)\n",
      "/home/srk-apts/anaconda3/lib/python3.7/site-packages/scipy/stats/_distn_infrastructure.py:1892: RuntimeWarning: invalid value encountered in less_equal\n",
      "  cond2 = cond0 & (x <= _a)\n"
     ]
    },
    {
     "data": {
      "text/html": [
       "<div>\n",
       "<style scoped>\n",
       "    .dataframe tbody tr th:only-of-type {\n",
       "        vertical-align: middle;\n",
       "    }\n",
       "\n",
       "    .dataframe tbody tr th {\n",
       "        vertical-align: top;\n",
       "    }\n",
       "\n",
       "    .dataframe thead th {\n",
       "        text-align: right;\n",
       "    }\n",
       "</style>\n",
       "<table border=\"1\" class=\"dataframe\">\n",
       "  <thead>\n",
       "    <tr style=\"text-align: right;\">\n",
       "      <th></th>\n",
       "      <th>df_resid</th>\n",
       "      <th>ssr</th>\n",
       "      <th>df_diff</th>\n",
       "      <th>ss_diff</th>\n",
       "      <th>F</th>\n",
       "      <th>Pr(&gt;F)</th>\n",
       "    </tr>\n",
       "  </thead>\n",
       "  <tbody>\n",
       "    <tr>\n",
       "      <th>0</th>\n",
       "      <td>437.0</td>\n",
       "      <td>0.251862</td>\n",
       "      <td>0.0</td>\n",
       "      <td>NaN</td>\n",
       "      <td>NaN</td>\n",
       "      <td>NaN</td>\n",
       "    </tr>\n",
       "    <tr>\n",
       "      <th>1</th>\n",
       "      <td>434.0</td>\n",
       "      <td>0.246385</td>\n",
       "      <td>3.0</td>\n",
       "      <td>0.005477</td>\n",
       "      <td>3.215874</td>\n",
       "      <td>0.022775</td>\n",
       "    </tr>\n",
       "  </tbody>\n",
       "</table>\n",
       "</div>"
      ],
      "text/plain": [
       "   df_resid       ssr  df_diff   ss_diff         F    Pr(>F)\n",
       "0     437.0  0.251862      0.0       NaN       NaN       NaN\n",
       "1     434.0  0.246385      3.0  0.005477  3.215874  0.022775"
      ]
     },
     "execution_count": 13,
     "metadata": {},
     "output_type": "execute_result"
    }
   ],
   "source": [
    "anova_lm(lm_cdi_1b, lm_cdi_1a)"
   ]
  },
  {
   "cell_type": "code",
   "execution_count": 14,
   "metadata": {},
   "outputs": [
    {
     "name": "stdout",
     "output_type": "stream",
     "text": [
      "3.826715087291002\n"
     ]
    }
   ],
   "source": [
    "FStar = 3.2159 # from the above anova \n",
    "\n",
    "df_diff = 3\n",
    "df_E = lm_cdi_1b.df_resid\n",
    "alpha = 0.01\n",
    "FTest = stats.f.ppf(1-alpha, df_diff, df_E)\n",
    "print(FTest)"
   ]
  },
  {
   "cell_type": "markdown",
   "metadata": {},
   "source": [
    "*Hypotheses:*\n",
    "\n",
    "$H_0: \\beta_{11} = \\beta_{33} = \\beta_{13} = 0$ \n",
    "\n",
    "$H_a:$ Not all $\\beta$'s are equal to zero\n",
    "\n",
    "\n",
    "*Decision Rules:*\n",
    "\n",
    "If $F^* \\leq$ `r FTest`, conclude $H_0$\n",
    "\n",
    "If $F^* >$ `r FTest`, conclude $H_a$\n",
    "\n",
    "*Conclusion:*\n",
    "\n",
    "Since our test statistic, $F^* =$ `r FStar`, and `r FStar` $\\leq$ `r FTest`, we conclude $H_0$. Also, we can see that the p-value is 0.02278 (from ANOVA) which is greater that the given $\\alpha=0.01$. Thus, we can remove all the quadratic and interaction terms."
   ]
  },
  {
   "cell_type": "markdown",
   "metadata": {},
   "source": [
    "**(c)** \n",
    "\n",
    "Instead of the predictor variable population density, total population (X1) and land area (X2) are to be employed as separate predictor variables, in addition to unemployment rate (X3). The regression model should contain linear and quadratic terms for total population, and linear terms only for land area and unemployment rate. (No interaction terms are to be included in this model.) Fit this regression model and obtain R2. Is this coefficient of multiple determination substantially different from the one for the regression model in part a? (5pts)\n",
    "\n",
    "**Solution:**\n"
   ]
  },
  {
   "cell_type": "code",
   "execution_count": 15,
   "metadata": {},
   "outputs": [],
   "source": [
    "df_1c = cdi_data\n",
    "X1 = cdi_data[\"Total population\"]\n",
    "X2 = cdi_data[\"Land area\"]\n",
    "X3 = cdi_data[\"Percent unemployment\"]\n",
    "\n",
    "df_1c[\"x1\"] = (X1-np.mean(X1))/np.std(X1)\n",
    "df_1c[\"x2\"] = (X2-np.mean(X2))/np.std(X2)\n",
    "df_1c[\"x3\"] = (X3-np.mean(X3))/np.std(X3)\n",
    "df_1c[\"x1sqr\"] = df_1c[\"x1\"]**2\n"
   ]
  },
  {
   "cell_type": "code",
   "execution_count": 16,
   "metadata": {},
   "outputs": [
    {
     "data": {
      "text/html": [
       "<table class=\"simpletable\">\n",
       "<tr>\n",
       "        <td>Model:</td>               <td>OLS</td>         <td>Adj. R-squared:</td>      <td>0.137</td>  \n",
       "</tr>\n",
       "<tr>\n",
       "  <td>Dependent Variable:</td>         <td>Y</td>               <td>AIC:</td>         <td>-1978.8248</td>\n",
       "</tr>\n",
       "<tr>\n",
       "         <td>Date:</td>        <td>2019-11-20 20:19</td>        <td>BIC:</td>         <td>-1958.3909</td>\n",
       "</tr>\n",
       "<tr>\n",
       "   <td>No. Observations:</td>         <td>440</td>         <td>Log-Likelihood:</td>     <td>994.41</td>  \n",
       "</tr>\n",
       "<tr>\n",
       "       <td>Df Model:</td>              <td>4</td>           <td>F-statistic:</td>        <td>18.35</td>  \n",
       "</tr>\n",
       "<tr>\n",
       "     <td>Df Residuals:</td>           <td>435</td>       <td>Prob (F-statistic):</td>  <td>6.02e-14</td> \n",
       "</tr>\n",
       "<tr>\n",
       "      <td>R-squared:</td>            <td>0.144</td>            <td>Scale:</td>        <td>0.00064484</td>\n",
       "</tr>\n",
       "</table>\n",
       "<table class=\"simpletable\">\n",
       "<tr>\n",
       "      <td></td>       <th>Coef.</th>  <th>Std.Err.</th>    <th>t</th>     <th>P>|t|</th> <th>[0.025</th>  <th>0.975]</th> \n",
       "</tr>\n",
       "<tr>\n",
       "  <th>Intercept</th> <td>0.0585</td>   <td>0.0012</td>  <td>47.5952</td> <td>0.0000</td> <td>0.0561</td>  <td>0.0609</td> \n",
       "</tr>\n",
       "<tr>\n",
       "  <th>x1</th>        <td>0.0177</td>   <td>0.0021</td>  <td>8.2762</td>  <td>0.0000</td> <td>0.0135</td>  <td>0.0219</td> \n",
       "</tr>\n",
       "<tr>\n",
       "  <th>x2</th>        <td>-0.0009</td>  <td>0.0013</td>  <td>-0.6865</td> <td>0.4927</td> <td>-0.0033</td> <td>0.0016</td> \n",
       "</tr>\n",
       "<tr>\n",
       "  <th>x3</th>        <td>0.0016</td>   <td>0.0012</td>  <td>1.2873</td>  <td>0.1987</td> <td>-0.0008</td> <td>0.0040</td> \n",
       "</tr>\n",
       "<tr>\n",
       "  <th>x1sqr</th>     <td>-0.0012</td>  <td>0.0002</td>  <td>-5.7095</td> <td>0.0000</td> <td>-0.0016</td> <td>-0.0008</td>\n",
       "</tr>\n",
       "</table>\n",
       "<table class=\"simpletable\">\n",
       "<tr>\n",
       "     <td>Omnibus:</td>    <td>160.964</td>  <td>Durbin-Watson:</td>     <td>1.967</td> \n",
       "</tr>\n",
       "<tr>\n",
       "  <td>Prob(Omnibus):</td>  <td>0.000</td>  <td>Jarque-Bera (JB):</td> <td>1090.601</td>\n",
       "</tr>\n",
       "<tr>\n",
       "       <td>Skew:</td>      <td>1.404</td>      <td>Prob(JB):</td>       <td>0.000</td> \n",
       "</tr>\n",
       "<tr>\n",
       "     <td>Kurtosis:</td>   <td>10.184</td>   <td>Condition No.:</td>      <td>18</td>   \n",
       "</tr>\n",
       "</table>"
      ],
      "text/plain": [
       "<class 'statsmodels.iolib.summary2.Summary'>\n",
       "\"\"\"\n",
       "                  Results: Ordinary least squares\n",
       "===================================================================\n",
       "Model:              OLS              Adj. R-squared:     0.137     \n",
       "Dependent Variable: Y                AIC:                -1978.8248\n",
       "Date:               2019-11-20 20:19 BIC:                -1958.3909\n",
       "No. Observations:   440              Log-Likelihood:     994.41    \n",
       "Df Model:           4                F-statistic:        18.35     \n",
       "Df Residuals:       435              Prob (F-statistic): 6.02e-14  \n",
       "R-squared:          0.144            Scale:              0.00064484\n",
       "---------------------------------------------------------------------\n",
       "             Coef.    Std.Err.      t      P>|t|     [0.025    0.975]\n",
       "---------------------------------------------------------------------\n",
       "Intercept    0.0585     0.0012   47.5952   0.0000    0.0561    0.0609\n",
       "x1           0.0177     0.0021    8.2762   0.0000    0.0135    0.0219\n",
       "x2          -0.0009     0.0013   -0.6865   0.4927   -0.0033    0.0016\n",
       "x3           0.0016     0.0012    1.2873   0.1987   -0.0008    0.0040\n",
       "x1sqr       -0.0012     0.0002   -5.7095   0.0000   -0.0016   -0.0008\n",
       "-------------------------------------------------------------------\n",
       "Omnibus:             160.964       Durbin-Watson:          1.967   \n",
       "Prob(Omnibus):       0.000         Jarque-Bera (JB):       1090.601\n",
       "Skew:                1.404         Prob(JB):               0.000   \n",
       "Kurtosis:            10.184        Condition No.:          18      \n",
       "===================================================================\n",
       "\n",
       "\"\"\""
      ]
     },
     "execution_count": 16,
     "metadata": {},
     "output_type": "execute_result"
    }
   ],
   "source": [
    "lm_cdi_1c = ols(\"Y~x1+x2+x3+x1sqr\", data=df_1c).fit()\n",
    "lm_cdi_1c.summary2()"
   ]
  },
  {
   "cell_type": "code",
   "execution_count": 17,
   "metadata": {},
   "outputs": [
    {
     "data": {
      "text/html": [
       "<div>\n",
       "<style scoped>\n",
       "    .dataframe tbody tr th:only-of-type {\n",
       "        vertical-align: middle;\n",
       "    }\n",
       "\n",
       "    .dataframe tbody tr th {\n",
       "        vertical-align: top;\n",
       "    }\n",
       "\n",
       "    .dataframe thead th {\n",
       "        text-align: right;\n",
       "    }\n",
       "</style>\n",
       "<table border=\"1\" class=\"dataframe\">\n",
       "  <thead>\n",
       "    <tr style=\"text-align: right;\">\n",
       "      <th></th>\n",
       "      <th>df_resid</th>\n",
       "      <th>ssr</th>\n",
       "      <th>df_diff</th>\n",
       "      <th>ss_diff</th>\n",
       "      <th>F</th>\n",
       "      <th>Pr(&gt;F)</th>\n",
       "    </tr>\n",
       "  </thead>\n",
       "  <tbody>\n",
       "    <tr>\n",
       "      <th>0</th>\n",
       "      <td>435.0</td>\n",
       "      <td>0.280506</td>\n",
       "      <td>0.0</td>\n",
       "      <td>NaN</td>\n",
       "      <td>NaN</td>\n",
       "      <td>NaN</td>\n",
       "    </tr>\n",
       "    <tr>\n",
       "      <th>1</th>\n",
       "      <td>434.0</td>\n",
       "      <td>0.246385</td>\n",
       "      <td>1.0</td>\n",
       "      <td>0.034121</td>\n",
       "      <td>60.103526</td>\n",
       "      <td>6.460433e-14</td>\n",
       "    </tr>\n",
       "  </tbody>\n",
       "</table>\n",
       "</div>"
      ],
      "text/plain": [
       "   df_resid       ssr  df_diff   ss_diff          F        Pr(>F)\n",
       "0     435.0  0.280506      0.0       NaN        NaN           NaN\n",
       "1     434.0  0.246385      1.0  0.034121  60.103526  6.460433e-14"
      ]
     },
     "execution_count": 17,
     "metadata": {},
     "output_type": "execute_result"
    }
   ],
   "source": [
    "anova_lm(lm_cdi_1c, lm_cdi_1a)"
   ]
  },
  {
   "cell_type": "code",
   "execution_count": 18,
   "metadata": {},
   "outputs": [
    {
     "name": "stdout",
     "output_type": "stream",
     "text": [
      "R-squared = 0.14439812795141238\n"
     ]
    }
   ],
   "source": [
    "print(\"R-squared = %s\" %lm_cdi_1c.rsquared)"
   ]
  },
  {
   "cell_type": "markdown",
   "metadata": {},
   "source": [
    "*Interpretation:* \n",
    "\n",
    "We can see from the ANOVA that the model in Q1(c) is substantially different than the one in part (a), since the p-value is very low (<<0.001). Also, the $R^2$ is substantially different for the two models.\n"
   ]
  },
  {
   "cell_type": "markdown",
   "metadata": {},
   "source": [
    "**Question 2** Refer to the CDI data set. The number of active physicians (Y) is to be regressed against total population (X1), total personal income (X2), and geographic region (X3, X4, X5). (15pts)\n",
    "\n",
    "**(a)** Fit a first-order regression model. Let X3 =1 if NE and 0 otherwise, X4 = 1 if NC and 0 otherwise, and X5 = 1I if S and 0 otherwise. (5pts)\n",
    "\n",
    "\n",
    "**Solution:**"
   ]
  },
  {
   "cell_type": "code",
   "execution_count": 19,
   "metadata": {},
   "outputs": [],
   "source": [
    "df_2 = cdi_data\n",
    "\n",
    "df_2[\"Y\"] = df_2[\"Number of active physicians\"]\n",
    "df_2[\"X1\"] = df_2[\"Total population\"]\n",
    "df_2[\"X2\"] = df_2[\"Total personal income\"]\n",
    "df_2[\"X3\"] = pd.get_dummies(df_2[\"Geographic region\"])[1]\n",
    "df_2[\"X4\"] = pd.get_dummies(df_2[\"Geographic region\"])[2]\n",
    "df_2[\"X5\"] = pd.get_dummies(df_2[\"Geographic region\"])[3]"
   ]
  },
  {
   "cell_type": "code",
   "execution_count": 20,
   "metadata": {},
   "outputs": [
    {
     "data": {
      "text/html": [
       "<table class=\"simpletable\">\n",
       "<tr>\n",
       "        <td>Model:</td>               <td>OLS</td>         <td>Adj. R-squared:</td>      <td>0.900</td>  \n",
       "</tr>\n",
       "<tr>\n",
       "  <td>Dependent Variable:</td>         <td>Y</td>               <td>AIC:</td>          <td>6832.7739</td>\n",
       "</tr>\n",
       "<tr>\n",
       "         <td>Date:</td>        <td>2019-11-20 20:19</td>        <td>BIC:</td>          <td>6857.2946</td>\n",
       "</tr>\n",
       "<tr>\n",
       "   <td>No. Observations:</td>         <td>440</td>         <td>Log-Likelihood:</td>     <td>-3410.4</td> \n",
       "</tr>\n",
       "<tr>\n",
       "       <td>Df Model:</td>              <td>5</td>           <td>F-statistic:</td>        <td>790.7</td>  \n",
       "</tr>\n",
       "<tr>\n",
       "     <td>Df Residuals:</td>           <td>434</td>       <td>Prob (F-statistic):</td>  <td>1.94e-215</td>\n",
       "</tr>\n",
       "<tr>\n",
       "      <td>R-squared:</td>            <td>0.901</td>            <td>Scale:</td>        <td>3.2049e+05</td>\n",
       "</tr>\n",
       "</table>\n",
       "<table class=\"simpletable\">\n",
       "<tr>\n",
       "      <td></td>        <th>Coef.</th>   <th>Std.Err.</th>    <th>t</th>     <th>P>|t|</th>  <th>[0.025</th>    <th>0.975]</th> \n",
       "</tr>\n",
       "<tr>\n",
       "  <th>Intercept</th> <td>-207.4957</td>  <td>70.2816</td> <td>-2.9523</td> <td>0.0033</td> <td>-345.6304</td> <td>-69.3611</td>\n",
       "</tr>\n",
       "<tr>\n",
       "  <th>X1</th>         <td>0.0006</td>    <td>0.0003</td>  <td>1.9449</td>  <td>0.0524</td>  <td>-0.0000</td>   <td>0.0011</td> \n",
       "</tr>\n",
       "<tr>\n",
       "  <th>X2</th>         <td>0.1070</td>    <td>0.0133</td>  <td>8.0733</td>  <td>0.0000</td>  <td>0.0810</td>    <td>0.1331</td> \n",
       "</tr>\n",
       "<tr>\n",
       "  <th>X3</th>        <td>149.0196</td>   <td>86.8332</td> <td>1.7162</td>  <td>0.0868</td> <td>-21.6462</td>  <td>319.6854</td>\n",
       "</tr>\n",
       "<tr>\n",
       "  <th>X4</th>        <td>145.5264</td>   <td>85.1529</td> <td>1.7090</td>  <td>0.0882</td> <td>-21.8370</td>  <td>312.8898</td>\n",
       "</tr>\n",
       "<tr>\n",
       "  <th>X5</th>        <td>191.2163</td>   <td>80.0330</td> <td>2.3892</td>  <td>0.0173</td>  <td>33.9158</td>  <td>348.5168</td>\n",
       "</tr>\n",
       "</table>\n",
       "<table class=\"simpletable\">\n",
       "<tr>\n",
       "     <td>Omnibus:</td>    <td>287.005</td>  <td>Durbin-Watson:</td>     <td>2.106</td> \n",
       "</tr>\n",
       "<tr>\n",
       "  <td>Prob(Omnibus):</td>  <td>0.000</td>  <td>Jarque-Bera (JB):</td> <td>3872.740</td>\n",
       "</tr>\n",
       "<tr>\n",
       "       <td>Skew:</td>      <td>2.603</td>      <td>Prob(JB):</td>       <td>0.000</td> \n",
       "</tr>\n",
       "<tr>\n",
       "     <td>Kurtosis:</td>   <td>16.570</td>   <td>Condition No.:</td>    <td>3735632</td>\n",
       "</tr>\n",
       "</table>"
      ],
      "text/plain": [
       "<class 'statsmodels.iolib.summary2.Summary'>\n",
       "\"\"\"\n",
       "                  Results: Ordinary least squares\n",
       "===================================================================\n",
       "Model:              OLS              Adj. R-squared:     0.900     \n",
       "Dependent Variable: Y                AIC:                6832.7739 \n",
       "Date:               2019-11-20 20:19 BIC:                6857.2946 \n",
       "No. Observations:   440              Log-Likelihood:     -3410.4   \n",
       "Df Model:           5                F-statistic:        790.7     \n",
       "Df Residuals:       434              Prob (F-statistic): 1.94e-215 \n",
       "R-squared:          0.901            Scale:              3.2049e+05\n",
       "--------------------------------------------------------------------\n",
       "             Coef.    Std.Err.     t     P>|t|     [0.025    0.975] \n",
       "--------------------------------------------------------------------\n",
       "Intercept  -207.4957   70.2816  -2.9523  0.0033  -345.6304  -69.3611\n",
       "X1            0.0006    0.0003   1.9449  0.0524    -0.0000    0.0011\n",
       "X2            0.1070    0.0133   8.0733  0.0000     0.0810    0.1331\n",
       "X3          149.0196   86.8332   1.7162  0.0868   -21.6462  319.6854\n",
       "X4          145.5264   85.1529   1.7090  0.0882   -21.8370  312.8898\n",
       "X5          191.2163   80.0330   2.3892  0.0173    33.9158  348.5168\n",
       "-------------------------------------------------------------------\n",
       "Omnibus:             287.005       Durbin-Watson:          2.106   \n",
       "Prob(Omnibus):       0.000         Jarque-Bera (JB):       3872.740\n",
       "Skew:                2.603         Prob(JB):               0.000   \n",
       "Kurtosis:            16.570        Condition No.:          3735632 \n",
       "===================================================================\n",
       "* The condition number is large (4e+06). This might indicate\n",
       "strong multicollinearity or other numerical problems.\n",
       "\"\"\""
      ]
     },
     "execution_count": 20,
     "metadata": {},
     "output_type": "execute_result"
    }
   ],
   "source": [
    "lm_cdi_2a = ols(\"Y~X1+X2+X3+X4+X5\", data=df_2).fit()\n",
    "lm_cdi_2a.summary2()"
   ]
  },
  {
   "cell_type": "markdown",
   "metadata": {},
   "source": [
    "**(b)** \n",
    "\n",
    "Examine whether the effect for the northeastern region on number of active physicians differs from the effect for the north central region by constructing an appropriate 90 percent confidence interval. Interpret your interval estimate. (5pts)"
   ]
  },
  {
   "cell_type": "code",
   "execution_count": 21,
   "metadata": {},
   "outputs": [
    {
     "data": {
      "text/html": [
       "<div>\n",
       "<style scoped>\n",
       "    .dataframe tbody tr th:only-of-type {\n",
       "        vertical-align: middle;\n",
       "    }\n",
       "\n",
       "    .dataframe tbody tr th {\n",
       "        vertical-align: top;\n",
       "    }\n",
       "\n",
       "    .dataframe thead th {\n",
       "        text-align: right;\n",
       "    }\n",
       "</style>\n",
       "<table border=\"1\" class=\"dataframe\">\n",
       "  <thead>\n",
       "    <tr style=\"text-align: right;\">\n",
       "      <th></th>\n",
       "      <th>0</th>\n",
       "      <th>1</th>\n",
       "    </tr>\n",
       "  </thead>\n",
       "  <tbody>\n",
       "    <tr>\n",
       "      <th>Intercept</th>\n",
       "      <td>-323.345998</td>\n",
       "      <td>-91.645500</td>\n",
       "    </tr>\n",
       "    <tr>\n",
       "      <th>X1</th>\n",
       "      <td>0.000084</td>\n",
       "      <td>0.001019</td>\n",
       "    </tr>\n",
       "    <tr>\n",
       "      <th>X2</th>\n",
       "      <td>0.085162</td>\n",
       "      <td>0.128861</td>\n",
       "    </tr>\n",
       "    <tr>\n",
       "      <th>X3</th>\n",
       "      <td>5.886209</td>\n",
       "      <td>292.152935</td>\n",
       "    </tr>\n",
       "    <tr>\n",
       "      <th>X4</th>\n",
       "      <td>5.162733</td>\n",
       "      <td>285.890159</td>\n",
       "    </tr>\n",
       "    <tr>\n",
       "      <th>X5</th>\n",
       "      <td>59.292112</td>\n",
       "      <td>323.140497</td>\n",
       "    </tr>\n",
       "  </tbody>\n",
       "</table>\n",
       "</div>"
      ],
      "text/plain": [
       "                    0           1\n",
       "Intercept -323.345998  -91.645500\n",
       "X1           0.000084    0.001019\n",
       "X2           0.085162    0.128861\n",
       "X3           5.886209  292.152935\n",
       "X4           5.162733  285.890159\n",
       "X5          59.292112  323.140497"
      ]
     },
     "execution_count": 21,
     "metadata": {},
     "output_type": "execute_result"
    }
   ],
   "source": [
    "alpha = 0.1\n",
    "lm_cdi_2a.conf_int(alpha=alpha)"
   ]
  },
  {
   "cell_type": "markdown",
   "metadata": {},
   "source": [
    "*Interpretation:*\n",
    "\n",
    "The confidence interval estimates for Northeastern region (X3) are not significantly different that those for Northcentral region (X4)."
   ]
  },
  {
   "cell_type": "markdown",
   "metadata": {},
   "source": [
    "**(c)** \n",
    "\n",
    "Test whether any geographic effects are present; use α= .10. State the alternatives, decision rule, and conclusion. What is the P-value of the test? (5pts)"
   ]
  },
  {
   "cell_type": "code",
   "execution_count": 22,
   "metadata": {},
   "outputs": [
    {
     "data": {
      "text/html": [
       "<table class=\"simpletable\">\n",
       "<tr>\n",
       "        <td>Model:</td>               <td>OLS</td>         <td>Adj. R-squared:</td>      <td>0.899</td>  \n",
       "</tr>\n",
       "<tr>\n",
       "  <td>Dependent Variable:</td>         <td>Y</td>               <td>AIC:</td>          <td>6832.6613</td>\n",
       "</tr>\n",
       "<tr>\n",
       "         <td>Date:</td>        <td>2019-11-20 20:19</td>        <td>BIC:</td>          <td>6844.9216</td>\n",
       "</tr>\n",
       "<tr>\n",
       "   <td>No. Observations:</td>         <td>440</td>         <td>Log-Likelihood:</td>     <td>-3413.3</td> \n",
       "</tr>\n",
       "<tr>\n",
       "       <td>Df Model:</td>              <td>2</td>           <td>F-statistic:</td>        <td>1961.</td>  \n",
       "</tr>\n",
       "<tr>\n",
       "     <td>Df Residuals:</td>           <td>437</td>       <td>Prob (F-statistic):</td>  <td>5.41e-219</td>\n",
       "</tr>\n",
       "<tr>\n",
       "      <td>R-squared:</td>            <td>0.900</td>            <td>Scale:</td>        <td>3.2258e+05</td>\n",
       "</tr>\n",
       "</table>\n",
       "<table class=\"simpletable\">\n",
       "<tr>\n",
       "      <td></td>        <th>Coef.</th>  <th>Std.Err.</th>    <th>t</th>     <th>P>|t|</th>  <th>[0.025</th>   <th>0.975]</th>\n",
       "</tr>\n",
       "<tr>\n",
       "  <th>Intercept</th> <td>-64.4382</td>  <td>32.8258</td> <td>-1.9630</td> <td>0.0503</td> <td>-128.9543</td> <td>0.0779</td>\n",
       "</tr>\n",
       "<tr>\n",
       "  <th>X1</th>         <td>0.0005</td>   <td>0.0003</td>  <td>1.9135</td>  <td>0.0563</td>  <td>-0.0000</td>  <td>0.0011</td>\n",
       "</tr>\n",
       "<tr>\n",
       "  <th>X2</th>         <td>0.1072</td>   <td>0.0130</td>  <td>8.2692</td>  <td>0.0000</td>  <td>0.0817</td>   <td>0.1327</td>\n",
       "</tr>\n",
       "</table>\n",
       "<table class=\"simpletable\">\n",
       "<tr>\n",
       "     <td>Omnibus:</td>    <td>287.580</td>  <td>Durbin-Watson:</td>     <td>2.117</td> \n",
       "</tr>\n",
       "<tr>\n",
       "  <td>Prob(Omnibus):</td>  <td>0.000</td>  <td>Jarque-Bera (JB):</td> <td>3874.314</td>\n",
       "</tr>\n",
       "<tr>\n",
       "       <td>Skew:</td>      <td>2.611</td>      <td>Prob(JB):</td>       <td>0.000</td> \n",
       "</tr>\n",
       "<tr>\n",
       "     <td>Kurtosis:</td>   <td>16.567</td>   <td>Condition No.:</td>    <td>871067</td> \n",
       "</tr>\n",
       "</table>"
      ],
      "text/plain": [
       "<class 'statsmodels.iolib.summary2.Summary'>\n",
       "\"\"\"\n",
       "                  Results: Ordinary least squares\n",
       "===================================================================\n",
       "Model:              OLS              Adj. R-squared:     0.899     \n",
       "Dependent Variable: Y                AIC:                6832.6613 \n",
       "Date:               2019-11-20 20:19 BIC:                6844.9216 \n",
       "No. Observations:   440              Log-Likelihood:     -3413.3   \n",
       "Df Model:           2                F-statistic:        1961.     \n",
       "Df Residuals:       437              Prob (F-statistic): 5.41e-219 \n",
       "R-squared:          0.900            Scale:              3.2258e+05\n",
       "--------------------------------------------------------------------\n",
       "               Coef.    Std.Err.     t     P>|t|     [0.025   0.975]\n",
       "--------------------------------------------------------------------\n",
       "Intercept     -64.4382   32.8258  -1.9630  0.0503  -128.9543  0.0779\n",
       "X1              0.0005    0.0003   1.9135  0.0563    -0.0000  0.0011\n",
       "X2              0.1072    0.0130   8.2692  0.0000     0.0817  0.1327\n",
       "-------------------------------------------------------------------\n",
       "Omnibus:             287.580       Durbin-Watson:          2.117   \n",
       "Prob(Omnibus):       0.000         Jarque-Bera (JB):       3874.314\n",
       "Skew:                2.611         Prob(JB):               0.000   \n",
       "Kurtosis:            16.567        Condition No.:          871067  \n",
       "===================================================================\n",
       "* The condition number is large (9e+05). This might indicate\n",
       "strong multicollinearity or other numerical problems.\n",
       "\"\"\""
      ]
     },
     "metadata": {},
     "output_type": "display_data"
    },
    {
     "data": {
      "text/html": [
       "<div>\n",
       "<style scoped>\n",
       "    .dataframe tbody tr th:only-of-type {\n",
       "        vertical-align: middle;\n",
       "    }\n",
       "\n",
       "    .dataframe tbody tr th {\n",
       "        vertical-align: top;\n",
       "    }\n",
       "\n",
       "    .dataframe thead th {\n",
       "        text-align: right;\n",
       "    }\n",
       "</style>\n",
       "<table border=\"1\" class=\"dataframe\">\n",
       "  <thead>\n",
       "    <tr style=\"text-align: right;\">\n",
       "      <th></th>\n",
       "      <th>df_resid</th>\n",
       "      <th>ssr</th>\n",
       "      <th>df_diff</th>\n",
       "      <th>ss_diff</th>\n",
       "      <th>F</th>\n",
       "      <th>Pr(&gt;F)</th>\n",
       "    </tr>\n",
       "  </thead>\n",
       "  <tbody>\n",
       "    <tr>\n",
       "      <th>0</th>\n",
       "      <td>437.0</td>\n",
       "      <td>1.409671e+08</td>\n",
       "      <td>0.0</td>\n",
       "      <td>NaN</td>\n",
       "      <td>NaN</td>\n",
       "      <td>NaN</td>\n",
       "    </tr>\n",
       "    <tr>\n",
       "      <th>1</th>\n",
       "      <td>434.0</td>\n",
       "      <td>1.390935e+08</td>\n",
       "      <td>3.0</td>\n",
       "      <td>1.873626e+06</td>\n",
       "      <td>1.948699</td>\n",
       "      <td>0.121032</td>\n",
       "    </tr>\n",
       "  </tbody>\n",
       "</table>\n",
       "</div>"
      ],
      "text/plain": [
       "   df_resid           ssr  df_diff       ss_diff         F    Pr(>F)\n",
       "0     437.0  1.409671e+08      0.0           NaN       NaN       NaN\n",
       "1     434.0  1.390935e+08      3.0  1.873626e+06  1.948699  0.121032"
      ]
     },
     "execution_count": 22,
     "metadata": {},
     "output_type": "execute_result"
    }
   ],
   "source": [
    "lm_cdi_2c = ols(\"Y~X1+X2\", data=df_2).fit()\n",
    "display(lm_cdi_2c.summary2())\n",
    "anova_lm(lm_cdi_2c, lm_cdi_2a)"
   ]
  },
  {
   "cell_type": "code",
   "execution_count": 23,
   "metadata": {},
   "outputs": [
    {
     "name": "stdout",
     "output_type": "stream",
     "text": [
      "2.0963615332508763\n"
     ]
    }
   ],
   "source": [
    "FStar = 1.9487 # from the above anova \n",
    "\n",
    "df_diff = 3\n",
    "df_E = lm_cdi_1b.df_resid\n",
    "alpha = 0.1\n",
    "FTest = stats.f.ppf(1-alpha, df_diff, df_E)\n",
    "print(FTest)"
   ]
  },
  {
   "cell_type": "markdown",
   "metadata": {},
   "source": [
    "*Hypotheses:*\n",
    "\n",
    "$H_0: \\beta_{3} = \\beta_{4} = \\beta_{5} = 0$ \n",
    "\n",
    "$H_a:$ Not all $\\beta$'s are equal to zero\n",
    "\n",
    "\n",
    "*Decision Rules:*\n",
    "\n",
    "If $F^* \\leq$ `r FTest`, conclude $H_0$\n",
    "\n",
    "If $F^* >$ `r FTest`, conclude $H_a$\n",
    "\n",
    "*Conclusion:*\n",
    "\n",
    "Since our test statistic, $F^* =$ `r FStar`, and `r FStar` $\\leq$ `r FTest`, we conclude $H_0$. Thus, the geographic effects are not present."
   ]
  },
  {
   "cell_type": "markdown",
   "metadata": {},
   "source": [
    "**Quuestion 3** Refer to the Lung pressure Data. Increased arterial blood pressure in the lungs frequently leads to the development of heart failure in patients with chronic obstructive pulmonary disease (COPD). The standard method for determining arterial lung pressure is invasive, technically difficult, and involves some risk to the patient. Radionuclide imaging is a noninvasive, less risky method for estimating arterial pressure in the lungs. To investigate the predictive ability of this method, a cardiologist collected data on 19 mild-to-moderate COPD patients. The data includes the invasive measure of systolic pulmonary arterial pressure (Y) and three potential noninvasive predictor variables. Two were obtained by using radionuclide imaging emptying rate of blood into the pumping chamber or the heart (X1) and ejection rate of blood pumped out of the heart into the lungs (X2) and the third predictor variable measures blood gas (X3). (25pts)\n",
    "\n",
    "\n",
    "**(a)** Fit the multiple regression function containing the three predictor variables us first-order terms. Does it appear that all predictor variables should be retained? (5pts)\n",
    "\n",
    "**Solution:**"
   ]
  },
  {
   "cell_type": "code",
   "execution_count": 24,
   "metadata": {},
   "outputs": [
    {
     "name": "stderr",
     "output_type": "stream",
     "text": [
      "/home/srk-apts/anaconda3/lib/python3.7/site-packages/scipy/stats/stats.py:1450: UserWarning: kurtosistest only valid for n>=20 ... continuing anyway, n=19\n",
      "  \"anyway, n=%i\" % int(n))\n"
     ]
    },
    {
     "data": {
      "text/html": [
       "<table class=\"simpletable\">\n",
       "<tr>\n",
       "        <td>Model:</td>               <td>OLS</td>         <td>Adj. R-squared:</td>     <td>0.537</td> \n",
       "</tr>\n",
       "<tr>\n",
       "  <td>Dependent Variable:</td>         <td>Y</td>               <td>AIC:</td>         <td>158.8476</td>\n",
       "</tr>\n",
       "<tr>\n",
       "         <td>Date:</td>        <td>2019-11-20 20:19</td>        <td>BIC:</td>         <td>162.6254</td>\n",
       "</tr>\n",
       "<tr>\n",
       "   <td>No. Observations:</td>         <td>19</td>          <td>Log-Likelihood:</td>    <td>-75.424</td>\n",
       "</tr>\n",
       "<tr>\n",
       "       <td>Df Model:</td>              <td>3</td>           <td>F-statistic:</td>       <td>7.957</td> \n",
       "</tr>\n",
       "<tr>\n",
       "     <td>Df Residuals:</td>           <td>15</td>        <td>Prob (F-statistic):</td>  <td>0.00208</td>\n",
       "</tr>\n",
       "<tr>\n",
       "      <td>R-squared:</td>            <td>0.614</td>            <td>Scale:</td>         <td>208.07</td> \n",
       "</tr>\n",
       "</table>\n",
       "<table class=\"simpletable\">\n",
       "<tr>\n",
       "      <td></td>       <th>Coef.</th>  <th>Std.Err.</th>    <th>t</th>     <th>P>|t|</th> <th>[0.025</th>   <th>0.975]</th> \n",
       "</tr>\n",
       "<tr>\n",
       "  <th>Intercept</th> <td>87.1875</td>  <td>21.5525</td> <td>4.0454</td>  <td>0.0011</td> <td>41.2495</td> <td>133.1255</td>\n",
       "</tr>\n",
       "<tr>\n",
       "  <th>X1</th>        <td>-0.5645</td>  <td>0.4279</td>  <td>-1.3191</td> <td>0.2069</td> <td>-1.4766</td>  <td>0.3476</td> \n",
       "</tr>\n",
       "<tr>\n",
       "  <th>X2</th>        <td>-0.5132</td>  <td>0.2245</td>  <td>-2.2858</td> <td>0.0372</td> <td>-0.9916</td>  <td>-0.0347</td>\n",
       "</tr>\n",
       "<tr>\n",
       "  <th>X3</th>        <td>-0.0720</td>  <td>0.4546</td>  <td>-0.1583</td> <td>0.8763</td> <td>-1.0409</td>  <td>0.8969</td> \n",
       "</tr>\n",
       "</table>\n",
       "<table class=\"simpletable\">\n",
       "<tr>\n",
       "     <td>Omnibus:</td>    <td>2.637</td>  <td>Durbin-Watson:</td>   <td>1.171</td>\n",
       "</tr>\n",
       "<tr>\n",
       "  <td>Prob(Omnibus):</td> <td>0.268</td> <td>Jarque-Bera (JB):</td> <td>1.623</td>\n",
       "</tr>\n",
       "<tr>\n",
       "       <td>Skew:</td>     <td>0.716</td>     <td>Prob(JB):</td>     <td>0.444</td>\n",
       "</tr>\n",
       "<tr>\n",
       "     <td>Kurtosis:</td>   <td>2.979</td>  <td>Condition No.:</td>    <td>458</td> \n",
       "</tr>\n",
       "</table>"
      ],
      "text/plain": [
       "<class 'statsmodels.iolib.summary2.Summary'>\n",
       "\"\"\"\n",
       "                 Results: Ordinary least squares\n",
       "=================================================================\n",
       "Model:              OLS              Adj. R-squared:     0.537   \n",
       "Dependent Variable: Y                AIC:                158.8476\n",
       "Date:               2019-11-20 20:19 BIC:                162.6254\n",
       "No. Observations:   19               Log-Likelihood:     -75.424 \n",
       "Df Model:           3                F-statistic:        7.957   \n",
       "Df Residuals:       15               Prob (F-statistic): 0.00208 \n",
       "R-squared:          0.614            Scale:              208.07  \n",
       "------------------------------------------------------------------\n",
       "              Coef.   Std.Err.     t     P>|t|    [0.025   0.975] \n",
       "------------------------------------------------------------------\n",
       "Intercept    87.1875   21.5525   4.0454  0.0011  41.2495  133.1255\n",
       "X1           -0.5645    0.4279  -1.3191  0.2069  -1.4766    0.3476\n",
       "X2           -0.5132    0.2245  -2.2858  0.0372  -0.9916   -0.0347\n",
       "X3           -0.0720    0.4546  -0.1583  0.8763  -1.0409    0.8969\n",
       "-----------------------------------------------------------------\n",
       "Omnibus:              2.637        Durbin-Watson:           1.171\n",
       "Prob(Omnibus):        0.268        Jarque-Bera (JB):        1.623\n",
       "Skew:                 0.716        Prob(JB):                0.444\n",
       "Kurtosis:             2.979        Condition No.:           458  \n",
       "=================================================================\n",
       "\n",
       "\"\"\""
      ]
     },
     "execution_count": 24,
     "metadata": {},
     "output_type": "execute_result"
    }
   ],
   "source": [
    "lung_data = pd.read_csv(\"data/Lung Pressure.csv\")\n",
    "lm_lung_3a = ols(\"Y~X1+X2+X3\", data=lung_data).fit()\n",
    "lm_lung_3a.summary2()"
   ]
  },
  {
   "cell_type": "code",
   "execution_count": 25,
   "metadata": {},
   "outputs": [
    {
     "data": {
      "text/html": [
       "<div>\n",
       "<style scoped>\n",
       "    .dataframe tbody tr th:only-of-type {\n",
       "        vertical-align: middle;\n",
       "    }\n",
       "\n",
       "    .dataframe tbody tr th {\n",
       "        vertical-align: top;\n",
       "    }\n",
       "\n",
       "    .dataframe thead th {\n",
       "        text-align: right;\n",
       "    }\n",
       "</style>\n",
       "<table border=\"1\" class=\"dataframe\">\n",
       "  <thead>\n",
       "    <tr style=\"text-align: right;\">\n",
       "      <th></th>\n",
       "      <th>df</th>\n",
       "      <th>sum_sq</th>\n",
       "      <th>mean_sq</th>\n",
       "      <th>F</th>\n",
       "      <th>PR(&gt;F)</th>\n",
       "    </tr>\n",
       "  </thead>\n",
       "  <tbody>\n",
       "    <tr>\n",
       "      <th>X1</th>\n",
       "      <td>1.0</td>\n",
       "      <td>3577.085399</td>\n",
       "      <td>3577.085399</td>\n",
       "      <td>17.191982</td>\n",
       "      <td>0.000862</td>\n",
       "    </tr>\n",
       "    <tr>\n",
       "      <th>X2</th>\n",
       "      <td>1.0</td>\n",
       "      <td>1384.378861</td>\n",
       "      <td>1384.378861</td>\n",
       "      <td>6.653522</td>\n",
       "      <td>0.020938</td>\n",
       "    </tr>\n",
       "    <tr>\n",
       "      <th>X3</th>\n",
       "      <td>1.0</td>\n",
       "      <td>5.213752</td>\n",
       "      <td>5.213752</td>\n",
       "      <td>0.025058</td>\n",
       "      <td>0.876334</td>\n",
       "    </tr>\n",
       "    <tr>\n",
       "      <th>Residual</th>\n",
       "      <td>15.0</td>\n",
       "      <td>3121.006199</td>\n",
       "      <td>208.067080</td>\n",
       "      <td>NaN</td>\n",
       "      <td>NaN</td>\n",
       "    </tr>\n",
       "  </tbody>\n",
       "</table>\n",
       "</div>"
      ],
      "text/plain": [
       "            df       sum_sq      mean_sq          F    PR(>F)\n",
       "X1         1.0  3577.085399  3577.085399  17.191982  0.000862\n",
       "X2         1.0  1384.378861  1384.378861   6.653522  0.020938\n",
       "X3         1.0     5.213752     5.213752   0.025058  0.876334\n",
       "Residual  15.0  3121.006199   208.067080        NaN       NaN"
      ]
     },
     "execution_count": 25,
     "metadata": {},
     "output_type": "execute_result"
    }
   ],
   "source": [
    "anova_lm(lm_lung_3a)"
   ]
  },
  {
   "cell_type": "markdown",
   "metadata": {},
   "source": [
    "*Interpretation:* \n",
    "\n",
    "We see that the p-value for X2 and X3 show a good linear relation with Y, as they add a significant amount of SSR (based on ANOVA above and looking at the respective p-values). But X3 does not appear to add a significant value to the model when X1 and X2 are already present."
   ]
  },
  {
   "cell_type": "markdown",
   "metadata": {},
   "source": [
    "**(b)** Using first-order and second-order terms for each of the three predictor variables (centered around the mean) in the pool of potential X variables (including cross products of the first order terms), find the three best hierarchical subset regression models according to the R2a,p criterion. (5pts)"
   ]
  },
  {
   "cell_type": "code",
   "execution_count": 26,
   "metadata": {},
   "outputs": [],
   "source": [
    "df_3 = lung_data\n",
    "\n",
    "Y = df_3[\"Y\"]\n",
    "X1 = df_3[\"X1\"]\n",
    "X2 = df_3[\"X2\"]\n",
    "X3 = df_3[\"X3\"]\n",
    "\n",
    "df_3[\"x1\"] = (X1-np.mean(X1))/np.std(X1)\n",
    "df_3[\"x2\"] = (X2-np.mean(X2))/np.std(X2)\n",
    "df_3[\"x3\"] = (X3-np.mean(X3))/np.std(X3)\n",
    "df_3[\"x1sqr\"] = df_3[\"x1\"]**2\n",
    "df_3[\"x2sqr\"] = df_3[\"x2\"]**2\n",
    "df_3[\"x3sqr\"] = df_3[\"x3\"]**2\n",
    "df_3[\"x1x2\"] = df_3[\"x1\"]*df_3[\"x2\"]\n",
    "df_3[\"x1x3\"] = df_3[\"x1\"]*df_3[\"x3\"]\n",
    "df_3[\"x2x3\"] = df_3[\"x1\"]*df_3[\"x3\"]"
   ]
  },
  {
   "cell_type": "code",
   "execution_count": 27,
   "metadata": {},
   "outputs": [
    {
     "data": {
      "text/html": [
       "<table class=\"simpletable\">\n",
       "<tr>\n",
       "        <td>Model:</td>               <td>OLS</td>         <td>Adj. R-squared:</td>     <td>0.662</td> \n",
       "</tr>\n",
       "<tr>\n",
       "  <td>Dependent Variable:</td>         <td>Y</td>               <td>AIC:</td>         <td>155.1594</td>\n",
       "</tr>\n",
       "<tr>\n",
       "         <td>Date:</td>        <td>2019-11-20 20:19</td>        <td>BIC:</td>         <td>163.6593</td>\n",
       "</tr>\n",
       "<tr>\n",
       "   <td>No. Observations:</td>         <td>19</td>          <td>Log-Likelihood:</td>    <td>-68.580</td>\n",
       "</tr>\n",
       "<tr>\n",
       "       <td>Df Model:</td>              <td>8</td>           <td>F-statistic:</td>       <td>5.408</td> \n",
       "</tr>\n",
       "<tr>\n",
       "     <td>Df Residuals:</td>           <td>10</td>        <td>Prob (F-statistic):</td>  <td>0.00787</td>\n",
       "</tr>\n",
       "<tr>\n",
       "      <td>R-squared:</td>            <td>0.812</td>            <td>Scale:</td>         <td>151.85</td> \n",
       "</tr>\n",
       "</table>\n",
       "<table class=\"simpletable\">\n",
       "<tr>\n",
       "      <td></td>        <th>Coef.</th>  <th>Std.Err.</th>    <th>t</th>     <th>P>|t|</th>  <th>[0.025</th>  <th>0.975]</th> \n",
       "</tr>\n",
       "<tr>\n",
       "  <th>Intercept</th>  <td>36.9357</td>  <td>5.2016</td>  <td>7.1008</td>  <td>0.0000</td>  <td>25.3458</td> <td>48.5257</td>\n",
       "</tr>\n",
       "<tr>\n",
       "  <th>x1</th>         <td>-6.3722</td>  <td>4.8391</td>  <td>-1.3168</td> <td>0.2173</td> <td>-17.1545</td> <td>4.4100</td> \n",
       "</tr>\n",
       "<tr>\n",
       "  <th>x2</th>        <td>-16.5366</td>  <td>5.9653</td>  <td>-2.7722</td> <td>0.0197</td> <td>-29.8281</td> <td>-3.2452</td>\n",
       "</tr>\n",
       "<tr>\n",
       "  <th>x3</th>         <td>-0.6799</td>  <td>3.3519</td>  <td>-0.2028</td> <td>0.8433</td>  <td>-8.1485</td> <td>6.7887</td> \n",
       "</tr>\n",
       "<tr>\n",
       "  <th>x1sqr</th>      <td>3.4094</td>   <td>6.5768</td>  <td>0.5184</td>  <td>0.6155</td> <td>-11.2446</td> <td>18.0634</td>\n",
       "</tr>\n",
       "<tr>\n",
       "  <th>x2sqr</th>      <td>4.0524</td>   <td>4.2310</td>  <td>0.9578</td>  <td>0.3607</td>  <td>-5.3747</td> <td>13.4796</td>\n",
       "</tr>\n",
       "<tr>\n",
       "  <th>x3sqr</th>      <td>-1.5631</td>  <td>3.3670</td>  <td>-0.4643</td> <td>0.6524</td>  <td>-9.0652</td> <td>5.9389</td> \n",
       "</tr>\n",
       "<tr>\n",
       "  <th>x1x2</th>       <td>0.5822</td>   <td>11.2989</td> <td>0.0515</td>  <td>0.9599</td> <td>-24.5932</td> <td>25.7577</td>\n",
       "</tr>\n",
       "<tr>\n",
       "  <th>x1x3</th>       <td>-0.5269</td>  <td>2.9443</td>  <td>-0.1790</td> <td>0.8615</td>  <td>-7.0873</td> <td>6.0335</td> \n",
       "</tr>\n",
       "<tr>\n",
       "  <th>x2x3</th>       <td>-0.5269</td>  <td>2.9443</td>  <td>-0.1790</td> <td>0.8615</td>  <td>-7.0873</td> <td>6.0335</td> \n",
       "</tr>\n",
       "</table>\n",
       "<table class=\"simpletable\">\n",
       "<tr>\n",
       "     <td>Omnibus:</td>    <td>4.589</td>  <td>Durbin-Watson:</td>          <td>1.799</td>      \n",
       "</tr>\n",
       "<tr>\n",
       "  <td>Prob(Omnibus):</td> <td>0.101</td> <td>Jarque-Bera (JB):</td>        <td>2.511</td>      \n",
       "</tr>\n",
       "<tr>\n",
       "       <td>Skew:</td>     <td>0.832</td>     <td>Prob(JB):</td>            <td>0.285</td>      \n",
       "</tr>\n",
       "<tr>\n",
       "     <td>Kurtosis:</td>   <td>3.637</td>  <td>Condition No.:</td>   <td>270862265005137696</td>\n",
       "</tr>\n",
       "</table>"
      ],
      "text/plain": [
       "<class 'statsmodels.iolib.summary2.Summary'>\n",
       "\"\"\"\n",
       "                 Results: Ordinary least squares\n",
       "=================================================================\n",
       "Model:              OLS              Adj. R-squared:     0.662   \n",
       "Dependent Variable: Y                AIC:                155.1594\n",
       "Date:               2019-11-20 20:19 BIC:                163.6593\n",
       "No. Observations:   19               Log-Likelihood:     -68.580 \n",
       "Df Model:           8                F-statistic:        5.408   \n",
       "Df Residuals:       10               Prob (F-statistic): 0.00787 \n",
       "R-squared:          0.812            Scale:              151.85  \n",
       "------------------------------------------------------------------\n",
       "             Coef.    Std.Err.     t     P>|t|    [0.025    0.975]\n",
       "------------------------------------------------------------------\n",
       "Intercept    36.9357    5.2016   7.1008  0.0000   25.3458  48.5257\n",
       "x1           -6.3722    4.8391  -1.3168  0.2173  -17.1545   4.4100\n",
       "x2          -16.5366    5.9653  -2.7722  0.0197  -29.8281  -3.2452\n",
       "x3           -0.6799    3.3519  -0.2028  0.8433   -8.1485   6.7887\n",
       "x1sqr         3.4094    6.5768   0.5184  0.6155  -11.2446  18.0634\n",
       "x2sqr         4.0524    4.2310   0.9578  0.3607   -5.3747  13.4796\n",
       "x3sqr        -1.5631    3.3670  -0.4643  0.6524   -9.0652   5.9389\n",
       "x1x2          0.5822   11.2989   0.0515  0.9599  -24.5932  25.7577\n",
       "x1x3         -0.5269    2.9443  -0.1790  0.8615   -7.0873   6.0335\n",
       "x2x3         -0.5269    2.9443  -0.1790  0.8615   -7.0873   6.0335\n",
       "-----------------------------------------------------------------\n",
       "Omnibus:           4.589   Durbin-Watson:      1.799             \n",
       "Prob(Omnibus):     0.101   Jarque-Bera (JB):   2.511             \n",
       "Skew:              0.832   Prob(JB):           0.285             \n",
       "Kurtosis:          3.637   Condition No.:      270862265005137696\n",
       "=================================================================\n",
       "* The condition number is large (3e+17). This might indicate\n",
       "strong multicollinearity or other numerical problems.\n",
       "\"\"\""
      ]
     },
     "execution_count": 27,
     "metadata": {},
     "output_type": "execute_result"
    }
   ],
   "source": [
    "lm_lung_3b1 = ols(\"Y~x1+x2+x3+x1sqr+x2sqr+x3sqr+x1x2+x1x3+x2x3\", data=df_3).fit()\n",
    "lm_lung_3b1.summary2()"
   ]
  },
  {
   "cell_type": "code",
   "execution_count": 28,
   "metadata": {},
   "outputs": [
    {
     "data": {
      "text/html": [
       "<table class=\"simpletable\">\n",
       "<tr>\n",
       "        <td>Model:</td>               <td>OLS</td>         <td>Adj. R-squared:</td>     <td>0.685</td> \n",
       "</tr>\n",
       "<tr>\n",
       "  <td>Dependent Variable:</td>         <td>Y</td>               <td>AIC:</td>         <td>153.6632</td>\n",
       "</tr>\n",
       "<tr>\n",
       "         <td>Date:</td>        <td>2019-11-20 20:19</td>        <td>BIC:</td>         <td>161.2187</td>\n",
       "</tr>\n",
       "<tr>\n",
       "   <td>No. Observations:</td>         <td>19</td>          <td>Log-Likelihood:</td>    <td>-68.832</td>\n",
       "</tr>\n",
       "<tr>\n",
       "       <td>Df Model:</td>              <td>7</td>           <td>F-statistic:</td>       <td>6.579</td> \n",
       "</tr>\n",
       "<tr>\n",
       "     <td>Df Residuals:</td>           <td>11</td>        <td>Prob (F-statistic):</td>  <td>0.00316</td>\n",
       "</tr>\n",
       "<tr>\n",
       "      <td>R-squared:</td>            <td>0.807</td>            <td>Scale:</td>         <td>141.75</td> \n",
       "</tr>\n",
       "</table>\n",
       "<table class=\"simpletable\">\n",
       "<tr>\n",
       "      <td></td>        <th>Coef.</th>  <th>Std.Err.</th>    <th>t</th>     <th>P>|t|</th>  <th>[0.025</th>  <th>0.975]</th> \n",
       "</tr>\n",
       "<tr>\n",
       "  <th>Intercept</th>  <td>38.0738</td>  <td>4.5562</td>  <td>8.3565</td>  <td>0.0000</td>  <td>28.0457</td> <td>48.1019</td>\n",
       "</tr>\n",
       "<tr>\n",
       "  <th>x1</th>         <td>-5.5007</td>  <td>4.3843</td>  <td>-1.2546</td> <td>0.2356</td> <td>-15.1504</td> <td>4.1490</td> \n",
       "</tr>\n",
       "<tr>\n",
       "  <th>x2</th>        <td>-16.9621</td>  <td>5.7088</td>  <td>-2.9713</td> <td>0.0127</td> <td>-29.5270</td> <td>-4.3973</td>\n",
       "</tr>\n",
       "<tr>\n",
       "  <th>x3</th>         <td>-0.4268</td>  <td>3.2041</td>  <td>-0.1332</td> <td>0.8964</td>  <td>-7.4789</td> <td>6.6253</td> \n",
       "</tr>\n",
       "<tr>\n",
       "  <th>x2sqr</th>      <td>3.2754</td>   <td>3.8228</td>  <td>0.8568</td>  <td>0.4098</td>  <td>-5.1385</td> <td>11.6892</td>\n",
       "</tr>\n",
       "<tr>\n",
       "  <th>x3sqr</th>      <td>-2.0818</td>  <td>3.1062</td>  <td>-0.6702</td> <td>0.5165</td>  <td>-8.9184</td> <td>4.7548</td> \n",
       "</tr>\n",
       "<tr>\n",
       "  <th>x1x2</th>       <td>6.1381</td>   <td>3.4569</td>  <td>1.7756</td>  <td>0.1034</td>  <td>-1.4704</td> <td>13.7466</td>\n",
       "</tr>\n",
       "<tr>\n",
       "  <th>x1x3</th>       <td>0.1247</td>   <td>2.5725</td>  <td>0.0485</td>  <td>0.9622</td>  <td>-5.5373</td> <td>5.7868</td> \n",
       "</tr>\n",
       "<tr>\n",
       "  <th>x2x3</th>       <td>0.1247</td>   <td>2.5725</td>  <td>0.0485</td>  <td>0.9622</td>  <td>-5.5373</td> <td>5.7868</td> \n",
       "</tr>\n",
       "</table>\n",
       "<table class=\"simpletable\">\n",
       "<tr>\n",
       "     <td>Omnibus:</td>    <td>4.723</td>  <td>Durbin-Watson:</td>         <td>1.775</td>      \n",
       "</tr>\n",
       "<tr>\n",
       "  <td>Prob(Omnibus):</td> <td>0.094</td> <td>Jarque-Bera (JB):</td>       <td>2.566</td>      \n",
       "</tr>\n",
       "<tr>\n",
       "       <td>Skew:</td>     <td>0.827</td>     <td>Prob(JB):</td>           <td>0.277</td>      \n",
       "</tr>\n",
       "<tr>\n",
       "     <td>Kurtosis:</td>   <td>3.712</td>  <td>Condition No.:</td>   <td>64576486039554384</td>\n",
       "</tr>\n",
       "</table>"
      ],
      "text/plain": [
       "<class 'statsmodels.iolib.summary2.Summary'>\n",
       "\"\"\"\n",
       "                 Results: Ordinary least squares\n",
       "=================================================================\n",
       "Model:              OLS              Adj. R-squared:     0.685   \n",
       "Dependent Variable: Y                AIC:                153.6632\n",
       "Date:               2019-11-20 20:19 BIC:                161.2187\n",
       "No. Observations:   19               Log-Likelihood:     -68.832 \n",
       "Df Model:           7                F-statistic:        6.579   \n",
       "Df Residuals:       11               Prob (F-statistic): 0.00316 \n",
       "R-squared:          0.807            Scale:              141.75  \n",
       "------------------------------------------------------------------\n",
       "             Coef.    Std.Err.     t     P>|t|    [0.025    0.975]\n",
       "------------------------------------------------------------------\n",
       "Intercept    38.0738    4.5562   8.3565  0.0000   28.0457  48.1019\n",
       "x1           -5.5007    4.3843  -1.2546  0.2356  -15.1504   4.1490\n",
       "x2          -16.9621    5.7088  -2.9713  0.0127  -29.5270  -4.3973\n",
       "x3           -0.4268    3.2041  -0.1332  0.8964   -7.4789   6.6253\n",
       "x2sqr         3.2754    3.8228   0.8568  0.4098   -5.1385  11.6892\n",
       "x3sqr        -2.0818    3.1062  -0.6702  0.5165   -8.9184   4.7548\n",
       "x1x2          6.1381    3.4569   1.7756  0.1034   -1.4704  13.7466\n",
       "x1x3          0.1247    2.5725   0.0485  0.9622   -5.5373   5.7868\n",
       "x2x3          0.1247    2.5725   0.0485  0.9622   -5.5373   5.7868\n",
       "-----------------------------------------------------------------\n",
       "Omnibus:          4.723    Durbin-Watson:       1.775            \n",
       "Prob(Omnibus):    0.094    Jarque-Bera (JB):    2.566            \n",
       "Skew:             0.827    Prob(JB):            0.277            \n",
       "Kurtosis:         3.712    Condition No.:       64576486039554384\n",
       "=================================================================\n",
       "* The condition number is large (6e+16). This might indicate\n",
       "strong multicollinearity or other numerical problems.\n",
       "\"\"\""
      ]
     },
     "execution_count": 28,
     "metadata": {},
     "output_type": "execute_result"
    }
   ],
   "source": [
    "lm_lung_3b2 = ols(\"Y~x1+x2+x3+x2sqr+x3sqr+x1x2+x1x3+x2x3\", data=df_3).fit()\n",
    "lm_lung_3b2.summary2()"
   ]
  },
  {
   "cell_type": "code",
   "execution_count": 29,
   "metadata": {},
   "outputs": [
    {
     "data": {
      "text/html": [
       "<table class=\"simpletable\">\n",
       "<tr>\n",
       "        <td>Model:</td>               <td>OLS</td>         <td>Adj. R-squared:</td>     <td>0.691</td> \n",
       "</tr>\n",
       "<tr>\n",
       "  <td>Dependent Variable:</td>         <td>Y</td>               <td>AIC:</td>         <td>152.8907</td>\n",
       "</tr>\n",
       "<tr>\n",
       "         <td>Date:</td>        <td>2019-11-20 20:19</td>        <td>BIC:</td>         <td>159.5018</td>\n",
       "</tr>\n",
       "<tr>\n",
       "   <td>No. Observations:</td>         <td>19</td>          <td>Log-Likelihood:</td>    <td>-69.445</td>\n",
       "</tr>\n",
       "<tr>\n",
       "       <td>Df Model:</td>              <td>6</td>           <td>F-statistic:</td>       <td>7.724</td> \n",
       "</tr>\n",
       "<tr>\n",
       "     <td>Df Residuals:</td>           <td>12</td>        <td>Prob (F-statistic):</td>  <td>0.00144</td>\n",
       "</tr>\n",
       "<tr>\n",
       "      <td>R-squared:</td>            <td>0.794</td>            <td>Scale:</td>         <td>138.61</td> \n",
       "</tr>\n",
       "</table>\n",
       "<table class=\"simpletable\">\n",
       "<tr>\n",
       "      <td></td>        <th>Coef.</th>  <th>Std.Err.</th>    <th>t</th>     <th>P>|t|</th>  <th>[0.025</th>  <th>0.975]</th> \n",
       "</tr>\n",
       "<tr>\n",
       "  <th>Intercept</th>  <td>38.7931</td>  <td>4.4283</td>  <td>8.7602</td>  <td>0.0000</td>  <td>29.1446</td> <td>48.4415</td>\n",
       "</tr>\n",
       "<tr>\n",
       "  <th>x1</th>         <td>-6.8889</td>  <td>4.0285</td>  <td>-1.7100</td> <td>0.1130</td> <td>-15.6663</td> <td>1.8885</td> \n",
       "</tr>\n",
       "<tr>\n",
       "  <th>x2</th>        <td>-14.0415</td>  <td>4.5283</td>  <td>-3.1008</td> <td>0.0092</td> <td>-23.9078</td> <td>-4.1752</td>\n",
       "</tr>\n",
       "<tr>\n",
       "  <th>x3</th>         <td>-0.4068</td>  <td>3.1683</td>  <td>-0.1284</td> <td>0.9000</td>  <td>-7.3099</td> <td>6.4963</td> \n",
       "</tr>\n",
       "<tr>\n",
       "  <th>x3sqr</th>      <td>-0.8115</td>  <td>2.6991</td>  <td>-0.3007</td> <td>0.7688</td>  <td>-6.6924</td> <td>5.0693</td> \n",
       "</tr>\n",
       "<tr>\n",
       "  <th>x1x2</th>       <td>8.0316</td>   <td>2.6286</td>  <td>3.0555</td>  <td>0.0100</td>  <td>2.3044</td>  <td>13.7589</td>\n",
       "</tr>\n",
       "<tr>\n",
       "  <th>x1x3</th>       <td>-0.4137</td>  <td>2.4668</td>  <td>-0.1677</td> <td>0.8696</td>  <td>-5.7883</td> <td>4.9609</td> \n",
       "</tr>\n",
       "<tr>\n",
       "  <th>x2x3</th>       <td>-0.4137</td>  <td>2.4668</td>  <td>-0.1677</td> <td>0.8696</td>  <td>-5.7883</td> <td>4.9609</td> \n",
       "</tr>\n",
       "</table>\n",
       "<table class=\"simpletable\">\n",
       "<tr>\n",
       "     <td>Omnibus:</td>    <td>4.683</td>  <td>Durbin-Watson:</td>         <td>1.804</td>      \n",
       "</tr>\n",
       "<tr>\n",
       "  <td>Prob(Omnibus):</td> <td>0.096</td> <td>Jarque-Bera (JB):</td>       <td>2.655</td>      \n",
       "</tr>\n",
       "<tr>\n",
       "       <td>Skew:</td>     <td>0.872</td>     <td>Prob(JB):</td>           <td>0.265</td>      \n",
       "</tr>\n",
       "<tr>\n",
       "     <td>Kurtosis:</td>   <td>3.557</td>  <td>Condition No.:</td>   <td>53660872398252640</td>\n",
       "</tr>\n",
       "</table>"
      ],
      "text/plain": [
       "<class 'statsmodels.iolib.summary2.Summary'>\n",
       "\"\"\"\n",
       "                 Results: Ordinary least squares\n",
       "=================================================================\n",
       "Model:              OLS              Adj. R-squared:     0.691   \n",
       "Dependent Variable: Y                AIC:                152.8907\n",
       "Date:               2019-11-20 20:19 BIC:                159.5018\n",
       "No. Observations:   19               Log-Likelihood:     -69.445 \n",
       "Df Model:           6                F-statistic:        7.724   \n",
       "Df Residuals:       12               Prob (F-statistic): 0.00144 \n",
       "R-squared:          0.794            Scale:              138.61  \n",
       "------------------------------------------------------------------\n",
       "             Coef.    Std.Err.     t     P>|t|    [0.025    0.975]\n",
       "------------------------------------------------------------------\n",
       "Intercept    38.7931    4.4283   8.7602  0.0000   29.1446  48.4415\n",
       "x1           -6.8889    4.0285  -1.7100  0.1130  -15.6663   1.8885\n",
       "x2          -14.0415    4.5283  -3.1008  0.0092  -23.9078  -4.1752\n",
       "x3           -0.4068    3.1683  -0.1284  0.9000   -7.3099   6.4963\n",
       "x3sqr        -0.8115    2.6991  -0.3007  0.7688   -6.6924   5.0693\n",
       "x1x2          8.0316    2.6286   3.0555  0.0100    2.3044  13.7589\n",
       "x1x3         -0.4137    2.4668  -0.1677  0.8696   -5.7883   4.9609\n",
       "x2x3         -0.4137    2.4668  -0.1677  0.8696   -5.7883   4.9609\n",
       "-----------------------------------------------------------------\n",
       "Omnibus:          4.683    Durbin-Watson:       1.804            \n",
       "Prob(Omnibus):    0.096    Jarque-Bera (JB):    2.655            \n",
       "Skew:             0.872    Prob(JB):            0.265            \n",
       "Kurtosis:         3.557    Condition No.:       53660872398252640\n",
       "=================================================================\n",
       "* The condition number is large (5e+16). This might indicate\n",
       "strong multicollinearity or other numerical problems.\n",
       "\"\"\""
      ]
     },
     "execution_count": 29,
     "metadata": {},
     "output_type": "execute_result"
    }
   ],
   "source": [
    "lm_lung_3b3 = ols(\"Y~x1+x2+x3+x3sqr+x1x2+x1x3+x2x3\", data=df_3).fit()\n",
    "lm_lung_3b3.summary2()"
   ]
  },
  {
   "cell_type": "code",
   "execution_count": 30,
   "metadata": {},
   "outputs": [
    {
     "data": {
      "text/html": [
       "<table class=\"simpletable\">\n",
       "<tr>\n",
       "        <td>Model:</td>               <td>OLS</td>         <td>Adj. R-squared:</td>     <td>0.691</td> \n",
       "</tr>\n",
       "<tr>\n",
       "  <td>Dependent Variable:</td>         <td>Y</td>               <td>AIC:</td>         <td>152.8907</td>\n",
       "</tr>\n",
       "<tr>\n",
       "         <td>Date:</td>        <td>2019-11-20 20:19</td>        <td>BIC:</td>         <td>159.5018</td>\n",
       "</tr>\n",
       "<tr>\n",
       "   <td>No. Observations:</td>         <td>19</td>          <td>Log-Likelihood:</td>    <td>-69.445</td>\n",
       "</tr>\n",
       "<tr>\n",
       "       <td>Df Model:</td>              <td>6</td>           <td>F-statistic:</td>       <td>7.724</td> \n",
       "</tr>\n",
       "<tr>\n",
       "     <td>Df Residuals:</td>           <td>12</td>        <td>Prob (F-statistic):</td>  <td>0.00144</td>\n",
       "</tr>\n",
       "<tr>\n",
       "      <td>R-squared:</td>            <td>0.794</td>            <td>Scale:</td>         <td>138.61</td> \n",
       "</tr>\n",
       "</table>\n",
       "<table class=\"simpletable\">\n",
       "<tr>\n",
       "      <td></td>        <th>Coef.</th>  <th>Std.Err.</th>    <th>t</th>     <th>P>|t|</th>  <th>[0.025</th>  <th>0.975]</th> \n",
       "</tr>\n",
       "<tr>\n",
       "  <th>Intercept</th>  <td>38.7931</td>  <td>4.4283</td>  <td>8.7602</td>  <td>0.0000</td>  <td>29.1446</td> <td>48.4415</td>\n",
       "</tr>\n",
       "<tr>\n",
       "  <th>x1</th>         <td>-6.8889</td>  <td>4.0285</td>  <td>-1.7100</td> <td>0.1130</td> <td>-15.6663</td> <td>1.8885</td> \n",
       "</tr>\n",
       "<tr>\n",
       "  <th>x2</th>        <td>-14.0415</td>  <td>4.5283</td>  <td>-3.1008</td> <td>0.0092</td> <td>-23.9078</td> <td>-4.1752</td>\n",
       "</tr>\n",
       "<tr>\n",
       "  <th>x3</th>         <td>-0.4068</td>  <td>3.1683</td>  <td>-0.1284</td> <td>0.9000</td>  <td>-7.3099</td> <td>6.4963</td> \n",
       "</tr>\n",
       "<tr>\n",
       "  <th>x3sqr</th>      <td>-0.8115</td>  <td>2.6991</td>  <td>-0.3007</td> <td>0.7688</td>  <td>-6.6924</td> <td>5.0693</td> \n",
       "</tr>\n",
       "<tr>\n",
       "  <th>x1x2</th>       <td>8.0316</td>   <td>2.6286</td>  <td>3.0555</td>  <td>0.0100</td>  <td>2.3044</td>  <td>13.7589</td>\n",
       "</tr>\n",
       "<tr>\n",
       "  <th>x2x3</th>       <td>-0.8274</td>  <td>4.9335</td>  <td>-0.1677</td> <td>0.8696</td> <td>-11.5766</td> <td>9.9219</td> \n",
       "</tr>\n",
       "</table>\n",
       "<table class=\"simpletable\">\n",
       "<tr>\n",
       "     <td>Omnibus:</td>    <td>4.683</td>  <td>Durbin-Watson:</td>   <td>1.804</td>\n",
       "</tr>\n",
       "<tr>\n",
       "  <td>Prob(Omnibus):</td> <td>0.096</td> <td>Jarque-Bera (JB):</td> <td>2.655</td>\n",
       "</tr>\n",
       "<tr>\n",
       "       <td>Skew:</td>     <td>0.872</td>     <td>Prob(JB):</td>     <td>0.265</td>\n",
       "</tr>\n",
       "<tr>\n",
       "     <td>Kurtosis:</td>   <td>3.557</td>  <td>Condition No.:</td>     <td>4</td>  \n",
       "</tr>\n",
       "</table>"
      ],
      "text/plain": [
       "<class 'statsmodels.iolib.summary2.Summary'>\n",
       "\"\"\"\n",
       "                 Results: Ordinary least squares\n",
       "=================================================================\n",
       "Model:              OLS              Adj. R-squared:     0.691   \n",
       "Dependent Variable: Y                AIC:                152.8907\n",
       "Date:               2019-11-20 20:19 BIC:                159.5018\n",
       "No. Observations:   19               Log-Likelihood:     -69.445 \n",
       "Df Model:           6                F-statistic:        7.724   \n",
       "Df Residuals:       12               Prob (F-statistic): 0.00144 \n",
       "R-squared:          0.794            Scale:              138.61  \n",
       "------------------------------------------------------------------\n",
       "             Coef.    Std.Err.     t     P>|t|    [0.025    0.975]\n",
       "------------------------------------------------------------------\n",
       "Intercept    38.7931    4.4283   8.7602  0.0000   29.1446  48.4415\n",
       "x1           -6.8889    4.0285  -1.7100  0.1130  -15.6663   1.8885\n",
       "x2          -14.0415    4.5283  -3.1008  0.0092  -23.9078  -4.1752\n",
       "x3           -0.4068    3.1683  -0.1284  0.9000   -7.3099   6.4963\n",
       "x3sqr        -0.8115    2.6991  -0.3007  0.7688   -6.6924   5.0693\n",
       "x1x2          8.0316    2.6286   3.0555  0.0100    2.3044  13.7589\n",
       "x2x3         -0.8274    4.9335  -0.1677  0.8696  -11.5766   9.9219\n",
       "-----------------------------------------------------------------\n",
       "Omnibus:              4.683        Durbin-Watson:           1.804\n",
       "Prob(Omnibus):        0.096        Jarque-Bera (JB):        2.655\n",
       "Skew:                 0.872        Prob(JB):                0.265\n",
       "Kurtosis:             3.557        Condition No.:           4    \n",
       "=================================================================\n",
       "\n",
       "\"\"\""
      ]
     },
     "execution_count": 30,
     "metadata": {},
     "output_type": "execute_result"
    }
   ],
   "source": [
    "lm_lung_3b4 = ols(\"Y~x1+x2+x3+x3sqr+x1x2+x2x3\", data=df_3).fit()\n",
    "lm_lung_3b4.summary2()"
   ]
  },
  {
   "cell_type": "code",
   "execution_count": 31,
   "metadata": {},
   "outputs": [
    {
     "data": {
      "text/html": [
       "<table class=\"simpletable\">\n",
       "<tr>\n",
       "        <td>Model:</td>               <td>OLS</td>         <td>Adj. R-squared:</td>     <td>0.713</td> \n",
       "</tr>\n",
       "<tr>\n",
       "  <td>Dependent Variable:</td>         <td>Y</td>               <td>AIC:</td>         <td>151.0333</td>\n",
       "</tr>\n",
       "<tr>\n",
       "         <td>Date:</td>        <td>2019-11-20 20:19</td>        <td>BIC:</td>         <td>156.7000</td>\n",
       "</tr>\n",
       "<tr>\n",
       "   <td>No. Observations:</td>         <td>19</td>          <td>Log-Likelihood:</td>    <td>-69.517</td>\n",
       "</tr>\n",
       "<tr>\n",
       "       <td>Df Model:</td>              <td>5</td>           <td>F-statistic:</td>       <td>9.947</td> \n",
       "</tr>\n",
       "<tr>\n",
       "     <td>Df Residuals:</td>           <td>13</td>        <td>Prob (F-statistic):</td> <td>0.000434</td>\n",
       "</tr>\n",
       "<tr>\n",
       "      <td>R-squared:</td>            <td>0.793</td>            <td>Scale:</td>         <td>128.92</td> \n",
       "</tr>\n",
       "</table>\n",
       "<table class=\"simpletable\">\n",
       "<tr>\n",
       "      <td></td>        <th>Coef.</th>  <th>Std.Err.</th>    <th>t</th>     <th>P>|t|</th>  <th>[0.025</th>  <th>0.975]</th> \n",
       "</tr>\n",
       "<tr>\n",
       "  <th>Intercept</th>  <td>37.8664</td>  <td>3.0664</td>  <td>12.3488</td> <td>0.0000</td>  <td>31.2418</td> <td>44.4909</td>\n",
       "</tr>\n",
       "<tr>\n",
       "  <th>x1</th>         <td>-6.9793</td>  <td>3.8742</td>  <td>-1.8015</td> <td>0.0949</td> <td>-15.3490</td> <td>1.3904</td> \n",
       "</tr>\n",
       "<tr>\n",
       "  <th>x2</th>        <td>-14.1959</td>  <td>4.3388</td>  <td>-3.2718</td> <td>0.0061</td> <td>-23.5693</td> <td>-4.8225</td>\n",
       "</tr>\n",
       "<tr>\n",
       "  <th>x3</th>         <td>-0.4026</td>  <td>3.0554</td>  <td>-0.1318</td> <td>0.8972</td>  <td>-7.0034</td> <td>6.1982</td> \n",
       "</tr>\n",
       "<tr>\n",
       "  <th>x1x2</th>       <td>8.2236</td>   <td>2.4590</td>  <td>3.3442</td>  <td>0.0053</td>  <td>2.9112</td>  <td>13.5361</td>\n",
       "</tr>\n",
       "<tr>\n",
       "  <th>x2x3</th>       <td>-0.6068</td>  <td>4.7049</td>  <td>-0.1290</td> <td>0.8993</td> <td>-10.7712</td> <td>9.5576</td> \n",
       "</tr>\n",
       "</table>\n",
       "<table class=\"simpletable\">\n",
       "<tr>\n",
       "     <td>Omnibus:</td>    <td>5.041</td>  <td>Durbin-Watson:</td>   <td>1.759</td>\n",
       "</tr>\n",
       "<tr>\n",
       "  <td>Prob(Omnibus):</td> <td>0.080</td> <td>Jarque-Bera (JB):</td> <td>2.879</td>\n",
       "</tr>\n",
       "<tr>\n",
       "       <td>Skew:</td>     <td>0.897</td>     <td>Prob(JB):</td>     <td>0.237</td>\n",
       "</tr>\n",
       "<tr>\n",
       "     <td>Kurtosis:</td>   <td>3.645</td>  <td>Condition No.:</td>     <td>4</td>  \n",
       "</tr>\n",
       "</table>"
      ],
      "text/plain": [
       "<class 'statsmodels.iolib.summary2.Summary'>\n",
       "\"\"\"\n",
       "                 Results: Ordinary least squares\n",
       "=================================================================\n",
       "Model:              OLS              Adj. R-squared:     0.713   \n",
       "Dependent Variable: Y                AIC:                151.0333\n",
       "Date:               2019-11-20 20:19 BIC:                156.7000\n",
       "No. Observations:   19               Log-Likelihood:     -69.517 \n",
       "Df Model:           5                F-statistic:        9.947   \n",
       "Df Residuals:       13               Prob (F-statistic): 0.000434\n",
       "R-squared:          0.793            Scale:              128.92  \n",
       "------------------------------------------------------------------\n",
       "             Coef.    Std.Err.     t     P>|t|    [0.025    0.975]\n",
       "------------------------------------------------------------------\n",
       "Intercept    37.8664    3.0664  12.3488  0.0000   31.2418  44.4909\n",
       "x1           -6.9793    3.8742  -1.8015  0.0949  -15.3490   1.3904\n",
       "x2          -14.1959    4.3388  -3.2718  0.0061  -23.5693  -4.8225\n",
       "x3           -0.4026    3.0554  -0.1318  0.8972   -7.0034   6.1982\n",
       "x1x2          8.2236    2.4590   3.3442  0.0053    2.9112  13.5361\n",
       "x2x3         -0.6068    4.7049  -0.1290  0.8993  -10.7712   9.5576\n",
       "-----------------------------------------------------------------\n",
       "Omnibus:              5.041        Durbin-Watson:           1.759\n",
       "Prob(Omnibus):        0.080        Jarque-Bera (JB):        2.879\n",
       "Skew:                 0.897        Prob(JB):                0.237\n",
       "Kurtosis:             3.645        Condition No.:           4    \n",
       "=================================================================\n",
       "\n",
       "\"\"\""
      ]
     },
     "execution_count": 31,
     "metadata": {},
     "output_type": "execute_result"
    }
   ],
   "source": [
    "lm_lung_3b5 = ols(\"Y~x1+x2+x3+x1x2+x2x3\", data=df_3).fit()\n",
    "lm_lung_3b5.summary2()"
   ]
  },
  {
   "cell_type": "code",
   "execution_count": 32,
   "metadata": {},
   "outputs": [
    {
     "data": {
      "text/html": [
       "<table class=\"simpletable\">\n",
       "<tr>\n",
       "        <td>Model:</td>               <td>OLS</td>         <td>Adj. R-squared:</td>     <td>0.733</td> \n",
       "</tr>\n",
       "<tr>\n",
       "  <td>Dependent Variable:</td>         <td>Y</td>               <td>AIC:</td>         <td>149.0587</td>\n",
       "</tr>\n",
       "<tr>\n",
       "         <td>Date:</td>        <td>2019-11-20 20:19</td>        <td>BIC:</td>         <td>153.7809</td>\n",
       "</tr>\n",
       "<tr>\n",
       "   <td>No. Observations:</td>         <td>19</td>          <td>Log-Likelihood:</td>    <td>-69.529</td>\n",
       "</tr>\n",
       "<tr>\n",
       "       <td>Df Model:</td>              <td>4</td>           <td>F-statistic:</td>       <td>13.37</td> \n",
       "</tr>\n",
       "<tr>\n",
       "     <td>Df Residuals:</td>           <td>14</td>        <td>Prob (F-statistic):</td> <td>0.000108</td>\n",
       "</tr>\n",
       "<tr>\n",
       "      <td>R-squared:</td>            <td>0.793</td>            <td>Scale:</td>         <td>119.87</td> \n",
       "</tr>\n",
       "</table>\n",
       "<table class=\"simpletable\">\n",
       "<tr>\n",
       "      <td></td>        <th>Coef.</th>  <th>Std.Err.</th>    <th>t</th>     <th>P>|t|</th>  <th>[0.025</th>  <th>0.975]</th> \n",
       "</tr>\n",
       "<tr>\n",
       "  <th>Intercept</th>  <td>37.8613</td>  <td>2.9566</td>  <td>12.8057</td> <td>0.0000</td>  <td>31.5200</td> <td>44.2025</td>\n",
       "</tr>\n",
       "<tr>\n",
       "  <th>x1</th>         <td>-7.1348</td>  <td>3.5582</td>  <td>-2.0052</td> <td>0.0647</td> <td>-14.7665</td> <td>0.4968</td> \n",
       "</tr>\n",
       "<tr>\n",
       "  <th>x2</th>        <td>-13.9298</td>  <td>3.7030</td>  <td>-3.7618</td> <td>0.0021</td> <td>-21.8720</td> <td>-5.9877</td>\n",
       "</tr>\n",
       "<tr>\n",
       "  <th>x1x2</th>       <td>8.2297</td>   <td>2.3708</td>  <td>3.4713</td>  <td>0.0037</td>  <td>3.1449</td>  <td>13.3145</td>\n",
       "</tr>\n",
       "<tr>\n",
       "  <th>x2x3</th>       <td>-0.6314</td>  <td>4.5333</td>  <td>-0.1393</td> <td>0.8912</td> <td>-10.3543</td> <td>9.0915</td> \n",
       "</tr>\n",
       "</table>\n",
       "<table class=\"simpletable\">\n",
       "<tr>\n",
       "     <td>Omnibus:</td>    <td>5.546</td>  <td>Durbin-Watson:</td>   <td>1.720</td>\n",
       "</tr>\n",
       "<tr>\n",
       "  <td>Prob(Omnibus):</td> <td>0.062</td> <td>Jarque-Bera (JB):</td> <td>3.287</td>\n",
       "</tr>\n",
       "<tr>\n",
       "       <td>Skew:</td>     <td>0.961</td>     <td>Prob(JB):</td>     <td>0.193</td>\n",
       "</tr>\n",
       "<tr>\n",
       "     <td>Kurtosis:</td>   <td>3.675</td>  <td>Condition No.:</td>     <td>3</td>  \n",
       "</tr>\n",
       "</table>"
      ],
      "text/plain": [
       "<class 'statsmodels.iolib.summary2.Summary'>\n",
       "\"\"\"\n",
       "                 Results: Ordinary least squares\n",
       "=================================================================\n",
       "Model:              OLS              Adj. R-squared:     0.733   \n",
       "Dependent Variable: Y                AIC:                149.0587\n",
       "Date:               2019-11-20 20:19 BIC:                153.7809\n",
       "No. Observations:   19               Log-Likelihood:     -69.529 \n",
       "Df Model:           4                F-statistic:        13.37   \n",
       "Df Residuals:       14               Prob (F-statistic): 0.000108\n",
       "R-squared:          0.793            Scale:              119.87  \n",
       "------------------------------------------------------------------\n",
       "             Coef.    Std.Err.     t     P>|t|    [0.025    0.975]\n",
       "------------------------------------------------------------------\n",
       "Intercept    37.8613    2.9566  12.8057  0.0000   31.5200  44.2025\n",
       "x1           -7.1348    3.5582  -2.0052  0.0647  -14.7665   0.4968\n",
       "x2          -13.9298    3.7030  -3.7618  0.0021  -21.8720  -5.9877\n",
       "x1x2          8.2297    2.3708   3.4713  0.0037    3.1449  13.3145\n",
       "x2x3         -0.6314    4.5333  -0.1393  0.8912  -10.3543   9.0915\n",
       "-----------------------------------------------------------------\n",
       "Omnibus:              5.546        Durbin-Watson:           1.720\n",
       "Prob(Omnibus):        0.062        Jarque-Bera (JB):        3.287\n",
       "Skew:                 0.961        Prob(JB):                0.193\n",
       "Kurtosis:             3.675        Condition No.:           3    \n",
       "=================================================================\n",
       "\n",
       "\"\"\""
      ]
     },
     "execution_count": 32,
     "metadata": {},
     "output_type": "execute_result"
    }
   ],
   "source": [
    "lm_lung_3b6 = ols(\"Y~x1+x2+x1x2+x2x3\", data=df_3).fit()\n",
    "lm_lung_3b6.summary2()"
   ]
  },
  {
   "cell_type": "code",
   "execution_count": 33,
   "metadata": {},
   "outputs": [
    {
     "data": {
      "text/html": [
       "<table class=\"simpletable\">\n",
       "<tr>\n",
       "        <td>Model:</td>               <td>OLS</td>         <td>Adj. R-squared:</td>     <td>0.751</td> \n",
       "</tr>\n",
       "<tr>\n",
       "  <td>Dependent Variable:</td>         <td>Y</td>               <td>AIC:</td>         <td>147.0850</td>\n",
       "</tr>\n",
       "<tr>\n",
       "         <td>Date:</td>        <td>2019-11-20 20:19</td>        <td>BIC:</td>         <td>150.8628</td>\n",
       "</tr>\n",
       "<tr>\n",
       "   <td>No. Observations:</td>         <td>19</td>          <td>Log-Likelihood:</td>    <td>-69.543</td>\n",
       "</tr>\n",
       "<tr>\n",
       "       <td>Df Model:</td>              <td>3</td>           <td>F-statistic:</td>       <td>19.06</td> \n",
       "</tr>\n",
       "<tr>\n",
       "     <td>Df Residuals:</td>           <td>15</td>        <td>Prob (F-statistic):</td> <td>2.23e-05</td>\n",
       "</tr>\n",
       "<tr>\n",
       "      <td>R-squared:</td>            <td>0.792</td>            <td>Scale:</td>         <td>112.03</td> \n",
       "</tr>\n",
       "</table>\n",
       "<table class=\"simpletable\">\n",
       "<tr>\n",
       "      <td></td>        <th>Coef.</th>  <th>Std.Err.</th>    <th>t</th>     <th>P>|t|</th>  <th>[0.025</th>  <th>0.975]</th> \n",
       "</tr>\n",
       "<tr>\n",
       "  <th>Intercept</th>  <td>37.8882</td>  <td>2.8522</td>  <td>13.2838</td> <td>0.0000</td>  <td>31.8089</td> <td>43.9675</td>\n",
       "</tr>\n",
       "<tr>\n",
       "  <th>x1</th>         <td>-7.3105</td>  <td>3.2165</td>  <td>-2.2728</td> <td>0.0382</td> <td>-14.1663</td> <td>-0.4548</td>\n",
       "</tr>\n",
       "<tr>\n",
       "  <th>x2</th>        <td>-13.7224</td>  <td>3.2776</td>  <td>-4.1867</td> <td>0.0008</td> <td>-20.7085</td> <td>-6.7363</td>\n",
       "</tr>\n",
       "<tr>\n",
       "  <th>x1x2</th>       <td>8.2331</td>   <td>2.2918</td>  <td>3.5923</td>  <td>0.0027</td>  <td>3.3481</td>  <td>13.1180</td>\n",
       "</tr>\n",
       "</table>\n",
       "<table class=\"simpletable\">\n",
       "<tr>\n",
       "     <td>Omnibus:</td>    <td>4.466</td>  <td>Durbin-Watson:</td>   <td>1.734</td>\n",
       "</tr>\n",
       "<tr>\n",
       "  <td>Prob(Omnibus):</td> <td>0.107</td> <td>Jarque-Bera (JB):</td> <td>2.559</td>\n",
       "</tr>\n",
       "<tr>\n",
       "       <td>Skew:</td>     <td>0.868</td>     <td>Prob(JB):</td>     <td>0.278</td>\n",
       "</tr>\n",
       "<tr>\n",
       "     <td>Kurtosis:</td>   <td>3.466</td>  <td>Condition No.:</td>     <td>3</td>  \n",
       "</tr>\n",
       "</table>"
      ],
      "text/plain": [
       "<class 'statsmodels.iolib.summary2.Summary'>\n",
       "\"\"\"\n",
       "                 Results: Ordinary least squares\n",
       "=================================================================\n",
       "Model:              OLS              Adj. R-squared:     0.751   \n",
       "Dependent Variable: Y                AIC:                147.0850\n",
       "Date:               2019-11-20 20:19 BIC:                150.8628\n",
       "No. Observations:   19               Log-Likelihood:     -69.543 \n",
       "Df Model:           3                F-statistic:        19.06   \n",
       "Df Residuals:       15               Prob (F-statistic): 2.23e-05\n",
       "R-squared:          0.792            Scale:              112.03  \n",
       "------------------------------------------------------------------\n",
       "             Coef.    Std.Err.     t     P>|t|    [0.025    0.975]\n",
       "------------------------------------------------------------------\n",
       "Intercept    37.8882    2.8522  13.2838  0.0000   31.8089  43.9675\n",
       "x1           -7.3105    3.2165  -2.2728  0.0382  -14.1663  -0.4548\n",
       "x2          -13.7224    3.2776  -4.1867  0.0008  -20.7085  -6.7363\n",
       "x1x2          8.2331    2.2918   3.5923  0.0027    3.3481  13.1180\n",
       "-----------------------------------------------------------------\n",
       "Omnibus:              4.466        Durbin-Watson:           1.734\n",
       "Prob(Omnibus):        0.107        Jarque-Bera (JB):        2.559\n",
       "Skew:                 0.868        Prob(JB):                0.278\n",
       "Kurtosis:             3.466        Condition No.:           3    \n",
       "=================================================================\n",
       "\n",
       "\"\"\""
      ]
     },
     "execution_count": 33,
     "metadata": {},
     "output_type": "execute_result"
    }
   ],
   "source": [
    "lm_lung_3b7 = ols(\"Y~x1+x2+x1x2\", data=df_3).fit()\n",
    "lm_lung_3b7.summary2()"
   ]
  },
  {
   "cell_type": "markdown",
   "metadata": {},
   "source": [
    "We can see that `lm_lung_3b5`, `lm_lung_3b6` and `lm_lung_3b7` are the three best hierarchical subset regression models based on Adjusted R-squared."
   ]
  },
  {
   "cell_type": "code",
   "execution_count": 34,
   "metadata": {},
   "outputs": [],
   "source": [
    "X = df_3[[\"x1\",\"x2\",\"x3\",\"x1sqr\",\"x2sqr\",\"x3sqr\",\"x1x2\",\"x1x3\",\"x2x3\"]]\n",
    "Y = df_3[\"Y\"]"
   ]
  },
  {
   "cell_type": "code",
   "execution_count": 35,
   "metadata": {},
   "outputs": [
    {
     "name": "stderr",
     "output_type": "stream",
     "text": [
      "/home/srk-apts/anaconda3/lib/python3.7/site-packages/ipykernel_launcher.py:11: FutureWarning: Method .as_matrix will be removed in a future version. Use .values instead.\n",
      "  # This is added back by InteractiveShellApp.init_path()\n",
      "Features: 511/511"
     ]
    }
   ],
   "source": [
    "lr = LinearRegression()\n",
    "efs1 = EFS(lr, \n",
    "           min_features=1,\n",
    "           max_features=len(X.columns),\n",
    "           scoring='r2',\n",
    "           print_progress=True,\n",
    "           cv=5)\n",
    "\n",
    "\n",
    "# Create a efs fit\n",
    "efs1 = efs1.fit(X.as_matrix(), Y.as_matrix())"
   ]
  },
  {
   "cell_type": "code",
   "execution_count": 36,
   "metadata": {},
   "outputs": [
    {
     "name": "stdout",
     "output_type": "stream",
     "text": [
      "Best R2: 0.20\n",
      "Best subset: (1, 4, 5, 6)\n"
     ]
    }
   ],
   "source": [
    "print('Best R2: %.2f' % efs1.best_score_)\n",
    "## Print the IDX of the best features \n",
    "print('Best subset:', efs1.best_idx_)"
   ]
  },
  {
   "cell_type": "markdown",
   "metadata": {},
   "source": [
    "**(c)** Is there much difference in R2a,p for the three best subset models? (5pts)\n",
    "\n",
    "**Solution:**\n",
    "\n",
    "`lm_lung_3b5`, `lm_lung_3b6` and `lm_lung_3b7` have an adjusted $R^2$ of 0.7228, 0.7418, 0.7507 respectively. Thus, they have more or less the same adjusted $R^2$."
   ]
  },
  {
   "cell_type": "markdown",
   "metadata": {},
   "source": [
    "**(d)** Calculate the PRESS statistic and compare it to SSE. What does this comparison suggest about the validity of MSE as an indicator of the predictive ability of the fitted model? (5pts)\n",
    "\n",
    "**Solution:**\n",
    "\n",
    "See links above"
   ]
  },
  {
   "cell_type": "code",
   "execution_count": 37,
   "metadata": {},
   "outputs": [
    {
     "data": {
      "text/plain": [
       "5102.494352597143"
      ]
     },
     "metadata": {},
     "output_type": "display_data"
    },
    {
     "data": {
      "text/plain": [
       "0      599.857733\n",
       "1       20.601552\n",
       "2      100.221227\n",
       "3       46.774087\n",
       "4       38.220776\n",
       "5       61.692510\n",
       "6      944.435484\n",
       "7     2546.462424\n",
       "8       16.840056\n",
       "9      180.637066\n",
       "10      66.682554\n",
       "11       2.112831\n",
       "12     239.401767\n",
       "13      61.292429\n",
       "14       7.630673\n",
       "15      21.079224\n",
       "16      68.120022\n",
       "17       0.457655\n",
       "18      79.974284\n",
       "dtype: float64"
      ]
     },
     "metadata": {},
     "output_type": "display_data"
    }
   ],
   "source": [
    "display(OLSInfluence(lm_lung_3b7).ess_press)\n",
    "\n",
    "residuals_press_squared = OLSInfluence(lm_lung_3b7).resid_press**2\n",
    "display(residuals_press_squared)"
   ]
  },
  {
   "cell_type": "code",
   "execution_count": 38,
   "metadata": {},
   "outputs": [
    {
     "data": {
      "text/plain": [
       "<matplotlib.collections.PathCollection at 0x7fc4e8164310>"
      ]
     },
     "execution_count": 38,
     "metadata": {},
     "output_type": "execute_result"
    },
    {
     "data": {
      "image/png": "[encoded data removed]",
      "text/plain": [
       "<Figure size 432x288 with 1 Axes>"
      ]
     },
     "metadata": {
      "needs_background": "light"
     },
     "output_type": "display_data"
    }
   ],
   "source": [
    "plt.scatter(range(len(residuals_press_squared)),residuals_press_squared)"
   ]
  },
  {
   "cell_type": "code",
   "execution_count": 39,
   "metadata": {},
   "outputs": [
    {
     "data": {
      "text/html": [
       "<div>\n",
       "<style scoped>\n",
       "    .dataframe tbody tr th:only-of-type {\n",
       "        vertical-align: middle;\n",
       "    }\n",
       "\n",
       "    .dataframe tbody tr th {\n",
       "        vertical-align: top;\n",
       "    }\n",
       "\n",
       "    .dataframe thead th {\n",
       "        text-align: right;\n",
       "    }\n",
       "</style>\n",
       "<table border=\"1\" class=\"dataframe\">\n",
       "  <thead>\n",
       "    <tr style=\"text-align: right;\">\n",
       "      <th></th>\n",
       "      <th>df</th>\n",
       "      <th>sum_sq</th>\n",
       "      <th>mean_sq</th>\n",
       "      <th>F</th>\n",
       "      <th>PR(&gt;F)</th>\n",
       "    </tr>\n",
       "  </thead>\n",
       "  <tbody>\n",
       "    <tr>\n",
       "      <th>x1</th>\n",
       "      <td>1.0</td>\n",
       "      <td>3577.085399</td>\n",
       "      <td>3577.085399</td>\n",
       "      <td>31.929429</td>\n",
       "      <td>0.000046</td>\n",
       "    </tr>\n",
       "    <tr>\n",
       "      <th>x2</th>\n",
       "      <td>1.0</td>\n",
       "      <td>1384.378861</td>\n",
       "      <td>1384.378861</td>\n",
       "      <td>12.357107</td>\n",
       "      <td>0.003124</td>\n",
       "    </tr>\n",
       "    <tr>\n",
       "      <th>x1x2</th>\n",
       "      <td>1.0</td>\n",
       "      <td>1445.755148</td>\n",
       "      <td>1445.755148</td>\n",
       "      <td>12.904958</td>\n",
       "      <td>0.002667</td>\n",
       "    </tr>\n",
       "    <tr>\n",
       "      <th>Residual</th>\n",
       "      <td>15.0</td>\n",
       "      <td>1680.464802</td>\n",
       "      <td>112.030987</td>\n",
       "      <td>NaN</td>\n",
       "      <td>NaN</td>\n",
       "    </tr>\n",
       "  </tbody>\n",
       "</table>\n",
       "</div>"
      ],
      "text/plain": [
       "            df       sum_sq      mean_sq          F    PR(>F)\n",
       "x1         1.0  3577.085399  3577.085399  31.929429  0.000046\n",
       "x2         1.0  1384.378861  1384.378861  12.357107  0.003124\n",
       "x1x2       1.0  1445.755148  1445.755148  12.904958  0.002667\n",
       "Residual  15.0  1680.464802   112.030987        NaN       NaN"
      ]
     },
     "execution_count": 39,
     "metadata": {},
     "output_type": "execute_result"
    }
   ],
   "source": [
    "anova_lm(lm_lung_3b7)"
   ]
  },
  {
   "cell_type": "markdown",
   "metadata": {},
   "source": [
    "SSE is 1680.5 for the best model chosen above and the PRESS stat is 5102.5. This means that there are a few observations in the data set are significantly driving the model's coefficients."
   ]
  },
  {
   "cell_type": "markdown",
   "metadata": {},
   "source": [
    "**(e)** Case 8 alone accounts for approximately one-half of the entire PRESS statistic. Would you recommend modification of the model because of the strong impact of this case? What are some corrective action options that would lessen the effect of case 8? (5pts)\n",
    "\n",
    "**Solution:**\n",
    "\n",
    "- PRESS statistic for case 8 is $\\approx$ 2500. This clearly indicates that case 8 is an outlier. \n",
    "- Thus, case 8 should be taken out from the model building data set and the same model can be refitted.\n"
   ]
  },
  {
   "cell_type": "code",
   "execution_count": 40,
   "metadata": {},
   "outputs": [
    {
     "data": {
      "text/plain": [
       "array([False, False, False, False, False, False, False,  True, False,\n",
       "       False, False, False, False, False, False, False, False, False,\n",
       "       False])"
      ]
     },
     "execution_count": 40,
     "metadata": {},
     "output_type": "execute_result"
    }
   ],
   "source": [
    "exc_ind = df_3.index.isin([7])\n",
    "exc_ind"
   ]
  },
  {
   "cell_type": "code",
   "execution_count": 41,
   "metadata": {},
   "outputs": [
    {
     "name": "stderr",
     "output_type": "stream",
     "text": [
      "/home/srk-apts/anaconda3/lib/python3.7/site-packages/scipy/stats/stats.py:1450: UserWarning: kurtosistest only valid for n>=20 ... continuing anyway, n=18\n",
      "  \"anyway, n=%i\" % int(n))\n"
     ]
    },
    {
     "data": {
      "text/html": [
       "<table class=\"simpletable\">\n",
       "<tr>\n",
       "        <td>Model:</td>               <td>OLS</td>         <td>Adj. R-squared:</td>     <td>0.786</td> \n",
       "</tr>\n",
       "<tr>\n",
       "  <td>Dependent Variable:</td>         <td>Y</td>               <td>AIC:</td>         <td>137.0679</td>\n",
       "</tr>\n",
       "<tr>\n",
       "         <td>Date:</td>        <td>2019-11-20 20:19</td>        <td>BIC:</td>         <td>140.6294</td>\n",
       "</tr>\n",
       "<tr>\n",
       "   <td>No. Observations:</td>         <td>18</td>          <td>Log-Likelihood:</td>    <td>-64.534</td>\n",
       "</tr>\n",
       "<tr>\n",
       "       <td>Df Model:</td>              <td>3</td>           <td>F-statistic:</td>       <td>21.80</td> \n",
       "</tr>\n",
       "<tr>\n",
       "     <td>Df Residuals:</td>           <td>14</td>        <td>Prob (F-statistic):</td> <td>1.53e-05</td>\n",
       "</tr>\n",
       "<tr>\n",
       "      <td>R-squared:</td>            <td>0.824</td>            <td>Scale:</td>         <td>97.893</td> \n",
       "</tr>\n",
       "</table>\n",
       "<table class=\"simpletable\">\n",
       "<tr>\n",
       "      <td></td>        <th>Coef.</th>  <th>Std.Err.</th>    <th>t</th>     <th>P>|t|</th>  <th>[0.025</th>  <th>0.975]</th> \n",
       "</tr>\n",
       "<tr>\n",
       "  <th>Intercept</th>  <td>35.9485</td>  <td>2.8804</td>  <td>12.4803</td> <td>0.0000</td>  <td>29.7706</td> <td>42.1263</td>\n",
       "</tr>\n",
       "<tr>\n",
       "  <th>x1</th>         <td>-0.0726</td>  <td>5.0582</td>  <td>-0.0143</td> <td>0.9888</td> <td>-10.9214</td> <td>10.7763</td>\n",
       "</tr>\n",
       "<tr>\n",
       "  <th>x2</th>        <td>-16.8459</td>  <td>3.5311</td>  <td>-4.7708</td> <td>0.0003</td> <td>-24.4192</td> <td>-9.2725</td>\n",
       "</tr>\n",
       "<tr>\n",
       "  <th>x1x2</th>       <td>15.2724</td>  <td>4.4988</td>  <td>3.3947</td>  <td>0.0044</td>  <td>5.6234</td>  <td>24.9215</td>\n",
       "</tr>\n",
       "</table>\n",
       "<table class=\"simpletable\">\n",
       "<tr>\n",
       "     <td>Omnibus:</td>    <td>8.305</td>  <td>Durbin-Watson:</td>   <td>1.913</td>\n",
       "</tr>\n",
       "<tr>\n",
       "  <td>Prob(Omnibus):</td> <td>0.016</td> <td>Jarque-Bera (JB):</td> <td>5.328</td>\n",
       "</tr>\n",
       "<tr>\n",
       "       <td>Skew:</td>     <td>1.083</td>     <td>Prob(JB):</td>     <td>0.070</td>\n",
       "</tr>\n",
       "<tr>\n",
       "     <td>Kurtosis:</td>   <td>4.552</td>  <td>Condition No.:</td>     <td>4</td>  \n",
       "</tr>\n",
       "</table>"
      ],
      "text/plain": [
       "<class 'statsmodels.iolib.summary2.Summary'>\n",
       "\"\"\"\n",
       "                 Results: Ordinary least squares\n",
       "=================================================================\n",
       "Model:              OLS              Adj. R-squared:     0.786   \n",
       "Dependent Variable: Y                AIC:                137.0679\n",
       "Date:               2019-11-20 20:19 BIC:                140.6294\n",
       "No. Observations:   18               Log-Likelihood:     -64.534 \n",
       "Df Model:           3                F-statistic:        21.80   \n",
       "Df Residuals:       14               Prob (F-statistic): 1.53e-05\n",
       "R-squared:          0.824            Scale:              97.893  \n",
       "------------------------------------------------------------------\n",
       "             Coef.    Std.Err.     t     P>|t|    [0.025    0.975]\n",
       "------------------------------------------------------------------\n",
       "Intercept    35.9485    2.8804  12.4803  0.0000   29.7706  42.1263\n",
       "x1           -0.0726    5.0582  -0.0143  0.9888  -10.9214  10.7763\n",
       "x2          -16.8459    3.5311  -4.7708  0.0003  -24.4192  -9.2725\n",
       "x1x2         15.2724    4.4988   3.3947  0.0044    5.6234  24.9215\n",
       "-----------------------------------------------------------------\n",
       "Omnibus:              8.305        Durbin-Watson:           1.913\n",
       "Prob(Omnibus):        0.016        Jarque-Bera (JB):        5.328\n",
       "Skew:                 1.083        Prob(JB):                0.070\n",
       "Kurtosis:             4.552        Condition No.:           4    \n",
       "=================================================================\n",
       "\n",
       "\"\"\""
      ]
     },
     "execution_count": 41,
     "metadata": {},
     "output_type": "execute_result"
    }
   ],
   "source": [
    "ols(\"Y ~ x1 + x2 + x1x2\", data=df_3[~exc_ind]).fit().summary2()"
   ]
  },
  {
   "cell_type": "markdown",
   "metadata": {},
   "source": [
    "We can see a significant improvement in Adjusted $R^2$."
   ]
  },
  {
   "cell_type": "markdown",
   "metadata": {},
   "source": [
    "**Question 4** Refer to the Website developer data set. Management is interested in determining what variables have the greatest impact on production output in the release of new customer websites. Data on 13 three-person website developed teams consisting of a project manager, a designer. and a developer are provided in the data set. Production data from January 2001 through August 2002 include four potential predictors; (1) the change in the website development process. (2) the size of the backlog of orders, (3) the team effect, and (4) the number of months experience of each team. (10 pts)\n",
    "\n",
    "**(a)** Develop a best subset model for predicting production output. Justify your choice of model. Assess your model's ability to predict and discuss its use as a tool for management decisions. (10 pts)\n",
    "\n",
    "**Solution:**"
   ]
  },
  {
   "cell_type": "code",
   "execution_count": 42,
   "metadata": {},
   "outputs": [],
   "source": [
    "website_data = pd.read_csv(\"data/Website Developer.csv\")\n",
    "mapper = {\"Process change\": \"process_change\",\n",
    "          \"Team number\": \"team_number\",\n",
    "          \"Websites delivered\": \"websites_delivered\",\n",
    "          \"Backlog of orders\": \"backlog\",\n",
    "          \"Team experience\": \"team_experience\",\n",
    "          \"Year\": \"year\"         \n",
    "         }\n",
    "\n",
    "website_data = website_data.rename(columns=mapper)"
   ]
  },
  {
   "cell_type": "code",
   "execution_count": 43,
   "metadata": {},
   "outputs": [
    {
     "data": {
      "text/html": [
       "<div>\n",
       "<style scoped>\n",
       "    .dataframe tbody tr th:only-of-type {\n",
       "        vertical-align: middle;\n",
       "    }\n",
       "\n",
       "    .dataframe tbody tr th {\n",
       "        vertical-align: top;\n",
       "    }\n",
       "\n",
       "    .dataframe thead th {\n",
       "        text-align: right;\n",
       "    }\n",
       "</style>\n",
       "<table border=\"1\" class=\"dataframe\">\n",
       "  <thead>\n",
       "    <tr style=\"text-align: right;\">\n",
       "      <th></th>\n",
       "      <th>websites_delivered</th>\n",
       "      <th>backlog</th>\n",
       "      <th>team_experience</th>\n",
       "      <th>year</th>\n",
       "      <th>Quarter</th>\n",
       "    </tr>\n",
       "  </thead>\n",
       "  <tbody>\n",
       "    <tr>\n",
       "      <th>count</th>\n",
       "      <td>73.000000</td>\n",
       "      <td>73.000000</td>\n",
       "      <td>73.000000</td>\n",
       "      <td>73.000000</td>\n",
       "      <td>73.000000</td>\n",
       "    </tr>\n",
       "    <tr>\n",
       "      <th>mean</th>\n",
       "      <td>9.041096</td>\n",
       "      <td>27.821918</td>\n",
       "      <td>10.849315</td>\n",
       "      <td>2001.520548</td>\n",
       "      <td>2.342466</td>\n",
       "    </tr>\n",
       "    <tr>\n",
       "      <th>std</th>\n",
       "      <td>7.083703</td>\n",
       "      <td>7.976254</td>\n",
       "      <td>5.663409</td>\n",
       "      <td>0.503035</td>\n",
       "      <td>1.030361</td>\n",
       "    </tr>\n",
       "    <tr>\n",
       "      <th>min</th>\n",
       "      <td>0.000000</td>\n",
       "      <td>3.000000</td>\n",
       "      <td>2.000000</td>\n",
       "      <td>2001.000000</td>\n",
       "      <td>1.000000</td>\n",
       "    </tr>\n",
       "    <tr>\n",
       "      <th>25%</th>\n",
       "      <td>3.000000</td>\n",
       "      <td>23.000000</td>\n",
       "      <td>6.000000</td>\n",
       "      <td>2001.000000</td>\n",
       "      <td>1.000000</td>\n",
       "    </tr>\n",
       "    <tr>\n",
       "      <th>50%</th>\n",
       "      <td>7.000000</td>\n",
       "      <td>28.000000</td>\n",
       "      <td>11.000000</td>\n",
       "      <td>2002.000000</td>\n",
       "      <td>2.000000</td>\n",
       "    </tr>\n",
       "    <tr>\n",
       "      <th>75%</th>\n",
       "      <td>13.000000</td>\n",
       "      <td>34.000000</td>\n",
       "      <td>15.000000</td>\n",
       "      <td>2002.000000</td>\n",
       "      <td>3.000000</td>\n",
       "    </tr>\n",
       "    <tr>\n",
       "      <th>max</th>\n",
       "      <td>30.000000</td>\n",
       "      <td>45.000000</td>\n",
       "      <td>21.000000</td>\n",
       "      <td>2002.000000</td>\n",
       "      <td>4.000000</td>\n",
       "    </tr>\n",
       "  </tbody>\n",
       "</table>\n",
       "</div>"
      ],
      "text/plain": [
       "       websites_delivered    backlog  team_experience         year    Quarter\n",
       "count           73.000000  73.000000        73.000000    73.000000  73.000000\n",
       "mean             9.041096  27.821918        10.849315  2001.520548   2.342466\n",
       "std              7.083703   7.976254         5.663409     0.503035   1.030361\n",
       "min              0.000000   3.000000         2.000000  2001.000000   1.000000\n",
       "25%              3.000000  23.000000         6.000000  2001.000000   1.000000\n",
       "50%              7.000000  28.000000        11.000000  2002.000000   2.000000\n",
       "75%             13.000000  34.000000        15.000000  2002.000000   3.000000\n",
       "max             30.000000  45.000000        21.000000  2002.000000   4.000000"
      ]
     },
     "execution_count": 43,
     "metadata": {},
     "output_type": "execute_result"
    }
   ],
   "source": [
    "website_data[\"process_change\"] = website_data[\"process_change\"].astype(\"category\")\n",
    "website_data[\"team_number\"] = website_data[\"team_number\"].astype(\"category\")\n",
    "website_data.describe()"
   ]
  },
  {
   "cell_type": "code",
   "execution_count": 44,
   "metadata": {},
   "outputs": [],
   "source": [
    "features = [\"process_change\",\"backlog\",\"team_experience\", \"team_number\"]\n",
    "X = website_data[features]\n",
    "y = website_data[\"websites_delivered\"]"
   ]
  },
  {
   "cell_type": "code",
   "execution_count": 45,
   "metadata": {},
   "outputs": [
    {
     "name": "stdout",
     "output_type": "stream",
     "text": [
      "Processed 4 models on 1 predictors in 0.0569462776184082 seconds.\n",
      "Processed 6 models on 2 predictors in 0.04778623580932617 seconds.\n",
      "Processed 4 models on 3 predictors in 0.03339886665344238 seconds.\n",
      "Processed 1 models on 4 predictors in 0.010348081588745117 seconds.\n"
     ]
    },
    {
     "name": "stderr",
     "output_type": "stream",
     "text": [
      "/home/srk-apts/anaconda3/lib/python3.7/site-packages/numpy/core/fromnumeric.py:2389: FutureWarning: Method .ptp is deprecated and will be removed in a future version. Use numpy.ptp instead.\n",
      "  return ptp(axis=axis, out=out, **kwargs)\n",
      "/home/srk-apts/anaconda3/lib/python3.7/site-packages/numpy/core/fromnumeric.py:2389: FutureWarning: Method .ptp is deprecated and will be removed in a future version. Use numpy.ptp instead.\n",
      "  return ptp(axis=axis, out=out, **kwargs)\n",
      "/home/srk-apts/anaconda3/lib/python3.7/site-packages/numpy/core/fromnumeric.py:2389: FutureWarning: Method .ptp is deprecated and will be removed in a future version. Use numpy.ptp instead.\n",
      "  return ptp(axis=axis, out=out, **kwargs)\n",
      "/home/srk-apts/anaconda3/lib/python3.7/site-packages/numpy/core/fromnumeric.py:2389: FutureWarning: Method .ptp is deprecated and will be removed in a future version. Use numpy.ptp instead.\n",
      "  return ptp(axis=axis, out=out, **kwargs)\n",
      "/home/srk-apts/anaconda3/lib/python3.7/site-packages/numpy/core/fromnumeric.py:2389: FutureWarning: Method .ptp is deprecated and will be removed in a future version. Use numpy.ptp instead.\n",
      "  return ptp(axis=axis, out=out, **kwargs)\n",
      "/home/srk-apts/anaconda3/lib/python3.7/site-packages/numpy/core/fromnumeric.py:2389: FutureWarning: Method .ptp is deprecated and will be removed in a future version. Use numpy.ptp instead.\n",
      "  return ptp(axis=axis, out=out, **kwargs)\n",
      "/home/srk-apts/anaconda3/lib/python3.7/site-packages/numpy/core/fromnumeric.py:2389: FutureWarning: Method .ptp is deprecated and will be removed in a future version. Use numpy.ptp instead.\n",
      "  return ptp(axis=axis, out=out, **kwargs)\n",
      "/home/srk-apts/anaconda3/lib/python3.7/site-packages/numpy/core/fromnumeric.py:2389: FutureWarning: Method .ptp is deprecated and will be removed in a future version. Use numpy.ptp instead.\n",
      "  return ptp(axis=axis, out=out, **kwargs)\n",
      "/home/srk-apts/anaconda3/lib/python3.7/site-packages/numpy/core/fromnumeric.py:2389: FutureWarning: Method .ptp is deprecated and will be removed in a future version. Use numpy.ptp instead.\n",
      "  return ptp(axis=axis, out=out, **kwargs)\n",
      "/home/srk-apts/anaconda3/lib/python3.7/site-packages/numpy/core/fromnumeric.py:2389: FutureWarning: Method .ptp is deprecated and will be removed in a future version. Use numpy.ptp instead.\n",
      "  return ptp(axis=axis, out=out, **kwargs)\n",
      "/home/srk-apts/anaconda3/lib/python3.7/site-packages/numpy/core/fromnumeric.py:2389: FutureWarning: Method .ptp is deprecated and will be removed in a future version. Use numpy.ptp instead.\n",
      "  return ptp(axis=axis, out=out, **kwargs)\n",
      "/home/srk-apts/anaconda3/lib/python3.7/site-packages/numpy/core/fromnumeric.py:2389: FutureWarning: Method .ptp is deprecated and will be removed in a future version. Use numpy.ptp instead.\n",
      "  return ptp(axis=axis, out=out, **kwargs)\n",
      "/home/srk-apts/anaconda3/lib/python3.7/site-packages/numpy/core/fromnumeric.py:2389: FutureWarning: Method .ptp is deprecated and will be removed in a future version. Use numpy.ptp instead.\n",
      "  return ptp(axis=axis, out=out, **kwargs)\n",
      "/home/srk-apts/anaconda3/lib/python3.7/site-packages/numpy/core/fromnumeric.py:2389: FutureWarning: Method .ptp is deprecated and will be removed in a future version. Use numpy.ptp instead.\n",
      "  return ptp(axis=axis, out=out, **kwargs)\n",
      "/home/srk-apts/anaconda3/lib/python3.7/site-packages/numpy/core/fromnumeric.py:2389: FutureWarning: Method .ptp is deprecated and will be removed in a future version. Use numpy.ptp instead.\n",
      "  return ptp(axis=axis, out=out, **kwargs)\n",
      "/home/srk-apts/anaconda3/lib/python3.7/site-packages/ipykernel_launcher.py:26: FutureWarning: \n",
      "The current behaviour of 'Series.argmin' is deprecated, use 'idxmin'\n",
      "instead.\n",
      "The behavior of 'argmin' will be corrected to return the positional\n",
      "minimum in the future. For now, use 'series.values.argmin' or\n",
      "'np.argmin(np.array(values))' to get the position of the minimum\n",
      "row.\n",
      "/home/srk-apts/anaconda3/lib/python3.7/site-packages/numpy/core/fromnumeric.py:2389: FutureWarning: Method .ptp is deprecated and will be removed in a future version. Use numpy.ptp instead.\n",
      "  return ptp(axis=axis, out=out, **kwargs)\n",
      "/home/srk-apts/anaconda3/lib/python3.7/site-packages/numpy/core/fromnumeric.py:2389: FutureWarning: Method .ptp is deprecated and will be removed in a future version. Use numpy.ptp instead.\n",
      "  return ptp(axis=axis, out=out, **kwargs)\n",
      "/home/srk-apts/anaconda3/lib/python3.7/site-packages/numpy/core/fromnumeric.py:2389: FutureWarning: Method .ptp is deprecated and will be removed in a future version. Use numpy.ptp instead.\n",
      "  return ptp(axis=axis, out=out, **kwargs)\n",
      "/home/srk-apts/anaconda3/lib/python3.7/site-packages/numpy/core/fromnumeric.py:2389: FutureWarning: Method .ptp is deprecated and will be removed in a future version. Use numpy.ptp instead.\n",
      "  return ptp(axis=axis, out=out, **kwargs)\n",
      "/home/srk-apts/anaconda3/lib/python3.7/site-packages/numpy/core/fromnumeric.py:2389: FutureWarning: Method .ptp is deprecated and will be removed in a future version. Use numpy.ptp instead.\n",
      "  return ptp(axis=axis, out=out, **kwargs)\n",
      "/home/srk-apts/anaconda3/lib/python3.7/site-packages/numpy/core/fromnumeric.py:2389: FutureWarning: Method .ptp is deprecated and will be removed in a future version. Use numpy.ptp instead.\n",
      "  return ptp(axis=axis, out=out, **kwargs)\n",
      "/home/srk-apts/anaconda3/lib/python3.7/site-packages/numpy/core/fromnumeric.py:2389: FutureWarning: Method .ptp is deprecated and will be removed in a future version. Use numpy.ptp instead.\n",
      "  return ptp(axis=axis, out=out, **kwargs)\n",
      "/home/srk-apts/anaconda3/lib/python3.7/site-packages/numpy/core/fromnumeric.py:2389: FutureWarning: Method .ptp is deprecated and will be removed in a future version. Use numpy.ptp instead.\n",
      "  return ptp(axis=axis, out=out, **kwargs)\n",
      "/home/srk-apts/anaconda3/lib/python3.7/site-packages/numpy/core/fromnumeric.py:2389: FutureWarning: Method .ptp is deprecated and will be removed in a future version. Use numpy.ptp instead.\n",
      "  return ptp(axis=axis, out=out, **kwargs)\n",
      "/home/srk-apts/anaconda3/lib/python3.7/site-packages/numpy/core/fromnumeric.py:2389: FutureWarning: Method .ptp is deprecated and will be removed in a future version. Use numpy.ptp instead.\n",
      "  return ptp(axis=axis, out=out, **kwargs)\n",
      "/home/srk-apts/anaconda3/lib/python3.7/site-packages/numpy/core/fromnumeric.py:2389: FutureWarning: Method .ptp is deprecated and will be removed in a future version. Use numpy.ptp instead.\n",
      "  return ptp(axis=axis, out=out, **kwargs)\n",
      "/home/srk-apts/anaconda3/lib/python3.7/site-packages/numpy/core/fromnumeric.py:2389: FutureWarning: Method .ptp is deprecated and will be removed in a future version. Use numpy.ptp instead.\n",
      "  return ptp(axis=axis, out=out, **kwargs)\n",
      "/home/srk-apts/anaconda3/lib/python3.7/site-packages/numpy/core/fromnumeric.py:2389: FutureWarning: Method .ptp is deprecated and will be removed in a future version. Use numpy.ptp instead.\n",
      "  return ptp(axis=axis, out=out, **kwargs)\n",
      "/home/srk-apts/anaconda3/lib/python3.7/site-packages/numpy/core/fromnumeric.py:2389: FutureWarning: Method .ptp is deprecated and will be removed in a future version. Use numpy.ptp instead.\n",
      "  return ptp(axis=axis, out=out, **kwargs)\n",
      "/home/srk-apts/anaconda3/lib/python3.7/site-packages/numpy/core/fromnumeric.py:2389: FutureWarning: Method .ptp is deprecated and will be removed in a future version. Use numpy.ptp instead.\n",
      "  return ptp(axis=axis, out=out, **kwargs)\n",
      "/home/srk-apts/anaconda3/lib/python3.7/site-packages/ipykernel_launcher.py:26: FutureWarning: \n",
      "The current behaviour of 'Series.argmin' is deprecated, use 'idxmin'\n",
      "instead.\n",
      "The behavior of 'argmin' will be corrected to return the positional\n",
      "minimum in the future. For now, use 'series.values.argmin' or\n",
      "'np.argmin(np.array(values))' to get the position of the minimum\n",
      "row.\n"
     ]
    },
    {
     "data": {
      "text/html": [
       "<div>\n",
       "<style scoped>\n",
       "    .dataframe tbody tr th:only-of-type {\n",
       "        vertical-align: middle;\n",
       "    }\n",
       "\n",
       "    .dataframe tbody tr th {\n",
       "        vertical-align: top;\n",
       "    }\n",
       "\n",
       "    .dataframe thead th {\n",
       "        text-align: right;\n",
       "    }\n",
       "</style>\n",
       "<table border=\"1\" class=\"dataframe\">\n",
       "  <thead>\n",
       "    <tr style=\"text-align: right;\">\n",
       "      <th></th>\n",
       "      <th>RSS</th>\n",
       "      <th>model</th>\n",
       "    </tr>\n",
       "  </thead>\n",
       "  <tbody>\n",
       "    <tr>\n",
       "      <th>1</th>\n",
       "      <td>1908.078560</td>\n",
       "      <td>&lt;statsmodels.regression.linear_model.Regressio...</td>\n",
       "    </tr>\n",
       "    <tr>\n",
       "      <th>2</th>\n",
       "      <td>1441.331483</td>\n",
       "      <td>&lt;statsmodels.regression.linear_model.Regressio...</td>\n",
       "    </tr>\n",
       "    <tr>\n",
       "      <th>3</th>\n",
       "      <td>1391.209137</td>\n",
       "      <td>&lt;statsmodels.regression.linear_model.Regressio...</td>\n",
       "    </tr>\n",
       "    <tr>\n",
       "      <th>4</th>\n",
       "      <td>1383.256297</td>\n",
       "      <td>&lt;statsmodels.regression.linear_model.Regressio...</td>\n",
       "    </tr>\n",
       "  </tbody>\n",
       "</table>\n",
       "</div>"
      ],
      "text/plain": [
       "           RSS                                              model\n",
       "1  1908.078560  <statsmodels.regression.linear_model.Regressio...\n",
       "2  1441.331483  <statsmodels.regression.linear_model.Regressio...\n",
       "3  1391.209137  <statsmodels.regression.linear_model.Regressio...\n",
       "4  1383.256297  <statsmodels.regression.linear_model.Regressio..."
      ]
     },
     "execution_count": 45,
     "metadata": {},
     "output_type": "execute_result"
    }
   ],
   "source": [
    "models_best = best_subset_models(X=X, y=y)\n",
    "models_best"
   ]
  },
  {
   "cell_type": "code",
   "execution_count": 52,
   "metadata": {},
   "outputs": [
    {
     "name": "stderr",
     "output_type": "stream",
     "text": [
      "/home/srk-apts/anaconda3/lib/python3.7/site-packages/ipykernel_launcher.py:22: FutureWarning: \n",
      "The current behaviour of 'Series.argmax' is deprecated, use 'idxmax'\n",
      "instead.\n",
      "The behavior of 'argmax' will be corrected to return the positional\n",
      "maximum in the future. For now, use 'series.values.argmax' or\n",
      "'np.argmax(np.array(values))' to get the position of the maximum\n",
      "row.\n",
      "/home/srk-apts/anaconda3/lib/python3.7/site-packages/ipykernel_launcher.py:33: FutureWarning: \n",
      "The current behaviour of 'Series.argmin' is deprecated, use 'idxmin'\n",
      "instead.\n",
      "The behavior of 'argmin' will be corrected to return the positional\n",
      "minimum in the future. For now, use 'series.values.argmin' or\n",
      "'np.argmin(np.array(values))' to get the position of the minimum\n",
      "row.\n",
      "/home/srk-apts/anaconda3/lib/python3.7/site-packages/ipykernel_launcher.py:42: FutureWarning: \n",
      "The current behaviour of 'Series.argmin' is deprecated, use 'idxmin'\n",
      "instead.\n",
      "The behavior of 'argmin' will be corrected to return the positional\n",
      "minimum in the future. For now, use 'series.values.argmin' or\n",
      "'np.argmin(np.array(values))' to get the position of the minimum\n",
      "row.\n",
      "/home/srk-apts/anaconda3/lib/python3.7/site-packages/ipykernel_launcher.py:60: FutureWarning: \n",
      "The current behaviour of 'Series.argmax' is deprecated, use 'idxmax'\n",
      "instead.\n",
      "The behavior of 'argmax' will be corrected to return the positional\n",
      "maximum in the future. For now, use 'series.values.argmax' or\n",
      "'np.argmax(np.array(values))' to get the position of the maximum\n",
      "row.\n"
     ]
    },
    {
     "data": {
      "image/png": "[encoded data removed]",
      "text/plain": [
       "<Figure size 1440x1080 with 5 Axes>"
      ]
     },
     "metadata": {
      "needs_background": "light"
     },
     "output_type": "display_data"
    }
   ],
   "source": [
    "plot_model_stats(models_best)"
   ]
  },
  {
   "cell_type": "markdown",
   "metadata": {},
   "source": [
    "*Interpretation*\n",
    "\n",
    "We can see above that all the model selection criteria point us to model #2 - looking at the plots, they all have the \"elbow\" at model #2."
   ]
  },
  {
   "cell_type": "code",
   "execution_count": 53,
   "metadata": {},
   "outputs": [
    {
     "data": {
      "text/html": [
       "<table class=\"simpletable\">\n",
       "<caption>OLS Regression Results</caption>\n",
       "<tr>\n",
       "  <th>Dep. Variable:</th>    <td>websites_delivered</td> <th>  R-squared:         </th> <td>   0.601</td>\n",
       "</tr>\n",
       "<tr>\n",
       "  <th>Model:</th>                    <td>OLS</td>        <th>  Adj. R-squared:    </th> <td>   0.513</td>\n",
       "</tr>\n",
       "<tr>\n",
       "  <th>Method:</th>              <td>Least Squares</td>   <th>  F-statistic:       </th> <td>   6.838</td>\n",
       "</tr>\n",
       "<tr>\n",
       "  <th>Date:</th>              <td>Wed, 20 Nov 2019</td>  <th>  Prob (F-statistic):</th> <td>8.64e-08</td>\n",
       "</tr>\n",
       "<tr>\n",
       "  <th>Time:</th>                  <td>20:20:03</td>      <th>  Log-Likelihood:    </th> <td> -212.46</td>\n",
       "</tr>\n",
       "<tr>\n",
       "  <th>No. Observations:</th>       <td>    73</td>       <th>  AIC:               </th> <td>   452.9</td>\n",
       "</tr>\n",
       "<tr>\n",
       "  <th>Df Residuals:</th>           <td>    59</td>       <th>  BIC:               </th> <td>   485.0</td>\n",
       "</tr>\n",
       "<tr>\n",
       "  <th>Df Model:</th>               <td>    13</td>       <th>                     </th>     <td> </td>   \n",
       "</tr>\n",
       "<tr>\n",
       "  <th>Covariance Type:</th>       <td>nonrobust</td>     <th>                     </th>     <td> </td>   \n",
       "</tr>\n",
       "</table>\n",
       "<table class=\"simpletable\">\n",
       "<tr>\n",
       "          <td></td>            <th>coef</th>     <th>std err</th>      <th>t</th>      <th>P>|t|</th>  <th>[0.025</th>    <th>0.975]</th>  \n",
       "</tr>\n",
       "<tr>\n",
       "  <th>const</th>            <td>    6.7989</td> <td>    0.402</td> <td>   16.914</td> <td> 0.000</td> <td>    5.995</td> <td>    7.603</td>\n",
       "</tr>\n",
       "<tr>\n",
       "  <th>process_change_0</th> <td>   -1.4176</td> <td>    0.632</td> <td>   -2.244</td> <td> 0.029</td> <td>   -2.682</td> <td>   -0.153</td>\n",
       "</tr>\n",
       "<tr>\n",
       "  <th>process_change_1</th> <td>    8.2165</td> <td>    0.697</td> <td>   11.794</td> <td> 0.000</td> <td>    6.823</td> <td>    9.610</td>\n",
       "</tr>\n",
       "<tr>\n",
       "  <th>team_number_1</th>    <td>   -3.4197</td> <td>    1.833</td> <td>   -1.865</td> <td> 0.067</td> <td>   -7.088</td> <td>    0.249</td>\n",
       "</tr>\n",
       "<tr>\n",
       "  <th>team_number_2</th>    <td>   -0.7054</td> <td>    1.833</td> <td>   -0.385</td> <td> 0.702</td> <td>   -4.374</td> <td>    2.963</td>\n",
       "</tr>\n",
       "<tr>\n",
       "  <th>team_number_3</th>    <td>   -2.2768</td> <td>    1.833</td> <td>   -1.242</td> <td> 0.219</td> <td>   -5.945</td> <td>    1.392</td>\n",
       "</tr>\n",
       "<tr>\n",
       "  <th>team_number_4</th>    <td>    0.0089</td> <td>    1.833</td> <td>    0.005</td> <td> 0.996</td> <td>   -3.660</td> <td>    3.677</td>\n",
       "</tr>\n",
       "<tr>\n",
       "  <th>team_number_5</th>    <td>    2.2946</td> <td>    1.833</td> <td>    1.252</td> <td> 0.216</td> <td>   -1.374</td> <td>    5.963</td>\n",
       "</tr>\n",
       "<tr>\n",
       "  <th>team_number_6</th>    <td>    0.0089</td> <td>    1.833</td> <td>    0.005</td> <td> 0.996</td> <td>   -3.660</td> <td>    3.677</td>\n",
       "</tr>\n",
       "<tr>\n",
       "  <th>team_number_7</th>    <td>    5.0516</td> <td>    2.362</td> <td>    2.139</td> <td> 0.037</td> <td>    0.326</td> <td>    9.777</td>\n",
       "</tr>\n",
       "<tr>\n",
       "  <th>team_number_8</th>    <td>    5.5516</td> <td>    2.362</td> <td>    2.351</td> <td> 0.022</td> <td>    0.826</td> <td>   10.277</td>\n",
       "</tr>\n",
       "<tr>\n",
       "  <th>team_number_9</th>    <td>    3.2406</td> <td>    1.960</td> <td>    1.654</td> <td> 0.104</td> <td>   -0.681</td> <td>    7.162</td>\n",
       "</tr>\n",
       "<tr>\n",
       "  <th>team_number_10</th>   <td>   -1.8350</td> <td>    2.127</td> <td>   -0.863</td> <td> 0.392</td> <td>   -6.091</td> <td>    2.421</td>\n",
       "</tr>\n",
       "<tr>\n",
       "  <th>team_number_11</th>   <td>    0.5292</td> <td>    2.721</td> <td>    0.195</td> <td> 0.846</td> <td>   -4.915</td> <td>    5.974</td>\n",
       "</tr>\n",
       "<tr>\n",
       "  <th>team_number_12</th>   <td>   -0.5155</td> <td>    3.365</td> <td>   -0.153</td> <td> 0.879</td> <td>   -7.248</td> <td>    6.217</td>\n",
       "</tr>\n",
       "<tr>\n",
       "  <th>team_number_13</th>   <td>   -1.1340</td> <td>    1.833</td> <td>   -0.619</td> <td> 0.539</td> <td>   -4.802</td> <td>    2.535</td>\n",
       "</tr>\n",
       "</table>\n",
       "<table class=\"simpletable\">\n",
       "<tr>\n",
       "  <th>Omnibus:</th>       <td> 2.302</td> <th>  Durbin-Watson:     </th> <td>   2.103</td>\n",
       "</tr>\n",
       "<tr>\n",
       "  <th>Prob(Omnibus):</th> <td> 0.316</td> <th>  Jarque-Bera (JB):  </th> <td>   2.027</td>\n",
       "</tr>\n",
       "<tr>\n",
       "  <th>Skew:</th>          <td> 0.296</td> <th>  Prob(JB):          </th> <td>   0.363</td>\n",
       "</tr>\n",
       "<tr>\n",
       "  <th>Kurtosis:</th>      <td> 2.437</td> <th>  Cond. No.          </th> <td>1.78e+16</td>\n",
       "</tr>\n",
       "</table><br/><br/>Warnings:<br/>[1] Standard Errors assume that the covariance matrix of the errors is correctly specified.<br/>[2] The smallest eigenvalue is 3.8e-31. This might indicate that there are<br/>strong multicollinearity problems or that the design matrix is singular."
      ],
      "text/plain": [
       "<class 'statsmodels.iolib.summary.Summary'>\n",
       "\"\"\"\n",
       "                            OLS Regression Results                            \n",
       "==============================================================================\n",
       "Dep. Variable:     websites_delivered   R-squared:                       0.601\n",
       "Model:                            OLS   Adj. R-squared:                  0.513\n",
       "Method:                 Least Squares   F-statistic:                     6.838\n",
       "Date:                Wed, 20 Nov 2019   Prob (F-statistic):           8.64e-08\n",
       "Time:                        20:20:03   Log-Likelihood:                -212.46\n",
       "No. Observations:                  73   AIC:                             452.9\n",
       "Df Residuals:                      59   BIC:                             485.0\n",
       "Df Model:                          13                                         \n",
       "Covariance Type:            nonrobust                                         \n",
       "====================================================================================\n",
       "                       coef    std err          t      P>|t|      [0.025      0.975]\n",
       "------------------------------------------------------------------------------------\n",
       "const                6.7989      0.402     16.914      0.000       5.995       7.603\n",
       "process_change_0    -1.4176      0.632     -2.244      0.029      -2.682      -0.153\n",
       "process_change_1     8.2165      0.697     11.794      0.000       6.823       9.610\n",
       "team_number_1       -3.4197      1.833     -1.865      0.067      -7.088       0.249\n",
       "team_number_2       -0.7054      1.833     -0.385      0.702      -4.374       2.963\n",
       "team_number_3       -2.2768      1.833     -1.242      0.219      -5.945       1.392\n",
       "team_number_4        0.0089      1.833      0.005      0.996      -3.660       3.677\n",
       "team_number_5        2.2946      1.833      1.252      0.216      -1.374       5.963\n",
       "team_number_6        0.0089      1.833      0.005      0.996      -3.660       3.677\n",
       "team_number_7        5.0516      2.362      2.139      0.037       0.326       9.777\n",
       "team_number_8        5.5516      2.362      2.351      0.022       0.826      10.277\n",
       "team_number_9        3.2406      1.960      1.654      0.104      -0.681       7.162\n",
       "team_number_10      -1.8350      2.127     -0.863      0.392      -6.091       2.421\n",
       "team_number_11       0.5292      2.721      0.195      0.846      -4.915       5.974\n",
       "team_number_12      -0.5155      3.365     -0.153      0.879      -7.248       6.217\n",
       "team_number_13      -1.1340      1.833     -0.619      0.539      -4.802       2.535\n",
       "==============================================================================\n",
       "Omnibus:                        2.302   Durbin-Watson:                   2.103\n",
       "Prob(Omnibus):                  0.316   Jarque-Bera (JB):                2.027\n",
       "Skew:                           0.296   Prob(JB):                        0.363\n",
       "Kurtosis:                       2.437   Cond. No.                     1.78e+16\n",
       "==============================================================================\n",
       "\n",
       "Warnings:\n",
       "[1] Standard Errors assume that the covariance matrix of the errors is correctly specified.\n",
       "[2] The smallest eigenvalue is 3.8e-31. This might indicate that there are\n",
       "strong multicollinearity problems or that the design matrix is singular.\n",
       "\"\"\""
      ]
     },
     "execution_count": 53,
     "metadata": {},
     "output_type": "execute_result"
    }
   ],
   "source": [
    "model_select = models_best.iloc[1,1]\n",
    "model_select.summary()"
   ]
  },
  {
   "cell_type": "code",
   "execution_count": 54,
   "metadata": {},
   "outputs": [],
   "source": [
    "def calc_mspr(model, X, y):\n",
    "    yhat = model.predict(X)\n",
    "    yi = y\n",
    "    MSPR = np.sum((yi-yhat)**2/X.shape[0])\n",
    "    return(MSPR)"
   ]
  },
  {
   "cell_type": "code",
   "execution_count": 55,
   "metadata": {},
   "outputs": [
    {
     "data": {
      "text/plain": [
       "['const',\n",
       " 'process_change_0',\n",
       " 'process_change_1',\n",
       " 'team_number_1',\n",
       " 'team_number_2',\n",
       " 'team_number_3',\n",
       " 'team_number_4',\n",
       " 'team_number_5',\n",
       " 'team_number_6',\n",
       " 'team_number_7',\n",
       " 'team_number_8',\n",
       " 'team_number_9',\n",
       " 'team_number_10',\n",
       " 'team_number_11',\n",
       " 'team_number_12',\n",
       " 'team_number_13']"
      ]
     },
     "execution_count": 55,
     "metadata": {},
     "output_type": "execute_result"
    }
   ],
   "source": [
    "vars_select = list(model_select.params.index)\n",
    "vars_select"
   ]
  },
  {
   "cell_type": "code",
   "execution_count": 56,
   "metadata": {},
   "outputs": [
    {
     "name": "stderr",
     "output_type": "stream",
     "text": [
      "/home/srk-apts/anaconda3/lib/python3.7/site-packages/numpy/core/fromnumeric.py:2389: FutureWarning: Method .ptp is deprecated and will be removed in a future version. Use numpy.ptp instead.\n",
      "  return ptp(axis=axis, out=out, **kwargs)\n"
     ]
    },
    {
     "data": {
      "text/plain": [
       "Index(['const', 'backlog', 'team_experience', 'process_change_0',\n",
       "       'process_change_1', 'team_number_1', 'team_number_2', 'team_number_3',\n",
       "       'team_number_4', 'team_number_5', 'team_number_6', 'team_number_7',\n",
       "       'team_number_8', 'team_number_9', 'team_number_10', 'team_number_11',\n",
       "       'team_number_12', 'team_number_13'],\n",
       "      dtype='object')"
      ]
     },
     "execution_count": 56,
     "metadata": {},
     "output_type": "execute_result"
    }
   ],
   "source": [
    "X_pred = scale_encode(fit_df=X, trans_df=X, scale_num=False)\n",
    "X_pred = sm.add_constant(X_pred)\n",
    "X_pred.columns"
   ]
  },
  {
   "cell_type": "code",
   "execution_count": 57,
   "metadata": {},
   "outputs": [
    {
     "data": {
      "text/plain": [
       "19.74426689685728"
      ]
     },
     "execution_count": 57,
     "metadata": {},
     "output_type": "execute_result"
    }
   ],
   "source": [
    "MSPR = calc_mspr(model=model_select, X=X_pred[vars_select], y=y)\n",
    "MSPR"
   ]
  },
  {
   "cell_type": "markdown",
   "metadata": {},
   "source": [
    "*Interpretation:*\n",
    "\n",
    "60% of the variation in `Websites.delivered` is explained by our model (with variables `Process.change` and `Team.number`). We can also see that the MSE and the MSPR are not significantly different. Thus, the model is certainly not a perfect fit for the give data set. However, it does a good enough job of pointing the management in the right direction as to where it should focus its efforts to drive more efficiency. \n",
    "\n",
    "- First recommendation to the management would be that a change in website development process can significantly improve the production output\n",
    "- Second, teams 5,7, 8, 9 are doing a good job and are surely the high performers (higher $\\beta$'s). While, team number 3 and 10 are laggind behind.\n"
   ]
  },
  {
   "cell_type": "markdown",
   "metadata": {},
   "source": [
    "**Question 5** Refer to the Prostate cancer data set. Serum prostate-specific antigen (PSA) was determined in 97 men with advanced prostate cancer. PSA is a well-established screening test for prostate cancer and the oncologists wanted to examine the correlation between level of PSA and a number of clinical measures for men who were about to undergo radical prostatectomy. The measures are cancer volume, prostate weight, patient age, the amount of benign prostatic hyperplasia, seminal vesicle invasion, capsular penetration, and Gleason score. (15 Pts) \n",
    "\n",
    "**(a)** Select a random sample of 65 observations to use as the model-building data set. Develop a best subset model for predicting PSA. Justify your choice of model. Assess your model's ability to predict and discuss its usefulness to the oncologists. (5pts)\n",
    "\n",
    "**Solution:**"
   ]
  },
  {
   "cell_type": "code",
   "execution_count": 109,
   "metadata": {},
   "outputs": [],
   "source": [
    "prostate_data = pd.read_csv(\"data/Prostate Cancer.csv\")\n",
    "mapper = {\"PSA level\": \"psa_level\",\n",
    "          \"Cancer volume\": \"cancer_volume\",\n",
    "          \"Weight\": \"weight\",\n",
    "          \"Benign prostatic hyperplasia\": \"benign_prostatic_hyperplasia\",\n",
    "          \"Seminal vesicle invasion\": \"seminal_vesicle_invasion\",\n",
    "          \"Age\": \"age\" ,\n",
    "          \"Capsular penetration\": \"capsular_penetration\",\n",
    "          \"Gleason score\": \"gleason_score\"\n",
    "         }\n",
    "\n",
    "\n",
    "prostate_data = prostate_data.rename(columns=mapper)"
   ]
  },
  {
   "cell_type": "code",
   "execution_count": 110,
   "metadata": {},
   "outputs": [
    {
     "data": {
      "text/html": [
       "<div>\n",
       "<style scoped>\n",
       "    .dataframe tbody tr th:only-of-type {\n",
       "        vertical-align: middle;\n",
       "    }\n",
       "\n",
       "    .dataframe tbody tr th {\n",
       "        vertical-align: top;\n",
       "    }\n",
       "\n",
       "    .dataframe thead th {\n",
       "        text-align: right;\n",
       "    }\n",
       "</style>\n",
       "<table border=\"1\" class=\"dataframe\">\n",
       "  <thead>\n",
       "    <tr style=\"text-align: right;\">\n",
       "      <th></th>\n",
       "      <th>psa_level</th>\n",
       "      <th>cancer_volume</th>\n",
       "      <th>weight</th>\n",
       "      <th>age</th>\n",
       "      <th>benign_prostatic_hyperplasia</th>\n",
       "      <th>capsular_penetration</th>\n",
       "    </tr>\n",
       "  </thead>\n",
       "  <tbody>\n",
       "    <tr>\n",
       "      <th>count</th>\n",
       "      <td>97.000000</td>\n",
       "      <td>97.000000</td>\n",
       "      <td>97.000000</td>\n",
       "      <td>97.000000</td>\n",
       "      <td>97.000000</td>\n",
       "      <td>97.000000</td>\n",
       "    </tr>\n",
       "    <tr>\n",
       "      <th>mean</th>\n",
       "      <td>23.730134</td>\n",
       "      <td>6.998682</td>\n",
       "      <td>45.491361</td>\n",
       "      <td>63.865979</td>\n",
       "      <td>2.534725</td>\n",
       "      <td>2.245367</td>\n",
       "    </tr>\n",
       "    <tr>\n",
       "      <th>std</th>\n",
       "      <td>40.782925</td>\n",
       "      <td>7.880869</td>\n",
       "      <td>45.705053</td>\n",
       "      <td>7.445117</td>\n",
       "      <td>3.031176</td>\n",
       "      <td>3.783329</td>\n",
       "    </tr>\n",
       "    <tr>\n",
       "      <th>min</th>\n",
       "      <td>0.651000</td>\n",
       "      <td>0.259200</td>\n",
       "      <td>10.697000</td>\n",
       "      <td>41.000000</td>\n",
       "      <td>0.000000</td>\n",
       "      <td>0.000000</td>\n",
       "    </tr>\n",
       "    <tr>\n",
       "      <th>25%</th>\n",
       "      <td>5.641000</td>\n",
       "      <td>1.665300</td>\n",
       "      <td>29.371000</td>\n",
       "      <td>60.000000</td>\n",
       "      <td>0.000000</td>\n",
       "      <td>0.000000</td>\n",
       "    </tr>\n",
       "    <tr>\n",
       "      <th>50%</th>\n",
       "      <td>13.330000</td>\n",
       "      <td>4.263100</td>\n",
       "      <td>37.338000</td>\n",
       "      <td>65.000000</td>\n",
       "      <td>1.349900</td>\n",
       "      <td>0.449300</td>\n",
       "    </tr>\n",
       "    <tr>\n",
       "      <th>75%</th>\n",
       "      <td>21.328000</td>\n",
       "      <td>8.414900</td>\n",
       "      <td>48.424000</td>\n",
       "      <td>68.000000</td>\n",
       "      <td>4.758800</td>\n",
       "      <td>3.254400</td>\n",
       "    </tr>\n",
       "    <tr>\n",
       "      <th>max</th>\n",
       "      <td>265.072000</td>\n",
       "      <td>45.604200</td>\n",
       "      <td>450.339000</td>\n",
       "      <td>79.000000</td>\n",
       "      <td>10.277900</td>\n",
       "      <td>18.174100</td>\n",
       "    </tr>\n",
       "  </tbody>\n",
       "</table>\n",
       "</div>"
      ],
      "text/plain": [
       "        psa_level  cancer_volume      weight        age  \\\n",
       "count   97.000000      97.000000   97.000000  97.000000   \n",
       "mean    23.730134       6.998682   45.491361  63.865979   \n",
       "std     40.782925       7.880869   45.705053   7.445117   \n",
       "min      0.651000       0.259200   10.697000  41.000000   \n",
       "25%      5.641000       1.665300   29.371000  60.000000   \n",
       "50%     13.330000       4.263100   37.338000  65.000000   \n",
       "75%     21.328000       8.414900   48.424000  68.000000   \n",
       "max    265.072000      45.604200  450.339000  79.000000   \n",
       "\n",
       "       benign_prostatic_hyperplasia  capsular_penetration  \n",
       "count                     97.000000             97.000000  \n",
       "mean                       2.534725              2.245367  \n",
       "std                        3.031176              3.783329  \n",
       "min                        0.000000              0.000000  \n",
       "25%                        0.000000              0.000000  \n",
       "50%                        1.349900              0.449300  \n",
       "75%                        4.758800              3.254400  \n",
       "max                       10.277900             18.174100  "
      ]
     },
     "execution_count": 110,
     "metadata": {},
     "output_type": "execute_result"
    }
   ],
   "source": [
    "prostate_data[\"seminal_vesicle_invasion\"] = prostate_data[\"seminal_vesicle_invasion\"].astype(\"category\")\n",
    "prostate_data[\"gleason_score\"] = prostate_data[\"gleason_score\"].astype(\"category\")\n",
    "prostate_data.describe()"
   ]
  },
  {
   "cell_type": "code",
   "execution_count": 111,
   "metadata": {},
   "outputs": [],
   "source": [
    "random.seed(1234)\n",
    "train_ind = np.random.randint(0, prostate_data.shape[0], 65)\n",
    "test_ind = list(set(range(prostate_data.shape[0]))^set(train_ind))\n",
    "train_df = prostate_data.iloc[train_ind,:]\n",
    "test_df = prostate_data.iloc[test_ind,:]"
   ]
  },
  {
   "cell_type": "code",
   "execution_count": 112,
   "metadata": {},
   "outputs": [
    {
     "data": {
      "text/html": [
       "<div>\n",
       "<style scoped>\n",
       "    .dataframe tbody tr th:only-of-type {\n",
       "        vertical-align: middle;\n",
       "    }\n",
       "\n",
       "    .dataframe tbody tr th {\n",
       "        vertical-align: top;\n",
       "    }\n",
       "\n",
       "    .dataframe thead th {\n",
       "        text-align: right;\n",
       "    }\n",
       "</style>\n",
       "<table border=\"1\" class=\"dataframe\">\n",
       "  <thead>\n",
       "    <tr style=\"text-align: right;\">\n",
       "      <th></th>\n",
       "      <th>psa_level</th>\n",
       "      <th>cancer_volume</th>\n",
       "      <th>weight</th>\n",
       "      <th>age</th>\n",
       "      <th>benign_prostatic_hyperplasia</th>\n",
       "      <th>capsular_penetration</th>\n",
       "    </tr>\n",
       "  </thead>\n",
       "  <tbody>\n",
       "    <tr>\n",
       "      <th>psa_level</th>\n",
       "      <td>1.000000</td>\n",
       "      <td>0.624151</td>\n",
       "      <td>0.026213</td>\n",
       "      <td>0.017199</td>\n",
       "      <td>-0.016486</td>\n",
       "      <td>0.550793</td>\n",
       "    </tr>\n",
       "    <tr>\n",
       "      <th>cancer_volume</th>\n",
       "      <td>0.624151</td>\n",
       "      <td>1.000000</td>\n",
       "      <td>0.005107</td>\n",
       "      <td>0.039094</td>\n",
       "      <td>-0.133209</td>\n",
       "      <td>0.692897</td>\n",
       "    </tr>\n",
       "    <tr>\n",
       "      <th>weight</th>\n",
       "      <td>0.026213</td>\n",
       "      <td>0.005107</td>\n",
       "      <td>1.000000</td>\n",
       "      <td>0.164324</td>\n",
       "      <td>0.321849</td>\n",
       "      <td>0.001579</td>\n",
       "    </tr>\n",
       "    <tr>\n",
       "      <th>age</th>\n",
       "      <td>0.017199</td>\n",
       "      <td>0.039094</td>\n",
       "      <td>0.164324</td>\n",
       "      <td>1.000000</td>\n",
       "      <td>0.366341</td>\n",
       "      <td>0.099555</td>\n",
       "    </tr>\n",
       "    <tr>\n",
       "      <th>benign_prostatic_hyperplasia</th>\n",
       "      <td>-0.016486</td>\n",
       "      <td>-0.133209</td>\n",
       "      <td>0.321849</td>\n",
       "      <td>0.366341</td>\n",
       "      <td>1.000000</td>\n",
       "      <td>-0.083009</td>\n",
       "    </tr>\n",
       "    <tr>\n",
       "      <th>capsular_penetration</th>\n",
       "      <td>0.550793</td>\n",
       "      <td>0.692897</td>\n",
       "      <td>0.001579</td>\n",
       "      <td>0.099555</td>\n",
       "      <td>-0.083009</td>\n",
       "      <td>1.000000</td>\n",
       "    </tr>\n",
       "  </tbody>\n",
       "</table>\n",
       "</div>"
      ],
      "text/plain": [
       "                              psa_level  cancer_volume    weight       age  \\\n",
       "psa_level                      1.000000       0.624151  0.026213  0.017199   \n",
       "cancer_volume                  0.624151       1.000000  0.005107  0.039094   \n",
       "weight                         0.026213       0.005107  1.000000  0.164324   \n",
       "age                            0.017199       0.039094  0.164324  1.000000   \n",
       "benign_prostatic_hyperplasia  -0.016486      -0.133209  0.321849  0.366341   \n",
       "capsular_penetration           0.550793       0.692897  0.001579  0.099555   \n",
       "\n",
       "                              benign_prostatic_hyperplasia  \\\n",
       "psa_level                                        -0.016486   \n",
       "cancer_volume                                    -0.133209   \n",
       "weight                                            0.321849   \n",
       "age                                               0.366341   \n",
       "benign_prostatic_hyperplasia                      1.000000   \n",
       "capsular_penetration                             -0.083009   \n",
       "\n",
       "                              capsular_penetration  \n",
       "psa_level                                 0.550793  \n",
       "cancer_volume                             0.692897  \n",
       "weight                                    0.001579  \n",
       "age                                       0.099555  \n",
       "benign_prostatic_hyperplasia             -0.083009  \n",
       "capsular_penetration                      1.000000  "
      ]
     },
     "execution_count": 112,
     "metadata": {},
     "output_type": "execute_result"
    }
   ],
   "source": [
    "prostate_data.corr()"
   ]
  },
  {
   "cell_type": "code",
   "execution_count": 119,
   "metadata": {},
   "outputs": [],
   "source": [
    "features = ['cancer_volume', 'weight', 'age',\n",
    "            'benign_prostatic_hyperplasia', 'seminal_vesicle_invasion',\n",
    "            'gleason_score']\n",
    "X_train = train_df[features]\n",
    "y_train = train_df['psa_level']"
   ]
  },
  {
   "cell_type": "code",
   "execution_count": 120,
   "metadata": {},
   "outputs": [
    {
     "name": "stdout",
     "output_type": "stream",
     "text": [
      "Processed 6 models on 1 predictors in 0.040549516677856445 seconds.\n"
     ]
    },
    {
     "name": "stderr",
     "output_type": "stream",
     "text": [
      "/home/srk-apts/anaconda3/lib/python3.7/site-packages/numpy/core/fromnumeric.py:2389: FutureWarning: Method .ptp is deprecated and will be removed in a future version. Use numpy.ptp instead.\n",
      "  return ptp(axis=axis, out=out, **kwargs)\n",
      "/home/srk-apts/anaconda3/lib/python3.7/site-packages/numpy/core/fromnumeric.py:2389: FutureWarning: Method .ptp is deprecated and will be removed in a future version. Use numpy.ptp instead.\n",
      "  return ptp(axis=axis, out=out, **kwargs)\n",
      "/home/srk-apts/anaconda3/lib/python3.7/site-packages/numpy/core/fromnumeric.py:2389: FutureWarning: Method .ptp is deprecated and will be removed in a future version. Use numpy.ptp instead.\n",
      "  return ptp(axis=axis, out=out, **kwargs)\n",
      "/home/srk-apts/anaconda3/lib/python3.7/site-packages/numpy/core/fromnumeric.py:2389: FutureWarning: Method .ptp is deprecated and will be removed in a future version. Use numpy.ptp instead.\n",
      "  return ptp(axis=axis, out=out, **kwargs)\n",
      "/home/srk-apts/anaconda3/lib/python3.7/site-packages/numpy/core/fromnumeric.py:2389: FutureWarning: Method .ptp is deprecated and will be removed in a future version. Use numpy.ptp instead.\n",
      "  return ptp(axis=axis, out=out, **kwargs)\n",
      "/home/srk-apts/anaconda3/lib/python3.7/site-packages/ipykernel_launcher.py:26: FutureWarning: \n",
      "The current behaviour of 'Series.argmin' is deprecated, use 'idxmin'\n",
      "instead.\n",
      "The behavior of 'argmin' will be corrected to return the positional\n",
      "minimum in the future. For now, use 'series.values.argmin' or\n",
      "'np.argmin(np.array(values))' to get the position of the minimum\n",
      "row.\n"
     ]
    },
    {
     "ename": "ValueError",
     "evalue": "The indices for endog and exog are not aligned",
     "output_type": "error",
     "traceback": [
      "\u001b[0;31m---------------------------------------------------------------------------\u001b[0m",
      "\u001b[0;31mValueError\u001b[0m                                Traceback (most recent call last)",
      "\u001b[0;32m<ipython-input-120-c5bc0268073a>\u001b[0m in \u001b[0;36m<module>\u001b[0;34m\u001b[0m\n\u001b[0;32m----> 1\u001b[0;31m \u001b[0mmodels_best\u001b[0m \u001b[0;34m=\u001b[0m \u001b[0mbest_subset_models\u001b[0m\u001b[0;34m(\u001b[0m\u001b[0mX\u001b[0m\u001b[0;34m=\u001b[0m\u001b[0mX_train\u001b[0m\u001b[0;34m,\u001b[0m \u001b[0my\u001b[0m\u001b[0;34m=\u001b[0m\u001b[0my_train\u001b[0m\u001b[0;34m)\u001b[0m\u001b[0;34m\u001b[0m\u001b[0;34m\u001b[0m\u001b[0m\n\u001b[0m\u001b[1;32m      2\u001b[0m \u001b[0mmodels_best\u001b[0m\u001b[0;34m\u001b[0m\u001b[0;34m\u001b[0m\u001b[0m\n",
      "\u001b[0;32m<ipython-input-4-8fefb4835d79>\u001b[0m in \u001b[0;36mbest_subset_models\u001b[0;34m(X, y)\u001b[0m\n\u001b[1;32m     18\u001b[0m \u001b[0;34m\u001b[0m\u001b[0m\n\u001b[1;32m     19\u001b[0m         \u001b[0;32mfor\u001b[0m \u001b[0mcombo\u001b[0m \u001b[0;32min\u001b[0m \u001b[0mitertools\u001b[0m\u001b[0;34m.\u001b[0m\u001b[0mcombinations\u001b[0m\u001b[0;34m(\u001b[0m\u001b[0mX\u001b[0m\u001b[0;34m.\u001b[0m\u001b[0mcolumns\u001b[0m\u001b[0;34m,\u001b[0m \u001b[0mi\u001b[0m\u001b[0;34m)\u001b[0m\u001b[0;34m:\u001b[0m\u001b[0;34m\u001b[0m\u001b[0;34m\u001b[0m\u001b[0m\n\u001b[0;32m---> 20\u001b[0;31m             \u001b[0mresults\u001b[0m\u001b[0;34m.\u001b[0m\u001b[0mappend\u001b[0m\u001b[0;34m(\u001b[0m\u001b[0mprocessSubset\u001b[0m\u001b[0;34m(\u001b[0m\u001b[0mX_subset\u001b[0m\u001b[0;34m=\u001b[0m\u001b[0mX\u001b[0m\u001b[0;34m[\u001b[0m\u001b[0mlist\u001b[0m\u001b[0;34m(\u001b[0m\u001b[0mcombo\u001b[0m\u001b[0;34m)\u001b[0m\u001b[0;34m]\u001b[0m\u001b[0;34m,\u001b[0m \u001b[0my_subset\u001b[0m\u001b[0;34m=\u001b[0m\u001b[0my\u001b[0m\u001b[0;34m)\u001b[0m\u001b[0;34m)\u001b[0m\u001b[0;34m\u001b[0m\u001b[0;34m\u001b[0m\u001b[0m\n\u001b[0m\u001b[1;32m     21\u001b[0m \u001b[0;34m\u001b[0m\u001b[0m\n\u001b[1;32m     22\u001b[0m         \u001b[0;31m# Wrap everything up in a nice dataframe\u001b[0m\u001b[0;34m\u001b[0m\u001b[0;34m\u001b[0m\u001b[0;34m\u001b[0m\u001b[0m\n",
      "\u001b[0;32m<ipython-input-4-8fefb4835d79>\u001b[0m in \u001b[0;36mprocessSubset\u001b[0;34m(X_subset, y_subset)\u001b[0m\n\u001b[1;32m      3\u001b[0m     \u001b[0mX_dummy\u001b[0m \u001b[0;34m=\u001b[0m \u001b[0mscale_encode\u001b[0m\u001b[0;34m(\u001b[0m\u001b[0mfit_df\u001b[0m\u001b[0;34m=\u001b[0m\u001b[0mX_subset\u001b[0m\u001b[0;34m,\u001b[0m \u001b[0mtrans_df\u001b[0m\u001b[0;34m=\u001b[0m\u001b[0mX_subset\u001b[0m\u001b[0;34m,\u001b[0m \u001b[0mscale_num\u001b[0m\u001b[0;34m=\u001b[0m\u001b[0;32mFalse\u001b[0m\u001b[0;34m)\u001b[0m\u001b[0;34m\u001b[0m\u001b[0;34m\u001b[0m\u001b[0m\n\u001b[1;32m      4\u001b[0m     \u001b[0mX\u001b[0m \u001b[0;34m=\u001b[0m \u001b[0msm\u001b[0m\u001b[0;34m.\u001b[0m\u001b[0madd_constant\u001b[0m\u001b[0;34m(\u001b[0m\u001b[0mX_dummy\u001b[0m\u001b[0;34m)\u001b[0m\u001b[0;34m\u001b[0m\u001b[0;34m\u001b[0m\u001b[0m\n\u001b[0;32m----> 5\u001b[0;31m     \u001b[0mmodel\u001b[0m \u001b[0;34m=\u001b[0m \u001b[0msm\u001b[0m\u001b[0;34m.\u001b[0m\u001b[0mOLS\u001b[0m\u001b[0;34m(\u001b[0m\u001b[0my\u001b[0m\u001b[0;34m,\u001b[0m\u001b[0mX\u001b[0m\u001b[0;34m)\u001b[0m\u001b[0;34m.\u001b[0m\u001b[0mfit\u001b[0m\u001b[0;34m(\u001b[0m\u001b[0;34m)\u001b[0m\u001b[0;34m\u001b[0m\u001b[0;34m\u001b[0m\u001b[0m\n\u001b[0m\u001b[1;32m      6\u001b[0m     \u001b[0mRSS\u001b[0m \u001b[0;34m=\u001b[0m \u001b[0;34m(\u001b[0m\u001b[0;34m(\u001b[0m\u001b[0mmodel\u001b[0m\u001b[0;34m.\u001b[0m\u001b[0mpredict\u001b[0m\u001b[0;34m(\u001b[0m\u001b[0mX\u001b[0m\u001b[0;34m)\u001b[0m \u001b[0;34m-\u001b[0m \u001b[0my\u001b[0m\u001b[0;34m)\u001b[0m\u001b[0;34m**\u001b[0m\u001b[0;36m2\u001b[0m\u001b[0;34m)\u001b[0m\u001b[0;34m.\u001b[0m\u001b[0msum\u001b[0m\u001b[0;34m(\u001b[0m\u001b[0;34m)\u001b[0m\u001b[0;34m\u001b[0m\u001b[0;34m\u001b[0m\u001b[0m\n\u001b[1;32m      7\u001b[0m     \u001b[0;32mreturn\u001b[0m \u001b[0;34m{\u001b[0m\u001b[0;34m\"model\"\u001b[0m\u001b[0;34m:\u001b[0m\u001b[0mmodel\u001b[0m\u001b[0;34m,\u001b[0m \u001b[0;34m\"RSS\"\u001b[0m\u001b[0;34m:\u001b[0m\u001b[0mRSS\u001b[0m\u001b[0;34m}\u001b[0m\u001b[0;34m\u001b[0m\u001b[0;34m\u001b[0m\u001b[0m\n",
      "\u001b[0;32m~/anaconda3/lib/python3.7/site-packages/statsmodels/regression/linear_model.py\u001b[0m in \u001b[0;36m__init__\u001b[0;34m(self, endog, exog, missing, hasconst, **kwargs)\u001b[0m\n\u001b[1;32m    836\u001b[0m                  **kwargs):\n\u001b[1;32m    837\u001b[0m         super(OLS, self).__init__(endog, exog, missing=missing,\n\u001b[0;32m--> 838\u001b[0;31m                                   hasconst=hasconst, **kwargs)\n\u001b[0m\u001b[1;32m    839\u001b[0m         \u001b[0;32mif\u001b[0m \u001b[0;34m\"weights\"\u001b[0m \u001b[0;32min\u001b[0m \u001b[0mself\u001b[0m\u001b[0;34m.\u001b[0m\u001b[0m_init_keys\u001b[0m\u001b[0;34m:\u001b[0m\u001b[0;34m\u001b[0m\u001b[0;34m\u001b[0m\u001b[0m\n\u001b[1;32m    840\u001b[0m             \u001b[0mself\u001b[0m\u001b[0;34m.\u001b[0m\u001b[0m_init_keys\u001b[0m\u001b[0;34m.\u001b[0m\u001b[0mremove\u001b[0m\u001b[0;34m(\u001b[0m\u001b[0;34m\"weights\"\u001b[0m\u001b[0;34m)\u001b[0m\u001b[0;34m\u001b[0m\u001b[0;34m\u001b[0m\u001b[0m\n",
      "\u001b[0;32m~/anaconda3/lib/python3.7/site-packages/statsmodels/regression/linear_model.py\u001b[0m in \u001b[0;36m__init__\u001b[0;34m(self, endog, exog, weights, missing, hasconst, **kwargs)\u001b[0m\n\u001b[1;32m    682\u001b[0m             \u001b[0mweights\u001b[0m \u001b[0;34m=\u001b[0m \u001b[0mweights\u001b[0m\u001b[0;34m.\u001b[0m\u001b[0msqueeze\u001b[0m\u001b[0;34m(\u001b[0m\u001b[0;34m)\u001b[0m\u001b[0;34m\u001b[0m\u001b[0;34m\u001b[0m\u001b[0m\n\u001b[1;32m    683\u001b[0m         super(WLS, self).__init__(endog, exog, missing=missing,\n\u001b[0;32m--> 684\u001b[0;31m                                   weights=weights, hasconst=hasconst, **kwargs)\n\u001b[0m\u001b[1;32m    685\u001b[0m         \u001b[0mnobs\u001b[0m \u001b[0;34m=\u001b[0m \u001b[0mself\u001b[0m\u001b[0;34m.\u001b[0m\u001b[0mexog\u001b[0m\u001b[0;34m.\u001b[0m\u001b[0mshape\u001b[0m\u001b[0;34m[\u001b[0m\u001b[0;36m0\u001b[0m\u001b[0;34m]\u001b[0m\u001b[0;34m\u001b[0m\u001b[0;34m\u001b[0m\u001b[0m\n\u001b[1;32m    686\u001b[0m         \u001b[0mweights\u001b[0m \u001b[0;34m=\u001b[0m \u001b[0mself\u001b[0m\u001b[0;34m.\u001b[0m\u001b[0mweights\u001b[0m\u001b[0;34m\u001b[0m\u001b[0;34m\u001b[0m\u001b[0m\n",
      "\u001b[0;32m~/anaconda3/lib/python3.7/site-packages/statsmodels/regression/linear_model.py\u001b[0m in \u001b[0;36m__init__\u001b[0;34m(self, endog, exog, **kwargs)\u001b[0m\n\u001b[1;32m    194\u001b[0m     \"\"\"\n\u001b[1;32m    195\u001b[0m     \u001b[0;32mdef\u001b[0m \u001b[0m__init__\u001b[0m\u001b[0;34m(\u001b[0m\u001b[0mself\u001b[0m\u001b[0;34m,\u001b[0m \u001b[0mendog\u001b[0m\u001b[0;34m,\u001b[0m \u001b[0mexog\u001b[0m\u001b[0;34m,\u001b[0m \u001b[0;34m**\u001b[0m\u001b[0mkwargs\u001b[0m\u001b[0;34m)\u001b[0m\u001b[0;34m:\u001b[0m\u001b[0;34m\u001b[0m\u001b[0;34m\u001b[0m\u001b[0m\n\u001b[0;32m--> 196\u001b[0;31m         \u001b[0msuper\u001b[0m\u001b[0;34m(\u001b[0m\u001b[0mRegressionModel\u001b[0m\u001b[0;34m,\u001b[0m \u001b[0mself\u001b[0m\u001b[0;34m)\u001b[0m\u001b[0;34m.\u001b[0m\u001b[0m__init__\u001b[0m\u001b[0;34m(\u001b[0m\u001b[0mendog\u001b[0m\u001b[0;34m,\u001b[0m \u001b[0mexog\u001b[0m\u001b[0;34m,\u001b[0m \u001b[0;34m**\u001b[0m\u001b[0mkwargs\u001b[0m\u001b[0;34m)\u001b[0m\u001b[0;34m\u001b[0m\u001b[0;34m\u001b[0m\u001b[0m\n\u001b[0m\u001b[1;32m    197\u001b[0m         \u001b[0mself\u001b[0m\u001b[0;34m.\u001b[0m\u001b[0m_data_attr\u001b[0m\u001b[0;34m.\u001b[0m\u001b[0mextend\u001b[0m\u001b[0;34m(\u001b[0m\u001b[0;34m[\u001b[0m\u001b[0;34m'pinv_wexog'\u001b[0m\u001b[0;34m,\u001b[0m \u001b[0;34m'wendog'\u001b[0m\u001b[0;34m,\u001b[0m \u001b[0;34m'wexog'\u001b[0m\u001b[0;34m,\u001b[0m \u001b[0;34m'weights'\u001b[0m\u001b[0;34m]\u001b[0m\u001b[0;34m)\u001b[0m\u001b[0;34m\u001b[0m\u001b[0;34m\u001b[0m\u001b[0m\n\u001b[1;32m    198\u001b[0m \u001b[0;34m\u001b[0m\u001b[0m\n",
      "\u001b[0;32m~/anaconda3/lib/python3.7/site-packages/statsmodels/base/model.py\u001b[0m in \u001b[0;36m__init__\u001b[0;34m(self, endog, exog, **kwargs)\u001b[0m\n\u001b[1;32m    214\u001b[0m \u001b[0;34m\u001b[0m\u001b[0m\n\u001b[1;32m    215\u001b[0m     \u001b[0;32mdef\u001b[0m \u001b[0m__init__\u001b[0m\u001b[0;34m(\u001b[0m\u001b[0mself\u001b[0m\u001b[0;34m,\u001b[0m \u001b[0mendog\u001b[0m\u001b[0;34m,\u001b[0m \u001b[0mexog\u001b[0m\u001b[0;34m=\u001b[0m\u001b[0;32mNone\u001b[0m\u001b[0;34m,\u001b[0m \u001b[0;34m**\u001b[0m\u001b[0mkwargs\u001b[0m\u001b[0;34m)\u001b[0m\u001b[0;34m:\u001b[0m\u001b[0;34m\u001b[0m\u001b[0;34m\u001b[0m\u001b[0m\n\u001b[0;32m--> 216\u001b[0;31m         \u001b[0msuper\u001b[0m\u001b[0;34m(\u001b[0m\u001b[0mLikelihoodModel\u001b[0m\u001b[0;34m,\u001b[0m \u001b[0mself\u001b[0m\u001b[0;34m)\u001b[0m\u001b[0;34m.\u001b[0m\u001b[0m__init__\u001b[0m\u001b[0;34m(\u001b[0m\u001b[0mendog\u001b[0m\u001b[0;34m,\u001b[0m \u001b[0mexog\u001b[0m\u001b[0;34m,\u001b[0m \u001b[0;34m**\u001b[0m\u001b[0mkwargs\u001b[0m\u001b[0;34m)\u001b[0m\u001b[0;34m\u001b[0m\u001b[0;34m\u001b[0m\u001b[0m\n\u001b[0m\u001b[1;32m    217\u001b[0m         \u001b[0mself\u001b[0m\u001b[0;34m.\u001b[0m\u001b[0minitialize\u001b[0m\u001b[0;34m(\u001b[0m\u001b[0;34m)\u001b[0m\u001b[0;34m\u001b[0m\u001b[0;34m\u001b[0m\u001b[0m\n\u001b[1;32m    218\u001b[0m \u001b[0;34m\u001b[0m\u001b[0m\n",
      "\u001b[0;32m~/anaconda3/lib/python3.7/site-packages/statsmodels/base/model.py\u001b[0m in \u001b[0;36m__init__\u001b[0;34m(self, endog, exog, **kwargs)\u001b[0m\n\u001b[1;32m     66\u001b[0m         \u001b[0mhasconst\u001b[0m \u001b[0;34m=\u001b[0m \u001b[0mkwargs\u001b[0m\u001b[0;34m.\u001b[0m\u001b[0mpop\u001b[0m\u001b[0;34m(\u001b[0m\u001b[0;34m'hasconst'\u001b[0m\u001b[0;34m,\u001b[0m \u001b[0;32mNone\u001b[0m\u001b[0;34m)\u001b[0m\u001b[0;34m\u001b[0m\u001b[0;34m\u001b[0m\u001b[0m\n\u001b[1;32m     67\u001b[0m         self.data = self._handle_data(endog, exog, missing, hasconst,\n\u001b[0;32m---> 68\u001b[0;31m                                       **kwargs)\n\u001b[0m\u001b[1;32m     69\u001b[0m         \u001b[0mself\u001b[0m\u001b[0;34m.\u001b[0m\u001b[0mk_constant\u001b[0m \u001b[0;34m=\u001b[0m \u001b[0mself\u001b[0m\u001b[0;34m.\u001b[0m\u001b[0mdata\u001b[0m\u001b[0;34m.\u001b[0m\u001b[0mk_constant\u001b[0m\u001b[0;34m\u001b[0m\u001b[0;34m\u001b[0m\u001b[0m\n\u001b[1;32m     70\u001b[0m         \u001b[0mself\u001b[0m\u001b[0;34m.\u001b[0m\u001b[0mexog\u001b[0m \u001b[0;34m=\u001b[0m \u001b[0mself\u001b[0m\u001b[0;34m.\u001b[0m\u001b[0mdata\u001b[0m\u001b[0;34m.\u001b[0m\u001b[0mexog\u001b[0m\u001b[0;34m\u001b[0m\u001b[0;34m\u001b[0m\u001b[0m\n",
      "\u001b[0;32m~/anaconda3/lib/python3.7/site-packages/statsmodels/base/model.py\u001b[0m in \u001b[0;36m_handle_data\u001b[0;34m(self, endog, exog, missing, hasconst, **kwargs)\u001b[0m\n\u001b[1;32m     89\u001b[0m \u001b[0;34m\u001b[0m\u001b[0m\n\u001b[1;32m     90\u001b[0m     \u001b[0;32mdef\u001b[0m \u001b[0m_handle_data\u001b[0m\u001b[0;34m(\u001b[0m\u001b[0mself\u001b[0m\u001b[0;34m,\u001b[0m \u001b[0mendog\u001b[0m\u001b[0;34m,\u001b[0m \u001b[0mexog\u001b[0m\u001b[0;34m,\u001b[0m \u001b[0mmissing\u001b[0m\u001b[0;34m,\u001b[0m \u001b[0mhasconst\u001b[0m\u001b[0;34m,\u001b[0m \u001b[0;34m**\u001b[0m\u001b[0mkwargs\u001b[0m\u001b[0;34m)\u001b[0m\u001b[0;34m:\u001b[0m\u001b[0;34m\u001b[0m\u001b[0;34m\u001b[0m\u001b[0m\n\u001b[0;32m---> 91\u001b[0;31m         \u001b[0mdata\u001b[0m \u001b[0;34m=\u001b[0m \u001b[0mhandle_data\u001b[0m\u001b[0;34m(\u001b[0m\u001b[0mendog\u001b[0m\u001b[0;34m,\u001b[0m \u001b[0mexog\u001b[0m\u001b[0;34m,\u001b[0m \u001b[0mmissing\u001b[0m\u001b[0;34m,\u001b[0m \u001b[0mhasconst\u001b[0m\u001b[0;34m,\u001b[0m \u001b[0;34m**\u001b[0m\u001b[0mkwargs\u001b[0m\u001b[0;34m)\u001b[0m\u001b[0;34m\u001b[0m\u001b[0;34m\u001b[0m\u001b[0m\n\u001b[0m\u001b[1;32m     92\u001b[0m         \u001b[0;31m# kwargs arrays could have changed, easier to just attach here\u001b[0m\u001b[0;34m\u001b[0m\u001b[0;34m\u001b[0m\u001b[0;34m\u001b[0m\u001b[0m\n\u001b[1;32m     93\u001b[0m         \u001b[0;32mfor\u001b[0m \u001b[0mkey\u001b[0m \u001b[0;32min\u001b[0m \u001b[0mkwargs\u001b[0m\u001b[0;34m:\u001b[0m\u001b[0;34m\u001b[0m\u001b[0;34m\u001b[0m\u001b[0m\n",
      "\u001b[0;32m~/anaconda3/lib/python3.7/site-packages/statsmodels/base/data.py\u001b[0m in \u001b[0;36mhandle_data\u001b[0;34m(endog, exog, missing, hasconst, **kwargs)\u001b[0m\n\u001b[1;32m    633\u001b[0m     \u001b[0mklass\u001b[0m \u001b[0;34m=\u001b[0m \u001b[0mhandle_data_class_factory\u001b[0m\u001b[0;34m(\u001b[0m\u001b[0mendog\u001b[0m\u001b[0;34m,\u001b[0m \u001b[0mexog\u001b[0m\u001b[0;34m)\u001b[0m\u001b[0;34m\u001b[0m\u001b[0;34m\u001b[0m\u001b[0m\n\u001b[1;32m    634\u001b[0m     return klass(endog, exog=exog, missing=missing, hasconst=hasconst,\n\u001b[0;32m--> 635\u001b[0;31m                  **kwargs)\n\u001b[0m",
      "\u001b[0;32m~/anaconda3/lib/python3.7/site-packages/statsmodels/base/data.py\u001b[0m in \u001b[0;36m__init__\u001b[0;34m(self, endog, exog, missing, hasconst, **kwargs)\u001b[0m\n\u001b[1;32m     79\u001b[0m         \u001b[0mself\u001b[0m\u001b[0;34m.\u001b[0m\u001b[0mk_constant\u001b[0m \u001b[0;34m=\u001b[0m \u001b[0;36m0\u001b[0m\u001b[0;34m\u001b[0m\u001b[0;34m\u001b[0m\u001b[0m\n\u001b[1;32m     80\u001b[0m         \u001b[0mself\u001b[0m\u001b[0;34m.\u001b[0m\u001b[0m_handle_constant\u001b[0m\u001b[0;34m(\u001b[0m\u001b[0mhasconst\u001b[0m\u001b[0;34m)\u001b[0m\u001b[0;34m\u001b[0m\u001b[0;34m\u001b[0m\u001b[0m\n\u001b[0;32m---> 81\u001b[0;31m         \u001b[0mself\u001b[0m\u001b[0;34m.\u001b[0m\u001b[0m_check_integrity\u001b[0m\u001b[0;34m(\u001b[0m\u001b[0;34m)\u001b[0m\u001b[0;34m\u001b[0m\u001b[0;34m\u001b[0m\u001b[0m\n\u001b[0m\u001b[1;32m     82\u001b[0m         \u001b[0mself\u001b[0m\u001b[0;34m.\u001b[0m\u001b[0m_cache\u001b[0m \u001b[0;34m=\u001b[0m \u001b[0;34m{\u001b[0m\u001b[0;34m}\u001b[0m\u001b[0;34m\u001b[0m\u001b[0;34m\u001b[0m\u001b[0m\n\u001b[1;32m     83\u001b[0m \u001b[0;34m\u001b[0m\u001b[0m\n",
      "\u001b[0;32m~/anaconda3/lib/python3.7/site-packages/statsmodels/base/data.py\u001b[0m in \u001b[0;36m_check_integrity\u001b[0;34m(self)\u001b[0m\n\u001b[1;32m    497\u001b[0m                 \u001b[0;34m(\u001b[0m\u001b[0mhasattr\u001b[0m\u001b[0;34m(\u001b[0m\u001b[0mendog\u001b[0m\u001b[0;34m,\u001b[0m \u001b[0;34m'index'\u001b[0m\u001b[0;34m)\u001b[0m \u001b[0;32mand\u001b[0m \u001b[0mhasattr\u001b[0m\u001b[0;34m(\u001b[0m\u001b[0mexog\u001b[0m\u001b[0;34m,\u001b[0m \u001b[0;34m'index'\u001b[0m\u001b[0;34m)\u001b[0m\u001b[0;34m)\u001b[0m \u001b[0;32mand\u001b[0m\u001b[0;34m\u001b[0m\u001b[0;34m\u001b[0m\u001b[0m\n\u001b[1;32m    498\u001b[0m                 not self.orig_endog.index.equals(self.orig_exog.index)):\n\u001b[0;32m--> 499\u001b[0;31m             \u001b[0;32mraise\u001b[0m \u001b[0mValueError\u001b[0m\u001b[0;34m(\u001b[0m\u001b[0;34m\"The indices for endog and exog are not aligned\"\u001b[0m\u001b[0;34m)\u001b[0m\u001b[0;34m\u001b[0m\u001b[0;34m\u001b[0m\u001b[0m\n\u001b[0m\u001b[1;32m    500\u001b[0m         \u001b[0msuper\u001b[0m\u001b[0;34m(\u001b[0m\u001b[0mPandasData\u001b[0m\u001b[0;34m,\u001b[0m \u001b[0mself\u001b[0m\u001b[0;34m)\u001b[0m\u001b[0;34m.\u001b[0m\u001b[0m_check_integrity\u001b[0m\u001b[0;34m(\u001b[0m\u001b[0;34m)\u001b[0m\u001b[0;34m\u001b[0m\u001b[0;34m\u001b[0m\u001b[0m\n\u001b[1;32m    501\u001b[0m \u001b[0;34m\u001b[0m\u001b[0m\n",
      "\u001b[0;31mValueError\u001b[0m: The indices for endog and exog are not aligned"
     ]
    }
   ],
   "source": [
    "models_best = best_subset_models(X=X_train, y=y_train)\n",
    "models_best"
   ]
  },
  {
   "cell_type": "code",
   "execution_count": 121,
   "metadata": {},
   "outputs": [
    {
     "name": "stderr",
     "output_type": "stream",
     "text": [
      "/home/srk-apts/anaconda3/lib/python3.7/site-packages/ipykernel_launcher.py:22: FutureWarning: \n",
      "The current behaviour of 'Series.argmax' is deprecated, use 'idxmax'\n",
      "instead.\n",
      "The behavior of 'argmax' will be corrected to return the positional\n",
      "maximum in the future. For now, use 'series.values.argmax' or\n",
      "'np.argmax(np.array(values))' to get the position of the maximum\n",
      "row.\n",
      "/home/srk-apts/anaconda3/lib/python3.7/site-packages/ipykernel_launcher.py:33: FutureWarning: \n",
      "The current behaviour of 'Series.argmin' is deprecated, use 'idxmin'\n",
      "instead.\n",
      "The behavior of 'argmin' will be corrected to return the positional\n",
      "minimum in the future. For now, use 'series.values.argmin' or\n",
      "'np.argmin(np.array(values))' to get the position of the minimum\n",
      "row.\n",
      "/home/srk-apts/anaconda3/lib/python3.7/site-packages/ipykernel_launcher.py:42: FutureWarning: \n",
      "The current behaviour of 'Series.argmin' is deprecated, use 'idxmin'\n",
      "instead.\n",
      "The behavior of 'argmin' will be corrected to return the positional\n",
      "minimum in the future. For now, use 'series.values.argmin' or\n",
      "'np.argmin(np.array(values))' to get the position of the minimum\n",
      "row.\n",
      "/home/srk-apts/anaconda3/lib/python3.7/site-packages/ipykernel_launcher.py:60: FutureWarning: \n",
      "The current behaviour of 'Series.argmax' is deprecated, use 'idxmax'\n",
      "instead.\n",
      "The behavior of 'argmax' will be corrected to return the positional\n",
      "maximum in the future. For now, use 'series.values.argmax' or\n",
      "'np.argmax(np.array(values))' to get the position of the maximum\n",
      "row.\n"
     ]
    },
    {
     "data": {
      "image/png": "[encoded data removed]",
      "text/plain": [
       "<Figure size 1440x1080 with 5 Axes>"
      ]
     },
     "metadata": {
      "needs_background": "light"
     },
     "output_type": "display_data"
    }
   ],
   "source": [
    "plot_model_stats(models_best)"
   ]
  },
  {
   "cell_type": "code",
   "execution_count": 123,
   "metadata": {},
   "outputs": [
    {
     "data": {
      "text/html": [
       "<table class=\"simpletable\">\n",
       "<caption>OLS Regression Results</caption>\n",
       "<tr>\n",
       "  <th>Dep. Variable:</th>        <td>psa_level</td>    <th>  R-squared:         </th> <td>   0.431</td>\n",
       "</tr>\n",
       "<tr>\n",
       "  <th>Model:</th>                   <td>OLS</td>       <th>  Adj. R-squared:    </th> <td>   0.419</td>\n",
       "</tr>\n",
       "<tr>\n",
       "  <th>Method:</th>             <td>Least Squares</td>  <th>  F-statistic:       </th> <td>   35.60</td>\n",
       "</tr>\n",
       "<tr>\n",
       "  <th>Date:</th>             <td>Wed, 20 Nov 2019</td> <th>  Prob (F-statistic):</th> <td>3.10e-12</td>\n",
       "</tr>\n",
       "<tr>\n",
       "  <th>Time:</th>                 <td>23:12:20</td>     <th>  Log-Likelihood:    </th> <td> -469.49</td>\n",
       "</tr>\n",
       "<tr>\n",
       "  <th>No. Observations:</th>      <td>    97</td>      <th>  AIC:               </th> <td>   945.0</td>\n",
       "</tr>\n",
       "<tr>\n",
       "  <th>Df Residuals:</th>          <td>    94</td>      <th>  BIC:               </th> <td>   952.7</td>\n",
       "</tr>\n",
       "<tr>\n",
       "  <th>Df Model:</th>              <td>     2</td>      <th>                     </th>     <td> </td>   \n",
       "</tr>\n",
       "<tr>\n",
       "  <th>Covariance Type:</th>      <td>nonrobust</td>    <th>                     </th>     <td> </td>   \n",
       "</tr>\n",
       "</table>\n",
       "<table class=\"simpletable\">\n",
       "<tr>\n",
       "               <td></td>                 <th>coef</th>     <th>std err</th>      <th>t</th>      <th>P>|t|</th>  <th>[0.025</th>    <th>0.975]</th>  \n",
       "</tr>\n",
       "<tr>\n",
       "  <th>const</th>                      <td>    8.9226</td> <td>    4.210</td> <td>    2.120</td> <td> 0.037</td> <td>    0.564</td> <td>   17.281</td>\n",
       "</tr>\n",
       "<tr>\n",
       "  <th>cancer_volume</th>              <td>    2.4767</td> <td>    0.495</td> <td>    5.003</td> <td> 0.000</td> <td>    1.494</td> <td>    3.460</td>\n",
       "</tr>\n",
       "<tr>\n",
       "  <th>seminal_vesicle_invasion_0</th> <td>   -7.8622</td> <td>    3.451</td> <td>   -2.278</td> <td> 0.025</td> <td>  -14.714</td> <td>   -1.011</td>\n",
       "</tr>\n",
       "<tr>\n",
       "  <th>seminal_vesicle_invasion_1</th> <td>   16.7848</td> <td>    6.430</td> <td>    2.610</td> <td> 0.011</td> <td>    4.017</td> <td>   29.553</td>\n",
       "</tr>\n",
       "</table>\n",
       "<table class=\"simpletable\">\n",
       "<tr>\n",
       "  <th>Omnibus:</th>       <td>98.023</td> <th>  Durbin-Watson:     </th> <td>   0.800</td> \n",
       "</tr>\n",
       "<tr>\n",
       "  <th>Prob(Omnibus):</th> <td> 0.000</td> <th>  Jarque-Bera (JB):  </th> <td>1229.498</td> \n",
       "</tr>\n",
       "<tr>\n",
       "  <th>Skew:</th>          <td> 3.259</td> <th>  Prob(JB):          </th> <td>1.04e-267</td>\n",
       "</tr>\n",
       "<tr>\n",
       "  <th>Kurtosis:</th>      <td>19.178</td> <th>  Cond. No.          </th> <td>1.62e+17</td> \n",
       "</tr>\n",
       "</table><br/><br/>Warnings:<br/>[1] Standard Errors assume that the covariance matrix of the errors is correctly specified.<br/>[2] The smallest eigenvalue is 4.08e-31. This might indicate that there are<br/>strong multicollinearity problems or that the design matrix is singular."
      ],
      "text/plain": [
       "<class 'statsmodels.iolib.summary.Summary'>\n",
       "\"\"\"\n",
       "                            OLS Regression Results                            \n",
       "==============================================================================\n",
       "Dep. Variable:              psa_level   R-squared:                       0.431\n",
       "Model:                            OLS   Adj. R-squared:                  0.419\n",
       "Method:                 Least Squares   F-statistic:                     35.60\n",
       "Date:                Wed, 20 Nov 2019   Prob (F-statistic):           3.10e-12\n",
       "Time:                        23:12:20   Log-Likelihood:                -469.49\n",
       "No. Observations:                  97   AIC:                             945.0\n",
       "Df Residuals:                      94   BIC:                             952.7\n",
       "Df Model:                           2                                         \n",
       "Covariance Type:            nonrobust                                         \n",
       "==============================================================================================\n",
       "                                 coef    std err          t      P>|t|      [0.025      0.975]\n",
       "----------------------------------------------------------------------------------------------\n",
       "const                          8.9226      4.210      2.120      0.037       0.564      17.281\n",
       "cancer_volume                  2.4767      0.495      5.003      0.000       1.494       3.460\n",
       "seminal_vesicle_invasion_0    -7.8622      3.451     -2.278      0.025     -14.714      -1.011\n",
       "seminal_vesicle_invasion_1    16.7848      6.430      2.610      0.011       4.017      29.553\n",
       "==============================================================================\n",
       "Omnibus:                       98.023   Durbin-Watson:                   0.800\n",
       "Prob(Omnibus):                  0.000   Jarque-Bera (JB):             1229.498\n",
       "Skew:                           3.259   Prob(JB):                    1.04e-267\n",
       "Kurtosis:                      19.178   Cond. No.                     1.62e+17\n",
       "==============================================================================\n",
       "\n",
       "Warnings:\n",
       "[1] Standard Errors assume that the covariance matrix of the errors is correctly specified.\n",
       "[2] The smallest eigenvalue is 4.08e-31. This might indicate that there are\n",
       "strong multicollinearity problems or that the design matrix is singular.\n",
       "\"\"\""
      ]
     },
     "execution_count": 123,
     "metadata": {},
     "output_type": "execute_result"
    }
   ],
   "source": [
    "model_select = models_best.iloc[1,1]\n",
    "model_select.summary()"
   ]
  },
  {
   "cell_type": "code",
   "execution_count": 81,
   "metadata": {},
   "outputs": [
    {
     "ename": "AttributeError",
     "evalue": "'PandasData' object has no attribute 'design_info'",
     "output_type": "error",
     "traceback": [
      "\u001b[0;31m---------------------------------------------------------------------------\u001b[0m",
      "\u001b[0;31mAttributeError\u001b[0m                            Traceback (most recent call last)",
      "\u001b[0;32m<ipython-input-81-2dc485d3d35b>\u001b[0m in \u001b[0;36m<module>\u001b[0;34m\u001b[0m\n\u001b[0;32m----> 1\u001b[0;31m \u001b[0manova_lm\u001b[0m\u001b[0;34m(\u001b[0m\u001b[0mmodel_select\u001b[0m\u001b[0;34m)\u001b[0m\u001b[0;34m\u001b[0m\u001b[0;34m\u001b[0m\u001b[0m\n\u001b[0m",
      "\u001b[0;32m~/anaconda3/lib/python3.7/site-packages/statsmodels/stats/anova.py\u001b[0m in \u001b[0;36manova_lm\u001b[0;34m(*args, **kwargs)\u001b[0m\n\u001b[1;32m    349\u001b[0m     \u001b[0;32mif\u001b[0m \u001b[0mlen\u001b[0m\u001b[0;34m(\u001b[0m\u001b[0margs\u001b[0m\u001b[0;34m)\u001b[0m \u001b[0;34m==\u001b[0m \u001b[0;36m1\u001b[0m\u001b[0;34m:\u001b[0m\u001b[0;34m\u001b[0m\u001b[0;34m\u001b[0m\u001b[0m\n\u001b[1;32m    350\u001b[0m         \u001b[0mmodel\u001b[0m \u001b[0;34m=\u001b[0m \u001b[0margs\u001b[0m\u001b[0;34m[\u001b[0m\u001b[0;36m0\u001b[0m\u001b[0;34m]\u001b[0m\u001b[0;34m\u001b[0m\u001b[0;34m\u001b[0m\u001b[0m\n\u001b[0;32m--> 351\u001b[0;31m         \u001b[0;32mreturn\u001b[0m \u001b[0manova_single\u001b[0m\u001b[0;34m(\u001b[0m\u001b[0mmodel\u001b[0m\u001b[0;34m,\u001b[0m \u001b[0;34m**\u001b[0m\u001b[0mkwargs\u001b[0m\u001b[0;34m)\u001b[0m\u001b[0;34m\u001b[0m\u001b[0;34m\u001b[0m\u001b[0m\n\u001b[0m\u001b[1;32m    352\u001b[0m \u001b[0;34m\u001b[0m\u001b[0m\n\u001b[1;32m    353\u001b[0m     \u001b[0;32mif\u001b[0m \u001b[0mtyp\u001b[0m \u001b[0;32mnot\u001b[0m \u001b[0;32min\u001b[0m \u001b[0;34m[\u001b[0m\u001b[0;36m1\u001b[0m\u001b[0;34m,\u001b[0m \u001b[0;34m\"I\"\u001b[0m\u001b[0;34m]\u001b[0m\u001b[0;34m:\u001b[0m\u001b[0;34m\u001b[0m\u001b[0;34m\u001b[0m\u001b[0m\n",
      "\u001b[0;32m~/anaconda3/lib/python3.7/site-packages/statsmodels/stats/anova.py\u001b[0m in \u001b[0;36manova_single\u001b[0;34m(model, **kwargs)\u001b[0m\n\u001b[1;32m     66\u001b[0m \u001b[0;34m\u001b[0m\u001b[0m\n\u001b[1;32m     67\u001b[0m     \u001b[0mresponse_name\u001b[0m \u001b[0;34m=\u001b[0m \u001b[0mmodel\u001b[0m\u001b[0;34m.\u001b[0m\u001b[0mmodel\u001b[0m\u001b[0;34m.\u001b[0m\u001b[0mendog_names\u001b[0m\u001b[0;34m\u001b[0m\u001b[0;34m\u001b[0m\u001b[0m\n\u001b[0;32m---> 68\u001b[0;31m     \u001b[0mdesign_info\u001b[0m \u001b[0;34m=\u001b[0m \u001b[0mmodel\u001b[0m\u001b[0;34m.\u001b[0m\u001b[0mmodel\u001b[0m\u001b[0;34m.\u001b[0m\u001b[0mdata\u001b[0m\u001b[0;34m.\u001b[0m\u001b[0mdesign_info\u001b[0m\u001b[0;34m\u001b[0m\u001b[0;34m\u001b[0m\u001b[0m\n\u001b[0m\u001b[1;32m     69\u001b[0m     \u001b[0mexog_names\u001b[0m \u001b[0;34m=\u001b[0m \u001b[0mmodel\u001b[0m\u001b[0;34m.\u001b[0m\u001b[0mmodel\u001b[0m\u001b[0;34m.\u001b[0m\u001b[0mexog_names\u001b[0m\u001b[0;34m\u001b[0m\u001b[0;34m\u001b[0m\u001b[0m\n\u001b[1;32m     70\u001b[0m     \u001b[0;31m# +1 for resids\u001b[0m\u001b[0;34m\u001b[0m\u001b[0;34m\u001b[0m\u001b[0;34m\u001b[0m\u001b[0m\n",
      "\u001b[0;31mAttributeError\u001b[0m: 'PandasData' object has no attribute 'design_info'"
     ]
    }
   ],
   "source": [
    "anova_lm(model_select)"
   ]
  },
  {
   "cell_type": "code",
   "execution_count": 125,
   "metadata": {},
   "outputs": [
    {
     "name": "stderr",
     "output_type": "stream",
     "text": [
      "/home/srk-apts/anaconda3/lib/python3.7/site-packages/numpy/core/fromnumeric.py:2389: FutureWarning: Method .ptp is deprecated and will be removed in a future version. Use numpy.ptp instead.\n",
      "  return ptp(axis=axis, out=out, **kwargs)\n"
     ]
    },
    {
     "data": {
      "text/plain": [
       "Index(['const', 'cancer_volume', 'weight', 'age',\n",
       "       'benign_prostatic_hyperplasia', 'seminal_vesicle_invasion_0',\n",
       "       'seminal_vesicle_invasion_1', 'gleason_score_6', 'gleason_score_7',\n",
       "       'gleason_score_8'],\n",
       "      dtype='object')"
      ]
     },
     "execution_count": 125,
     "metadata": {},
     "output_type": "execute_result"
    }
   ],
   "source": [
    "vars_select = list(model_select.params.index)\n",
    "X_pred_tr = scale_encode(fit_df=X_train, trans_df=X_train, scale_num=False)\n",
    "X_pred_tr = sm.add_constant(X_pred_tr)\n",
    "X_pred_tr.columns"
   ]
  },
  {
   "cell_type": "code",
   "execution_count": 126,
   "metadata": {},
   "outputs": [
    {
     "data": {
      "text/plain": [
       "958.8056067514424"
      ]
     },
     "execution_count": 126,
     "metadata": {},
     "output_type": "execute_result"
    }
   ],
   "source": [
    "MSPR = calc_mspr(model=model_select, X=X_pred_tr[vars_select], y=y_train)\n",
    "MSPR"
   ]
  },
  {
   "cell_type": "markdown",
   "metadata": {},
   "source": [
    "*Interpretation:*\n",
    "\n",
    "We can see that, based on the plots and the above summary, model #2 is where the \"elbow\" occurs for various measures. \n",
    "\n",
    "43% of the variation in PSA.level is explained by the variables \"Cancer Volume\" and \"Seminal vesicle invasion\". This could be significant considering the nature of the problem we are trying to solve since any correlation can lead the oncologists early detection of the ailment.\n",
    "\n",
    "- The oncologists would be able predict the PSA based on the volume of cancer and if there was a seminal vescicle invasion.\n",
    "- We can see that both these variables are postively correlated to the PSA level, which means the oncologists can determine early if a patient is in the \"high-risk\" zone and possibly start early treatment.\n",
    "\n"
   ]
  },
  {
   "cell_type": "markdown",
   "metadata": {},
   "source": [
    "**(b)** Fit the regression model identified in part a to the validation data set. Compare the estimated regression coefficients and their estimated standard errors with those obtained in part a. Also compare the error mean square and coefficients of multiple determination. Does the model fitted to the validation data set yield similar estimates as the model fitted to the model-building data set? (5pts)"
   ]
  },
  {
   "cell_type": "code",
   "execution_count": 100,
   "metadata": {},
   "outputs": [],
   "source": [
    "model_train = model_select"
   ]
  },
  {
   "cell_type": "code",
   "execution_count": 133,
   "metadata": {},
   "outputs": [
    {
     "name": "stderr",
     "output_type": "stream",
     "text": [
      "/home/srk-apts/anaconda3/lib/python3.7/site-packages/numpy/core/fromnumeric.py:2389: FutureWarning: Method .ptp is deprecated and will be removed in a future version. Use numpy.ptp instead.\n",
      "  return ptp(axis=axis, out=out, **kwargs)\n"
     ]
    },
    {
     "data": {
      "text/plain": [
       "Index(['const', 'cancer_volume', 'seminal_vesicle_invasion_0',\n",
       "       'seminal_vesicle_invasion_1'],\n",
       "      dtype='object')"
      ]
     },
     "execution_count": 133,
     "metadata": {},
     "output_type": "execute_result"
    }
   ],
   "source": [
    "X_test = test_df[features]\n",
    "y_test = test_df[\"psa_level\"]\n",
    "X_pred_te = scale_encode(fit_df=X_test, trans_df=X_test, scale_num=False)\n",
    "X_pred_te = sm.add_constant(X_pred_te)[vars_select]\n",
    "X_pred_te.columns"
   ]
  },
  {
   "cell_type": "code",
   "execution_count": 134,
   "metadata": {},
   "outputs": [
    {
     "data": {
      "text/html": [
       "<table class=\"simpletable\">\n",
       "<caption>OLS Regression Results</caption>\n",
       "<tr>\n",
       "  <th>Dep. Variable:</th>        <td>psa_level</td>    <th>  R-squared:         </th> <td>   0.604</td>\n",
       "</tr>\n",
       "<tr>\n",
       "  <th>Model:</th>                   <td>OLS</td>       <th>  Adj. R-squared:    </th> <td>   0.587</td>\n",
       "</tr>\n",
       "<tr>\n",
       "  <th>Method:</th>             <td>Least Squares</td>  <th>  F-statistic:       </th> <td>   37.31</td>\n",
       "</tr>\n",
       "<tr>\n",
       "  <th>Date:</th>             <td>Wed, 20 Nov 2019</td> <th>  Prob (F-statistic):</th> <td>1.42e-10</td>\n",
       "</tr>\n",
       "<tr>\n",
       "  <th>Time:</th>                 <td>23:23:20</td>     <th>  Log-Likelihood:    </th> <td> -250.43</td>\n",
       "</tr>\n",
       "<tr>\n",
       "  <th>No. Observations:</th>      <td>    52</td>      <th>  AIC:               </th> <td>   506.9</td>\n",
       "</tr>\n",
       "<tr>\n",
       "  <th>Df Residuals:</th>          <td>    49</td>      <th>  BIC:               </th> <td>   512.7</td>\n",
       "</tr>\n",
       "<tr>\n",
       "  <th>Df Model:</th>              <td>     2</td>      <th>                     </th>     <td> </td>   \n",
       "</tr>\n",
       "<tr>\n",
       "  <th>Covariance Type:</th>      <td>nonrobust</td>    <th>                     </th>     <td> </td>   \n",
       "</tr>\n",
       "</table>\n",
       "<table class=\"simpletable\">\n",
       "<tr>\n",
       "               <td></td>                 <th>coef</th>     <th>std err</th>      <th>t</th>      <th>P>|t|</th>  <th>[0.025</th>    <th>0.975]</th>  \n",
       "</tr>\n",
       "<tr>\n",
       "  <th>const</th>                      <td>   24.1768</td> <td>    7.502</td> <td>    3.223</td> <td> 0.002</td> <td>    9.100</td> <td>   39.254</td>\n",
       "</tr>\n",
       "<tr>\n",
       "  <th>cancer_volume</th>              <td>    2.8125</td> <td>    0.738</td> <td>    3.813</td> <td> 0.000</td> <td>    1.330</td> <td>    4.295</td>\n",
       "</tr>\n",
       "<tr>\n",
       "  <th>seminal_vesicle_invasion_0</th> <td>  -24.5785</td> <td>    5.914</td> <td>   -4.156</td> <td> 0.000</td> <td>  -36.462</td> <td>  -12.695</td>\n",
       "</tr>\n",
       "<tr>\n",
       "  <th>seminal_vesicle_invasion_1</th> <td>   48.7553</td> <td>   12.247</td> <td>    3.981</td> <td> 0.000</td> <td>   24.143</td> <td>   73.367</td>\n",
       "</tr>\n",
       "</table>\n",
       "<table class=\"simpletable\">\n",
       "<tr>\n",
       "  <th>Omnibus:</th>       <td>23.332</td> <th>  Durbin-Watson:     </th> <td>   1.429</td>\n",
       "</tr>\n",
       "<tr>\n",
       "  <th>Prob(Omnibus):</th> <td> 0.000</td> <th>  Jarque-Bera (JB):  </th> <td> 152.506</td>\n",
       "</tr>\n",
       "<tr>\n",
       "  <th>Skew:</th>          <td> 0.648</td> <th>  Prob(JB):          </th> <td>7.65e-34</td>\n",
       "</tr>\n",
       "<tr>\n",
       "  <th>Kurtosis:</th>      <td>11.289</td> <th>  Cond. No.          </th> <td>1.18e+17</td>\n",
       "</tr>\n",
       "</table><br/><br/>Warnings:<br/>[1] Standard Errors assume that the covariance matrix of the errors is correctly specified.<br/>[2] The smallest eigenvalue is 3.31e-31. This might indicate that there are<br/>strong multicollinearity problems or that the design matrix is singular."
      ],
      "text/plain": [
       "<class 'statsmodels.iolib.summary.Summary'>\n",
       "\"\"\"\n",
       "                            OLS Regression Results                            \n",
       "==============================================================================\n",
       "Dep. Variable:              psa_level   R-squared:                       0.604\n",
       "Model:                            OLS   Adj. R-squared:                  0.587\n",
       "Method:                 Least Squares   F-statistic:                     37.31\n",
       "Date:                Wed, 20 Nov 2019   Prob (F-statistic):           1.42e-10\n",
       "Time:                        23:23:20   Log-Likelihood:                -250.43\n",
       "No. Observations:                  52   AIC:                             506.9\n",
       "Df Residuals:                      49   BIC:                             512.7\n",
       "Df Model:                           2                                         \n",
       "Covariance Type:            nonrobust                                         \n",
       "==============================================================================================\n",
       "                                 coef    std err          t      P>|t|      [0.025      0.975]\n",
       "----------------------------------------------------------------------------------------------\n",
       "const                         24.1768      7.502      3.223      0.002       9.100      39.254\n",
       "cancer_volume                  2.8125      0.738      3.813      0.000       1.330       4.295\n",
       "seminal_vesicle_invasion_0   -24.5785      5.914     -4.156      0.000     -36.462     -12.695\n",
       "seminal_vesicle_invasion_1    48.7553     12.247      3.981      0.000      24.143      73.367\n",
       "==============================================================================\n",
       "Omnibus:                       23.332   Durbin-Watson:                   1.429\n",
       "Prob(Omnibus):                  0.000   Jarque-Bera (JB):              152.506\n",
       "Skew:                           0.648   Prob(JB):                     7.65e-34\n",
       "Kurtosis:                      11.289   Cond. No.                     1.18e+17\n",
       "==============================================================================\n",
       "\n",
       "Warnings:\n",
       "[1] Standard Errors assume that the covariance matrix of the errors is correctly specified.\n",
       "[2] The smallest eigenvalue is 3.31e-31. This might indicate that there are\n",
       "strong multicollinearity problems or that the design matrix is singular.\n",
       "\"\"\""
      ]
     },
     "execution_count": 134,
     "metadata": {},
     "output_type": "execute_result"
    }
   ],
   "source": [
    "model_test = sm.OLS(y_test, X_pred_te).fit()\n",
    "model_test.summary()"
   ]
  },
  {
   "cell_type": "code",
   "execution_count": 135,
   "metadata": {},
   "outputs": [
    {
     "data": {
      "text/html": [
       "<div>\n",
       "<style scoped>\n",
       "    .dataframe tbody tr th:only-of-type {\n",
       "        vertical-align: middle;\n",
       "    }\n",
       "\n",
       "    .dataframe tbody tr th {\n",
       "        vertical-align: top;\n",
       "    }\n",
       "\n",
       "    .dataframe thead th {\n",
       "        text-align: right;\n",
       "    }\n",
       "</style>\n",
       "<table border=\"1\" class=\"dataframe\">\n",
       "  <thead>\n",
       "    <tr style=\"text-align: right;\">\n",
       "      <th></th>\n",
       "      <th>0</th>\n",
       "      <th>1</th>\n",
       "    </tr>\n",
       "  </thead>\n",
       "  <tbody>\n",
       "    <tr>\n",
       "      <th>const</th>\n",
       "      <td>0.564305</td>\n",
       "      <td>17.280895</td>\n",
       "    </tr>\n",
       "    <tr>\n",
       "      <th>cancer_volume</th>\n",
       "      <td>1.493868</td>\n",
       "      <td>3.459580</td>\n",
       "    </tr>\n",
       "    <tr>\n",
       "      <th>seminal_vesicle_invasion_0</th>\n",
       "      <td>-14.713650</td>\n",
       "      <td>-1.010814</td>\n",
       "    </tr>\n",
       "    <tr>\n",
       "      <th>seminal_vesicle_invasion_1</th>\n",
       "      <td>4.017026</td>\n",
       "      <td>29.552639</td>\n",
       "    </tr>\n",
       "  </tbody>\n",
       "</table>\n",
       "</div>"
      ],
      "text/plain": [
       "                                    0          1\n",
       "const                        0.564305  17.280895\n",
       "cancer_volume                1.493868   3.459580\n",
       "seminal_vesicle_invasion_0 -14.713650  -1.010814\n",
       "seminal_vesicle_invasion_1   4.017026  29.552639"
      ]
     },
     "execution_count": 135,
     "metadata": {},
     "output_type": "execute_result"
    }
   ],
   "source": [
    "model_train.conf_int()"
   ]
  },
  {
   "cell_type": "code",
   "execution_count": 136,
   "metadata": {},
   "outputs": [
    {
     "data": {
      "text/html": [
       "<div>\n",
       "<style scoped>\n",
       "    .dataframe tbody tr th:only-of-type {\n",
       "        vertical-align: middle;\n",
       "    }\n",
       "\n",
       "    .dataframe tbody tr th {\n",
       "        vertical-align: top;\n",
       "    }\n",
       "\n",
       "    .dataframe thead th {\n",
       "        text-align: right;\n",
       "    }\n",
       "</style>\n",
       "<table border=\"1\" class=\"dataframe\">\n",
       "  <thead>\n",
       "    <tr style=\"text-align: right;\">\n",
       "      <th></th>\n",
       "      <th>0</th>\n",
       "      <th>1</th>\n",
       "    </tr>\n",
       "  </thead>\n",
       "  <tbody>\n",
       "    <tr>\n",
       "      <th>const</th>\n",
       "      <td>9.100036</td>\n",
       "      <td>39.253527</td>\n",
       "    </tr>\n",
       "    <tr>\n",
       "      <th>cancer_volume</th>\n",
       "      <td>1.330073</td>\n",
       "      <td>4.294882</td>\n",
       "    </tr>\n",
       "    <tr>\n",
       "      <th>seminal_vesicle_invasion_0</th>\n",
       "      <td>-36.462429</td>\n",
       "      <td>-12.694565</td>\n",
       "    </tr>\n",
       "    <tr>\n",
       "      <th>seminal_vesicle_invasion_1</th>\n",
       "      <td>24.143474</td>\n",
       "      <td>73.367083</td>\n",
       "    </tr>\n",
       "  </tbody>\n",
       "</table>\n",
       "</div>"
      ],
      "text/plain": [
       "                                    0          1\n",
       "const                        9.100036  39.253527\n",
       "cancer_volume                1.330073   4.294882\n",
       "seminal_vesicle_invasion_0 -36.462429 -12.694565\n",
       "seminal_vesicle_invasion_1  24.143474  73.367083"
      ]
     },
     "execution_count": 136,
     "metadata": {},
     "output_type": "execute_result"
    }
   ],
   "source": [
    "model_test.conf_int()"
   ]
  },
  {
   "cell_type": "markdown",
   "metadata": {},
   "source": [
    "*Interpretation*\n",
    "\n",
    "*Comparing Coeficients and their s(b):* \n",
    "\n",
    "- We can see that all the three $\\beta$ s for the validation model have significantly higher standard errors compared to those for the ones in training model. We can also see this in the 95% confidence interval. \n",
    "- Also, there is some material differences in the values for the Intercept and the $\\beta$ for `Seminal.vesicle.invasion`.\n",
    "\n",
    "*Comparing MSE and R-squared:* \n",
    "\n",
    "- MSE for the validation model is higher that the one for training model.\n",
    "- Also, multiple$R^2$ for validation model is lower than that for the training model.\n",
    "- This means that the training model is a better fit to the training data compared to validation model is to the validation data.\n",
    "- The above effect is mostly due to the fact that there are more data points in training data set compare to the validation data set."
   ]
  },
  {
   "cell_type": "markdown",
   "metadata": {},
   "source": [
    "**(c)** Calculate the mean squared prediction error (equation 9.20 on the book) and compare it to MSE obtained from the model-building data set. Is there evidence of a substantial bias problem in MSE here? (5pts)\n"
   ]
  },
  {
   "cell_type": "code",
   "execution_count": 137,
   "metadata": {},
   "outputs": [
    {
     "data": {
      "text/plain": [
       "892.6272298667564"
      ]
     },
     "execution_count": 137,
     "metadata": {},
     "output_type": "execute_result"
    }
   ],
   "source": [
    "MSPR = calc_mspr(model=model_test, X=X_pred_te, y=y_test)\n",
    "MSPR"
   ]
  },
  {
   "cell_type": "markdown",
   "metadata": {},
   "source": [
    "\n",
    "*Interpretation:*\n",
    "\n",
    "We can see that the MSPR obtained in part(c) is not significantly different than MSE in part(a). Thus, we can say that there is no evidence of substantial bias problem here."
   ]
  },
  {
   "cell_type": "markdown",
   "metadata": {},
   "source": [
    "**Question 6** Refer to Market share data set. Company executives want to be able to predict market share of their product (Y) based on merchandise price (X1), the gross Nielsen rating points (X2, an index of the amount of advertising exposure that the product received); the presence or absence of a wholesale pricing discount (X3 = 1 if discount present: otherwise X3 = 0); the presence or absence of a package promotion during the period (X4 = 1 if promotion present: otherwise X4 = 0): and year (X5). Code year as a nominal level variable and use 2000 as the referent year. (20 pts)\n",
    "\n",
    "**(a)** Using only first-order terms for predictor variables, find the three best subset regression models according to the SBCp criterion. (7 pts)\n",
    "\n",
    "**Solution:**"
   ]
  },
  {
   "cell_type": "code",
   "execution_count": 163,
   "metadata": {},
   "outputs": [
    {
     "data": {
      "text/plain": [
       "Index(['Market.Share', 'Price', 'Gross.Nielsen.Rating.Points',\n",
       "       'Discount.Price', 'Package.Promotion', 'Month', 'Year'],\n",
       "      dtype='object')"
      ]
     },
     "execution_count": 163,
     "metadata": {},
     "output_type": "execute_result"
    }
   ],
   "source": [
    "market_data = pd.read_csv(\"data/Market Share.csv\")\n",
    "market_data.columns"
   ]
  },
  {
   "cell_type": "code",
   "execution_count": 164,
   "metadata": {},
   "outputs": [],
   "source": [
    "mapper = {\n",
    "    \"Market.Share\": \"market_share\",\n",
    "    \"Price\": \"price\",\n",
    "    \"Gross.Nielsen.Rating.Points\": \"nielsen_rating\",\n",
    "    \"Discount.Price\": \"discount_price\",\n",
    "    \"Package.Promotion\": \"package_promotion\",\n",
    "    \"Month\": \"month\",\n",
    "    \"Year\": \"year\"    \n",
    "}\n",
    "market_data = market_data.rename(columns=mapper)"
   ]
  },
  {
   "cell_type": "code",
   "execution_count": 165,
   "metadata": {},
   "outputs": [],
   "source": [
    "features = [\"price\", \"nielsen_rating\", \"discount_price\",\n",
    "            \"package_promotion\", \"year\"]\n",
    "X = market_data[features]\n",
    "y = market_data[\"market_share\"]"
   ]
  },
  {
   "cell_type": "code",
   "execution_count": 144,
   "metadata": {},
   "outputs": [
    {
     "name": "stdout",
     "output_type": "stream",
     "text": [
      "Processed 5 models on 1 predictors in 0.04529690742492676 seconds.\n",
      "Processed 10 models on 2 predictors in 0.03924441337585449 seconds.\n",
      "Processed 10 models on 3 predictors in 0.037262916564941406 seconds.\n",
      "Processed 5 models on 4 predictors in 0.019700288772583008 seconds.\n",
      "Processed 1 models on 5 predictors in 0.004839181900024414 seconds.\n"
     ]
    },
    {
     "name": "stderr",
     "output_type": "stream",
     "text": [
      "/home/srk-apts/anaconda3/lib/python3.7/site-packages/numpy/core/fromnumeric.py:2389: FutureWarning: Method .ptp is deprecated and will be removed in a future version. Use numpy.ptp instead.\n",
      "  return ptp(axis=axis, out=out, **kwargs)\n",
      "/home/srk-apts/anaconda3/lib/python3.7/site-packages/ipykernel_launcher.py:26: FutureWarning: \n",
      "The current behaviour of 'Series.argmin' is deprecated, use 'idxmin'\n",
      "instead.\n",
      "The behavior of 'argmin' will be corrected to return the positional\n",
      "minimum in the future. For now, use 'series.values.argmin' or\n",
      "'np.argmin(np.array(values))' to get the position of the minimum\n",
      "row.\n"
     ]
    },
    {
     "data": {
      "text/html": [
       "<div>\n",
       "<style scoped>\n",
       "    .dataframe tbody tr th:only-of-type {\n",
       "        vertical-align: middle;\n",
       "    }\n",
       "\n",
       "    .dataframe tbody tr th {\n",
       "        vertical-align: top;\n",
       "    }\n",
       "\n",
       "    .dataframe thead th {\n",
       "        text-align: right;\n",
       "    }\n",
       "</style>\n",
       "<table border=\"1\" class=\"dataframe\">\n",
       "  <thead>\n",
       "    <tr style=\"text-align: right;\">\n",
       "      <th></th>\n",
       "      <th>RSS</th>\n",
       "      <th>model</th>\n",
       "    </tr>\n",
       "  </thead>\n",
       "  <tbody>\n",
       "    <tr>\n",
       "      <th>1</th>\n",
       "      <td>0.916724</td>\n",
       "      <td>&lt;statsmodels.regression.linear_model.Regressio...</td>\n",
       "    </tr>\n",
       "    <tr>\n",
       "      <th>2</th>\n",
       "      <td>0.821468</td>\n",
       "      <td>&lt;statsmodels.regression.linear_model.Regressio...</td>\n",
       "    </tr>\n",
       "    <tr>\n",
       "      <th>3</th>\n",
       "      <td>0.717954</td>\n",
       "      <td>&lt;statsmodels.regression.linear_model.Regressio...</td>\n",
       "    </tr>\n",
       "    <tr>\n",
       "      <th>4</th>\n",
       "      <td>0.689645</td>\n",
       "      <td>&lt;statsmodels.regression.linear_model.Regressio...</td>\n",
       "    </tr>\n",
       "    <tr>\n",
       "      <th>5</th>\n",
       "      <td>0.686662</td>\n",
       "      <td>&lt;statsmodels.regression.linear_model.Regressio...</td>\n",
       "    </tr>\n",
       "  </tbody>\n",
       "</table>\n",
       "</div>"
      ],
      "text/plain": [
       "        RSS                                              model\n",
       "1  0.916724  <statsmodels.regression.linear_model.Regressio...\n",
       "2  0.821468  <statsmodels.regression.linear_model.Regressio...\n",
       "3  0.717954  <statsmodels.regression.linear_model.Regressio...\n",
       "4  0.689645  <statsmodels.regression.linear_model.Regressio...\n",
       "5  0.686662  <statsmodels.regression.linear_model.Regressio..."
      ]
     },
     "execution_count": 144,
     "metadata": {},
     "output_type": "execute_result"
    }
   ],
   "source": [
    "models_best = best_subset_models(X=X, y=y)\n",
    "models_best"
   ]
  },
  {
   "cell_type": "code",
   "execution_count": 145,
   "metadata": {},
   "outputs": [
    {
     "name": "stderr",
     "output_type": "stream",
     "text": [
      "/home/srk-apts/anaconda3/lib/python3.7/site-packages/ipykernel_launcher.py:22: FutureWarning: \n",
      "The current behaviour of 'Series.argmax' is deprecated, use 'idxmax'\n",
      "instead.\n",
      "The behavior of 'argmax' will be corrected to return the positional\n",
      "maximum in the future. For now, use 'series.values.argmax' or\n",
      "'np.argmax(np.array(values))' to get the position of the maximum\n",
      "row.\n",
      "/home/srk-apts/anaconda3/lib/python3.7/site-packages/ipykernel_launcher.py:33: FutureWarning: \n",
      "The current behaviour of 'Series.argmin' is deprecated, use 'idxmin'\n",
      "instead.\n",
      "The behavior of 'argmin' will be corrected to return the positional\n",
      "minimum in the future. For now, use 'series.values.argmin' or\n",
      "'np.argmin(np.array(values))' to get the position of the minimum\n",
      "row.\n",
      "/home/srk-apts/anaconda3/lib/python3.7/site-packages/ipykernel_launcher.py:42: FutureWarning: \n",
      "The current behaviour of 'Series.argmin' is deprecated, use 'idxmin'\n",
      "instead.\n",
      "The behavior of 'argmin' will be corrected to return the positional\n",
      "minimum in the future. For now, use 'series.values.argmin' or\n",
      "'np.argmin(np.array(values))' to get the position of the minimum\n",
      "row.\n",
      "/home/srk-apts/anaconda3/lib/python3.7/site-packages/ipykernel_launcher.py:60: FutureWarning: \n",
      "The current behaviour of 'Series.argmax' is deprecated, use 'idxmax'\n",
      "instead.\n",
      "The behavior of 'argmax' will be corrected to return the positional\n",
      "maximum in the future. For now, use 'series.values.argmax' or\n",
      "'np.argmax(np.array(values))' to get the position of the maximum\n",
      "row.\n"
     ]
    },
    {
     "data": {
      "image/png": "[encoded data removed]",
      "text/plain": [
       "<Figure size 1440x1080 with 5 Axes>"
      ]
     },
     "metadata": {
      "needs_background": "light"
     },
     "output_type": "display_data"
    }
   ],
   "source": [
    "plot_model_stats(models_best)"
   ]
  },
  {
   "cell_type": "code",
   "execution_count": null,
   "metadata": {},
   "outputs": [],
   "source": []
  },
  {
   "cell_type": "markdown",
   "metadata": {},
   "source": [
    "**(b)** Using forward stepwise regression, find the best subset of predictor variables to predict market share of their product. Use α limits of 0.10 and .15 for adding or deleting a predictor, respectively. (7pts)\n",
    "\n",
    "**Solution:**"
   ]
  },
  {
   "cell_type": "code",
   "execution_count": 175,
   "metadata": {},
   "outputs": [
    {
     "name": "stdout",
     "output_type": "stream",
     "text": [
      "Processed  5 models on 1 predictors in 0.04152703285217285 seconds.\n",
      "Processed  4 models on 2 predictors in 0.01680612564086914 seconds.\n",
      "Processed  3 models on 3 predictors in 0.014609575271606445 seconds.\n",
      "Processed  2 models on 4 predictors in 0.008723258972167969 seconds.\n",
      "Processed  1 models on 5 predictors in 0.005418539047241211 seconds.\n"
     ]
    },
    {
     "name": "stderr",
     "output_type": "stream",
     "text": [
      "/home/srk-apts/anaconda3/lib/python3.7/site-packages/numpy/core/fromnumeric.py:2389: FutureWarning: Method .ptp is deprecated and will be removed in a future version. Use numpy.ptp instead.\n",
      "  return ptp(axis=axis, out=out, **kwargs)\n",
      "/home/srk-apts/anaconda3/lib/python3.7/site-packages/ipykernel_launcher.py:58: FutureWarning: \n",
      "The current behaviour of 'Series.argmin' is deprecated, use 'idxmin'\n",
      "instead.\n",
      "The behavior of 'argmin' will be corrected to return the positional\n",
      "minimum in the future. For now, use 'series.values.argmin' or\n",
      "'np.argmin(np.array(values))' to get the position of the minimum\n",
      "row.\n"
     ]
    }
   ],
   "source": [
    "models_fwd = forward_stepwise(X=X, y=y)"
   ]
  },
  {
   "cell_type": "code",
   "execution_count": 176,
   "metadata": {},
   "outputs": [
    {
     "name": "stderr",
     "output_type": "stream",
     "text": [
      "/home/srk-apts/anaconda3/lib/python3.7/site-packages/ipykernel_launcher.py:22: FutureWarning: \n",
      "The current behaviour of 'Series.argmax' is deprecated, use 'idxmax'\n",
      "instead.\n",
      "The behavior of 'argmax' will be corrected to return the positional\n",
      "maximum in the future. For now, use 'series.values.argmax' or\n",
      "'np.argmax(np.array(values))' to get the position of the maximum\n",
      "row.\n",
      "/home/srk-apts/anaconda3/lib/python3.7/site-packages/ipykernel_launcher.py:33: FutureWarning: \n",
      "The current behaviour of 'Series.argmin' is deprecated, use 'idxmin'\n",
      "instead.\n",
      "The behavior of 'argmin' will be corrected to return the positional\n",
      "minimum in the future. For now, use 'series.values.argmin' or\n",
      "'np.argmin(np.array(values))' to get the position of the minimum\n",
      "row.\n",
      "/home/srk-apts/anaconda3/lib/python3.7/site-packages/ipykernel_launcher.py:42: FutureWarning: \n",
      "The current behaviour of 'Series.argmin' is deprecated, use 'idxmin'\n",
      "instead.\n",
      "The behavior of 'argmin' will be corrected to return the positional\n",
      "minimum in the future. For now, use 'series.values.argmin' or\n",
      "'np.argmin(np.array(values))' to get the position of the minimum\n",
      "row.\n",
      "/home/srk-apts/anaconda3/lib/python3.7/site-packages/ipykernel_launcher.py:60: FutureWarning: \n",
      "The current behaviour of 'Series.argmax' is deprecated, use 'idxmax'\n",
      "instead.\n",
      "The behavior of 'argmax' will be corrected to return the positional\n",
      "maximum in the future. For now, use 'series.values.argmax' or\n",
      "'np.argmax(np.array(values))' to get the position of the maximum\n",
      "row.\n"
     ]
    },
    {
     "data": {
      "image/png": "[encoded data removed]",
      "text/plain": [
       "<Figure size 1440x1080 with 5 Axes>"
      ]
     },
     "metadata": {
      "needs_background": "light"
     },
     "output_type": "display_data"
    }
   ],
   "source": [
    "plot_model_stats(models_best=models_fwd)"
   ]
  },
  {
   "cell_type": "code",
   "execution_count": 177,
   "metadata": {},
   "outputs": [
    {
     "name": "stdout",
     "output_type": "stream",
     "text": [
      "Processed  5 models on 6 predictors in 0.03521609306335449 seconds.\n",
      "Processed  4 models on 5 predictors in 0.018202781677246094 seconds.\n",
      "Processed  3 models on 4 predictors in 0.012745857238769531 seconds.\n",
      "Processed  2 models on 3 predictors in 0.007626056671142578 seconds.\n",
      "Processed  1 models on 2 predictors in 0.002999544143676758 seconds.\n"
     ]
    },
    {
     "name": "stderr",
     "output_type": "stream",
     "text": [
      "/home/srk-apts/anaconda3/lib/python3.7/site-packages/ipykernel_launcher.py:92: FutureWarning: \n",
      "The current behaviour of 'Series.argmin' is deprecated, use 'idxmin'\n",
      "instead.\n",
      "The behavior of 'argmin' will be corrected to return the positional\n",
      "minimum in the future. For now, use 'series.values.argmin' or\n",
      "'np.argmin(np.array(values))' to get the position of the minimum\n",
      "row.\n"
     ]
    }
   ],
   "source": [
    "models_bwd = backward_stepwise(X=X, y=y)"
   ]
  },
  {
   "cell_type": "code",
   "execution_count": 172,
   "metadata": {},
   "outputs": [
    {
     "name": "stderr",
     "output_type": "stream",
     "text": [
      "/home/srk-apts/anaconda3/lib/python3.7/site-packages/ipykernel_launcher.py:22: FutureWarning: \n",
      "The current behaviour of 'Series.argmax' is deprecated, use 'idxmax'\n",
      "instead.\n",
      "The behavior of 'argmax' will be corrected to return the positional\n",
      "maximum in the future. For now, use 'series.values.argmax' or\n",
      "'np.argmax(np.array(values))' to get the position of the maximum\n",
      "row.\n",
      "/home/srk-apts/anaconda3/lib/python3.7/site-packages/ipykernel_launcher.py:33: FutureWarning: \n",
      "The current behaviour of 'Series.argmin' is deprecated, use 'idxmin'\n",
      "instead.\n",
      "The behavior of 'argmin' will be corrected to return the positional\n",
      "minimum in the future. For now, use 'series.values.argmin' or\n",
      "'np.argmin(np.array(values))' to get the position of the minimum\n",
      "row.\n",
      "/home/srk-apts/anaconda3/lib/python3.7/site-packages/ipykernel_launcher.py:42: FutureWarning: \n",
      "The current behaviour of 'Series.argmin' is deprecated, use 'idxmin'\n",
      "instead.\n",
      "The behavior of 'argmin' will be corrected to return the positional\n",
      "minimum in the future. For now, use 'series.values.argmin' or\n",
      "'np.argmin(np.array(values))' to get the position of the minimum\n",
      "row.\n",
      "/home/srk-apts/anaconda3/lib/python3.7/site-packages/ipykernel_launcher.py:60: FutureWarning: \n",
      "The current behaviour of 'Series.argmax' is deprecated, use 'idxmax'\n",
      "instead.\n",
      "The behavior of 'argmax' will be corrected to return the positional\n",
      "maximum in the future. For now, use 'series.values.argmax' or\n",
      "'np.argmax(np.array(values))' to get the position of the maximum\n",
      "row.\n"
     ]
    },
    {
     "data": {
      "image/png": "[encoded data removed]",
      "text/plain": [
       "<Figure size 1440x1080 with 5 Axes>"
      ]
     },
     "metadata": {
      "needs_background": "light"
     },
     "output_type": "display_data"
    }
   ],
   "source": [
    "plot_model_stats(models_best=models_fwd)"
   ]
  },
  {
   "cell_type": "code",
   "execution_count": null,
   "metadata": {},
   "outputs": [],
   "source": []
  },
  {
   "cell_type": "code",
   "execution_count": null,
   "metadata": {},
   "outputs": [],
   "source": []
  },
  {
   "cell_type": "code",
   "execution_count": null,
   "metadata": {},
   "outputs": [],
   "source": []
  },
  {
   "cell_type": "code",
   "execution_count": null,
   "metadata": {},
   "outputs": [],
   "source": []
  },
  {
   "cell_type": "code",
   "execution_count": null,
   "metadata": {},
   "outputs": [],
   "source": []
  },
  {
   "cell_type": "code",
   "execution_count": null,
   "metadata": {},
   "outputs": [],
   "source": []
  },
  {
   "cell_type": "code",
   "execution_count": null,
   "metadata": {},
   "outputs": [],
   "source": []
  }
 ],
 "metadata": {
  "kernelspec": {
   "display_name": "Python 3",
   "language": "python",
   "name": "python3"
  },
  "language_info": {
   "codemirror_mode": {
    "name": "ipython",
    "version": 3
   },
   "file_extension": ".py",
   "mimetype": "text/x-python",
   "name": "python",
   "nbconvert_exporter": "python",
   "pygments_lexer": "ipython3",
   "version": "3.7.4"
  }
 },
 "nbformat": 4,
 "nbformat_minor": 2
}
