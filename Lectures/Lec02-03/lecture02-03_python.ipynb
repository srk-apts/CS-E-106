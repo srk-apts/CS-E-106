{
 "cells": [
  {
   "cell_type": "markdown",
   "metadata": {},
   "source": [
    "# CS-E-106: Data Modeling\n",
    "## Fall 2019: Lecture 02-03"
   ]
  },
  {
   "cell_type": "markdown",
   "metadata": {},
   "source": [
    "## Lecture 02"
   ]
  },
  {
   "cell_type": "code",
   "execution_count": 2,
   "metadata": {},
   "outputs": [],
   "source": [
    "import numpy as np\n",
    "import pandas as pd\n",
    "from matplotlib import pyplot as plt\n",
    "import statsmodels.api as sm\n",
    "from statsmodels.formula.api import ols\n",
    "import seaborn as sns\n",
    "from scipy import stats"
   ]
  },
  {
   "cell_type": "code",
   "execution_count": 3,
   "metadata": {},
   "outputs": [
    {
     "data": {
      "text/plain": [
       "(25, 2)"
      ]
     },
     "execution_count": 3,
     "metadata": {},
     "output_type": "execute_result"
    }
   ],
   "source": [
    "toluca_data  = pd.read_csv(\"data/toluca_data.csv\")\n",
    "toluca_data.shape"
   ]
  },
  {
   "cell_type": "markdown",
   "metadata": {},
   "source": [
    "**Note:** We use the formula version of the Ordinary Least Squares function here instead of `sm.OLS()` because the function `sm.stats.anova_lm()` only works on that version. So we can only get the ANOVA table if we use formula.\n",
    "\n",
    "**statsmodels Homepage:** http://www.statsmodels.org/stable/index.html\n",
    "\n",
    "**statsmodels.formula.api:** https://www.statsmodels.org/dev/example_formulas.html"
   ]
  },
  {
   "cell_type": "code",
   "execution_count": 4,
   "metadata": {},
   "outputs": [
    {
     "data": {
      "text/html": [
       "<table class=\"simpletable\">\n",
       "<caption>OLS Regression Results</caption>\n",
       "<tr>\n",
       "  <th>Dep. Variable:</th>         <td>workhrs</td>     <th>  R-squared:         </th> <td>   0.822</td>\n",
       "</tr>\n",
       "<tr>\n",
       "  <th>Model:</th>                   <td>OLS</td>       <th>  Adj. R-squared:    </th> <td>   0.814</td>\n",
       "</tr>\n",
       "<tr>\n",
       "  <th>Method:</th>             <td>Least Squares</td>  <th>  F-statistic:       </th> <td>   105.9</td>\n",
       "</tr>\n",
       "<tr>\n",
       "  <th>Date:</th>             <td>Tue, 08 Oct 2019</td> <th>  Prob (F-statistic):</th> <td>4.45e-10</td>\n",
       "</tr>\n",
       "<tr>\n",
       "  <th>Time:</th>                 <td>15:52:54</td>     <th>  Log-Likelihood:    </th> <td> -131.64</td>\n",
       "</tr>\n",
       "<tr>\n",
       "  <th>No. Observations:</th>      <td>    25</td>      <th>  AIC:               </th> <td>   267.3</td>\n",
       "</tr>\n",
       "<tr>\n",
       "  <th>Df Residuals:</th>          <td>    23</td>      <th>  BIC:               </th> <td>   269.7</td>\n",
       "</tr>\n",
       "<tr>\n",
       "  <th>Df Model:</th>              <td>     1</td>      <th>                     </th>     <td> </td>   \n",
       "</tr>\n",
       "<tr>\n",
       "  <th>Covariance Type:</th>      <td>nonrobust</td>    <th>                     </th>     <td> </td>   \n",
       "</tr>\n",
       "</table>\n",
       "<table class=\"simpletable\">\n",
       "<tr>\n",
       "      <td></td>         <th>coef</th>     <th>std err</th>      <th>t</th>      <th>P>|t|</th>  <th>[0.025</th>    <th>0.975]</th>  \n",
       "</tr>\n",
       "<tr>\n",
       "  <th>Intercept</th> <td>   62.3659</td> <td>   26.177</td> <td>    2.382</td> <td> 0.026</td> <td>    8.214</td> <td>  116.518</td>\n",
       "</tr>\n",
       "<tr>\n",
       "  <th>lotsize</th>   <td>    3.5702</td> <td>    0.347</td> <td>   10.290</td> <td> 0.000</td> <td>    2.852</td> <td>    4.288</td>\n",
       "</tr>\n",
       "</table>\n",
       "<table class=\"simpletable\">\n",
       "<tr>\n",
       "  <th>Omnibus:</th>       <td> 0.608</td> <th>  Durbin-Watson:     </th> <td>   1.432</td>\n",
       "</tr>\n",
       "<tr>\n",
       "  <th>Prob(Omnibus):</th> <td> 0.738</td> <th>  Jarque-Bera (JB):  </th> <td>   0.684</td>\n",
       "</tr>\n",
       "<tr>\n",
       "  <th>Skew:</th>          <td> 0.298</td> <th>  Prob(JB):          </th> <td>   0.710</td>\n",
       "</tr>\n",
       "<tr>\n",
       "  <th>Kurtosis:</th>      <td> 2.450</td> <th>  Cond. No.          </th> <td>    202.</td>\n",
       "</tr>\n",
       "</table><br/><br/>Warnings:<br/>[1] Standard Errors assume that the covariance matrix of the errors is correctly specified."
      ],
      "text/plain": [
       "<class 'statsmodels.iolib.summary.Summary'>\n",
       "\"\"\"\n",
       "                            OLS Regression Results                            \n",
       "==============================================================================\n",
       "Dep. Variable:                workhrs   R-squared:                       0.822\n",
       "Model:                            OLS   Adj. R-squared:                  0.814\n",
       "Method:                 Least Squares   F-statistic:                     105.9\n",
       "Date:                Tue, 08 Oct 2019   Prob (F-statistic):           4.45e-10\n",
       "Time:                        15:52:54   Log-Likelihood:                -131.64\n",
       "No. Observations:                  25   AIC:                             267.3\n",
       "Df Residuals:                      23   BIC:                             269.7\n",
       "Df Model:                           1                                         \n",
       "Covariance Type:            nonrobust                                         \n",
       "==============================================================================\n",
       "                 coef    std err          t      P>|t|      [0.025      0.975]\n",
       "------------------------------------------------------------------------------\n",
       "Intercept     62.3659     26.177      2.382      0.026       8.214     116.518\n",
       "lotsize        3.5702      0.347     10.290      0.000       2.852       4.288\n",
       "==============================================================================\n",
       "Omnibus:                        0.608   Durbin-Watson:                   1.432\n",
       "Prob(Omnibus):                  0.738   Jarque-Bera (JB):                0.684\n",
       "Skew:                           0.298   Prob(JB):                        0.710\n",
       "Kurtosis:                       2.450   Cond. No.                         202.\n",
       "==============================================================================\n",
       "\n",
       "Warnings:\n",
       "[1] Standard Errors assume that the covariance matrix of the errors is correctly specified.\n",
       "\"\"\""
      ]
     },
     "execution_count": 4,
     "metadata": {},
     "output_type": "execute_result"
    }
   ],
   "source": [
    "toluca_data = toluca_data.rename(columns={\"lotsize \":\"lotsize\"})\n",
    "lm_formula = ols(\"workhrs ~ lotsize \", data=toluca_data).fit()\n",
    "lm_formula.summary()"
   ]
  },
  {
   "cell_type": "code",
   "execution_count": 5,
   "metadata": {},
   "outputs": [
    {
     "name": "stderr",
     "output_type": "stream",
     "text": [
      "/home/srk-apts/anaconda3/lib/python3.7/site-packages/numpy/core/fromnumeric.py:2389: FutureWarning: Method .ptp is deprecated and will be removed in a future version. Use numpy.ptp instead.\n",
      "  return ptp(axis=axis, out=out, **kwargs)\n"
     ]
    }
   ],
   "source": [
    "X = sm.add_constant(toluca_data[\"lotsize\"])\n",
    "Y = toluca_data[\"workhrs\"]"
   ]
  },
  {
   "cell_type": "markdown",
   "metadata": {},
   "source": [
    "**T-statistic:**\n",
    "https://docs.scipy.org/doc/scipy-0.14.0/reference/generated/scipy.stats.t.html"
   ]
  },
  {
   "cell_type": "code",
   "execution_count": 10,
   "metadata": {},
   "outputs": [
    {
     "data": {
      "text/plain": [
       "2.222734665439868e-10"
      ]
     },
     "execution_count": 10,
     "metadata": {},
     "output_type": "execute_result"
    }
   ],
   "source": [
    "pr_t = stats.t.sf(np.abs(10.29), 23)\n",
    "pr_t"
   ]
  },
  {
   "cell_type": "markdown",
   "metadata": {},
   "source": [
    "**OLS Regression Results:** https://www.statsmodels.org/dev/generated/statsmodels.regression.linear_model.RegressionResults.html\n",
    "**conf_int:** https://www.statsmodels.org/dev/generated/generated/statsmodels.regression.linear_model.RegressionResults.conf_int.html#statsmodels.regression.linear_model.RegressionResults.conf_int"
   ]
  },
  {
   "cell_type": "code",
   "execution_count": 6,
   "metadata": {},
   "outputs": [
    {
     "data": {
      "text/html": [
       "<div>\n",
       "<style scoped>\n",
       "    .dataframe tbody tr th:only-of-type {\n",
       "        vertical-align: middle;\n",
       "    }\n",
       "\n",
       "    .dataframe tbody tr th {\n",
       "        vertical-align: top;\n",
       "    }\n",
       "\n",
       "    .dataframe thead th {\n",
       "        text-align: right;\n",
       "    }\n",
       "</style>\n",
       "<table border=\"1\" class=\"dataframe\">\n",
       "  <thead>\n",
       "    <tr style=\"text-align: right;\">\n",
       "      <th></th>\n",
       "      <th>0</th>\n",
       "      <th>1</th>\n",
       "    </tr>\n",
       "  </thead>\n",
       "  <tbody>\n",
       "    <tr>\n",
       "      <th>Intercept</th>\n",
       "      <td>8.213711</td>\n",
       "      <td>116.518006</td>\n",
       "    </tr>\n",
       "    <tr>\n",
       "      <th>lotsize</th>\n",
       "      <td>2.852435</td>\n",
       "      <td>4.287969</td>\n",
       "    </tr>\n",
       "  </tbody>\n",
       "</table>\n",
       "</div>"
      ],
      "text/plain": [
       "                  0           1\n",
       "Intercept  8.213711  116.518006\n",
       "lotsize    2.852435    4.287969"
      ]
     },
     "execution_count": 6,
     "metadata": {},
     "output_type": "execute_result"
    }
   ],
   "source": [
    "lm_formula.conf_int(alpha=0.05)"
   ]
  },
  {
   "cell_type": "code",
   "execution_count": 7,
   "metadata": {},
   "outputs": [
    {
     "data": {
      "text/html": [
       "<div>\n",
       "<style scoped>\n",
       "    .dataframe tbody tr th:only-of-type {\n",
       "        vertical-align: middle;\n",
       "    }\n",
       "\n",
       "    .dataframe tbody tr th {\n",
       "        vertical-align: top;\n",
       "    }\n",
       "\n",
       "    .dataframe thead th {\n",
       "        text-align: right;\n",
       "    }\n",
       "</style>\n",
       "<table border=\"1\" class=\"dataframe\">\n",
       "  <thead>\n",
       "    <tr style=\"text-align: right;\">\n",
       "      <th></th>\n",
       "      <th>0</th>\n",
       "      <th>1</th>\n",
       "    </tr>\n",
       "  </thead>\n",
       "  <tbody>\n",
       "    <tr>\n",
       "      <th>Intercept</th>\n",
       "      <td>-11.122986</td>\n",
       "      <td>135.854703</td>\n",
       "    </tr>\n",
       "    <tr>\n",
       "      <th>lotsize</th>\n",
       "      <td>2.596135</td>\n",
       "      <td>4.544269</td>\n",
       "    </tr>\n",
       "  </tbody>\n",
       "</table>\n",
       "</div>"
      ],
      "text/plain": [
       "                   0           1\n",
       "Intercept -11.122986  135.854703\n",
       "lotsize     2.596135    4.544269"
      ]
     },
     "execution_count": 7,
     "metadata": {},
     "output_type": "execute_result"
    }
   ],
   "source": [
    "lm_formula.conf_int(alpha=0.01)"
   ]
  },
  {
   "cell_type": "code",
   "execution_count": 8,
   "metadata": {},
   "outputs": [
    {
     "data": {
      "text/plain": [
       "2.852175809184593"
      ]
     },
     "execution_count": 8,
     "metadata": {},
     "output_type": "execute_result"
    }
   ],
   "source": [
    "# Not expected to do it this way:\n",
    "3.57-stats.t.ppf(1-0.05/2,23)*0.347"
   ]
  },
  {
   "cell_type": "code",
   "execution_count": 9,
   "metadata": {},
   "outputs": [
    {
     "data": {
      "text/plain": [
       "0     347.982020\n",
       "1     169.471919\n",
       "2     240.875960\n",
       "3     383.684040\n",
       "4     312.280000\n",
       "5     276.577980\n",
       "6     490.790101\n",
       "7     347.982020\n",
       "8     419.386061\n",
       "9     240.875960\n",
       "10    205.173939\n",
       "11    312.280000\n",
       "12    383.684040\n",
       "13    133.769899\n",
       "14    455.088081\n",
       "15    419.386061\n",
       "16    169.471919\n",
       "17    240.875960\n",
       "18    383.684040\n",
       "19    455.088081\n",
       "20    169.471919\n",
       "21    383.684040\n",
       "22    205.173939\n",
       "23    347.982020\n",
       "24    312.280000\n",
       "dtype: float64"
      ]
     },
     "execution_count": 9,
     "metadata": {},
     "output_type": "execute_result"
    }
   ],
   "source": [
    "lm_formula.fittedvalues"
   ]
  },
  {
   "cell_type": "markdown",
   "metadata": {},
   "source": [
    "**Confidence & Prediction Interval:** `get_predictions()` method gives us both confidence intervals (`mean_ci_lower` & `mean_ci_upper`) and  prediction intervals (`obs_ci_lower` & `obs_ci_upper`) for each observation in the data frame that is passed to the \"exog\" argument. `mean` is the fitted value of that observtion and `mean_se` is the standard error.\n",
    "**OLS Regression Results:** https://www.statsmodels.org/dev/generated/statsmodels.regression.linear_model.RegressionResults.html\n",
    "**get_prediction():** https://www.statsmodels.org/dev/generated/generated/statsmodels.regression.linear_model.RegressionResults.get_prediction.html#statsmodels.regression.linear_model.RegressionResults.get_prediction"
   ]
  },
  {
   "cell_type": "code",
   "execution_count": 10,
   "metadata": {},
   "outputs": [
    {
     "data": {
      "text/html": [
       "<div>\n",
       "<style scoped>\n",
       "    .dataframe tbody tr th:only-of-type {\n",
       "        vertical-align: middle;\n",
       "    }\n",
       "\n",
       "    .dataframe tbody tr th {\n",
       "        vertical-align: top;\n",
       "    }\n",
       "\n",
       "    .dataframe thead th {\n",
       "        text-align: right;\n",
       "    }\n",
       "</style>\n",
       "<table border=\"1\" class=\"dataframe\">\n",
       "  <thead>\n",
       "    <tr style=\"text-align: right;\">\n",
       "      <th></th>\n",
       "      <th>mean</th>\n",
       "      <th>mean_se</th>\n",
       "      <th>mean_ci_lower</th>\n",
       "      <th>mean_ci_upper</th>\n",
       "      <th>obs_ci_lower</th>\n",
       "      <th>obs_ci_upper</th>\n",
       "    </tr>\n",
       "  </thead>\n",
       "  <tbody>\n",
       "    <tr>\n",
       "      <th>0</th>\n",
       "      <td>347.982020</td>\n",
       "      <td>10.362798</td>\n",
       "      <td>326.544938</td>\n",
       "      <td>369.419102</td>\n",
       "      <td>244.733348</td>\n",
       "      <td>451.230693</td>\n",
       "    </tr>\n",
       "    <tr>\n",
       "      <th>1</th>\n",
       "      <td>169.471919</td>\n",
       "      <td>16.969741</td>\n",
       "      <td>134.367335</td>\n",
       "      <td>204.576503</td>\n",
       "      <td>62.546377</td>\n",
       "      <td>276.397462</td>\n",
       "    </tr>\n",
       "    <tr>\n",
       "      <th>2</th>\n",
       "      <td>240.875960</td>\n",
       "      <td>11.979336</td>\n",
       "      <td>216.094815</td>\n",
       "      <td>265.657105</td>\n",
       "      <td>136.881513</td>\n",
       "      <td>344.870407</td>\n",
       "    </tr>\n",
       "    <tr>\n",
       "      <th>3</th>\n",
       "      <td>383.684040</td>\n",
       "      <td>11.979336</td>\n",
       "      <td>358.902895</td>\n",
       "      <td>408.465185</td>\n",
       "      <td>279.689593</td>\n",
       "      <td>487.678487</td>\n",
       "    </tr>\n",
       "    <tr>\n",
       "      <th>4</th>\n",
       "      <td>312.280000</td>\n",
       "      <td>9.764662</td>\n",
       "      <td>292.080258</td>\n",
       "      <td>332.479742</td>\n",
       "      <td>209.281119</td>\n",
       "      <td>415.278881</td>\n",
       "    </tr>\n",
       "    <tr>\n",
       "      <th>5</th>\n",
       "      <td>276.577980</td>\n",
       "      <td>10.362798</td>\n",
       "      <td>255.140898</td>\n",
       "      <td>298.015062</td>\n",
       "      <td>173.329307</td>\n",
       "      <td>379.826652</td>\n",
       "    </tr>\n",
       "    <tr>\n",
       "      <th>6</th>\n",
       "      <td>490.790101</td>\n",
       "      <td>19.907858</td>\n",
       "      <td>449.607559</td>\n",
       "      <td>531.972643</td>\n",
       "      <td>381.717915</td>\n",
       "      <td>599.862287</td>\n",
       "    </tr>\n",
       "    <tr>\n",
       "      <th>7</th>\n",
       "      <td>347.982020</td>\n",
       "      <td>10.362798</td>\n",
       "      <td>326.544938</td>\n",
       "      <td>369.419102</td>\n",
       "      <td>244.733348</td>\n",
       "      <td>451.230693</td>\n",
       "    </tr>\n",
       "    <tr>\n",
       "      <th>8</th>\n",
       "      <td>419.386061</td>\n",
       "      <td>14.272328</td>\n",
       "      <td>389.861502</td>\n",
       "      <td>448.910620</td>\n",
       "      <td>314.160401</td>\n",
       "      <td>524.611720</td>\n",
       "    </tr>\n",
       "    <tr>\n",
       "      <th>9</th>\n",
       "      <td>240.875960</td>\n",
       "      <td>11.979336</td>\n",
       "      <td>216.094815</td>\n",
       "      <td>265.657105</td>\n",
       "      <td>136.881513</td>\n",
       "      <td>344.870407</td>\n",
       "    </tr>\n",
       "    <tr>\n",
       "      <th>10</th>\n",
       "      <td>205.173939</td>\n",
       "      <td>14.272328</td>\n",
       "      <td>175.649380</td>\n",
       "      <td>234.698498</td>\n",
       "      <td>99.948280</td>\n",
       "      <td>310.399599</td>\n",
       "    </tr>\n",
       "    <tr>\n",
       "      <th>11</th>\n",
       "      <td>312.280000</td>\n",
       "      <td>9.764662</td>\n",
       "      <td>292.080258</td>\n",
       "      <td>332.479742</td>\n",
       "      <td>209.281119</td>\n",
       "      <td>415.278881</td>\n",
       "    </tr>\n",
       "    <tr>\n",
       "      <th>12</th>\n",
       "      <td>383.684040</td>\n",
       "      <td>11.979336</td>\n",
       "      <td>358.902895</td>\n",
       "      <td>408.465185</td>\n",
       "      <td>279.689593</td>\n",
       "      <td>487.678487</td>\n",
       "    </tr>\n",
       "    <tr>\n",
       "      <th>13</th>\n",
       "      <td>133.769899</td>\n",
       "      <td>19.907858</td>\n",
       "      <td>92.587357</td>\n",
       "      <td>174.952441</td>\n",
       "      <td>24.697713</td>\n",
       "      <td>242.842085</td>\n",
       "    </tr>\n",
       "    <tr>\n",
       "      <th>14</th>\n",
       "      <td>455.088081</td>\n",
       "      <td>16.969741</td>\n",
       "      <td>419.983497</td>\n",
       "      <td>490.192665</td>\n",
       "      <td>348.162538</td>\n",
       "      <td>562.013623</td>\n",
       "    </tr>\n",
       "    <tr>\n",
       "      <th>15</th>\n",
       "      <td>419.386061</td>\n",
       "      <td>14.272328</td>\n",
       "      <td>389.861502</td>\n",
       "      <td>448.910620</td>\n",
       "      <td>314.160401</td>\n",
       "      <td>524.611720</td>\n",
       "    </tr>\n",
       "    <tr>\n",
       "      <th>16</th>\n",
       "      <td>169.471919</td>\n",
       "      <td>16.969741</td>\n",
       "      <td>134.367335</td>\n",
       "      <td>204.576503</td>\n",
       "      <td>62.546377</td>\n",
       "      <td>276.397462</td>\n",
       "    </tr>\n",
       "    <tr>\n",
       "      <th>17</th>\n",
       "      <td>240.875960</td>\n",
       "      <td>11.979336</td>\n",
       "      <td>216.094815</td>\n",
       "      <td>265.657105</td>\n",
       "      <td>136.881513</td>\n",
       "      <td>344.870407</td>\n",
       "    </tr>\n",
       "    <tr>\n",
       "      <th>18</th>\n",
       "      <td>383.684040</td>\n",
       "      <td>11.979336</td>\n",
       "      <td>358.902895</td>\n",
       "      <td>408.465185</td>\n",
       "      <td>279.689593</td>\n",
       "      <td>487.678487</td>\n",
       "    </tr>\n",
       "    <tr>\n",
       "      <th>19</th>\n",
       "      <td>455.088081</td>\n",
       "      <td>16.969741</td>\n",
       "      <td>419.983497</td>\n",
       "      <td>490.192665</td>\n",
       "      <td>348.162538</td>\n",
       "      <td>562.013623</td>\n",
       "    </tr>\n",
       "    <tr>\n",
       "      <th>20</th>\n",
       "      <td>169.471919</td>\n",
       "      <td>16.969741</td>\n",
       "      <td>134.367335</td>\n",
       "      <td>204.576503</td>\n",
       "      <td>62.546377</td>\n",
       "      <td>276.397462</td>\n",
       "    </tr>\n",
       "    <tr>\n",
       "      <th>21</th>\n",
       "      <td>383.684040</td>\n",
       "      <td>11.979336</td>\n",
       "      <td>358.902895</td>\n",
       "      <td>408.465185</td>\n",
       "      <td>279.689593</td>\n",
       "      <td>487.678487</td>\n",
       "    </tr>\n",
       "    <tr>\n",
       "      <th>22</th>\n",
       "      <td>205.173939</td>\n",
       "      <td>14.272328</td>\n",
       "      <td>175.649380</td>\n",
       "      <td>234.698498</td>\n",
       "      <td>99.948280</td>\n",
       "      <td>310.399599</td>\n",
       "    </tr>\n",
       "    <tr>\n",
       "      <th>23</th>\n",
       "      <td>347.982020</td>\n",
       "      <td>10.362798</td>\n",
       "      <td>326.544938</td>\n",
       "      <td>369.419102</td>\n",
       "      <td>244.733348</td>\n",
       "      <td>451.230693</td>\n",
       "    </tr>\n",
       "    <tr>\n",
       "      <th>24</th>\n",
       "      <td>312.280000</td>\n",
       "      <td>9.764662</td>\n",
       "      <td>292.080258</td>\n",
       "      <td>332.479742</td>\n",
       "      <td>209.281119</td>\n",
       "      <td>415.278881</td>\n",
       "    </tr>\n",
       "  </tbody>\n",
       "</table>\n",
       "</div>"
      ],
      "text/plain": [
       "          mean    mean_se  mean_ci_lower  mean_ci_upper  obs_ci_lower  \\\n",
       "0   347.982020  10.362798     326.544938     369.419102    244.733348   \n",
       "1   169.471919  16.969741     134.367335     204.576503     62.546377   \n",
       "2   240.875960  11.979336     216.094815     265.657105    136.881513   \n",
       "3   383.684040  11.979336     358.902895     408.465185    279.689593   \n",
       "4   312.280000   9.764662     292.080258     332.479742    209.281119   \n",
       "5   276.577980  10.362798     255.140898     298.015062    173.329307   \n",
       "6   490.790101  19.907858     449.607559     531.972643    381.717915   \n",
       "7   347.982020  10.362798     326.544938     369.419102    244.733348   \n",
       "8   419.386061  14.272328     389.861502     448.910620    314.160401   \n",
       "9   240.875960  11.979336     216.094815     265.657105    136.881513   \n",
       "10  205.173939  14.272328     175.649380     234.698498     99.948280   \n",
       "11  312.280000   9.764662     292.080258     332.479742    209.281119   \n",
       "12  383.684040  11.979336     358.902895     408.465185    279.689593   \n",
       "13  133.769899  19.907858      92.587357     174.952441     24.697713   \n",
       "14  455.088081  16.969741     419.983497     490.192665    348.162538   \n",
       "15  419.386061  14.272328     389.861502     448.910620    314.160401   \n",
       "16  169.471919  16.969741     134.367335     204.576503     62.546377   \n",
       "17  240.875960  11.979336     216.094815     265.657105    136.881513   \n",
       "18  383.684040  11.979336     358.902895     408.465185    279.689593   \n",
       "19  455.088081  16.969741     419.983497     490.192665    348.162538   \n",
       "20  169.471919  16.969741     134.367335     204.576503     62.546377   \n",
       "21  383.684040  11.979336     358.902895     408.465185    279.689593   \n",
       "22  205.173939  14.272328     175.649380     234.698498     99.948280   \n",
       "23  347.982020  10.362798     326.544938     369.419102    244.733348   \n",
       "24  312.280000   9.764662     292.080258     332.479742    209.281119   \n",
       "\n",
       "    obs_ci_upper  \n",
       "0     451.230693  \n",
       "1     276.397462  \n",
       "2     344.870407  \n",
       "3     487.678487  \n",
       "4     415.278881  \n",
       "5     379.826652  \n",
       "6     599.862287  \n",
       "7     451.230693  \n",
       "8     524.611720  \n",
       "9     344.870407  \n",
       "10    310.399599  \n",
       "11    415.278881  \n",
       "12    487.678487  \n",
       "13    242.842085  \n",
       "14    562.013623  \n",
       "15    524.611720  \n",
       "16    276.397462  \n",
       "17    344.870407  \n",
       "18    487.678487  \n",
       "19    562.013623  \n",
       "20    276.397462  \n",
       "21    487.678487  \n",
       "22    310.399599  \n",
       "23    451.230693  \n",
       "24    415.278881  "
      ]
     },
     "execution_count": 10,
     "metadata": {},
     "output_type": "execute_result"
    }
   ],
   "source": [
    "predictions = lm_formula.get_prediction(X)\n",
    "predictions.summary_frame(alpha=0.05)"
   ]
  },
  {
   "cell_type": "markdown",
   "metadata": {},
   "source": [
    "## Lecture 03"
   ]
  },
  {
   "cell_type": "code",
   "execution_count": 11,
   "metadata": {},
   "outputs": [
    {
     "data": {
      "text/html": [
       "<div>\n",
       "<style scoped>\n",
       "    .dataframe tbody tr th:only-of-type {\n",
       "        vertical-align: middle;\n",
       "    }\n",
       "\n",
       "    .dataframe tbody tr th {\n",
       "        vertical-align: top;\n",
       "    }\n",
       "\n",
       "    .dataframe thead th {\n",
       "        text-align: right;\n",
       "    }\n",
       "</style>\n",
       "<table border=\"1\" class=\"dataframe\">\n",
       "  <thead>\n",
       "    <tr style=\"text-align: right;\">\n",
       "      <th></th>\n",
       "      <th>lotsize</th>\n",
       "    </tr>\n",
       "  </thead>\n",
       "  <tbody>\n",
       "    <tr>\n",
       "      <th>0</th>\n",
       "      <td>100</td>\n",
       "    </tr>\n",
       "  </tbody>\n",
       "</table>\n",
       "</div>"
      ],
      "text/plain": [
       "   lotsize\n",
       "0      100"
      ]
     },
     "execution_count": 11,
     "metadata": {},
     "output_type": "execute_result"
    }
   ],
   "source": [
    "Xh = pd.DataFrame([100], columns=[\"lotsize\"])\n",
    "Xh"
   ]
  },
  {
   "cell_type": "code",
   "execution_count": 12,
   "metadata": {},
   "outputs": [
    {
     "data": {
      "text/html": [
       "<div>\n",
       "<style scoped>\n",
       "    .dataframe tbody tr th:only-of-type {\n",
       "        vertical-align: middle;\n",
       "    }\n",
       "\n",
       "    .dataframe tbody tr th {\n",
       "        vertical-align: top;\n",
       "    }\n",
       "\n",
       "    .dataframe thead th {\n",
       "        text-align: right;\n",
       "    }\n",
       "</style>\n",
       "<table border=\"1\" class=\"dataframe\">\n",
       "  <thead>\n",
       "    <tr style=\"text-align: right;\">\n",
       "      <th></th>\n",
       "      <th>mean</th>\n",
       "      <th>mean_se</th>\n",
       "      <th>mean_ci_lower</th>\n",
       "      <th>mean_ci_upper</th>\n",
       "      <th>obs_ci_lower</th>\n",
       "      <th>obs_ci_upper</th>\n",
       "    </tr>\n",
       "  </thead>\n",
       "  <tbody>\n",
       "    <tr>\n",
       "      <th>0</th>\n",
       "      <td>419.386061</td>\n",
       "      <td>14.272328</td>\n",
       "      <td>394.925125</td>\n",
       "      <td>443.846996</td>\n",
       "      <td>332.207177</td>\n",
       "      <td>506.564945</td>\n",
       "    </tr>\n",
       "  </tbody>\n",
       "</table>\n",
       "</div>"
      ],
      "text/plain": [
       "         mean    mean_se  mean_ci_lower  mean_ci_upper  obs_ci_lower  \\\n",
       "0  419.386061  14.272328     394.925125     443.846996    332.207177   \n",
       "\n",
       "   obs_ci_upper  \n",
       "0    506.564945  "
      ]
     },
     "execution_count": 12,
     "metadata": {},
     "output_type": "execute_result"
    }
   ],
   "source": [
    "predictions = lm_formula.get_prediction(Xh)\n",
    "predictions.summary_frame(alpha=0.1)"
   ]
  },
  {
   "cell_type": "code",
   "execution_count": 13,
   "metadata": {},
   "outputs": [
    {
     "data": {
      "text/plain": [
       "48.82331018110064"
      ]
     },
     "execution_count": 13,
     "metadata": {},
     "output_type": "execute_result"
    }
   ],
   "source": [
    "np.sqrt(predictions.var_resid) # this is same as residual.scale in R"
   ]
  },
  {
   "cell_type": "code",
   "execution_count": 14,
   "metadata": {},
   "outputs": [
    {
     "name": "stdout",
     "output_type": "stream",
     "text": [
      "998.2712188862389\n"
     ]
    },
    {
     "data": {
      "text/plain": [
       "(365.23559151935166, 473.53660848064834)"
      ]
     },
     "execution_count": 14,
     "metadata": {},
     "output_type": "execute_result"
    }
   ],
   "source": [
    "# Variance on m new observations\n",
    "\n",
    "MSE = predictions.var_resid\n",
    "VarYhat = (14.272328)**2\n",
    "m = 3\n",
    "var_predmean = MSE/m + VarYhat\n",
    "\n",
    "print(var_predmean)\n",
    "\n",
    "tc=stats.t.ppf(1-0.10/2,23)\n",
    "\n",
    "(419.3861-tc*np.sqrt(var_predmean),419.3861+tc*np.sqrt(var_predmean))\n"
   ]
  },
  {
   "cell_type": "markdown",
   "metadata": {},
   "source": [
    "**F-statistic:** https://docs.scipy.org/doc/scipy/reference/generated/scipy.stats.f.html"
   ]
  },
  {
   "cell_type": "code",
   "execution_count": 15,
   "metadata": {},
   "outputs": [],
   "source": [
    "## Confidence Interval on a Regression Line\n",
    "# Working Hotelling\n",
    "W = np.sqrt( 2 * stats.f.cdf(0.1,2,23))"
   ]
  },
  {
   "cell_type": "code",
   "execution_count": 16,
   "metadata": {},
   "outputs": [],
   "source": [
    "predictions = lm_formula.get_prediction(X)\n",
    "CI = predictions.summary_frame(alpha=0.1)"
   ]
  },
  {
   "cell_type": "code",
   "execution_count": 17,
   "metadata": {},
   "outputs": [
    {
     "data": {
      "text/plain": [
       "array([[324.58278674, 131.1541876 , 213.8265786 , 356.63465941,\n",
       "        290.23136063, 253.17874634, 445.83809092, 324.58278674,\n",
       "        387.15909744, 213.8265786 , 172.94697623, 290.23136063,\n",
       "        356.63465941,  88.81788889, 416.77034921, 387.15909744,\n",
       "        131.1541876 , 213.8265786 , 356.63465941, 416.77034921,\n",
       "        131.1541876 , 356.63465941, 172.94697623, 324.58278674,\n",
       "        290.23136063],\n",
       "       [371.38125366, 207.78965079, 267.92534059, 410.7334214 ,\n",
       "        334.32863937, 299.97721326, 535.74211111, 371.38125366,\n",
       "        451.61302377, 267.92534059, 237.40090256, 334.32863937,\n",
       "        410.7334214 , 178.72190908, 493.4058124 , 451.61302377,\n",
       "        207.78965079, 267.92534059, 410.7334214 , 493.4058124 ,\n",
       "        207.78965079, 410.7334214 , 237.40090256, 371.38125366,\n",
       "        334.32863937]])"
      ]
     },
     "execution_count": 17,
     "metadata": {},
     "output_type": "execute_result"
    }
   ],
   "source": [
    "np.vstack((CI[\"mean\"]-W*CI[\"mean_se\"],CI[\"mean\"]+W*CI[\"mean_se\"]))"
   ]
  },
  {
   "cell_type": "markdown",
   "metadata": {},
   "source": [
    "**ANOVA Table:** https://www.statsmodels.org/0.9.0/generated/statsmodels.stats.anova.anova_lm.html"
   ]
  },
  {
   "cell_type": "code",
   "execution_count": 18,
   "metadata": {},
   "outputs": [
    {
     "data": {
      "text/html": [
       "<div>\n",
       "<style scoped>\n",
       "    .dataframe tbody tr th:only-of-type {\n",
       "        vertical-align: middle;\n",
       "    }\n",
       "\n",
       "    .dataframe tbody tr th {\n",
       "        vertical-align: top;\n",
       "    }\n",
       "\n",
       "    .dataframe thead th {\n",
       "        text-align: right;\n",
       "    }\n",
       "</style>\n",
       "<table border=\"1\" class=\"dataframe\">\n",
       "  <thead>\n",
       "    <tr style=\"text-align: right;\">\n",
       "      <th></th>\n",
       "      <th>df</th>\n",
       "      <th>sum_sq</th>\n",
       "      <th>mean_sq</th>\n",
       "      <th>F</th>\n",
       "      <th>PR(&gt;F)</th>\n",
       "    </tr>\n",
       "  </thead>\n",
       "  <tbody>\n",
       "    <tr>\n",
       "      <th>lotsize</th>\n",
       "      <td>1.0</td>\n",
       "      <td>252377.580808</td>\n",
       "      <td>252377.580808</td>\n",
       "      <td>105.875709</td>\n",
       "      <td>4.448828e-10</td>\n",
       "    </tr>\n",
       "    <tr>\n",
       "      <th>Residual</th>\n",
       "      <td>23.0</td>\n",
       "      <td>54825.459192</td>\n",
       "      <td>2383.715617</td>\n",
       "      <td>NaN</td>\n",
       "      <td>NaN</td>\n",
       "    </tr>\n",
       "  </tbody>\n",
       "</table>\n",
       "</div>"
      ],
      "text/plain": [
       "            df         sum_sq        mean_sq           F        PR(>F)\n",
       "lotsize    1.0  252377.580808  252377.580808  105.875709  4.448828e-10\n",
       "Residual  23.0   54825.459192    2383.715617         NaN           NaN"
      ]
     },
     "execution_count": 18,
     "metadata": {},
     "output_type": "execute_result"
    }
   ],
   "source": [
    "sm.stats.anova_lm(lm_formula)"
   ]
  },
  {
   "cell_type": "markdown",
   "metadata": {},
   "source": [
    "**Correlation Coefficients:**"
   ]
  },
  {
   "cell_type": "markdown",
   "metadata": {},
   "source": [
    "https://docs.scipy.org/doc/scipy/reference/generated/scipy.stats.pearsonr.html\n",
    "https://docs.scipy.org/doc/scipy/reference/generated/scipy.stats.spearmanr.html"
   ]
  },
  {
   "cell_type": "code",
   "execution_count": 3,
   "metadata": {},
   "outputs": [],
   "source": [
    "expenditures = pd.read_csv(\"data/expenditures.csv\")"
   ]
  },
  {
   "cell_type": "code",
   "execution_count": 8,
   "metadata": {},
   "outputs": [
    {
     "data": {
      "text/plain": [
       "(0.6737664071298821, 0.01629169661963086)"
      ]
     },
     "execution_count": 8,
     "metadata": {},
     "output_type": "execute_result"
    }
   ],
   "source": [
    "stats.pearsonr(expenditures[\"Y1\"], expenditures[\"Y2\"])"
   ]
  },
  {
   "cell_type": "code",
   "execution_count": 7,
   "metadata": {},
   "outputs": [
    {
     "data": {
      "text/plain": [
       "SpearmanrResult(correlation=0.8951048951048951, pvalue=8.36658642909172e-05)"
      ]
     },
     "execution_count": 7,
     "metadata": {},
     "output_type": "execute_result"
    }
   ],
   "source": [
    "stats.spearmanr(expenditures[\"Y1\"], expenditures[\"Y2\"])"
   ]
  },
  {
   "cell_type": "code",
   "execution_count": null,
   "metadata": {},
   "outputs": [],
   "source": []
  }
 ],
 "metadata": {
  "kernelspec": {
   "display_name": "Python 3",
   "language": "python",
   "name": "python3"
  },
  "language_info": {
   "codemirror_mode": {
    "name": "ipython",
    "version": 3
   },
   "file_extension": ".py",
   "mimetype": "text/x-python",
   "name": "python",
   "nbconvert_exporter": "python",
   "pygments_lexer": "ipython3",
   "version": "3.7.4"
  }
 },
 "nbformat": 4,
 "nbformat_minor": 2
}
