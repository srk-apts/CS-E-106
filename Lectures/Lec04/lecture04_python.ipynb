{
 "cells": [
  {
   "cell_type": "markdown",
   "metadata": {},
   "source": [
    "# CS-E-106: Data Modeling\n",
    "## Fall 2019: Lecture 04"
   ]
  },
  {
   "cell_type": "markdown",
   "metadata": {},
   "source": [
    "# HW04 covers all the code for Lecture 04-05 and Lab 04-05 material in python"
   ]
  },
  {
   "cell_type": "code",
   "execution_count": 1,
   "metadata": {},
   "outputs": [],
   "source": [
    "import numpy as np\n",
    "import pandas as pd\n",
    "from matplotlib import pyplot as plt\n",
    "import statsmodels.api as sm\n",
    "from statsmodels.formula.api import ols\n",
    "import seaborn as sns\n",
    "from scipy import stats\n",
    "from statsmodels.graphics.gofplots import ProbPlot"
   ]
  },
  {
   "cell_type": "code",
   "execution_count": 2,
   "metadata": {},
   "outputs": [
    {
     "data": {
      "text/plain": [
       "(25, 2)"
      ]
     },
     "execution_count": 2,
     "metadata": {},
     "output_type": "execute_result"
    }
   ],
   "source": [
    "toluca_data  = pd.read_csv(\"data/toluca_data.csv\")\n",
    "toluca_data.shape"
   ]
  },
  {
   "cell_type": "markdown",
   "metadata": {},
   "source": [
    "**Note:** We use the formula version of the Ordinary Least Squares function here instead of `sm.OLS()` because the function `sm.stats.anova_lm()` only works on that version. So we can only get the ANOVA table if we use formula.\n",
    "\n",
    "**statsmodels Homepage:** http://www.statsmodels.org/stable/index.html\n",
    "\n",
    "**statsmodels.formula.api:** https://www.statsmodels.org/dev/example_formulas.html"
   ]
  },
  {
   "cell_type": "code",
   "execution_count": 3,
   "metadata": {},
   "outputs": [
    {
     "data": {
      "text/html": [
       "<table class=\"simpletable\">\n",
       "<caption>OLS Regression Results</caption>\n",
       "<tr>\n",
       "  <th>Dep. Variable:</th>         <td>workhrs</td>     <th>  R-squared:         </th> <td>   0.822</td>\n",
       "</tr>\n",
       "<tr>\n",
       "  <th>Model:</th>                   <td>OLS</td>       <th>  Adj. R-squared:    </th> <td>   0.814</td>\n",
       "</tr>\n",
       "<tr>\n",
       "  <th>Method:</th>             <td>Least Squares</td>  <th>  F-statistic:       </th> <td>   105.9</td>\n",
       "</tr>\n",
       "<tr>\n",
       "  <th>Date:</th>             <td>Tue, 15 Oct 2019</td> <th>  Prob (F-statistic):</th> <td>4.45e-10</td>\n",
       "</tr>\n",
       "<tr>\n",
       "  <th>Time:</th>                 <td>22:52:46</td>     <th>  Log-Likelihood:    </th> <td> -131.64</td>\n",
       "</tr>\n",
       "<tr>\n",
       "  <th>No. Observations:</th>      <td>    25</td>      <th>  AIC:               </th> <td>   267.3</td>\n",
       "</tr>\n",
       "<tr>\n",
       "  <th>Df Residuals:</th>          <td>    23</td>      <th>  BIC:               </th> <td>   269.7</td>\n",
       "</tr>\n",
       "<tr>\n",
       "  <th>Df Model:</th>              <td>     1</td>      <th>                     </th>     <td> </td>   \n",
       "</tr>\n",
       "<tr>\n",
       "  <th>Covariance Type:</th>      <td>nonrobust</td>    <th>                     </th>     <td> </td>   \n",
       "</tr>\n",
       "</table>\n",
       "<table class=\"simpletable\">\n",
       "<tr>\n",
       "      <td></td>         <th>coef</th>     <th>std err</th>      <th>t</th>      <th>P>|t|</th>  <th>[0.025</th>    <th>0.975]</th>  \n",
       "</tr>\n",
       "<tr>\n",
       "  <th>Intercept</th> <td>   62.3659</td> <td>   26.177</td> <td>    2.382</td> <td> 0.026</td> <td>    8.214</td> <td>  116.518</td>\n",
       "</tr>\n",
       "<tr>\n",
       "  <th>lotsize</th>   <td>    3.5702</td> <td>    0.347</td> <td>   10.290</td> <td> 0.000</td> <td>    2.852</td> <td>    4.288</td>\n",
       "</tr>\n",
       "</table>\n",
       "<table class=\"simpletable\">\n",
       "<tr>\n",
       "  <th>Omnibus:</th>       <td> 0.608</td> <th>  Durbin-Watson:     </th> <td>   1.432</td>\n",
       "</tr>\n",
       "<tr>\n",
       "  <th>Prob(Omnibus):</th> <td> 0.738</td> <th>  Jarque-Bera (JB):  </th> <td>   0.684</td>\n",
       "</tr>\n",
       "<tr>\n",
       "  <th>Skew:</th>          <td> 0.298</td> <th>  Prob(JB):          </th> <td>   0.710</td>\n",
       "</tr>\n",
       "<tr>\n",
       "  <th>Kurtosis:</th>      <td> 2.450</td> <th>  Cond. No.          </th> <td>    202.</td>\n",
       "</tr>\n",
       "</table><br/><br/>Warnings:<br/>[1] Standard Errors assume that the covariance matrix of the errors is correctly specified."
      ],
      "text/plain": [
       "<class 'statsmodels.iolib.summary.Summary'>\n",
       "\"\"\"\n",
       "                            OLS Regression Results                            \n",
       "==============================================================================\n",
       "Dep. Variable:                workhrs   R-squared:                       0.822\n",
       "Model:                            OLS   Adj. R-squared:                  0.814\n",
       "Method:                 Least Squares   F-statistic:                     105.9\n",
       "Date:                Tue, 15 Oct 2019   Prob (F-statistic):           4.45e-10\n",
       "Time:                        22:52:46   Log-Likelihood:                -131.64\n",
       "No. Observations:                  25   AIC:                             267.3\n",
       "Df Residuals:                      23   BIC:                             269.7\n",
       "Df Model:                           1                                         \n",
       "Covariance Type:            nonrobust                                         \n",
       "==============================================================================\n",
       "                 coef    std err          t      P>|t|      [0.025      0.975]\n",
       "------------------------------------------------------------------------------\n",
       "Intercept     62.3659     26.177      2.382      0.026       8.214     116.518\n",
       "lotsize        3.5702      0.347     10.290      0.000       2.852       4.288\n",
       "==============================================================================\n",
       "Omnibus:                        0.608   Durbin-Watson:                   1.432\n",
       "Prob(Omnibus):                  0.738   Jarque-Bera (JB):                0.684\n",
       "Skew:                           0.298   Prob(JB):                        0.710\n",
       "Kurtosis:                       2.450   Cond. No.                         202.\n",
       "==============================================================================\n",
       "\n",
       "Warnings:\n",
       "[1] Standard Errors assume that the covariance matrix of the errors is correctly specified.\n",
       "\"\"\""
      ]
     },
     "execution_count": 3,
     "metadata": {},
     "output_type": "execute_result"
    }
   ],
   "source": [
    "toluca_data = toluca_data.rename(columns={\"lotsize \":\"lotsize\"})\n",
    "lm_formula = ols(\"workhrs ~ lotsize \", data=toluca_data).fit()\n",
    "lm_formula.summary()"
   ]
  },
  {
   "cell_type": "markdown",
   "metadata": {},
   "source": [
    "**Emulating R regression plot in python:** https://medium.com/@emredjan/emulating-r-regression-plots-in-python-43741952c034"
   ]
  },
  {
   "cell_type": "code",
   "execution_count": 4,
   "metadata": {},
   "outputs": [],
   "source": [
    "def get_calcs(model_fit):\n",
    "    model_fitted_y = model_fit.fittedvalues\n",
    "\n",
    "    # model residuals\n",
    "    model_residuals = model_fit.resid\n",
    "\n",
    "    # normalized residuals\n",
    "    model_norm_residuals = model_fit.get_influence().resid_studentized_internal\n",
    "\n",
    "    # absolute squared normalized residuals\n",
    "    model_norm_residuals_abs_sqrt = np.sqrt(np.abs(model_norm_residuals))\n",
    "\n",
    "    # absolute residuals\n",
    "    model_abs_resid = np.abs(model_residuals)\n",
    "\n",
    "    # leverage, from statsmodels internals\n",
    "    model_leverage = model_fit.get_influence().hat_matrix_diag\n",
    "\n",
    "    # cook's distance, from statsmodels internals\n",
    "    model_cooks = model_fit.get_influence().cooks_distance[0]\n",
    "    \n",
    "    return(model_fitted_y, model_residuals, model_norm_residuals, \\\n",
    "           model_norm_residuals_abs_sqrt, model_abs_resid, \\\n",
    "           model_leverage, model_cooks)\n",
    "           "
   ]
  },
  {
   "cell_type": "code",
   "execution_count": 5,
   "metadata": {},
   "outputs": [],
   "source": [
    "model_fitted_y, model_residuals, model_norm_residuals, \\\n",
    "    model_norm_residuals_abs_sqrt, model_abs_resid, \\\n",
    "    model_leverage, model_cooks = get_calcs(model_fit=lm_formula)\n",
    "\n",
    "model_fit=lm_formula"
   ]
  },
  {
   "cell_type": "code",
   "execution_count": 6,
   "metadata": {},
   "outputs": [],
   "source": [
    "def resids_vs_fitted(df, y_str):\n",
    "    \n",
    "    \n",
    "    plot_lm_1 = plt.figure(4)\n",
    "#     plot_lm_1.set_figheight(8)\n",
    "#     plot_lm_1.set_figwidth(12)\n",
    "\n",
    "    plot_lm_1.axes[0] = sns.residplot(model_fitted_y, y_str, data=df, \n",
    "                              lowess=True, \n",
    "                              scatter_kws={'alpha': 0.5}, \n",
    "                              line_kws={'color': 'red', 'lw': 1, 'alpha': 0.8})\n",
    "\n",
    "    plot_lm_1.axes[0].set_title('Residuals vs Fitted')\n",
    "    plot_lm_1.axes[0].set_xlabel('Fitted values')\n",
    "    plot_lm_1.axes[0].set_ylabel('Residuals')\n",
    "\n",
    "    # annotations\n",
    "    abs_resid = model_abs_resid.sort_values(ascending=False)\n",
    "    abs_resid_top_3 = abs_resid[:3]\n",
    "\n",
    "    for i in abs_resid_top_3.index:\n",
    "        plot_lm_1.axes[0].annotate(i, \n",
    "                                   xy=(model_fitted_y[i], \n",
    "                                       model_residuals[i]));\n",
    "\n",
    "def qq_plot(model_norm_residuals):\n",
    "    \n",
    "    QQ = ProbPlot(model_norm_residuals)\n",
    "    plot_lm_2 = QQ.qqplot(line='45', alpha=0.5, color='#4C72B0', lw=1)\n",
    "\n",
    "    plot_lm_2.axes[0].set_title('Normal Q-Q')\n",
    "    plot_lm_2.axes[0].set_xlabel('Theoretical Quantiles')\n",
    "    plot_lm_2.axes[0].set_ylabel('Standardized Residuals');\n",
    "\n",
    "    # annotations\n",
    "    abs_norm_resid = np.flip(np.argsort(np.abs(model_norm_residuals)), 0)\n",
    "    abs_norm_resid_top_3 = abs_norm_resid[:3]\n",
    "\n",
    "    for r, i in enumerate(abs_norm_resid_top_3):\n",
    "        plot_lm_2.axes[0].annotate(i, \n",
    "                                   xy=(np.flip(QQ.theoretical_quantiles, 0)[r],\n",
    "                                       model_norm_residuals[i]));\n",
    "        \n",
    "\n",
    "\n",
    "def scale_location_plot():\n",
    "    plot_lm_3 = plt.figure(3)\n",
    "\n",
    "    plt.scatter(model_fitted_y, model_norm_residuals_abs_sqrt, alpha=0.5)\n",
    "    sns.regplot(model_fitted_y, model_norm_residuals_abs_sqrt, \n",
    "                scatter=False, \n",
    "                ci=False, \n",
    "                lowess=True,\n",
    "                line_kws={'color': 'red', 'lw': 1, 'alpha': 0.8})\n",
    "\n",
    "    plot_lm_3.axes[0].set_title('Scale-Location')\n",
    "    plot_lm_3.axes[0].set_xlabel('Fitted values')\n",
    "    plot_lm_3.axes[0].set_ylabel('$\\sqrt{|Standardized Residuals|}$');\n",
    "\n",
    "    # annotations\n",
    "    abs_sq_norm_resid = np.flip(np.argsort(model_norm_residuals_abs_sqrt), 0)\n",
    "    abs_sq_norm_resid_top_3 = abs_sq_norm_resid[:3]\n",
    "\n",
    "    for i in abs_sq_norm_resid_top_3:\n",
    "        plot_lm_3.axes[0].annotate(i, \n",
    "                                   xy=(model_fitted_y[i], \n",
    "                                       model_norm_residuals_abs_sqrt[i]));\n",
    "        \n",
    "\n",
    "def leverage_plot():\n",
    "\n",
    "    plot_lm_4 = plt.figure(4)\n",
    "\n",
    "    plt.scatter(model_leverage, model_norm_residuals, alpha=0.5)\n",
    "    sns.regplot(model_leverage, model_norm_residuals, \n",
    "                scatter=False, \n",
    "                ci=False, \n",
    "                lowess=True,\n",
    "                line_kws={'color': 'red', 'lw': 1, 'alpha': 0.8})\n",
    "\n",
    "    plot_lm_4.axes[0].set_xlim(0, 0.20)\n",
    "    plot_lm_4.axes[0].set_ylim(-3, 5)\n",
    "    plot_lm_4.axes[0].set_title('Residuals vs Leverage')\n",
    "    plot_lm_4.axes[0].set_xlabel('Leverage')\n",
    "    plot_lm_4.axes[0].set_ylabel('Standardized Residuals')\n",
    "\n",
    "    # annotations\n",
    "    leverage_top_3 = np.flip(np.argsort(model_cooks), 0)[:3]\n",
    "\n",
    "    for i in leverage_top_3:\n",
    "        plot_lm_4.axes[0].annotate(i, \n",
    "                                   xy=(model_leverage[i], \n",
    "                                       model_norm_residuals[i]))\n",
    "\n",
    "    # shenanigans for cook's distance contours\n",
    "    def graph(formula, x_range, label=None):\n",
    "        x = x_range\n",
    "        y = formula(x)\n",
    "        plt.plot(x, y, label=label, lw=1, ls='--', color='red')\n",
    "\n",
    "    p = len(model_fit.params) # number of model parameters\n",
    "\n",
    "    graph(lambda x: np.sqrt((0.5 * p * (1 - x)) / x), \n",
    "          np.linspace(0.001, 0.200, 50), \n",
    "          'Cook\\'s distance') # 0.5 line\n",
    "    graph(lambda x: np.sqrt((1 * p * (1 - x)) / x), \n",
    "          np.linspace(0.001, 0.200, 50)) # 1 line\n",
    "    plt.legend(loc='upper right');"
   ]
  },
  {
   "cell_type": "code",
   "execution_count": 7,
   "metadata": {},
   "outputs": [
    {
     "data": {
      "image/png": "[encoded data removed]",
      "text/plain": [
       "<Figure size 432x288 with 1 Axes>"
      ]
     },
     "metadata": {
      "needs_background": "light"
     },
     "output_type": "display_data"
    }
   ],
   "source": [
    "# fig, ax = plt.subplots(2,2, figsize=(10,10))\n",
    "resids_vs_fitted(df=toluca_data, y_str=\"workhrs\")"
   ]
  },
  {
   "cell_type": "code",
   "execution_count": 8,
   "metadata": {},
   "outputs": [
    {
     "data": {
      "image/png": "[encoded data removed]",
      "text/plain": [
       "<Figure size 432x288 with 1 Axes>"
      ]
     },
     "metadata": {
      "needs_background": "light"
     },
     "output_type": "display_data"
    }
   ],
   "source": [
    "qq_plot(model_norm_residuals)"
   ]
  },
  {
   "cell_type": "code",
   "execution_count": 9,
   "metadata": {},
   "outputs": [
    {
     "data": {
      "image/png": "[encoded data removed]",
      "text/plain": [
       "<Figure size 432x288 with 1 Axes>"
      ]
     },
     "metadata": {
      "needs_background": "light"
     },
     "output_type": "display_data"
    }
   ],
   "source": [
    "scale_location_plot()"
   ]
  },
  {
   "cell_type": "code",
   "execution_count": 10,
   "metadata": {},
   "outputs": [
    {
     "data": {
      "image/png": "[encoded data removed]",
      "text/plain": [
       "<Figure size 432x288 with 1 Axes>"
      ]
     },
     "metadata": {
      "needs_background": "light"
     },
     "output_type": "display_data"
    }
   ],
   "source": [
    "leverage_plot()"
   ]
  },
  {
   "cell_type": "code",
   "execution_count": 11,
   "metadata": {},
   "outputs": [
    {
     "data": {
      "text/plain": [
       "<matplotlib.collections.PathCollection at 0x7ff96fccd090>"
      ]
     },
     "execution_count": 11,
     "metadata": {},
     "output_type": "execute_result"
    },
    {
     "data": {
      "image/png": "[encoded data removed]",
      "text/plain": [
       "<Figure size 1080x720 with 4 Axes>"
      ]
     },
     "metadata": {
      "needs_background": "light"
     },
     "output_type": "display_data"
    }
   ],
   "source": [
    "resids = lm_formula.resid\n",
    "fig, ax = plt.subplots(2,2, figsize=(15,10))\n",
    "ax[0,0].boxplot(resids)\n",
    "ax[0,1].scatter(resids, toluca_data[\"workhrs\"])\n",
    "ax[1,0].scatter(resids, toluca_data[\"lotsize\"])\n",
    "ax[1,1].scatter(np.abs(resids), toluca_data[\"lotsize\"])"
   ]
  },
  {
   "cell_type": "code",
   "execution_count": 12,
   "metadata": {},
   "outputs": [
    {
     "data": {
      "text/plain": [
       "{'whiskers': [<matplotlib.lines.Line2D at 0x7ff96fc2d450>,\n",
       "  <matplotlib.lines.Line2D at 0x7ff96fc33610>],\n",
       " 'caps': [<matplotlib.lines.Line2D at 0x7ff96fc33b10>,\n",
       "  <matplotlib.lines.Line2D at 0x7ff96fc330d0>],\n",
       " 'boxes': [<matplotlib.lines.Line2D at 0x7ff96fc2d410>],\n",
       " 'medians': [<matplotlib.lines.Line2D at 0x7ff96fc39590>],\n",
       " 'fliers': [<matplotlib.lines.Line2D at 0x7ff96fc39a90>],\n",
       " 'means': []}"
      ]
     },
     "execution_count": 12,
     "metadata": {},
     "output_type": "execute_result"
    },
    {
     "data": {
      "image/png": "[encoded data removed]",
      "text/plain": [
       "<Figure size 1080x504 with 2 Axes>"
      ]
     },
     "metadata": {
      "needs_background": "light"
     },
     "output_type": "display_data"
    }
   ],
   "source": [
    "std_resids = lm_formula.get_influence().resid_studentized_internal\n",
    "fig, ax = plt.subplots(1,2, figsize=(15,7))\n",
    "ax[0].scatter(range(len(std_resids)), std_resids)\n",
    "ax[1].boxplot(std_resids)"
   ]
  },
  {
   "cell_type": "code",
   "execution_count": 13,
   "metadata": {},
   "outputs": [
    {
     "data": {
      "image/png": "[encoded data removed]",
      "text/plain": [
       "<Figure size 432x288 with 1 Axes>"
      ]
     },
     "metadata": {
      "needs_background": "light"
     },
     "output_type": "display_data"
    }
   ],
   "source": [
    "qq_plot(std_resids) # same exact plot as above"
   ]
  },
  {
   "cell_type": "markdown",
   "metadata": {},
   "source": [
    "**Box-Cox Transformation**"
   ]
  },
  {
   "cell_type": "code",
   "execution_count": 32,
   "metadata": {},
   "outputs": [],
   "source": [
    "y = toluca_data[\"workhrs\"]\n",
    "lmbdas = np.linspace(-5.0,5.0)\n",
    "llf = np.zeros(lmbdas.shape, dtype=float)\n",
    "for ii, lmbda in enumerate(lmbdas):\n",
    "    llf[ii] = stats.boxcox_llf(lmbda, y)"
   ]
  },
  {
   "cell_type": "code",
   "execution_count": 33,
   "metadata": {},
   "outputs": [],
   "source": [
    "y_most_normal, lmbda_optimal = stats.boxcox(y)"
   ]
  },
  {
   "cell_type": "code",
   "execution_count": 34,
   "metadata": {},
   "outputs": [
    {
     "data": {
      "text/plain": [
       "Text(0, 0.5, 'Box-Cox log-likelihood')"
      ]
     },
     "execution_count": 34,
     "metadata": {},
     "output_type": "execute_result"
    },
    {
     "data": {
      "image/png": "[encoded data removed]",
      "text/plain": [
       "<Figure size 504x504 with 1 Axes>"
      ]
     },
     "metadata": {
      "needs_background": "light"
     },
     "output_type": "display_data"
    }
   ],
   "source": [
    "fig, ax = plt.subplots(1,1, figsize=(7,7))\n",
    "ax.plot(lmbdas, llf, 'b.-')\n",
    "ax.axhline(stats.boxcox_llf(lmbda_optimal, y), color='r')\n",
    "ax.set_xlabel('lmbda parameter')\n",
    "ax.set_ylabel('Box-Cox log-likelihood')"
   ]
  },
  {
   "cell_type": "markdown",
   "metadata": {},
   "source": [
    "**Brown-Forsythe Test**"
   ]
  },
  {
   "cell_type": "code",
   "execution_count": 14,
   "metadata": {},
   "outputs": [
    {
     "data": {
      "text/html": [
       "<table class=\"simpletable\">\n",
       "<caption>OLS Regression Results</caption>\n",
       "<tr>\n",
       "  <th>Dep. Variable:</th>         <td>workhrs</td>     <th>  R-squared:         </th> <td>   0.822</td>\n",
       "</tr>\n",
       "<tr>\n",
       "  <th>Model:</th>                   <td>OLS</td>       <th>  Adj. R-squared:    </th> <td>   0.814</td>\n",
       "</tr>\n",
       "<tr>\n",
       "  <th>Method:</th>             <td>Least Squares</td>  <th>  F-statistic:       </th> <td>   105.9</td>\n",
       "</tr>\n",
       "<tr>\n",
       "  <th>Date:</th>             <td>Tue, 15 Oct 2019</td> <th>  Prob (F-statistic):</th> <td>4.45e-10</td>\n",
       "</tr>\n",
       "<tr>\n",
       "  <th>Time:</th>                 <td>22:52:55</td>     <th>  Log-Likelihood:    </th> <td> -131.64</td>\n",
       "</tr>\n",
       "<tr>\n",
       "  <th>No. Observations:</th>      <td>    25</td>      <th>  AIC:               </th> <td>   267.3</td>\n",
       "</tr>\n",
       "<tr>\n",
       "  <th>Df Residuals:</th>          <td>    23</td>      <th>  BIC:               </th> <td>   269.7</td>\n",
       "</tr>\n",
       "<tr>\n",
       "  <th>Df Model:</th>              <td>     1</td>      <th>                     </th>     <td> </td>   \n",
       "</tr>\n",
       "<tr>\n",
       "  <th>Covariance Type:</th>      <td>nonrobust</td>    <th>                     </th>     <td> </td>   \n",
       "</tr>\n",
       "</table>\n",
       "<table class=\"simpletable\">\n",
       "<tr>\n",
       "      <td></td>         <th>coef</th>     <th>std err</th>      <th>t</th>      <th>P>|t|</th>  <th>[0.025</th>    <th>0.975]</th>  \n",
       "</tr>\n",
       "<tr>\n",
       "  <th>Intercept</th> <td>   62.3659</td> <td>   26.177</td> <td>    2.382</td> <td> 0.026</td> <td>    8.214</td> <td>  116.518</td>\n",
       "</tr>\n",
       "<tr>\n",
       "  <th>lotsize</th>   <td>    3.5702</td> <td>    0.347</td> <td>   10.290</td> <td> 0.000</td> <td>    2.852</td> <td>    4.288</td>\n",
       "</tr>\n",
       "</table>\n",
       "<table class=\"simpletable\">\n",
       "<tr>\n",
       "  <th>Omnibus:</th>       <td> 0.608</td> <th>  Durbin-Watson:     </th> <td>   1.432</td>\n",
       "</tr>\n",
       "<tr>\n",
       "  <th>Prob(Omnibus):</th> <td> 0.738</td> <th>  Jarque-Bera (JB):  </th> <td>   0.684</td>\n",
       "</tr>\n",
       "<tr>\n",
       "  <th>Skew:</th>          <td> 0.298</td> <th>  Prob(JB):          </th> <td>   0.710</td>\n",
       "</tr>\n",
       "<tr>\n",
       "  <th>Kurtosis:</th>      <td> 2.450</td> <th>  Cond. No.          </th> <td>    202.</td>\n",
       "</tr>\n",
       "</table><br/><br/>Warnings:<br/>[1] Standard Errors assume that the covariance matrix of the errors is correctly specified."
      ],
      "text/plain": [
       "<class 'statsmodels.iolib.summary.Summary'>\n",
       "\"\"\"\n",
       "                            OLS Regression Results                            \n",
       "==============================================================================\n",
       "Dep. Variable:                workhrs   R-squared:                       0.822\n",
       "Model:                            OLS   Adj. R-squared:                  0.814\n",
       "Method:                 Least Squares   F-statistic:                     105.9\n",
       "Date:                Tue, 15 Oct 2019   Prob (F-statistic):           4.45e-10\n",
       "Time:                        22:52:55   Log-Likelihood:                -131.64\n",
       "No. Observations:                  25   AIC:                             267.3\n",
       "Df Residuals:                      23   BIC:                             269.7\n",
       "Df Model:                           1                                         \n",
       "Covariance Type:            nonrobust                                         \n",
       "==============================================================================\n",
       "                 coef    std err          t      P>|t|      [0.025      0.975]\n",
       "------------------------------------------------------------------------------\n",
       "Intercept     62.3659     26.177      2.382      0.026       8.214     116.518\n",
       "lotsize        3.5702      0.347     10.290      0.000       2.852       4.288\n",
       "==============================================================================\n",
       "Omnibus:                        0.608   Durbin-Watson:                   1.432\n",
       "Prob(Omnibus):                  0.738   Jarque-Bera (JB):                0.684\n",
       "Skew:                           0.298   Prob(JB):                        0.710\n",
       "Kurtosis:                       2.450   Cond. No.                         202.\n",
       "==============================================================================\n",
       "\n",
       "Warnings:\n",
       "[1] Standard Errors assume that the covariance matrix of the errors is correctly specified.\n",
       "\"\"\""
      ]
     },
     "execution_count": 14,
     "metadata": {},
     "output_type": "execute_result"
    }
   ],
   "source": [
    "lm_formula.summary()"
   ]
  },
  {
   "cell_type": "code",
   "execution_count": 15,
   "metadata": {},
   "outputs": [
    {
     "data": {
      "text/plain": [
       "count     25.000000\n",
       "mean      70.000000\n",
       "std       28.722813\n",
       "min       20.000000\n",
       "25%       50.000000\n",
       "50%       70.000000\n",
       "75%       90.000000\n",
       "max      120.000000\n",
       "Name: lotsize, dtype: float64"
      ]
     },
     "execution_count": 15,
     "metadata": {},
     "output_type": "execute_result"
    }
   ],
   "source": [
    "toluca_data.lotsize.describe()"
   ]
  },
  {
   "cell_type": "code",
   "execution_count": 16,
   "metadata": {},
   "outputs": [
    {
     "data": {
      "text/html": [
       "<div>\n",
       "<style scoped>\n",
       "    .dataframe tbody tr th:only-of-type {\n",
       "        vertical-align: middle;\n",
       "    }\n",
       "\n",
       "    .dataframe tbody tr th {\n",
       "        vertical-align: top;\n",
       "    }\n",
       "\n",
       "    .dataframe thead th {\n",
       "        text-align: right;\n",
       "    }\n",
       "</style>\n",
       "<table border=\"1\" class=\"dataframe\">\n",
       "  <thead>\n",
       "    <tr style=\"text-align: right;\">\n",
       "      <th></th>\n",
       "      <th>lotsize</th>\n",
       "      <th>residuals</th>\n",
       "    </tr>\n",
       "  </thead>\n",
       "  <tbody>\n",
       "    <tr>\n",
       "      <th>0</th>\n",
       "      <td>80.0</td>\n",
       "      <td>51.017980</td>\n",
       "    </tr>\n",
       "    <tr>\n",
       "      <th>1</th>\n",
       "      <td>30.0</td>\n",
       "      <td>-48.471919</td>\n",
       "    </tr>\n",
       "    <tr>\n",
       "      <th>2</th>\n",
       "      <td>50.0</td>\n",
       "      <td>-19.875960</td>\n",
       "    </tr>\n",
       "    <tr>\n",
       "      <th>3</th>\n",
       "      <td>90.0</td>\n",
       "      <td>-7.684040</td>\n",
       "    </tr>\n",
       "    <tr>\n",
       "      <th>4</th>\n",
       "      <td>70.0</td>\n",
       "      <td>48.720000</td>\n",
       "    </tr>\n",
       "    <tr>\n",
       "      <th>5</th>\n",
       "      <td>60.0</td>\n",
       "      <td>-52.577980</td>\n",
       "    </tr>\n",
       "    <tr>\n",
       "      <th>6</th>\n",
       "      <td>120.0</td>\n",
       "      <td>55.209899</td>\n",
       "    </tr>\n",
       "    <tr>\n",
       "      <th>7</th>\n",
       "      <td>80.0</td>\n",
       "      <td>4.017980</td>\n",
       "    </tr>\n",
       "    <tr>\n",
       "      <th>8</th>\n",
       "      <td>100.0</td>\n",
       "      <td>-66.386061</td>\n",
       "    </tr>\n",
       "    <tr>\n",
       "      <th>9</th>\n",
       "      <td>50.0</td>\n",
       "      <td>-83.875960</td>\n",
       "    </tr>\n",
       "    <tr>\n",
       "      <th>10</th>\n",
       "      <td>40.0</td>\n",
       "      <td>-45.173939</td>\n",
       "    </tr>\n",
       "    <tr>\n",
       "      <th>11</th>\n",
       "      <td>70.0</td>\n",
       "      <td>-60.280000</td>\n",
       "    </tr>\n",
       "    <tr>\n",
       "      <th>12</th>\n",
       "      <td>90.0</td>\n",
       "      <td>5.315960</td>\n",
       "    </tr>\n",
       "    <tr>\n",
       "      <th>13</th>\n",
       "      <td>20.0</td>\n",
       "      <td>-20.769899</td>\n",
       "    </tr>\n",
       "    <tr>\n",
       "      <th>14</th>\n",
       "      <td>110.0</td>\n",
       "      <td>-20.088081</td>\n",
       "    </tr>\n",
       "    <tr>\n",
       "      <th>15</th>\n",
       "      <td>100.0</td>\n",
       "      <td>0.613939</td>\n",
       "    </tr>\n",
       "    <tr>\n",
       "      <th>16</th>\n",
       "      <td>30.0</td>\n",
       "      <td>42.528081</td>\n",
       "    </tr>\n",
       "    <tr>\n",
       "      <th>17</th>\n",
       "      <td>50.0</td>\n",
       "      <td>27.124040</td>\n",
       "    </tr>\n",
       "    <tr>\n",
       "      <th>18</th>\n",
       "      <td>90.0</td>\n",
       "      <td>-6.684040</td>\n",
       "    </tr>\n",
       "    <tr>\n",
       "      <th>19</th>\n",
       "      <td>110.0</td>\n",
       "      <td>-34.088081</td>\n",
       "    </tr>\n",
       "    <tr>\n",
       "      <th>20</th>\n",
       "      <td>30.0</td>\n",
       "      <td>103.528081</td>\n",
       "    </tr>\n",
       "    <tr>\n",
       "      <th>21</th>\n",
       "      <td>90.0</td>\n",
       "      <td>84.315960</td>\n",
       "    </tr>\n",
       "    <tr>\n",
       "      <th>22</th>\n",
       "      <td>40.0</td>\n",
       "      <td>38.826061</td>\n",
       "    </tr>\n",
       "    <tr>\n",
       "      <th>23</th>\n",
       "      <td>80.0</td>\n",
       "      <td>-5.982020</td>\n",
       "    </tr>\n",
       "    <tr>\n",
       "      <th>24</th>\n",
       "      <td>70.0</td>\n",
       "      <td>10.720000</td>\n",
       "    </tr>\n",
       "  </tbody>\n",
       "</table>\n",
       "</div>"
      ],
      "text/plain": [
       "    lotsize   residuals\n",
       "0      80.0   51.017980\n",
       "1      30.0  -48.471919\n",
       "2      50.0  -19.875960\n",
       "3      90.0   -7.684040\n",
       "4      70.0   48.720000\n",
       "5      60.0  -52.577980\n",
       "6     120.0   55.209899\n",
       "7      80.0    4.017980\n",
       "8     100.0  -66.386061\n",
       "9      50.0  -83.875960\n",
       "10     40.0  -45.173939\n",
       "11     70.0  -60.280000\n",
       "12     90.0    5.315960\n",
       "13     20.0  -20.769899\n",
       "14    110.0  -20.088081\n",
       "15    100.0    0.613939\n",
       "16     30.0   42.528081\n",
       "17     50.0   27.124040\n",
       "18     90.0   -6.684040\n",
       "19    110.0  -34.088081\n",
       "20     30.0  103.528081\n",
       "21     90.0   84.315960\n",
       "22     40.0   38.826061\n",
       "23     80.0   -5.982020\n",
       "24     70.0   10.720000"
      ]
     },
     "execution_count": 16,
     "metadata": {},
     "output_type": "execute_result"
    }
   ],
   "source": [
    "bf_dat = pd.DataFrame((toluca_data.lotsize, resids), index=[\"lotsize\",\"residuals\"])\n",
    "bf_dat = bf_dat.T\n",
    "bf_dat"
   ]
  },
  {
   "cell_type": "code",
   "execution_count": 17,
   "metadata": {},
   "outputs": [
    {
     "data": {
      "text/html": [
       "<div>\n",
       "<style scoped>\n",
       "    .dataframe tbody tr th:only-of-type {\n",
       "        vertical-align: middle;\n",
       "    }\n",
       "\n",
       "    .dataframe tbody tr th {\n",
       "        vertical-align: top;\n",
       "    }\n",
       "\n",
       "    .dataframe thead th {\n",
       "        text-align: right;\n",
       "    }\n",
       "</style>\n",
       "<table border=\"1\" class=\"dataframe\">\n",
       "  <thead>\n",
       "    <tr style=\"text-align: right;\">\n",
       "      <th></th>\n",
       "      <th>lotsize</th>\n",
       "      <th>residuals</th>\n",
       "    </tr>\n",
       "  </thead>\n",
       "  <tbody>\n",
       "    <tr>\n",
       "      <th>1</th>\n",
       "      <td>30.0</td>\n",
       "      <td>-48.471919</td>\n",
       "    </tr>\n",
       "    <tr>\n",
       "      <th>2</th>\n",
       "      <td>50.0</td>\n",
       "      <td>-19.875960</td>\n",
       "    </tr>\n",
       "    <tr>\n",
       "      <th>4</th>\n",
       "      <td>70.0</td>\n",
       "      <td>48.720000</td>\n",
       "    </tr>\n",
       "    <tr>\n",
       "      <th>5</th>\n",
       "      <td>60.0</td>\n",
       "      <td>-52.577980</td>\n",
       "    </tr>\n",
       "    <tr>\n",
       "      <th>9</th>\n",
       "      <td>50.0</td>\n",
       "      <td>-83.875960</td>\n",
       "    </tr>\n",
       "    <tr>\n",
       "      <th>10</th>\n",
       "      <td>40.0</td>\n",
       "      <td>-45.173939</td>\n",
       "    </tr>\n",
       "    <tr>\n",
       "      <th>11</th>\n",
       "      <td>70.0</td>\n",
       "      <td>-60.280000</td>\n",
       "    </tr>\n",
       "    <tr>\n",
       "      <th>13</th>\n",
       "      <td>20.0</td>\n",
       "      <td>-20.769899</td>\n",
       "    </tr>\n",
       "    <tr>\n",
       "      <th>16</th>\n",
       "      <td>30.0</td>\n",
       "      <td>42.528081</td>\n",
       "    </tr>\n",
       "    <tr>\n",
       "      <th>17</th>\n",
       "      <td>50.0</td>\n",
       "      <td>27.124040</td>\n",
       "    </tr>\n",
       "    <tr>\n",
       "      <th>20</th>\n",
       "      <td>30.0</td>\n",
       "      <td>103.528081</td>\n",
       "    </tr>\n",
       "    <tr>\n",
       "      <th>22</th>\n",
       "      <td>40.0</td>\n",
       "      <td>38.826061</td>\n",
       "    </tr>\n",
       "    <tr>\n",
       "      <th>24</th>\n",
       "      <td>70.0</td>\n",
       "      <td>10.720000</td>\n",
       "    </tr>\n",
       "  </tbody>\n",
       "</table>\n",
       "</div>"
      ],
      "text/plain": [
       "    lotsize   residuals\n",
       "1      30.0  -48.471919\n",
       "2      50.0  -19.875960\n",
       "4      70.0   48.720000\n",
       "5      60.0  -52.577980\n",
       "9      50.0  -83.875960\n",
       "10     40.0  -45.173939\n",
       "11     70.0  -60.280000\n",
       "13     20.0  -20.769899\n",
       "16     30.0   42.528081\n",
       "17     50.0   27.124040\n",
       "20     30.0  103.528081\n",
       "22     40.0   38.826061\n",
       "24     70.0   10.720000"
      ]
     },
     "execution_count": 17,
     "metadata": {},
     "output_type": "execute_result"
    }
   ],
   "source": [
    "# Selecting rows less than the median value of \n",
    "# the lotsize (obtained above through summary()).\n",
    "bf_dat1 = bf_dat[bf_dat[\"lotsize\"]<=70]\n",
    "bf_dat1"
   ]
  },
  {
   "cell_type": "code",
   "execution_count": 18,
   "metadata": {},
   "outputs": [
    {
     "data": {
      "text/html": [
       "<div>\n",
       "<style scoped>\n",
       "    .dataframe tbody tr th:only-of-type {\n",
       "        vertical-align: middle;\n",
       "    }\n",
       "\n",
       "    .dataframe tbody tr th {\n",
       "        vertical-align: top;\n",
       "    }\n",
       "\n",
       "    .dataframe thead th {\n",
       "        text-align: right;\n",
       "    }\n",
       "</style>\n",
       "<table border=\"1\" class=\"dataframe\">\n",
       "  <thead>\n",
       "    <tr style=\"text-align: right;\">\n",
       "      <th></th>\n",
       "      <th>lotsize</th>\n",
       "      <th>residuals</th>\n",
       "    </tr>\n",
       "  </thead>\n",
       "  <tbody>\n",
       "    <tr>\n",
       "      <th>0</th>\n",
       "      <td>80.0</td>\n",
       "      <td>51.017980</td>\n",
       "    </tr>\n",
       "    <tr>\n",
       "      <th>3</th>\n",
       "      <td>90.0</td>\n",
       "      <td>-7.684040</td>\n",
       "    </tr>\n",
       "    <tr>\n",
       "      <th>4</th>\n",
       "      <td>70.0</td>\n",
       "      <td>48.720000</td>\n",
       "    </tr>\n",
       "    <tr>\n",
       "      <th>6</th>\n",
       "      <td>120.0</td>\n",
       "      <td>55.209899</td>\n",
       "    </tr>\n",
       "    <tr>\n",
       "      <th>7</th>\n",
       "      <td>80.0</td>\n",
       "      <td>4.017980</td>\n",
       "    </tr>\n",
       "    <tr>\n",
       "      <th>8</th>\n",
       "      <td>100.0</td>\n",
       "      <td>-66.386061</td>\n",
       "    </tr>\n",
       "    <tr>\n",
       "      <th>11</th>\n",
       "      <td>70.0</td>\n",
       "      <td>-60.280000</td>\n",
       "    </tr>\n",
       "    <tr>\n",
       "      <th>12</th>\n",
       "      <td>90.0</td>\n",
       "      <td>5.315960</td>\n",
       "    </tr>\n",
       "    <tr>\n",
       "      <th>14</th>\n",
       "      <td>110.0</td>\n",
       "      <td>-20.088081</td>\n",
       "    </tr>\n",
       "    <tr>\n",
       "      <th>15</th>\n",
       "      <td>100.0</td>\n",
       "      <td>0.613939</td>\n",
       "    </tr>\n",
       "    <tr>\n",
       "      <th>18</th>\n",
       "      <td>90.0</td>\n",
       "      <td>-6.684040</td>\n",
       "    </tr>\n",
       "    <tr>\n",
       "      <th>19</th>\n",
       "      <td>110.0</td>\n",
       "      <td>-34.088081</td>\n",
       "    </tr>\n",
       "    <tr>\n",
       "      <th>21</th>\n",
       "      <td>90.0</td>\n",
       "      <td>84.315960</td>\n",
       "    </tr>\n",
       "    <tr>\n",
       "      <th>23</th>\n",
       "      <td>80.0</td>\n",
       "      <td>-5.982020</td>\n",
       "    </tr>\n",
       "    <tr>\n",
       "      <th>24</th>\n",
       "      <td>70.0</td>\n",
       "      <td>10.720000</td>\n",
       "    </tr>\n",
       "  </tbody>\n",
       "</table>\n",
       "</div>"
      ],
      "text/plain": [
       "    lotsize  residuals\n",
       "0      80.0  51.017980\n",
       "3      90.0  -7.684040\n",
       "4      70.0  48.720000\n",
       "6     120.0  55.209899\n",
       "7      80.0   4.017980\n",
       "8     100.0 -66.386061\n",
       "11     70.0 -60.280000\n",
       "12     90.0   5.315960\n",
       "14    110.0 -20.088081\n",
       "15    100.0   0.613939\n",
       "18     90.0  -6.684040\n",
       "19    110.0 -34.088081\n",
       "21     90.0  84.315960\n",
       "23     80.0  -5.982020\n",
       "24     70.0  10.720000"
      ]
     },
     "execution_count": 18,
     "metadata": {},
     "output_type": "execute_result"
    }
   ],
   "source": [
    "# Selecting rows greater than the median value of \n",
    "# the lotsize (obtained above through summary()).\n",
    "bf_dat2 = bf_dat[bf_dat[\"lotsize\"]>=70]\n",
    "bf_dat2"
   ]
  },
  {
   "cell_type": "code",
   "execution_count": 19,
   "metadata": {},
   "outputs": [
    {
     "data": {
      "text/html": [
       "<div>\n",
       "<style scoped>\n",
       "    .dataframe tbody tr th:only-of-type {\n",
       "        vertical-align: middle;\n",
       "    }\n",
       "\n",
       "    .dataframe tbody tr th {\n",
       "        vertical-align: top;\n",
       "    }\n",
       "\n",
       "    .dataframe thead th {\n",
       "        text-align: right;\n",
       "    }\n",
       "</style>\n",
       "<table border=\"1\" class=\"dataframe\">\n",
       "  <thead>\n",
       "    <tr style=\"text-align: right;\">\n",
       "      <th></th>\n",
       "      <th>lotsize</th>\n",
       "      <th>residuals</th>\n",
       "    </tr>\n",
       "  </thead>\n",
       "  <tbody>\n",
       "    <tr>\n",
       "      <th>count</th>\n",
       "      <td>13.000000</td>\n",
       "      <td>13.000000</td>\n",
       "    </tr>\n",
       "    <tr>\n",
       "      <th>mean</th>\n",
       "      <td>46.923077</td>\n",
       "      <td>-4.583030</td>\n",
       "    </tr>\n",
       "    <tr>\n",
       "      <th>std</th>\n",
       "      <td>17.021856</td>\n",
       "      <td>54.494138</td>\n",
       "    </tr>\n",
       "    <tr>\n",
       "      <th>min</th>\n",
       "      <td>20.000000</td>\n",
       "      <td>-83.875960</td>\n",
       "    </tr>\n",
       "    <tr>\n",
       "      <th>25%</th>\n",
       "      <td>30.000000</td>\n",
       "      <td>-48.471919</td>\n",
       "    </tr>\n",
       "    <tr>\n",
       "      <th>50%</th>\n",
       "      <td>50.000000</td>\n",
       "      <td>-19.875960</td>\n",
       "    </tr>\n",
       "    <tr>\n",
       "      <th>75%</th>\n",
       "      <td>60.000000</td>\n",
       "      <td>38.826061</td>\n",
       "    </tr>\n",
       "    <tr>\n",
       "      <th>max</th>\n",
       "      <td>70.000000</td>\n",
       "      <td>103.528081</td>\n",
       "    </tr>\n",
       "  </tbody>\n",
       "</table>\n",
       "</div>"
      ],
      "text/plain": [
       "         lotsize   residuals\n",
       "count  13.000000   13.000000\n",
       "mean   46.923077   -4.583030\n",
       "std    17.021856   54.494138\n",
       "min    20.000000  -83.875960\n",
       "25%    30.000000  -48.471919\n",
       "50%    50.000000  -19.875960\n",
       "75%    60.000000   38.826061\n",
       "max    70.000000  103.528081"
      ]
     },
     "execution_count": 19,
     "metadata": {},
     "output_type": "execute_result"
    }
   ],
   "source": [
    "bf_dat1.describe()"
   ]
  },
  {
   "cell_type": "code",
   "execution_count": 20,
   "metadata": {},
   "outputs": [
    {
     "data": {
      "text/plain": [
       "1      28.595919\n",
       "2       0.000040\n",
       "4      68.596000\n",
       "5      32.701980\n",
       "9      63.999960\n",
       "10     25.297939\n",
       "11     40.404000\n",
       "13      0.893899\n",
       "16     62.404081\n",
       "17     47.000040\n",
       "20    123.404081\n",
       "22     58.702061\n",
       "24     30.596000\n",
       "Name: residuals, dtype: float64"
      ]
     },
     "execution_count": 20,
     "metadata": {},
     "output_type": "execute_result"
    }
   ],
   "source": [
    "d1i = np.abs(bf_dat1[\"residuals\"]+19.876)\n",
    "d1i"
   ]
  },
  {
   "cell_type": "code",
   "execution_count": 21,
   "metadata": {},
   "outputs": [
    {
     "data": {
      "text/plain": [
       "44.81507692307691"
      ]
     },
     "execution_count": 21,
     "metadata": {},
     "output_type": "execute_result"
    }
   ],
   "source": [
    "np.mean(d1i)"
   ]
  },
  {
   "cell_type": "markdown",
   "metadata": {},
   "source": [
    "**Breusch-Pagan Test** "
   ]
  },
  {
   "cell_type": "code",
   "execution_count": 22,
   "metadata": {},
   "outputs": [
    {
     "data": {
      "text/html": [
       "<table class=\"simpletable\">\n",
       "<caption>OLS Regression Results</caption>\n",
       "<tr>\n",
       "  <th>Dep. Variable:</th>           <td>ei2</td>       <th>  R-squared:         </th> <td>   0.045</td>\n",
       "</tr>\n",
       "<tr>\n",
       "  <th>Model:</th>                   <td>OLS</td>       <th>  Adj. R-squared:    </th> <td>   0.004</td>\n",
       "</tr>\n",
       "<tr>\n",
       "  <th>Method:</th>             <td>Least Squares</td>  <th>  F-statistic:       </th> <td>   1.091</td>\n",
       "</tr>\n",
       "<tr>\n",
       "  <th>Date:</th>             <td>Tue, 15 Oct 2019</td> <th>  Prob (F-statistic):</th>  <td> 0.307</td> \n",
       "</tr>\n",
       "<tr>\n",
       "  <th>Time:</th>                 <td>22:53:00</td>     <th>  Log-Likelihood:    </th> <td> -231.86</td>\n",
       "</tr>\n",
       "<tr>\n",
       "  <th>No. Observations:</th>      <td>    25</td>      <th>  AIC:               </th> <td>   467.7</td>\n",
       "</tr>\n",
       "<tr>\n",
       "  <th>Df Residuals:</th>          <td>    23</td>      <th>  BIC:               </th> <td>   470.2</td>\n",
       "</tr>\n",
       "<tr>\n",
       "  <th>Df Model:</th>              <td>     1</td>      <th>                     </th>     <td> </td>   \n",
       "</tr>\n",
       "<tr>\n",
       "  <th>Covariance Type:</th>      <td>nonrobust</td>    <th>                     </th>     <td> </td>   \n",
       "</tr>\n",
       "</table>\n",
       "<table class=\"simpletable\">\n",
       "<tr>\n",
       "      <td></td>         <th>coef</th>     <th>std err</th>      <th>t</th>      <th>P>|t|</th>  <th>[0.025</th>    <th>0.975]</th>  \n",
       "</tr>\n",
       "<tr>\n",
       "  <th>Intercept</th> <td> 3590.9081</td> <td> 1442.139</td> <td>    2.490</td> <td> 0.020</td> <td>  607.615</td> <td> 6574.201</td>\n",
       "</tr>\n",
       "<tr>\n",
       "  <th>lotsize</th>   <td>  -19.9699</td> <td>   19.115</td> <td>   -1.045</td> <td> 0.307</td> <td>  -59.512</td> <td>   19.573</td>\n",
       "</tr>\n",
       "</table>\n",
       "<table class=\"simpletable\">\n",
       "<tr>\n",
       "  <th>Omnibus:</th>       <td>12.996</td> <th>  Durbin-Watson:     </th> <td>   1.280</td>\n",
       "</tr>\n",
       "<tr>\n",
       "  <th>Prob(Omnibus):</th> <td> 0.002</td> <th>  Jarque-Bera (JB):  </th> <td>  11.781</td>\n",
       "</tr>\n",
       "<tr>\n",
       "  <th>Skew:</th>          <td> 1.498</td> <th>  Prob(JB):          </th> <td> 0.00277</td>\n",
       "</tr>\n",
       "<tr>\n",
       "  <th>Kurtosis:</th>      <td> 4.526</td> <th>  Cond. No.          </th> <td>    202.</td>\n",
       "</tr>\n",
       "</table><br/><br/>Warnings:<br/>[1] Standard Errors assume that the covariance matrix of the errors is correctly specified."
      ],
      "text/plain": [
       "<class 'statsmodels.iolib.summary.Summary'>\n",
       "\"\"\"\n",
       "                            OLS Regression Results                            \n",
       "==============================================================================\n",
       "Dep. Variable:                    ei2   R-squared:                       0.045\n",
       "Model:                            OLS   Adj. R-squared:                  0.004\n",
       "Method:                 Least Squares   F-statistic:                     1.091\n",
       "Date:                Tue, 15 Oct 2019   Prob (F-statistic):              0.307\n",
       "Time:                        22:53:00   Log-Likelihood:                -231.86\n",
       "No. Observations:                  25   AIC:                             467.7\n",
       "Df Residuals:                      23   BIC:                             470.2\n",
       "Df Model:                           1                                         \n",
       "Covariance Type:            nonrobust                                         \n",
       "==============================================================================\n",
       "                 coef    std err          t      P>|t|      [0.025      0.975]\n",
       "------------------------------------------------------------------------------\n",
       "Intercept   3590.9081   1442.139      2.490      0.020     607.615    6574.201\n",
       "lotsize      -19.9699     19.115     -1.045      0.307     -59.512      19.573\n",
       "==============================================================================\n",
       "Omnibus:                       12.996   Durbin-Watson:                   1.280\n",
       "Prob(Omnibus):                  0.002   Jarque-Bera (JB):               11.781\n",
       "Skew:                           1.498   Prob(JB):                      0.00277\n",
       "Kurtosis:                       4.526   Cond. No.                         202.\n",
       "==============================================================================\n",
       "\n",
       "Warnings:\n",
       "[1] Standard Errors assume that the covariance matrix of the errors is correctly specified.\n",
       "\"\"\""
      ]
     },
     "execution_count": 22,
     "metadata": {},
     "output_type": "execute_result"
    }
   ],
   "source": [
    "ei2 = lm_formula.resid**2\n",
    "bp_df = pd.DataFrame((ei2, toluca_data.lotsize), index=[\"ei2\",\"lotsize\"]).T\n",
    "f1 = ols(formula=\"ei2~lotsize\", data=bp_df).fit()\n",
    "f1.summary()"
   ]
  },
  {
   "cell_type": "code",
   "execution_count": 23,
   "metadata": {},
   "outputs": [
    {
     "data": {
      "text/html": [
       "<div>\n",
       "<style scoped>\n",
       "    .dataframe tbody tr th:only-of-type {\n",
       "        vertical-align: middle;\n",
       "    }\n",
       "\n",
       "    .dataframe tbody tr th {\n",
       "        vertical-align: top;\n",
       "    }\n",
       "\n",
       "    .dataframe thead th {\n",
       "        text-align: right;\n",
       "    }\n",
       "</style>\n",
       "<table border=\"1\" class=\"dataframe\">\n",
       "  <thead>\n",
       "    <tr style=\"text-align: right;\">\n",
       "      <th></th>\n",
       "      <th>df</th>\n",
       "      <th>sum_sq</th>\n",
       "      <th>mean_sq</th>\n",
       "      <th>F</th>\n",
       "      <th>PR(&gt;F)</th>\n",
       "    </tr>\n",
       "  </thead>\n",
       "  <tbody>\n",
       "    <tr>\n",
       "      <th>lotsize</th>\n",
       "      <td>1.0</td>\n",
       "      <td>7.896142e+06</td>\n",
       "      <td>7.896142e+06</td>\n",
       "      <td>1.091441</td>\n",
       "      <td>0.307009</td>\n",
       "    </tr>\n",
       "    <tr>\n",
       "      <th>Residual</th>\n",
       "      <td>23.0</td>\n",
       "      <td>1.663959e+08</td>\n",
       "      <td>7.234604e+06</td>\n",
       "      <td>NaN</td>\n",
       "      <td>NaN</td>\n",
       "    </tr>\n",
       "  </tbody>\n",
       "</table>\n",
       "</div>"
      ],
      "text/plain": [
       "            df        sum_sq       mean_sq         F    PR(>F)\n",
       "lotsize    1.0  7.896142e+06  7.896142e+06  1.091441  0.307009\n",
       "Residual  23.0  1.663959e+08  7.234604e+06       NaN       NaN"
      ]
     },
     "execution_count": 23,
     "metadata": {},
     "output_type": "execute_result"
    }
   ],
   "source": [
    "sm.stats.anova_lm(f1)"
   ]
  },
  {
   "cell_type": "code",
   "execution_count": 24,
   "metadata": {},
   "outputs": [
    {
     "data": {
      "text/html": [
       "<div>\n",
       "<style scoped>\n",
       "    .dataframe tbody tr th:only-of-type {\n",
       "        vertical-align: middle;\n",
       "    }\n",
       "\n",
       "    .dataframe tbody tr th {\n",
       "        vertical-align: top;\n",
       "    }\n",
       "\n",
       "    .dataframe thead th {\n",
       "        text-align: right;\n",
       "    }\n",
       "</style>\n",
       "<table border=\"1\" class=\"dataframe\">\n",
       "  <thead>\n",
       "    <tr style=\"text-align: right;\">\n",
       "      <th></th>\n",
       "      <th>df</th>\n",
       "      <th>sum_sq</th>\n",
       "      <th>mean_sq</th>\n",
       "      <th>F</th>\n",
       "      <th>PR(&gt;F)</th>\n",
       "    </tr>\n",
       "  </thead>\n",
       "  <tbody>\n",
       "    <tr>\n",
       "      <th>lotsize</th>\n",
       "      <td>1.0</td>\n",
       "      <td>252377.580808</td>\n",
       "      <td>252377.580808</td>\n",
       "      <td>105.875709</td>\n",
       "      <td>4.448828e-10</td>\n",
       "    </tr>\n",
       "    <tr>\n",
       "      <th>Residual</th>\n",
       "      <td>23.0</td>\n",
       "      <td>54825.459192</td>\n",
       "      <td>2383.715617</td>\n",
       "      <td>NaN</td>\n",
       "      <td>NaN</td>\n",
       "    </tr>\n",
       "  </tbody>\n",
       "</table>\n",
       "</div>"
      ],
      "text/plain": [
       "            df         sum_sq        mean_sq           F        PR(>F)\n",
       "lotsize    1.0  252377.580808  252377.580808  105.875709  4.448828e-10\n",
       "Residual  23.0   54825.459192    2383.715617         NaN           NaN"
      ]
     },
     "execution_count": 24,
     "metadata": {},
     "output_type": "execute_result"
    }
   ],
   "source": [
    "sm.stats.anova_lm(lm_formula)"
   ]
  },
  {
   "cell_type": "code",
   "execution_count": 69,
   "metadata": {},
   "outputs": [
    {
     "data": {
      "text/plain": [
       "0.8209329564761567"
      ]
     },
     "execution_count": 69,
     "metadata": {},
     "output_type": "execute_result"
    }
   ],
   "source": [
    "## Textbook formula\n",
    "SSR1 = 7896142\n",
    "SSE = 54825\n",
    "n = 25\n",
    "X_BP2 = (SSR1/2)/((SSE/n)**2)\n",
    "X_BP2"
   ]
  }
 ],
 "metadata": {
  "kernelspec": {
   "display_name": "Python 3",
   "language": "python",
   "name": "python3"
  },
  "language_info": {
   "codemirror_mode": {
    "name": "ipython",
    "version": 3
   },
   "file_extension": ".py",
   "mimetype": "text/x-python",
   "name": "python",
   "nbconvert_exporter": "python",
   "pygments_lexer": "ipython3",
   "version": "3.7.4"
  }
 },
 "nbformat": 4,
 "nbformat_minor": 2
}
